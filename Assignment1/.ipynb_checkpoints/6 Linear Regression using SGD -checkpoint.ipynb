{
 "cells": [
  {
   "cell_type": "markdown",
   "metadata": {},
   "source": [
    "# Assignment 6 : Implementation of Linear regression using SGD\n",
    "\n",
    "### Aim of this Assignment :\n",
    "\n",
    "* To implement SGD for linear regression and apply it on Boston Home prices dataset. Then compare its MSE with sklearn's LinearRegression and SGDRegressor."
   ]
  },
  {
   "cell_type": "code",
   "execution_count": 1,
   "metadata": {},
   "outputs": [],
   "source": [
    "#Importing required Modules\n",
    "\n",
    "import pandas as pd\n",
    "import numpy as np\n",
    "import seaborn as sns\n",
    "import numpy as np\n",
    "import matplotlib.pyplot as plt\n",
    "from tqdm import tqdm\n",
    "\n",
    "from sklearn.metrics import mean_squared_error\n",
    "from sklearn.datasets import load_boston\n",
    "from sklearn.preprocessing import StandardScaler"
   ]
  },
  {
   "cell_type": "code",
   "execution_count": 2,
   "metadata": {},
   "outputs": [
    {
     "name": "stdout",
     "output_type": "stream",
     "text": [
      "Shape :  (506, 13)\n",
      "\n",
      "Feature Names : \n",
      " ['CRIM' 'ZN' 'INDUS' 'CHAS' 'NOX' 'RM' 'AGE' 'DIS' 'RAD' 'TAX' 'PTRATIO'\n",
      " 'B' 'LSTAT']\n"
     ]
    },
    {
     "data": {
      "text/plain": [
       "pandas.core.frame.DataFrame"
      ]
     },
     "execution_count": 2,
     "metadata": {},
     "output_type": "execute_result"
    }
   ],
   "source": [
    "#Loading Boston Home prices DataSet in X(Features) and Y(Output values i.e. PRICE)\n",
    "\n",
    "boston = load_boston()\n",
    "print(\"Shape : \",boston.data.shape)\n",
    "print(\"\\nFeature Names : \\n\",boston.feature_names)\n",
    "\n",
    "bos = pd.DataFrame(boston.data)\n",
    "bos['PRICE'] = boston.target\n",
    "\n",
    "X = bos.drop('PRICE', axis = 1)\n",
    "Y = bos['PRICE']\n",
    "\n",
    "type(X)"
   ]
  },
  {
   "cell_type": "code",
   "execution_count": 3,
   "metadata": {
    "scrolled": true
   },
   "outputs": [
    {
     "name": "stdout",
     "output_type": "stream",
     "text": [
      "X Train :  (354, 13)\n",
      "X Test :  (152, 13)\n",
      "Y Train :  (354,)\n",
      "Y Test :  (152,)\n"
     ]
    }
   ],
   "source": [
    "#Splitting the Data in Train and test randomly with 70:30 split and then standerdizing the Train and Test Dataset\n",
    "\n",
    "from sklearn.model_selection import train_test_split\n",
    "X_train, X_test, Y_train, Y_test = train_test_split(X, Y, test_size = 0.30, random_state = 5)\n",
    "print(\"X Train : \",X_train.shape)\n",
    "print(\"X Test : \",X_test.shape)\n",
    "print(\"Y Train : \",Y_train.shape)\n",
    "print(\"Y Test : \",Y_test.shape)\n",
    "\n",
    "std = StandardScaler(with_mean=True)\n",
    "X_train = pd.DataFrame(data=std.fit_transform(X_train), index=X_train.index) \n",
    "X_test = pd.DataFrame(data=std.transform(X_test), index=X_test.index)"
   ]
  },
  {
   "cell_type": "markdown",
   "metadata": {},
   "source": [
    "## Writing some function to implement SGD from scratch for Linear Regression"
   ]
  },
  {
   "cell_type": "code",
   "execution_count": 4,
   "metadata": {},
   "outputs": [],
   "source": [
    "def dl_dw(w, w0, X, Y):\n",
    "    '''Function to compute partial differentiation wrt w'''\n",
    "    add=np.zeros((13,))\n",
    "    df=pd.concat([X, Y],axis=1)\n",
    "    for i in range(df.shape[0]):   #Computing sum of Xi*(Yi-wT.Xi-w0) [sum of Xi*error]\n",
    "        Xi= df.iloc[i, :13]\n",
    "        Yi= df.iloc[i, 13:14]\n",
    "        add += Xi * (Yi - w0 - w.dot(Xi)).values[0]\n",
    "    return (-2/df.shape[0])*add\n",
    "\n",
    "def dl_dw0(w, w0, X, Y):\n",
    "    '''Function to compute partial differentiation wrt w0'''\n",
    "    add=0\n",
    "    df=pd.concat([X, Y],axis=1)\n",
    "    for i in range(df.shape[0]):   #Computing sum of Yi-wT.Xi-w0 i.e. sum of error\n",
    "        Xi= df.iloc[i, :13]\n",
    "        Yi= df.iloc[i, 13:14]\n",
    "        add += Yi - w0 - w.dot(Xi)\n",
    "    return (-2/df.shape[0])*add.values[0]\n",
    "\n",
    "def predict(w, w0, X):\n",
    "    '''Function to predict values using w and w0 given Xi'''\n",
    "    pred=list()\n",
    "    for i in range(X.shape[0]):\n",
    "        error= w0 + w.dot(X.iloc[i,:13])\n",
    "        pred.append(error)\n",
    "    return pred\n",
    "\n",
    "def LinearRegressionSGD(X,Y, r=0.001, max_iter=2000, batch_size=20):\n",
    "    w = np.zeros((13,))    #np.random.randn(13)\n",
    "    w0 = 0   #np.random.randn()\n",
    "    w_list=[]\n",
    "    w0_list=[]\n",
    "    for i in tqdm(range(max_iter)):\n",
    "        index=np.random.randint(0, high=X.shape[0], size=batch_size)\n",
    "        X_sample=X.iloc[index,:]\n",
    "        Y_sample=Y.iloc[index]\n",
    "        w_next=w- r*np.array(dl_dw(w, w0, X_sample, Y_sample))\n",
    "        w0_next=w0-r*(dl_dw0(w, w0, X_sample, Y_sample))\n",
    "    \n",
    "        w_list.append(w)\n",
    "        w0_list.append(w0)\n",
    "    \n",
    "        if (abs(w0_next-w0)<0.0001 and np.sum((w_next-w)**2)<1.5*10**-5):\n",
    "            print(\"Converged in %d iterations\"%i)\n",
    "            break\n",
    "    \n",
    "        w=w_next\n",
    "        w0=w0_next\n",
    "        \n",
    "    return w_list, w0_list"
   ]
  },
  {
   "cell_type": "code",
   "execution_count": 5,
   "metadata": {},
   "outputs": [
    {
     "name": "stderr",
     "output_type": "stream",
     "text": [
      " 57%|█████▊    | 1725/3000 [01:03<00:53, 23.65it/s]"
     ]
    },
    {
     "name": "stdout",
     "output_type": "stream",
     "text": [
      "Converged in 1727 iterations\n"
     ]
    },
    {
     "name": "stderr",
     "output_type": "stream",
     "text": [
      "\r",
      " 57%|█████▊    | 1725/3000 [01:20<00:53, 23.65it/s]"
     ]
    }
   ],
   "source": [
    "#Getting w and w0\n",
    "\n",
    "w_l, w0_l = LinearRegressionSGD(X_train, Y_train, max_iter=3000, batch_size=25)"
   ]
  },
  {
   "cell_type": "code",
   "execution_count": 6,
   "metadata": {},
   "outputs": [
    {
     "data": {
      "image/png": "[encoded data removed]",
      "text/plain": [
       "<Figure size 432x288 with 1 Axes>"
      ]
     },
     "metadata": {},
     "output_type": "display_data"
    },
    {
     "name": "stdout",
     "output_type": "stream",
     "text": [
      "MSE :  33.45191258778695\n"
     ]
    }
   ],
   "source": [
    "#Predicting MSE and plotting error for Test Datasets\n",
    "\n",
    "pred=predict(w_l[-1], w0_l[-1], X_test)\n",
    "\n",
    "delta_y = Y_test - np.array(pred).ravel()\n",
    "sns.set_style('whitegrid')\n",
    "sns.kdeplot(np.array(delta_y), bw=0.5)\n",
    "plt.title(\"Distribution of errors using our own SGD Implementation\")\n",
    "plt.legend(['prob', 'error'])\n",
    "plt.show()\n",
    "print(\"MSE : \", mean_squared_error(Y_test, pred))"
   ]
  },
  {
   "cell_type": "markdown",
   "metadata": {},
   "source": [
    "## Plotting errors from sklearn.linear_model.LinearRegression and finding MSE "
   ]
  },
  {
   "cell_type": "code",
   "execution_count": 7,
   "metadata": {},
   "outputs": [
    {
     "data": {
      "image/png": "[encoded data removed]",
      "text/plain": [
       "<Figure size 432x288 with 1 Axes>"
      ]
     },
     "metadata": {},
     "output_type": "display_data"
    },
    {
     "data": {
      "text/plain": [
       "30.703232207218914"
      ]
     },
     "execution_count": 7,
     "metadata": {},
     "output_type": "execute_result"
    }
   ],
   "source": [
    "from sklearn.linear_model import LinearRegression\n",
    "lr=LinearRegression(n_jobs=4)\n",
    "lr.fit(X_train, Y_train)\n",
    "\n",
    "pred = lr.predict(X_test)\n",
    "\n",
    "delta_y = Y_test - pred\n",
    "import seaborn as sns;\n",
    "import numpy as np;\n",
    "import matplotlib.pyplot as plt\n",
    "sns.set_style('whitegrid')\n",
    "sns.kdeplot(np.array(delta_y), bw=0.5)\n",
    "plt.title(\"Distribution of errors\")\n",
    "plt.legend(['prob', 'error'])\n",
    "plt.show()\n",
    "\n",
    "from sklearn.metrics import mean_squared_error\n",
    "mean_squared_error(Y_test, pred)"
   ]
  },
  {
   "cell_type": "markdown",
   "metadata": {},
   "source": [
    "## Plotting errors from sklearn.linear_model.SGDRegressor and finding MSE "
   ]
  },
  {
   "cell_type": "code",
   "execution_count": 8,
   "metadata": {},
   "outputs": [
    {
     "name": "stderr",
     "output_type": "stream",
     "text": [
      "/home/het/anaconda3/lib/python3.6/site-packages/sklearn/linear_model/stochastic_gradient.py:128: FutureWarning: max_iter and tol parameters have been added in <class 'sklearn.linear_model.stochastic_gradient.SGDRegressor'> in 0.19. If both are left unset, they default to max_iter=5 and tol=None. If tol is not None, max_iter defaults to max_iter=1000. From 0.21, default max_iter will be 1000, and default tol will be 1e-3.\n",
      "  \"and default tol will be 1e-3.\" % type(self), FutureWarning)\n"
     ]
    },
    {
     "data": {
      "image/png": "[encoded data removed]",
      "text/plain": [
       "<Figure size 432x288 with 1 Axes>"
      ]
     },
     "metadata": {},
     "output_type": "display_data"
    },
    {
     "data": {
      "text/plain": [
       "33.5402580681661"
      ]
     },
     "execution_count": 8,
     "metadata": {},
     "output_type": "execute_result"
    }
   ],
   "source": [
    "from sklearn.linear_model import SGDRegressor\n",
    "sgdr=SGDRegressor()\n",
    "sgdr.fit(X_train, Y_train)\n",
    "\n",
    "pred = sgdr.predict(X_test)\n",
    "\n",
    "delta_y = Y_test - pred\n",
    "import seaborn as sns;\n",
    "import numpy as np;\n",
    "import matplotlib.pyplot as plt\n",
    "sns.set_style('whitegrid')\n",
    "sns.kdeplot(np.array(delta_y), bw=0.5)\n",
    "plt.title(\"Distribution of errors\")\n",
    "plt.legend(['prob', 'error'])\n",
    "plt.show()\n",
    "\n",
    "from sklearn.metrics import mean_squared_error\n",
    "mean_squared_error(Y_test, pred)"
   ]
  },
  {
   "cell_type": "markdown",
   "metadata": {},
   "source": [
    "# Observations :\n",
    "\n",
    "* Here as we can see that we got best MSE for sklearn's LinearRegressor, but all the three that we explored gave very similar MSE. \n",
    "<br>\n",
    "\n",
    "\n",
    "* It is worth mentioning that Training time of our own implementation was high as compared to sklearn's implementations. But test time will be same as we are just performing multiplication and addition in testing so test time will be very low.  \n",
    "<br>\n",
    "\n",
    "* The overall performance measures are summarized in the table below.\n",
    "\n",
    "\n",
    "| Model                                 | MSE   |\n",
    "|---------------------------------------|-------|\n",
    "| Our Implementation                    | 33.45 |\n",
    "| sklearn.linear_model.LinearRegression | 30.7  |\n",
    "| sklearn.linear_model.SGDRegressor     | 33.54 |\n",
    "<br>\n",
    "\n",
    "* Here is the images of the error distributions that we got in this assignment side by side.\n",
    "<br>\n",
    "\n",
    "<img src='err1.png' style='float:left;height:196px;width:284px'><img src='err2.png' style='float:left;height:196px;width:284px'><img src='err3.png' style='float:left;height:196px;width:284px'>"
   ]
  }
 ],
 "metadata": {
  "kernelspec": {
   "display_name": "Python 3",
   "language": "python",
   "name": "python3"
  },
  "language_info": {
   "codemirror_mode": {
    "name": "ipython",
    "version": 3
   },
   "file_extension": ".py",
   "mimetype": "text/x-python",
   "name": "python",
   "nbconvert_exporter": "python",
   "pygments_lexer": "ipython3",
   "version": "3.6.5"
  }
 },
 "nbformat": 4,
 "nbformat_minor": 2
}
