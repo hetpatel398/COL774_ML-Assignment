{
 "cells": [
  {
   "cell_type": "code",
   "execution_count": 1,
   "metadata": {},
   "outputs": [],
   "source": [
    "import numpy as np\n",
    "import pandas as pd\n",
    "import matplotlib.pyplot as plt\n",
    "from tqdm import tqdm\n",
    "import math\n",
    "\n",
    "from sklearn.neural_network import MLPClassifier\n",
    "from time import time\n",
    "# np.random.seed(0)"
   ]
  },
  {
   "cell_type": "code",
   "execution_count": 2,
   "metadata": {},
   "outputs": [],
   "source": [
    "train_data = np.genfromtxt('data/train.csv', delimiter=',')\n",
    "test_data = np.genfromtxt('data/test.csv', delimiter=',')"
   ]
  },
  {
   "cell_type": "code",
   "execution_count": 3,
   "metadata": {},
   "outputs": [],
   "source": [
    "def one_hot_encode(Y):\n",
    "    classes_ = np.unique(Y)\n",
    "    n_classes = classes_.shape[0]\n",
    "    Y_oh = np.zeros((Y.shape[0], n_classes), dtype=np.bool)\n",
    "    i=0\n",
    "    for y in Y:\n",
    "        Y_oh[int(i)][int(y)]=1\n",
    "        i+=1\n",
    "    return Y_oh\n",
    "\n",
    "X_train = train_data[:,:-1]/255\n",
    "Y_train_orig = train_data[:,-1]\n",
    "X_test = test_data[:,:-1]/255\n",
    "Y_test_orig = test_data[:,-1]\n",
    "\n",
    "Y_train = one_hot_encode(Y_train_orig)\n",
    "Y_test = one_hot_encode(Y_test_orig)"
   ]
  },
  {
   "cell_type": "markdown",
   "metadata": {},
   "source": [
    "# Implementing MLP"
   ]
  },
  {
   "cell_type": "code",
   "execution_count": 4,
   "metadata": {},
   "outputs": [],
   "source": [
    "class sigmoid:\n",
    "    '''\n",
    "    Sigmoid activation function\n",
    "    '''\n",
    "    def f(x):\n",
    "        return 1/(1+np.exp(-1*x))\n",
    "    def df(x):\n",
    "        return x*(1-x)\n",
    "    \n",
    "class ReLU:\n",
    "    '''\n",
    "    ReLU activation function\n",
    "    '''\n",
    "    def f(x):\n",
    "        x_=x.copy()\n",
    "        x_[x_<0]=0\n",
    "        return x_\n",
    "    def df(x):\n",
    "        x_=x.copy()\n",
    "        x_[x_>0]=1\n",
    "        return x_\n",
    "\n",
    "class MLP:\n",
    "    '''\n",
    "        Implementation of Multi-layer perceptron for multi-class classification\n",
    "\n",
    "        Parameters:\n",
    "        *******************\n",
    "\n",
    "        input_size(Default:784) : [int]\n",
    "            Dimenstions of input dataset, also neurons in input layer\n",
    "\n",
    "        layers([100,]) : [list]\n",
    "            List containing number of hidden neurons in hidden layers\n",
    "\n",
    "        output_size(Default:26) : [int]\n",
    "            Number of classes in output label\n",
    "            \n",
    "        batch_size(Default:100) : [int]\n",
    "            Batch size for mini batch SGD\n",
    "        \n",
    "        lr(Default:0.1) : [float]\n",
    "            Learning rate (Seed learning rate for adaptive learning rate)\n",
    "        \n",
    "        adaptive_lr(Default:False) : [boolean]\n",
    "            Flag suggesting use of adaptive learning rate.\n",
    "            This is like inverse scaling learning rate and \n",
    "            in each epoch learning rate will be lr/sqrt(n_epoch)\n",
    "            \n",
    "        activation_fn(Default:'sigmoid') : [string]\n",
    "            Activation function for neurons. Can pass either 'sigmoid'\n",
    "            or 'relu'. Note that actiavtion function for neurons in\n",
    "            output layer will always be sigmoid.\n",
    "            \n",
    "        max_epoch(Default:1000): [int]\n",
    "            Maximum number of epoch that SGD can run\n",
    "        \n",
    "        tol(Default:1e-4) : [float]\n",
    "            Tolerence that will be used for stopping criteria for SGD.\n",
    "            \n",
    "            If early_stopping=False:\n",
    "                loss for n_iter_no_change is not reducing by tol then stop\n",
    "            If early_stopping=True:\n",
    "                validation accuracy for n_iter_no_change does not increase by tol then stop\n",
    "        \n",
    "        n_iter_no_change(Default:10) : [int]\n",
    "            Used for stopping criteria for SGD\n",
    "            \n",
    "        initialization(Default:'glorot-uniform') : [string]\n",
    "            Method to use for weight initialization\n",
    "            \n",
    "            Available methods:\n",
    "            1. 'glorot-normal':\n",
    "                Normal distribution with mean=0 and scale=sqrt(2/(fan_in+fan_out))\n",
    "            2. 'glorot-uniform':\n",
    "                Uniform distribution with low=sqrt(6/(fan_in+fan_out))\n",
    "                and high=sqrt(6/(fan_in+fan_out))\n",
    "            3. 'he-normal':\n",
    "                Normal distribution with mean=0 and scale=sqrt(2/fan_in)\n",
    "            4. 'he-uniform':\n",
    "                Uniform distribution with low=sqrt(6/fan_in) and high=sqrt(6/fan_in)\n",
    "            5. 'normal':\n",
    "                Normal distribution with mean=0 and scale=0.05\n",
    "            6. 'uniform':\n",
    "                Uniform distribution with low=-0.05 and high=0.05\n",
    "                \n",
    "        early_stopping(Default:False) : [boolean]\n",
    "            if Ture then set aside 10% of Train dataset as validation dataset\n",
    "            and then use accuracy on that validation dataset in each epoch for\n",
    "            stopping criteria for SGD\n",
    "            \n",
    "        loss_fn(Default:'squared-loss') : [string]\n",
    "            Loss_function used for optimization problem\n",
    "            Available options are 'squared-loss' and 'cross-entropy'\n",
    "\n",
    "        Attributes:\n",
    "        *******************\n",
    "\n",
    "        layers : [list]\n",
    "            List containg number of neurons in each layer including input and output layers\n",
    "        n_layers : [int]\n",
    "            number of layers in network including input and output layers\n",
    "        weights : [list]\n",
    "            list of length (n_layers-1) containing weight matrices\n",
    "        intercepts : [list]\n",
    "            list of length n_layers containing intercept lists\n",
    "        loss_lst : [list]\n",
    "            list of accumulated loss calculated in each epoch\n",
    "\n",
    "        Methods:\n",
    "        *******************\n",
    "\n",
    "        fit(self, X, Y) : [None]\n",
    "            This method trains MLP using batch SGD. If you feelmlike stopping training \n",
    "            anytime and get the weights learned till that time just Interrupt and the \n",
    "            training will be stopped(Here Y should be one-hot encoded matrix)\n",
    "\n",
    "        predict(self, X) : [array]\n",
    "            Returns predicted one-hot encoded output matrix generated by our model\n",
    "            shape : (n_samples,n_classes)\n",
    "\n",
    "        predict_proba(self, X) : [array]\n",
    "            Returns probabilities generated for each class label by our model\n",
    "            shape : (n_samples,n_classes)\n",
    "        \n",
    "        predict_log_proba(self, X) : [array]\n",
    "            Returns log probabilities generated for each class label by our model\n",
    "            shape : (n_samples,n_classes)\n",
    "        \n",
    "        score(self, X, Y) : [float]\n",
    "            Returns accuracy over dataset X and ground truth Y\n",
    "    '''\n",
    "    def __init__(self, input_size=784, layers=[100,], output_size=26,\\\n",
    "                 batch_size=100, lr=0.1, adaptive_lr=False, activation_fn='sigmoid',\\\n",
    "                 max_epoch=1000, tol=1e-4, n_iter_no_change=10, initialization='glorot-uniform',\\\n",
    "                 early_stopping=False, loss_fn='squared-loss'):\n",
    "        self.input_size=input_size;\n",
    "        self.layers=layers;\n",
    "        self.output_size=output_size;\n",
    "        self.batch_size=batch_size;\n",
    "        self.lr=lr\n",
    "        self.adaptive_lr=adaptive_lr\n",
    "        self.activation_fn=activation_fn\n",
    "        self.max_epoch=max_epoch\n",
    "        self.tol=tol\n",
    "        self.n_iter_no_change=n_iter_no_change\n",
    "        self.initialization = initialization\n",
    "        self.early_stopping = early_stopping\n",
    "        self.loss_fn = loss_fn\n",
    "        \n",
    "        if activation_fn=='sigmoid':\n",
    "            self.activation_class = sigmoid\n",
    "        elif activation_fn=='relu':\n",
    "            self.activation_class = ReLU\n",
    "        else:\n",
    "            raise Exception(\"Enter valid activation_fn\")\n",
    "        \n",
    "        self.layers.insert(0, self.input_size); self.layers.append(self.output_size)\n",
    "        self.n_layers = len(self.layers)\n",
    "        \n",
    "    \n",
    "    def __str__(self):\n",
    "        return \"\"\"MLP(input_size=%s, layers=%s, output_size=%s, batch_size=%s,\n",
    "    lr=%s, adaptive_lr=%s, activation_fn=%s, max_epoch=%s, tol=%s,\n",
    "    n_iter_no_change=%s, initialization=%s, early_stopping=%s, loss_fn=%s)\"\"\"%\\\n",
    "                (self.input_size, self.layers[1:-1], self.output_size,\\\n",
    "                self.batch_size, self.lr, self.adaptive_lr, self.activation_fn,\\\n",
    "                self.max_epoch, self.tol, self.n_iter_no_change, self.initialization,\\\n",
    "                self.early_stopping, self.loss_fn)\n",
    "    \n",
    "    def __repr__(self):\n",
    "        return self.__str__()\n",
    "    \n",
    "    def fit(self, X, Y):\n",
    "        '''\n",
    "        This method trains MLP model using given train dataset using batch SGD\n",
    "        '''\n",
    "#         np.random.seed(0)\n",
    "        \n",
    "        f = self.activation_class.f\n",
    "        df = self.activation_class.df\n",
    "        \n",
    "        X_train, Y_train = X, Y\n",
    "        \n",
    "        #Generating Validation dataset for early stopping\n",
    "        if self.early_stopping:\n",
    "            val_indices = np.random.choice(X.shape[0], size=int(X.shape[0]*0.1))\n",
    "            train_indices = np.setdiff1d(list(range(X.shape[0])), val_indices)\n",
    "            X_train, Y_train = X[train_indices], Y[train_indices]\n",
    "            X_val, Y_val = X[val_indices], Y[val_indices]\n",
    "\n",
    "        cnt_no_change=0\n",
    "        self.loss_lst=[np.inf]\n",
    "        best_loss=np.inf\n",
    "        best_val_score=0\n",
    "        \n",
    "        #Initializing weights and intercept terms\n",
    "        self._intialize_weights(method=self.initialization)\n",
    "        \n",
    "        try:\n",
    "            for self.n_epoch in (range(self.max_epoch)):\n",
    "                loss_sum=0\n",
    "                \n",
    "                #Shuffling train dataset\n",
    "                indices = np.random.choice(X_train.shape[0], size=X_train.shape[0])\n",
    "                X_train_ = X_train[indices]\n",
    "                Y_train_ = Y_train[indices]\n",
    "\n",
    "                if self.adaptive_lr:\n",
    "                    lr=self.lr/math.sqrt(self.n_epoch+1)\n",
    "                else:\n",
    "                    lr=self.lr\n",
    "\n",
    "                for i in range(0, X_train.shape[0], self.batch_size):\n",
    "                    X_=X_train_[i:i+self.batch_size,:]\n",
    "                    Y_=Y_train_[i:i+self.batch_size,:]\n",
    "\n",
    "                    # Forward-prop\n",
    "                    output = self._forward_prop(X_)\n",
    "\n",
    "                    # Back-Prop\n",
    "                    memo, updates = self._back_prop(output, Y_)\n",
    "\n",
    "                    #Computing loss\n",
    "                    loss_sum+=self._compute_loss(X_, Y_)\n",
    "\n",
    "                    # Update\n",
    "                    for i in range(self.n_layers-1):\n",
    "                        self.intercepts[i]=self.intercepts[i] - lr * np.sum(memo[i],axis=0)\n",
    "                        self.weights[i]=self.weights[i] - lr * updates[i]\n",
    "                        \n",
    "                loss=loss_sum/math.ceil(X_train.shape[0]/self.batch_size)\n",
    "                self.loss_lst.append(loss)\n",
    "#                 print(loss)\n",
    "                \n",
    "                #Checking for convergence\n",
    "                if self.early_stopping:\n",
    "                    val_score = self.score(X_val, Y_val)\n",
    "                    if(val_score-best_val_score<self.tol):\n",
    "                        cnt_no_change+=1\n",
    "                    else:\n",
    "                        cnt_no_change=0\n",
    "                    if(val_score>best_val_score):\n",
    "                        best_val_score=val_score\n",
    "                else:\n",
    "                    if(best_loss-self.loss_lst[-1]<self.tol):\n",
    "                        cnt_no_change+=1\n",
    "                    else:\n",
    "                        cnt_no_change=0\n",
    "                    if(self.loss_lst[-1]<best_loss):\n",
    "                        best_loss=self.loss_lst[-1]\n",
    "                \n",
    "                if(cnt_no_change==self.n_iter_no_change):\n",
    "                    print('Converged in %d epochs'%(self.n_epoch))\n",
    "                    break\n",
    "                    \n",
    "        except KeyboardInterrupt:\n",
    "            print(\"Training interrupted by user after %d epochs\"%(self.n_epoch))\n",
    "                \n",
    "    def _forward_prop(self,X):\n",
    "        \"\"\"\n",
    "        Returns output generated by each layers for the given X\n",
    "        \"\"\"\n",
    "        f = self.activation_class.f\n",
    "        output=[X]\n",
    "        for i in range(self.n_layers-2):\n",
    "            output.append(f(np.dot(output[-1],self.weights[i])+self.intercepts[i]))\n",
    "        output.append(sigmoid.f(np.dot(output[-1],self.weights[-1])+self.intercepts[-1]))\n",
    "        return output\n",
    "    \n",
    "    def _back_prop(self, output, Y):\n",
    "        '''\n",
    "        Returns memoization i.e. deltas and gradients for update in SGD for each weight arrays \n",
    "        '''\n",
    "        df=self.activation_class.df\n",
    "        \n",
    "        memo = []\n",
    "        updates = []\n",
    "        if self.loss_fn=='squared-loss':\n",
    "            curr_memo = (-1/self.batch_size)*(np.multiply(Y-output[-1],sigmoid.df(output[-1])))\n",
    "        elif self.loss_fn=='cross-entropy':\n",
    "            curr_memo = (-1/self.batch_size)*(Y-output[-1])\n",
    "        memo.insert(0,curr_memo)\n",
    "        curr_update = np.dot(output[-2].T, curr_memo)\n",
    "        updates.insert(0,curr_update)\n",
    "        for i in range(self.n_layers-2, 0, -1):\n",
    "            curr_memo = np.multiply(memo[0].dot(self.weights[i].T),df(output[i]))\n",
    "            memo.insert(0,curr_memo)\n",
    "            curr_update = (output[i-1].T).dot(curr_memo)\n",
    "            updates.insert(0,curr_update)\n",
    "        \n",
    "        return memo, updates\n",
    "    \n",
    "    def _compute_loss(self, X, Y):\n",
    "        '''\n",
    "        Returns loss value for given X and Y\n",
    "        '''\n",
    "        output = self._forward_prop(X)\n",
    "        if self.loss_fn=='squared-loss':\n",
    "            loss = (0.5/X.shape[0])*np.sum((Y-output[-1])**2)\n",
    "        elif self.loss_fn=='cross-entropy':\n",
    "            ones = np.where(Y==1)\n",
    "            zeros = np.where(Y==0)\n",
    "            loss = (1/X.shape[0])*(-np.sum(np.log(output[-1][ones]))-np.sum(np.log(1-output[-1][zeros])))\n",
    "    \n",
    "        return loss\n",
    "    \n",
    "    def _intialize_weights(self, method='glorot-normal'):\n",
    "        '''\n",
    "        Initalizes weights and intercepts using specified technique for weight initilization\n",
    "        '''\n",
    "        self.weights=[]\n",
    "        self.intercepts=[]\n",
    "        for i in range(self.n_layers-1):\n",
    "            fan_in = self.layers[i]\n",
    "            fan_out = self.layers[i+1]\n",
    "            \n",
    "            #Glorot/Xevier Normal initialization\n",
    "            if method=='glorot-normal':\n",
    "                self.weights.append(np.random.normal(scale=math.sqrt(2/(fan_in+fan_out)), size=(fan_in, fan_out)))\n",
    "                self.intercepts.append(np.random.normal(scale=math.sqrt(2/(fan_in+fan_out)), size=fan_out))\n",
    "            \n",
    "            #He-Normal intilization\n",
    "            elif method=='he-normal':\n",
    "                self.weights.append(np.random.normal(scale=np.sqrt(2/fan_in), size=(fan_in, fan_out)))\n",
    "                self.intercepts.append(np.random.normal(scale=np.sqrt(2/fan_in), size=fan_out))\n",
    "            \n",
    "            #Glorot/Xevier uniform initialization\n",
    "            elif method=='glorot-uniform':\n",
    "                self.weights.append(np.random.uniform(low=-math.sqrt(6/(fan_in+fan_out)),\\\n",
    "                                                      high=math.sqrt(6/(fan_in+fan_out)),\\\n",
    "                                                      size=(fan_in, fan_out)))\n",
    "                self.intercepts.append(np.random.uniform(low=-math.sqrt(6/(fan_in+fan_out)),\\\n",
    "                                                         high=math.sqrt(6/(fan_in+fan_out)),\\\n",
    "                                                         size=fan_out))\n",
    "            #He-uniform intilization\n",
    "            elif method=='he-uniform':\n",
    "                self.weights.append(np.random.uniform(low=-np.sqrt(6/fan_in),\\\n",
    "                                                      high=np.sqrt(6/fan_in),\\\n",
    "                                                      size=(fan_in, fan_out)))\n",
    "                self.intercepts.append(np.random.uniform(low=-np.sqrt(6/fan_in),\\\n",
    "                                                         high=np.sqrt(6/fan_in),\\\n",
    "                                                         size=fan_out))\n",
    "            #Simple normal distribution with fixed 0 mean & 0.05 std\n",
    "            elif method=='normal':\n",
    "                self.weights.append(np.random.normal(scale=0.05, size=(fan_in, fan_out)))\n",
    "                self.intercepts.append(np.random.normal(scale=0.05, size=fan_out))\n",
    "            #Simple uniform distribution with low=-0.05 and high=0.05\n",
    "            elif method=='uniform':\n",
    "                self.weights.append(np.random.uniform(low=-0.05,\\\n",
    "                                                      high=0.05,\\\n",
    "                                                      size=(fan_in, fan_out)))\n",
    "                self.intercepts.append(np.random.uniform(low=-0.05,\\\n",
    "                                                         high=0.05,\\\n",
    "                                                         size=fan_out))\n",
    "            else:\n",
    "                raise Exception('Enter Correct Initalization method')\n",
    "                \n",
    "            \n",
    "    def predict(self, X):\n",
    "        \"\"\"\n",
    "        Returns prediction as one-hot encoded output for given Dataset\n",
    "        \"\"\"\n",
    "        pred_proba=self.predict_proba(X)\n",
    "        pred=np.zeros(pred_proba.shape, dtype=np.int8)\n",
    "        pred[np.arange(pred.shape[0]), np.argmax(pred_proba, axis=1)] = 1\n",
    "        return pred\n",
    "    \n",
    "    def predict_proba(self, X):\n",
    "        \"\"\"\n",
    "        Returns probabity of 26 classes as (n_sample,26) array\n",
    "        \"\"\"\n",
    "        f = self.activation_class.f\n",
    "        \n",
    "        pred_proba=X\n",
    "        for i in range(self.n_layers-2):\n",
    "            pred_proba=f(pred_proba@self.weights[i]+self.intercepts[i])\n",
    "        pred_proba=sigmoid.f(pred_proba@self.weights[-1]+self.intercepts[-1])\n",
    "        \n",
    "        return pred_proba\n",
    "    \n",
    "    def predict_log_proba(self, X):\n",
    "        \"\"\"\n",
    "        Returns log probabity of 26 classes as (n_sample,26) array\n",
    "        \"\"\"\n",
    "        return np.log(self.predict_proba(X))\n",
    "    \n",
    "    def score(self,X,Y):\n",
    "        \"\"\"\n",
    "        Returns accuracy score for given X and Y\n",
    "        \"\"\"\n",
    "        pred = self.predict(X)\n",
    "        y_true = np.argmax(Y, axis=1)\n",
    "        y_pred = np.argmax(pred, axis=1)\n",
    "        return (np.sum(y_true==y_pred)/y_true.shape[0])"
   ]
  },
  {
   "cell_type": "code",
   "execution_count": 11,
   "metadata": {},
   "outputs": [
    {
     "name": "stdout",
     "output_type": "stream",
     "text": [
      "Converged in 337 epochs\n",
      "Trained in 1.13 minutes\n",
      "Test Accuracy : 87.72 %\n",
      "Train Accuracy : 93.03 %\n",
      "\n",
      "\n",
      "Converged in 719 epochs\n",
      "Trained in 2.41 minutes\n",
      "Test Accuracy : 84.12 %\n",
      "Train Accuracy : 89.82 %\n",
      "\n",
      "\n",
      "Converged in 629 epochs\n",
      "Trained in 2.11 minutes\n",
      "Test Accuracy : 87.57 %\n",
      "Train Accuracy : 93.42 %\n",
      "\n",
      "\n",
      "Converged in 403 epochs\n",
      "Trained in 1.36 minutes\n",
      "Test Accuracy : 84.77 %\n",
      "Train Accuracy : 89.48 %\n",
      "\n",
      "\n",
      "Converged in 650 epochs\n",
      "Trained in 2.19 minutes\n",
      "Test Accuracy : 84.71 %\n",
      "Train Accuracy : 89.58 %\n",
      "\n",
      "\n"
     ]
    }
   ],
   "source": [
    "for i in range(5):\n",
    "    ml=MLP(layers=[100,100], batch_size=100, activation_fn='relu', max_epoch=3000,\\\n",
    "           lr=0.5, adaptive_lr=True, tol=1e-5, n_iter_no_change=50, initialization='he-uniform')\n",
    "    t0=time()\n",
    "    ml.fit(X_train, Y_train)\n",
    "    print('Trained in %.2f minutes'%((time()-t0)/60))\n",
    "    print('Test Accuracy : %.2f %c'%(ml.score(X_test, Y_test)*100,'%'))\n",
    "    print('Train Accuracy : %.2f %c'%(ml.score(X_train, Y_train)*100,'%'))\n",
    "    print('\\n')"
   ]
  },
  {
   "cell_type": "code",
   "execution_count": 12,
   "metadata": {},
   "outputs": [
    {
     "name": "stdout",
     "output_type": "stream",
     "text": [
      "Converged in 307 epochs\n",
      "Trained in 1.10 minutes\n",
      "Test Accuracy : 89.54 %\n",
      "Train Accuracy : 100.00 %\n",
      "\n",
      "\n",
      "Converged in 363 epochs\n",
      "Trained in 1.30 minutes\n",
      "Test Accuracy : 89.11 %\n",
      "Train Accuracy : 100.00 %\n",
      "\n",
      "\n",
      "Converged in 396 epochs\n",
      "Trained in 1.43 minutes\n",
      "Test Accuracy : 88.91 %\n",
      "Train Accuracy : 100.00 %\n",
      "\n",
      "\n",
      "Converged in 391 epochs\n",
      "Trained in 1.44 minutes\n",
      "Test Accuracy : 90.45 %\n",
      "Train Accuracy : 100.00 %\n",
      "\n",
      "\n"
     ]
    },
    {
     "name": "stderr",
     "output_type": "stream",
     "text": [
      "/home/hetpatel/anaconda3/lib/python3.6/site-packages/ipykernel_launcher.py:301: RuntimeWarning: divide by zero encountered in log\n",
      "/home/hetpatel/anaconda3/lib/python3.6/site-packages/ipykernel_launcher.py:243: RuntimeWarning: invalid value encountered in double_scalars\n"
     ]
    },
    {
     "name": "stdout",
     "output_type": "stream",
     "text": [
      "Converged in 17 epochs\n",
      "Trained in 0.05 minutes\n",
      "Test Accuracy : 3.85 %\n",
      "Train Accuracy : 3.85 %\n",
      "\n",
      "\n"
     ]
    }
   ],
   "source": [
    "for i in range(5):\n",
    "    ml=MLP(layers=[100,100], batch_size=100, activation_fn='relu', max_epoch=3000,\\\n",
    "           lr=0.5, adaptive_lr=True, tol=1e-5, n_iter_no_change=10, initialization='he-uniform', loss_fn='cross-entropy')\n",
    "    t0=time()\n",
    "    ml.fit(X_train, Y_train)\n",
    "    print('Trained in %.2f minutes'%((time()-t0)/60))\n",
    "    print('Test Accuracy : %.2f %c'%(ml.score(X_test, Y_test)*100,'%'))\n",
    "    print('Train Accuracy : %.2f %c'%(ml.score(X_train, Y_train)*100,'%'))\n",
    "    print('\\n')"
   ]
  },
  {
   "cell_type": "code",
   "execution_count": 13,
   "metadata": {},
   "outputs": [
    {
     "name": "stdout",
     "output_type": "stream",
     "text": [
      "Converged in 485 epochs\n",
      "Trained in 1.62 minutes\n",
      "Test Accuracy : 88.06 %\n",
      "Train Accuracy : 93.81 %\n",
      "\n",
      "\n",
      "Converged in 281 epochs\n",
      "Trained in 0.93 minutes\n",
      "Test Accuracy : 84.63 %\n",
      "Train Accuracy : 89.86 %\n",
      "\n",
      "\n",
      "Converged in 422 epochs\n",
      "Trained in 1.41 minutes\n",
      "Test Accuracy : 78.45 %\n",
      "Train Accuracy : 82.62 %\n",
      "\n",
      "\n",
      "Converged in 516 epochs\n",
      "Trained in 1.72 minutes\n",
      "Test Accuracy : 88.00 %\n",
      "Train Accuracy : 93.91 %\n",
      "\n",
      "\n",
      "Converged in 453 epochs\n",
      "Trained in 1.52 minutes\n",
      "Test Accuracy : 87.55 %\n",
      "Train Accuracy : 93.78 %\n",
      "\n",
      "\n"
     ]
    }
   ],
   "source": [
    "for i in range(5):\n",
    "    ml=MLP(layers=[100,100], batch_size=100, activation_fn='relu', max_epoch=3000,\\\n",
    "           lr=0.1, adaptive_lr=False, tol=1e-5, n_iter_no_change=50, initialization='he-uniform')\n",
    "    t0=time()\n",
    "    ml.fit(X_train, Y_train)\n",
    "    print('Trained in %.2f minutes'%((time()-t0)/60))\n",
    "    print('Test Accuracy : %.2f %c'%(ml.score(X_test, Y_test)*100,'%'))\n",
    "    print('Train Accuracy : %.2f %c'%(ml.score(X_train, Y_train)*100,'%'))\n",
    "    print('\\n')"
   ]
  },
  {
   "cell_type": "code",
   "execution_count": 14,
   "metadata": {},
   "outputs": [
    {
     "name": "stdout",
     "output_type": "stream",
     "text": [
      "Converged in 582 epochs\n",
      "Trained in 2.21 minutes\n",
      "Test Accuracy : 92.75 %\n",
      "Train Accuracy : 100.00 %\n",
      "\n",
      "\n",
      "Converged in 661 epochs\n",
      "Trained in 2.51 minutes\n",
      "Test Accuracy : 92.75 %\n",
      "Train Accuracy : 100.00 %\n",
      "\n",
      "\n",
      "Converged in 694 epochs\n",
      "Trained in 2.63 minutes\n",
      "Test Accuracy : 93.06 %\n",
      "Train Accuracy : 100.00 %\n",
      "\n",
      "\n",
      "Converged in 686 epochs\n",
      "Trained in 2.60 minutes\n",
      "Test Accuracy : 92.88 %\n",
      "Train Accuracy : 100.00 %\n",
      "\n",
      "\n",
      "Converged in 690 epochs\n",
      "Trained in 2.63 minutes\n",
      "Test Accuracy : 92.60 %\n",
      "Train Accuracy : 100.00 %\n",
      "\n",
      "\n"
     ]
    }
   ],
   "source": [
    "for i in range(5):\n",
    "    ml=MLP(layers=[100,100], batch_size=100, activation_fn='relu', max_epoch=3000,\\\n",
    "           lr=0.1, adaptive_lr=False, tol=1e-5, n_iter_no_change=50, initialization='he-uniform', loss_fn='cross-entropy')\n",
    "    t0=time()\n",
    "    ml.fit(X_train, Y_train)\n",
    "    print('Trained in %.2f minutes'%((time()-t0)/60))\n",
    "    print('Test Accuracy : %.2f %c'%(ml.score(X_test, Y_test)*100,'%'))\n",
    "    print('Train Accuracy : %.2f %c'%(ml.score(X_train, Y_train)*100,'%'))\n",
    "    print('\\n')"
   ]
  },
  {
   "cell_type": "markdown",
   "metadata": {},
   "source": [
    "# Part B"
   ]
  },
  {
   "cell_type": "code",
   "execution_count": 5,
   "metadata": {},
   "outputs": [
    {
     "name": "stdout",
     "output_type": "stream",
     "text": [
      "Training MLP model with 1 neurons in hidden layer:\n",
      "Converged in 576 epochs\n",
      "Trained in 0.64 minutes\n",
      "Test Accuracy : 8.91 %\n",
      "Train Accuracy : 8.83 %\n",
      "\n",
      "\n",
      "Training MLP model with 5 neurons in hidden layer:\n",
      "Converged in 2198 epochs\n",
      "Trained in 2.78 minutes\n",
      "Test Accuracy : 58.25 %\n",
      "Train Accuracy : 61.45 %\n",
      "\n",
      "\n",
      "Training MLP model with 10 neurons in hidden layer:\n",
      "Converged in 968 epochs\n",
      "Trained in 1.34 minutes\n",
      "Test Accuracy : 76.35 %\n",
      "Train Accuracy : 80.78 %\n",
      "\n",
      "\n",
      "Training MLP model with 50 neurons in hidden layer:\n",
      "Converged in 1193 epochs\n",
      "Trained in 2.51 minutes\n",
      "Test Accuracy : 88.62 %\n",
      "Train Accuracy : 94.56 %\n",
      "\n",
      "\n",
      "Training MLP model with 100 neurons in hidden layer:\n",
      "Converged in 1399 epochs\n",
      "Trained in 3.46 minutes\n",
      "Test Accuracy : 90.34 %\n",
      "Train Accuracy : 96.33 %\n",
      "\n",
      "\n"
     ]
    }
   ],
   "source": [
    "n_neurons_lst = [1,5,10,50,100]\n",
    "for n_neurons in n_neurons_lst:\n",
    "    print('Training MLP model with %d neurons in hidden layer:'%(n_neurons))\n",
    "    ml=MLP(layers=[n_neurons], batch_size=100, activation_fn='sigmoid', max_epoch=3000,\\\n",
    "       lr=0.1, adaptive_lr=False, tol=1e-5, n_iter_no_change=50, initialization='he-uniform')\n",
    "    t0=time()\n",
    "    ml.fit(X_train, Y_train)\n",
    "    print('Trained in %.2f minutes'%((time()-t0)/60))\n",
    "    print('Test Accuracy : %.2f %c'%(ml.score(X_test, Y_test)*100,'%'))\n",
    "    print('Train Accuracy : %.2f %c'%(ml.score(X_train, Y_train)*100,'%'))\n",
    "    print('\\n')"
   ]
  },
  {
   "cell_type": "code",
   "execution_count": 6,
   "metadata": {},
   "outputs": [
    {
     "name": "stdout",
     "output_type": "stream",
     "text": [
      "Training MLP model with 1 neurons in hidden layer:\n",
      "Converged in 97 epochs\n",
      "Trained in 0.10 minutes\n",
      "Test Accuracy : 6.68 %\n",
      "Train Accuracy : 6.73 %\n",
      "\n",
      "\n",
      "Training MLP model with 5 neurons in hidden layer:\n",
      "Converged in 849 epochs\n",
      "Trained in 0.98 minutes\n",
      "Test Accuracy : 46.00 %\n",
      "Train Accuracy : 48.33 %\n",
      "\n",
      "\n",
      "Training MLP model with 10 neurons in hidden layer:\n",
      "Converged in 764 epochs\n",
      "Trained in 0.96 minutes\n",
      "Test Accuracy : 74.65 %\n",
      "Train Accuracy : 78.99 %\n",
      "\n",
      "\n",
      "Training MLP model with 50 neurons in hidden layer:\n",
      "Converged in 924 epochs\n",
      "Trained in 1.78 minutes\n",
      "Test Accuracy : 87.85 %\n",
      "Train Accuracy : 93.28 %\n",
      "\n",
      "\n",
      "Training MLP model with 100 neurons in hidden layer:\n",
      "Converged in 592 epochs\n",
      "Trained in 1.35 minutes\n",
      "Test Accuracy : 88.17 %\n",
      "Train Accuracy : 92.51 %\n",
      "\n",
      "\n"
     ]
    }
   ],
   "source": [
    "n_neurons_lst = [1,5,10,50,100]\n",
    "for n_neurons in n_neurons_lst:\n",
    "    print('Training MLP model with %d neurons in hidden layer:'%(n_neurons))\n",
    "    ml=MLP(layers=[n_neurons], batch_size=100, activation_fn='sigmoid', max_epoch=2000,\\\n",
    "       lr=0.1, adaptive_lr=False, tol=1e-5, n_iter_no_change=75, initialization='he-uniform', early_stopping=True)\n",
    "    t0=time()\n",
    "    ml.fit(X_train, Y_train)\n",
    "    print('Trained in %.2f minutes'%((time()-t0)/60))\n",
    "    print('Test Accuracy : %.2f %c'%(ml.score(X_test, Y_test)*100,'%'))\n",
    "    print('Train Accuracy : %.2f %c'%(ml.score(X_train, Y_train)*100,'%'))\n",
    "    print('\\n')"
   ]
  },
  {
   "cell_type": "markdown",
   "metadata": {},
   "source": [
    "# Part C"
   ]
  },
  {
   "cell_type": "code",
   "execution_count": 7,
   "metadata": {},
   "outputs": [
    {
     "name": "stdout",
     "output_type": "stream",
     "text": [
      "Training MLP model with 1 neurons in hidden layer:\n",
      "Converged in 330 epochs\n",
      "Trained in 0.37 minutes\n",
      "Test Accuracy : 7.57 %\n",
      "Train Accuracy : 7.57 %\n",
      "\n",
      "\n",
      "Training MLP model with 5 neurons in hidden layer:\n",
      "Converged in 964 epochs\n",
      "Trained in 1.22 minutes\n",
      "Test Accuracy : 23.37 %\n",
      "Train Accuracy : 23.38 %\n",
      "\n",
      "\n",
      "Training MLP model with 10 neurons in hidden layer:\n",
      "Converged in 1270 epochs\n",
      "Trained in 1.75 minutes\n",
      "Test Accuracy : 71.00 %\n",
      "Train Accuracy : 73.26 %\n",
      "\n",
      "\n",
      "Training MLP model with 50 neurons in hidden layer:\n",
      "Converged in 778 epochs\n",
      "Trained in 1.64 minutes\n",
      "Test Accuracy : 85.29 %\n",
      "Train Accuracy : 88.31 %\n",
      "\n",
      "\n",
      "Training MLP model with 100 neurons in hidden layer:\n",
      "Converged in 574 epochs\n",
      "Trained in 1.43 minutes\n",
      "Test Accuracy : 85.09 %\n",
      "Train Accuracy : 88.19 %\n",
      "\n",
      "\n"
     ]
    }
   ],
   "source": [
    "n_neurons_lst = [1,5,10,50,100]\n",
    "for n_neurons in n_neurons_lst:\n",
    "    print('Training MLP model with %d neurons in hidden layer:'%(n_neurons))\n",
    "    ml=MLP(layers=[n_neurons], batch_size=100, activation_fn='sigmoid', max_epoch=3000,\\\n",
    "       lr=0.5, adaptive_lr=True, tol=1e-5, n_iter_no_change=50, initialization='he-uniform')\n",
    "    t0=time()\n",
    "    ml.fit(X_train, Y_train)\n",
    "    print('Trained in %.2f minutes'%((time()-t0)/60))\n",
    "    print('Test Accuracy : %.2f %c'%(ml.score(X_test, Y_test)*100,'%'))\n",
    "    print('Train Accuracy : %.2f %c'%(ml.score(X_train, Y_train)*100,'%'))\n",
    "    print('\\n')"
   ]
  },
  {
   "cell_type": "code",
   "execution_count": 8,
   "metadata": {},
   "outputs": [
    {
     "name": "stdout",
     "output_type": "stream",
     "text": [
      "Training MLP model with 1 neurons in hidden layer:\n",
      "Converged in 143 epochs\n",
      "Trained in 0.15 minutes\n",
      "Test Accuracy : 6.14 %\n",
      "Train Accuracy : 6.52 %\n",
      "\n",
      "\n",
      "Training MLP model with 5 neurons in hidden layer:\n",
      "Converged in 473 epochs\n",
      "Trained in 0.55 minutes\n",
      "Test Accuracy : 28.26 %\n",
      "Train Accuracy : 28.72 %\n",
      "\n",
      "\n",
      "Training MLP model with 10 neurons in hidden layer:\n",
      "Converged in 1185 epochs\n",
      "Trained in 1.49 minutes\n",
      "Test Accuracy : 70.45 %\n",
      "Train Accuracy : 73.02 %\n",
      "\n",
      "\n",
      "Training MLP model with 50 neurons in hidden layer:\n",
      "Converged in 1147 epochs\n",
      "Trained in 2.22 minutes\n",
      "Test Accuracy : 85.58 %\n",
      "Train Accuracy : 88.52 %\n",
      "\n",
      "\n",
      "Training MLP model with 100 neurons in hidden layer:\n",
      "Converged in 884 epochs\n",
      "Trained in 2.01 minutes\n",
      "Test Accuracy : 85.02 %\n",
      "Train Accuracy : 88.83 %\n",
      "\n",
      "\n"
     ]
    }
   ],
   "source": [
    "n_neurons_lst = [1,5,10,50,100]\n",
    "for n_neurons in n_neurons_lst:\n",
    "    print('Training MLP model with %d neurons in hidden layer:'%(n_neurons))\n",
    "    ml=MLP(layers=[n_neurons], batch_size=100, activation_fn='sigmoid', max_epoch=3000,\\\n",
    "       lr=0.5, adaptive_lr=True, tol=1e-5, n_iter_no_change=75, initialization='he-uniform', early_stopping=True)\n",
    "    t0=time()\n",
    "    ml.fit(X_train, Y_train)\n",
    "    print('Trained in %.2f minutes'%((time()-t0)/60))\n",
    "    print('Test Accuracy : %.2f %c'%(ml.score(X_test, Y_test)*100,'%'))\n",
    "    print('Train Accuracy : %.2f %c'%(ml.score(X_train, Y_train)*100,'%'))\n",
    "    print('\\n')"
   ]
  },
  {
   "cell_type": "markdown",
   "metadata": {},
   "source": [
    "# Part D"
   ]
  },
  {
   "cell_type": "code",
   "execution_count": 9,
   "metadata": {},
   "outputs": [
    {
     "name": "stdout",
     "output_type": "stream",
     "text": [
      "Converged in 1227 epochs\n",
      "Trained in 3.85 minutes\n",
      "Test Accuracy : 85.14 %\n",
      "Train Accuracy : 88.18 %\n"
     ]
    }
   ],
   "source": [
    "ml=MLP(layers=[100,100], batch_size=100, activation_fn='sigmoid', max_epoch=3000,\\\n",
    "       lr=0.5, adaptive_lr=True, tol=1e-5, n_iter_no_change=50, initialization='he-uniform')\n",
    "t0=time()\n",
    "ml.fit(X_train, Y_train)\n",
    "print('Trained in %.2f minutes'%((time()-t0)/60))\n",
    "print('Test Accuracy : %.2f %c'%(ml.score(X_test, Y_test)*100,'%'))\n",
    "print('Train Accuracy : %.2f %c'%(ml.score(X_train, Y_train)*100,'%'))"
   ]
  },
  {
   "cell_type": "code",
   "execution_count": 10,
   "metadata": {},
   "outputs": [
    {
     "name": "stdout",
     "output_type": "stream",
     "text": [
      "Converged in 750 epochs\n",
      "Trained in 2.54 minutes\n",
      "Test Accuracy : 91.25 %\n",
      "Train Accuracy : 97.15 %\n"
     ]
    }
   ],
   "source": [
    "ml=MLP(layers=[100,100], batch_size=100, activation_fn='relu', max_epoch=3000,\\\n",
    "       lr=0.5, adaptive_lr=True, tol=1e-5, n_iter_no_change=50, initialization='he-uniform')\n",
    "t0=time()\n",
    "ml.fit(X_train, Y_train)\n",
    "print('Trained in %.2f minutes'%((time()-t0)/60))\n",
    "print('Test Accuracy : %.2f %c'%(ml.score(X_test, Y_test)*100,'%'))\n",
    "print('Train Accuracy : %.2f %c'%(ml.score(X_train, Y_train)*100,'%'))"
   ]
  },
  {
   "cell_type": "code",
   "execution_count": 9,
   "metadata": {},
   "outputs": [
    {
     "name": "stdout",
     "output_type": "stream",
     "text": [
      "Converged in 1589 epochs\n",
      "Trained in 4.82 minutes\n",
      "Test Accuracy : 91.14 %\n",
      "Train Accuracy : 97.17 %\n"
     ]
    }
   ],
   "source": [
    "ml=MLP(layers=[100,100], batch_size=100, activation_fn='sigmoid', max_epoch=3000,\\\n",
    "       lr=0.1, adaptive_lr=False, tol=1e-5, n_iter_no_change=50, initialization='he-uniform')\n",
    "t0=time()\n",
    "ml.fit(X_train, Y_train)\n",
    "print('Trained in %.2f minutes'%((time()-t0)/60))\n",
    "print('Test Accuracy : %.2f %c'%(ml.score(X_test, Y_test)*100,'%'))\n",
    "print('Train Accuracy : %.2f %c'%(ml.score(X_train, Y_train)*100,'%'))"
   ]
  },
  {
   "cell_type": "code",
   "execution_count": 10,
   "metadata": {},
   "outputs": [
    {
     "name": "stdout",
     "output_type": "stream",
     "text": [
      "Converged in 417 epochs\n",
      "Trained in 1.38 minutes\n",
      "Test Accuracy : 91.09 %\n",
      "Train Accuracy : 97.61 %\n"
     ]
    }
   ],
   "source": [
    "ml=MLP(layers=[100,100], batch_size=100, activation_fn='relu', max_epoch=3000,\\\n",
    "       lr=0.1, adaptive_lr=False, tol=1e-5, n_iter_no_change=50, initialization='he-uniform')\n",
    "t0=time()\n",
    "ml.fit(X_train, Y_train)\n",
    "print('Trained in %.2f minutes'%((time()-t0)/60))\n",
    "print('Test Accuracy : %.2f %c'%(ml.score(X_test, Y_test)*100,'%'))\n",
    "print('Train Accuracy : %.2f %c'%(ml.score(X_train, Y_train)*100,'%'))"
   ]
  },
  {
   "cell_type": "markdown",
   "metadata": {},
   "source": [
    "# Part E"
   ]
  },
  {
   "cell_type": "code",
   "execution_count": 6,
   "metadata": {},
   "outputs": [],
   "source": [
    "def score(clf, X, Y):\n",
    "    proba = clf.predict_log_proba(X)\n",
    "    Y_pred = proba.argmax(axis=1)\n",
    "    Y_true = Y.argmax(axis=1)\n",
    "    return np.sum(Y_true==Y_pred)/len(Y_true)"
   ]
  },
  {
   "cell_type": "code",
   "execution_count": 11,
   "metadata": {},
   "outputs": [
    {
     "name": "stdout",
     "output_type": "stream",
     "text": [
      "Trained in 0.75 minutes\n",
      "Test accuracy 91.91 %\n",
      "Train accuracy 100.00 %\n",
      "Number of epochs till convergence 161\n",
      "Output activation logistic\n",
      "Number of neurons in output layer 26\n",
      "Loss type : log_loss\n",
      "Loss Value : 0.0025360301372560454\n"
     ]
    }
   ],
   "source": [
    "t0=time()\n",
    "mlp = MLPClassifier(hidden_layer_sizes=(100,100), solver='sgd', learning_rate='adaptive', learning_rate_init=0.5,\\\n",
    "                   max_iter=2000, batch_size=100, random_state=0, momentum=0, tol=1e-4, n_iter_no_change=10).fit(X_train, Y_train)\n",
    "print('Trained in %.2f minutes'%((time()-t0)/60))\n",
    "print('Test accuracy %.2f %c'%(score(mlp, X_test, Y_test)*100, '%'))\n",
    "print('Train accuracy %.2f %c'%(score(mlp, X_train, Y_train)*100, '%'))\n",
    "print('Number of epochs till convergence %d'%(len(mlp.loss_curve_)))\n",
    "print('Output activation',mlp.out_activation_)\n",
    "print('Number of neurons in output layer',mlp.n_outputs_)\n",
    "print('Loss type :',mlp.loss)\n",
    "print('Loss Value :',mlp.loss_)"
   ]
  },
  {
   "cell_type": "code",
   "execution_count": 10,
   "metadata": {},
   "outputs": [
    {
     "name": "stdout",
     "output_type": "stream",
     "text": [
      "Trained in 9.33 minutes\n",
      "Test accuracy 85.05 %\n",
      "Train accuracy 88.61 %\n",
      "Number of epochs till convergence 2000\n",
      "Output activation logistic\n",
      "Number of neurons in output layer 26\n",
      "Loss type : log_loss\n",
      "Loss Value : 0.7417685157520504\n"
     ]
    },
    {
     "name": "stderr",
     "output_type": "stream",
     "text": [
      "/home/hetpatel/anaconda3/lib/python3.6/site-packages/sklearn/neural_network/multilayer_perceptron.py:562: ConvergenceWarning: Stochastic Optimizer: Maximum iterations (2000) reached and the optimization hasn't converged yet.\n",
      "  % self.max_iter, ConvergenceWarning)\n"
     ]
    }
   ],
   "source": [
    "t0=time()\n",
    "mlp = MLPClassifier(hidden_layer_sizes=(100,100), solver='sgd', learning_rate='invscaling', learning_rate_init=0.5,\\\n",
    "                   max_iter=2000, batch_size=100, random_state=0, momentum=0, tol=1e-5, n_iter_no_change=10).fit(X_train, Y_train)\n",
    "print('Trained in %.2f minutes'%((time()-t0)/60))\n",
    "print('Test accuracy %.2f %c'%(score(mlp, X_test, Y_test)*100, '%'))\n",
    "print('Train accuracy %.2f %c'%(score(mlp, X_train, Y_train)*100, '%'))\n",
    "print('Number of epochs till convergence %d'%(len(mlp.loss_curve_)))\n",
    "print('Output activation',mlp.out_activation_)\n",
    "print('Number of neurons in output layer',mlp.n_outputs_)\n",
    "print('Loss type :',mlp.loss)\n",
    "print('Loss Value :',mlp.loss_)"
   ]
  },
  {
   "cell_type": "code",
   "execution_count": 12,
   "metadata": {},
   "outputs": [
    {
     "name": "stdout",
     "output_type": "stream",
     "text": [
      "Trained in 3.57 minutes\n",
      "Train accuracy 89.23 %\n",
      "Train accuracy 93.92 %\n",
      "Number of epochs till convergence 784\n",
      "Output activation logistic\n",
      "Number of neurons in output layer 26\n",
      "Loss type : log_loss\n",
      "Loss Value : 0.45581749445830533\n"
     ]
    }
   ],
   "source": [
    "t0=time()\n",
    "mlp = MLPClassifier(hidden_layer_sizes=(100,100), solver='sgd', learning_rate='invscaling', learning_rate_init=0.1,\\\n",
    "                   max_iter=2000, batch_size=100, random_state=0).fit(X_train, Y_train)\n",
    "print('Trained in %.2f minutes'%((time()-t0)/60))\n",
    "print('Test accuracy %.2f %c'%(score(mlp, X_test, Y_test)*100, '%'))\n",
    "print('Train accuracy %.2f %c'%(score(mlp, X_train, Y_train)*100, '%'))\n",
    "print('Number of epochs till convergence %d'%(len(mlp.loss_curve_)))\n",
    "print('Output activation',mlp.out_activation_)\n",
    "print('Number of neurons in output layer',mlp.n_outputs_)\n",
    "print('Loss type :',mlp.loss)\n",
    "print('Loss Value :',mlp.loss_)"
   ]
  },
  {
   "cell_type": "code",
   "execution_count": 12,
   "metadata": {},
   "outputs": [
    {
     "name": "stdout",
     "output_type": "stream",
     "text": [
      "Trained in 10.28 minutes\n",
      "Test accuracy 27.00 %\n",
      "Train accuracy 26.78 %\n",
      "Number of epochs till convergence 2000\n",
      "Output activation logistic\n",
      "Number of neurons in output layer 26\n",
      "Loss type : log_loss\n",
      "Loss Value : 3.7167664738411124\n"
     ]
    },
    {
     "name": "stderr",
     "output_type": "stream",
     "text": [
      "/home/hetpatel/anaconda3/lib/python3.6/site-packages/sklearn/neural_network/multilayer_perceptron.py:562: ConvergenceWarning: Stochastic Optimizer: Maximum iterations (2000) reached and the optimization hasn't converged yet.\n",
      "  % self.max_iter, ConvergenceWarning)\n"
     ]
    }
   ],
   "source": [
    "t0=time()\n",
    "mlp = MLPClassifier(hidden_layer_sizes=(100,100), solver='sgd', learning_rate='invscaling', learning_rate_init=0.5,\\\n",
    "                   max_iter=2000, batch_size=100, random_state=0, momentum=0, tol=1e-5,\\\n",
    "                   activation='logistic', n_iter_no_change=10).fit(X_train, Y_train)\n",
    "print('Trained in %.2f minutes'%((time()-t0)/60))\n",
    "print('Test accuracy %.2f %c'%(score(mlp, X_test, Y_test)*100, '%'))\n",
    "print('Train accuracy %.2f %c'%(score(mlp, X_train, Y_train)*100, '%'))\n",
    "print('Number of epochs till convergence %d'%(len(mlp.loss_curve_)))\n",
    "print('Output activation',mlp.out_activation_)\n",
    "print('Number of neurons in output layer',mlp.n_outputs_)\n",
    "print('Loss type :',mlp.loss)\n",
    "print('Loss Value :',mlp.loss_)"
   ]
  },
  {
   "cell_type": "code",
   "execution_count": 13,
   "metadata": {},
   "outputs": [
    {
     "name": "stdout",
     "output_type": "stream",
     "text": [
      "Trained in 10.01 minutes\n",
      "Train accuracy 34.91 %\n",
      "Train accuracy 34.72 %\n",
      "Number of epochs till convergence 2000\n",
      "Output activation logistic\n",
      "Number of neurons in output layer 26\n",
      "Loss type : log_loss\n",
      "Loss Value : 3.1297578878476733\n"
     ]
    },
    {
     "name": "stderr",
     "output_type": "stream",
     "text": [
      "/home/hetpatel/anaconda3/lib/python3.6/site-packages/sklearn/neural_network/multilayer_perceptron.py:562: ConvergenceWarning: Stochastic Optimizer: Maximum iterations (2000) reached and the optimization hasn't converged yet.\n",
      "  % self.max_iter, ConvergenceWarning)\n"
     ]
    }
   ],
   "source": [
    "t0=time()\n",
    "mlp = MLPClassifier(hidden_layer_sizes=(100,100), solver='sgd', learning_rate='invscaling', learning_rate_init=0.1,\\\n",
    "                   max_iter=2000, batch_size=100, random_state=0, activation='logistic').fit(X_train, Y_train)\n",
    "print('Trained in %.2f minutes'%((time()-t0)/60))\n",
    "print('Test accuracy %.2f %c'%(score(mlp, X_test, Y_test)*100, '%'))\n",
    "print('Train accuracy %.2f %c'%(score(mlp, X_train, Y_train)*100, '%'))\n",
    "print('Number of epochs till convergence %d'%(len(mlp.loss_curve_)))\n",
    "print('Output activation',mlp.out_activation_)\n",
    "print('Number of neurons in output layer',mlp.n_outputs_)\n",
    "print('Loss type :',mlp.loss)\n",
    "print('Loss Value :',mlp.loss_)"
   ]
  },
  {
   "cell_type": "code",
   "execution_count": 14,
   "metadata": {},
   "outputs": [
    {
     "name": "stdout",
     "output_type": "stream",
     "text": [
      "Trained in 0.16 minutes\n",
      "Train accuracy 90.28 %\n",
      "Train accuracy 98.72 %\n",
      "Number of epochs till convergence 36\n",
      "Output activation logistic\n",
      "Number of neurons in output layer 26\n",
      "Loss type : log_loss\n",
      "Loss Value : 0.24456007666446009\n"
     ]
    }
   ],
   "source": [
    "t0=time()\n",
    "mlp = MLPClassifier(hidden_layer_sizes=(100,100), solver='sgd', learning_rate='constant', learning_rate_init=0.1,\\\n",
    "                   max_iter=2000, batch_size=100, random_state=0).fit(X_train, Y_train)\n",
    "print('Trained in %.2f minutes'%((time()-t0)/60))\n",
    "print('Test accuracy %.2f %c'%(score(mlp, X_test, Y_test)*100, '%'))\n",
    "print('Train accuracy %.2f %c'%(score(mlp, X_train, Y_train)*100, '%'))\n",
    "print('Number of epochs till convergence %d'%(len(mlp.loss_curve_)))\n",
    "print('Output activation',mlp.out_activation_)\n",
    "print('Number of neurons in output layer',mlp.n_outputs_)\n",
    "print('Loss type :',mlp.loss)\n",
    "print('Loss Value :',mlp.loss_)"
   ]
  },
  {
   "cell_type": "code",
   "execution_count": 15,
   "metadata": {},
   "outputs": [
    {
     "name": "stdout",
     "output_type": "stream",
     "text": [
      "Trained in 0.69 minutes\n",
      "Train accuracy 92.55 %\n",
      "Train accuracy 100.00 %\n",
      "Number of epochs till convergence 137\n",
      "Output activation logistic\n",
      "Number of neurons in output layer 26\n",
      "Loss type : log_loss\n",
      "Loss Value : 0.011301940051138657\n"
     ]
    }
   ],
   "source": [
    "t0=time()\n",
    "mlp = MLPClassifier(hidden_layer_sizes=(100,100), solver='sgd', learning_rate='constant', learning_rate_init=0.1,\\\n",
    "                   max_iter=2000, batch_size=100, random_state=0, activation='logistic').fit(X_train, Y_train)\n",
    "print('Trained in %.2f minutes'%((time()-t0)/60))\n",
    "print('Test accuracy %.2f %c'%(score(mlp, X_test, Y_test)*100, '%'))\n",
    "print('Train accuracy %.2f %c'%(score(mlp, X_train, Y_train)*100, '%'))\n",
    "print('Number of epochs till convergence %d'%(len(mlp.loss_curve_)))\n",
    "print('Output activation',mlp.out_activation_)\n",
    "print('Number of neurons in output layer',mlp.n_outputs_)\n",
    "print('Loss type :',mlp.loss)\n",
    "print('Loss Value :',mlp.loss_)"
   ]
  },
  {
   "cell_type": "code",
   "execution_count": 50,
   "metadata": {},
   "outputs": [
    {
     "name": "stdout",
     "output_type": "stream",
     "text": [
      "Trained in 9.93 minutes\n",
      "Test accuracy 27.00 %\n",
      "Train accuracy 26.78 %\n",
      "Number of epochs till convergence 2000\n",
      "Output activation logistic\n",
      "Number of neurons in output layer 26\n",
      "Loss type : log_loss\n",
      "Loss Value : 3.7167664738411124\n"
     ]
    },
    {
     "name": "stderr",
     "output_type": "stream",
     "text": [
      "/home/hetpatel/anaconda3/lib/python3.6/site-packages/sklearn/neural_network/multilayer_perceptron.py:562: ConvergenceWarning: Stochastic Optimizer: Maximum iterations (2000) reached and the optimization hasn't converged yet.\n",
      "  % self.max_iter, ConvergenceWarning)\n"
     ]
    }
   ],
   "source": [
    "t0=time()\n",
    "mlp = MLPClassifier(hidden_layer_sizes=(100,100), solver='sgd', learning_rate='invscaling', learning_rate_init=0.5,\\\n",
    "                   max_iter=2000, batch_size=100, random_state=0, activation='logistic').fit(X_train, Y_train)\n",
    "print('Trained in %.2f minutes'%((time()-t0)/60))\n",
    "print('Test accuracy %.2f %c'%(score(mlp, X_test, Y_test)*100, '%'))\n",
    "print('Train accuracy %.2f %c'%(score(mlp, X_train, Y_train)*100, '%'))\n",
    "print('Number of epochs till convergence %d'%(len(mlp.loss_curve_)))\n",
    "print('Output activation',mlp.out_activation_)\n",
    "print('Number of neurons in output layer',mlp.n_outputs_)\n",
    "print('Loss type :',mlp.loss)\n",
    "print('Loss Value :',mlp.loss_)"
   ]
  },
  {
   "cell_type": "markdown",
   "metadata": {},
   "source": [
    "# Part F"
   ]
  },
  {
   "cell_type": "code",
   "execution_count": 35,
   "metadata": {
    "scrolled": false
   },
   "outputs": [
    {
     "name": "stdout",
     "output_type": "stream",
     "text": [
      "Training MLP model with 1 neurons in hidden layer:\n",
      "Converged in 151 epochs\n",
      "Trained in 0.20 minutes\n",
      "Test Accuracy : 9.94 %\n",
      "Train Accuracy : 10.33 %\n",
      "\n",
      "\n",
      "Training MLP model with 5 neurons in hidden layer:\n",
      "Converged in 207 epochs\n",
      "Trained in 0.30 minutes\n",
      "Test Accuracy : 55.82 %\n",
      "Train Accuracy : 60.54 %\n",
      "\n",
      "\n",
      "Training MLP model with 10 neurons in hidden layer:\n",
      "Converged in 145 epochs\n",
      "Trained in 0.23 minutes\n",
      "Test Accuracy : 75.94 %\n",
      "Train Accuracy : 81.45 %\n",
      "\n",
      "\n",
      "Training MLP model with 50 neurons in hidden layer:\n",
      "Converged in 141 epochs\n",
      "Trained in 0.32 minutes\n",
      "Test Accuracy : 88.60 %\n",
      "Train Accuracy : 94.25 %\n",
      "\n",
      "\n",
      "Training MLP model with 100 neurons in hidden layer:\n",
      "Converged in 331 epochs\n",
      "Trained in 0.87 minutes\n",
      "Test Accuracy : 91.32 %\n",
      "Train Accuracy : 99.01 %\n",
      "\n",
      "\n"
     ]
    }
   ],
   "source": [
    "n_neurons_lst = [1,5,10,50,100]\n",
    "for n_neurons in n_neurons_lst:\n",
    "    print('Training MLP model with %d neurons in hidden layer:'%(n_neurons))\n",
    "    ml=MLP(layers=[n_neurons], batch_size=100, activation_fn='sigmoid', max_epoch=3000,\\\n",
    "       lr=0.1, adaptive_lr=False, tol=1e-5, n_iter_no_change=10, initialization='he-uniform', loss_fn='cross-entropy')\n",
    "    t0=time()\n",
    "    ml.fit(X_train, Y_train)\n",
    "    print('Trained in %.2f minutes'%((time()-t0)/60))\n",
    "    print('Test Accuracy : %.2f %c'%(ml.score(X_test, Y_test)*100,'%'))\n",
    "    print('Train Accuracy : %.2f %c'%(ml.score(X_train, Y_train)*100,'%'))\n",
    "    print('\\n')"
   ]
  },
  {
   "cell_type": "code",
   "execution_count": 36,
   "metadata": {},
   "outputs": [
    {
     "name": "stdout",
     "output_type": "stream",
     "text": [
      "Training MLP model with 1 neurons in hidden layer:\n",
      "Converged in 21 epochs\n",
      "Trained in 0.03 minutes\n",
      "Test Accuracy : 3.88 %\n",
      "Train Accuracy : 3.92 %\n",
      "\n",
      "\n",
      "Training MLP model with 5 neurons in hidden layer:\n",
      "Converged in 331 epochs\n",
      "Trained in 0.49 minutes\n",
      "Test Accuracy : 49.71 %\n",
      "Train Accuracy : 52.28 %\n",
      "\n",
      "\n",
      "Training MLP model with 10 neurons in hidden layer:\n",
      "Converged in 83 epochs\n",
      "Trained in 0.13 minutes\n",
      "Test Accuracy : 74.17 %\n",
      "Train Accuracy : 77.88 %\n",
      "\n",
      "\n",
      "Training MLP model with 50 neurons in hidden layer:\n",
      "Converged in 141 epochs\n",
      "Trained in 0.32 minutes\n",
      "Test Accuracy : 87.94 %\n",
      "Train Accuracy : 93.02 %\n",
      "\n",
      "\n",
      "Training MLP model with 100 neurons in hidden layer:\n",
      "Converged in 136 epochs\n",
      "Trained in 0.36 minutes\n",
      "Test Accuracy : 89.45 %\n",
      "Train Accuracy : 94.45 %\n",
      "\n",
      "\n"
     ]
    }
   ],
   "source": [
    "n_neurons_lst = [1,5,10,50,100]\n",
    "for n_neurons in n_neurons_lst:\n",
    "    print('Training MLP model with %d neurons in hidden layer:'%(n_neurons))\n",
    "    ml=MLP(layers=[n_neurons], batch_size=100, activation_fn='sigmoid', max_epoch=3000,\\\n",
    "       lr=0.5, adaptive_lr=True, tol=1e-5, n_iter_no_change=10, initialization='he-uniform', loss_fn='cross-entropy')\n",
    "    t0=time()\n",
    "    ml.fit(X_train, Y_train)\n",
    "    print('Trained in %.2f minutes'%((time()-t0)/60))\n",
    "    print('Test Accuracy : %.2f %c'%(ml.score(X_test, Y_test)*100,'%'))\n",
    "    print('Train Accuracy : %.2f %c'%(ml.score(X_train, Y_train)*100,'%'))\n",
    "    print('\\n')"
   ]
  },
  {
   "cell_type": "code",
   "execution_count": 37,
   "metadata": {},
   "outputs": [
    {
     "name": "stdout",
     "output_type": "stream",
     "text": [
      "Converged in 196 epochs\n",
      "Trained in 0.64 minutes\n",
      "Test Accuracy : 90.37 %\n",
      "Train Accuracy : 96.16 %\n"
     ]
    }
   ],
   "source": [
    "ml=MLP(layers=[100,100], batch_size=100, activation_fn='sigmoid', max_epoch=3000,\\\n",
    "       lr=0.5, adaptive_lr=True, tol=1e-4, n_iter_no_change=10, initialization='he-uniform', loss_fn='cross-entropy')\n",
    "t0=time()\n",
    "ml.fit(X_train, Y_train)\n",
    "print('Trained in %.2f minutes'%((time()-t0)/60))\n",
    "print('Test Accuracy : %.2f %c'%(ml.score(X_test, Y_test)*100,'%'))\n",
    "print('Train Accuracy : %.2f %c'%(ml.score(X_train, Y_train)*100,'%'))"
   ]
  },
  {
   "cell_type": "code",
   "execution_count": 38,
   "metadata": {},
   "outputs": [
    {
     "name": "stdout",
     "output_type": "stream",
     "text": [
      "Converged in 324 epochs\n",
      "Trained in 1.17 minutes\n",
      "Test Accuracy : 90.40 %\n",
      "Train Accuracy : 100.00 %\n"
     ]
    }
   ],
   "source": [
    "ml=MLP(layers=[100,100], batch_size=100, activation_fn='relu', max_epoch=3000,\\\n",
    "       lr=0.5, adaptive_lr=True, tol=1e-4, n_iter_no_change=10, initialization='he-uniform', loss_fn='cross-entropy')\n",
    "t0=time()\n",
    "ml.fit(X_train, Y_train)\n",
    "print('Trained in %.2f minutes'%((time()-t0)/60))\n",
    "print('Test Accuracy : %.2f %c'%(ml.score(X_test, Y_test)*100,'%'))\n",
    "print('Train Accuracy : %.2f %c'%(ml.score(X_train, Y_train)*100,'%'))"
   ]
  },
  {
   "cell_type": "code",
   "execution_count": 39,
   "metadata": {},
   "outputs": [
    {
     "name": "stdout",
     "output_type": "stream",
     "text": [
      "Converged in 330 epochs\n",
      "Trained in 1.09 minutes\n",
      "Test Accuracy : 92.14 %\n",
      "Train Accuracy : 99.86 %\n"
     ]
    }
   ],
   "source": [
    "ml=MLP(layers=[100,100], batch_size=100, activation_fn='sigmoid', max_epoch=3000,\\\n",
    "       lr=0.1, adaptive_lr=False, tol=1e-4, n_iter_no_change=10, initialization='he-uniform', loss_fn='cross-entropy')\n",
    "t0=time()\n",
    "ml.fit(X_train, Y_train)\n",
    "print('Trained in %.2f minutes'%((time()-t0)/60))\n",
    "print('Test Accuracy : %.2f %c'%(ml.score(X_test, Y_test)*100,'%'))\n",
    "print('Train Accuracy : %.2f %c'%(ml.score(X_train, Y_train)*100,'%'))"
   ]
  },
  {
   "cell_type": "code",
   "execution_count": 40,
   "metadata": {},
   "outputs": [
    {
     "name": "stdout",
     "output_type": "stream",
     "text": [
      "Converged in 158 epochs\n",
      "Trained in 0.60 minutes\n",
      "Test Accuracy : 92.80 %\n",
      "Train Accuracy : 100.00 %\n"
     ]
    }
   ],
   "source": [
    "ml=MLP(layers=[100,100], batch_size=100, activation_fn='relu', max_epoch=3000,\\\n",
    "       lr=0.1, adaptive_lr=False, tol=1e-4, n_iter_no_change=10, initialization='he-uniform', loss_fn='cross-entropy')\n",
    "t0=time()\n",
    "ml.fit(X_train, Y_train)\n",
    "print('Trained in %.2f minutes'%((time()-t0)/60))\n",
    "print('Test Accuracy : %.2f %c'%(ml.score(X_test, Y_test)*100,'%'))\n",
    "print('Train Accuracy : %.2f %c'%(ml.score(X_train, Y_train)*100,'%'))"
   ]
  },
  {
   "cell_type": "markdown",
   "metadata": {},
   "source": [
    "# 100\n",
    "## 0.9626 0.9056\n",
    "## 1e-7_1_0.9231_0.8833_742"
   ]
  },
  {
   "cell_type": "code",
   "execution_count": 39,
   "metadata": {
    "scrolled": false
   },
   "outputs": [
    {
     "name": "stderr",
     "output_type": "stream",
     "text": [
      "100%|██████████| 1000/1000 [01:17<00:00, 12.90it/s]\n",
      "  0%|          | 2/1000 [00:00<01:16, 13.12it/s]"
     ]
    },
    {
     "name": "stdout",
     "output_type": "stream",
     "text": [
      "0.04692307692307692\n",
      "0.04830769230769231\n"
     ]
    },
    {
     "name": "stderr",
     "output_type": "stream",
     "text": [
      "100%|██████████| 1000/1000 [01:17<00:00, 12.88it/s]\n",
      "  0%|          | 2/1000 [00:00<01:15, 13.17it/s]"
     ]
    },
    {
     "name": "stdout",
     "output_type": "stream",
     "text": [
      "0.038538461538461535\n",
      "0.038461538461538464\n"
     ]
    },
    {
     "name": "stderr",
     "output_type": "stream",
     "text": [
      "100%|██████████| 1000/1000 [01:17<00:00, 12.84it/s]\n",
      "  0%|          | 2/1000 [00:00<01:15, 13.23it/s]"
     ]
    },
    {
     "name": "stdout",
     "output_type": "stream",
     "text": [
      "0.5196153846153846\n",
      "0.5003076923076923\n"
     ]
    },
    {
     "name": "stderr",
     "output_type": "stream",
     "text": [
      "100%|██████████| 1000/1000 [01:17<00:00, 12.83it/s]\n",
      "  0%|          | 2/1000 [00:00<01:15, 13.20it/s]"
     ]
    },
    {
     "name": "stdout",
     "output_type": "stream",
     "text": [
      "0.2296153846153846\n",
      "0.23123076923076924\n"
     ]
    },
    {
     "name": "stderr",
     "output_type": "stream",
     "text": [
      "100%|██████████| 1000/1000 [01:17<00:00, 12.82it/s]\n",
      "  0%|          | 2/1000 [00:00<01:16, 13.10it/s]"
     ]
    },
    {
     "name": "stdout",
     "output_type": "stream",
     "text": [
      "0.3760769230769231\n",
      "0.35846153846153844\n"
     ]
    },
    {
     "name": "stderr",
     "output_type": "stream",
     "text": [
      "100%|██████████| 1000/1000 [01:18<00:00, 12.80it/s]"
     ]
    },
    {
     "name": "stdout",
     "output_type": "stream",
     "text": [
      "0.45376923076923076\n",
      "0.436\n"
     ]
    },
    {
     "name": "stderr",
     "output_type": "stream",
     "text": [
      "\n"
     ]
    }
   ],
   "source": [
    "tol=1e-5\n",
    "n_iter_no_change=100\n",
    "max_epoch=1000\n",
    "neurons=5\n",
    "\n",
    "ml=MLP(layers=[neurons], batch_size=100, activation_fn='sigmoid', max_epoch=max_epoch,\\\n",
    "       lr=0.1, tol=tol, n_iter_no_change=n_iter_no_change, initialization='normal')\n",
    "ml.fit(X_train, Y_train)\n",
    "print(ml.score(X_train, Y_train))\n",
    "print(ml.score(X_test, Y_test))\n",
    "\n",
    "ml=MLP(layers=[neurons], batch_size=100, activation_fn='sigmoid', max_epoch=max_epoch,\\\n",
    "       lr=0.1, tol=tol, n_iter_no_change=n_iter_no_change, initialization='uniform')\n",
    "ml.fit(X_train, Y_train)\n",
    "print(ml.score(X_train, Y_train))\n",
    "print(ml.score(X_test, Y_test))\n",
    "\n",
    "ml=MLP(layers=[neurons], batch_size=100, activation_fn='sigmoid', max_epoch=max_epoch,\\\n",
    "       lr=0.1, tol=tol, n_iter_no_change=n_iter_no_change, initialization='glorot-normal')\n",
    "ml.fit(X_train, Y_train)\n",
    "print(ml.score(X_train, Y_train))\n",
    "print(ml.score(X_test, Y_test))\n",
    "\n",
    "ml=MLP(layers=[neurons], batch_size=100, activation_fn='sigmoid', max_epoch=max_epoch,\\\n",
    "       lr=0.1, tol=tol, n_iter_no_change=n_iter_no_change, initialization='glorot-uniform')\n",
    "ml.fit(X_train, Y_train)\n",
    "print(ml.score(X_train, Y_train))\n",
    "print(ml.score(X_test, Y_test))\n",
    "\n",
    "ml=MLP(layers=[neurons], batch_size=100, activation_fn='sigmoid', max_epoch=max_epoch,\\\n",
    "       lr=0.1, tol=tol, n_iter_no_change=n_iter_no_change, initialization='he-normal')\n",
    "ml.fit(X_train, Y_train)\n",
    "print(ml.score(X_train, Y_train))\n",
    "print(ml.score(X_test, Y_test))\n",
    "\n",
    "ml=MLP(layers=[neurons], batch_size=100, activation_fn='sigmoid', max_epoch=max_epoch,\\\n",
    "       lr=0.1, tol=tol, n_iter_no_change=n_iter_no_change, initialization='he-uniform')\n",
    "ml.fit(X_train, Y_train)\n",
    "print(ml.score(X_train, Y_train))\n",
    "print(ml.score(X_test, Y_test))"
   ]
  },
  {
   "cell_type": "code",
   "execution_count": 40,
   "metadata": {},
   "outputs": [
    {
     "name": "stderr",
     "output_type": "stream",
     "text": [
      "100%|██████████| 100/100 [00:07<00:00, 12.93it/s]\n",
      "  2%|▏         | 2/100 [00:00<00:07, 13.20it/s]"
     ]
    },
    {
     "name": "stdout",
     "output_type": "stream",
     "text": [
      "0.038384615384615385\n",
      "0.03892307692307692\n"
     ]
    },
    {
     "name": "stderr",
     "output_type": "stream",
     "text": [
      "100%|██████████| 100/100 [00:07<00:00, 12.92it/s]\n",
      "  2%|▏         | 2/100 [00:00<00:07, 13.16it/s]"
     ]
    },
    {
     "name": "stdout",
     "output_type": "stream",
     "text": [
      "0.038461538461538464\n",
      "0.038461538461538464\n"
     ]
    },
    {
     "name": "stderr",
     "output_type": "stream",
     "text": [
      "100%|██████████| 100/100 [00:07<00:00, 12.86it/s]\n",
      "  2%|▏         | 2/100 [00:00<00:07, 13.16it/s]"
     ]
    },
    {
     "name": "stdout",
     "output_type": "stream",
     "text": [
      "0.07453846153846154\n",
      "0.06892307692307692\n"
     ]
    },
    {
     "name": "stderr",
     "output_type": "stream",
     "text": [
      "100%|██████████| 100/100 [00:07<00:00, 12.91it/s]\n",
      "  2%|▏         | 2/100 [00:00<00:07, 13.19it/s]"
     ]
    },
    {
     "name": "stdout",
     "output_type": "stream",
     "text": [
      "0.037307692307692306\n",
      "0.038\n"
     ]
    },
    {
     "name": "stderr",
     "output_type": "stream",
     "text": [
      "100%|██████████| 100/100 [00:07<00:00, 12.91it/s]\n",
      "  2%|▏         | 2/100 [00:00<00:07, 13.20it/s]"
     ]
    },
    {
     "name": "stdout",
     "output_type": "stream",
     "text": [
      "0.13253846153846155\n",
      "0.13676923076923078\n"
     ]
    },
    {
     "name": "stderr",
     "output_type": "stream",
     "text": [
      "100%|██████████| 100/100 [00:07<00:00, 12.92it/s]"
     ]
    },
    {
     "name": "stdout",
     "output_type": "stream",
     "text": [
      "0.1296153846153846\n",
      "0.124\n"
     ]
    },
    {
     "name": "stderr",
     "output_type": "stream",
     "text": [
      "\n"
     ]
    }
   ],
   "source": [
    "tol=1e-5\n",
    "n_iter_no_change=100\n",
    "max_epoch=100\n",
    "neurons=5\n",
    "\n",
    "ml=MLP(layers=[neurons], batch_size=100, activation_fn='sigmoid', max_epoch=max_epoch,\\\n",
    "       lr=0.1, tol=tol, n_iter_no_change=n_iter_no_change, initialization='normal')\n",
    "ml.fit(X_train, Y_train)\n",
    "print(ml.score(X_train, Y_train))\n",
    "print(ml.score(X_test, Y_test))\n",
    "\n",
    "ml=MLP(layers=[neurons], batch_size=100, activation_fn='sigmoid', max_epoch=max_epoch,\\\n",
    "       lr=0.1, tol=tol, n_iter_no_change=n_iter_no_change, initialization='uniform')\n",
    "ml.fit(X_train, Y_train)\n",
    "print(ml.score(X_train, Y_train))\n",
    "print(ml.score(X_test, Y_test))\n",
    "\n",
    "ml=MLP(layers=[neurons], batch_size=100, activation_fn='sigmoid', max_epoch=max_epoch,\\\n",
    "       lr=0.1, tol=tol, n_iter_no_change=n_iter_no_change, initialization='glorot-normal')\n",
    "ml.fit(X_train, Y_train)\n",
    "print(ml.score(X_train, Y_train))\n",
    "print(ml.score(X_test, Y_test))\n",
    "\n",
    "ml=MLP(layers=[neurons], batch_size=100, activation_fn='sigmoid', max_epoch=max_epoch,\\\n",
    "       lr=0.1, tol=tol, n_iter_no_change=n_iter_no_change, initialization='glorot-uniform')\n",
    "ml.fit(X_train, Y_train)\n",
    "print(ml.score(X_train, Y_train))\n",
    "print(ml.score(X_test, Y_test))\n",
    "\n",
    "ml=MLP(layers=[neurons], batch_size=100, activation_fn='sigmoid', max_epoch=max_epoch,\\\n",
    "       lr=0.1, tol=tol, n_iter_no_change=n_iter_no_change, initialization='he-normal')\n",
    "ml.fit(X_train, Y_train)\n",
    "print(ml.score(X_train, Y_train))\n",
    "print(ml.score(X_test, Y_test))\n",
    "\n",
    "ml=MLP(layers=[neurons], batch_size=100, activation_fn='sigmoid', max_epoch=max_epoch,\\\n",
    "       lr=0.1, tol=tol, n_iter_no_change=n_iter_no_change, initialization='he-uniform')\n",
    "ml.fit(X_train, Y_train)\n",
    "print(ml.score(X_train, Y_train))\n",
    "print(ml.score(X_test, Y_test))"
   ]
  },
  {
   "cell_type": "code",
   "execution_count": 41,
   "metadata": {},
   "outputs": [
    {
     "name": "stderr",
     "output_type": "stream",
     "text": [
      "100%|██████████| 1500/1500 [01:55<00:00, 12.93it/s]\n",
      "  0%|          | 2/1500 [00:00<01:52, 13.26it/s]"
     ]
    },
    {
     "name": "stdout",
     "output_type": "stream",
     "text": [
      "0.14292307692307693\n",
      "0.13753846153846153\n"
     ]
    },
    {
     "name": "stderr",
     "output_type": "stream",
     "text": [
      "100%|██████████| 1500/1500 [01:56<00:00, 12.92it/s]\n",
      "  0%|          | 2/1500 [00:00<01:52, 13.29it/s]"
     ]
    },
    {
     "name": "stdout",
     "output_type": "stream",
     "text": [
      "0.047538461538461536\n",
      "0.04569230769230769\n"
     ]
    },
    {
     "name": "stderr",
     "output_type": "stream",
     "text": [
      "100%|██████████| 1500/1500 [01:56<00:00, 12.90it/s]\n",
      "  0%|          | 2/1500 [00:00<01:53, 13.15it/s]"
     ]
    },
    {
     "name": "stdout",
     "output_type": "stream",
     "text": [
      "0.562076923076923\n",
      "0.5312307692307693\n"
     ]
    },
    {
     "name": "stderr",
     "output_type": "stream",
     "text": [
      "100%|██████████| 1500/1500 [01:56<00:00, 12.87it/s]\n",
      "  0%|          | 2/1500 [00:00<02:02, 12.20it/s]"
     ]
    },
    {
     "name": "stdout",
     "output_type": "stream",
     "text": [
      "0.2599230769230769\n",
      "0.2601538461538462\n"
     ]
    },
    {
     "name": "stderr",
     "output_type": "stream",
     "text": [
      "100%|██████████| 1500/1500 [01:56<00:00, 12.84it/s]\n",
      "  0%|          | 2/1500 [00:00<01:53, 13.18it/s]"
     ]
    },
    {
     "name": "stdout",
     "output_type": "stream",
     "text": [
      "0.47284615384615386\n",
      "0.45169230769230767\n"
     ]
    },
    {
     "name": "stderr",
     "output_type": "stream",
     "text": [
      "100%|██████████| 1500/1500 [01:56<00:00, 12.84it/s]"
     ]
    },
    {
     "name": "stdout",
     "output_type": "stream",
     "text": [
      "0.5701538461538461\n",
      "0.548923076923077\n"
     ]
    },
    {
     "name": "stderr",
     "output_type": "stream",
     "text": [
      "\n"
     ]
    }
   ],
   "source": [
    "tol=1e-5\n",
    "n_iter_no_change=100\n",
    "max_epoch=1500\n",
    "neurons=5\n",
    "\n",
    "ml=MLP(layers=[neurons], batch_size=100, activation_fn='sigmoid', max_epoch=max_epoch,\\\n",
    "       lr=0.1, tol=tol, n_iter_no_change=n_iter_no_change, initialization='normal')\n",
    "ml.fit(X_train, Y_train)\n",
    "print(ml.score(X_train, Y_train))\n",
    "print(ml.score(X_test, Y_test))\n",
    "\n",
    "ml=MLP(layers=[neurons], batch_size=100, activation_fn='sigmoid', max_epoch=max_epoch,\\\n",
    "       lr=0.1, tol=tol, n_iter_no_change=n_iter_no_change, initialization='uniform')\n",
    "ml.fit(X_train, Y_train)\n",
    "print(ml.score(X_train, Y_train))\n",
    "print(ml.score(X_test, Y_test))\n",
    "\n",
    "ml=MLP(layers=[neurons], batch_size=100, activation_fn='sigmoid', max_epoch=max_epoch,\\\n",
    "       lr=0.1, tol=tol, n_iter_no_change=n_iter_no_change, initialization='glorot-normal')\n",
    "ml.fit(X_train, Y_train)\n",
    "print(ml.score(X_train, Y_train))\n",
    "print(ml.score(X_test, Y_test))\n",
    "\n",
    "ml=MLP(layers=[neurons], batch_size=100, activation_fn='sigmoid', max_epoch=max_epoch,\\\n",
    "       lr=0.1, tol=tol, n_iter_no_change=n_iter_no_change, initialization='glorot-uniform')\n",
    "ml.fit(X_train, Y_train)\n",
    "print(ml.score(X_train, Y_train))\n",
    "print(ml.score(X_test, Y_test))\n",
    "\n",
    "ml=MLP(layers=[neurons], batch_size=100, activation_fn='sigmoid', max_epoch=max_epoch,\\\n",
    "       lr=0.1, tol=tol, n_iter_no_change=n_iter_no_change, initialization='he-normal')\n",
    "ml.fit(X_train, Y_train)\n",
    "print(ml.score(X_train, Y_train))\n",
    "print(ml.score(X_test, Y_test))\n",
    "\n",
    "ml=MLP(layers=[neurons], batch_size=100, activation_fn='sigmoid', max_epoch=max_epoch,\\\n",
    "       lr=0.1, tol=tol, n_iter_no_change=n_iter_no_change, initialization='he-uniform')\n",
    "ml.fit(X_train, Y_train)\n",
    "print(ml.score(X_train, Y_train))\n",
    "print(ml.score(X_test, Y_test))"
   ]
  },
  {
   "cell_type": "code",
   "execution_count": 42,
   "metadata": {},
   "outputs": [
    {
     "name": "stderr",
     "output_type": "stream",
     "text": [
      "100%|██████████| 2000/2000 [02:35<00:00, 12.86it/s]\n",
      "  0%|          | 2/2000 [00:00<02:29, 13.34it/s]"
     ]
    },
    {
     "name": "stdout",
     "output_type": "stream",
     "text": [
      "0.2580769230769231\n",
      "0.2521538461538462\n"
     ]
    },
    {
     "name": "stderr",
     "output_type": "stream",
     "text": [
      "100%|██████████| 2000/2000 [02:36<00:00, 12.80it/s]\n",
      "  0%|          | 2/2000 [00:00<02:31, 13.16it/s]"
     ]
    },
    {
     "name": "stdout",
     "output_type": "stream",
     "text": [
      "0.15461538461538463\n",
      "0.15307692307692308\n"
     ]
    },
    {
     "name": "stderr",
     "output_type": "stream",
     "text": [
      "100%|██████████| 2000/2000 [02:35<00:00, 12.83it/s]\n",
      "  0%|          | 2/2000 [00:00<02:31, 13.23it/s]"
     ]
    },
    {
     "name": "stdout",
     "output_type": "stream",
     "text": [
      "0.5876923076923077\n",
      "0.5463076923076923\n"
     ]
    },
    {
     "name": "stderr",
     "output_type": "stream",
     "text": [
      "100%|██████████| 2000/2000 [02:36<00:00, 12.79it/s]\n",
      "  0%|          | 2/2000 [00:00<02:32, 13.13it/s]"
     ]
    },
    {
     "name": "stdout",
     "output_type": "stream",
     "text": [
      "0.3547692307692308\n",
      "0.35015384615384615\n"
     ]
    },
    {
     "name": "stderr",
     "output_type": "stream",
     "text": [
      "100%|██████████| 2000/2000 [02:36<00:00, 12.81it/s]\n",
      "  0%|          | 2/2000 [00:00<02:31, 13.17it/s]"
     ]
    },
    {
     "name": "stdout",
     "output_type": "stream",
     "text": [
      "0.5377692307692308\n",
      "0.5066153846153846\n"
     ]
    },
    {
     "name": "stderr",
     "output_type": "stream",
     "text": [
      "100%|██████████| 2000/2000 [02:35<00:00, 12.88it/s]"
     ]
    },
    {
     "name": "stdout",
     "output_type": "stream",
     "text": [
      "0.6057692307692307\n",
      "0.578\n"
     ]
    },
    {
     "name": "stderr",
     "output_type": "stream",
     "text": [
      "\n"
     ]
    }
   ],
   "source": [
    "tol=1e-5\n",
    "n_iter_no_change=100\n",
    "max_epoch=2000\n",
    "neurons=5\n",
    "\n",
    "ml=MLP(layers=[neurons], batch_size=100, activation_fn='sigmoid', max_epoch=max_epoch,\\\n",
    "       lr=0.1, tol=tol, n_iter_no_change=n_iter_no_change, initialization='normal')\n",
    "ml.fit(X_train, Y_train)\n",
    "print(ml.score(X_train, Y_train))\n",
    "print(ml.score(X_test, Y_test))\n",
    "\n",
    "ml=MLP(layers=[neurons], batch_size=100, activation_fn='sigmoid', max_epoch=max_epoch,\\\n",
    "       lr=0.1, tol=tol, n_iter_no_change=n_iter_no_change, initialization='uniform')\n",
    "ml.fit(X_train, Y_train)\n",
    "print(ml.score(X_train, Y_train))\n",
    "print(ml.score(X_test, Y_test))\n",
    "\n",
    "ml=MLP(layers=[neurons], batch_size=100, activation_fn='sigmoid', max_epoch=max_epoch,\\\n",
    "       lr=0.1, tol=tol, n_iter_no_change=n_iter_no_change, initialization='glorot-normal')\n",
    "ml.fit(X_train, Y_train)\n",
    "print(ml.score(X_train, Y_train))\n",
    "print(ml.score(X_test, Y_test))\n",
    "\n",
    "ml=MLP(layers=[neurons], batch_size=100, activation_fn='sigmoid', max_epoch=max_epoch,\\\n",
    "       lr=0.1, tol=tol, n_iter_no_change=n_iter_no_change, initialization='glorot-uniform')\n",
    "ml.fit(X_train, Y_train)\n",
    "print(ml.score(X_train, Y_train))\n",
    "print(ml.score(X_test, Y_test))\n",
    "\n",
    "ml=MLP(layers=[neurons], batch_size=100, activation_fn='sigmoid', max_epoch=max_epoch,\\\n",
    "       lr=0.1, tol=tol, n_iter_no_change=n_iter_no_change, initialization='he-normal')\n",
    "ml.fit(X_train, Y_train)\n",
    "print(ml.score(X_train, Y_train))\n",
    "print(ml.score(X_test, Y_test))\n",
    "\n",
    "ml=MLP(layers=[neurons], batch_size=100, activation_fn='sigmoid', max_epoch=max_epoch,\\\n",
    "       lr=0.1, tol=tol, n_iter_no_change=n_iter_no_change, initialization='he-uniform')\n",
    "ml.fit(X_train, Y_train)\n",
    "print(ml.score(X_train, Y_train))\n",
    "print(ml.score(X_test, Y_test))"
   ]
  },
  {
   "cell_type": "code",
   "execution_count": 48,
   "metadata": {},
   "outputs": [
    {
     "name": "stderr",
     "output_type": "stream",
     "text": [
      "100%|██████████| 500/500 [00:38<00:00, 12.94it/s]\n",
      "  0%|          | 2/500 [00:00<00:38, 13.03it/s]"
     ]
    },
    {
     "name": "stdout",
     "output_type": "stream",
     "text": [
      "0.03907692307692308\n",
      "0.039384615384615386\n"
     ]
    },
    {
     "name": "stderr",
     "output_type": "stream",
     "text": [
      "100%|██████████| 500/500 [00:38<00:00, 12.90it/s]\n",
      "  0%|          | 2/500 [00:00<00:38, 13.02it/s]"
     ]
    },
    {
     "name": "stdout",
     "output_type": "stream",
     "text": [
      "0.041923076923076924\n",
      "0.03969230769230769\n"
     ]
    },
    {
     "name": "stderr",
     "output_type": "stream",
     "text": [
      "100%|██████████| 500/500 [00:38<00:00, 12.84it/s]\n",
      "  0%|          | 2/500 [00:00<00:37, 13.29it/s]"
     ]
    },
    {
     "name": "stdout",
     "output_type": "stream",
     "text": [
      "0.32453846153846155\n",
      "0.3346153846153846\n"
     ]
    },
    {
     "name": "stderr",
     "output_type": "stream",
     "text": [
      "100%|██████████| 500/500 [00:38<00:00, 12.91it/s]\n",
      "  0%|          | 2/500 [00:00<00:37, 13.27it/s]"
     ]
    },
    {
     "name": "stdout",
     "output_type": "stream",
     "text": [
      "0.107\n",
      "0.11492307692307692\n"
     ]
    },
    {
     "name": "stderr",
     "output_type": "stream",
     "text": [
      "100%|██████████| 500/500 [00:38<00:00, 12.87it/s]\n",
      "  0%|          | 2/500 [00:00<00:37, 13.20it/s]"
     ]
    },
    {
     "name": "stdout",
     "output_type": "stream",
     "text": [
      "0.3096923076923077\n",
      "0.3010769230769231\n"
     ]
    },
    {
     "name": "stderr",
     "output_type": "stream",
     "text": [
      "100%|██████████| 500/500 [00:38<00:00, 12.86it/s]"
     ]
    },
    {
     "name": "stdout",
     "output_type": "stream",
     "text": [
      "0.2802307692307692\n",
      "0.28584615384615386\n"
     ]
    },
    {
     "name": "stderr",
     "output_type": "stream",
     "text": [
      "\n"
     ]
    }
   ],
   "source": [
    "tol=1e-5\n",
    "n_iter_no_change=100\n",
    "max_epoch=500\n",
    "neurons=5\n",
    "\n",
    "ml=MLP(layers=[neurons], batch_size=100, activation_fn='sigmoid', max_epoch=max_epoch,\\\n",
    "       lr=0.1, tol=tol, n_iter_no_change=n_iter_no_change, initialization='normal')\n",
    "ml.fit(X_train, Y_train)\n",
    "print(ml.score(X_train, Y_train))\n",
    "print(ml.score(X_test, Y_test))\n",
    "\n",
    "ml=MLP(layers=[neurons], batch_size=100, activation_fn='sigmoid', max_epoch=max_epoch,\\\n",
    "       lr=0.1, tol=tol, n_iter_no_change=n_iter_no_change, initialization='uniform')\n",
    "ml.fit(X_train, Y_train)\n",
    "print(ml.score(X_train, Y_train))\n",
    "print(ml.score(X_test, Y_test))\n",
    "\n",
    "ml=MLP(layers=[neurons], batch_size=100, activation_fn='sigmoid', max_epoch=max_epoch,\\\n",
    "       lr=0.1, tol=tol, n_iter_no_change=n_iter_no_change, initialization='glorot-normal')\n",
    "ml.fit(X_train, Y_train)\n",
    "print(ml.score(X_train, Y_train))\n",
    "print(ml.score(X_test, Y_test))\n",
    "\n",
    "ml=MLP(layers=[neurons], batch_size=100, activation_fn='sigmoid', max_epoch=max_epoch,\\\n",
    "       lr=0.1, tol=tol, n_iter_no_change=n_iter_no_change, initialization='glorot-uniform')\n",
    "ml.fit(X_train, Y_train)\n",
    "print(ml.score(X_train, Y_train))\n",
    "print(ml.score(X_test, Y_test))\n",
    "\n",
    "ml=MLP(layers=[neurons], batch_size=100, activation_fn='sigmoid', max_epoch=max_epoch,\\\n",
    "       lr=0.1, tol=tol, n_iter_no_change=n_iter_no_change, initialization='he-normal')\n",
    "ml.fit(X_train, Y_train)\n",
    "print(ml.score(X_train, Y_train))\n",
    "print(ml.score(X_test, Y_test))\n",
    "\n",
    "ml=MLP(layers=[neurons], batch_size=100, activation_fn='sigmoid', max_epoch=max_epoch,\\\n",
    "       lr=0.1, tol=tol, n_iter_no_change=n_iter_no_change, initialization='he-uniform')\n",
    "ml.fit(X_train, Y_train)\n",
    "print(ml.score(X_train, Y_train))\n",
    "print(ml.score(X_test, Y_test))"
   ]
  },
  {
   "cell_type": "code",
   "execution_count": 43,
   "metadata": {},
   "outputs": [
    {
     "name": "stderr",
     "output_type": "stream",
     "text": [
      "100%|██████████| 1000/1000 [01:23<00:00, 11.94it/s]\n",
      "  0%|          | 2/1000 [00:00<01:22, 12.14it/s]"
     ]
    },
    {
     "name": "stdout",
     "output_type": "stream",
     "text": [
      "0.6695384615384615\n",
      "0.6487692307692308\n"
     ]
    },
    {
     "name": "stderr",
     "output_type": "stream",
     "text": [
      "100%|██████████| 1000/1000 [01:24<00:00, 11.86it/s]\n",
      "  0%|          | 2/1000 [00:00<01:21, 12.18it/s]"
     ]
    },
    {
     "name": "stdout",
     "output_type": "stream",
     "text": [
      "0.324\n",
      "0.3243076923076923\n"
     ]
    },
    {
     "name": "stderr",
     "output_type": "stream",
     "text": [
      "100%|██████████| 1000/1000 [01:24<00:00, 11.83it/s]\n",
      "  0%|          | 2/1000 [00:00<01:21, 12.20it/s]"
     ]
    },
    {
     "name": "stdout",
     "output_type": "stream",
     "text": [
      "0.8176153846153846\n",
      "0.7746153846153846\n"
     ]
    },
    {
     "name": "stderr",
     "output_type": "stream",
     "text": [
      "100%|██████████| 1000/1000 [01:24<00:00, 11.86it/s]\n",
      "  0%|          | 2/1000 [00:00<01:21, 12.23it/s]"
     ]
    },
    {
     "name": "stdout",
     "output_type": "stream",
     "text": [
      "0.8142307692307692\n",
      "0.7709230769230769\n"
     ]
    },
    {
     "name": "stderr",
     "output_type": "stream",
     "text": [
      "100%|██████████| 1000/1000 [01:24<00:00, 11.88it/s]\n",
      "  0%|          | 2/1000 [00:00<01:25, 11.69it/s]"
     ]
    },
    {
     "name": "stdout",
     "output_type": "stream",
     "text": [
      "0.8076153846153846\n",
      "0.7498461538461538\n"
     ]
    },
    {
     "name": "stderr",
     "output_type": "stream",
     "text": [
      "100%|██████████| 1000/1000 [01:24<00:00, 11.86it/s]"
     ]
    },
    {
     "name": "stdout",
     "output_type": "stream",
     "text": [
      "0.8085384615384615\n",
      "0.7636923076923077\n"
     ]
    },
    {
     "name": "stderr",
     "output_type": "stream",
     "text": [
      "\n"
     ]
    }
   ],
   "source": [
    "tol=1e-5\n",
    "n_iter_no_change=100\n",
    "max_epoch=1000\n",
    "neurons=10\n",
    "\n",
    "ml=MLP(layers=[neurons], batch_size=100, activation_fn='sigmoid', max_epoch=max_epoch,\\\n",
    "       lr=0.1, tol=tol, n_iter_no_change=n_iter_no_change, initialization='normal')\n",
    "ml.fit(X_train, Y_train)\n",
    "print(ml.score(X_train, Y_train))\n",
    "print(ml.score(X_test, Y_test))\n",
    "\n",
    "ml=MLP(layers=[neurons], batch_size=100, activation_fn='sigmoid', max_epoch=max_epoch,\\\n",
    "       lr=0.1, tol=tol, n_iter_no_change=n_iter_no_change, initialization='uniform')\n",
    "ml.fit(X_train, Y_train)\n",
    "print(ml.score(X_train, Y_train))\n",
    "print(ml.score(X_test, Y_test))\n",
    "\n",
    "ml=MLP(layers=[neurons], batch_size=100, activation_fn='sigmoid', max_epoch=max_epoch,\\\n",
    "       lr=0.1, tol=tol, n_iter_no_change=n_iter_no_change, initialization='glorot-normal')\n",
    "ml.fit(X_train, Y_train)\n",
    "print(ml.score(X_train, Y_train))\n",
    "print(ml.score(X_test, Y_test))\n",
    "\n",
    "ml=MLP(layers=[neurons], batch_size=100, activation_fn='sigmoid', max_epoch=max_epoch,\\\n",
    "       lr=0.1, tol=tol, n_iter_no_change=n_iter_no_change, initialization='glorot-uniform')\n",
    "ml.fit(X_train, Y_train)\n",
    "print(ml.score(X_train, Y_train))\n",
    "print(ml.score(X_test, Y_test))\n",
    "\n",
    "ml=MLP(layers=[neurons], batch_size=100, activation_fn='sigmoid', max_epoch=max_epoch,\\\n",
    "       lr=0.1, tol=tol, n_iter_no_change=n_iter_no_change, initialization='he-normal')\n",
    "ml.fit(X_train, Y_train)\n",
    "print(ml.score(X_train, Y_train))\n",
    "print(ml.score(X_test, Y_test))\n",
    "\n",
    "ml=MLP(layers=[neurons], batch_size=100, activation_fn='sigmoid', max_epoch=max_epoch,\\\n",
    "       lr=0.1, tol=tol, n_iter_no_change=n_iter_no_change, initialization='he-uniform')\n",
    "ml.fit(X_train, Y_train)\n",
    "print(ml.score(X_train, Y_train))\n",
    "print(ml.score(X_test, Y_test))"
   ]
  },
  {
   "cell_type": "code",
   "execution_count": 44,
   "metadata": {},
   "outputs": [
    {
     "name": "stderr",
     "output_type": "stream",
     "text": [
      "100%|██████████| 1500/1500 [02:06<00:00, 11.90it/s]\n",
      "  0%|          | 2/1500 [00:00<02:02, 12.23it/s]"
     ]
    },
    {
     "name": "stdout",
     "output_type": "stream",
     "text": [
      "0.7288461538461538\n",
      "0.6795384615384615\n"
     ]
    },
    {
     "name": "stderr",
     "output_type": "stream",
     "text": [
      "100%|██████████| 1500/1500 [02:06<00:00, 11.89it/s]\n",
      "  0%|          | 2/1500 [00:00<02:02, 12.21it/s]"
     ]
    },
    {
     "name": "stdout",
     "output_type": "stream",
     "text": [
      "0.6255384615384615\n",
      "0.6072307692307692\n"
     ]
    },
    {
     "name": "stderr",
     "output_type": "stream",
     "text": [
      "100%|██████████| 1500/1500 [02:06<00:00, 11.89it/s]\n",
      "  0%|          | 2/1500 [00:00<02:08, 11.64it/s]"
     ]
    },
    {
     "name": "stdout",
     "output_type": "stream",
     "text": [
      "0.8358461538461538\n",
      "0.7801538461538462\n"
     ]
    },
    {
     "name": "stderr",
     "output_type": "stream",
     "text": [
      "100%|██████████| 1500/1500 [02:05<00:00, 11.91it/s]\n",
      "  0%|          | 2/1500 [00:00<02:01, 12.31it/s]"
     ]
    },
    {
     "name": "stdout",
     "output_type": "stream",
     "text": [
      "0.8279230769230769\n",
      "0.774\n"
     ]
    },
    {
     "name": "stderr",
     "output_type": "stream",
     "text": [
      "100%|██████████| 1500/1500 [02:06<00:00, 11.89it/s]\n",
      "  0%|          | 2/1500 [00:00<02:02, 12.19it/s]"
     ]
    },
    {
     "name": "stdout",
     "output_type": "stream",
     "text": [
      "0.8235384615384616\n",
      "0.752\n"
     ]
    },
    {
     "name": "stderr",
     "output_type": "stream",
     "text": [
      "100%|██████████| 1500/1500 [02:06<00:00, 11.86it/s]"
     ]
    },
    {
     "name": "stdout",
     "output_type": "stream",
     "text": [
      "0.8228461538461539\n",
      "0.7638461538461538\n"
     ]
    },
    {
     "name": "stderr",
     "output_type": "stream",
     "text": [
      "\n"
     ]
    }
   ],
   "source": [
    "tol=1e-5\n",
    "n_iter_no_change=100\n",
    "max_epoch=1500\n",
    "neurons=10\n",
    "\n",
    "ml=MLP(layers=[neurons], batch_size=100, activation_fn='sigmoid', max_epoch=max_epoch,\\\n",
    "       lr=0.1, tol=tol, n_iter_no_change=n_iter_no_change, initialization='normal')\n",
    "ml.fit(X_train, Y_train)\n",
    "print(ml.score(X_train, Y_train))\n",
    "print(ml.score(X_test, Y_test))\n",
    "\n",
    "ml=MLP(layers=[neurons], batch_size=100, activation_fn='sigmoid', max_epoch=max_epoch,\\\n",
    "       lr=0.1, tol=tol, n_iter_no_change=n_iter_no_change, initialization='uniform')\n",
    "ml.fit(X_train, Y_train)\n",
    "print(ml.score(X_train, Y_train))\n",
    "print(ml.score(X_test, Y_test))\n",
    "\n",
    "ml=MLP(layers=[neurons], batch_size=100, activation_fn='sigmoid', max_epoch=max_epoch,\\\n",
    "       lr=0.1, tol=tol, n_iter_no_change=n_iter_no_change, initialization='glorot-normal')\n",
    "ml.fit(X_train, Y_train)\n",
    "print(ml.score(X_train, Y_train))\n",
    "print(ml.score(X_test, Y_test))\n",
    "\n",
    "ml=MLP(layers=[neurons], batch_size=100, activation_fn='sigmoid', max_epoch=max_epoch,\\\n",
    "       lr=0.1, tol=tol, n_iter_no_change=n_iter_no_change, initialization='glorot-uniform')\n",
    "ml.fit(X_train, Y_train)\n",
    "print(ml.score(X_train, Y_train))\n",
    "print(ml.score(X_test, Y_test))\n",
    "\n",
    "ml=MLP(layers=[neurons], batch_size=100, activation_fn='sigmoid', max_epoch=max_epoch,\\\n",
    "       lr=0.1, tol=tol, n_iter_no_change=n_iter_no_change, initialization='he-normal')\n",
    "ml.fit(X_train, Y_train)\n",
    "print(ml.score(X_train, Y_train))\n",
    "print(ml.score(X_test, Y_test))\n",
    "\n",
    "ml=MLP(layers=[neurons], batch_size=100, activation_fn='sigmoid', max_epoch=max_epoch,\\\n",
    "       lr=0.1, tol=tol, n_iter_no_change=n_iter_no_change, initialization='he-uniform')\n",
    "ml.fit(X_train, Y_train)\n",
    "print(ml.score(X_train, Y_train))\n",
    "print(ml.score(X_test, Y_test))"
   ]
  },
  {
   "cell_type": "code",
   "execution_count": 45,
   "metadata": {},
   "outputs": [
    {
     "name": "stderr",
     "output_type": "stream",
     "text": [
      "100%|██████████| 2000/2000 [02:48<00:00, 11.88it/s]\n",
      "  0%|          | 2/2000 [00:00<02:44, 12.18it/s]"
     ]
    },
    {
     "name": "stdout",
     "output_type": "stream",
     "text": [
      "0.766\n",
      "0.6995384615384616\n"
     ]
    },
    {
     "name": "stderr",
     "output_type": "stream",
     "text": [
      "100%|██████████| 2000/2000 [02:47<00:00, 11.94it/s]\n",
      "  0%|          | 2/2000 [00:00<02:42, 12.31it/s]"
     ]
    },
    {
     "name": "stdout",
     "output_type": "stream",
     "text": [
      "0.7201538461538461\n",
      "0.6823076923076923\n"
     ]
    },
    {
     "name": "stderr",
     "output_type": "stream",
     "text": [
      "100%|██████████| 2000/2000 [02:47<00:00, 11.95it/s]\n",
      "  0%|          | 2/2000 [00:00<02:42, 12.30it/s]"
     ]
    },
    {
     "name": "stdout",
     "output_type": "stream",
     "text": [
      "0.8426153846153847\n",
      "0.7773846153846153\n"
     ]
    },
    {
     "name": "stderr",
     "output_type": "stream",
     "text": [
      "100%|██████████| 2000/2000 [02:48<00:00, 11.86it/s]\n",
      "  0%|          | 2/2000 [00:00<02:44, 12.18it/s]"
     ]
    },
    {
     "name": "stdout",
     "output_type": "stream",
     "text": [
      "0.8359230769230769\n",
      "0.7738461538461539\n"
     ]
    },
    {
     "name": "stderr",
     "output_type": "stream",
     "text": [
      "100%|██████████| 2000/2000 [02:48<00:00, 11.85it/s]\n",
      "  0%|          | 2/2000 [00:00<02:57, 11.23it/s]"
     ]
    },
    {
     "name": "stdout",
     "output_type": "stream",
     "text": [
      "0.8308461538461539\n",
      "0.7512307692307693\n"
     ]
    },
    {
     "name": "stderr",
     "output_type": "stream",
     "text": [
      "100%|██████████| 2000/2000 [02:46<00:00, 11.98it/s]"
     ]
    },
    {
     "name": "stdout",
     "output_type": "stream",
     "text": [
      "0.8292307692307692\n",
      "0.7610769230769231\n"
     ]
    },
    {
     "name": "stderr",
     "output_type": "stream",
     "text": [
      "\n"
     ]
    }
   ],
   "source": [
    "tol=1e-5\n",
    "n_iter_no_change=100\n",
    "max_epoch=2000\n",
    "neurons=10\n",
    "\n",
    "ml=MLP(layers=[neurons], batch_size=100, activation_fn='sigmoid', max_epoch=max_epoch,\\\n",
    "       lr=0.1, tol=tol, n_iter_no_change=n_iter_no_change, initialization='normal')\n",
    "ml.fit(X_train, Y_train)\n",
    "print(ml.score(X_train, Y_train))\n",
    "print(ml.score(X_test, Y_test))\n",
    "\n",
    "ml=MLP(layers=[neurons], batch_size=100, activation_fn='sigmoid', max_epoch=max_epoch,\\\n",
    "       lr=0.1, tol=tol, n_iter_no_change=n_iter_no_change, initialization='uniform')\n",
    "ml.fit(X_train, Y_train)\n",
    "print(ml.score(X_train, Y_train))\n",
    "print(ml.score(X_test, Y_test))\n",
    "\n",
    "ml=MLP(layers=[neurons], batch_size=100, activation_fn='sigmoid', max_epoch=max_epoch,\\\n",
    "       lr=0.1, tol=tol, n_iter_no_change=n_iter_no_change, initialization='glorot-normal')\n",
    "ml.fit(X_train, Y_train)\n",
    "print(ml.score(X_train, Y_train))\n",
    "print(ml.score(X_test, Y_test))\n",
    "\n",
    "ml=MLP(layers=[neurons], batch_size=100, activation_fn='sigmoid', max_epoch=max_epoch,\\\n",
    "       lr=0.1, tol=tol, n_iter_no_change=n_iter_no_change, initialization='glorot-uniform')\n",
    "ml.fit(X_train, Y_train)\n",
    "print(ml.score(X_train, Y_train))\n",
    "print(ml.score(X_test, Y_test))\n",
    "\n",
    "ml=MLP(layers=[neurons], batch_size=100, activation_fn='sigmoid', max_epoch=max_epoch,\\\n",
    "       lr=0.1, tol=tol, n_iter_no_change=n_iter_no_change, initialization='he-normal')\n",
    "ml.fit(X_train, Y_train)\n",
    "print(ml.score(X_train, Y_train))\n",
    "print(ml.score(X_test, Y_test))\n",
    "\n",
    "ml=MLP(layers=[neurons], batch_size=100, activation_fn='sigmoid', max_epoch=max_epoch,\\\n",
    "       lr=0.1, tol=tol, n_iter_no_change=n_iter_no_change, initialization='he-uniform')\n",
    "ml.fit(X_train, Y_train)\n",
    "print(ml.score(X_train, Y_train))\n",
    "print(ml.score(X_test, Y_test))"
   ]
  },
  {
   "cell_type": "code",
   "execution_count": 46,
   "metadata": {},
   "outputs": [
    {
     "name": "stderr",
     "output_type": "stream",
     "text": [
      "100%|██████████| 500/500 [00:42<00:00, 11.88it/s]\n",
      "  0%|          | 2/500 [00:00<00:40, 12.27it/s]"
     ]
    },
    {
     "name": "stdout",
     "output_type": "stream",
     "text": [
      "0.39076923076923076\n",
      "0.386\n"
     ]
    },
    {
     "name": "stderr",
     "output_type": "stream",
     "text": [
      "100%|██████████| 500/500 [00:41<00:00, 11.92it/s]\n",
      "  0%|          | 2/500 [00:00<00:40, 12.27it/s]"
     ]
    },
    {
     "name": "stdout",
     "output_type": "stream",
     "text": [
      "0.11115384615384616\n",
      "0.11523076923076923\n"
     ]
    },
    {
     "name": "stderr",
     "output_type": "stream",
     "text": [
      "100%|██████████| 500/500 [00:41<00:00, 11.92it/s]\n",
      "  0%|          | 2/500 [00:00<00:40, 12.28it/s]"
     ]
    },
    {
     "name": "stdout",
     "output_type": "stream",
     "text": [
      "0.7523076923076923\n",
      "0.7253846153846154\n"
     ]
    },
    {
     "name": "stderr",
     "output_type": "stream",
     "text": [
      "100%|██████████| 500/500 [00:41<00:00, 11.93it/s]\n",
      "  0%|          | 2/500 [00:00<00:40, 12.23it/s]"
     ]
    },
    {
     "name": "stdout",
     "output_type": "stream",
     "text": [
      "0.7783076923076923\n",
      "0.7584615384615384\n"
     ]
    },
    {
     "name": "stderr",
     "output_type": "stream",
     "text": [
      "100%|██████████| 500/500 [00:41<00:00, 11.92it/s]\n",
      "  0%|          | 2/500 [00:00<00:40, 12.23it/s]"
     ]
    },
    {
     "name": "stdout",
     "output_type": "stream",
     "text": [
      "0.75\n",
      "0.7235384615384616\n"
     ]
    },
    {
     "name": "stderr",
     "output_type": "stream",
     "text": [
      "100%|██████████| 500/500 [00:41<00:00, 11.98it/s]"
     ]
    },
    {
     "name": "stdout",
     "output_type": "stream",
     "text": [
      "0.77\n",
      "0.7409230769230769\n"
     ]
    },
    {
     "name": "stderr",
     "output_type": "stream",
     "text": [
      "\n"
     ]
    }
   ],
   "source": [
    "tol=1e-5\n",
    "n_iter_no_change=100\n",
    "max_epoch=500\n",
    "neurons=10\n",
    "\n",
    "ml=MLP(layers=[neurons], batch_size=100, activation_fn='sigmoid', max_epoch=max_epoch,\\\n",
    "       lr=0.1, tol=tol, n_iter_no_change=n_iter_no_change, initialization='normal')\n",
    "ml.fit(X_train, Y_train)\n",
    "print(ml.score(X_train, Y_train))\n",
    "print(ml.score(X_test, Y_test))\n",
    "\n",
    "ml=MLP(layers=[neurons], batch_size=100, activation_fn='sigmoid', max_epoch=max_epoch,\\\n",
    "       lr=0.1, tol=tol, n_iter_no_change=n_iter_no_change, initialization='uniform')\n",
    "ml.fit(X_train, Y_train)\n",
    "print(ml.score(X_train, Y_train))\n",
    "print(ml.score(X_test, Y_test))\n",
    "\n",
    "ml=MLP(layers=[neurons], batch_size=100, activation_fn='sigmoid', max_epoch=max_epoch,\\\n",
    "       lr=0.1, tol=tol, n_iter_no_change=n_iter_no_change, initialization='glorot-normal')\n",
    "ml.fit(X_train, Y_train)\n",
    "print(ml.score(X_train, Y_train))\n",
    "print(ml.score(X_test, Y_test))\n",
    "\n",
    "ml=MLP(layers=[neurons], batch_size=100, activation_fn='sigmoid', max_epoch=max_epoch,\\\n",
    "       lr=0.1, tol=tol, n_iter_no_change=n_iter_no_change, initialization='glorot-uniform')\n",
    "ml.fit(X_train, Y_train)\n",
    "print(ml.score(X_train, Y_train))\n",
    "print(ml.score(X_test, Y_test))\n",
    "\n",
    "ml=MLP(layers=[neurons], batch_size=100, activation_fn='sigmoid', max_epoch=max_epoch,\\\n",
    "       lr=0.1, tol=tol, n_iter_no_change=n_iter_no_change, initialization='he-normal')\n",
    "ml.fit(X_train, Y_train)\n",
    "print(ml.score(X_train, Y_train))\n",
    "print(ml.score(X_test, Y_test))\n",
    "\n",
    "ml=MLP(layers=[neurons], batch_size=100, activation_fn='sigmoid', max_epoch=max_epoch,\\\n",
    "       lr=0.1, tol=tol, n_iter_no_change=n_iter_no_change, initialization='he-uniform')\n",
    "ml.fit(X_train, Y_train)\n",
    "print(ml.score(X_train, Y_train))\n",
    "print(ml.score(X_test, Y_test))"
   ]
  },
  {
   "cell_type": "code",
   "execution_count": 47,
   "metadata": {},
   "outputs": [
    {
     "name": "stderr",
     "output_type": "stream",
     "text": [
      "100%|██████████| 100/100 [00:08<00:00, 11.97it/s]\n",
      "  2%|▏         | 2/100 [00:00<00:07, 12.25it/s]"
     ]
    },
    {
     "name": "stdout",
     "output_type": "stream",
     "text": [
      "0.04053846153846154\n",
      "0.04046153846153846\n"
     ]
    },
    {
     "name": "stderr",
     "output_type": "stream",
     "text": [
      "100%|██████████| 100/100 [00:08<00:00, 12.00it/s]\n",
      "  2%|▏         | 2/100 [00:00<00:07, 12.30it/s]"
     ]
    },
    {
     "name": "stdout",
     "output_type": "stream",
     "text": [
      "0.051076923076923075\n",
      "0.05292307692307692\n"
     ]
    },
    {
     "name": "stderr",
     "output_type": "stream",
     "text": [
      "100%|██████████| 100/100 [00:08<00:00, 12.04it/s]\n",
      "  2%|▏         | 2/100 [00:00<00:07, 12.31it/s]"
     ]
    },
    {
     "name": "stdout",
     "output_type": "stream",
     "text": [
      "0.1443846153846154\n",
      "0.14692307692307693\n"
     ]
    },
    {
     "name": "stderr",
     "output_type": "stream",
     "text": [
      "100%|██████████| 100/100 [00:08<00:00, 12.05it/s]\n",
      "  2%|▏         | 2/100 [00:00<00:07, 12.29it/s]"
     ]
    },
    {
     "name": "stdout",
     "output_type": "stream",
     "text": [
      "0.18223076923076922\n",
      "0.1813846153846154\n"
     ]
    },
    {
     "name": "stderr",
     "output_type": "stream",
     "text": [
      "100%|██████████| 100/100 [00:08<00:00, 12.04it/s]\n",
      "  2%|▏         | 2/100 [00:00<00:07, 12.28it/s]"
     ]
    },
    {
     "name": "stdout",
     "output_type": "stream",
     "text": [
      "0.41123076923076923\n",
      "0.41015384615384615\n"
     ]
    },
    {
     "name": "stderr",
     "output_type": "stream",
     "text": [
      "100%|██████████| 100/100 [00:08<00:00, 12.05it/s]"
     ]
    },
    {
     "name": "stdout",
     "output_type": "stream",
     "text": [
      "0.42023076923076924\n",
      "0.41507692307692307\n"
     ]
    },
    {
     "name": "stderr",
     "output_type": "stream",
     "text": [
      "\n"
     ]
    }
   ],
   "source": [
    "tol=1e-5\n",
    "n_iter_no_change=100\n",
    "max_epoch=100\n",
    "neurons=10\n",
    "\n",
    "ml=MLP(layers=[neurons], batch_size=100, activation_fn='sigmoid', max_epoch=max_epoch,\\\n",
    "       lr=0.1, tol=tol, n_iter_no_change=n_iter_no_change, initialization='normal')\n",
    "ml.fit(X_train, Y_train)\n",
    "print(ml.score(X_train, Y_train))\n",
    "print(ml.score(X_test, Y_test))\n",
    "\n",
    "ml=MLP(layers=[neurons], batch_size=100, activation_fn='sigmoid', max_epoch=max_epoch,\\\n",
    "       lr=0.1, tol=tol, n_iter_no_change=n_iter_no_change, initialization='uniform')\n",
    "ml.fit(X_train, Y_train)\n",
    "print(ml.score(X_train, Y_train))\n",
    "print(ml.score(X_test, Y_test))\n",
    "\n",
    "ml=MLP(layers=[neurons], batch_size=100, activation_fn='sigmoid', max_epoch=max_epoch,\\\n",
    "       lr=0.1, tol=tol, n_iter_no_change=n_iter_no_change, initialization='glorot-normal')\n",
    "ml.fit(X_train, Y_train)\n",
    "print(ml.score(X_train, Y_train))\n",
    "print(ml.score(X_test, Y_test))\n",
    "\n",
    "ml=MLP(layers=[neurons], batch_size=100, activation_fn='sigmoid', max_epoch=max_epoch,\\\n",
    "       lr=0.1, tol=tol, n_iter_no_change=n_iter_no_change, initialization='glorot-uniform')\n",
    "ml.fit(X_train, Y_train)\n",
    "print(ml.score(X_train, Y_train))\n",
    "print(ml.score(X_test, Y_test))\n",
    "\n",
    "ml=MLP(layers=[neurons], batch_size=100, activation_fn='sigmoid', max_epoch=max_epoch,\\\n",
    "       lr=0.1, tol=tol, n_iter_no_change=n_iter_no_change, initialization='he-normal')\n",
    "ml.fit(X_train, Y_train)\n",
    "print(ml.score(X_train, Y_train))\n",
    "print(ml.score(X_test, Y_test))\n",
    "\n",
    "ml=MLP(layers=[neurons], batch_size=100, activation_fn='sigmoid', max_epoch=max_epoch,\\\n",
    "       lr=0.1, tol=tol, n_iter_no_change=n_iter_no_change, initialization='he-uniform')\n",
    "ml.fit(X_train, Y_train)\n",
    "print(ml.score(X_train, Y_train))\n",
    "print(ml.score(X_test, Y_test))"
   ]
  },
  {
   "cell_type": "code",
   "execution_count": 49,
   "metadata": {},
   "outputs": [
    {
     "name": "stderr",
     "output_type": "stream",
     "text": [
      "100%|██████████| 100/100 [00:12<00:00,  7.87it/s]\n",
      "  1%|          | 1/100 [00:00<00:12,  8.09it/s]"
     ]
    },
    {
     "name": "stdout",
     "output_type": "stream",
     "text": [
      "0.692923076923077\n",
      "0.6786153846153846\n"
     ]
    },
    {
     "name": "stderr",
     "output_type": "stream",
     "text": [
      "100%|██████████| 100/100 [00:12<00:00,  7.85it/s]\n",
      "  1%|          | 1/100 [00:00<00:12,  8.07it/s]"
     ]
    },
    {
     "name": "stdout",
     "output_type": "stream",
     "text": [
      "0.49646153846153845\n",
      "0.49230769230769234\n"
     ]
    },
    {
     "name": "stderr",
     "output_type": "stream",
     "text": [
      "100%|██████████| 100/100 [00:12<00:00,  7.85it/s]\n",
      "  1%|          | 1/100 [00:00<00:12,  8.03it/s]"
     ]
    },
    {
     "name": "stdout",
     "output_type": "stream",
     "text": [
      "0.8026923076923077\n",
      "0.7764615384615384\n"
     ]
    },
    {
     "name": "stderr",
     "output_type": "stream",
     "text": [
      "100%|██████████| 100/100 [00:12<00:00,  7.85it/s]\n",
      "  1%|          | 1/100 [00:00<00:12,  8.04it/s]"
     ]
    },
    {
     "name": "stdout",
     "output_type": "stream",
     "text": [
      "0.8061538461538461\n",
      "0.7821538461538462\n"
     ]
    },
    {
     "name": "stderr",
     "output_type": "stream",
     "text": [
      "100%|██████████| 100/100 [00:12<00:00,  7.84it/s]\n",
      "  1%|          | 1/100 [00:00<00:12,  8.08it/s]"
     ]
    },
    {
     "name": "stdout",
     "output_type": "stream",
     "text": [
      "0.8117692307692308\n",
      "0.7844615384615384\n"
     ]
    },
    {
     "name": "stderr",
     "output_type": "stream",
     "text": [
      "100%|██████████| 100/100 [00:12<00:00,  7.86it/s]"
     ]
    },
    {
     "name": "stdout",
     "output_type": "stream",
     "text": [
      "0.8157692307692308\n",
      "0.7896923076923077\n"
     ]
    },
    {
     "name": "stderr",
     "output_type": "stream",
     "text": [
      "\n"
     ]
    }
   ],
   "source": [
    "tol=1e-5\n",
    "n_iter_no_change=100\n",
    "max_epoch=100\n",
    "neurons=50\n",
    "\n",
    "ml=MLP(layers=[neurons], batch_size=100, activation_fn='sigmoid', max_epoch=max_epoch,\\\n",
    "       lr=0.1, tol=tol, n_iter_no_change=n_iter_no_change, initialization='normal')\n",
    "ml.fit(X_train, Y_train)\n",
    "print(ml.score(X_train, Y_train))\n",
    "print(ml.score(X_test, Y_test))\n",
    "\n",
    "ml=MLP(layers=[neurons], batch_size=100, activation_fn='sigmoid', max_epoch=max_epoch,\\\n",
    "       lr=0.1, tol=tol, n_iter_no_change=n_iter_no_change, initialization='uniform')\n",
    "ml.fit(X_train, Y_train)\n",
    "print(ml.score(X_train, Y_train))\n",
    "print(ml.score(X_test, Y_test))\n",
    "\n",
    "ml=MLP(layers=[neurons], batch_size=100, activation_fn='sigmoid', max_epoch=max_epoch,\\\n",
    "       lr=0.1, tol=tol, n_iter_no_change=n_iter_no_change, initialization='glorot-normal')\n",
    "ml.fit(X_train, Y_train)\n",
    "print(ml.score(X_train, Y_train))\n",
    "print(ml.score(X_test, Y_test))\n",
    "\n",
    "ml=MLP(layers=[neurons], batch_size=100, activation_fn='sigmoid', max_epoch=max_epoch,\\\n",
    "       lr=0.1, tol=tol, n_iter_no_change=n_iter_no_change, initialization='glorot-uniform')\n",
    "ml.fit(X_train, Y_train)\n",
    "print(ml.score(X_train, Y_train))\n",
    "print(ml.score(X_test, Y_test))\n",
    "\n",
    "ml=MLP(layers=[neurons], batch_size=100, activation_fn='sigmoid', max_epoch=max_epoch,\\\n",
    "       lr=0.1, tol=tol, n_iter_no_change=n_iter_no_change, initialization='he-normal')\n",
    "ml.fit(X_train, Y_train)\n",
    "print(ml.score(X_train, Y_train))\n",
    "print(ml.score(X_test, Y_test))\n",
    "\n",
    "ml=MLP(layers=[neurons], batch_size=100, activation_fn='sigmoid', max_epoch=max_epoch,\\\n",
    "       lr=0.1, tol=tol, n_iter_no_change=n_iter_no_change, initialization='he-uniform')\n",
    "ml.fit(X_train, Y_train)\n",
    "print(ml.score(X_train, Y_train))\n",
    "print(ml.score(X_test, Y_test))"
   ]
  },
  {
   "cell_type": "code",
   "execution_count": 50,
   "metadata": {},
   "outputs": [
    {
     "name": "stderr",
     "output_type": "stream",
     "text": [
      "100%|██████████| 500/500 [01:03<00:00,  7.84it/s]\n",
      "  0%|          | 1/500 [00:00<01:01,  8.09it/s]"
     ]
    },
    {
     "name": "stdout",
     "output_type": "stream",
     "text": [
      "0.9011538461538462\n",
      "0.8670769230769231\n"
     ]
    },
    {
     "name": "stderr",
     "output_type": "stream",
     "text": [
      "100%|██████████| 500/500 [01:04<00:00,  7.81it/s]\n",
      "  0%|          | 1/500 [00:00<01:02,  8.02it/s]"
     ]
    },
    {
     "name": "stdout",
     "output_type": "stream",
     "text": [
      "0.901\n",
      "0.8613846153846154\n"
     ]
    },
    {
     "name": "stderr",
     "output_type": "stream",
     "text": [
      "100%|██████████| 500/500 [01:04<00:00,  7.76it/s]\n",
      "  0%|          | 1/500 [00:00<01:01,  8.06it/s]"
     ]
    },
    {
     "name": "stdout",
     "output_type": "stream",
     "text": [
      "0.9075384615384615\n",
      "0.8676923076923077\n"
     ]
    },
    {
     "name": "stderr",
     "output_type": "stream",
     "text": [
      "100%|██████████| 500/500 [01:04<00:00,  7.79it/s]\n",
      "  0%|          | 1/500 [00:00<01:02,  8.05it/s]"
     ]
    },
    {
     "name": "stdout",
     "output_type": "stream",
     "text": [
      "0.9116153846153846\n",
      "0.8715384615384615\n"
     ]
    },
    {
     "name": "stderr",
     "output_type": "stream",
     "text": [
      "100%|██████████| 500/500 [01:04<00:00,  7.75it/s]\n",
      "  0%|          | 1/500 [00:00<01:01,  8.09it/s]"
     ]
    },
    {
     "name": "stdout",
     "output_type": "stream",
     "text": [
      "0.909\n",
      "0.8676923076923077\n"
     ]
    },
    {
     "name": "stderr",
     "output_type": "stream",
     "text": [
      "100%|██████████| 500/500 [01:04<00:00,  7.81it/s]"
     ]
    },
    {
     "name": "stdout",
     "output_type": "stream",
     "text": [
      "0.912\n",
      "0.8724615384615385\n"
     ]
    },
    {
     "name": "stderr",
     "output_type": "stream",
     "text": [
      "\n"
     ]
    }
   ],
   "source": [
    "tol=1e-5\n",
    "n_iter_no_change=100\n",
    "max_epoch=500\n",
    "neurons=50\n",
    "\n",
    "ml=MLP(layers=[neurons], batch_size=100, activation_fn='sigmoid', max_epoch=max_epoch,\\\n",
    "       lr=0.1, tol=tol, n_iter_no_change=n_iter_no_change, initialization='normal')\n",
    "ml.fit(X_train, Y_train)\n",
    "print(ml.score(X_train, Y_train))\n",
    "print(ml.score(X_test, Y_test))\n",
    "\n",
    "ml=MLP(layers=[neurons], batch_size=100, activation_fn='sigmoid', max_epoch=max_epoch,\\\n",
    "       lr=0.1, tol=tol, n_iter_no_change=n_iter_no_change, initialization='uniform')\n",
    "ml.fit(X_train, Y_train)\n",
    "print(ml.score(X_train, Y_train))\n",
    "print(ml.score(X_test, Y_test))\n",
    "\n",
    "ml=MLP(layers=[neurons], batch_size=100, activation_fn='sigmoid', max_epoch=max_epoch,\\\n",
    "       lr=0.1, tol=tol, n_iter_no_change=n_iter_no_change, initialization='glorot-normal')\n",
    "ml.fit(X_train, Y_train)\n",
    "print(ml.score(X_train, Y_train))\n",
    "print(ml.score(X_test, Y_test))\n",
    "\n",
    "ml=MLP(layers=[neurons], batch_size=100, activation_fn='sigmoid', max_epoch=max_epoch,\\\n",
    "       lr=0.1, tol=tol, n_iter_no_change=n_iter_no_change, initialization='glorot-uniform')\n",
    "ml.fit(X_train, Y_train)\n",
    "print(ml.score(X_train, Y_train))\n",
    "print(ml.score(X_test, Y_test))\n",
    "\n",
    "ml=MLP(layers=[neurons], batch_size=100, activation_fn='sigmoid', max_epoch=max_epoch,\\\n",
    "       lr=0.1, tol=tol, n_iter_no_change=n_iter_no_change, initialization='he-normal')\n",
    "ml.fit(X_train, Y_train)\n",
    "print(ml.score(X_train, Y_train))\n",
    "print(ml.score(X_test, Y_test))\n",
    "\n",
    "ml=MLP(layers=[neurons], batch_size=100, activation_fn='sigmoid', max_epoch=max_epoch,\\\n",
    "       lr=0.1, tol=tol, n_iter_no_change=n_iter_no_change, initialization='he-uniform')\n",
    "ml.fit(X_train, Y_train)\n",
    "print(ml.score(X_train, Y_train))\n",
    "print(ml.score(X_test, Y_test))"
   ]
  },
  {
   "cell_type": "code",
   "execution_count": 51,
   "metadata": {},
   "outputs": [
    {
     "name": "stderr",
     "output_type": "stream",
     "text": [
      "100%|██████████| 1000/1000 [02:08<00:00,  7.81it/s]\n",
      "  0%|          | 1/1000 [00:00<02:02,  8.14it/s]"
     ]
    },
    {
     "name": "stdout",
     "output_type": "stream",
     "text": [
      "0.9347692307692308\n",
      "0.8884615384615384\n"
     ]
    },
    {
     "name": "stderr",
     "output_type": "stream",
     "text": [
      "100%|██████████| 1000/1000 [02:07<00:00,  7.84it/s]\n",
      "  0%|          | 1/1000 [00:00<02:03,  8.10it/s]"
     ]
    },
    {
     "name": "stdout",
     "output_type": "stream",
     "text": [
      "0.933076923076923\n",
      "0.8813846153846154\n"
     ]
    },
    {
     "name": "stderr",
     "output_type": "stream",
     "text": [
      "100%|██████████| 1000/1000 [02:07<00:00,  7.84it/s]\n",
      "  0%|          | 1/1000 [00:00<02:03,  8.10it/s]"
     ]
    },
    {
     "name": "stdout",
     "output_type": "stream",
     "text": [
      "0.9382307692307692\n",
      "0.8836923076923077\n"
     ]
    },
    {
     "name": "stderr",
     "output_type": "stream",
     "text": [
      "100%|██████████| 1000/1000 [02:07<00:00,  7.83it/s]\n",
      "  0%|          | 1/1000 [00:00<02:03,  8.07it/s]"
     ]
    },
    {
     "name": "stdout",
     "output_type": "stream",
     "text": [
      "0.939923076923077\n",
      "0.8869230769230769\n"
     ]
    },
    {
     "name": "stderr",
     "output_type": "stream",
     "text": [
      "100%|██████████| 1000/1000 [02:07<00:00,  7.82it/s]\n",
      "  0%|          | 1/1000 [00:00<02:03,  8.07it/s]"
     ]
    },
    {
     "name": "stdout",
     "output_type": "stream",
     "text": [
      "0.9362307692307692\n",
      "0.8827692307692308\n"
     ]
    },
    {
     "name": "stderr",
     "output_type": "stream",
     "text": [
      "100%|██████████| 1000/1000 [02:08<00:00,  7.80it/s]"
     ]
    },
    {
     "name": "stdout",
     "output_type": "stream",
     "text": [
      "0.9396153846153846\n",
      "0.8856923076923077\n"
     ]
    },
    {
     "name": "stderr",
     "output_type": "stream",
     "text": [
      "\n"
     ]
    }
   ],
   "source": [
    "tol=1e-5\n",
    "n_iter_no_change=100\n",
    "max_epoch=1000\n",
    "neurons=50\n",
    "\n",
    "ml=MLP(layers=[neurons], batch_size=100, activation_fn='sigmoid', max_epoch=max_epoch,\\\n",
    "       lr=0.1, tol=tol, n_iter_no_change=n_iter_no_change, initialization='normal')\n",
    "ml.fit(X_train, Y_train)\n",
    "print(ml.score(X_train, Y_train))\n",
    "print(ml.score(X_test, Y_test))\n",
    "\n",
    "ml=MLP(layers=[neurons], batch_size=100, activation_fn='sigmoid', max_epoch=max_epoch,\\\n",
    "       lr=0.1, tol=tol, n_iter_no_change=n_iter_no_change, initialization='uniform')\n",
    "ml.fit(X_train, Y_train)\n",
    "print(ml.score(X_train, Y_train))\n",
    "print(ml.score(X_test, Y_test))\n",
    "\n",
    "ml=MLP(layers=[neurons], batch_size=100, activation_fn='sigmoid', max_epoch=max_epoch,\\\n",
    "       lr=0.1, tol=tol, n_iter_no_change=n_iter_no_change, initialization='glorot-normal')\n",
    "ml.fit(X_train, Y_train)\n",
    "print(ml.score(X_train, Y_train))\n",
    "print(ml.score(X_test, Y_test))\n",
    "\n",
    "ml=MLP(layers=[neurons], batch_size=100, activation_fn='sigmoid', max_epoch=max_epoch,\\\n",
    "       lr=0.1, tol=tol, n_iter_no_change=n_iter_no_change, initialization='glorot-uniform')\n",
    "ml.fit(X_train, Y_train)\n",
    "print(ml.score(X_train, Y_train))\n",
    "print(ml.score(X_test, Y_test))\n",
    "\n",
    "ml=MLP(layers=[neurons], batch_size=100, activation_fn='sigmoid', max_epoch=max_epoch,\\\n",
    "       lr=0.1, tol=tol, n_iter_no_change=n_iter_no_change, initialization='he-normal')\n",
    "ml.fit(X_train, Y_train)\n",
    "print(ml.score(X_train, Y_train))\n",
    "print(ml.score(X_test, Y_test))\n",
    "\n",
    "ml=MLP(layers=[neurons], batch_size=100, activation_fn='sigmoid', max_epoch=max_epoch,\\\n",
    "       lr=0.1, tol=tol, n_iter_no_change=n_iter_no_change, initialization='he-uniform')\n",
    "ml.fit(X_train, Y_train)\n",
    "print(ml.score(X_train, Y_train))\n",
    "print(ml.score(X_test, Y_test))"
   ]
  },
  {
   "cell_type": "code",
   "execution_count": 52,
   "metadata": {},
   "outputs": [
    {
     "name": "stderr",
     "output_type": "stream",
     "text": [
      "100%|██████████| 1500/1500 [03:11<00:00,  7.82it/s]\n",
      "  0%|          | 1/1500 [00:00<03:04,  8.13it/s]"
     ]
    },
    {
     "name": "stdout",
     "output_type": "stream",
     "text": [
      "0.9496153846153846\n",
      "0.8924615384615384\n"
     ]
    },
    {
     "name": "stderr",
     "output_type": "stream",
     "text": [
      "100%|██████████| 1500/1500 [03:11<00:00,  7.82it/s]\n",
      "  0%|          | 1/1500 [00:00<03:05,  8.10it/s]"
     ]
    },
    {
     "name": "stdout",
     "output_type": "stream",
     "text": [
      "0.9474615384615385\n",
      "0.8861538461538462\n"
     ]
    },
    {
     "name": "stderr",
     "output_type": "stream",
     "text": [
      "100%|██████████| 1500/1500 [03:12<00:00,  7.81it/s]\n",
      "  0%|          | 1/1500 [00:00<03:04,  8.12it/s]"
     ]
    },
    {
     "name": "stdout",
     "output_type": "stream",
     "text": [
      "0.9505384615384616\n",
      "0.8866153846153846\n"
     ]
    },
    {
     "name": "stderr",
     "output_type": "stream",
     "text": [
      "100%|██████████| 1500/1500 [03:11<00:00,  7.82it/s]\n",
      "  0%|          | 1/1500 [00:00<03:05,  8.09it/s]"
     ]
    },
    {
     "name": "stdout",
     "output_type": "stream",
     "text": [
      "0.9532307692307692\n",
      "0.8910769230769231\n"
     ]
    },
    {
     "name": "stderr",
     "output_type": "stream",
     "text": [
      "100%|██████████| 1500/1500 [03:11<00:00,  7.81it/s]\n",
      "  0%|          | 1/1500 [00:00<03:05,  8.10it/s]"
     ]
    },
    {
     "name": "stdout",
     "output_type": "stream",
     "text": [
      "0.9497692307692308\n",
      "0.8864615384615384\n"
     ]
    },
    {
     "name": "stderr",
     "output_type": "stream",
     "text": [
      "100%|██████████| 1500/1500 [03:11<00:00,  7.84it/s]"
     ]
    },
    {
     "name": "stdout",
     "output_type": "stream",
     "text": [
      "0.9524615384615385\n",
      "0.8887692307692308\n"
     ]
    },
    {
     "name": "stderr",
     "output_type": "stream",
     "text": [
      "\n"
     ]
    }
   ],
   "source": [
    "tol=1e-5\n",
    "n_iter_no_change=100\n",
    "max_epoch=1500\n",
    "neurons=50\n",
    "\n",
    "ml=MLP(layers=[neurons], batch_size=100, activation_fn='sigmoid', max_epoch=max_epoch,\\\n",
    "       lr=0.1, tol=tol, n_iter_no_change=n_iter_no_change, initialization='normal')\n",
    "ml.fit(X_train, Y_train)\n",
    "print(ml.score(X_train, Y_train))\n",
    "print(ml.score(X_test, Y_test))\n",
    "\n",
    "ml=MLP(layers=[neurons], batch_size=100, activation_fn='sigmoid', max_epoch=max_epoch,\\\n",
    "       lr=0.1, tol=tol, n_iter_no_change=n_iter_no_change, initialization='uniform')\n",
    "ml.fit(X_train, Y_train)\n",
    "print(ml.score(X_train, Y_train))\n",
    "print(ml.score(X_test, Y_test))\n",
    "\n",
    "ml=MLP(layers=[neurons], batch_size=100, activation_fn='sigmoid', max_epoch=max_epoch,\\\n",
    "       lr=0.1, tol=tol, n_iter_no_change=n_iter_no_change, initialization='glorot-normal')\n",
    "ml.fit(X_train, Y_train)\n",
    "print(ml.score(X_train, Y_train))\n",
    "print(ml.score(X_test, Y_test))\n",
    "\n",
    "ml=MLP(layers=[neurons], batch_size=100, activation_fn='sigmoid', max_epoch=max_epoch,\\\n",
    "       lr=0.1, tol=tol, n_iter_no_change=n_iter_no_change, initialization='glorot-uniform')\n",
    "ml.fit(X_train, Y_train)\n",
    "print(ml.score(X_train, Y_train))\n",
    "print(ml.score(X_test, Y_test))\n",
    "\n",
    "ml=MLP(layers=[neurons], batch_size=100, activation_fn='sigmoid', max_epoch=max_epoch,\\\n",
    "       lr=0.1, tol=tol, n_iter_no_change=n_iter_no_change, initialization='he-normal')\n",
    "ml.fit(X_train, Y_train)\n",
    "print(ml.score(X_train, Y_train))\n",
    "print(ml.score(X_test, Y_test))\n",
    "\n",
    "ml=MLP(layers=[neurons], batch_size=100, activation_fn='sigmoid', max_epoch=max_epoch,\\\n",
    "       lr=0.1, tol=tol, n_iter_no_change=n_iter_no_change, initialization='he-uniform')\n",
    "ml.fit(X_train, Y_train)\n",
    "print(ml.score(X_train, Y_train))\n",
    "print(ml.score(X_test, Y_test))"
   ]
  },
  {
   "cell_type": "code",
   "execution_count": 53,
   "metadata": {},
   "outputs": [
    {
     "name": "stderr",
     "output_type": "stream",
     "text": [
      "100%|██████████| 2000/2000 [04:15<00:00,  7.83it/s]\n",
      "  0%|          | 1/2000 [00:00<04:07,  8.09it/s]"
     ]
    },
    {
     "name": "stdout",
     "output_type": "stream",
     "text": [
      "0.9574615384615385\n",
      "0.8923076923076924\n"
     ]
    },
    {
     "name": "stderr",
     "output_type": "stream",
     "text": [
      "100%|██████████| 2000/2000 [04:15<00:00,  7.84it/s]\n",
      "  0%|          | 1/2000 [00:00<04:07,  8.07it/s]"
     ]
    },
    {
     "name": "stdout",
     "output_type": "stream",
     "text": [
      "0.9566153846153846\n",
      "0.886\n"
     ]
    },
    {
     "name": "stderr",
     "output_type": "stream",
     "text": [
      "100%|██████████| 2000/2000 [04:16<00:00,  7.79it/s]\n",
      "  0%|          | 1/2000 [00:00<04:08,  8.05it/s]"
     ]
    },
    {
     "name": "stdout",
     "output_type": "stream",
     "text": [
      "0.9583076923076923\n",
      "0.8887692307692308\n"
     ]
    },
    {
     "name": "stderr",
     "output_type": "stream",
     "text": [
      "100%|██████████| 2000/2000 [04:17<00:00,  7.77it/s]\n",
      "  0%|          | 1/2000 [00:00<04:06,  8.11it/s]"
     ]
    },
    {
     "name": "stdout",
     "output_type": "stream",
     "text": [
      "0.9616153846153846\n",
      "0.8932307692307693\n"
     ]
    },
    {
     "name": "stderr",
     "output_type": "stream",
     "text": [
      "100%|██████████| 2000/2000 [04:16<00:00,  7.81it/s]\n",
      "  0%|          | 1/2000 [00:00<04:53,  6.81it/s]"
     ]
    },
    {
     "name": "stdout",
     "output_type": "stream",
     "text": [
      "0.9563076923076923\n",
      "0.8864615384615384\n"
     ]
    },
    {
     "name": "stderr",
     "output_type": "stream",
     "text": [
      "100%|██████████| 2000/2000 [04:15<00:00,  7.83it/s]"
     ]
    },
    {
     "name": "stdout",
     "output_type": "stream",
     "text": [
      "0.9598461538461538\n",
      "0.8916923076923077\n"
     ]
    },
    {
     "name": "stderr",
     "output_type": "stream",
     "text": [
      "\n"
     ]
    }
   ],
   "source": [
    "tol=1e-5\n",
    "n_iter_no_change=100\n",
    "max_epoch=2000\n",
    "neurons=50\n",
    "\n",
    "ml=MLP(layers=[neurons], batch_size=100, activation_fn='sigmoid', max_epoch=max_epoch,\\\n",
    "       lr=0.1, tol=tol, n_iter_no_change=n_iter_no_change, initialization='normal')\n",
    "ml.fit(X_train, Y_train)\n",
    "print(ml.score(X_train, Y_train))\n",
    "print(ml.score(X_test, Y_test))\n",
    "\n",
    "ml=MLP(layers=[neurons], batch_size=100, activation_fn='sigmoid', max_epoch=max_epoch,\\\n",
    "       lr=0.1, tol=tol, n_iter_no_change=n_iter_no_change, initialization='uniform')\n",
    "ml.fit(X_train, Y_train)\n",
    "print(ml.score(X_train, Y_train))\n",
    "print(ml.score(X_test, Y_test))\n",
    "\n",
    "ml=MLP(layers=[neurons], batch_size=100, activation_fn='sigmoid', max_epoch=max_epoch,\\\n",
    "       lr=0.1, tol=tol, n_iter_no_change=n_iter_no_change, initialization='glorot-normal')\n",
    "ml.fit(X_train, Y_train)\n",
    "print(ml.score(X_train, Y_train))\n",
    "print(ml.score(X_test, Y_test))\n",
    "\n",
    "ml=MLP(layers=[neurons], batch_size=100, activation_fn='sigmoid', max_epoch=max_epoch,\\\n",
    "       lr=0.1, tol=tol, n_iter_no_change=n_iter_no_change, initialization='glorot-uniform')\n",
    "ml.fit(X_train, Y_train)\n",
    "print(ml.score(X_train, Y_train))\n",
    "print(ml.score(X_test, Y_test))\n",
    "\n",
    "ml=MLP(layers=[neurons], batch_size=100, activation_fn='sigmoid', max_epoch=max_epoch,\\\n",
    "       lr=0.1, tol=tol, n_iter_no_change=n_iter_no_change, initialization='he-normal')\n",
    "ml.fit(X_train, Y_train)\n",
    "print(ml.score(X_train, Y_train))\n",
    "print(ml.score(X_test, Y_test))\n",
    "\n",
    "ml=MLP(layers=[neurons], batch_size=100, activation_fn='sigmoid', max_epoch=max_epoch,\\\n",
    "       lr=0.1, tol=tol, n_iter_no_change=n_iter_no_change, initialization='he-uniform')\n",
    "ml.fit(X_train, Y_train)\n",
    "print(ml.score(X_train, Y_train))\n",
    "print(ml.score(X_test, Y_test))"
   ]
  },
  {
   "cell_type": "code",
   "execution_count": 54,
   "metadata": {},
   "outputs": [
    {
     "name": "stderr",
     "output_type": "stream",
     "text": [
      "100%|██████████| 100/100 [00:15<00:00,  6.63it/s]\n",
      "  1%|          | 1/100 [00:00<00:14,  6.89it/s]"
     ]
    },
    {
     "name": "stdout",
     "output_type": "stream",
     "text": [
      "0.7958461538461539\n",
      "0.7715384615384615\n"
     ]
    },
    {
     "name": "stderr",
     "output_type": "stream",
     "text": [
      "100%|██████████| 100/100 [00:14<00:00,  6.68it/s]\n",
      "  1%|          | 1/100 [00:00<00:14,  6.84it/s]"
     ]
    },
    {
     "name": "stdout",
     "output_type": "stream",
     "text": [
      "0.7532307692307693\n",
      "0.7330769230769231\n"
     ]
    },
    {
     "name": "stderr",
     "output_type": "stream",
     "text": [
      "100%|██████████| 100/100 [00:15<00:00,  6.66it/s]\n",
      "  1%|          | 1/100 [00:00<00:14,  6.91it/s]"
     ]
    },
    {
     "name": "stdout",
     "output_type": "stream",
     "text": [
      "0.8263076923076923\n",
      "0.7984615384615384\n"
     ]
    },
    {
     "name": "stderr",
     "output_type": "stream",
     "text": [
      "100%|██████████| 100/100 [00:14<00:00,  6.67it/s]\n",
      "  1%|          | 1/100 [00:00<00:14,  6.91it/s]"
     ]
    },
    {
     "name": "stdout",
     "output_type": "stream",
     "text": [
      "0.8293076923076923\n",
      "0.804\n"
     ]
    },
    {
     "name": "stderr",
     "output_type": "stream",
     "text": [
      "100%|██████████| 100/100 [00:14<00:00,  6.77it/s]\n",
      "  1%|          | 1/100 [00:00<00:14,  6.93it/s]"
     ]
    },
    {
     "name": "stdout",
     "output_type": "stream",
     "text": [
      "0.8296153846153846\n",
      "0.8026153846153846\n"
     ]
    },
    {
     "name": "stderr",
     "output_type": "stream",
     "text": [
      "100%|██████████| 100/100 [00:14<00:00,  6.69it/s]\n"
     ]
    },
    {
     "name": "stdout",
     "output_type": "stream",
     "text": [
      "0.8329230769230769\n",
      "0.804923076923077\n"
     ]
    }
   ],
   "source": [
    "tol=1e-5\n",
    "n_iter_no_change=100\n",
    "max_epoch=100\n",
    "neurons=100\n",
    "\n",
    "ml=MLP(layers=[neurons], batch_size=100, activation_fn='sigmoid', max_epoch=max_epoch,\\\n",
    "       lr=0.1, tol=tol, n_iter_no_change=n_iter_no_change, initialization='normal')\n",
    "ml.fit(X_train, Y_train)\n",
    "print(ml.score(X_train, Y_train))\n",
    "print(ml.score(X_test, Y_test))\n",
    "\n",
    "ml=MLP(layers=[neurons], batch_size=100, activation_fn='sigmoid', max_epoch=max_epoch,\\\n",
    "       lr=0.1, tol=tol, n_iter_no_change=n_iter_no_change, initialization='uniform')\n",
    "ml.fit(X_train, Y_train)\n",
    "print(ml.score(X_train, Y_train))\n",
    "print(ml.score(X_test, Y_test))\n",
    "\n",
    "ml=MLP(layers=[neurons], batch_size=100, activation_fn='sigmoid', max_epoch=max_epoch,\\\n",
    "       lr=0.1, tol=tol, n_iter_no_change=n_iter_no_change, initialization='glorot-normal')\n",
    "ml.fit(X_train, Y_train)\n",
    "print(ml.score(X_train, Y_train))\n",
    "print(ml.score(X_test, Y_test))\n",
    "\n",
    "ml=MLP(layers=[neurons], batch_size=100, activation_fn='sigmoid', max_epoch=max_epoch,\\\n",
    "       lr=0.1, tol=tol, n_iter_no_change=n_iter_no_change, initialization='glorot-uniform')\n",
    "ml.fit(X_train, Y_train)\n",
    "print(ml.score(X_train, Y_train))\n",
    "print(ml.score(X_test, Y_test))\n",
    "\n",
    "ml=MLP(layers=[neurons], batch_size=100, activation_fn='sigmoid', max_epoch=max_epoch,\\\n",
    "       lr=0.1, tol=tol, n_iter_no_change=n_iter_no_change, initialization='he-normal')\n",
    "ml.fit(X_train, Y_train)\n",
    "print(ml.score(X_train, Y_train))\n",
    "print(ml.score(X_test, Y_test))\n",
    "\n",
    "ml=MLP(layers=[neurons], batch_size=100, activation_fn='sigmoid', max_epoch=max_epoch,\\\n",
    "       lr=0.1, tol=tol, n_iter_no_change=n_iter_no_change, initialization='he-uniform')\n",
    "ml.fit(X_train, Y_train)\n",
    "print(ml.score(X_train, Y_train))\n",
    "print(ml.score(X_test, Y_test))"
   ]
  },
  {
   "cell_type": "code",
   "execution_count": 55,
   "metadata": {},
   "outputs": [
    {
     "name": "stderr",
     "output_type": "stream",
     "text": [
      "100%|██████████| 500/500 [01:15<00:00,  6.67it/s]\n",
      "  0%|          | 1/500 [00:00<01:12,  6.89it/s]"
     ]
    },
    {
     "name": "stdout",
     "output_type": "stream",
     "text": [
      "0.914923076923077\n",
      "0.8744615384615385\n"
     ]
    },
    {
     "name": "stderr",
     "output_type": "stream",
     "text": [
      "100%|██████████| 500/500 [01:14<00:00,  6.68it/s]\n",
      "  0%|          | 1/500 [00:00<01:11,  6.95it/s]"
     ]
    },
    {
     "name": "stdout",
     "output_type": "stream",
     "text": [
      "0.9118461538461539\n",
      "0.8747692307692307\n"
     ]
    },
    {
     "name": "stderr",
     "output_type": "stream",
     "text": [
      "100%|██████████| 500/500 [01:14<00:00,  6.70it/s]\n",
      "  0%|          | 1/500 [00:00<01:12,  6.91it/s]"
     ]
    },
    {
     "name": "stdout",
     "output_type": "stream",
     "text": [
      "0.9216923076923077\n",
      "0.8790769230769231\n"
     ]
    },
    {
     "name": "stderr",
     "output_type": "stream",
     "text": [
      "100%|██████████| 500/500 [01:14<00:00,  6.68it/s]\n",
      "  0%|          | 1/500 [00:00<01:11,  6.94it/s]"
     ]
    },
    {
     "name": "stdout",
     "output_type": "stream",
     "text": [
      "0.9214615384615384\n",
      "0.8823076923076923\n"
     ]
    },
    {
     "name": "stderr",
     "output_type": "stream",
     "text": [
      "100%|██████████| 500/500 [01:14<00:00,  6.74it/s]\n",
      "  0%|          | 1/500 [00:00<01:12,  6.89it/s]"
     ]
    },
    {
     "name": "stdout",
     "output_type": "stream",
     "text": [
      "0.9226923076923077\n",
      "0.8810769230769231\n"
     ]
    },
    {
     "name": "stderr",
     "output_type": "stream",
     "text": [
      "100%|██████████| 500/500 [01:14<00:00,  6.70it/s]\n"
     ]
    },
    {
     "name": "stdout",
     "output_type": "stream",
     "text": [
      "0.9221538461538461\n",
      "0.8810769230769231\n"
     ]
    }
   ],
   "source": [
    "tol=1e-5\n",
    "n_iter_no_change=100\n",
    "max_epoch=500\n",
    "neurons=100\n",
    "\n",
    "ml=MLP(layers=[neurons], batch_size=100, activation_fn='sigmoid', max_epoch=max_epoch,\\\n",
    "       lr=0.1, tol=tol, n_iter_no_change=n_iter_no_change, initialization='normal')\n",
    "ml.fit(X_train, Y_train)\n",
    "print(ml.score(X_train, Y_train))\n",
    "print(ml.score(X_test, Y_test))\n",
    "\n",
    "ml=MLP(layers=[neurons], batch_size=100, activation_fn='sigmoid', max_epoch=max_epoch,\\\n",
    "       lr=0.1, tol=tol, n_iter_no_change=n_iter_no_change, initialization='uniform')\n",
    "ml.fit(X_train, Y_train)\n",
    "print(ml.score(X_train, Y_train))\n",
    "print(ml.score(X_test, Y_test))\n",
    "\n",
    "ml=MLP(layers=[neurons], batch_size=100, activation_fn='sigmoid', max_epoch=max_epoch,\\\n",
    "       lr=0.1, tol=tol, n_iter_no_change=n_iter_no_change, initialization='glorot-normal')\n",
    "ml.fit(X_train, Y_train)\n",
    "print(ml.score(X_train, Y_train))\n",
    "print(ml.score(X_test, Y_test))\n",
    "\n",
    "ml=MLP(layers=[neurons], batch_size=100, activation_fn='sigmoid', max_epoch=max_epoch,\\\n",
    "       lr=0.1, tol=tol, n_iter_no_change=n_iter_no_change, initialization='glorot-uniform')\n",
    "ml.fit(X_train, Y_train)\n",
    "print(ml.score(X_train, Y_train))\n",
    "print(ml.score(X_test, Y_test))\n",
    "\n",
    "ml=MLP(layers=[neurons], batch_size=100, activation_fn='sigmoid', max_epoch=max_epoch,\\\n",
    "       lr=0.1, tol=tol, n_iter_no_change=n_iter_no_change, initialization='he-normal')\n",
    "ml.fit(X_train, Y_train)\n",
    "print(ml.score(X_train, Y_train))\n",
    "print(ml.score(X_test, Y_test))\n",
    "\n",
    "ml=MLP(layers=[neurons], batch_size=100, activation_fn='sigmoid', max_epoch=max_epoch,\\\n",
    "       lr=0.1, tol=tol, n_iter_no_change=n_iter_no_change, initialization='he-uniform')\n",
    "ml.fit(X_train, Y_train)\n",
    "print(ml.score(X_train, Y_train))\n",
    "print(ml.score(X_test, Y_test))"
   ]
  },
  {
   "cell_type": "code",
   "execution_count": 56,
   "metadata": {},
   "outputs": [
    {
     "name": "stderr",
     "output_type": "stream",
     "text": [
      "100%|██████████| 1000/1000 [02:27<00:00,  6.76it/s]\n",
      "  0%|          | 1/1000 [00:00<02:24,  6.92it/s]"
     ]
    },
    {
     "name": "stdout",
     "output_type": "stream",
     "text": [
      "0.9482307692307692\n",
      "0.8981538461538462\n"
     ]
    },
    {
     "name": "stderr",
     "output_type": "stream",
     "text": [
      "100%|██████████| 1000/1000 [02:27<00:00,  6.79it/s]\n",
      "  0%|          | 1/1000 [00:00<02:22,  7.00it/s]"
     ]
    },
    {
     "name": "stdout",
     "output_type": "stream",
     "text": [
      "0.9467692307692308\n",
      "0.8984615384615384\n"
     ]
    },
    {
     "name": "stderr",
     "output_type": "stream",
     "text": [
      "100%|██████████| 1000/1000 [02:27<00:00,  6.79it/s]\n",
      "  0%|          | 1/1000 [00:00<02:22,  6.99it/s]"
     ]
    },
    {
     "name": "stdout",
     "output_type": "stream",
     "text": [
      "0.9511538461538461\n",
      "0.8964615384615384\n"
     ]
    },
    {
     "name": "stderr",
     "output_type": "stream",
     "text": [
      "100%|██████████| 1000/1000 [02:27<00:00,  6.78it/s]\n",
      "  0%|          | 1/1000 [00:00<02:24,  6.93it/s]"
     ]
    },
    {
     "name": "stdout",
     "output_type": "stream",
     "text": [
      "0.9522307692307692\n",
      "0.8989230769230769\n"
     ]
    },
    {
     "name": "stderr",
     "output_type": "stream",
     "text": [
      "100%|██████████| 1000/1000 [02:28<00:00,  6.74it/s]\n",
      "  0%|          | 1/1000 [00:00<02:23,  6.94it/s]"
     ]
    },
    {
     "name": "stdout",
     "output_type": "stream",
     "text": [
      "0.9513076923076923\n",
      "0.8961538461538462\n"
     ]
    },
    {
     "name": "stderr",
     "output_type": "stream",
     "text": [
      "100%|██████████| 1000/1000 [02:27<00:00,  6.76it/s]\n"
     ]
    },
    {
     "name": "stdout",
     "output_type": "stream",
     "text": [
      "0.9529230769230769\n",
      "0.8984615384615384\n"
     ]
    }
   ],
   "source": [
    "tol=1e-5\n",
    "n_iter_no_change=100\n",
    "max_epoch=1000\n",
    "neurons=100\n",
    "\n",
    "ml=MLP(layers=[neurons], batch_size=100, activation_fn='sigmoid', max_epoch=max_epoch,\\\n",
    "       lr=0.1, tol=tol, n_iter_no_change=n_iter_no_change, initialization='normal')\n",
    "ml.fit(X_train, Y_train)\n",
    "print(ml.score(X_train, Y_train))\n",
    "print(ml.score(X_test, Y_test))\n",
    "\n",
    "ml=MLP(layers=[neurons], batch_size=100, activation_fn='sigmoid', max_epoch=max_epoch,\\\n",
    "       lr=0.1, tol=tol, n_iter_no_change=n_iter_no_change, initialization='uniform')\n",
    "ml.fit(X_train, Y_train)\n",
    "print(ml.score(X_train, Y_train))\n",
    "print(ml.score(X_test, Y_test))\n",
    "\n",
    "ml=MLP(layers=[neurons], batch_size=100, activation_fn='sigmoid', max_epoch=max_epoch,\\\n",
    "       lr=0.1, tol=tol, n_iter_no_change=n_iter_no_change, initialization='glorot-normal')\n",
    "ml.fit(X_train, Y_train)\n",
    "print(ml.score(X_train, Y_train))\n",
    "print(ml.score(X_test, Y_test))\n",
    "\n",
    "ml=MLP(layers=[neurons], batch_size=100, activation_fn='sigmoid', max_epoch=max_epoch,\\\n",
    "       lr=0.1, tol=tol, n_iter_no_change=n_iter_no_change, initialization='glorot-uniform')\n",
    "ml.fit(X_train, Y_train)\n",
    "print(ml.score(X_train, Y_train))\n",
    "print(ml.score(X_test, Y_test))\n",
    "\n",
    "ml=MLP(layers=[neurons], batch_size=100, activation_fn='sigmoid', max_epoch=max_epoch,\\\n",
    "       lr=0.1, tol=tol, n_iter_no_change=n_iter_no_change, initialization='he-normal')\n",
    "ml.fit(X_train, Y_train)\n",
    "print(ml.score(X_train, Y_train))\n",
    "print(ml.score(X_test, Y_test))\n",
    "\n",
    "ml=MLP(layers=[neurons], batch_size=100, activation_fn='sigmoid', max_epoch=max_epoch,\\\n",
    "       lr=0.1, tol=tol, n_iter_no_change=n_iter_no_change, initialization='he-uniform')\n",
    "ml.fit(X_train, Y_train)\n",
    "print(ml.score(X_train, Y_train))\n",
    "print(ml.score(X_test, Y_test))"
   ]
  },
  {
   "cell_type": "code",
   "execution_count": 58,
   "metadata": {},
   "outputs": [
    {
     "name": "stderr",
     "output_type": "stream",
     "text": [
      "100%|██████████| 1500/1500 [03:42<00:00,  6.75it/s]\n",
      "  0%|          | 1/1500 [00:00<03:35,  6.95it/s]"
     ]
    },
    {
     "name": "stdout",
     "output_type": "stream",
     "text": [
      "0.9636153846153847\n",
      "0.9033846153846153\n"
     ]
    },
    {
     "name": "stderr",
     "output_type": "stream",
     "text": [
      "100%|██████████| 1500/1500 [03:42<00:00,  6.74it/s]\n",
      "  0%|          | 1/1500 [00:00<03:35,  6.96it/s]"
     ]
    },
    {
     "name": "stdout",
     "output_type": "stream",
     "text": [
      "0.9637692307692308\n",
      "0.9084615384615384\n"
     ]
    },
    {
     "name": "stderr",
     "output_type": "stream",
     "text": [
      "100%|██████████| 1500/1500 [03:41<00:00,  6.78it/s]\n",
      "  0%|          | 1/1500 [00:00<03:38,  6.86it/s]"
     ]
    },
    {
     "name": "stdout",
     "output_type": "stream",
     "text": [
      "0.9647692307692308\n",
      "0.9056923076923077\n"
     ]
    },
    {
     "name": "stderr",
     "output_type": "stream",
     "text": [
      "100%|██████████| 1500/1500 [03:43<00:00,  6.72it/s]\n",
      "  0%|          | 1/1500 [00:00<03:35,  6.96it/s]"
     ]
    },
    {
     "name": "stdout",
     "output_type": "stream",
     "text": [
      "0.9648461538461538\n",
      "0.9043076923076923\n"
     ]
    },
    {
     "name": "stderr",
     "output_type": "stream",
     "text": [
      "100%|██████████| 1500/1500 [03:42<00:00,  6.74it/s]\n",
      "  0%|          | 1/1500 [00:00<03:35,  6.97it/s]"
     ]
    },
    {
     "name": "stdout",
     "output_type": "stream",
     "text": [
      "0.9654615384615385\n",
      "0.9046153846153846\n"
     ]
    },
    {
     "name": "stderr",
     "output_type": "stream",
     "text": [
      "100%|██████████| 1500/1500 [03:42<00:00,  6.73it/s]\n"
     ]
    },
    {
     "name": "stdout",
     "output_type": "stream",
     "text": [
      "0.9647692307692308\n",
      "0.9047692307692308\n"
     ]
    }
   ],
   "source": [
    "tol=1e-5\n",
    "n_iter_no_change=100\n",
    "max_epoch=1500\n",
    "neurons=100\n",
    "\n",
    "ml=MLP(layers=[neurons], batch_size=100, activation_fn='sigmoid', max_epoch=max_epoch,\\\n",
    "       lr=0.1, tol=tol, n_iter_no_change=n_iter_no_change, initialization='normal')\n",
    "ml.fit(X_train, Y_train)\n",
    "print(ml.score(X_train, Y_train))\n",
    "print(ml.score(X_test, Y_test))\n",
    "\n",
    "ml=MLP(layers=[neurons], batch_size=100, activation_fn='sigmoid', max_epoch=max_epoch,\\\n",
    "       lr=0.1, tol=tol, n_iter_no_change=n_iter_no_change, initialization='uniform')\n",
    "ml.fit(X_train, Y_train)\n",
    "print(ml.score(X_train, Y_train))\n",
    "print(ml.score(X_test, Y_test))\n",
    "\n",
    "ml=MLP(layers=[neurons], batch_size=100, activation_fn='sigmoid', max_epoch=max_epoch,\\\n",
    "       lr=0.1, tol=tol, n_iter_no_change=n_iter_no_change, initialization='glorot-normal')\n",
    "ml.fit(X_train, Y_train)\n",
    "print(ml.score(X_train, Y_train))\n",
    "print(ml.score(X_test, Y_test))\n",
    "\n",
    "ml=MLP(layers=[neurons], batch_size=100, activation_fn='sigmoid', max_epoch=max_epoch,\\\n",
    "       lr=0.1, tol=tol, n_iter_no_change=n_iter_no_change, initialization='glorot-uniform')\n",
    "ml.fit(X_train, Y_train)\n",
    "print(ml.score(X_train, Y_train))\n",
    "print(ml.score(X_test, Y_test))\n",
    "\n",
    "ml=MLP(layers=[neurons], batch_size=100, activation_fn='sigmoid', max_epoch=max_epoch,\\\n",
    "       lr=0.1, tol=tol, n_iter_no_change=n_iter_no_change, initialization='he-normal')\n",
    "ml.fit(X_train, Y_train)\n",
    "print(ml.score(X_train, Y_train))\n",
    "print(ml.score(X_test, Y_test))\n",
    "\n",
    "ml=MLP(layers=[neurons], batch_size=100, activation_fn='sigmoid', max_epoch=max_epoch,\\\n",
    "       lr=0.1, tol=tol, n_iter_no_change=n_iter_no_change, initialization='he-uniform')\n",
    "ml.fit(X_train, Y_train)\n",
    "print(ml.score(X_train, Y_train))\n",
    "print(ml.score(X_test, Y_test))"
   ]
  },
  {
   "cell_type": "code",
   "execution_count": 57,
   "metadata": {},
   "outputs": [
    {
     "name": "stderr",
     "output_type": "stream",
     "text": [
      "100%|██████████| 2000/2000 [04:56<00:00,  6.75it/s]\n",
      "  0%|          | 1/2000 [00:00<04:46,  6.97it/s]"
     ]
    },
    {
     "name": "stdout",
     "output_type": "stream",
     "text": [
      "0.9708461538461538\n",
      "0.9081538461538462\n"
     ]
    },
    {
     "name": "stderr",
     "output_type": "stream",
     "text": [
      "100%|██████████| 2000/2000 [04:54<00:00,  6.78it/s]\n",
      "  0%|          | 1/2000 [00:00<04:46,  6.99it/s]"
     ]
    },
    {
     "name": "stdout",
     "output_type": "stream",
     "text": [
      "0.9706153846153847\n",
      "0.9123076923076923\n"
     ]
    },
    {
     "name": "stderr",
     "output_type": "stream",
     "text": [
      "100%|██████████| 2000/2000 [04:55<00:00,  6.76it/s]\n",
      "  0%|          | 1/2000 [00:00<04:48,  6.93it/s]"
     ]
    },
    {
     "name": "stdout",
     "output_type": "stream",
     "text": [
      "0.9707692307692307\n",
      "0.9070769230769231\n"
     ]
    },
    {
     "name": "stderr",
     "output_type": "stream",
     "text": [
      "100%|██████████| 2000/2000 [04:56<00:00,  6.75it/s]\n",
      "  0%|          | 1/2000 [00:00<04:45,  6.99it/s]"
     ]
    },
    {
     "name": "stdout",
     "output_type": "stream",
     "text": [
      "0.9698461538461538\n",
      "0.9052307692307693\n"
     ]
    },
    {
     "name": "stderr",
     "output_type": "stream",
     "text": [
      "100%|██████████| 2000/2000 [04:55<00:00,  6.77it/s]\n",
      "  0%|          | 1/2000 [00:00<04:47,  6.96it/s]"
     ]
    },
    {
     "name": "stdout",
     "output_type": "stream",
     "text": [
      "0.9717692307692307\n",
      "0.9067692307692308\n"
     ]
    },
    {
     "name": "stderr",
     "output_type": "stream",
     "text": [
      "100%|██████████| 2000/2000 [04:56<00:00,  6.76it/s]\n"
     ]
    },
    {
     "name": "stdout",
     "output_type": "stream",
     "text": [
      "0.9701538461538461\n",
      "0.9047692307692308\n"
     ]
    }
   ],
   "source": [
    "tol=1e-5\n",
    "n_iter_no_change=100\n",
    "max_epoch=2000\n",
    "neurons=100\n",
    "\n",
    "ml=MLP(layers=[neurons], batch_size=100, activation_fn='sigmoid', max_epoch=max_epoch,\\\n",
    "       lr=0.1, tol=tol, n_iter_no_change=n_iter_no_change, initialization='normal')\n",
    "ml.fit(X_train, Y_train)\n",
    "print(ml.score(X_train, Y_train))\n",
    "print(ml.score(X_test, Y_test))\n",
    "\n",
    "ml=MLP(layers=[neurons], batch_size=100, activation_fn='sigmoid', max_epoch=max_epoch,\\\n",
    "       lr=0.1, tol=tol, n_iter_no_change=n_iter_no_change, initialization='uniform')\n",
    "ml.fit(X_train, Y_train)\n",
    "print(ml.score(X_train, Y_train))\n",
    "print(ml.score(X_test, Y_test))\n",
    "\n",
    "ml=MLP(layers=[neurons], batch_size=100, activation_fn='sigmoid', max_epoch=max_epoch,\\\n",
    "       lr=0.1, tol=tol, n_iter_no_change=n_iter_no_change, initialization='glorot-normal')\n",
    "ml.fit(X_train, Y_train)\n",
    "print(ml.score(X_train, Y_train))\n",
    "print(ml.score(X_test, Y_test))\n",
    "\n",
    "ml=MLP(layers=[neurons], batch_size=100, activation_fn='sigmoid', max_epoch=max_epoch,\\\n",
    "       lr=0.1, tol=tol, n_iter_no_change=n_iter_no_change, initialization='glorot-uniform')\n",
    "ml.fit(X_train, Y_train)\n",
    "print(ml.score(X_train, Y_train))\n",
    "print(ml.score(X_test, Y_test))\n",
    "\n",
    "ml=MLP(layers=[neurons], batch_size=100, activation_fn='sigmoid', max_epoch=max_epoch,\\\n",
    "       lr=0.1, tol=tol, n_iter_no_change=n_iter_no_change, initialization='he-normal')\n",
    "ml.fit(X_train, Y_train)\n",
    "print(ml.score(X_train, Y_train))\n",
    "print(ml.score(X_test, Y_test))\n",
    "\n",
    "ml=MLP(layers=[neurons], batch_size=100, activation_fn='sigmoid', max_epoch=max_epoch,\\\n",
    "       lr=0.1, tol=tol, n_iter_no_change=n_iter_no_change, initialization='he-uniform')\n",
    "ml.fit(X_train, Y_train)\n",
    "print(ml.score(X_train, Y_train))\n",
    "print(ml.score(X_test, Y_test))"
   ]
  },
  {
   "cell_type": "code",
   "execution_count": null,
   "metadata": {},
   "outputs": [],
   "source": []
  },
  {
   "cell_type": "code",
   "execution_count": null,
   "metadata": {},
   "outputs": [],
   "source": []
  },
  {
   "cell_type": "code",
   "execution_count": null,
   "metadata": {},
   "outputs": [],
   "source": []
  },
  {
   "cell_type": "code",
   "execution_count": null,
   "metadata": {},
   "outputs": [],
   "source": []
  },
  {
   "cell_type": "code",
   "execution_count": 32,
   "metadata": {},
   "outputs": [
    {
     "name": "stderr",
     "output_type": "stream",
     "text": [
      "  0%|          | 12/3000 [00:00<03:34, 13.91it/s]\n",
      "  0%|          | 1/3000 [00:00<06:12,  8.04it/s]"
     ]
    },
    {
     "name": "stdout",
     "output_type": "stream",
     "text": [
      "Training interrupted by user\n",
      "0.038461538461538464\n",
      "0.038461538461538464\n"
     ]
    },
    {
     "name": "stderr",
     "output_type": "stream",
     "text": [
      "  1%|          | 28/3000 [00:03<06:30,  7.61it/s]\n",
      "  0%|          | 2/3000 [00:00<03:47, 13.16it/s]"
     ]
    },
    {
     "name": "stdout",
     "output_type": "stream",
     "text": [
      "Training interrupted by user\n",
      "0.219\n",
      "0.22276923076923077\n"
     ]
    },
    {
     "name": "stderr",
     "output_type": "stream",
     "text": [
      "  0%|          | 3/3000 [00:00<04:25, 11.29it/s]\n",
      "  0%|          | 2/3000 [00:00<04:04, 12.24it/s]"
     ]
    },
    {
     "name": "stdout",
     "output_type": "stream",
     "text": [
      "Training interrupted by user\n",
      "0.03892307692307692\n",
      "0.04230769230769231\n"
     ]
    },
    {
     "name": "stderr",
     "output_type": "stream",
     "text": [
      "  0%|          | 2/3000 [00:00<05:56,  8.41it/s]\n",
      "  0%|          | 1/3000 [00:00<07:12,  6.93it/s]"
     ]
    },
    {
     "name": "stdout",
     "output_type": "stream",
     "text": [
      "Training interrupted by user\n",
      "0.038307692307692306\n",
      "0.040615384615384616\n"
     ]
    },
    {
     "name": "stderr",
     "output_type": "stream",
     "text": [
      "\r",
      "  0%|          | 1/3000 [00:00<12:35,  3.97it/s]"
     ]
    },
    {
     "name": "stdout",
     "output_type": "stream",
     "text": [
      "Training interrupted by user\n",
      "0.07776923076923077\n",
      "0.08615384615384615\n"
     ]
    },
    {
     "name": "stderr",
     "output_type": "stream",
     "text": [
      "\n"
     ]
    }
   ],
   "source": [
    "tol=1e-5\n",
    "n_iter_no_change=100\n",
    "max_epoch=3000\n",
    "\n",
    "ml=MLP(layers=[1], batch_size=100, activation_fn='sigmoid', max_epoch=max_epoch,\\\n",
    "       lr=0.1, tol=tol, n_iter_no_change=n_iter_no_change)\n",
    "ml.fit(X_train, Y_train)\n",
    "print(ml.score(X_train, Y_train))\n",
    "print(ml.score(X_test, Y_test))\n",
    "\n",
    "ml=MLP(layers=[50], batch_size=100, activation_fn='sigmoid', max_epoch=max_epoch,\\\n",
    "       lr=0.1, tol=tol, n_iter_no_change=n_iter_no_change)\n",
    "ml.fit(X_train, Y_train)\n",
    "print(ml.score(X_train, Y_train))\n",
    "print(ml.score(X_test, Y_test))\n",
    "\n",
    "ml=MLP(layers=[5], batch_size=100, activation_fn='sigmoid', max_epoch=max_epoch,\\\n",
    "       lr=0.1, tol=tol, n_iter_no_change=n_iter_no_change)\n",
    "ml.fit(X_train, Y_train)\n",
    "print(ml.score(X_train, Y_train))\n",
    "print(ml.score(X_test, Y_test))\n",
    "\n",
    "ml=MLP(layers=[10], batch_size=100, activation_fn='sigmoid', max_epoch=max_epoch,\\\n",
    "       lr=0.1, tol=tol, n_iter_no_change=n_iter_no_change)\n",
    "ml.fit(X_train, Y_train)\n",
    "print(ml.score(X_train, Y_train))\n",
    "print(ml.score(X_test, Y_test))\n",
    "\n",
    "ml=MLP(layers=[100], batch_size=100, activation_fn='sigmoid', max_epoch=max_epoch,\\\n",
    "       lr=0.1, tol=tol, n_iter_no_change=n_iter_no_change)\n",
    "ml.fit(X_train, Y_train)\n",
    "print(ml.score(X_train, Y_train))\n",
    "print(ml.score(X_test, Y_test))"
   ]
  },
  {
   "cell_type": "code",
   "execution_count": 11,
   "metadata": {},
   "outputs": [
    {
     "name": "stderr",
     "output_type": "stream",
     "text": [
      " 42%|████▏     | 415/1000 [00:16<00:22, 25.71it/s]"
     ]
    },
    {
     "name": "stdout",
     "output_type": "stream",
     "text": [
      "0.038461538461538464\n",
      "0.038461538461538464\n"
     ]
    },
    {
     "name": "stderr",
     "output_type": "stream",
     "text": [
      "\n"
     ]
    }
   ],
   "source": [
    "ml=MLP(layers=[1], batch_size=100, activation_fn='sigmoid', max_epoch=1000,\\\n",
    "       lr=0.1, tol=1e-5, n_iter_no_change=20)\n",
    "ml.fit(X_train, Y_train)\n",
    "print(ml.score(X_train, Y_train))\n",
    "print(ml.score(X_test, Y_test))"
   ]
  },
  {
   "cell_type": "code",
   "execution_count": 8,
   "metadata": {},
   "outputs": [
    {
     "name": "stderr",
     "output_type": "stream",
     "text": [
      "100%|██████████| 1000/1000 [00:48<00:00, 20.60it/s]\n"
     ]
    },
    {
     "name": "stdout",
     "output_type": "stream",
     "text": [
      "0.10407692307692308\n",
      "0.10046153846153846\n"
     ]
    }
   ],
   "source": [
    "ml=MLP(layers=[5], batch_size=100, activation_fn='sigmoid', max_epoch=1000,\\\n",
    "       lr=0.1, tol=1e-5, n_iter_no_change=20)\n",
    "ml.fit(X_train, Y_train)\n",
    "print(ml.score(X_train, Y_train))\n",
    "print(ml.score(X_test, Y_test))"
   ]
  },
  {
   "cell_type": "code",
   "execution_count": 12,
   "metadata": {},
   "outputs": [
    {
     "name": "stderr",
     "output_type": "stream",
     "text": [
      "100%|██████████| 1500/1500 [01:11<00:00, 21.01it/s]\n"
     ]
    },
    {
     "name": "stdout",
     "output_type": "stream",
     "text": [
      "0.1666153846153846\n",
      "0.1716923076923077\n"
     ]
    }
   ],
   "source": [
    "ml=MLP(layers=[5], batch_size=100, activation_fn='sigmoid', max_epoch=1500,\\\n",
    "       lr=0.1, tol=1e-5, n_iter_no_change=20)\n",
    "ml.fit(X_train, Y_train)\n",
    "print(ml.score(X_train, Y_train))\n",
    "print(ml.score(X_test, Y_test))"
   ]
  },
  {
   "cell_type": "code",
   "execution_count": 6,
   "metadata": {},
   "outputs": [
    {
     "name": "stderr",
     "output_type": "stream",
     "text": [
      "100%|██████████| 2000/2000 [01:17<00:00, 25.92it/s]\n"
     ]
    },
    {
     "name": "stdout",
     "output_type": "stream",
     "text": [
      "0.24669230769230768\n",
      "0.24553846153846154\n"
     ]
    }
   ],
   "source": [
    "ml=MLP(layers=[5], batch_size=100, activation_fn='sigmoid', max_epoch=2000,\\\n",
    "       lr=0.1, tol=1e-5, n_iter_no_change=10)\n",
    "ml.fit(X_train, Y_train)\n",
    "print(ml.score(X_train, Y_train))\n",
    "print(ml.score(X_test, Y_test))"
   ]
  },
  {
   "cell_type": "code",
   "execution_count": 7,
   "metadata": {},
   "outputs": [
    {
     "name": "stderr",
     "output_type": "stream",
     "text": [
      "100%|██████████| 2500/2500 [01:34<00:00, 26.56it/s]"
     ]
    },
    {
     "name": "stdout",
     "output_type": "stream",
     "text": [
      "0.32992307692307693\n",
      "0.3150769230769231\n"
     ]
    },
    {
     "name": "stderr",
     "output_type": "stream",
     "text": [
      "\n"
     ]
    }
   ],
   "source": [
    "ml=MLP(layers=[5], batch_size=100, activation_fn='sigmoid', max_epoch=2500,\\\n",
    "       lr=0.1, tol=1e-5, n_iter_no_change=10)\n",
    "ml.fit(X_train, Y_train)\n",
    "print(ml.score(X_train, Y_train))\n",
    "print(ml.score(X_test, Y_test))"
   ]
  },
  {
   "cell_type": "code",
   "execution_count": 8,
   "metadata": {},
   "outputs": [
    {
     "name": "stderr",
     "output_type": "stream",
     "text": [
      "100%|██████████| 3000/3000 [01:54<00:00, 26.22it/s]"
     ]
    },
    {
     "name": "stdout",
     "output_type": "stream",
     "text": [
      "0.36038461538461536\n",
      "0.33892307692307694\n"
     ]
    },
    {
     "name": "stderr",
     "output_type": "stream",
     "text": [
      "\n"
     ]
    }
   ],
   "source": [
    "ml=MLP(layers=[5], batch_size=100, activation_fn='sigmoid', max_epoch=3000,\\\n",
    "       lr=0.1, tol=1e-5, n_iter_no_change=10)\n",
    "ml.fit(X_train, Y_train)\n",
    "print(ml.score(X_train, Y_train))\n",
    "print(ml.score(X_test, Y_test))"
   ]
  },
  {
   "cell_type": "code",
   "execution_count": 14,
   "metadata": {},
   "outputs": [
    {
     "name": "stderr",
     "output_type": "stream",
     "text": [
      "100%|██████████| 5000/5000 [04:02<00:00, 20.65it/s]\n"
     ]
    },
    {
     "name": "stdout",
     "output_type": "stream",
     "text": [
      "0.5316153846153846\n",
      "0.4909230769230769\n"
     ]
    }
   ],
   "source": [
    "ml=MLP(layers=[5], batch_size=100, activation_fn='sigmoid', max_epoch=5000,\\\n",
    "       lr=0.1, tol=1e-5, n_iter_no_change=20)\n",
    "ml.fit(X_train, Y_train)\n",
    "print(ml.score(X_train, Y_train))\n",
    "print(ml.score(X_test, Y_test))"
   ]
  },
  {
   "cell_type": "code",
   "execution_count": 13,
   "metadata": {},
   "outputs": [
    {
     "name": "stderr",
     "output_type": "stream",
     "text": [
      "100%|██████████| 4000/4000 [02:35<00:00, 25.64it/s]"
     ]
    },
    {
     "name": "stdout",
     "output_type": "stream",
     "text": [
      "0.4543076923076923\n",
      "0.428\n"
     ]
    },
    {
     "name": "stderr",
     "output_type": "stream",
     "text": [
      "\n"
     ]
    }
   ],
   "source": [
    "ml=MLP(layers=[5], batch_size=100, activation_fn='sigmoid', max_epoch=4000,\\\n",
    "       lr=0.1, tol=1e-6, n_iter_no_change=5)\n",
    "ml.fit(X_train, Y_train)\n",
    "print(ml.score(X_train, Y_train))\n",
    "print(ml.score(X_test, Y_test))"
   ]
  },
  {
   "cell_type": "code",
   "execution_count": 14,
   "metadata": {},
   "outputs": [
    {
     "name": "stderr",
     "output_type": "stream",
     "text": [
      "100%|██████████| 6000/6000 [03:48<00:00, 26.26it/s]"
     ]
    },
    {
     "name": "stdout",
     "output_type": "stream",
     "text": [
      "0.5954615384615385\n",
      "0.5438461538461539\n"
     ]
    },
    {
     "name": "stderr",
     "output_type": "stream",
     "text": [
      "\n"
     ]
    }
   ],
   "source": [
    "ml=MLP(layers=[5], batch_size=100, activation_fn='sigmoid', max_epoch=6000,\\\n",
    "       lr=0.1, tol=1e-6, n_iter_no_change=5)\n",
    "ml.fit(X_train, Y_train)\n",
    "print(ml.score(X_train, Y_train))\n",
    "print(ml.score(X_test, Y_test))"
   ]
  },
  {
   "cell_type": "code",
   "execution_count": 15,
   "metadata": {},
   "outputs": [
    {
     "name": "stderr",
     "output_type": "stream",
     "text": [
      "100%|██████████| 10000/10000 [06:14<00:00, 26.68it/s]"
     ]
    },
    {
     "name": "stdout",
     "output_type": "stream",
     "text": [
      "0.6620769230769231\n",
      "0.5856923076923077\n"
     ]
    },
    {
     "name": "stderr",
     "output_type": "stream",
     "text": [
      "\n"
     ]
    }
   ],
   "source": [
    "ml=MLP(layers=[5], batch_size=100, activation_fn='sigmoid', max_epoch=10000,\\\n",
    "       lr=0.1, tol=1e-6, n_iter_no_change=5)\n",
    "ml.fit(X_train, Y_train)\n",
    "print(ml.score(X_train, Y_train))\n",
    "print(ml.score(X_test, Y_test))"
   ]
  },
  {
   "cell_type": "code",
   "execution_count": 6,
   "metadata": {},
   "outputs": [
    {
     "name": "stderr",
     "output_type": "stream",
     "text": [
      "100%|██████████| 20000/20000 [12:22<00:00, 26.94it/s]\n"
     ]
    },
    {
     "name": "stdout",
     "output_type": "stream",
     "text": [
      "0.683\n",
      "0.5727692307692308\n"
     ]
    }
   ],
   "source": [
    "ml=MLP(layers=[5], batch_size=100, activation_fn='sigmoid', max_epoch=20000,\\\n",
    "       lr=0.1, tol=1e-6, n_iter_no_change=5)\n",
    "ml.fit(X_train, Y_train)\n",
    "print(ml.score(X_train, Y_train))\n",
    "print(ml.score(X_test, Y_test))"
   ]
  },
  {
   "cell_type": "code",
   "execution_count": 9,
   "metadata": {},
   "outputs": [
    {
     "name": "stderr",
     "output_type": "stream",
     "text": [
      "100%|██████████| 1000/1000 [00:40<00:00, 24.46it/s]"
     ]
    },
    {
     "name": "stdout",
     "output_type": "stream",
     "text": [
      "0.506\n",
      "0.4887692307692308\n"
     ]
    },
    {
     "name": "stderr",
     "output_type": "stream",
     "text": [
      "\n"
     ]
    }
   ],
   "source": [
    "ml=MLP(layers=[10], batch_size=100, activation_fn='sigmoid', max_epoch=1000,\\\n",
    "       lr=0.1, tol=1e-5, n_iter_no_change=10)\n",
    "ml.fit(X_train, Y_train)\n",
    "print(ml.score(X_train, Y_train))\n",
    "print(ml.score(X_test, Y_test))"
   ]
  },
  {
   "cell_type": "code",
   "execution_count": 10,
   "metadata": {},
   "outputs": [
    {
     "name": "stderr",
     "output_type": "stream",
     "text": [
      "100%|██████████| 1500/1500 [01:01<00:00, 24.27it/s]"
     ]
    },
    {
     "name": "stdout",
     "output_type": "stream",
     "text": [
      "0.683076923076923\n",
      "0.6410769230769231\n"
     ]
    },
    {
     "name": "stderr",
     "output_type": "stream",
     "text": [
      "\n"
     ]
    }
   ],
   "source": [
    "ml=MLP(layers=[10], batch_size=100, activation_fn='sigmoid', max_epoch=1500,\\\n",
    "       lr=0.1, tol=1e-5, n_iter_no_change=10)\n",
    "ml.fit(X_train, Y_train)\n",
    "print(ml.score(X_train, Y_train))\n",
    "print(ml.score(X_test, Y_test))"
   ]
  },
  {
   "cell_type": "code",
   "execution_count": 11,
   "metadata": {},
   "outputs": [
    {
     "name": "stderr",
     "output_type": "stream",
     "text": [
      "100%|██████████| 2000/2000 [01:22<00:00, 24.28it/s]"
     ]
    },
    {
     "name": "stdout",
     "output_type": "stream",
     "text": [
      "0.7201538461538461\n",
      "0.6758461538461539\n"
     ]
    },
    {
     "name": "stderr",
     "output_type": "stream",
     "text": [
      "\n"
     ]
    }
   ],
   "source": [
    "ml=MLP(layers=[10], batch_size=100, activation_fn='sigmoid', max_epoch=2000,\\\n",
    "       lr=0.1, tol=1e-5, n_iter_no_change=10)\n",
    "ml.fit(X_train, Y_train)\n",
    "print(ml.score(X_train, Y_train))\n",
    "print(ml.score(X_test, Y_test))"
   ]
  },
  {
   "cell_type": "code",
   "execution_count": 12,
   "metadata": {},
   "outputs": [
    {
     "name": "stderr",
     "output_type": "stream",
     "text": [
      "100%|██████████| 2500/2500 [01:42<00:00, 24.30it/s]"
     ]
    },
    {
     "name": "stdout",
     "output_type": "stream",
     "text": [
      "0.7552307692307693\n",
      "0.7016923076923077\n"
     ]
    },
    {
     "name": "stderr",
     "output_type": "stream",
     "text": [
      "\n"
     ]
    }
   ],
   "source": [
    "ml=MLP(layers=[10], batch_size=100, activation_fn='sigmoid', max_epoch=2500,\\\n",
    "       lr=0.1, tol=1e-5, n_iter_no_change=10)\n",
    "ml.fit(X_train, Y_train)\n",
    "print(ml.score(X_train, Y_train))\n",
    "print(ml.score(X_test, Y_test))"
   ]
  },
  {
   "cell_type": "code",
   "execution_count": 13,
   "metadata": {},
   "outputs": [
    {
     "name": "stderr",
     "output_type": "stream",
     "text": [
      "100%|██████████| 3000/3000 [02:02<00:00, 24.42it/s]"
     ]
    },
    {
     "name": "stdout",
     "output_type": "stream",
     "text": [
      "0.7770769230769231\n",
      "0.7098461538461538\n"
     ]
    },
    {
     "name": "stderr",
     "output_type": "stream",
     "text": [
      "\n"
     ]
    }
   ],
   "source": [
    "ml=MLP(layers=[10], batch_size=100, activation_fn='sigmoid', max_epoch=3000,\\\n",
    "       lr=0.1, tol=1e-5, n_iter_no_change=10)\n",
    "ml.fit(X_train, Y_train)\n",
    "print(ml.score(X_train, Y_train))\n",
    "print(ml.score(X_test, Y_test))"
   ]
  },
  {
   "cell_type": "code",
   "execution_count": 15,
   "metadata": {},
   "outputs": [
    {
     "name": "stderr",
     "output_type": "stream",
     "text": [
      "100%|██████████| 5000/5000 [04:28<00:00, 18.61it/s]"
     ]
    },
    {
     "name": "stdout",
     "output_type": "stream",
     "text": [
      "0.8043846153846154\n",
      "0.72\n"
     ]
    },
    {
     "name": "stderr",
     "output_type": "stream",
     "text": [
      "\n"
     ]
    }
   ],
   "source": [
    "ml=MLP(layers=[10], batch_size=100, activation_fn='sigmoid', max_epoch=5000,\\\n",
    "       lr=0.1, tol=1e-5, n_iter_no_change=20)\n",
    "ml.fit(X_train, Y_train)\n",
    "print(ml.score(X_train, Y_train))\n",
    "print(ml.score(X_test, Y_test))"
   ]
  },
  {
   "cell_type": "code",
   "execution_count": null,
   "metadata": {},
   "outputs": [],
   "source": []
  },
  {
   "cell_type": "code",
   "execution_count": 14,
   "metadata": {},
   "outputs": [
    {
     "name": "stderr",
     "output_type": "stream",
     "text": [
      "100%|██████████| 2000/2000 [02:15<00:00, 14.78it/s]"
     ]
    },
    {
     "name": "stdout",
     "output_type": "stream",
     "text": [
      "0.9499230769230769\n",
      "0.8841538461538462\n"
     ]
    },
    {
     "name": "stderr",
     "output_type": "stream",
     "text": [
      "\n"
     ]
    }
   ],
   "source": [
    "ml=MLP(layers=[50], batch_size=100, activation_fn='sigmoid', max_epoch=2000,\\\n",
    "       lr=0.1, tol=1e-5, n_iter_no_change=10)\n",
    "ml.fit(X_train, Y_train)\n",
    "print(ml.score(X_train, Y_train))\n",
    "print(ml.score(X_test, Y_test))"
   ]
  },
  {
   "cell_type": "code",
   "execution_count": 16,
   "metadata": {},
   "outputs": [
    {
     "name": "stderr",
     "output_type": "stream",
     "text": [
      "100%|██████████| 5000/5000 [07:33<00:00, 11.03it/s]"
     ]
    },
    {
     "name": "stdout",
     "output_type": "stream",
     "text": [
      "0.9637692307692308\n",
      "0.8850769230769231\n"
     ]
    },
    {
     "name": "stderr",
     "output_type": "stream",
     "text": [
      "\n"
     ]
    }
   ],
   "source": [
    "ml=MLP(layers=[50], batch_size=100, activation_fn='sigmoid', max_epoch=5000,\\\n",
    "       lr=0.1, tol=1e-5, n_iter_no_change=20)\n",
    "ml.fit(X_train, Y_train)\n",
    "print(ml.score(X_train, Y_train))\n",
    "print(ml.score(X_test, Y_test))"
   ]
  },
  {
   "cell_type": "code",
   "execution_count": 15,
   "metadata": {},
   "outputs": [
    {
     "name": "stderr",
     "output_type": "stream",
     "text": [
      "100%|██████████| 2000/2000 [03:11<00:00, 10.44it/s]\n"
     ]
    },
    {
     "name": "stdout",
     "output_type": "stream",
     "text": [
      "0.9626153846153847\n",
      "0.9056923076923077\n"
     ]
    }
   ],
   "source": [
    "ml=MLP(layers=[100], batch_size=100, activation_fn='sigmoid', max_epoch=2000,\\\n",
    "       lr=0.1, tol=1e-5, n_iter_no_change=10)\n",
    "ml.fit(X_train, Y_train)\n",
    "print(ml.score(X_train, Y_train))\n",
    "print(ml.score(X_test, Y_test))"
   ]
  },
  {
   "cell_type": "code",
   "execution_count": null,
   "metadata": {},
   "outputs": [
    {
     "name": "stderr",
     "output_type": "stream",
     "text": [
      " 20%|██        | 1003/5000 [03:16<13:36,  4.89it/s]"
     ]
    }
   ],
   "source": [
    "ml=MLP(layers=[100], batch_size=100, activation_fn='sigmoid', max_epoch=5000,\\\n",
    "       lr=0.1, tol=1e-5, n_iter_no_change=20)\n",
    "ml.fit(X_train, Y_train)\n",
    "print(ml.score(X_train, Y_train))\n",
    "print(ml.score(X_test, Y_test))"
   ]
  },
  {
   "cell_type": "code",
   "execution_count": 14,
   "metadata": {},
   "outputs": [
    {
     "data": {
      "text/plain": [
       "0.9626153846153847"
      ]
     },
     "execution_count": 14,
     "metadata": {},
     "output_type": "execute_result"
    }
   ],
   "source": [
    "ml.score(X_train, Y_train)"
   ]
  },
  {
   "cell_type": "code",
   "execution_count": 15,
   "metadata": {},
   "outputs": [
    {
     "data": {
      "text/plain": [
       "0.9056923076923077"
      ]
     },
     "execution_count": 15,
     "metadata": {},
     "output_type": "execute_result"
    }
   ],
   "source": [
    "ml.score(X_test, Y_test)"
   ]
  },
  {
   "cell_type": "code",
   "execution_count": 13,
   "metadata": {},
   "outputs": [
    {
     "name": "stdout",
     "output_type": "stream",
     "text": [
      "[0, 0.040769230769230766, 0.04230769230769231, 0.024615384615384615, 0.03769230769230769, 0.033846153846153845, 0.04230769230769231, 0.04230769230769231]\n"
     ]
    }
   ],
   "source": [
    "print(ml.val_score_lst)"
   ]
  },
  {
   "cell_type": "code",
   "execution_count": null,
   "metadata": {},
   "outputs": [],
   "source": []
  },
  {
   "cell_type": "code",
   "execution_count": 8,
   "metadata": {},
   "outputs": [
    {
     "data": {
      "image/png": "[encoded data removed]",
      "text/plain": [
       "<Figure size 1152x648 with 1 Axes>"
      ]
     },
     "metadata": {
      "needs_background": "light"
     },
     "output_type": "display_data"
    }
   ],
   "source": [
    "plt.figure(figsize=(16,9))\n",
    "plt.plot(range(len(ml.val_loss_lst)), ml.val_loss_lst)\n",
    "plt.show()"
   ]
  },
  {
   "cell_type": "code",
   "execution_count": 18,
   "metadata": {},
   "outputs": [
    {
     "data": {
      "text/plain": [
       "[0.040769230769230766,\n",
       " 0.04230769230769231,\n",
       " 0.024615384615384615,\n",
       " 0.03769230769230769,\n",
       " 0.033846153846153845,\n",
       " 0.04230769230769231,\n",
       " 0.04230769230769231,\n",
       " 0.03461538461538462,\n",
       " 0.06846153846153846,\n",
       " 0.04230769230769231,\n",
       " 0.045384615384615384,\n",
       " 0.04230769230769231,\n",
       " 0.04230769230769231,\n",
       " 0.07153846153846154,\n",
       " 0.03461538461538462,\n",
       " 0.03461538461538462,\n",
       " 0.03538461538461538,\n",
       " 0.03461538461538462,\n",
       " 0.03461538461538462,\n",
       " 0.08153846153846153,\n",
       " 0.03461538461538462,\n",
       " 0.03923076923076923,\n",
       " 0.06923076923076923,\n",
       " 0.09769230769230769,\n",
       " 0.10384615384615385,\n",
       " 0.07769230769230769,\n",
       " 0.11538461538461539,\n",
       " 0.05307692307692308,\n",
       " 0.08076923076923077,\n",
       " 0.07384615384615385,\n",
       " 0.1276923076923077,\n",
       " 0.03538461538461538,\n",
       " 0.09769230769230769,\n",
       " 0.06769230769230769,\n",
       " 0.10615384615384615,\n",
       " 0.03923076923076923,\n",
       " 0.17153846153846153,\n",
       " 0.17384615384615384,\n",
       " 0.06615384615384616,\n",
       " 0.12692307692307692,\n",
       " 0.1276923076923077,\n",
       " 0.11,\n",
       " 0.15,\n",
       " 0.1523076923076923,\n",
       " 0.1676923076923077,\n",
       " 0.18307692307692308,\n",
       " 0.2053846153846154,\n",
       " 0.23153846153846153,\n",
       " 0.17384615384615384,\n",
       " 0.1376923076923077,\n",
       " 0.17692307692307693,\n",
       " 0.18076923076923077,\n",
       " 0.19538461538461538,\n",
       " 0.23615384615384616,\n",
       " 0.16153846153846155,\n",
       " 0.21,\n",
       " 0.2246153846153846,\n",
       " 0.18923076923076923,\n",
       " 0.1946153846153846,\n",
       " 0.20615384615384616,\n",
       " 0.16076923076923078,\n",
       " 0.19,\n",
       " 0.19923076923076924,\n",
       " 0.18923076923076923,\n",
       " 0.24846153846153846,\n",
       " 0.25846153846153846,\n",
       " 0.21384615384615385,\n",
       " 0.19692307692307692,\n",
       " 0.21384615384615385,\n",
       " 0.1976923076923077,\n",
       " 0.18076923076923077,\n",
       " 0.22692307692307692,\n",
       " 0.2323076923076923,\n",
       " 0.19692307692307692,\n",
       " 0.23384615384615384,\n",
       " 0.21846153846153846,\n",
       " 0.20923076923076922,\n",
       " 0.24076923076923076,\n",
       " 0.19923076923076924,\n",
       " 0.21384615384615385,\n",
       " 0.21769230769230768,\n",
       " 0.23076923076923078,\n",
       " 0.2553846153846154,\n",
       " 0.2523076923076923,\n",
       " 0.26,\n",
       " 0.2569230769230769,\n",
       " 0.2592307692307692,\n",
       " 0.2676923076923077,\n",
       " 0.26384615384615384,\n",
       " 0.29923076923076924,\n",
       " 0.29846153846153844,\n",
       " 0.3038461538461538,\n",
       " 0.2969230769230769,\n",
       " 0.3046153846153846,\n",
       " 0.32153846153846155,\n",
       " 0.30846153846153845,\n",
       " 0.31846153846153846,\n",
       " 0.33692307692307694,\n",
       " 0.34692307692307695,\n",
       " 0.35,\n",
       " 0.3546153846153846,\n",
       " 0.35384615384615387,\n",
       " 0.3723076923076923,\n",
       " 0.3646153846153846,\n",
       " 0.37538461538461537,\n",
       " 0.39,\n",
       " 0.40384615384615385,\n",
       " 0.4146153846153846,\n",
       " 0.4176923076923077,\n",
       " 0.4307692307692308,\n",
       " 0.4461538461538462,\n",
       " 0.45,\n",
       " 0.4584615384615385,\n",
       " 0.4707692307692308,\n",
       " 0.4684615384615385,\n",
       " 0.4723076923076923,\n",
       " 0.4930769230769231,\n",
       " 0.5007692307692307,\n",
       " 0.5030769230769231,\n",
       " 0.5138461538461538,\n",
       " 0.5169230769230769,\n",
       " 0.5238461538461539,\n",
       " 0.5276923076923077,\n",
       " 0.546923076923077,\n",
       " 0.5484615384615384,\n",
       " 0.5476923076923077,\n",
       " 0.5815384615384616,\n",
       " 0.5823076923076923,\n",
       " 0.5846153846153846,\n",
       " 0.59,\n",
       " 0.6015384615384616,\n",
       " 0.6115384615384616,\n",
       " 0.6269230769230769,\n",
       " 0.6307692307692307,\n",
       " 0.6446153846153846,\n",
       " 0.6438461538461538,\n",
       " 0.6492307692307693,\n",
       " 0.6515384615384615,\n",
       " 0.6607692307692308,\n",
       " 0.6630769230769231,\n",
       " 0.6723076923076923,\n",
       " 0.68,\n",
       " 0.6961538461538461,\n",
       " 0.703076923076923,\n",
       " 0.703076923076923,\n",
       " 0.7061538461538461,\n",
       " 0.713076923076923,\n",
       " 0.7053846153846154,\n",
       " 0.7223076923076923,\n",
       " 0.7269230769230769,\n",
       " 0.7261538461538461,\n",
       " 0.7276923076923076,\n",
       " 0.7323076923076923,\n",
       " 0.7392307692307692,\n",
       " 0.7369230769230769,\n",
       " 0.7392307692307692,\n",
       " 0.7407692307692307,\n",
       " 0.7469230769230769,\n",
       " 0.75,\n",
       " 0.7576923076923077,\n",
       " 0.7553846153846154,\n",
       " 0.7607692307692308,\n",
       " 0.7607692307692308,\n",
       " 0.7607692307692308,\n",
       " 0.7692307692307693,\n",
       " 0.7676923076923077,\n",
       " 0.7684615384615384,\n",
       " 0.7723076923076924,\n",
       " 0.7707692307692308,\n",
       " 0.7746153846153846,\n",
       " 0.7761538461538462,\n",
       " 0.7753846153846153,\n",
       " 0.78,\n",
       " 0.7784615384615384,\n",
       " 0.7830769230769231,\n",
       " 0.7830769230769231,\n",
       " 0.7861538461538462,\n",
       " 0.7846153846153846,\n",
       " 0.786923076923077,\n",
       " 0.7876923076923077,\n",
       " 0.7946153846153846,\n",
       " 0.7907692307692308,\n",
       " 0.7930769230769231,\n",
       " 0.7946153846153846,\n",
       " 0.7953846153846154,\n",
       " 0.7961538461538461,\n",
       " 0.8015384615384615,\n",
       " 0.7976923076923077,\n",
       " 0.8,\n",
       " 0.8015384615384615,\n",
       " 0.8038461538461539,\n",
       " 0.8015384615384615,\n",
       " 0.8046153846153846,\n",
       " 0.8046153846153846,\n",
       " 0.8053846153846154,\n",
       " 0.8061538461538461,\n",
       " 0.8046153846153846,\n",
       " 0.8061538461538461,\n",
       " 0.8092307692307692,\n",
       " 0.806923076923077,\n",
       " 0.8084615384615385,\n",
       " 0.8053846153846154,\n",
       " 0.8061538461538461,\n",
       " 0.8038461538461539,\n",
       " 0.806923076923077,\n",
       " 0.806923076923077,\n",
       " 0.8107692307692308,\n",
       " 0.8092307692307692,\n",
       " 0.8107692307692308,\n",
       " 0.8115384615384615,\n",
       " 0.8107692307692308,\n",
       " 0.8123076923076923,\n",
       " 0.8153846153846154,\n",
       " 0.8115384615384615,\n",
       " 0.813076923076923,\n",
       " 0.8115384615384615,\n",
       " 0.813076923076923,\n",
       " 0.8146153846153846,\n",
       " 0.8161538461538461,\n",
       " 0.8207692307692308,\n",
       " 0.816923076923077,\n",
       " 0.8176923076923077,\n",
       " 0.8161538461538461,\n",
       " 0.8153846153846154,\n",
       " 0.8184615384615385,\n",
       " 0.8192307692307692,\n",
       " 0.8161538461538461,\n",
       " 0.82,\n",
       " 0.82,\n",
       " 0.8146153846153846,\n",
       " 0.816923076923077,\n",
       " 0.8192307692307692,\n",
       " 0.82,\n",
       " 0.82,\n",
       " 0.8207692307692308,\n",
       " 0.8238461538461539,\n",
       " 0.823076923076923,\n",
       " 0.8246153846153846,\n",
       " 0.8223076923076923,\n",
       " 0.8246153846153846,\n",
       " 0.8261538461538461,\n",
       " 0.8238461538461539,\n",
       " 0.8261538461538461,\n",
       " 0.8253846153846154,\n",
       " 0.8284615384615385,\n",
       " 0.8269230769230769,\n",
       " 0.8269230769230769,\n",
       " 0.8269230769230769,\n",
       " 0.8276923076923077,\n",
       " 0.8269230769230769,\n",
       " 0.8276923076923077,\n",
       " 0.8276923076923077,\n",
       " 0.8315384615384616,\n",
       " 0.83,\n",
       " 0.8292307692307692,\n",
       " 0.8315384615384616,\n",
       " 0.8315384615384616,\n",
       " 0.83,\n",
       " 0.8315384615384616,\n",
       " 0.8284615384615385,\n",
       " 0.83,\n",
       " 0.8284615384615385,\n",
       " 0.83,\n",
       " 0.8307692307692308,\n",
       " 0.8307692307692308,\n",
       " 0.833076923076923,\n",
       " 0.8338461538461538,\n",
       " 0.8323076923076923,\n",
       " 0.8323076923076923,\n",
       " 0.8353846153846154,\n",
       " 0.8361538461538461,\n",
       " 0.833076923076923,\n",
       " 0.8346153846153846,\n",
       " 0.8353846153846154,\n",
       " 0.8376923076923077,\n",
       " 0.8361538461538461,\n",
       " 0.8384615384615385,\n",
       " 0.8407692307692308,\n",
       " 0.8392307692307692,\n",
       " 0.8384615384615385,\n",
       " 0.84,\n",
       " 0.84,\n",
       " 0.8423076923076923,\n",
       " 0.8423076923076923,\n",
       " 0.8430769230769231,\n",
       " 0.8415384615384616,\n",
       " 0.8430769230769231,\n",
       " 0.8446153846153847,\n",
       " 0.8430769230769231,\n",
       " 0.8438461538461538,\n",
       " 0.8461538461538461,\n",
       " 0.8446153846153847,\n",
       " 0.8438461538461538,\n",
       " 0.8446153846153847,\n",
       " 0.8446153846153847,\n",
       " 0.8423076923076923,\n",
       " 0.8453846153846154,\n",
       " 0.8476923076923077,\n",
       " 0.8469230769230769,\n",
       " 0.8484615384615385,\n",
       " 0.8469230769230769,\n",
       " 0.85,\n",
       " 0.8507692307692307,\n",
       " 0.8507692307692307,\n",
       " 0.8515384615384616,\n",
       " 0.8507692307692307,\n",
       " 0.8530769230769231,\n",
       " 0.8492307692307692,\n",
       " 0.8523076923076923,\n",
       " 0.8546153846153847,\n",
       " 0.8523076923076923,\n",
       " 0.8530769230769231,\n",
       " 0.8515384615384616,\n",
       " 0.8538461538461538,\n",
       " 0.8538461538461538,\n",
       " 0.8515384615384616,\n",
       " 0.8530769230769231,\n",
       " 0.8553846153846154,\n",
       " 0.8569230769230769,\n",
       " 0.8553846153846154,\n",
       " 0.8553846153846154,\n",
       " 0.8553846153846154,\n",
       " 0.8530769230769231,\n",
       " 0.8530769230769231,\n",
       " 0.8507692307692307,\n",
       " 0.8530769230769231,\n",
       " 0.8546153846153847,\n",
       " 0.8530769230769231,\n",
       " 0.8530769230769231,\n",
       " 0.8515384615384616,\n",
       " 0.8515384615384616,\n",
       " 0.8523076923076923,\n",
       " 0.8538461538461538,\n",
       " 0.8530769230769231,\n",
       " 0.8530769230769231,\n",
       " 0.8561538461538462,\n",
       " 0.8561538461538462,\n",
       " 0.8538461538461538,\n",
       " 0.8538461538461538,\n",
       " 0.8546153846153847,\n",
       " 0.8569230769230769,\n",
       " 0.8546153846153847,\n",
       " 0.8530769230769231,\n",
       " 0.8584615384615385,\n",
       " 0.8569230769230769,\n",
       " 0.8561538461538462,\n",
       " 0.8553846153846154,\n",
       " 0.8561538461538462,\n",
       " 0.8592307692307692,\n",
       " 0.8561538461538462,\n",
       " 0.8584615384615385,\n",
       " 0.8576923076923076,\n",
       " 0.8576923076923076,\n",
       " 0.8569230769230769,\n",
       " 0.8561538461538462,\n",
       " 0.8561538461538462,\n",
       " 0.8592307692307692,\n",
       " 0.8576923076923076,\n",
       " 0.8576923076923076,\n",
       " 0.86,\n",
       " 0.8584615384615385,\n",
       " 0.8592307692307692,\n",
       " 0.8584615384615385,\n",
       " 0.86,\n",
       " 0.8576923076923076,\n",
       " 0.86,\n",
       " 0.8615384615384616,\n",
       " 0.86,\n",
       " 0.86,\n",
       " 0.8592307692307692,\n",
       " 0.8592307692307692,\n",
       " 0.8615384615384616,\n",
       " 0.8638461538461538,\n",
       " 0.86,\n",
       " 0.8615384615384616,\n",
       " 0.8607692307692307,\n",
       " 0.8607692307692307,\n",
       " 0.8623076923076923,\n",
       " 0.8623076923076923,\n",
       " 0.8630769230769231,\n",
       " 0.8615384615384616,\n",
       " 0.8615384615384616,\n",
       " 0.8615384615384616,\n",
       " 0.8623076923076923,\n",
       " 0.86,\n",
       " 0.8607692307692307,\n",
       " 0.8661538461538462,\n",
       " 0.8646153846153846,\n",
       " 0.86,\n",
       " 0.8630769230769231,\n",
       " 0.8630769230769231,\n",
       " 0.8638461538461538,\n",
       " 0.8646153846153846,\n",
       " 0.8653846153846154,\n",
       " 0.8653846153846154,\n",
       " 0.8646153846153846,\n",
       " 0.8669230769230769,\n",
       " 0.8646153846153846,\n",
       " 0.8638461538461538,\n",
       " 0.8653846153846154,\n",
       " 0.8646153846153846,\n",
       " 0.8646153846153846,\n",
       " 0.8630769230769231,\n",
       " 0.8653846153846154,\n",
       " 0.8638461538461538,\n",
       " 0.8653846153846154,\n",
       " 0.8684615384615385,\n",
       " 0.8653846153846154,\n",
       " 0.8653846153846154,\n",
       " 0.8653846153846154,\n",
       " 0.8661538461538462,\n",
       " 0.8676923076923077,\n",
       " 0.8661538461538462,\n",
       " 0.8646153846153846,\n",
       " 0.8630769230769231,\n",
       " 0.8692307692307693,\n",
       " 0.8684615384615385,\n",
       " 0.8653846153846154,\n",
       " 0.8684615384615385,\n",
       " 0.8707692307692307,\n",
       " 0.8676923076923077,\n",
       " 0.8684615384615385,\n",
       " 0.8692307692307693,\n",
       " 0.8669230769230769,\n",
       " 0.87,\n",
       " 0.87,\n",
       " 0.8723076923076923,\n",
       " 0.8723076923076923,\n",
       " 0.8730769230769231,\n",
       " 0.87,\n",
       " 0.8715384615384615,\n",
       " 0.8715384615384615,\n",
       " 0.8692307692307693,\n",
       " 0.8707692307692307,\n",
       " 0.87,\n",
       " 0.87,\n",
       " 0.8707692307692307,\n",
       " 0.8723076923076923,\n",
       " 0.8684615384615385,\n",
       " 0.87,\n",
       " 0.8707692307692307,\n",
       " 0.87,\n",
       " 0.87,\n",
       " 0.87,\n",
       " 0.87,\n",
       " 0.8723076923076923,\n",
       " 0.8738461538461538,\n",
       " 0.8730769230769231,\n",
       " 0.8738461538461538,\n",
       " 0.8715384615384615,\n",
       " 0.8707692307692307,\n",
       " 0.8723076923076923,\n",
       " 0.8730769230769231,\n",
       " 0.8761538461538462,\n",
       " 0.8715384615384615,\n",
       " 0.8769230769230769,\n",
       " 0.8715384615384615,\n",
       " 0.8753846153846154,\n",
       " 0.8746153846153846,\n",
       " 0.8746153846153846,\n",
       " 0.8738461538461538,\n",
       " 0.8753846153846154,\n",
       " 0.8738461538461538,\n",
       " 0.8723076923076923,\n",
       " 0.8761538461538462,\n",
       " 0.8746153846153846,\n",
       " 0.8769230769230769,\n",
       " 0.8723076923076923,\n",
       " 0.8746153846153846,\n",
       " 0.8738461538461538,\n",
       " 0.8746153846153846,\n",
       " 0.8753846153846154,\n",
       " 0.8746153846153846,\n",
       " 0.8746153846153846,\n",
       " 0.8761538461538462,\n",
       " 0.8753846153846154,\n",
       " 0.8761538461538462,\n",
       " 0.8769230769230769,\n",
       " 0.8738461538461538,\n",
       " 0.8761538461538462,\n",
       " 0.8746153846153846,\n",
       " 0.8761538461538462,\n",
       " 0.8792307692307693,\n",
       " 0.8807692307692307,\n",
       " 0.8746153846153846,\n",
       " 0.8753846153846154,\n",
       " 0.8723076923076923,\n",
       " 0.8761538461538462,\n",
       " 0.8769230769230769,\n",
       " 0.8792307692307693,\n",
       " 0.88,\n",
       " 0.8776923076923077,\n",
       " 0.8769230769230769,\n",
       " 0.88,\n",
       " 0.8792307692307693,\n",
       " 0.88,\n",
       " 0.8807692307692307,\n",
       " 0.88,\n",
       " 0.8776923076923077,\n",
       " 0.8761538461538462,\n",
       " 0.8761538461538462,\n",
       " 0.8761538461538462,\n",
       " 0.8746153846153846,\n",
       " 0.8769230769230769,\n",
       " 0.88,\n",
       " 0.8776923076923077,\n",
       " 0.8761538461538462,\n",
       " 0.8792307692307693,\n",
       " 0.88,\n",
       " 0.8776923076923077,\n",
       " 0.8761538461538462,\n",
       " 0.8769230769230769,\n",
       " 0.8792307692307693,\n",
       " 0.8761538461538462,\n",
       " 0.88,\n",
       " 0.8807692307692307,\n",
       " 0.8823076923076923,\n",
       " 0.8815384615384615,\n",
       " 0.8830769230769231,\n",
       " 0.8815384615384615,\n",
       " 0.8807692307692307,\n",
       " 0.8815384615384615,\n",
       " 0.8792307692307693,\n",
       " 0.8815384615384615,\n",
       " 0.8815384615384615,\n",
       " 0.8815384615384615,\n",
       " 0.8815384615384615,\n",
       " 0.8807692307692307,\n",
       " 0.8807692307692307,\n",
       " 0.8792307692307693,\n",
       " 0.8830769230769231,\n",
       " 0.88,\n",
       " 0.8815384615384615,\n",
       " 0.8807692307692307,\n",
       " 0.8792307692307693,\n",
       " 0.8823076923076923,\n",
       " 0.8838461538461538,\n",
       " 0.8838461538461538,\n",
       " 0.8823076923076923,\n",
       " 0.8830769230769231,\n",
       " 0.8823076923076923,\n",
       " 0.8815384615384615,\n",
       " 0.8830769230769231,\n",
       " 0.8838461538461538,\n",
       " 0.8846153846153846,\n",
       " 0.8823076923076923,\n",
       " 0.8846153846153846,\n",
       " 0.8838461538461538,\n",
       " 0.8861538461538462,\n",
       " 0.8838461538461538,\n",
       " 0.8846153846153846,\n",
       " 0.8853846153846154,\n",
       " 0.8869230769230769,\n",
       " 0.8838461538461538,\n",
       " 0.8846153846153846,\n",
       " 0.8853846153846154,\n",
       " 0.8846153846153846,\n",
       " 0.8869230769230769,\n",
       " 0.8838461538461538,\n",
       " 0.8861538461538462,\n",
       " 0.8838461538461538,\n",
       " 0.8861538461538462,\n",
       " 0.8853846153846154,\n",
       " 0.8884615384615384,\n",
       " 0.8869230769230769,\n",
       " 0.8838461538461538,\n",
       " 0.8853846153846154,\n",
       " 0.8861538461538462,\n",
       " 0.8861538461538462,\n",
       " 0.8861538461538462,\n",
       " 0.8876923076923077,\n",
       " 0.8861538461538462,\n",
       " 0.8884615384615384,\n",
       " 0.8861538461538462,\n",
       " 0.8876923076923077,\n",
       " 0.8861538461538462,\n",
       " 0.8876923076923077,\n",
       " 0.8876923076923077,\n",
       " 0.8853846153846154,\n",
       " 0.8876923076923077,\n",
       " 0.8884615384615384,\n",
       " 0.8876923076923077,\n",
       " 0.8853846153846154,\n",
       " 0.8869230769230769,\n",
       " 0.8869230769230769,\n",
       " 0.89,\n",
       " 0.8869230769230769,\n",
       " 0.8884615384615384,\n",
       " 0.8876923076923077,\n",
       " 0.8876923076923077,\n",
       " 0.8892307692307693,\n",
       " 0.8869230769230769,\n",
       " 0.8892307692307693,\n",
       " 0.8876923076923077,\n",
       " 0.8869230769230769,\n",
       " 0.8884615384615384,\n",
       " 0.8876923076923077,\n",
       " 0.8907692307692308,\n",
       " 0.8884615384615384,\n",
       " 0.89,\n",
       " 0.8876923076923077,\n",
       " 0.8892307692307693,\n",
       " 0.89,\n",
       " 0.8892307692307693,\n",
       " 0.8907692307692308,\n",
       " 0.8915384615384615,\n",
       " 0.8907692307692308,\n",
       " 0.89,\n",
       " 0.8892307692307693,\n",
       " 0.89,\n",
       " 0.8884615384615384,\n",
       " 0.8892307692307693,\n",
       " 0.8907692307692308,\n",
       " 0.8907692307692308,\n",
       " 0.89,\n",
       " 0.8907692307692308,\n",
       " 0.89,\n",
       " 0.8907692307692308,\n",
       " 0.8907692307692308,\n",
       " 0.89,\n",
       " 0.89,\n",
       " 0.89,\n",
       " 0.89,\n",
       " 0.8923076923076924,\n",
       " 0.8915384615384615,\n",
       " 0.8923076923076924,\n",
       " 0.8915384615384615,\n",
       " 0.8907692307692308,\n",
       " 0.8923076923076924,\n",
       " 0.8915384615384615,\n",
       " 0.8915384615384615,\n",
       " 0.8907692307692308,\n",
       " 0.8923076923076924,\n",
       " 0.8923076923076924,\n",
       " 0.8923076923076924,\n",
       " 0.8915384615384615,\n",
       " 0.8907692307692308,\n",
       " 0.8892307692307693,\n",
       " 0.8907692307692308,\n",
       " 0.8915384615384615,\n",
       " 0.89,\n",
       " 0.8915384615384615,\n",
       " 0.8915384615384615,\n",
       " 0.8923076923076924,\n",
       " 0.8907692307692308,\n",
       " 0.8923076923076924,\n",
       " 0.8907692307692308,\n",
       " 0.8907692307692308,\n",
       " 0.8907692307692308,\n",
       " 0.8915384615384615,\n",
       " 0.8907692307692308,\n",
       " 0.8907692307692308,\n",
       " 0.8907692307692308,\n",
       " 0.8907692307692308,\n",
       " 0.8884615384615384,\n",
       " 0.89,\n",
       " 0.89,\n",
       " 0.8961538461538462,\n",
       " 0.8930769230769231,\n",
       " 0.8961538461538462,\n",
       " 0.8923076923076924,\n",
       " 0.8938461538461538,\n",
       " 0.8923076923076924,\n",
       " 0.8915384615384615,\n",
       " 0.8915384615384615,\n",
       " 0.8938461538461538,\n",
       " 0.8915384615384615,\n",
       " 0.8915384615384615,\n",
       " 0.8930769230769231,\n",
       " 0.8892307692307693,\n",
       " 0.8892307692307693,\n",
       " 0.8930769230769231,\n",
       " 0.8930769230769231,\n",
       " 0.8930769230769231,\n",
       " 0.8946153846153846,\n",
       " 0.8946153846153846,\n",
       " 0.8953846153846153,\n",
       " 0.8938461538461538,\n",
       " 0.8946153846153846,\n",
       " 0.8938461538461538,\n",
       " 0.8923076923076924,\n",
       " 0.8946153846153846,\n",
       " 0.8953846153846153,\n",
       " 0.8923076923076924,\n",
       " 0.8946153846153846,\n",
       " 0.8938461538461538,\n",
       " 0.8946153846153846,\n",
       " 0.8953846153846153,\n",
       " 0.8961538461538462,\n",
       " 0.8946153846153846,\n",
       " 0.8938461538461538,\n",
       " 0.8953846153846153,\n",
       " 0.8953846153846153,\n",
       " 0.8946153846153846,\n",
       " 0.8930769230769231,\n",
       " 0.8915384615384615,\n",
       " 0.8930769230769231,\n",
       " 0.8923076923076924,\n",
       " 0.8930769230769231,\n",
       " 0.8923076923076924,\n",
       " 0.8938461538461538,\n",
       " 0.8961538461538462,\n",
       " 0.8946153846153846,\n",
       " 0.8938461538461538,\n",
       " 0.8938461538461538,\n",
       " 0.8953846153846153,\n",
       " 0.8946153846153846,\n",
       " 0.8915384615384615,\n",
       " 0.8907692307692308,\n",
       " 0.8923076923076924,\n",
       " 0.8946153846153846,\n",
       " 0.8938461538461538,\n",
       " 0.8930769230769231,\n",
       " 0.8915384615384615,\n",
       " 0.8946153846153846,\n",
       " 0.8938461538461538,\n",
       " 0.8953846153846153,\n",
       " 0.8930769230769231,\n",
       " 0.8969230769230769,\n",
       " 0.8984615384615384,\n",
       " 0.8969230769230769,\n",
       " 0.8946153846153846,\n",
       " 0.8946153846153846,\n",
       " 0.8946153846153846,\n",
       " 0.8961538461538462,\n",
       " 0.8938461538461538,\n",
       " 0.8938461538461538,\n",
       " 0.8953846153846153,\n",
       " 0.8961538461538462,\n",
       " 0.8938461538461538,\n",
       " 0.8961538461538462,\n",
       " 0.8961538461538462,\n",
       " 0.8938461538461538,\n",
       " 0.8946153846153846,\n",
       " 0.8923076923076924,\n",
       " 0.8984615384615384,\n",
       " 0.8969230769230769,\n",
       " 0.8938461538461538,\n",
       " 0.8930769230769231,\n",
       " 0.8915384615384615,\n",
       " 0.8961538461538462,\n",
       " 0.8938461538461538,\n",
       " 0.8969230769230769,\n",
       " 0.8946153846153846,\n",
       " 0.8930769230769231,\n",
       " 0.8923076923076924,\n",
       " 0.8923076923076924,\n",
       " 0.8969230769230769,\n",
       " 0.8992307692307693,\n",
       " 0.8930769230769231,\n",
       " 0.8930769230769231,\n",
       " 0.8915384615384615,\n",
       " 0.8938461538461538,\n",
       " 0.8961538461538462,\n",
       " 0.8953846153846153,\n",
       " 0.8953846153846153,\n",
       " 0.8976923076923077,\n",
       " 0.8946153846153846,\n",
       " 0.8969230769230769,\n",
       " 0.8976923076923077,\n",
       " 0.8961538461538462,\n",
       " 0.8976923076923077,\n",
       " 0.8969230769230769,\n",
       " 0.8976923076923077,\n",
       " 0.8984615384615384,\n",
       " 0.8976923076923077,\n",
       " 0.8946153846153846,\n",
       " 0.8969230769230769,\n",
       " 0.8953846153846153,\n",
       " 0.8961538461538462,\n",
       " 0.8969230769230769,\n",
       " 0.8953846153846153,\n",
       " 0.8976923076923077,\n",
       " 0.8969230769230769,\n",
       " 0.8961538461538462,\n",
       " 0.8961538461538462,\n",
       " 0.8938461538461538,\n",
       " 0.8984615384615384,\n",
       " 0.8961538461538462,\n",
       " 0.8992307692307693,\n",
       " 0.9,\n",
       " 0.8984615384615384,\n",
       " 0.8969230769230769,\n",
       " 0.8969230769230769,\n",
       " 0.8984615384615384,\n",
       " 0.8976923076923077,\n",
       " 0.8961538461538462,\n",
       " 0.8969230769230769,\n",
       " 0.8984615384615384,\n",
       " 0.8946153846153846,\n",
       " 0.8961538461538462,\n",
       " 0.8976923076923077,\n",
       " 0.8961538461538462,\n",
       " 0.8953846153846153,\n",
       " 0.8953846153846153,\n",
       " 0.8961538461538462,\n",
       " 0.8992307692307693,\n",
       " 0.8961538461538462,\n",
       " 0.8976923076923077,\n",
       " 0.8984615384615384,\n",
       " 0.8938461538461538,\n",
       " 0.8976923076923077,\n",
       " 0.8992307692307693,\n",
       " 0.8969230769230769,\n",
       " 0.8953846153846153,\n",
       " 0.8961538461538462,\n",
       " 0.8976923076923077,\n",
       " 0.8984615384615384,\n",
       " 0.8953846153846153,\n",
       " 0.8984615384615384,\n",
       " 0.8984615384615384,\n",
       " 0.8984615384615384,\n",
       " 0.8984615384615384,\n",
       " 0.8953846153846153,\n",
       " 0.8976923076923077,\n",
       " 0.8969230769230769,\n",
       " 0.8976923076923077,\n",
       " 0.8992307692307693,\n",
       " 0.8992307692307693,\n",
       " 0.8961538461538462,\n",
       " 0.8961538461538462,\n",
       " 0.8976923076923077,\n",
       " 0.8969230769230769,\n",
       " 0.8976923076923077,\n",
       " 0.8961538461538462,\n",
       " 0.8953846153846153,\n",
       " 0.8969230769230769,\n",
       " 0.8984615384615384,\n",
       " 0.8984615384615384,\n",
       " 0.8992307692307693,\n",
       " 0.8992307692307693,\n",
       " 0.8992307692307693,\n",
       " 0.8961538461538462,\n",
       " 0.8953846153846153,\n",
       " 0.8984615384615384,\n",
       " 0.8969230769230769,\n",
       " 0.8961538461538462,\n",
       " 0.8992307692307693,\n",
       " 0.8961538461538462,\n",
       " 0.8969230769230769,\n",
       " 0.8984615384615384,\n",
       " 0.8984615384615384,\n",
       " 0.8992307692307693,\n",
       " 0.9,\n",
       " 0.8992307692307693,\n",
       " 0.9,\n",
       " 0.8984615384615384,\n",
       " 0.8984615384615384,\n",
       " 0.8976923076923077,\n",
       " 0.8984615384615384,\n",
       " 0.8984615384615384,\n",
       " 0.8984615384615384,\n",
       " 0.8969230769230769,\n",
       " 0.8961538461538462,\n",
       " 0.8969230769230769,\n",
       " 0.8984615384615384,\n",
       " 0.8992307692307693,\n",
       " 0.8992307692307693,\n",
       " 0.9015384615384615,\n",
       " 0.8992307692307693,\n",
       " 0.9007692307692308,\n",
       " 0.8992307692307693,\n",
       " 0.8984615384615384,\n",
       " 0.8976923076923077,\n",
       " 0.8976923076923077,\n",
       " 0.8976923076923077,\n",
       " 0.9,\n",
       " 0.8976923076923077,\n",
       " 0.8992307692307693,\n",
       " 0.8961538461538462,\n",
       " 0.9007692307692308,\n",
       " 0.9,\n",
       " 0.8984615384615384,\n",
       " 0.8961538461538462,\n",
       " 0.9,\n",
       " 0.8969230769230769,\n",
       " 0.8992307692307693,\n",
       " 0.9007692307692308,\n",
       " 0.9023076923076923,\n",
       " 0.9023076923076923,\n",
       " 0.8992307692307693,\n",
       " 0.8984615384615384,\n",
       " 0.9,\n",
       " 0.8976923076923077,\n",
       " 0.8976923076923077,\n",
       " 0.8984615384615384,\n",
       " 0.8984615384615384,\n",
       " 0.8984615384615384,\n",
       " 0.8976923076923077,\n",
       " 0.8976923076923077,\n",
       " 0.8992307692307693,\n",
       " 0.8984615384615384,\n",
       " 0.8976923076923077,\n",
       " 0.8976923076923077,\n",
       " 0.8976923076923077,\n",
       " 0.9,\n",
       " 0.8984615384615384,\n",
       " 0.9015384615384615,\n",
       " 0.9015384615384615,\n",
       " 0.9,\n",
       " 0.8992307692307693,\n",
       " 0.8976923076923077,\n",
       " 0.8976923076923077,\n",
       " 0.8992307692307693,\n",
       " 0.8984615384615384,\n",
       " 0.8992307692307693,\n",
       " 0.9007692307692308,\n",
       " 0.8984615384615384,\n",
       " 0.9007692307692308,\n",
       " 0.9,\n",
       " 0.8992307692307693,\n",
       " 0.9,\n",
       " 0.9,\n",
       " 0.9,\n",
       " 0.8992307692307693,\n",
       " 0.9,\n",
       " 0.9007692307692308,\n",
       " 0.8984615384615384,\n",
       " 0.8984615384615384,\n",
       " 0.9,\n",
       " 0.9,\n",
       " 0.9007692307692308,\n",
       " 0.8992307692307693,\n",
       " 0.9007692307692308,\n",
       " 0.9007692307692308,\n",
       " 0.8984615384615384,\n",
       " 0.8976923076923077,\n",
       " 0.9,\n",
       " 0.9,\n",
       " 0.9015384615384615,\n",
       " 0.9023076923076923,\n",
       " 0.9015384615384615,\n",
       " 0.9007692307692308,\n",
       " 0.9023076923076923,\n",
       " 0.9015384615384615,\n",
       " 0.9023076923076923,\n",
       " 0.9015384615384615,\n",
       " 0.9015384615384615,\n",
       " 0.9023076923076923,\n",
       " 0.9007692307692308,\n",
       " 0.9015384615384615,\n",
       " 0.9023076923076923,\n",
       " 0.9007692307692308,\n",
       " 0.9,\n",
       " 0.9023076923076923,\n",
       " 0.9015384615384615,\n",
       " 0.9015384615384615,\n",
       " 0.9007692307692308,\n",
       " 0.9023076923076923,\n",
       " 0.9023076923076923,\n",
       " 0.9015384615384615,\n",
       " 0.9015384615384615,\n",
       " 0.9015384615384615,\n",
       " 0.9007692307692308,\n",
       " 0.9023076923076923,\n",
       " 0.8992307692307693,\n",
       " 0.9015384615384615,\n",
       " 0.9007692307692308,\n",
       " 0.9015384615384615,\n",
       " 0.9023076923076923,\n",
       " 0.9023076923076923,\n",
       " 0.9,\n",
       " 0.9023076923076923,\n",
       " 0.9007692307692308,\n",
       " 0.9015384615384615,\n",
       " 0.8992307692307693,\n",
       " 0.9023076923076923,\n",
       " 0.9015384615384615,\n",
       " 0.9015384615384615,\n",
       " 0.9015384615384615,\n",
       " 0.9015384615384615,\n",
       " 0.9015384615384615,\n",
       " 0.9015384615384615,\n",
       " 0.9015384615384615,\n",
       " 0.9007692307692308,\n",
       " 0.9,\n",
       " 0.9,\n",
       " 0.9,\n",
       " 0.9030769230769231,\n",
       " 0.9007692307692308,\n",
       " 0.9015384615384615,\n",
       " 0.9015384615384615,\n",
       " 0.9015384615384615,\n",
       " 0.9030769230769231,\n",
       " 0.9023076923076923,\n",
       " 0.9023076923076923,\n",
       " 0.9023076923076923,\n",
       " 0.9015384615384615,\n",
       " 0.9015384615384615,\n",
       " 0.9007692307692308,\n",
       " 0.9015384615384615,\n",
       " 0.9007692307692308,\n",
       " 0.9015384615384615,\n",
       " 0.9015384615384615,\n",
       " 0.9015384615384615,\n",
       " 0.9015384615384615,\n",
       " 0.9015384615384615,\n",
       " 0.9023076923076923,\n",
       " 0.9015384615384615,\n",
       " 0.9015384615384615,\n",
       " ...]"
      ]
     },
     "execution_count": 18,
     "metadata": {},
     "output_type": "execute_result"
    }
   ],
   "source": [
    "ml.val_score_lst"
   ]
  },
  {
   "cell_type": "code",
   "execution_count": 5,
   "metadata": {},
   "outputs": [
    {
     "name": "stdout",
     "output_type": "stream",
     "text": [
      "**************************************************\n",
      "Training MLP model with 1 neurons in hidden layer:\n",
      "Trained in 3.28 minutes\n",
      "Test Accuracy : 3.85 %\n",
      "Test Accuracy : 3.85 %\n",
      "\n",
      "\n",
      "**************************************************\n",
      "Training MLP model with 5 neurons in hidden layer:\n",
      "Trained in 3.41 minutes\n",
      "Test Accuracy : 24.14 %\n",
      "Test Accuracy : 24.49 %\n",
      "\n",
      "\n",
      "**************************************************\n",
      "Training MLP model with 10 neurons in hidden layer:\n",
      "Trained in 3.52 minutes\n",
      "Test Accuracy : 65.25 %\n",
      "Test Accuracy : 68.62 %\n",
      "\n",
      "\n",
      "**************************************************\n",
      "Training MLP model with 50 neurons in hidden layer:\n",
      "Trained in 4.41 minutes\n",
      "Test Accuracy : 89.12 %\n",
      "Test Accuracy : 95.60 %\n",
      "\n",
      "\n",
      "**************************************************\n",
      "Training MLP model with 100 neurons in hidden layer:\n",
      "Trained in 5.41 minutes\n",
      "Test Accuracy : 90.66 %\n",
      "Test Accuracy : 96.85 %\n",
      "\n",
      "\n"
     ]
    }
   ],
   "source": [
    "n_neurons_lst = [1,5,10,50,100]\n",
    "for n_neurons in n_neurons_lst:\n",
    "    print('*'*50)\n",
    "    print('Training MLP model with %d neurons in hidden layer:'%(n_neurons))\n",
    "    ml=MLP(layers=[n_neurons], batch_size=100, activation_fn='sigmoid', max_epoch=2000,\\\n",
    "       lr=0.1)\n",
    "    t0=time()\n",
    "    ml.fit(X_train, Y_train)\n",
    "    print('Trained in %.2f minutes'%((time()-t0)/60))\n",
    "    print('Test Accuracy : %.2f %c'%(ml.score(X_test, Y_test)*100,'%'))\n",
    "    print('Train Accuracy : %.2f %c'%(ml.score(X_train, Y_train)*100,'%'))\n",
    "    print('\\n')"
   ]
  },
  {
   "cell_type": "code",
   "execution_count": 6,
   "metadata": {
    "scrolled": false
   },
   "outputs": [
    {
     "name": "stdout",
     "output_type": "stream",
     "text": [
      "**************************************************\n",
      "Training MLP model with 1 neurons in hidden layer:\n",
      "Trained in 3.20 minutes\n",
      "Test Accuracy : 3.85 %\n",
      "Test Accuracy : 3.85 %\n",
      "\n",
      "\n",
      "**************************************************\n",
      "Training MLP model with 5 neurons in hidden layer:\n",
      "Trained in 3.30 minutes\n",
      "Test Accuracy : 4.17 %\n",
      "Test Accuracy : 4.04 %\n",
      "\n",
      "\n",
      "**************************************************\n",
      "Training MLP model with 10 neurons in hidden layer:\n",
      "Trained in 3.50 minutes\n",
      "Test Accuracy : 7.97 %\n",
      "Test Accuracy : 7.80 %\n",
      "\n",
      "\n",
      "**************************************************\n",
      "Training MLP model with 50 neurons in hidden layer:\n",
      "Trained in 4.46 minutes\n",
      "Test Accuracy : 85.37 %\n",
      "Test Accuracy : 88.85 %\n",
      "\n",
      "\n",
      "**************************************************\n",
      "Training MLP model with 100 neurons in hidden layer:\n",
      "Trained in 5.51 minutes\n",
      "Test Accuracy : 86.35 %\n",
      "Test Accuracy : 89.85 %\n",
      "\n",
      "\n"
     ]
    }
   ],
   "source": [
    "n_neurons_lst = [1,5,10,50,100]\n",
    "for n_neurons in n_neurons_lst:\n",
    "    print('*'*50)\n",
    "    print('Training MLP model with %d neurons in hidden layer:'%(n_neurons))\n",
    "    ml=MLP(layers=[n_neurons], batch_size=100, activation_fn='sigmoid', max_epoch=2000,\\\n",
    "       lr=0.5, adaptive_lr=True)\n",
    "    t0=time()\n",
    "    ml.fit(X_train, Y_train)\n",
    "    print('Trained in %.2f minutes'%((time()-t0)/60))\n",
    "    print('Test Accuracy : %.2f %c'%(ml.score(X_test, Y_test),'%'))\n",
    "    print('Test Accuracy : %.2f %c'%(ml.score(X_train, Y_train),'%'))\n",
    "    print('\\n')"
   ]
  },
  {
   "cell_type": "code",
   "execution_count": null,
   "metadata": {},
   "outputs": [
    {
     "name": "stderr",
     "output_type": "stream",
     "text": [
      "  8%|▊         | 162/2000 [00:16<03:18,  9.24it/s]"
     ]
    }
   ],
   "source": [
    "ml=MLP(layers=[100,100], batch_size=100, activation_fn='relu', max_epoch=2000,\\\n",
    "       lr=0.5, adaptive_lr=True, tol=1e-4)\n",
    "t0=time()\n",
    "ml.fit(X_train, Y_train)\n",
    "print('Trained in %.2f minutes'%((time()-t0)/60))\n",
    "print('Test Accuracy : %.2f %c'%(ml.score(X_test, Y_test),'%'))\n",
    "print('Test Accuracy : %.2f %c'%(ml.score(X_train, Y_train),'%'))"
   ]
  },
  {
   "cell_type": "code",
   "execution_count": 24,
   "metadata": {},
   "outputs": [],
   "source": [
    "lst=[]\n",
    "check_after_iter = 10\n",
    "for i in range(0,len(ml.val_loss_lst[:-1]),check_after_iter):\n",
    "    lst.append(np.sum(ml.val_loss_lst[i:i+check_after_iter])/check_after_iter)"
   ]
  },
  {
   "cell_type": "code",
   "execution_count": 23,
   "metadata": {},
   "outputs": [
    {
     "data": {
      "text/plain": [
       "0"
      ]
     },
     "execution_count": 23,
     "metadata": {},
     "output_type": "execute_result"
    }
   ],
   "source": [
    "ml.val_loss_lst[0]"
   ]
  },
  {
   "cell_type": "code",
   "execution_count": 19,
   "metadata": {},
   "outputs": [
    {
     "data": {
      "text/plain": [
       "[<matplotlib.lines.Line2D at 0x7fd652d3c3d0>]"
      ]
     },
     "execution_count": 19,
     "metadata": {},
     "output_type": "execute_result"
    },
    {
     "data": {
      "image/png": "[encoded data removed]",
      "text/plain": [
       "<Figure size 1152x648 with 1 Axes>"
      ]
     },
     "metadata": {
      "needs_background": "light"
     },
     "output_type": "display_data"
    }
   ],
   "source": [
    "plt.figure(figsize=(16,9))\n",
    "plt.plot(range(len(ml.val_loss_lst[500:])), ml.val_loss_lst[500:])"
   ]
  },
  {
   "cell_type": "code",
   "execution_count": 26,
   "metadata": {},
   "outputs": [
    {
     "data": {
      "text/plain": [
       "[<matplotlib.lines.Line2D at 0x7fd65253afd0>]"
      ]
     },
     "execution_count": 26,
     "metadata": {},
     "output_type": "execute_result"
    },
    {
     "data": {
      "image/png": "[encoded data removed]",
      "text/plain": [
       "<Figure size 1152x648 with 1 Axes>"
      ]
     },
     "metadata": {
      "needs_background": "light"
     },
     "output_type": "display_data"
    }
   ],
   "source": [
    "plt.figure(figsize=(16,9))\n",
    "plt.plot(range(len(lst[50:])), lst[50:])"
   ]
  },
  {
   "cell_type": "code",
   "execution_count": 13,
   "metadata": {},
   "outputs": [
    {
     "data": {
      "text/plain": [
       "[<matplotlib.lines.Line2D at 0x7fd6537b7ed0>]"
      ]
     },
     "execution_count": 13,
     "metadata": {},
     "output_type": "execute_result"
    },
    {
     "data": {
      "image/png": "[encoded data removed]",
      "text/plain": [
       "<Figure size 1152x648 with 1 Axes>"
      ]
     },
     "metadata": {
      "needs_background": "light"
     },
     "output_type": "display_data"
    }
   ],
   "source": [
    "plt.figure(figsize=(16,9))\n",
    "plt.plot(range(len(ml.val_loss_lst[500:])), ml.val_loss_lst[500:])"
   ]
  },
  {
   "cell_type": "code",
   "execution_count": 24,
   "metadata": {},
   "outputs": [
    {
     "name": "stderr",
     "output_type": "stream",
     "text": [
      "100%|██████████| 1000/1000 [02:11<00:00,  7.63it/s]\n"
     ]
    },
    {
     "name": "stdout",
     "output_type": "stream",
     "text": [
      "Trained in 2.19 minutes\n",
      "Test Accuracy : 0.92 %\n",
      "Test Accuracy : 0.97 %\n"
     ]
    }
   ],
   "source": [
    "ml=MLP(layers=[100,100], batch_size=100, activation_fn='sigmoid', max_epoch=1000,\\\n",
    "       lr=0.5, adaptive_lr=False, tol=1e-6)\n",
    "t0=time()\n",
    "ml.fit(X_train, Y_train)\n",
    "print('Trained in %.2f minutes'%((time()-t0)/60))\n",
    "print('Test Accuracy : %.2f %c'%(ml.score(X_test, Y_test),'%'))\n",
    "print('Test Accuracy : %.2f %c'%(ml.score(X_train, Y_train),'%'))"
   ]
  },
  {
   "cell_type": "code",
   "execution_count": null,
   "metadata": {},
   "outputs": [
    {
     "name": "stdout",
     "output_type": "stream",
     "text": [
      "**************************************************\n",
      "Training MLP model with 1 neurons in hidden layer:\n",
      "Trained in 2.38 minutes\n",
      "Test Accuracy : 3.85 %\n",
      "Test Accuracy : 3.85 %\n",
      "\n",
      "\n",
      "**************************************************\n",
      "Training MLP model with 5 neurons in hidden layer:\n",
      "Trained in 2.49 minutes\n",
      "Test Accuracy : 14.65 %\n",
      "Test Accuracy : 14.98 %\n",
      "\n",
      "\n",
      "**************************************************\n",
      "Training MLP model with 10 neurons in hidden layer:\n",
      "Trained in 2.53 minutes\n",
      "Test Accuracy : 46.58 %\n",
      "Test Accuracy : 48.54 %\n",
      "\n",
      "\n",
      "**************************************************\n",
      "Training MLP model with 50 neurons in hidden layer:\n"
     ]
    }
   ],
   "source": [
    "n_neurons_lst = [1,5,10,50,100]\n",
    "for n_neurons in n_neurons_lst:\n",
    "    print('*'*50)\n",
    "    print('Training MLP model with %d neurons in hidden layer:'%(n_neurons))\n",
    "    ml=MLP(layers=[n_neurons], batch_size=100, activation_fn='sigmoid', max_epoch=1500,\\\n",
    "       lr=0.1)\n",
    "    t0=time()\n",
    "    ml.fit(X_train, Y_train)\n",
    "    print('Trained in %.2f minutes'%((time()-t0)/60))\n",
    "    print('Test Accuracy : %.2f %c'%(ml.score(X_test, Y_test),'%'))\n",
    "    print('Test Accuracy : %.2f %c'%(ml.score(X_train, Y_train),'%'))\n",
    "    print('\\n')"
   ]
  },
  {
   "cell_type": "code",
   "execution_count": null,
   "metadata": {},
   "outputs": [],
   "source": []
  },
  {
   "cell_type": "code",
   "execution_count": null,
   "metadata": {},
   "outputs": [],
   "source": []
  },
  {
   "cell_type": "code",
   "execution_count": null,
   "metadata": {},
   "outputs": [],
   "source": []
  },
  {
   "cell_type": "code",
   "execution_count": null,
   "metadata": {},
   "outputs": [],
   "source": []
  },
  {
   "cell_type": "code",
   "execution_count": null,
   "metadata": {},
   "outputs": [],
   "source": []
  },
  {
   "cell_type": "code",
   "execution_count": null,
   "metadata": {},
   "outputs": [],
   "source": []
  },
  {
   "cell_type": "code",
   "execution_count": null,
   "metadata": {},
   "outputs": [
    {
     "name": "stderr",
     "output_type": "stream",
     "text": [
      "  6%|▋         | 127/2000 [00:20<05:06,  6.11it/s]"
     ]
    }
   ],
   "source": [
    "ml=MLP(layers=[100], batch_size=100, activation_fn='sigmoid', max_epoch=2000,\\\n",
    "       lr=0.1, tol=1e-5, n_iter_no_change=2, n_iter_avg=1000)\n",
    "ml.fit(X_train, Y_train)\n",
    "print('Test Accuracy : %.2f %c'%(ml.score(X_test, Y_test),'%'))\n",
    "print('Test Accuracy : %.2f %c'%(ml.score(X_train, Y_train),'%'))"
   ]
  },
  {
   "cell_type": "code",
   "execution_count": 5,
   "metadata": {},
   "outputs": [
    {
     "name": "stderr",
     "output_type": "stream",
     "text": [
      " 48%|████▊     | 960/2000 [02:48<03:02,  5.70it/s]"
     ]
    },
    {
     "name": "stdout",
     "output_type": "stream",
     "text": [
      "Converged in 960 epochs\n",
      "Test Accuracy : 89.11 %\n",
      "Test Accuracy : 94.11 %\n"
     ]
    },
    {
     "name": "stderr",
     "output_type": "stream",
     "text": [
      "\n"
     ]
    }
   ],
   "source": [
    "ml=MLP(layers=[100], batch_size=100, activation_fn='sigmoid', max_epoch=2000,\\\n",
    "       lr=0.1, tol=1e-3, n_iter_no_change=3, n_iter_avg=1000)\n",
    "ml.fit(X_train, Y_train)\n",
    "print('Test Accuracy : %.2f %c'%(ml.score(X_test, Y_test),'%'))\n",
    "print('Test Accuracy : %.2f %c'%(ml.score(X_train, Y_train),'%'))"
   ]
  },
  {
   "cell_type": "code",
   "execution_count": 5,
   "metadata": {},
   "outputs": [
    {
     "name": "stderr",
     "output_type": "stream",
     "text": [
      "100%|██████████| 2000/2000 [05:22<00:00,  6.20it/s]\n"
     ]
    },
    {
     "name": "stdout",
     "output_type": "stream",
     "text": [
      "Test Accuracy : 89.12 %\n",
      "Test Accuracy : 95.60 %\n"
     ]
    }
   ],
   "source": [
    "ml=MLP(layers=[50], batch_size=100, activation_fn='sigmoid', max_epoch=2000,\\\n",
    "       lr=0.1, tol=1e-3, n_iter_no_change=3, n_iter_avg=1000)\n",
    "ml.fit(X_train, Y_train)\n",
    "print('Test Accuracy : %.2f %c'%(ml.score(X_test, Y_test),'%'))\n",
    "print('Test Accuracy : %.2f %c'%(ml.score(X_train, Y_train),'%'))"
   ]
  },
  {
   "cell_type": "code",
   "execution_count": 46,
   "metadata": {},
   "outputs": [
    {
     "name": "stderr",
     "output_type": "stream",
     "text": [
      "100%|██████████| 2000/2000 [04:03<00:00,  8.20it/s]"
     ]
    },
    {
     "name": "stdout",
     "output_type": "stream",
     "text": [
      "Test Accuracy : 69.40 %\n",
      "Test Accuracy : 74.74 %\n"
     ]
    },
    {
     "name": "stderr",
     "output_type": "stream",
     "text": [
      "\n"
     ]
    }
   ],
   "source": [
    "ml=MLP(layers=[10], batch_size=100, activation_fn='sigmoid', max_epoch=2000,\\\n",
    "       lr=0.1, tol=1e-7, n_iter_no_change=2, n_iter_avg=100)\n",
    "ml.fit(X_train, Y_train)\n",
    "print('Test Accuracy : %.2f %c'%(ml.score(X_test, Y_test),'%'))\n",
    "print('Test Accuracy : %.2f %c'%(ml.score(X_train, Y_train),'%'))"
   ]
  },
  {
   "cell_type": "code",
   "execution_count": 15,
   "metadata": {},
   "outputs": [
    {
     "name": "stderr",
     "output_type": "stream",
     "text": [
      "  4%|▍         | 80/2000 [00:08<03:12, 10.00it/s]"
     ]
    },
    {
     "name": "stdout",
     "output_type": "stream",
     "text": [
      "Converged in 80 epochs\n",
      "Test Accuracy : 3.85 %\n",
      "Test Accuracy : 3.85 %\n"
     ]
    },
    {
     "name": "stderr",
     "output_type": "stream",
     "text": [
      "\n"
     ]
    }
   ],
   "source": [
    "ml=MLP(layers=[10], batch_size=100, activation_fn='sigmoid', max_epoch=2000,\\\n",
    "       lr=0.1, tol=1e-3, n_iter_no_change=3, n_iter_avg=100)\n",
    "ml.fit(X_train, Y_train)\n",
    "print('Test Accuracy : %.2f %c'%(ml.score(X_test, Y_test),'%'))\n",
    "print('Test Accuracy : %.2f %c'%(ml.score(X_train, Y_train),'%'))"
   ]
  },
  {
   "cell_type": "code",
   "execution_count": 56,
   "metadata": {},
   "outputs": [
    {
     "name": "stderr",
     "output_type": "stream",
     "text": [
      "100%|██████████| 2000/2000 [03:59<00:00,  8.35it/s]"
     ]
    },
    {
     "name": "stdout",
     "output_type": "stream",
     "text": [
      "Test Accuracy : 71.72 %\n",
      "Test Accuracy : 77.61 %\n"
     ]
    },
    {
     "name": "stderr",
     "output_type": "stream",
     "text": [
      "\n"
     ]
    }
   ],
   "source": [
    "\n",
    "ml=MLP(layers=[10], batch_size=100, activation_fn='sigmoid', max_epoch=2000,\\\n",
    "       lr=0.1, tol=1e-6, n_iter_no_change=5, n_iter_avg=100)\n",
    "ml.fit(X_train, Y_train)\n",
    "print('Test Accuracy : %.2f %c'%(ml.score(X_test, Y_test),'%'))\n",
    "print('Test Accuracy : %.2f %c'%(ml.score(X_train, Y_train),'%'))"
   ]
  },
  {
   "cell_type": "code",
   "execution_count": 57,
   "metadata": {},
   "outputs": [
    {
     "data": {
      "text/plain": [
       "0.17900800009948717"
      ]
     },
     "execution_count": 57,
     "metadata": {},
     "output_type": "execute_result"
    }
   ],
   "source": [
    "ml.loss_lst[-1]"
   ]
  },
  {
   "cell_type": "code",
   "execution_count": 58,
   "metadata": {},
   "outputs": [
    {
     "data": {
      "image/png": "[encoded data removed]",
      "text/plain": [
       "<Figure size 1152x648 with 1 Axes>"
      ]
     },
     "metadata": {
      "needs_background": "light"
     },
     "output_type": "display_data"
    }
   ],
   "source": [
    "plt.figure(figsize=(16,9))\n",
    "plt.plot(range(len(ml.loss_lst)), ml.loss_lst)\n",
    "plt.show()"
   ]
  },
  {
   "cell_type": "code",
   "execution_count": 17,
   "metadata": {},
   "outputs": [
    {
     "name": "stderr",
     "output_type": "stream",
     "text": [
      " 31%|███       | 620/2000 [01:02<02:18,  9.97it/s]"
     ]
    },
    {
     "name": "stdout",
     "output_type": "stream",
     "text": [
      "Converged in 620 epochs\n",
      "Test Accuracy : 6.03 %\n",
      "Test Accuracy : 6.38 %\n"
     ]
    },
    {
     "name": "stderr",
     "output_type": "stream",
     "text": [
      "\n"
     ]
    }
   ],
   "source": [
    "ml=MLP(layers=[5], batch_size=100, activation_fn='sigmoid', max_epoch=2000,\\\n",
    "       lr=0.1, tol=1e-3, n_iter_no_change=30, n_iter_avg=1000)\n",
    "ml.fit(X_train, Y_train)\n",
    "print('Test Accuracy : %.2f %c'%(ml.score(X_test, Y_test),'%'))\n",
    "print('Test Accuracy : %.2f %c'%(ml.score(X_train, Y_train),'%'))"
   ]
  },
  {
   "cell_type": "code",
   "execution_count": 12,
   "metadata": {},
   "outputs": [
    {
     "name": "stderr",
     "output_type": "stream",
     "text": [
      "100%|██████████| 2000/2000 [03:17<00:00, 10.15it/s]\n"
     ]
    },
    {
     "name": "stdout",
     "output_type": "stream",
     "text": [
      "Test Accuracy : 3.85 %\n",
      "Test Accuracy : 3.85 %\n"
     ]
    }
   ],
   "source": [
    "ml=MLP(layers=[1], batch_size=100, activation_fn='sigmoid', max_epoch=2000,\\\n",
    "       lr=0.1, tol=1e-40, n_iter_no_change=2, n_iter_avg=1000)\n",
    "ml.fit(X_train, Y_train)\n",
    "print('Test Accuracy : %.2f %c'%(ml.score(X_test, Y_test),'%'))\n",
    "print('Test Accuracy : %.2f %c'%(ml.score(X_train, Y_train),'%'))"
   ]
  },
  {
   "cell_type": "code",
   "execution_count": 24,
   "metadata": {},
   "outputs": [
    {
     "name": "stderr",
     "output_type": "stream",
     "text": [
      "100%|██████████| 2000/2000 [04:24<00:00,  7.55it/s]"
     ]
    },
    {
     "name": "stdout",
     "output_type": "stream",
     "text": [
      "88.64615384615385\n"
     ]
    },
    {
     "name": "stderr",
     "output_type": "stream",
     "text": [
      "\n"
     ]
    }
   ],
   "source": [
    "ml=MLP(layers=[50], batch_size=100, activation_fn='sigmoid', max_epoch=2000,\\\n",
    "       lr=0.1, tol=1e-6, n_iter_no_change=1)\n",
    "ml.fit(X_train, Y_train)\n",
    "ml.score(X_test, Y_test)"
   ]
  },
  {
   "cell_type": "code",
   "execution_count": 28,
   "metadata": {},
   "outputs": [
    {
     "name": "stderr",
     "output_type": "stream",
     "text": [
      " 55%|█████▍    | 1092/2000 [02:58<02:28,  6.11it/s]"
     ]
    },
    {
     "name": "stdout",
     "output_type": "stream",
     "text": [
      "Converged in 1092 epoches\n",
      "89.92307692307692\n"
     ]
    },
    {
     "name": "stderr",
     "output_type": "stream",
     "text": [
      "\n"
     ]
    }
   ],
   "source": []
  },
  {
   "cell_type": "code",
   "execution_count": 22,
   "metadata": {},
   "outputs": [
    {
     "name": "stdout",
     "output_type": "stream",
     "text": [
      "96.3\n"
     ]
    }
   ],
   "source": [
    "ml.score(X_train, Y_train)"
   ]
  },
  {
   "cell_type": "code",
   "execution_count": 7,
   "metadata": {},
   "outputs": [
    {
     "data": {
      "text/plain": [
       "MLP(input_size=784, layers=[50], output_size=26,\n",
       "    batch_size=100, lr=0.1, adaptive_lr=False, activation_fn=sigmoid,\n",
       "    tol=0.0001, n_iter_no_change=10, max_epoch=2000)"
      ]
     },
     "execution_count": 7,
     "metadata": {},
     "output_type": "execute_result"
    }
   ],
   "source": [
    "ml"
   ]
  },
  {
   "cell_type": "code",
   "execution_count": 49,
   "metadata": {},
   "outputs": [],
   "source": [
    "lst=[]\n",
    "check_after_iter = 100\n",
    "for i in range(0,len(ml.loss_lst),check_after_iter):\n",
    "    lst.append(np.sum(ml.loss_lst[i:i+check_after_iter])/check_after_iter)"
   ]
  },
  {
   "cell_type": "code",
   "execution_count": 50,
   "metadata": {},
   "outputs": [
    {
     "data": {
      "text/plain": [
       "[<matplotlib.lines.Line2D at 0x7fec2ffffad0>]"
      ]
     },
     "execution_count": 50,
     "metadata": {},
     "output_type": "execute_result"
    },
    {
     "data": {
      "image/png": "[encoded data removed]",
      "text/plain": [
       "<Figure size 1152x648 with 1 Axes>"
      ]
     },
     "metadata": {
      "needs_background": "light"
     },
     "output_type": "display_data"
    }
   ],
   "source": [
    "plt.figure(figsize=(16,9))\n",
    "plt.plot(range(len(lst)), lst)"
   ]
  },
  {
   "cell_type": "code",
   "execution_count": 53,
   "metadata": {},
   "outputs": [
    {
     "name": "stderr",
     "output_type": "stream",
     "text": [
      " 73%|███████▎  | 1465/2000 [03:51<01:24,  6.34it/s]"
     ]
    },
    {
     "name": "stdout",
     "output_type": "stream",
     "text": [
      "converged\n",
      "91.43076923076923\n"
     ]
    },
    {
     "name": "stderr",
     "output_type": "stream",
     "text": [
      "\n"
     ]
    }
   ],
   "source": [
    "ml=MLP(layers=[100], batch_size=100, activation_fn='relu', max_epoch=2000, lr=0.1)\n",
    "ml.fit(X_train, Y_train)\n",
    "ml.score(X_test, Y_test)"
   ]
  },
  {
   "cell_type": "code",
   "execution_count": 54,
   "metadata": {},
   "outputs": [
    {
     "name": "stdout",
     "output_type": "stream",
     "text": [
      "97.62307692307692\n"
     ]
    }
   ],
   "source": [
    "ml.score(X_train, Y_train)"
   ]
  },
  {
   "cell_type": "code",
   "execution_count": 23,
   "metadata": {},
   "outputs": [
    {
     "data": {
      "text/plain": [
       "MLP(input_size=784, layers=[100], output_size=26,\n",
       "    batch_size=100, lr=0.1, adaptive_lr=False, activation_fn=relu,\n",
       "    tol=0.0001, n_iter_no_change=10, max_epoch=2000)"
      ]
     },
     "execution_count": 23,
     "metadata": {},
     "output_type": "execute_result"
    }
   ],
   "source": [
    "ml"
   ]
  },
  {
   "cell_type": "code",
   "execution_count": 55,
   "metadata": {},
   "outputs": [
    {
     "name": "stderr",
     "output_type": "stream",
     "text": [
      "  4%|▎         | 73/2000 [00:07<03:05, 10.39it/s]"
     ]
    },
    {
     "name": "stdout",
     "output_type": "stream",
     "text": [
      "converged\n",
      "3.830769230769231\n"
     ]
    },
    {
     "name": "stderr",
     "output_type": "stream",
     "text": [
      "\n"
     ]
    }
   ],
   "source": [
    "ml=MLP(layers=[1], batch_size=100, activation_fn='sigmoid', max_epoch=2000, lr=0.1, n_iter_no_change=10000)\n",
    "ml.fit(X_train, Y_train)\n",
    "ml.score(X_test, Y_test)"
   ]
  },
  {
   "cell_type": "code",
   "execution_count": null,
   "metadata": {},
   "outputs": [],
   "source": [
    "class sigmoid:\n",
    "    def f(x):\n",
    "        return 1/(1+np.exp(-1*x))\n",
    "    def df(x):\n",
    "        return x*(1-x)\n",
    "#         return sigmoid.f(x)*(1-sigmoid.f(x))\n",
    "    \n",
    "class ReLU:\n",
    "    def f(x):\n",
    "        x_=x.copy()\n",
    "        x_[x_<0]=0\n",
    "        return x_\n",
    "    \n",
    "    def df(x):\n",
    "        x_=x.copy()\n",
    "        x_[x_>0]=1\n",
    "        return x_\n",
    "\n",
    "class MLP:\n",
    "    \n",
    "    def __init__(self, input_size=784, layers=[100,], output_size=26,\\\n",
    "                 batch_size=100, lr=0.1, adaptive_lr=False, activation_fn='sigmoid',\\\n",
    "                 tol=1e-4, n_iter_no_change=10, max_epoch=100, n_iter_avg=1000):\n",
    "        self.input_size=input_size;\n",
    "        self.layers=layers;\n",
    "        self.output_size=output_size;\n",
    "        self.batch_size=batch_size;\n",
    "        self.lr=lr\n",
    "        self.adaptive_lr=adaptive_lr\n",
    "        \n",
    "        self.activation_fn=activation_fn\n",
    "        if activation_fn=='sigmoid':\n",
    "            self.activation_class = sigmoid\n",
    "        elif activation_fn=='relu':\n",
    "            self.activation_class = ReLU\n",
    "        else:\n",
    "            raise Exception(\"Enter valid activation_fn\")\n",
    "        \n",
    "        self.tol=tol\n",
    "        self.n_iter_no_change=n_iter_no_change \n",
    "        self.max_epoch=max_epoch\n",
    "        \n",
    "        self.layers.insert(0, self.input_size); self.layers.append(self.output_size)\n",
    "        self.n_layers = len(self.layers)\n",
    "        self.n_iter_avg = n_iter_avg\n",
    "        \n",
    "    \n",
    "    def __str__(self):\n",
    "        return \"\"\"MLP(input_size=%s, layers=%s, output_size=%s,\n",
    "    batch_size=%s, lr=%s, adaptive_lr=%s, activation_fn=%s,\n",
    "    tol=%s, n_iter_no_change=%s, max_epoch=%s)\"\"\"%\\\n",
    "                (self.input_size, self.layers[1:-1], self.output_size,\\\n",
    "                self.batch_size, self.lr, self.adaptive_lr, self.activation_fn,\\\n",
    "                self.tol, self.n_iter_no_change, self.max_epoch)\n",
    "    \n",
    "    def __repr__(self):\n",
    "        return self.__str__()\n",
    "    \n",
    "    def fit(self, X_train, Y_train):\n",
    "        np.random.seed(0)\n",
    "        f = self.activation_class.f\n",
    "        df = self.activation_class.df\n",
    "        self.loss_lst = []\n",
    "        iter_no_change=0\n",
    "        itr=0\n",
    "        cnt=0\n",
    "        if self.activation_fn=='sigmoid':\n",
    "            self._intialize_weights(type='glorot-normal')\n",
    "        else:\n",
    "            self._intialize_weights(type='he-normal')\n",
    "        for epoch in tqdm(range(self.max_epoch)):\n",
    "#             itrs_in_one_epoch=math.ceil(X_train.shape[0]/self.batch_size)\n",
    "#             if(epoch%20==0):\n",
    "#                 output = self._forward_prop(X_train)\n",
    "#                 epoch_loss = (0.5/X_train.shape[0])*np.sum((output[-1]-Y_train)**2)\n",
    "#                 self.loss_lst.append(epoch_loss)\n",
    "#                 if(len(self.loss_lst)>=2 and abs(self.loss_lst[-1]-self.loss_lst[-2])<self.tol):\n",
    "#                     iter_no_change+=1\n",
    "#                     if(iter_no_change>=self.n_iter_no_change):\n",
    "#                         cnt+=1\n",
    "#                         if cnt==1:\n",
    "#                             print('Converged in %d epochs'%(epoch))\n",
    "#                             return\n",
    "#                         else:\n",
    "#                             iter_no_change=0\n",
    "#                 else:\n",
    "#                     iter_no_change=0\n",
    "            \n",
    "#             if epoch>=2:\n",
    "#                 loss_diff = abs(np.sum(self.loss_lst[-2*itrs_in_one_epoch:-itrs_in_one_epoch])\\\n",
    "#                                 -np.sum(self.loss_lst[-itrs_in_one_epoch:]))/itrs_in_one_epoch\n",
    "#                 if(loss_diff<self.tol):\n",
    "#                     iter_no_change+=1\n",
    "#                     if(iter_no_change>self.n_iter_no_change):\n",
    "#                         print('Converged in %d epochs'%(epoch))\n",
    "#                         return\n",
    "#                 else:\n",
    "#                     iter_no_change=0\n",
    "            indices = np.random.choice(X_train.shape[0], size=X_train.shape[0])\n",
    "            X_train_ = X_train[indices]\n",
    "            Y_train_ = Y_train[indices]\n",
    "            for i in range(0, X_train.shape[0], self.batch_size):\n",
    "                \n",
    "                X=X_train_[i:i+self.batch_size,:]\n",
    "                Y=Y_train_[i:i+self.batch_size,:]  \n",
    "\n",
    "                # Forward-prop\n",
    "                output = self._forward_prop(X)\n",
    "                \n",
    "#                 loss = (0.5/self.batch_size)*np.sum((output[-1]-Y)**2)\n",
    "                #print(loss)\n",
    "#                 self.loss_lst.append(loss)\n",
    "#                 if abs(self.loss_lst[-1]-self.loss_lst[-2])<=self.tol:\n",
    "#                     iter_no_change+=1\n",
    "#                     if(iter_no_change >=self.n_iter_no_change):\n",
    "#                         return\n",
    "#                 else:\n",
    "#                     iter_no_change=0\n",
    "                    \n",
    "\n",
    "                # Back-Prop\n",
    "                memo, updates = self._back_prop(output, Y)\n",
    "                \n",
    "                # Update\n",
    "                for i in range(self.n_layers-1):\n",
    "                    self.intercepts[i]=self.intercepts[i] - self.lr*np.sum(memo[i],axis=0)\n",
    "                    self.weights[i]=self.weights[i] - self.lr * updates[i]\n",
    "                \n",
    "                itr+=1\n",
    "                \n",
    "#                 check_after_iter=self.n_iter_avg\n",
    "#                 if itr>2*check_after_iter and itr%check_after_iter==0:\n",
    "#                     avg_diff = abs(np.sum(self.loss_lst[-check_after_iter:])-np.sum(self.loss_lst[-2*check_after_iter:-check_after_iter]))/check_after_iter\n",
    "# #                     print(avg_diff)\n",
    "#                     if(avg_diff<self.tol):\n",
    "#                         iter_no_change+=1\n",
    "#                         if(iter_no_change>=self.n_iter_no_change):\n",
    "#                             print('Converged in %d epoches'%(epoch))\n",
    "# #                             return\n",
    "#                     else:\n",
    "#                         iter_no_change=0\n",
    "    \n",
    "    def _forward_prop(self,X):\n",
    "        f = self.activation_class.f\n",
    "        output=[X]\n",
    "        for i in range(self.n_layers-2):\n",
    "            output.append(f(np.dot(output[-1],self.weights[i])+self.intercepts[i]))\n",
    "        output.append(sigmoid.f(np.dot(output[-1],self.weights[-1])+self.intercepts[-1]))\n",
    "        return output\n",
    "    \n",
    "    def _back_prop(self, output, Y):\n",
    "        df=self.activation_class.df\n",
    "        \n",
    "        memo = []\n",
    "        updates = []\n",
    "        curr_memo = (-1/self.batch_size)*(np.multiply(Y-output[-1],sigmoid.df(output[-1])))\n",
    "        memo.insert(0,curr_memo)\n",
    "        curr_update = np.dot(output[-2].T, curr_memo)\n",
    "        updates.insert(0,curr_update)\n",
    "        for i in range(self.n_layers-2, 0, -1):\n",
    "            curr_memo = np.multiply(memo[0].dot(self.weights[i].T),df(output[i]))\n",
    "            memo.insert(0,curr_memo)\n",
    "            curr_update = (output[i-1].T).dot(curr_memo)\n",
    "            updates.insert(0,curr_update)\n",
    "        \n",
    "        return memo, updates\n",
    "    def _intialize_weights(self, type='glorot-normal'):\n",
    "        self.weights=[]\n",
    "        self.intercepts=[]\n",
    "        for i in range(self.n_layers-1):\n",
    "            fan_in = self.layers[i]\n",
    "            fan_out = self.layers[i+1]\n",
    "            #Glorot/Xevier Normal initialization\n",
    "            if type=='glorot-normal':\n",
    "                self.weights.append(np.random.randn(fan_in, fan_out)*(2/(fan_in+fan_out)))\n",
    "                self.intercepts.append(np.random.randn(fan_out)*(2/(fan_in+fan_out)))\n",
    "            elif type=='he-normal':\n",
    "                self.weights.append(np.random.randn(fan_in, fan_out)*np.sqrt(2/fan_in))\n",
    "                self.intercepts.append(np.random.randn(fan_out)*np.sqrt(2/fan_in))\n",
    "            \n",
    "    def predict(self, X):\n",
    "        pred_proba=self.predict_proba(X)\n",
    "        pred=np.zeros(pred_proba.shape, dtype=np.int8)\n",
    "        pred[np.arange(pred.shape[0]), np.argmax(pred_proba, axis=1)] = 1\n",
    "        return pred\n",
    "    \n",
    "    def predict_proba(self, X):\n",
    "        f = self.activation_class.f\n",
    "        \n",
    "        pred_proba=X\n",
    "        for i in range(self.n_layers-2):\n",
    "            pred_proba=f(pred_proba@self.weights[i]+self.intercepts[i])\n",
    "        pred_proba=sigmoid.f(pred_proba@self.weights[-1]+self.intercepts[-1])\n",
    "        \n",
    "        return pred_proba\n",
    "    \n",
    "    def predict_log_proba(self, X):\n",
    "        return np.log(self.predict_proba(X))\n",
    "    \n",
    "    def score(self,X,Y):\n",
    "        pred = self.predict(X)\n",
    "        y_true = np.argmax(Y, axis=1)\n",
    "        y_pred = np.argmax(pred, axis=1)\n",
    "        return (np.sum(y_true==y_pred)*100/y_true.shape[0])"
   ]
  }
 ],
 "metadata": {
  "kernelspec": {
   "display_name": "Python 3",
   "language": "python",
   "name": "python3"
  },
  "language_info": {
   "codemirror_mode": {
    "name": "ipython",
    "version": 3
   },
   "file_extension": ".py",
   "mimetype": "text/x-python",
   "name": "python",
   "nbconvert_exporter": "python",
   "pygments_lexer": "ipython3",
   "version": "3.7.7"
  }
 },
 "nbformat": 4,
 "nbformat_minor": 4
}
