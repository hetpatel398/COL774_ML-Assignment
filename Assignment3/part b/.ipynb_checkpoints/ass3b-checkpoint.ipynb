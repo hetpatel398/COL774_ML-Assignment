{
 "cells": [
  {
   "cell_type": "code",
   "execution_count": 1,
   "metadata": {},
   "outputs": [],
   "source": [
    "import numpy as np\n",
    "import pandas as pd\n",
    "import matplotlib.pyplot as plt\n",
    "from tqdm import tqdm\n",
    "\n",
    "from sklearn.neural_network import MLPClassifier\n",
    "np.random.seed(0)"
   ]
  },
  {
   "cell_type": "code",
   "execution_count": 2,
   "metadata": {},
   "outputs": [],
   "source": [
    "train_data = pd.read_csv('data/train.csv', header=None).to_numpy()\n",
    "test_data = pd.read_csv('data/test.csv', header=None).to_numpy()"
   ]
  },
  {
   "cell_type": "code",
   "execution_count": 3,
   "metadata": {},
   "outputs": [
    {
     "name": "stdout",
     "output_type": "stream",
     "text": [
      "(13000, 785)\n",
      "(6500, 785)\n"
     ]
    }
   ],
   "source": [
    "print(train_data.shape)\n",
    "print(test_data.shape)"
   ]
  },
  {
   "cell_type": "code",
   "execution_count": 4,
   "metadata": {},
   "outputs": [],
   "source": [
    "X_train = train_data[:,:-1]\n",
    "Y_train_orig = train_data[:,-1]\n",
    "X_test = test_data[:,:-1]\n",
    "Y_test_orig = test_data[:,-1]"
   ]
  },
  {
   "cell_type": "code",
   "execution_count": 5,
   "metadata": {},
   "outputs": [],
   "source": [
    "from sklearn.preprocessing import StandardScaler\n",
    "std=StandardScaler()\n",
    "X_train_std = std.fit_transform(X_train)\n",
    "X_test_std = std.transform(X_test)"
   ]
  },
  {
   "cell_type": "code",
   "execution_count": 6,
   "metadata": {},
   "outputs": [],
   "source": [
    "def one_hot_encode(Y):\n",
    "    classes_ = np.unique(Y)\n",
    "    n_classes = classes_.shape[0]\n",
    "    Y_oh = np.zeros((Y.shape[0], n_classes), dtype=np.bool)\n",
    "    i=0\n",
    "    for y in Y:\n",
    "        Y_oh[i][y]=1\n",
    "        i+=1\n",
    "    return Y_oh\n",
    "\n",
    "Y_train = one_hot_encode(Y_train_orig)\n",
    "Y_test = one_hot_encode(Y_test_orig)"
   ]
  },
  {
   "cell_type": "code",
   "execution_count": 7,
   "metadata": {},
   "outputs": [
    {
     "data": {
      "image/png": "[encoded data removed]",
      "text/plain": [
       "<Figure size 432x288 with 1 Axes>"
      ]
     },
     "metadata": {
      "needs_background": "light"
     },
     "output_type": "display_data"
    }
   ],
   "source": [
    "plt.imshow(X_train[1].reshape((28,28)), cmap = 'gray')\n",
    "plt.axis('off')\n",
    "plt.title('Example of train Dataset')\n",
    "plt.show()"
   ]
  },
  {
   "cell_type": "code",
   "execution_count": 8,
   "metadata": {},
   "outputs": [
    {
     "name": "stdout",
     "output_type": "stream",
     "text": [
      "Test score : 0.9083076923076923\n",
      "Train score : 0.9999230769230769\n"
     ]
    },
    {
     "name": "stderr",
     "output_type": "stream",
     "text": [
      "/home/het/anaconda3/lib/python3.7/site-packages/sklearn/neural_network/_multilayer_perceptron.py:573: UserWarning: Training interrupted by user.\n",
      "  warnings.warn(\"Training interrupted by user.\")\n"
     ]
    }
   ],
   "source": [
    "clf_relu = MLPClassifier(hidden_layer_sizes=(100,), activation='relu')#, solver='sgd')\n",
    "\n",
    "clf_relu.fit(X_train_std, Y_train_orig)\n",
    "print('Test score :',clf_relu.score(X_test_std, Y_test_orig))\n",
    "print('Train score :',clf_relu.score(X_train_std, Y_train_orig))"
   ]
  },
  {
   "cell_type": "code",
   "execution_count": 10,
   "metadata": {},
   "outputs": [],
   "source": [
    "def score(X,Y,pred):\n",
    "#     pred = self.predict(X)\n",
    "    y_true = np.argmax(Y, axis=1)\n",
    "    y_pred = np.argmax(pred, axis=1)\n",
    "    print(np.sum(y_true==y_pred)*100/y_true.size)"
   ]
  },
  {
   "cell_type": "code",
   "execution_count": 16,
   "metadata": {},
   "outputs": [
    {
     "name": "stdout",
     "output_type": "stream",
     "text": [
      "Test score : 0.8275384615384616\n",
      "Train score : 1.0\n",
      "85.64615384615385\n"
     ]
    }
   ],
   "source": [
    "clf_relu = MLPClassifier(hidden_layer_sizes=(100,), activation='relu')#, solver='sgd')\n",
    "\n",
    "clf_relu.fit(X_train_std, Y_train)\n",
    "print('Test score :',clf_relu.score(X_test_std, Y_test))\n",
    "print('Train score :',clf_relu.score(X_train_std, Y_train))\n",
    "pred_ = clf_relu.predict(X_test_std)\n",
    "score(X_test_std, Y_test, pred_)"
   ]
  },
  {
   "cell_type": "code",
   "execution_count": 20,
   "metadata": {},
   "outputs": [
    {
     "data": {
      "text/plain": [
       "6500"
      ]
     },
     "execution_count": 20,
     "metadata": {},
     "output_type": "execute_result"
    }
   ],
   "source": [
    "len(X_test_std)"
   ]
  },
  {
   "cell_type": "code",
   "execution_count": 31,
   "metadata": {},
   "outputs": [
    {
     "name": "stdout",
     "output_type": "stream",
     "text": [
      "85.64615384615385\n"
     ]
    }
   ],
   "source": [
    "pred = np.argmax(clf_relu.predict_proba(X_test_std), axis=1)\n",
    "score(X_test_std, Y_test, pred_)"
   ]
  },
  {
   "cell_type": "code",
   "execution_count": 15,
   "metadata": {},
   "outputs": [
    {
     "data": {
      "text/plain": [
       "0.8283076923076923"
      ]
     },
     "execution_count": 15,
     "metadata": {},
     "output_type": "execute_result"
    }
   ],
   "source": [
    "clf_relu.score(X_test_std, Y_test)"
   ]
  },
  {
   "cell_type": "markdown",
   "metadata": {},
   "source": [
    "# Implementing MLP"
   ]
  },
  {
   "cell_type": "code",
   "execution_count": 47,
   "metadata": {},
   "outputs": [],
   "source": [
    "class sigmoid:\n",
    "    def f(x):\n",
    "        return 1/(1+np.exp(-1*x))\n",
    "    def df(x):\n",
    "        return x*(1-x)\n",
    "#         return sigmoid.f(x)*(1-sigmoid.f(x))\n",
    "    \n",
    "class ReLU:\n",
    "    def f(x):\n",
    "        x_=x.copy()\n",
    "        x_[x_<0]=0\n",
    "        return x_\n",
    "    def df(x):\n",
    "        x_=x.copy()\n",
    "        x_[x_<0]=0\n",
    "        x_[x_>0]=1\n",
    "        return x_\n",
    "\n",
    "class MLP:\n",
    "    \n",
    "    def __init__(self, input_size=784, layers=[100,], output_size=26,\\\n",
    "                 batch_size=100, lr=0.1, adaptive_lr=False, activation_fn='sigmoid',\\\n",
    "                 tol=1e-4, n_iter_no_change=10, max_epoch=100):\n",
    "        self.input_size=input_size;\n",
    "        self.layers=layers;\n",
    "        self.output_size=output_size;\n",
    "        self.batch_size=batch_size;\n",
    "        self.lr=lr\n",
    "        self.adaptive_lr=adaptive_lr\n",
    "        \n",
    "        self.activation_fn=activation_fn\n",
    "        if activation_fn=='sigmoid':\n",
    "            self.activation_class = sigmoid\n",
    "        elif activation_fn=='relu':\n",
    "            self.activation_class = ReLU\n",
    "        else:\n",
    "            raise Exception(\"Enter valid activation_fn\")\n",
    "        \n",
    "        self.tol=tol\n",
    "        self.n_iter_no_change=n_iter_no_change \n",
    "        self.max_epoch=max_epoch\n",
    "        \n",
    "        self.layers.insert(0, self.input_size); self.layers.append(self.output_size)\n",
    "        self.n_layers = len(self.layers)\n",
    "        \n",
    "    \n",
    "    def __str__(self):\n",
    "        return \"\"\"MLP(input_size=%s, layers=%s, output_size=%s,\n",
    "    batch_size=%s, lr=%s, adaptive_lr=%s, activation_fn=%s,\n",
    "    tol=%s, n_iter_no_change=%s, max_epoch=%s)\"\"\"%\\\n",
    "                (self.input_size, self.layers[1:-1], self.output_size,\\\n",
    "                self.batch_size, self.lr, self.adaptive_lr, self.activation_fn,\\\n",
    "                self.tol, self.n_iter_no_change, self.max_epoch)\n",
    "    \n",
    "    def __repr__(self):\n",
    "        return self.__str__()\n",
    "    \n",
    "    def fit(self, X_train, Y_train):\n",
    "        #Weights initialization\n",
    "        self._intialize_weights()\n",
    "        \n",
    "        f = self.activation_class.f\n",
    "        df = self.activation_class.df\n",
    "        loss_lst = np.array([])\n",
    "        for i in tqdm(range(self.max_epoch)):\n",
    "            indices = np.random.choice(X_train.shape[0], size=X_train.shape[0])\n",
    "            X_train_ = X_train[indices]\n",
    "            Y_train_ = Y_train[indices]\n",
    "            for i in range(0, X_train.shape[0], self.batch_size):\n",
    "                X=X_train_[i:i+self.batch_size,:]\n",
    "                Y=Y_train_[i:i+self.batch_size,:]  \n",
    "\n",
    "                # Forward-prop\n",
    "                output=[]\n",
    "                output.append(f(X@self.weights[0]+self.intercepts[0]))\n",
    "                for i in range(1,self.n_layers-2):\n",
    "                    output.append(f(output[i-1]@self.weights[i]+self.intercepts[i]))\n",
    "                output.append(sigmoid.f(output[-1]@self.weights[-1]+self.intercepts[-1]))\n",
    "\n",
    "                # Finding loss\n",
    "#                 out_=np.zeros(out[-1].shape, dtype=np.int8)\n",
    "#                 out_[np.arange(out_.shape[0]), np.argmax(out[-1], axis=1)] = 1\n",
    "\n",
    "#                 loss = (0.5/self.batch_size)*np.sum((out_-Y)**2)\n",
    "#                 loss = (0.5/self.batch_size)*np.sum((output[-1]-Y)**2)\n",
    "#                 loss_lst=np.append(loss_lst, loss)\n",
    "\n",
    "                # Back-Prop\n",
    "                memo = []\n",
    "                updates = []\n",
    "                curr_memo = (1/self.batch_size)*(np.multiply(Y-output[-1],sigmoid.df(output[-1])))\n",
    "                memo.insert(0,curr_memo)\n",
    "                curr_update = np.dot(output[-2].T, curr_memo)\n",
    "                updates.insert(0,curr_update)\n",
    "                for i in range(self.n_layers-2, 1, -1):\n",
    "                    curr_memo = (memo[0].dot(self.weights[i].T))*df(output[i-1])\n",
    "                    memo.insert(0,curr_memo)\n",
    "                    curr_update = output[i-2].T.dot(curr_memo)\n",
    "                    updates.insert(0,curr_update)\n",
    "                curr_memo = (memo[-1].dot(self.weights[1].T))*df(output[0])\n",
    "                memo.insert(0,curr_memo)\n",
    "                curr_update = X.T.dot(curr_memo)\n",
    "                updates.insert(0,curr_update)\n",
    "\n",
    "                self.intercepts[0]=self.intercepts[0] + self.lr*(memo[0].sum(axis=0))\n",
    "                self.intercepts[1]=self.intercepts[1] + self.lr*(memo[1].sum(axis=0))\n",
    "                self.weights[0] = self.weights[0] + self.lr*updates[0]\n",
    "                self.weights[1] = self.weights[1] + self.lr*updates[1]\n",
    "\n",
    "    \n",
    "    def _intialize_weights(self):\n",
    "        self.weights=[]\n",
    "        self.intercepts=[]\n",
    "        for i in range(self.n_layers-1):\n",
    "            fan_in = self.layers[i]\n",
    "            fan_out = self.layers[i+1]\n",
    "            self.weights.append(np.random.randn(fan_in, fan_out))\n",
    "            self.intercepts.append(np.random.randn(fan_out))\n",
    "            \n",
    "    def predict(self, X):\n",
    "        pred_proba=self.predict_proba(X)\n",
    "        pred=np.zeros(pred_proba.shape, dtype=np.int8)\n",
    "        pred[np.arange(pred.shape[0]), np.argmax(pred_proba, axis=1)] = 1\n",
    "        return pred\n",
    "    \n",
    "    def predict_proba(self, X):\n",
    "        f = self.activation_class.f\n",
    "        df = self.activation_class.df\n",
    "        \n",
    "        pred_proba=f(X@self.weights[0]+self.intercepts[0])\n",
    "        for i in range(1,self.n_layers-2):\n",
    "            pred_proba=f(pred_proba@self.weights[i]+self.intercepts[i])\n",
    "        pred_proba=sigmoid.f(pred_proba@self.weights[-1]+self.intercepts[-1])\n",
    "        \n",
    "        return pred_proba\n",
    "    \n",
    "    def predict_log_proba(self, X):\n",
    "        return np.log(self.predict_proba(X))\n",
    "    \n",
    "    def score(self,X,Y):\n",
    "        pred = self.predict(X)\n",
    "        y_true = np.argmax(Y, axis=1)\n",
    "        y_pred = np.argmax(pred, axis=1)\n",
    "        print(np.sum(y_true==y_pred)*100/y_true.size)"
   ]
  },
  {
   "cell_type": "code",
   "execution_count": null,
   "metadata": {},
   "outputs": [
    {
     "name": "stderr",
     "output_type": "stream",
     "text": [
      " 73%|███████▎  | 734/1000 [02:00<00:44,  5.98it/s]"
     ]
    }
   ],
   "source": [
    "ml=MLP(layers=[100], batch_size=100, activation_fn='sigmoid', max_epoch=1000, )\n",
    "ml.fit(X_train/255, Y_train)\n",
    "ml.score(X_test/255, Y_test)"
   ]
  },
  {
   "cell_type": "code",
   "execution_count": 49,
   "metadata": {},
   "outputs": [
    {
     "name": "stdout",
     "output_type": "stream",
     "text": [
      "31.407692307692308\n"
     ]
    }
   ],
   "source": [
    "ml.score(X_train/255, Y_train)"
   ]
  },
  {
   "cell_type": "code",
   "execution_count": 18,
   "metadata": {},
   "outputs": [],
   "source": [
    "def predict_proba(self, X):\n",
    "    f = self.activation_class.f\n",
    "    df = self.activation_class.df\n",
    "\n",
    "    pred_proba=f(X@self.weights[0]+self.intercepts[0])\n",
    "    for i in range(1,self.n_layers-2):\n",
    "        pred_proba=f(pred_proba@self.weights[i]+self.intercepts[i])\n",
    "\n",
    "    pred_proba=sigmoid.f(pred_proba@self.weights[-1]+self.intercepts[-1])\n",
    "\n",
    "    return pred_proba\n",
    "def predict(self, X):\n",
    "    pred_proba=self.predict_proba(X)\n",
    "    pred=np.zeros(pred_proba.shape, dtype=np.int8)\n",
    "    pred[np.arange(pred.shape[0]), np.argmax(pred_proba, axis=1)] = 1\n",
    "\n",
    "    return pred\n",
    "def score(self,X,Y):\n",
    "    pred = self.predict(X)\n",
    "    y_true = np.argmax(Y, axis=1)\n",
    "    y_pred = np.argmax(pred, axis=1)\n",
    "    print(np.sum(y_true==y_pred)*100/y_true.size)"
   ]
  },
  {
   "cell_type": "code",
   "execution_count": 17,
   "metadata": {},
   "outputs": [
    {
     "name": "stdout",
     "output_type": "stream",
     "text": [
      "73.37692307692308\n"
     ]
    }
   ],
   "source": [
    "ml.score(X_train/255, Y_train)"
   ]
  },
  {
   "cell_type": "code",
   "execution_count": 15,
   "metadata": {},
   "outputs": [
    {
     "data": {
      "text/plain": [
       "MLP(input_size=784, layers=[100], output_size=26,\n",
       "    batch_size=100, lr=0.1, adaptive_lr=False, activation_fn=sigmoid,\n",
       "    tol=0.0001, n_iter_no_change=10, max_iter=130000)"
      ]
     },
     "execution_count": 15,
     "metadata": {},
     "output_type": "execute_result"
    }
   ],
   "source": [
    "ml"
   ]
  },
  {
   "cell_type": "code",
   "execution_count": null,
   "metadata": {},
   "outputs": [],
   "source": []
  },
  {
   "cell_type": "code",
   "execution_count": null,
   "metadata": {},
   "outputs": [],
   "source": []
  },
  {
   "cell_type": "code",
   "execution_count": null,
   "metadata": {},
   "outputs": [],
   "source": []
  },
  {
   "cell_type": "code",
   "execution_count": null,
   "metadata": {},
   "outputs": [],
   "source": [
    "clf = MLPClassifier(hidden_layer_sizes=(100,), activation='logistic', solver='sgd', tol=1e-3)\n",
    "\n",
    "clf.fit(X_train_std, Y_train_orig)\n",
    "print('Test score :',clf.score(X_test_std, Y_test_orig))\n",
    "print('Train score :',clf.score(X_train_std, Y_train_orig))\n",
    "print(clf.out_activation_)\n",
    "\n",
    "clf = MLPClassifier(hidden_layer_sizes=(100,), activation='logistic', solver='sgd', tol=1e-3)\n",
    "\n",
    "clf.fit(X_train_std, Y_train)\n",
    "print('Test score :',clf.score(X_test_std, Y_test))\n",
    "print('Train score :',clf.score(X_train_std, Y_train))\n",
    "print(clf.out_activation_)\n",
    "\n",
    "clf = MLPClassifier(hidden_layer_sizes=(100,), activation='logistic', solver='sgd', tol=1e-3)\n",
    "\n",
    "clf.fit(X_train, Y_train_orig)\n",
    "print('Test score :',clf.score(X_test, Y_test_orig))\n",
    "print('Train score :',clf.score(X_train, Y_train_orig))\n",
    "print(clf.out_activation_)\n",
    "\n",
    "clf = MLPClassifier(hidden_layer_sizes=(100,), activation='logistic', solver='sgd', tol=1e-3)\n",
    "\n",
    "clf.fit(X_train, Y_train)\n",
    "print('Test score :',clf.score(X_test, Y_test))\n",
    "print('Train score :',clf.score(X_train, Y_train))\n",
    "print(clf.out_activation_)\n",
    "\n",
    "clf = MLPClassifier(hidden_layer_sizes=(100,), activation='logistic', solver='sgd', tol=1e-3)\n",
    "\n",
    "clf.fit(X_train/255, Y_train_orig)\n",
    "print('Test score :',clf.score(X_test/255, Y_test_orig))\n",
    "print('Train score :',clf.score(X_train/255, Y_train_orig))\n",
    "print(clf.out_activation_)\n",
    "\n",
    "clf = MLPClassifier(hidden_layer_sizes=(100,), activation='logistic', solver='sgd', tol=1e-3)\n",
    "\n",
    "clf.fit(X_train/255, Y_train)\n",
    "print('Test score :',clf.score(X_test/255, Y_test))\n",
    "print('Train score :',clf.score(X_train/255, Y_train))\n",
    "print(clf.out_activation_)"
   ]
  },
  {
   "cell_type": "code",
   "execution_count": null,
   "metadata": {},
   "outputs": [],
   "source": [
    "clf = MLPClassifier(hidden_layer_sizes=(100,), activation='relu', solver='sgd', tol=1e-3)\n",
    "\n",
    "clf.fit(X_train_std, Y_train_orig)\n",
    "print('Test score :',clf.score(X_test_std, Y_test_orig))\n",
    "print('Train score :',clf.score(X_train_std, Y_train_orig))\n",
    "print(clf.out_activation_)\n",
    "\n",
    "clf = MLPClassifier(hidden_layer_sizes=(100,), activation='relu', solver='sgd', tol=1e-3)\n",
    "\n",
    "clf.fit(X_train_std, Y_train)\n",
    "print('Test score :',clf.score(X_test_std, Y_test))\n",
    "print('Train score :',clf.score(X_train_std, Y_train))\n",
    "print(clf.out_activation_)\n",
    "\n",
    "clf = MLPClassifier(hidden_layer_sizes=(100,), activation='relu', solver='sgd', tol=1e-3)\n",
    "\n",
    "clf.fit(X_train, Y_train_orig)\n",
    "print('Test score :',clf.score(X_test, Y_test_orig))\n",
    "print('Train score :',clf.score(X_train, Y_train_orig))\n",
    "print(clf.out_activation_)\n",
    "\n",
    "clf = MLPClassifier(hidden_layer_sizes=(100,), activation='relu', solver='sgd', tol=1e-3)\n",
    "\n",
    "clf.fit(X_train, Y_train)\n",
    "print('Test score :',clf.score(X_test, Y_test))\n",
    "print('Train score :',clf.score(X_train, Y_train))\n",
    "print(clf.out_activation_)\n",
    "\n",
    "clf = MLPClassifier(hidden_layer_sizes=(100,), activation='relu', solver='sgd', tol=1e-3)\n",
    "\n",
    "clf.fit(X_train/255, Y_train_orig)\n",
    "print('Test score :',clf.score(X_test/255, Y_test_orig))\n",
    "print('Train score :',clf.score(X_train/255, Y_train_orig))\n",
    "print(clf.out_activation_)\n",
    "\n",
    "clf = MLPClassifier(hidden_layer_sizes=(100,), activation='relu', solver='sgd', tol=1e-3)\n",
    "\n",
    "clf.fit(X_train/255, Y_train)\n",
    "print('Test score :',clf.score(X_test/255, Y_test))\n",
    "print('Train score :',clf.score(X_train/255, Y_train))\n",
    "print(clf.out_activation_)"
   ]
  }
 ],
 "metadata": {
  "kernelspec": {
   "display_name": "Python 3",
   "language": "python",
   "name": "python3"
  },
  "language_info": {
   "codemirror_mode": {
    "name": "ipython",
    "version": 3
   },
   "file_extension": ".py",
   "mimetype": "text/x-python",
   "name": "python",
   "nbconvert_exporter": "python",
   "pygments_lexer": "ipython3",
   "version": "3.7.7"
  }
 },
 "nbformat": 4,
 "nbformat_minor": 4
}
