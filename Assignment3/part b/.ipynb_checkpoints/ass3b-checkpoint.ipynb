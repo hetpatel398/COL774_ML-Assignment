{
 "cells": [
  {
   "cell_type": "code",
   "execution_count": 1,
   "metadata": {},
   "outputs": [],
   "source": [
    "import numpy as np\n",
    "import pandas as pd\n",
    "import matplotlib.pyplot as plt\n",
    "from tqdm import tqdm\n",
    "import math\n",
    "\n",
    "from sklearn.neural_network import MLPClassifier\n",
    "from time import time\n",
    "# np.random.seed(0)"
   ]
  },
  {
   "cell_type": "code",
   "execution_count": 2,
   "metadata": {},
   "outputs": [],
   "source": [
    "def one_hot_encode(Y):\n",
    "    classes_ = np.unique(Y)\n",
    "    n_classes = classes_.shape[0]\n",
    "    Y_oh = np.zeros((Y.shape[0], n_classes), dtype=np.bool)\n",
    "    i=0\n",
    "    for y in Y:\n",
    "        Y_oh[i][y]=1\n",
    "        i+=1\n",
    "    return Y_oh\n",
    "\n",
    "train_data = pd.read_csv('data/train.csv', header=None).to_numpy()\n",
    "test_data = pd.read_csv('data/test.csv', header=None).to_numpy()\n",
    "\n",
    "X_train = train_data[:,:-1]/255\n",
    "Y_train_orig = train_data[:,-1]\n",
    "X_test = test_data[:,:-1]/255\n",
    "Y_test_orig = test_data[:,-1]\n",
    "\n",
    "Y_train = one_hot_encode(Y_train_orig)\n",
    "Y_test = one_hot_encode(Y_test_orig)"
   ]
  },
  {
   "cell_type": "markdown",
   "metadata": {},
   "source": [
    "# Implementing MLP"
   ]
  },
  {
   "cell_type": "code",
   "execution_count": 3,
   "metadata": {},
   "outputs": [],
   "source": [
    "class sigmoid:\n",
    "    def f(x):\n",
    "        return 1/(1+np.exp(-1*x))\n",
    "    def df(x):\n",
    "        return x*(1-x)\n",
    "#         return sigmoid.f(x)*(1-sigmoid.f(x))\n",
    "    \n",
    "class ReLU:\n",
    "    def f(x):\n",
    "        x_=x.copy()\n",
    "        x_[x_<0]=0\n",
    "        return x_\n",
    "    \n",
    "    def df(x):\n",
    "        x_=x.copy()\n",
    "        x_[x_>0]=1\n",
    "        return x_\n",
    "\n",
    "class MLP:\n",
    "    \n",
    "    def __init__(self, input_size=784, layers=[100,], output_size=26,\\\n",
    "                 batch_size=100, lr=0.1, adaptive_lr=False, activation_fn='sigmoid',\\\n",
    "                 max_epoch=100, tol=1e-4, n_iter_no_change=10):\n",
    "        self.input_size=input_size;\n",
    "        self.layers=layers;\n",
    "        self.output_size=output_size;\n",
    "        self.batch_size=batch_size;\n",
    "        self.lr=lr\n",
    "        self.adaptive_lr=adaptive_lr\n",
    "        self.activation_fn=activation_fn\n",
    "        self.max_epoch=max_epoch\n",
    "        self.tol=tol\n",
    "        self.n_iter_no_change=n_iter_no_change\n",
    "        \n",
    "        if activation_fn=='sigmoid':\n",
    "            self.activation_class = sigmoid\n",
    "        elif activation_fn=='relu':\n",
    "            self.activation_class = ReLU\n",
    "        else:\n",
    "            raise Exception(\"Enter valid activation_fn\")\n",
    "        \n",
    "        \n",
    "        self.layers.insert(0, self.input_size); self.layers.append(self.output_size)\n",
    "        self.n_layers = len(self.layers)\n",
    "        \n",
    "    \n",
    "    def __str__(self):\n",
    "        return \"\"\"MLP(input_size=%s, layers=%s, output_size=%s,\n",
    "    batch_size=%s, lr=%s, adaptive_lr=%s, activation_fn=%s,\n",
    "    tol=%s, n_iter_no_change=%s, max_epoch=%s)\"\"\"%\\\n",
    "                (self.input_size, self.layers[1:-1], self.output_size,\\\n",
    "                self.batch_size, self.lr, self.adaptive_lr, self.activation_fn,\\\n",
    "                self.tol, self.n_iter_no_change, self.max_epoch)\n",
    "    \n",
    "    def __repr__(self):\n",
    "        return self.__str__()\n",
    "    \n",
    "    def fit(self, X, Y):\n",
    "        np.random.seed(0)\n",
    "        f = self.activation_class.f\n",
    "        df = self.activation_class.df\n",
    "        itr=0\n",
    "        \n",
    "        val_indices = np.random.choice(X.shape[0], size=int(X.shape[0]*0.1))\n",
    "        train_indices = np.setdiff1d(list(range(X.shape[0])), val_indices)\n",
    "        X_train, Y_train = X[train_indices], Y[train_indices]\n",
    "        X_val, Y_val = X[val_indices], Y[val_indices]\n",
    "        self.val_loss_lst=[0]\n",
    "        cnt_no_change=0\n",
    "        \n",
    "        if self.activation_fn=='sigmoid':\n",
    "            self._intialize_weights(type='glorot-normal')\n",
    "        else:\n",
    "            self._intialize_weights(type='he-normal')\n",
    "        \n",
    "            \n",
    "        for epoch in tqdm(range(self.max_epoch)):\n",
    "            self.val_loss_lst.append(self._compute_loss(X_val, Y_val))\n",
    "            indices = np.random.choice(X_train.shape[0], size=X_train.shape[0])\n",
    "            X_train_ = X_train[indices]\n",
    "            Y_train_ = Y_train[indices]\n",
    "            if abs(self.val_loss_lst[-1]-self.val_loss_lst[-2])<self.tol:\n",
    "                cnt_no_change+=1\n",
    "                if(cnt_no_change==self.n_iter_no_change):\n",
    "                    print('Converged in %d epochs'%(epoch+1))\n",
    "                    return\n",
    "            else:\n",
    "                cnt_no_change=0\n",
    "            \n",
    "            if self.adaptive_lr:\n",
    "                lr=self.lr/math.sqrt(epoch+1)\n",
    "            else:\n",
    "                lr=self.lr\n",
    "            for i in range(0, X_train.shape[0], self.batch_size):\n",
    "                \n",
    "                X=X_train_[i:i+self.batch_size,:]\n",
    "                Y=Y_train_[i:i+self.batch_size,:]  \n",
    "\n",
    "                # Forward-prop\n",
    "                output = self._forward_prop(X)\n",
    "\n",
    "                # Back-Prop\n",
    "                memo, updates = self._back_prop(output, Y)\n",
    "                \n",
    "                # Update\n",
    "                for i in range(self.n_layers-1):\n",
    "                    self.intercepts[i]=self.intercepts[i] - lr*np.sum(memo[i],axis=0)\n",
    "                    self.weights[i]=self.weights[i] - lr * updates[i]\n",
    "                \n",
    "                itr+=1\n",
    "    \n",
    "    def _forward_prop(self,X):\n",
    "        f = self.activation_class.f\n",
    "        output=[X]\n",
    "        for i in range(self.n_layers-2):\n",
    "            output.append(f(np.dot(output[-1],self.weights[i])+self.intercepts[i]))\n",
    "        output.append(sigmoid.f(np.dot(output[-1],self.weights[-1])+self.intercepts[-1]))\n",
    "        return output\n",
    "    \n",
    "    def _back_prop(self, output, Y):\n",
    "        df=self.activation_class.df\n",
    "        \n",
    "        memo = []\n",
    "        updates = []\n",
    "        curr_memo = (-1/self.batch_size)*(np.multiply(Y-output[-1],sigmoid.df(output[-1])))\n",
    "        memo.insert(0,curr_memo)\n",
    "        curr_update = np.dot(output[-2].T, curr_memo)\n",
    "        updates.insert(0,curr_update)\n",
    "        for i in range(self.n_layers-2, 0, -1):\n",
    "            curr_memo = np.multiply(memo[0].dot(self.weights[i].T),df(output[i]))\n",
    "            memo.insert(0,curr_memo)\n",
    "            curr_update = (output[i-1].T).dot(curr_memo)\n",
    "            updates.insert(0,curr_update)\n",
    "        \n",
    "        return memo, updates\n",
    "    \n",
    "    def _compute_loss(self, X, Y):\n",
    "        output = self._forward_prop(X)\n",
    "        loss = (0.5/X.shape[0])*np.sum((Y-output[-1])**2)\n",
    "        return loss\n",
    "    \n",
    "    def _intialize_weights(self, type='glorot-normal'):\n",
    "        self.weights=[]\n",
    "        self.intercepts=[]\n",
    "        for i in range(self.n_layers-1):\n",
    "            fan_in = self.layers[i]\n",
    "            fan_out = self.layers[i+1]\n",
    "            #Glorot/Xevier Normal initialization\n",
    "            if type=='glorot-normal':\n",
    "                self.weights.append(np.random.normal(scale=(2/(fan_in+fan_out)), size=(fan_in, fan_out)))\n",
    "                self.intercepts.append(np.random.normal(scale=2/(fan_in+fan_out), size=fan_out))\n",
    "            elif type=='he-normal':\n",
    "                self.weights.append(np.random.normal(scale=np.sqrt(2/fan_in), size=(fan_in, fan_out)))\n",
    "                self.intercepts.append(np.random.normal(scale=np.sqrt(2/fan_in), size=fan_out))\n",
    "            elif type='glorot-uniform':\n",
    "                self.weights.append(np.random.uniform(low=-2/(fan_in+fan_out)\\\n",
    "                                                      high=2/(fan_in+fan_out),\\\n",
    "                                                      size=(fan_in, fan_out)))\n",
    "                self.intercepts.append(np.random.uniform(low=-2/(fan_in+fan_out),\\\n",
    "                                                         high=2/(fan_in+fan_out),\\\n",
    "                                                         size=fan_out))\n",
    "            elif type='he-uniform':\n",
    "                self.weights.append(np.random.uniform(low=-np.sqrt(2/fan_in)\\\n",
    "                                                      high=np.sqrt(2/fan_in),\\\n",
    "                                                      size=(fan_in, fan_out)))\n",
    "                self.intercepts.append(np.random.uniform(low=-np.sqrt(2/fan_in),\\\n",
    "                                                         high=np.sqrt(2/fan_in),\\\n",
    "                                                         size=fan_out))\n",
    "                \n",
    "            \n",
    "    def predict(self, X):\n",
    "        pred_proba=self.predict_proba(X)\n",
    "        pred=np.zeros(pred_proba.shape, dtype=np.int8)\n",
    "        pred[np.arange(pred.shape[0]), np.argmax(pred_proba, axis=1)] = 1\n",
    "        return pred\n",
    "    \n",
    "    def predict_proba(self, X):\n",
    "        f = self.activation_class.f\n",
    "        \n",
    "        pred_proba=X\n",
    "        for i in range(self.n_layers-2):\n",
    "            pred_proba=f(pred_proba@self.weights[i]+self.intercepts[i])\n",
    "        pred_proba=sigmoid.f(pred_proba@self.weights[-1]+self.intercepts[-1])\n",
    "        \n",
    "        return pred_proba\n",
    "    \n",
    "    def predict_log_proba(self, X):\n",
    "        return np.log(self.predict_proba(X))\n",
    "    \n",
    "    def score(self,X,Y):\n",
    "        pred = self.predict(X)\n",
    "        y_true = np.argmax(Y, axis=1)\n",
    "        y_pred = np.argmax(pred, axis=1)\n",
    "        return (np.sum(y_true==y_pred)/y_true.shape[0])"
   ]
  },
  {
   "cell_type": "code",
   "execution_count": 4,
   "metadata": {},
   "outputs": [
    {
     "data": {
      "text/plain": [
       "array([[-0.63741444, -0.48143446,  0.14282974, -0.75221681, -0.28280334],\n",
       "       [-0.60281406,  0.56980761,  0.22617068, -0.32537091, -0.30153951],\n",
       "       [-0.50682585, -0.21341273,  0.02204812, -0.9982623 , -0.88791892]])"
      ]
     },
     "execution_count": 4,
     "metadata": {},
     "output_type": "execute_result"
    }
   ],
   "source": [
    "np.random.normal(scale)\n",
    "np.random.random_(low=-1, high=1, size=(3,5))"
   ]
  },
  {
   "cell_type": "markdown",
   "metadata": {},
   "source": [
    "# 100\n",
    "## 0.9626 0.9056\n",
    "## 1e-7_1_0.9231_0.8833_742"
   ]
  },
  {
   "cell_type": "code",
   "execution_count": 4,
   "metadata": {},
   "outputs": [
    {
     "name": "stderr",
     "output_type": "stream",
     "text": [
      "  5%|▍         | 98/2000 [00:03<01:02, 30.54it/s]\n"
     ]
    },
    {
     "name": "stdout",
     "output_type": "stream",
     "text": [
      "Converged in 99 epochs\n",
      "0.038461538461538464\n",
      "0.038461538461538464\n"
     ]
    }
   ],
   "source": [
    "ml=MLP(layers=[1], batch_size=100, activation_fn='sigmoid', max_epoch=2000,\\\n",
    "       lr=0.1, tol=1e-6, n_iter_no_change=5)\n",
    "ml.fit(X_train, Y_train)\n",
    "print(ml.score(X_train, Y_train))\n",
    "print(ml.score(X_test, Y_test))"
   ]
  },
  {
   "cell_type": "code",
   "execution_count": 5,
   "metadata": {},
   "outputs": [
    {
     "name": "stderr",
     "output_type": "stream",
     "text": [
      "100%|██████████| 1000/1000 [00:38<00:00, 26.24it/s]"
     ]
    },
    {
     "name": "stdout",
     "output_type": "stream",
     "text": [
      "0.10407692307692308\n",
      "0.10046153846153846\n"
     ]
    },
    {
     "name": "stderr",
     "output_type": "stream",
     "text": [
      "\n"
     ]
    }
   ],
   "source": [
    "ml=MLP(layers=[5], batch_size=100, activation_fn='sigmoid', max_epoch=1000,\\\n",
    "       lr=0.1, tol=1e-6, n_iter_no_change=5)\n",
    "ml.fit(X_train, Y_train)\n",
    "print(ml.score(X_train, Y_train))\n",
    "print(ml.score(X_test, Y_test))"
   ]
  },
  {
   "cell_type": "code",
   "execution_count": 6,
   "metadata": {},
   "outputs": [
    {
     "name": "stderr",
     "output_type": "stream",
     "text": [
      "100%|██████████| 1500/1500 [00:56<00:00, 26.44it/s]"
     ]
    },
    {
     "name": "stdout",
     "output_type": "stream",
     "text": [
      "0.1666153846153846\n",
      "0.1716923076923077\n"
     ]
    },
    {
     "name": "stderr",
     "output_type": "stream",
     "text": [
      "\n"
     ]
    }
   ],
   "source": [
    "ml=MLP(layers=[5], batch_size=100, activation_fn='sigmoid', max_epoch=1500,\\\n",
    "       lr=0.1, tol=1e-6, n_iter_no_change=5)\n",
    "ml.fit(X_train, Y_train)\n",
    "print(ml.score(X_train, Y_train))\n",
    "print(ml.score(X_test, Y_test))"
   ]
  },
  {
   "cell_type": "code",
   "execution_count": 5,
   "metadata": {},
   "outputs": [
    {
     "name": "stderr",
     "output_type": "stream",
     "text": [
      "100%|██████████| 2000/2000 [01:15<00:00, 26.56it/s]\n"
     ]
    },
    {
     "name": "stdout",
     "output_type": "stream",
     "text": [
      "0.24669230769230768\n",
      "0.24553846153846154\n"
     ]
    }
   ],
   "source": [
    "ml=MLP(layers=[5], batch_size=100, activation_fn='sigmoid', max_epoch=2000,\\\n",
    "       lr=0.1, tol=1e-6, n_iter_no_change=5)\n",
    "ml.fit(X_train, Y_train)\n",
    "print(ml.score(X_train, Y_train))\n",
    "print(ml.score(X_test, Y_test))"
   ]
  },
  {
   "cell_type": "code",
   "execution_count": 9,
   "metadata": {},
   "outputs": [
    {
     "name": "stderr",
     "output_type": "stream",
     "text": [
      "100%|██████████| 2500/2500 [01:33<00:00, 26.67it/s]"
     ]
    },
    {
     "name": "stdout",
     "output_type": "stream",
     "text": [
      "0.32992307692307693\n",
      "0.3150769230769231\n"
     ]
    },
    {
     "name": "stderr",
     "output_type": "stream",
     "text": [
      "\n"
     ]
    }
   ],
   "source": [
    "ml=MLP(layers=[5], batch_size=100, activation_fn='sigmoid', max_epoch=2500,\\\n",
    "       lr=0.1, tol=1e-6, n_iter_no_change=5)\n",
    "ml.fit(X_train, Y_train)\n",
    "print(ml.score(X_train, Y_train))\n",
    "print(ml.score(X_test, Y_test))"
   ]
  },
  {
   "cell_type": "code",
   "execution_count": 10,
   "metadata": {},
   "outputs": [
    {
     "name": "stderr",
     "output_type": "stream",
     "text": [
      "100%|██████████| 3000/3000 [01:54<00:00, 26.11it/s]"
     ]
    },
    {
     "name": "stdout",
     "output_type": "stream",
     "text": [
      "0.36038461538461536\n",
      "0.33892307692307694\n"
     ]
    },
    {
     "name": "stderr",
     "output_type": "stream",
     "text": [
      "\n"
     ]
    }
   ],
   "source": [
    "ml=MLP(layers=[5], batch_size=100, activation_fn='sigmoid', max_epoch=3000,\\\n",
    "       lr=0.1, tol=1e-6, n_iter_no_change=5)\n",
    "ml.fit(X_train, Y_train)\n",
    "print(ml.score(X_train, Y_train))\n",
    "print(ml.score(X_test, Y_test))"
   ]
  },
  {
   "cell_type": "code",
   "execution_count": 13,
   "metadata": {},
   "outputs": [
    {
     "name": "stderr",
     "output_type": "stream",
     "text": [
      "100%|██████████| 4000/4000 [02:35<00:00, 25.64it/s]"
     ]
    },
    {
     "name": "stdout",
     "output_type": "stream",
     "text": [
      "0.4543076923076923\n",
      "0.428\n"
     ]
    },
    {
     "name": "stderr",
     "output_type": "stream",
     "text": [
      "\n"
     ]
    }
   ],
   "source": [
    "ml=MLP(layers=[5], batch_size=100, activation_fn='sigmoid', max_epoch=4000,\\\n",
    "       lr=0.1, tol=1e-6, n_iter_no_change=5)\n",
    "ml.fit(X_train, Y_train)\n",
    "print(ml.score(X_train, Y_train))\n",
    "print(ml.score(X_test, Y_test))"
   ]
  },
  {
   "cell_type": "code",
   "execution_count": 14,
   "metadata": {},
   "outputs": [
    {
     "name": "stderr",
     "output_type": "stream",
     "text": [
      "100%|██████████| 6000/6000 [03:48<00:00, 26.26it/s]"
     ]
    },
    {
     "name": "stdout",
     "output_type": "stream",
     "text": [
      "0.5954615384615385\n",
      "0.5438461538461539\n"
     ]
    },
    {
     "name": "stderr",
     "output_type": "stream",
     "text": [
      "\n"
     ]
    }
   ],
   "source": [
    "ml=MLP(layers=[5], batch_size=100, activation_fn='sigmoid', max_epoch=6000,\\\n",
    "       lr=0.1, tol=1e-6, n_iter_no_change=5)\n",
    "ml.fit(X_train, Y_train)\n",
    "print(ml.score(X_train, Y_train))\n",
    "print(ml.score(X_test, Y_test))"
   ]
  },
  {
   "cell_type": "code",
   "execution_count": 15,
   "metadata": {},
   "outputs": [
    {
     "name": "stderr",
     "output_type": "stream",
     "text": [
      "100%|██████████| 10000/10000 [06:14<00:00, 26.68it/s]"
     ]
    },
    {
     "name": "stdout",
     "output_type": "stream",
     "text": [
      "0.6620769230769231\n",
      "0.5856923076923077\n"
     ]
    },
    {
     "name": "stderr",
     "output_type": "stream",
     "text": [
      "\n"
     ]
    }
   ],
   "source": [
    "ml=MLP(layers=[5], batch_size=100, activation_fn='sigmoid', max_epoch=10000,\\\n",
    "       lr=0.1, tol=1e-6, n_iter_no_change=5)\n",
    "ml.fit(X_train, Y_train)\n",
    "print(ml.score(X_train, Y_train))\n",
    "print(ml.score(X_test, Y_test))"
   ]
  },
  {
   "cell_type": "code",
   "execution_count": 6,
   "metadata": {},
   "outputs": [
    {
     "name": "stderr",
     "output_type": "stream",
     "text": [
      "100%|██████████| 20000/20000 [12:22<00:00, 26.94it/s]\n"
     ]
    },
    {
     "name": "stdout",
     "output_type": "stream",
     "text": [
      "0.683\n",
      "0.5727692307692308\n"
     ]
    }
   ],
   "source": [
    "ml=MLP(layers=[5], batch_size=100, activation_fn='sigmoid', max_epoch=20000,\\\n",
    "       lr=0.1, tol=1e-6, n_iter_no_change=5)\n",
    "ml.fit(X_train, Y_train)\n",
    "print(ml.score(X_train, Y_train))\n",
    "print(ml.score(X_test, Y_test))"
   ]
  },
  {
   "cell_type": "code",
   "execution_count": 7,
   "metadata": {},
   "outputs": [
    {
     "name": "stderr",
     "output_type": "stream",
     "text": [
      "100%|██████████| 1000/1000 [00:41<00:00, 24.25it/s]"
     ]
    },
    {
     "name": "stdout",
     "output_type": "stream",
     "text": [
      "0.506\n",
      "0.4887692307692308\n"
     ]
    },
    {
     "name": "stderr",
     "output_type": "stream",
     "text": [
      "\n"
     ]
    }
   ],
   "source": [
    "ml=MLP(layers=[10], batch_size=100, activation_fn='sigmoid', max_epoch=1000,\\\n",
    "       lr=0.1, tol=1e-6, n_iter_no_change=5)\n",
    "ml.fit(X_train, Y_train)\n",
    "print(ml.score(X_train, Y_train))\n",
    "print(ml.score(X_test, Y_test))"
   ]
  },
  {
   "cell_type": "code",
   "execution_count": 8,
   "metadata": {},
   "outputs": [
    {
     "name": "stderr",
     "output_type": "stream",
     "text": [
      "100%|██████████| 1500/1500 [01:03<00:00, 23.79it/s]"
     ]
    },
    {
     "name": "stdout",
     "output_type": "stream",
     "text": [
      "0.683076923076923\n",
      "0.6410769230769231\n"
     ]
    },
    {
     "name": "stderr",
     "output_type": "stream",
     "text": [
      "\n"
     ]
    }
   ],
   "source": [
    "ml=MLP(layers=[10], batch_size=100, activation_fn='sigmoid', max_epoch=1500,\\\n",
    "       lr=0.1, tol=1e-6, n_iter_no_change=5)\n",
    "ml.fit(X_train, Y_train)\n",
    "print(ml.score(X_train, Y_train))\n",
    "print(ml.score(X_test, Y_test))"
   ]
  },
  {
   "cell_type": "code",
   "execution_count": 6,
   "metadata": {},
   "outputs": [
    {
     "name": "stderr",
     "output_type": "stream",
     "text": [
      "100%|██████████| 2000/2000 [01:23<00:00, 23.98it/s]"
     ]
    },
    {
     "name": "stdout",
     "output_type": "stream",
     "text": [
      "0.7201538461538461\n",
      "0.6758461538461539\n"
     ]
    },
    {
     "name": "stderr",
     "output_type": "stream",
     "text": [
      "\n"
     ]
    }
   ],
   "source": [
    "ml=MLP(layers=[10], batch_size=100, activation_fn='sigmoid', max_epoch=2000,\\\n",
    "       lr=0.1, tol=1e-6, n_iter_no_change=5)\n",
    "ml.fit(X_train, Y_train)\n",
    "print(ml.score(X_train, Y_train))\n",
    "print(ml.score(X_test, Y_test))"
   ]
  },
  {
   "cell_type": "code",
   "execution_count": 11,
   "metadata": {},
   "outputs": [
    {
     "name": "stderr",
     "output_type": "stream",
     "text": [
      "100%|██████████| 2500/2500 [01:47<00:00, 23.19it/s]"
     ]
    },
    {
     "name": "stdout",
     "output_type": "stream",
     "text": [
      "0.7552307692307693\n",
      "0.7016923076923077\n"
     ]
    },
    {
     "name": "stderr",
     "output_type": "stream",
     "text": [
      "\n"
     ]
    }
   ],
   "source": [
    "ml=MLP(layers=[10], batch_size=100, activation_fn='sigmoid', max_epoch=2500,\\\n",
    "       lr=0.1, tol=1e-6, n_iter_no_change=5)\n",
    "ml.fit(X_train, Y_train)\n",
    "print(ml.score(X_train, Y_train))\n",
    "print(ml.score(X_test, Y_test))"
   ]
  },
  {
   "cell_type": "code",
   "execution_count": 12,
   "metadata": {},
   "outputs": [
    {
     "name": "stderr",
     "output_type": "stream",
     "text": [
      "100%|██████████| 3000/3000 [02:05<00:00, 23.82it/s]"
     ]
    },
    {
     "name": "stdout",
     "output_type": "stream",
     "text": [
      "0.7770769230769231\n",
      "0.7098461538461538\n"
     ]
    },
    {
     "name": "stderr",
     "output_type": "stream",
     "text": [
      "\n"
     ]
    }
   ],
   "source": [
    "ml=MLP(layers=[10], batch_size=100, activation_fn='sigmoid', max_epoch=3000,\\\n",
    "       lr=0.1, tol=1e-6, n_iter_no_change=5)\n",
    "ml.fit(X_train, Y_train)\n",
    "print(ml.score(X_train, Y_train))\n",
    "print(ml.score(X_test, Y_test))"
   ]
  },
  {
   "cell_type": "code",
   "execution_count": null,
   "metadata": {},
   "outputs": [],
   "source": []
  },
  {
   "cell_type": "code",
   "execution_count": null,
   "metadata": {},
   "outputs": [],
   "source": []
  },
  {
   "cell_type": "code",
   "execution_count": 4,
   "metadata": {},
   "outputs": [
    {
     "name": "stderr",
     "output_type": "stream",
     "text": [
      "100%|██████████| 100/100 [00:06<00:00, 16.12it/s]"
     ]
    },
    {
     "name": "stdout",
     "output_type": "stream",
     "text": [
      "0.9491538461538461\n",
      "0.8849230769230769\n"
     ]
    },
    {
     "name": "stderr",
     "output_type": "stream",
     "text": [
      "\n"
     ]
    }
   ],
   "source": [
    "ml=MLP(layers=[50], batch_size=100, activation_fn='sigmoid', max_epoch=100,\\\n",
    "       lr=2, tol=1e-6, n_iter_no_change=5)\n",
    "ml.fit(X_train, Y_train)\n",
    "print(ml.score(X_train, Y_train))\n",
    "print(ml.score(X_test, Y_test))"
   ]
  },
  {
   "cell_type": "code",
   "execution_count": 5,
   "metadata": {},
   "outputs": [
    {
     "name": "stderr",
     "output_type": "stream",
     "text": [
      "100%|██████████| 100/100 [00:08<00:00, 12.11it/s]\n"
     ]
    },
    {
     "name": "stdout",
     "output_type": "stream",
     "text": [
      "0.962076923076923\n",
      "0.9023076923076923\n"
     ]
    }
   ],
   "source": [
    "ml=MLP(layers=[100], batch_size=100, activation_fn='sigmoid', max_epoch=100,\\\n",
    "       lr=2, tol=1e-6, n_iter_no_change=5)\n",
    "ml.fit(X_train, Y_train)\n",
    "print(ml.score(X_train, Y_train))\n",
    "print(ml.score(X_test, Y_test))"
   ]
  },
  {
   "cell_type": "code",
   "execution_count": 14,
   "metadata": {},
   "outputs": [
    {
     "data": {
      "text/plain": [
       "0.9626153846153847"
      ]
     },
     "execution_count": 14,
     "metadata": {},
     "output_type": "execute_result"
    }
   ],
   "source": [
    "ml.score(X_train, Y_train)"
   ]
  },
  {
   "cell_type": "code",
   "execution_count": 15,
   "metadata": {},
   "outputs": [
    {
     "data": {
      "text/plain": [
       "0.9056923076923077"
      ]
     },
     "execution_count": 15,
     "metadata": {},
     "output_type": "execute_result"
    }
   ],
   "source": [
    "ml.score(X_test, Y_test)"
   ]
  },
  {
   "cell_type": "code",
   "execution_count": 13,
   "metadata": {},
   "outputs": [
    {
     "name": "stdout",
     "output_type": "stream",
     "text": [
      "[0, 0.040769230769230766, 0.04230769230769231, 0.024615384615384615, 0.03769230769230769, 0.033846153846153845, 0.04230769230769231, 0.04230769230769231]\n"
     ]
    }
   ],
   "source": [
    "print(ml.val_score_lst)"
   ]
  },
  {
   "cell_type": "code",
   "execution_count": null,
   "metadata": {},
   "outputs": [],
   "source": []
  },
  {
   "cell_type": "code",
   "execution_count": 8,
   "metadata": {},
   "outputs": [
    {
     "data": {
      "image/png": "[encoded data removed]",
      "text/plain": [
       "<Figure size 1152x648 with 1 Axes>"
      ]
     },
     "metadata": {
      "needs_background": "light"
     },
     "output_type": "display_data"
    }
   ],
   "source": [
    "plt.figure(figsize=(16,9))\n",
    "plt.plot(range(len(ml.val_loss_lst)), ml.val_loss_lst)\n",
    "plt.show()"
   ]
  },
  {
   "cell_type": "code",
   "execution_count": 18,
   "metadata": {},
   "outputs": [
    {
     "data": {
      "text/plain": [
       "[0.040769230769230766,\n",
       " 0.04230769230769231,\n",
       " 0.024615384615384615,\n",
       " 0.03769230769230769,\n",
       " 0.033846153846153845,\n",
       " 0.04230769230769231,\n",
       " 0.04230769230769231,\n",
       " 0.03461538461538462,\n",
       " 0.06846153846153846,\n",
       " 0.04230769230769231,\n",
       " 0.045384615384615384,\n",
       " 0.04230769230769231,\n",
       " 0.04230769230769231,\n",
       " 0.07153846153846154,\n",
       " 0.03461538461538462,\n",
       " 0.03461538461538462,\n",
       " 0.03538461538461538,\n",
       " 0.03461538461538462,\n",
       " 0.03461538461538462,\n",
       " 0.08153846153846153,\n",
       " 0.03461538461538462,\n",
       " 0.03923076923076923,\n",
       " 0.06923076923076923,\n",
       " 0.09769230769230769,\n",
       " 0.10384615384615385,\n",
       " 0.07769230769230769,\n",
       " 0.11538461538461539,\n",
       " 0.05307692307692308,\n",
       " 0.08076923076923077,\n",
       " 0.07384615384615385,\n",
       " 0.1276923076923077,\n",
       " 0.03538461538461538,\n",
       " 0.09769230769230769,\n",
       " 0.06769230769230769,\n",
       " 0.10615384615384615,\n",
       " 0.03923076923076923,\n",
       " 0.17153846153846153,\n",
       " 0.17384615384615384,\n",
       " 0.06615384615384616,\n",
       " 0.12692307692307692,\n",
       " 0.1276923076923077,\n",
       " 0.11,\n",
       " 0.15,\n",
       " 0.1523076923076923,\n",
       " 0.1676923076923077,\n",
       " 0.18307692307692308,\n",
       " 0.2053846153846154,\n",
       " 0.23153846153846153,\n",
       " 0.17384615384615384,\n",
       " 0.1376923076923077,\n",
       " 0.17692307692307693,\n",
       " 0.18076923076923077,\n",
       " 0.19538461538461538,\n",
       " 0.23615384615384616,\n",
       " 0.16153846153846155,\n",
       " 0.21,\n",
       " 0.2246153846153846,\n",
       " 0.18923076923076923,\n",
       " 0.1946153846153846,\n",
       " 0.20615384615384616,\n",
       " 0.16076923076923078,\n",
       " 0.19,\n",
       " 0.19923076923076924,\n",
       " 0.18923076923076923,\n",
       " 0.24846153846153846,\n",
       " 0.25846153846153846,\n",
       " 0.21384615384615385,\n",
       " 0.19692307692307692,\n",
       " 0.21384615384615385,\n",
       " 0.1976923076923077,\n",
       " 0.18076923076923077,\n",
       " 0.22692307692307692,\n",
       " 0.2323076923076923,\n",
       " 0.19692307692307692,\n",
       " 0.23384615384615384,\n",
       " 0.21846153846153846,\n",
       " 0.20923076923076922,\n",
       " 0.24076923076923076,\n",
       " 0.19923076923076924,\n",
       " 0.21384615384615385,\n",
       " 0.21769230769230768,\n",
       " 0.23076923076923078,\n",
       " 0.2553846153846154,\n",
       " 0.2523076923076923,\n",
       " 0.26,\n",
       " 0.2569230769230769,\n",
       " 0.2592307692307692,\n",
       " 0.2676923076923077,\n",
       " 0.26384615384615384,\n",
       " 0.29923076923076924,\n",
       " 0.29846153846153844,\n",
       " 0.3038461538461538,\n",
       " 0.2969230769230769,\n",
       " 0.3046153846153846,\n",
       " 0.32153846153846155,\n",
       " 0.30846153846153845,\n",
       " 0.31846153846153846,\n",
       " 0.33692307692307694,\n",
       " 0.34692307692307695,\n",
       " 0.35,\n",
       " 0.3546153846153846,\n",
       " 0.35384615384615387,\n",
       " 0.3723076923076923,\n",
       " 0.3646153846153846,\n",
       " 0.37538461538461537,\n",
       " 0.39,\n",
       " 0.40384615384615385,\n",
       " 0.4146153846153846,\n",
       " 0.4176923076923077,\n",
       " 0.4307692307692308,\n",
       " 0.4461538461538462,\n",
       " 0.45,\n",
       " 0.4584615384615385,\n",
       " 0.4707692307692308,\n",
       " 0.4684615384615385,\n",
       " 0.4723076923076923,\n",
       " 0.4930769230769231,\n",
       " 0.5007692307692307,\n",
       " 0.5030769230769231,\n",
       " 0.5138461538461538,\n",
       " 0.5169230769230769,\n",
       " 0.5238461538461539,\n",
       " 0.5276923076923077,\n",
       " 0.546923076923077,\n",
       " 0.5484615384615384,\n",
       " 0.5476923076923077,\n",
       " 0.5815384615384616,\n",
       " 0.5823076923076923,\n",
       " 0.5846153846153846,\n",
       " 0.59,\n",
       " 0.6015384615384616,\n",
       " 0.6115384615384616,\n",
       " 0.6269230769230769,\n",
       " 0.6307692307692307,\n",
       " 0.6446153846153846,\n",
       " 0.6438461538461538,\n",
       " 0.6492307692307693,\n",
       " 0.6515384615384615,\n",
       " 0.6607692307692308,\n",
       " 0.6630769230769231,\n",
       " 0.6723076923076923,\n",
       " 0.68,\n",
       " 0.6961538461538461,\n",
       " 0.703076923076923,\n",
       " 0.703076923076923,\n",
       " 0.7061538461538461,\n",
       " 0.713076923076923,\n",
       " 0.7053846153846154,\n",
       " 0.7223076923076923,\n",
       " 0.7269230769230769,\n",
       " 0.7261538461538461,\n",
       " 0.7276923076923076,\n",
       " 0.7323076923076923,\n",
       " 0.7392307692307692,\n",
       " 0.7369230769230769,\n",
       " 0.7392307692307692,\n",
       " 0.7407692307692307,\n",
       " 0.7469230769230769,\n",
       " 0.75,\n",
       " 0.7576923076923077,\n",
       " 0.7553846153846154,\n",
       " 0.7607692307692308,\n",
       " 0.7607692307692308,\n",
       " 0.7607692307692308,\n",
       " 0.7692307692307693,\n",
       " 0.7676923076923077,\n",
       " 0.7684615384615384,\n",
       " 0.7723076923076924,\n",
       " 0.7707692307692308,\n",
       " 0.7746153846153846,\n",
       " 0.7761538461538462,\n",
       " 0.7753846153846153,\n",
       " 0.78,\n",
       " 0.7784615384615384,\n",
       " 0.7830769230769231,\n",
       " 0.7830769230769231,\n",
       " 0.7861538461538462,\n",
       " 0.7846153846153846,\n",
       " 0.786923076923077,\n",
       " 0.7876923076923077,\n",
       " 0.7946153846153846,\n",
       " 0.7907692307692308,\n",
       " 0.7930769230769231,\n",
       " 0.7946153846153846,\n",
       " 0.7953846153846154,\n",
       " 0.7961538461538461,\n",
       " 0.8015384615384615,\n",
       " 0.7976923076923077,\n",
       " 0.8,\n",
       " 0.8015384615384615,\n",
       " 0.8038461538461539,\n",
       " 0.8015384615384615,\n",
       " 0.8046153846153846,\n",
       " 0.8046153846153846,\n",
       " 0.8053846153846154,\n",
       " 0.8061538461538461,\n",
       " 0.8046153846153846,\n",
       " 0.8061538461538461,\n",
       " 0.8092307692307692,\n",
       " 0.806923076923077,\n",
       " 0.8084615384615385,\n",
       " 0.8053846153846154,\n",
       " 0.8061538461538461,\n",
       " 0.8038461538461539,\n",
       " 0.806923076923077,\n",
       " 0.806923076923077,\n",
       " 0.8107692307692308,\n",
       " 0.8092307692307692,\n",
       " 0.8107692307692308,\n",
       " 0.8115384615384615,\n",
       " 0.8107692307692308,\n",
       " 0.8123076923076923,\n",
       " 0.8153846153846154,\n",
       " 0.8115384615384615,\n",
       " 0.813076923076923,\n",
       " 0.8115384615384615,\n",
       " 0.813076923076923,\n",
       " 0.8146153846153846,\n",
       " 0.8161538461538461,\n",
       " 0.8207692307692308,\n",
       " 0.816923076923077,\n",
       " 0.8176923076923077,\n",
       " 0.8161538461538461,\n",
       " 0.8153846153846154,\n",
       " 0.8184615384615385,\n",
       " 0.8192307692307692,\n",
       " 0.8161538461538461,\n",
       " 0.82,\n",
       " 0.82,\n",
       " 0.8146153846153846,\n",
       " 0.816923076923077,\n",
       " 0.8192307692307692,\n",
       " 0.82,\n",
       " 0.82,\n",
       " 0.8207692307692308,\n",
       " 0.8238461538461539,\n",
       " 0.823076923076923,\n",
       " 0.8246153846153846,\n",
       " 0.8223076923076923,\n",
       " 0.8246153846153846,\n",
       " 0.8261538461538461,\n",
       " 0.8238461538461539,\n",
       " 0.8261538461538461,\n",
       " 0.8253846153846154,\n",
       " 0.8284615384615385,\n",
       " 0.8269230769230769,\n",
       " 0.8269230769230769,\n",
       " 0.8269230769230769,\n",
       " 0.8276923076923077,\n",
       " 0.8269230769230769,\n",
       " 0.8276923076923077,\n",
       " 0.8276923076923077,\n",
       " 0.8315384615384616,\n",
       " 0.83,\n",
       " 0.8292307692307692,\n",
       " 0.8315384615384616,\n",
       " 0.8315384615384616,\n",
       " 0.83,\n",
       " 0.8315384615384616,\n",
       " 0.8284615384615385,\n",
       " 0.83,\n",
       " 0.8284615384615385,\n",
       " 0.83,\n",
       " 0.8307692307692308,\n",
       " 0.8307692307692308,\n",
       " 0.833076923076923,\n",
       " 0.8338461538461538,\n",
       " 0.8323076923076923,\n",
       " 0.8323076923076923,\n",
       " 0.8353846153846154,\n",
       " 0.8361538461538461,\n",
       " 0.833076923076923,\n",
       " 0.8346153846153846,\n",
       " 0.8353846153846154,\n",
       " 0.8376923076923077,\n",
       " 0.8361538461538461,\n",
       " 0.8384615384615385,\n",
       " 0.8407692307692308,\n",
       " 0.8392307692307692,\n",
       " 0.8384615384615385,\n",
       " 0.84,\n",
       " 0.84,\n",
       " 0.8423076923076923,\n",
       " 0.8423076923076923,\n",
       " 0.8430769230769231,\n",
       " 0.8415384615384616,\n",
       " 0.8430769230769231,\n",
       " 0.8446153846153847,\n",
       " 0.8430769230769231,\n",
       " 0.8438461538461538,\n",
       " 0.8461538461538461,\n",
       " 0.8446153846153847,\n",
       " 0.8438461538461538,\n",
       " 0.8446153846153847,\n",
       " 0.8446153846153847,\n",
       " 0.8423076923076923,\n",
       " 0.8453846153846154,\n",
       " 0.8476923076923077,\n",
       " 0.8469230769230769,\n",
       " 0.8484615384615385,\n",
       " 0.8469230769230769,\n",
       " 0.85,\n",
       " 0.8507692307692307,\n",
       " 0.8507692307692307,\n",
       " 0.8515384615384616,\n",
       " 0.8507692307692307,\n",
       " 0.8530769230769231,\n",
       " 0.8492307692307692,\n",
       " 0.8523076923076923,\n",
       " 0.8546153846153847,\n",
       " 0.8523076923076923,\n",
       " 0.8530769230769231,\n",
       " 0.8515384615384616,\n",
       " 0.8538461538461538,\n",
       " 0.8538461538461538,\n",
       " 0.8515384615384616,\n",
       " 0.8530769230769231,\n",
       " 0.8553846153846154,\n",
       " 0.8569230769230769,\n",
       " 0.8553846153846154,\n",
       " 0.8553846153846154,\n",
       " 0.8553846153846154,\n",
       " 0.8530769230769231,\n",
       " 0.8530769230769231,\n",
       " 0.8507692307692307,\n",
       " 0.8530769230769231,\n",
       " 0.8546153846153847,\n",
       " 0.8530769230769231,\n",
       " 0.8530769230769231,\n",
       " 0.8515384615384616,\n",
       " 0.8515384615384616,\n",
       " 0.8523076923076923,\n",
       " 0.8538461538461538,\n",
       " 0.8530769230769231,\n",
       " 0.8530769230769231,\n",
       " 0.8561538461538462,\n",
       " 0.8561538461538462,\n",
       " 0.8538461538461538,\n",
       " 0.8538461538461538,\n",
       " 0.8546153846153847,\n",
       " 0.8569230769230769,\n",
       " 0.8546153846153847,\n",
       " 0.8530769230769231,\n",
       " 0.8584615384615385,\n",
       " 0.8569230769230769,\n",
       " 0.8561538461538462,\n",
       " 0.8553846153846154,\n",
       " 0.8561538461538462,\n",
       " 0.8592307692307692,\n",
       " 0.8561538461538462,\n",
       " 0.8584615384615385,\n",
       " 0.8576923076923076,\n",
       " 0.8576923076923076,\n",
       " 0.8569230769230769,\n",
       " 0.8561538461538462,\n",
       " 0.8561538461538462,\n",
       " 0.8592307692307692,\n",
       " 0.8576923076923076,\n",
       " 0.8576923076923076,\n",
       " 0.86,\n",
       " 0.8584615384615385,\n",
       " 0.8592307692307692,\n",
       " 0.8584615384615385,\n",
       " 0.86,\n",
       " 0.8576923076923076,\n",
       " 0.86,\n",
       " 0.8615384615384616,\n",
       " 0.86,\n",
       " 0.86,\n",
       " 0.8592307692307692,\n",
       " 0.8592307692307692,\n",
       " 0.8615384615384616,\n",
       " 0.8638461538461538,\n",
       " 0.86,\n",
       " 0.8615384615384616,\n",
       " 0.8607692307692307,\n",
       " 0.8607692307692307,\n",
       " 0.8623076923076923,\n",
       " 0.8623076923076923,\n",
       " 0.8630769230769231,\n",
       " 0.8615384615384616,\n",
       " 0.8615384615384616,\n",
       " 0.8615384615384616,\n",
       " 0.8623076923076923,\n",
       " 0.86,\n",
       " 0.8607692307692307,\n",
       " 0.8661538461538462,\n",
       " 0.8646153846153846,\n",
       " 0.86,\n",
       " 0.8630769230769231,\n",
       " 0.8630769230769231,\n",
       " 0.8638461538461538,\n",
       " 0.8646153846153846,\n",
       " 0.8653846153846154,\n",
       " 0.8653846153846154,\n",
       " 0.8646153846153846,\n",
       " 0.8669230769230769,\n",
       " 0.8646153846153846,\n",
       " 0.8638461538461538,\n",
       " 0.8653846153846154,\n",
       " 0.8646153846153846,\n",
       " 0.8646153846153846,\n",
       " 0.8630769230769231,\n",
       " 0.8653846153846154,\n",
       " 0.8638461538461538,\n",
       " 0.8653846153846154,\n",
       " 0.8684615384615385,\n",
       " 0.8653846153846154,\n",
       " 0.8653846153846154,\n",
       " 0.8653846153846154,\n",
       " 0.8661538461538462,\n",
       " 0.8676923076923077,\n",
       " 0.8661538461538462,\n",
       " 0.8646153846153846,\n",
       " 0.8630769230769231,\n",
       " 0.8692307692307693,\n",
       " 0.8684615384615385,\n",
       " 0.8653846153846154,\n",
       " 0.8684615384615385,\n",
       " 0.8707692307692307,\n",
       " 0.8676923076923077,\n",
       " 0.8684615384615385,\n",
       " 0.8692307692307693,\n",
       " 0.8669230769230769,\n",
       " 0.87,\n",
       " 0.87,\n",
       " 0.8723076923076923,\n",
       " 0.8723076923076923,\n",
       " 0.8730769230769231,\n",
       " 0.87,\n",
       " 0.8715384615384615,\n",
       " 0.8715384615384615,\n",
       " 0.8692307692307693,\n",
       " 0.8707692307692307,\n",
       " 0.87,\n",
       " 0.87,\n",
       " 0.8707692307692307,\n",
       " 0.8723076923076923,\n",
       " 0.8684615384615385,\n",
       " 0.87,\n",
       " 0.8707692307692307,\n",
       " 0.87,\n",
       " 0.87,\n",
       " 0.87,\n",
       " 0.87,\n",
       " 0.8723076923076923,\n",
       " 0.8738461538461538,\n",
       " 0.8730769230769231,\n",
       " 0.8738461538461538,\n",
       " 0.8715384615384615,\n",
       " 0.8707692307692307,\n",
       " 0.8723076923076923,\n",
       " 0.8730769230769231,\n",
       " 0.8761538461538462,\n",
       " 0.8715384615384615,\n",
       " 0.8769230769230769,\n",
       " 0.8715384615384615,\n",
       " 0.8753846153846154,\n",
       " 0.8746153846153846,\n",
       " 0.8746153846153846,\n",
       " 0.8738461538461538,\n",
       " 0.8753846153846154,\n",
       " 0.8738461538461538,\n",
       " 0.8723076923076923,\n",
       " 0.8761538461538462,\n",
       " 0.8746153846153846,\n",
       " 0.8769230769230769,\n",
       " 0.8723076923076923,\n",
       " 0.8746153846153846,\n",
       " 0.8738461538461538,\n",
       " 0.8746153846153846,\n",
       " 0.8753846153846154,\n",
       " 0.8746153846153846,\n",
       " 0.8746153846153846,\n",
       " 0.8761538461538462,\n",
       " 0.8753846153846154,\n",
       " 0.8761538461538462,\n",
       " 0.8769230769230769,\n",
       " 0.8738461538461538,\n",
       " 0.8761538461538462,\n",
       " 0.8746153846153846,\n",
       " 0.8761538461538462,\n",
       " 0.8792307692307693,\n",
       " 0.8807692307692307,\n",
       " 0.8746153846153846,\n",
       " 0.8753846153846154,\n",
       " 0.8723076923076923,\n",
       " 0.8761538461538462,\n",
       " 0.8769230769230769,\n",
       " 0.8792307692307693,\n",
       " 0.88,\n",
       " 0.8776923076923077,\n",
       " 0.8769230769230769,\n",
       " 0.88,\n",
       " 0.8792307692307693,\n",
       " 0.88,\n",
       " 0.8807692307692307,\n",
       " 0.88,\n",
       " 0.8776923076923077,\n",
       " 0.8761538461538462,\n",
       " 0.8761538461538462,\n",
       " 0.8761538461538462,\n",
       " 0.8746153846153846,\n",
       " 0.8769230769230769,\n",
       " 0.88,\n",
       " 0.8776923076923077,\n",
       " 0.8761538461538462,\n",
       " 0.8792307692307693,\n",
       " 0.88,\n",
       " 0.8776923076923077,\n",
       " 0.8761538461538462,\n",
       " 0.8769230769230769,\n",
       " 0.8792307692307693,\n",
       " 0.8761538461538462,\n",
       " 0.88,\n",
       " 0.8807692307692307,\n",
       " 0.8823076923076923,\n",
       " 0.8815384615384615,\n",
       " 0.8830769230769231,\n",
       " 0.8815384615384615,\n",
       " 0.8807692307692307,\n",
       " 0.8815384615384615,\n",
       " 0.8792307692307693,\n",
       " 0.8815384615384615,\n",
       " 0.8815384615384615,\n",
       " 0.8815384615384615,\n",
       " 0.8815384615384615,\n",
       " 0.8807692307692307,\n",
       " 0.8807692307692307,\n",
       " 0.8792307692307693,\n",
       " 0.8830769230769231,\n",
       " 0.88,\n",
       " 0.8815384615384615,\n",
       " 0.8807692307692307,\n",
       " 0.8792307692307693,\n",
       " 0.8823076923076923,\n",
       " 0.8838461538461538,\n",
       " 0.8838461538461538,\n",
       " 0.8823076923076923,\n",
       " 0.8830769230769231,\n",
       " 0.8823076923076923,\n",
       " 0.8815384615384615,\n",
       " 0.8830769230769231,\n",
       " 0.8838461538461538,\n",
       " 0.8846153846153846,\n",
       " 0.8823076923076923,\n",
       " 0.8846153846153846,\n",
       " 0.8838461538461538,\n",
       " 0.8861538461538462,\n",
       " 0.8838461538461538,\n",
       " 0.8846153846153846,\n",
       " 0.8853846153846154,\n",
       " 0.8869230769230769,\n",
       " 0.8838461538461538,\n",
       " 0.8846153846153846,\n",
       " 0.8853846153846154,\n",
       " 0.8846153846153846,\n",
       " 0.8869230769230769,\n",
       " 0.8838461538461538,\n",
       " 0.8861538461538462,\n",
       " 0.8838461538461538,\n",
       " 0.8861538461538462,\n",
       " 0.8853846153846154,\n",
       " 0.8884615384615384,\n",
       " 0.8869230769230769,\n",
       " 0.8838461538461538,\n",
       " 0.8853846153846154,\n",
       " 0.8861538461538462,\n",
       " 0.8861538461538462,\n",
       " 0.8861538461538462,\n",
       " 0.8876923076923077,\n",
       " 0.8861538461538462,\n",
       " 0.8884615384615384,\n",
       " 0.8861538461538462,\n",
       " 0.8876923076923077,\n",
       " 0.8861538461538462,\n",
       " 0.8876923076923077,\n",
       " 0.8876923076923077,\n",
       " 0.8853846153846154,\n",
       " 0.8876923076923077,\n",
       " 0.8884615384615384,\n",
       " 0.8876923076923077,\n",
       " 0.8853846153846154,\n",
       " 0.8869230769230769,\n",
       " 0.8869230769230769,\n",
       " 0.89,\n",
       " 0.8869230769230769,\n",
       " 0.8884615384615384,\n",
       " 0.8876923076923077,\n",
       " 0.8876923076923077,\n",
       " 0.8892307692307693,\n",
       " 0.8869230769230769,\n",
       " 0.8892307692307693,\n",
       " 0.8876923076923077,\n",
       " 0.8869230769230769,\n",
       " 0.8884615384615384,\n",
       " 0.8876923076923077,\n",
       " 0.8907692307692308,\n",
       " 0.8884615384615384,\n",
       " 0.89,\n",
       " 0.8876923076923077,\n",
       " 0.8892307692307693,\n",
       " 0.89,\n",
       " 0.8892307692307693,\n",
       " 0.8907692307692308,\n",
       " 0.8915384615384615,\n",
       " 0.8907692307692308,\n",
       " 0.89,\n",
       " 0.8892307692307693,\n",
       " 0.89,\n",
       " 0.8884615384615384,\n",
       " 0.8892307692307693,\n",
       " 0.8907692307692308,\n",
       " 0.8907692307692308,\n",
       " 0.89,\n",
       " 0.8907692307692308,\n",
       " 0.89,\n",
       " 0.8907692307692308,\n",
       " 0.8907692307692308,\n",
       " 0.89,\n",
       " 0.89,\n",
       " 0.89,\n",
       " 0.89,\n",
       " 0.8923076923076924,\n",
       " 0.8915384615384615,\n",
       " 0.8923076923076924,\n",
       " 0.8915384615384615,\n",
       " 0.8907692307692308,\n",
       " 0.8923076923076924,\n",
       " 0.8915384615384615,\n",
       " 0.8915384615384615,\n",
       " 0.8907692307692308,\n",
       " 0.8923076923076924,\n",
       " 0.8923076923076924,\n",
       " 0.8923076923076924,\n",
       " 0.8915384615384615,\n",
       " 0.8907692307692308,\n",
       " 0.8892307692307693,\n",
       " 0.8907692307692308,\n",
       " 0.8915384615384615,\n",
       " 0.89,\n",
       " 0.8915384615384615,\n",
       " 0.8915384615384615,\n",
       " 0.8923076923076924,\n",
       " 0.8907692307692308,\n",
       " 0.8923076923076924,\n",
       " 0.8907692307692308,\n",
       " 0.8907692307692308,\n",
       " 0.8907692307692308,\n",
       " 0.8915384615384615,\n",
       " 0.8907692307692308,\n",
       " 0.8907692307692308,\n",
       " 0.8907692307692308,\n",
       " 0.8907692307692308,\n",
       " 0.8884615384615384,\n",
       " 0.89,\n",
       " 0.89,\n",
       " 0.8961538461538462,\n",
       " 0.8930769230769231,\n",
       " 0.8961538461538462,\n",
       " 0.8923076923076924,\n",
       " 0.8938461538461538,\n",
       " 0.8923076923076924,\n",
       " 0.8915384615384615,\n",
       " 0.8915384615384615,\n",
       " 0.8938461538461538,\n",
       " 0.8915384615384615,\n",
       " 0.8915384615384615,\n",
       " 0.8930769230769231,\n",
       " 0.8892307692307693,\n",
       " 0.8892307692307693,\n",
       " 0.8930769230769231,\n",
       " 0.8930769230769231,\n",
       " 0.8930769230769231,\n",
       " 0.8946153846153846,\n",
       " 0.8946153846153846,\n",
       " 0.8953846153846153,\n",
       " 0.8938461538461538,\n",
       " 0.8946153846153846,\n",
       " 0.8938461538461538,\n",
       " 0.8923076923076924,\n",
       " 0.8946153846153846,\n",
       " 0.8953846153846153,\n",
       " 0.8923076923076924,\n",
       " 0.8946153846153846,\n",
       " 0.8938461538461538,\n",
       " 0.8946153846153846,\n",
       " 0.8953846153846153,\n",
       " 0.8961538461538462,\n",
       " 0.8946153846153846,\n",
       " 0.8938461538461538,\n",
       " 0.8953846153846153,\n",
       " 0.8953846153846153,\n",
       " 0.8946153846153846,\n",
       " 0.8930769230769231,\n",
       " 0.8915384615384615,\n",
       " 0.8930769230769231,\n",
       " 0.8923076923076924,\n",
       " 0.8930769230769231,\n",
       " 0.8923076923076924,\n",
       " 0.8938461538461538,\n",
       " 0.8961538461538462,\n",
       " 0.8946153846153846,\n",
       " 0.8938461538461538,\n",
       " 0.8938461538461538,\n",
       " 0.8953846153846153,\n",
       " 0.8946153846153846,\n",
       " 0.8915384615384615,\n",
       " 0.8907692307692308,\n",
       " 0.8923076923076924,\n",
       " 0.8946153846153846,\n",
       " 0.8938461538461538,\n",
       " 0.8930769230769231,\n",
       " 0.8915384615384615,\n",
       " 0.8946153846153846,\n",
       " 0.8938461538461538,\n",
       " 0.8953846153846153,\n",
       " 0.8930769230769231,\n",
       " 0.8969230769230769,\n",
       " 0.8984615384615384,\n",
       " 0.8969230769230769,\n",
       " 0.8946153846153846,\n",
       " 0.8946153846153846,\n",
       " 0.8946153846153846,\n",
       " 0.8961538461538462,\n",
       " 0.8938461538461538,\n",
       " 0.8938461538461538,\n",
       " 0.8953846153846153,\n",
       " 0.8961538461538462,\n",
       " 0.8938461538461538,\n",
       " 0.8961538461538462,\n",
       " 0.8961538461538462,\n",
       " 0.8938461538461538,\n",
       " 0.8946153846153846,\n",
       " 0.8923076923076924,\n",
       " 0.8984615384615384,\n",
       " 0.8969230769230769,\n",
       " 0.8938461538461538,\n",
       " 0.8930769230769231,\n",
       " 0.8915384615384615,\n",
       " 0.8961538461538462,\n",
       " 0.8938461538461538,\n",
       " 0.8969230769230769,\n",
       " 0.8946153846153846,\n",
       " 0.8930769230769231,\n",
       " 0.8923076923076924,\n",
       " 0.8923076923076924,\n",
       " 0.8969230769230769,\n",
       " 0.8992307692307693,\n",
       " 0.8930769230769231,\n",
       " 0.8930769230769231,\n",
       " 0.8915384615384615,\n",
       " 0.8938461538461538,\n",
       " 0.8961538461538462,\n",
       " 0.8953846153846153,\n",
       " 0.8953846153846153,\n",
       " 0.8976923076923077,\n",
       " 0.8946153846153846,\n",
       " 0.8969230769230769,\n",
       " 0.8976923076923077,\n",
       " 0.8961538461538462,\n",
       " 0.8976923076923077,\n",
       " 0.8969230769230769,\n",
       " 0.8976923076923077,\n",
       " 0.8984615384615384,\n",
       " 0.8976923076923077,\n",
       " 0.8946153846153846,\n",
       " 0.8969230769230769,\n",
       " 0.8953846153846153,\n",
       " 0.8961538461538462,\n",
       " 0.8969230769230769,\n",
       " 0.8953846153846153,\n",
       " 0.8976923076923077,\n",
       " 0.8969230769230769,\n",
       " 0.8961538461538462,\n",
       " 0.8961538461538462,\n",
       " 0.8938461538461538,\n",
       " 0.8984615384615384,\n",
       " 0.8961538461538462,\n",
       " 0.8992307692307693,\n",
       " 0.9,\n",
       " 0.8984615384615384,\n",
       " 0.8969230769230769,\n",
       " 0.8969230769230769,\n",
       " 0.8984615384615384,\n",
       " 0.8976923076923077,\n",
       " 0.8961538461538462,\n",
       " 0.8969230769230769,\n",
       " 0.8984615384615384,\n",
       " 0.8946153846153846,\n",
       " 0.8961538461538462,\n",
       " 0.8976923076923077,\n",
       " 0.8961538461538462,\n",
       " 0.8953846153846153,\n",
       " 0.8953846153846153,\n",
       " 0.8961538461538462,\n",
       " 0.8992307692307693,\n",
       " 0.8961538461538462,\n",
       " 0.8976923076923077,\n",
       " 0.8984615384615384,\n",
       " 0.8938461538461538,\n",
       " 0.8976923076923077,\n",
       " 0.8992307692307693,\n",
       " 0.8969230769230769,\n",
       " 0.8953846153846153,\n",
       " 0.8961538461538462,\n",
       " 0.8976923076923077,\n",
       " 0.8984615384615384,\n",
       " 0.8953846153846153,\n",
       " 0.8984615384615384,\n",
       " 0.8984615384615384,\n",
       " 0.8984615384615384,\n",
       " 0.8984615384615384,\n",
       " 0.8953846153846153,\n",
       " 0.8976923076923077,\n",
       " 0.8969230769230769,\n",
       " 0.8976923076923077,\n",
       " 0.8992307692307693,\n",
       " 0.8992307692307693,\n",
       " 0.8961538461538462,\n",
       " 0.8961538461538462,\n",
       " 0.8976923076923077,\n",
       " 0.8969230769230769,\n",
       " 0.8976923076923077,\n",
       " 0.8961538461538462,\n",
       " 0.8953846153846153,\n",
       " 0.8969230769230769,\n",
       " 0.8984615384615384,\n",
       " 0.8984615384615384,\n",
       " 0.8992307692307693,\n",
       " 0.8992307692307693,\n",
       " 0.8992307692307693,\n",
       " 0.8961538461538462,\n",
       " 0.8953846153846153,\n",
       " 0.8984615384615384,\n",
       " 0.8969230769230769,\n",
       " 0.8961538461538462,\n",
       " 0.8992307692307693,\n",
       " 0.8961538461538462,\n",
       " 0.8969230769230769,\n",
       " 0.8984615384615384,\n",
       " 0.8984615384615384,\n",
       " 0.8992307692307693,\n",
       " 0.9,\n",
       " 0.8992307692307693,\n",
       " 0.9,\n",
       " 0.8984615384615384,\n",
       " 0.8984615384615384,\n",
       " 0.8976923076923077,\n",
       " 0.8984615384615384,\n",
       " 0.8984615384615384,\n",
       " 0.8984615384615384,\n",
       " 0.8969230769230769,\n",
       " 0.8961538461538462,\n",
       " 0.8969230769230769,\n",
       " 0.8984615384615384,\n",
       " 0.8992307692307693,\n",
       " 0.8992307692307693,\n",
       " 0.9015384615384615,\n",
       " 0.8992307692307693,\n",
       " 0.9007692307692308,\n",
       " 0.8992307692307693,\n",
       " 0.8984615384615384,\n",
       " 0.8976923076923077,\n",
       " 0.8976923076923077,\n",
       " 0.8976923076923077,\n",
       " 0.9,\n",
       " 0.8976923076923077,\n",
       " 0.8992307692307693,\n",
       " 0.8961538461538462,\n",
       " 0.9007692307692308,\n",
       " 0.9,\n",
       " 0.8984615384615384,\n",
       " 0.8961538461538462,\n",
       " 0.9,\n",
       " 0.8969230769230769,\n",
       " 0.8992307692307693,\n",
       " 0.9007692307692308,\n",
       " 0.9023076923076923,\n",
       " 0.9023076923076923,\n",
       " 0.8992307692307693,\n",
       " 0.8984615384615384,\n",
       " 0.9,\n",
       " 0.8976923076923077,\n",
       " 0.8976923076923077,\n",
       " 0.8984615384615384,\n",
       " 0.8984615384615384,\n",
       " 0.8984615384615384,\n",
       " 0.8976923076923077,\n",
       " 0.8976923076923077,\n",
       " 0.8992307692307693,\n",
       " 0.8984615384615384,\n",
       " 0.8976923076923077,\n",
       " 0.8976923076923077,\n",
       " 0.8976923076923077,\n",
       " 0.9,\n",
       " 0.8984615384615384,\n",
       " 0.9015384615384615,\n",
       " 0.9015384615384615,\n",
       " 0.9,\n",
       " 0.8992307692307693,\n",
       " 0.8976923076923077,\n",
       " 0.8976923076923077,\n",
       " 0.8992307692307693,\n",
       " 0.8984615384615384,\n",
       " 0.8992307692307693,\n",
       " 0.9007692307692308,\n",
       " 0.8984615384615384,\n",
       " 0.9007692307692308,\n",
       " 0.9,\n",
       " 0.8992307692307693,\n",
       " 0.9,\n",
       " 0.9,\n",
       " 0.9,\n",
       " 0.8992307692307693,\n",
       " 0.9,\n",
       " 0.9007692307692308,\n",
       " 0.8984615384615384,\n",
       " 0.8984615384615384,\n",
       " 0.9,\n",
       " 0.9,\n",
       " 0.9007692307692308,\n",
       " 0.8992307692307693,\n",
       " 0.9007692307692308,\n",
       " 0.9007692307692308,\n",
       " 0.8984615384615384,\n",
       " 0.8976923076923077,\n",
       " 0.9,\n",
       " 0.9,\n",
       " 0.9015384615384615,\n",
       " 0.9023076923076923,\n",
       " 0.9015384615384615,\n",
       " 0.9007692307692308,\n",
       " 0.9023076923076923,\n",
       " 0.9015384615384615,\n",
       " 0.9023076923076923,\n",
       " 0.9015384615384615,\n",
       " 0.9015384615384615,\n",
       " 0.9023076923076923,\n",
       " 0.9007692307692308,\n",
       " 0.9015384615384615,\n",
       " 0.9023076923076923,\n",
       " 0.9007692307692308,\n",
       " 0.9,\n",
       " 0.9023076923076923,\n",
       " 0.9015384615384615,\n",
       " 0.9015384615384615,\n",
       " 0.9007692307692308,\n",
       " 0.9023076923076923,\n",
       " 0.9023076923076923,\n",
       " 0.9015384615384615,\n",
       " 0.9015384615384615,\n",
       " 0.9015384615384615,\n",
       " 0.9007692307692308,\n",
       " 0.9023076923076923,\n",
       " 0.8992307692307693,\n",
       " 0.9015384615384615,\n",
       " 0.9007692307692308,\n",
       " 0.9015384615384615,\n",
       " 0.9023076923076923,\n",
       " 0.9023076923076923,\n",
       " 0.9,\n",
       " 0.9023076923076923,\n",
       " 0.9007692307692308,\n",
       " 0.9015384615384615,\n",
       " 0.8992307692307693,\n",
       " 0.9023076923076923,\n",
       " 0.9015384615384615,\n",
       " 0.9015384615384615,\n",
       " 0.9015384615384615,\n",
       " 0.9015384615384615,\n",
       " 0.9015384615384615,\n",
       " 0.9015384615384615,\n",
       " 0.9015384615384615,\n",
       " 0.9007692307692308,\n",
       " 0.9,\n",
       " 0.9,\n",
       " 0.9,\n",
       " 0.9030769230769231,\n",
       " 0.9007692307692308,\n",
       " 0.9015384615384615,\n",
       " 0.9015384615384615,\n",
       " 0.9015384615384615,\n",
       " 0.9030769230769231,\n",
       " 0.9023076923076923,\n",
       " 0.9023076923076923,\n",
       " 0.9023076923076923,\n",
       " 0.9015384615384615,\n",
       " 0.9015384615384615,\n",
       " 0.9007692307692308,\n",
       " 0.9015384615384615,\n",
       " 0.9007692307692308,\n",
       " 0.9015384615384615,\n",
       " 0.9015384615384615,\n",
       " 0.9015384615384615,\n",
       " 0.9015384615384615,\n",
       " 0.9015384615384615,\n",
       " 0.9023076923076923,\n",
       " 0.9015384615384615,\n",
       " 0.9015384615384615,\n",
       " ...]"
      ]
     },
     "execution_count": 18,
     "metadata": {},
     "output_type": "execute_result"
    }
   ],
   "source": [
    "ml.val_score_lst"
   ]
  },
  {
   "cell_type": "code",
   "execution_count": 5,
   "metadata": {},
   "outputs": [
    {
     "name": "stdout",
     "output_type": "stream",
     "text": [
      "**************************************************\n",
      "Training MLP model with 1 neurons in hidden layer:\n",
      "Trained in 3.28 minutes\n",
      "Test Accuracy : 3.85 %\n",
      "Test Accuracy : 3.85 %\n",
      "\n",
      "\n",
      "**************************************************\n",
      "Training MLP model with 5 neurons in hidden layer:\n",
      "Trained in 3.41 minutes\n",
      "Test Accuracy : 24.14 %\n",
      "Test Accuracy : 24.49 %\n",
      "\n",
      "\n",
      "**************************************************\n",
      "Training MLP model with 10 neurons in hidden layer:\n",
      "Trained in 3.52 minutes\n",
      "Test Accuracy : 65.25 %\n",
      "Test Accuracy : 68.62 %\n",
      "\n",
      "\n",
      "**************************************************\n",
      "Training MLP model with 50 neurons in hidden layer:\n",
      "Trained in 4.41 minutes\n",
      "Test Accuracy : 89.12 %\n",
      "Test Accuracy : 95.60 %\n",
      "\n",
      "\n",
      "**************************************************\n",
      "Training MLP model with 100 neurons in hidden layer:\n",
      "Trained in 5.41 minutes\n",
      "Test Accuracy : 90.66 %\n",
      "Test Accuracy : 96.85 %\n",
      "\n",
      "\n"
     ]
    }
   ],
   "source": [
    "n_neurons_lst = [1,5,10,50,100]\n",
    "for n_neurons in n_neurons_lst:\n",
    "    print('*'*50)\n",
    "    print('Training MLP model with %d neurons in hidden layer:'%(n_neurons))\n",
    "    ml=MLP(layers=[n_neurons], batch_size=100, activation_fn='sigmoid', max_epoch=2000,\\\n",
    "       lr=0.1)\n",
    "    t0=time()\n",
    "    ml.fit(X_train, Y_train)\n",
    "    print('Trained in %.2f minutes'%((time()-t0)/60))\n",
    "    print('Test Accuracy : %.2f %c'%(ml.score(X_test, Y_test)*100,'%'))\n",
    "    print('Train Accuracy : %.2f %c'%(ml.score(X_train, Y_train)*100,'%'))\n",
    "    print('\\n')"
   ]
  },
  {
   "cell_type": "code",
   "execution_count": 6,
   "metadata": {
    "scrolled": false
   },
   "outputs": [
    {
     "name": "stdout",
     "output_type": "stream",
     "text": [
      "**************************************************\n",
      "Training MLP model with 1 neurons in hidden layer:\n",
      "Trained in 3.20 minutes\n",
      "Test Accuracy : 3.85 %\n",
      "Test Accuracy : 3.85 %\n",
      "\n",
      "\n",
      "**************************************************\n",
      "Training MLP model with 5 neurons in hidden layer:\n",
      "Trained in 3.30 minutes\n",
      "Test Accuracy : 4.17 %\n",
      "Test Accuracy : 4.04 %\n",
      "\n",
      "\n",
      "**************************************************\n",
      "Training MLP model with 10 neurons in hidden layer:\n",
      "Trained in 3.50 minutes\n",
      "Test Accuracy : 7.97 %\n",
      "Test Accuracy : 7.80 %\n",
      "\n",
      "\n",
      "**************************************************\n",
      "Training MLP model with 50 neurons in hidden layer:\n",
      "Trained in 4.46 minutes\n",
      "Test Accuracy : 85.37 %\n",
      "Test Accuracy : 88.85 %\n",
      "\n",
      "\n",
      "**************************************************\n",
      "Training MLP model with 100 neurons in hidden layer:\n",
      "Trained in 5.51 minutes\n",
      "Test Accuracy : 86.35 %\n",
      "Test Accuracy : 89.85 %\n",
      "\n",
      "\n"
     ]
    }
   ],
   "source": [
    "n_neurons_lst = [1,5,10,50,100]\n",
    "for n_neurons in n_neurons_lst:\n",
    "    print('*'*50)\n",
    "    print('Training MLP model with %d neurons in hidden layer:'%(n_neurons))\n",
    "    ml=MLP(layers=[n_neurons], batch_size=100, activation_fn='sigmoid', max_epoch=2000,\\\n",
    "       lr=0.5, adaptive_lr=True)\n",
    "    t0=time()\n",
    "    ml.fit(X_train, Y_train)\n",
    "    print('Trained in %.2f minutes'%((time()-t0)/60))\n",
    "    print('Test Accuracy : %.2f %c'%(ml.score(X_test, Y_test),'%'))\n",
    "    print('Test Accuracy : %.2f %c'%(ml.score(X_train, Y_train),'%'))\n",
    "    print('\\n')"
   ]
  },
  {
   "cell_type": "code",
   "execution_count": 7,
   "metadata": {},
   "outputs": [
    {
     "name": "stdout",
     "output_type": "stream",
     "text": [
      "Trained in 9.58 minutes\n",
      "Test Accuracy : 84.83 %\n",
      "Test Accuracy : 90.24 %\n"
     ]
    }
   ],
   "source": [
    "ml=MLP(layers=[100,100], batch_size=100, activation_fn='relu', max_epoch=3000,\\\n",
    "       lr=0.5, adaptive_lr=True)\n",
    "t0=time()\n",
    "ml.fit(X_train, Y_train)\n",
    "print('Trained in %.2f minutes'%((time()-t0)/60))\n",
    "print('Test Accuracy : %.2f %c'%(ml.score(X_test, Y_test),'%'))\n",
    "print('Test Accuracy : %.2f %c'%(ml.score(X_train, Y_train),'%'))"
   ]
  },
  {
   "cell_type": "code",
   "execution_count": 14,
   "metadata": {},
   "outputs": [
    {
     "name": "stdout",
     "output_type": "stream",
     "text": [
      "Trained in 6.53 minutes\n",
      "Test Accuracy : 3.85 %\n",
      "Test Accuracy : 3.85 %\n"
     ]
    }
   ],
   "source": [
    "ml=MLP(layers=[100,100], batch_size=100, activation_fn='sigmoid', max_epoch=2000,\\\n",
    "       lr=0.5, adaptive_lr=True)\n",
    "t0=time()\n",
    "ml.fit(X_train, Y_train)\n",
    "print('Trained in %.2f minutes'%((time()-t0)/60))\n",
    "print('Test Accuracy : %.2f %c'%(ml.score(X_test, Y_test),'%'))\n",
    "print('Test Accuracy : %.2f %c'%(ml.score(X_train, Y_train),'%'))"
   ]
  },
  {
   "cell_type": "code",
   "execution_count": null,
   "metadata": {},
   "outputs": [
    {
     "name": "stdout",
     "output_type": "stream",
     "text": [
      "**************************************************\n",
      "Training MLP model with 1 neurons in hidden layer:\n",
      "Trained in 2.38 minutes\n",
      "Test Accuracy : 3.85 %\n",
      "Test Accuracy : 3.85 %\n",
      "\n",
      "\n",
      "**************************************************\n",
      "Training MLP model with 5 neurons in hidden layer:\n",
      "Trained in 2.49 minutes\n",
      "Test Accuracy : 14.65 %\n",
      "Test Accuracy : 14.98 %\n",
      "\n",
      "\n",
      "**************************************************\n",
      "Training MLP model with 10 neurons in hidden layer:\n",
      "Trained in 2.53 minutes\n",
      "Test Accuracy : 46.58 %\n",
      "Test Accuracy : 48.54 %\n",
      "\n",
      "\n",
      "**************************************************\n",
      "Training MLP model with 50 neurons in hidden layer:\n"
     ]
    }
   ],
   "source": [
    "n_neurons_lst = [1,5,10,50,100]\n",
    "for n_neurons in n_neurons_lst:\n",
    "    print('*'*50)\n",
    "    print('Training MLP model with %d neurons in hidden layer:'%(n_neurons))\n",
    "    ml=MLP(layers=[n_neurons], batch_size=100, activation_fn='sigmoid', max_epoch=1500,\\\n",
    "       lr=0.1)\n",
    "    t0=time()\n",
    "    ml.fit(X_train, Y_train)\n",
    "    print('Trained in %.2f minutes'%((time()-t0)/60))\n",
    "    print('Test Accuracy : %.2f %c'%(ml.score(X_test, Y_test),'%'))\n",
    "    print('Test Accuracy : %.2f %c'%(ml.score(X_train, Y_train),'%'))\n",
    "    print('\\n')"
   ]
  },
  {
   "cell_type": "code",
   "execution_count": null,
   "metadata": {},
   "outputs": [],
   "source": []
  },
  {
   "cell_type": "code",
   "execution_count": null,
   "metadata": {},
   "outputs": [],
   "source": []
  },
  {
   "cell_type": "code",
   "execution_count": null,
   "metadata": {},
   "outputs": [],
   "source": []
  },
  {
   "cell_type": "code",
   "execution_count": null,
   "metadata": {},
   "outputs": [],
   "source": []
  },
  {
   "cell_type": "code",
   "execution_count": null,
   "metadata": {},
   "outputs": [],
   "source": []
  },
  {
   "cell_type": "code",
   "execution_count": null,
   "metadata": {},
   "outputs": [],
   "source": []
  },
  {
   "cell_type": "code",
   "execution_count": null,
   "metadata": {},
   "outputs": [
    {
     "name": "stderr",
     "output_type": "stream",
     "text": [
      "  6%|▋         | 127/2000 [00:20<05:06,  6.11it/s]"
     ]
    }
   ],
   "source": [
    "ml=MLP(layers=[100], batch_size=100, activation_fn='sigmoid', max_epoch=2000,\\\n",
    "       lr=0.1, tol=1e-5, n_iter_no_change=2, n_iter_avg=1000)\n",
    "ml.fit(X_train, Y_train)\n",
    "print('Test Accuracy : %.2f %c'%(ml.score(X_test, Y_test),'%'))\n",
    "print('Test Accuracy : %.2f %c'%(ml.score(X_train, Y_train),'%'))"
   ]
  },
  {
   "cell_type": "code",
   "execution_count": 5,
   "metadata": {},
   "outputs": [
    {
     "name": "stderr",
     "output_type": "stream",
     "text": [
      " 48%|████▊     | 960/2000 [02:48<03:02,  5.70it/s]"
     ]
    },
    {
     "name": "stdout",
     "output_type": "stream",
     "text": [
      "Converged in 960 epochs\n",
      "Test Accuracy : 89.11 %\n",
      "Test Accuracy : 94.11 %\n"
     ]
    },
    {
     "name": "stderr",
     "output_type": "stream",
     "text": [
      "\n"
     ]
    }
   ],
   "source": [
    "ml=MLP(layers=[100], batch_size=100, activation_fn='sigmoid', max_epoch=2000,\\\n",
    "       lr=0.1, tol=1e-3, n_iter_no_change=3, n_iter_avg=1000)\n",
    "ml.fit(X_train, Y_train)\n",
    "print('Test Accuracy : %.2f %c'%(ml.score(X_test, Y_test),'%'))\n",
    "print('Test Accuracy : %.2f %c'%(ml.score(X_train, Y_train),'%'))"
   ]
  },
  {
   "cell_type": "code",
   "execution_count": 5,
   "metadata": {},
   "outputs": [
    {
     "name": "stderr",
     "output_type": "stream",
     "text": [
      "100%|██████████| 2000/2000 [05:22<00:00,  6.20it/s]\n"
     ]
    },
    {
     "name": "stdout",
     "output_type": "stream",
     "text": [
      "Test Accuracy : 89.12 %\n",
      "Test Accuracy : 95.60 %\n"
     ]
    }
   ],
   "source": [
    "ml=MLP(layers=[50], batch_size=100, activation_fn='sigmoid', max_epoch=2000,\\\n",
    "       lr=0.1, tol=1e-3, n_iter_no_change=3, n_iter_avg=1000)\n",
    "ml.fit(X_train, Y_train)\n",
    "print('Test Accuracy : %.2f %c'%(ml.score(X_test, Y_test),'%'))\n",
    "print('Test Accuracy : %.2f %c'%(ml.score(X_train, Y_train),'%'))"
   ]
  },
  {
   "cell_type": "code",
   "execution_count": 46,
   "metadata": {},
   "outputs": [
    {
     "name": "stderr",
     "output_type": "stream",
     "text": [
      "100%|██████████| 2000/2000 [04:03<00:00,  8.20it/s]"
     ]
    },
    {
     "name": "stdout",
     "output_type": "stream",
     "text": [
      "Test Accuracy : 69.40 %\n",
      "Test Accuracy : 74.74 %\n"
     ]
    },
    {
     "name": "stderr",
     "output_type": "stream",
     "text": [
      "\n"
     ]
    }
   ],
   "source": [
    "ml=MLP(layers=[10], batch_size=100, activation_fn='sigmoid', max_epoch=2000,\\\n",
    "       lr=0.1, tol=1e-7, n_iter_no_change=2, n_iter_avg=100)\n",
    "ml.fit(X_train, Y_train)\n",
    "print('Test Accuracy : %.2f %c'%(ml.score(X_test, Y_test),'%'))\n",
    "print('Test Accuracy : %.2f %c'%(ml.score(X_train, Y_train),'%'))"
   ]
  },
  {
   "cell_type": "code",
   "execution_count": 15,
   "metadata": {},
   "outputs": [
    {
     "name": "stderr",
     "output_type": "stream",
     "text": [
      "  4%|▍         | 80/2000 [00:08<03:12, 10.00it/s]"
     ]
    },
    {
     "name": "stdout",
     "output_type": "stream",
     "text": [
      "Converged in 80 epochs\n",
      "Test Accuracy : 3.85 %\n",
      "Test Accuracy : 3.85 %\n"
     ]
    },
    {
     "name": "stderr",
     "output_type": "stream",
     "text": [
      "\n"
     ]
    }
   ],
   "source": [
    "ml=MLP(layers=[10], batch_size=100, activation_fn='sigmoid', max_epoch=2000,\\\n",
    "       lr=0.1, tol=1e-3, n_iter_no_change=3, n_iter_avg=100)\n",
    "ml.fit(X_train, Y_train)\n",
    "print('Test Accuracy : %.2f %c'%(ml.score(X_test, Y_test),'%'))\n",
    "print('Test Accuracy : %.2f %c'%(ml.score(X_train, Y_train),'%'))"
   ]
  },
  {
   "cell_type": "code",
   "execution_count": 56,
   "metadata": {},
   "outputs": [
    {
     "name": "stderr",
     "output_type": "stream",
     "text": [
      "100%|██████████| 2000/2000 [03:59<00:00,  8.35it/s]"
     ]
    },
    {
     "name": "stdout",
     "output_type": "stream",
     "text": [
      "Test Accuracy : 71.72 %\n",
      "Test Accuracy : 77.61 %\n"
     ]
    },
    {
     "name": "stderr",
     "output_type": "stream",
     "text": [
      "\n"
     ]
    }
   ],
   "source": [
    "\n",
    "ml=MLP(layers=[10], batch_size=100, activation_fn='sigmoid', max_epoch=2000,\\\n",
    "       lr=0.1, tol=1e-6, n_iter_no_change=5, n_iter_avg=100)\n",
    "ml.fit(X_train, Y_train)\n",
    "print('Test Accuracy : %.2f %c'%(ml.score(X_test, Y_test),'%'))\n",
    "print('Test Accuracy : %.2f %c'%(ml.score(X_train, Y_train),'%'))"
   ]
  },
  {
   "cell_type": "code",
   "execution_count": 57,
   "metadata": {},
   "outputs": [
    {
     "data": {
      "text/plain": [
       "0.17900800009948717"
      ]
     },
     "execution_count": 57,
     "metadata": {},
     "output_type": "execute_result"
    }
   ],
   "source": [
    "ml.loss_lst[-1]"
   ]
  },
  {
   "cell_type": "code",
   "execution_count": 58,
   "metadata": {},
   "outputs": [
    {
     "data": {
      "image/png": "[encoded data removed]",
      "text/plain": [
       "<Figure size 1152x648 with 1 Axes>"
      ]
     },
     "metadata": {
      "needs_background": "light"
     },
     "output_type": "display_data"
    }
   ],
   "source": [
    "plt.figure(figsize=(16,9))\n",
    "plt.plot(range(len(ml.loss_lst)), ml.loss_lst)\n",
    "plt.show()"
   ]
  },
  {
   "cell_type": "code",
   "execution_count": 17,
   "metadata": {},
   "outputs": [
    {
     "name": "stderr",
     "output_type": "stream",
     "text": [
      " 31%|███       | 620/2000 [01:02<02:18,  9.97it/s]"
     ]
    },
    {
     "name": "stdout",
     "output_type": "stream",
     "text": [
      "Converged in 620 epochs\n",
      "Test Accuracy : 6.03 %\n",
      "Test Accuracy : 6.38 %\n"
     ]
    },
    {
     "name": "stderr",
     "output_type": "stream",
     "text": [
      "\n"
     ]
    }
   ],
   "source": [
    "ml=MLP(layers=[5], batch_size=100, activation_fn='sigmoid', max_epoch=2000,\\\n",
    "       lr=0.1, tol=1e-3, n_iter_no_change=30, n_iter_avg=1000)\n",
    "ml.fit(X_train, Y_train)\n",
    "print('Test Accuracy : %.2f %c'%(ml.score(X_test, Y_test),'%'))\n",
    "print('Test Accuracy : %.2f %c'%(ml.score(X_train, Y_train),'%'))"
   ]
  },
  {
   "cell_type": "code",
   "execution_count": 12,
   "metadata": {},
   "outputs": [
    {
     "name": "stderr",
     "output_type": "stream",
     "text": [
      "100%|██████████| 2000/2000 [03:17<00:00, 10.15it/s]\n"
     ]
    },
    {
     "name": "stdout",
     "output_type": "stream",
     "text": [
      "Test Accuracy : 3.85 %\n",
      "Test Accuracy : 3.85 %\n"
     ]
    }
   ],
   "source": [
    "ml=MLP(layers=[1], batch_size=100, activation_fn='sigmoid', max_epoch=2000,\\\n",
    "       lr=0.1, tol=1e-40, n_iter_no_change=2, n_iter_avg=1000)\n",
    "ml.fit(X_train, Y_train)\n",
    "print('Test Accuracy : %.2f %c'%(ml.score(X_test, Y_test),'%'))\n",
    "print('Test Accuracy : %.2f %c'%(ml.score(X_train, Y_train),'%'))"
   ]
  },
  {
   "cell_type": "code",
   "execution_count": 24,
   "metadata": {},
   "outputs": [
    {
     "name": "stderr",
     "output_type": "stream",
     "text": [
      "100%|██████████| 2000/2000 [04:24<00:00,  7.55it/s]"
     ]
    },
    {
     "name": "stdout",
     "output_type": "stream",
     "text": [
      "88.64615384615385\n"
     ]
    },
    {
     "name": "stderr",
     "output_type": "stream",
     "text": [
      "\n"
     ]
    }
   ],
   "source": [
    "ml=MLP(layers=[50], batch_size=100, activation_fn='sigmoid', max_epoch=2000,\\\n",
    "       lr=0.1, tol=1e-6, n_iter_no_change=1)\n",
    "ml.fit(X_train, Y_train)\n",
    "ml.score(X_test, Y_test)"
   ]
  },
  {
   "cell_type": "code",
   "execution_count": 28,
   "metadata": {},
   "outputs": [
    {
     "name": "stderr",
     "output_type": "stream",
     "text": [
      " 55%|█████▍    | 1092/2000 [02:58<02:28,  6.11it/s]"
     ]
    },
    {
     "name": "stdout",
     "output_type": "stream",
     "text": [
      "Converged in 1092 epoches\n",
      "89.92307692307692\n"
     ]
    },
    {
     "name": "stderr",
     "output_type": "stream",
     "text": [
      "\n"
     ]
    }
   ],
   "source": []
  },
  {
   "cell_type": "code",
   "execution_count": 22,
   "metadata": {},
   "outputs": [
    {
     "name": "stdout",
     "output_type": "stream",
     "text": [
      "96.3\n"
     ]
    }
   ],
   "source": [
    "ml.score(X_train, Y_train)"
   ]
  },
  {
   "cell_type": "code",
   "execution_count": 7,
   "metadata": {},
   "outputs": [
    {
     "data": {
      "text/plain": [
       "MLP(input_size=784, layers=[50], output_size=26,\n",
       "    batch_size=100, lr=0.1, adaptive_lr=False, activation_fn=sigmoid,\n",
       "    tol=0.0001, n_iter_no_change=10, max_epoch=2000)"
      ]
     },
     "execution_count": 7,
     "metadata": {},
     "output_type": "execute_result"
    }
   ],
   "source": [
    "ml"
   ]
  },
  {
   "cell_type": "code",
   "execution_count": 49,
   "metadata": {},
   "outputs": [],
   "source": [
    "lst=[]\n",
    "check_after_iter = 100\n",
    "for i in range(0,len(ml.loss_lst),check_after_iter):\n",
    "    lst.append(np.sum(ml.loss_lst[i:i+check_after_iter])/check_after_iter)"
   ]
  },
  {
   "cell_type": "code",
   "execution_count": 50,
   "metadata": {},
   "outputs": [
    {
     "data": {
      "text/plain": [
       "[<matplotlib.lines.Line2D at 0x7fec2ffffad0>]"
      ]
     },
     "execution_count": 50,
     "metadata": {},
     "output_type": "execute_result"
    },
    {
     "data": {
      "image/png": "[encoded data removed]",
      "text/plain": [
       "<Figure size 1152x648 with 1 Axes>"
      ]
     },
     "metadata": {
      "needs_background": "light"
     },
     "output_type": "display_data"
    }
   ],
   "source": [
    "plt.figure(figsize=(16,9))\n",
    "plt.plot(range(len(lst)), lst)"
   ]
  },
  {
   "cell_type": "code",
   "execution_count": 53,
   "metadata": {},
   "outputs": [
    {
     "name": "stderr",
     "output_type": "stream",
     "text": [
      " 73%|███████▎  | 1465/2000 [03:51<01:24,  6.34it/s]"
     ]
    },
    {
     "name": "stdout",
     "output_type": "stream",
     "text": [
      "converged\n",
      "91.43076923076923\n"
     ]
    },
    {
     "name": "stderr",
     "output_type": "stream",
     "text": [
      "\n"
     ]
    }
   ],
   "source": [
    "ml=MLP(layers=[100], batch_size=100, activation_fn='relu', max_epoch=2000, lr=0.1)\n",
    "ml.fit(X_train, Y_train)\n",
    "ml.score(X_test, Y_test)"
   ]
  },
  {
   "cell_type": "code",
   "execution_count": 54,
   "metadata": {},
   "outputs": [
    {
     "name": "stdout",
     "output_type": "stream",
     "text": [
      "97.62307692307692\n"
     ]
    }
   ],
   "source": [
    "ml.score(X_train, Y_train)"
   ]
  },
  {
   "cell_type": "code",
   "execution_count": 23,
   "metadata": {},
   "outputs": [
    {
     "data": {
      "text/plain": [
       "MLP(input_size=784, layers=[100], output_size=26,\n",
       "    batch_size=100, lr=0.1, adaptive_lr=False, activation_fn=relu,\n",
       "    tol=0.0001, n_iter_no_change=10, max_epoch=2000)"
      ]
     },
     "execution_count": 23,
     "metadata": {},
     "output_type": "execute_result"
    }
   ],
   "source": [
    "ml"
   ]
  },
  {
   "cell_type": "code",
   "execution_count": 55,
   "metadata": {},
   "outputs": [
    {
     "name": "stderr",
     "output_type": "stream",
     "text": [
      "  4%|▎         | 73/2000 [00:07<03:05, 10.39it/s]"
     ]
    },
    {
     "name": "stdout",
     "output_type": "stream",
     "text": [
      "converged\n",
      "3.830769230769231\n"
     ]
    },
    {
     "name": "stderr",
     "output_type": "stream",
     "text": [
      "\n"
     ]
    }
   ],
   "source": [
    "ml=MLP(layers=[1], batch_size=100, activation_fn='sigmoid', max_epoch=2000, lr=0.1, n_iter_no_change=10000)\n",
    "ml.fit(X_train, Y_train)\n",
    "ml.score(X_test, Y_test)"
   ]
  },
  {
   "cell_type": "code",
   "execution_count": null,
   "metadata": {},
   "outputs": [],
   "source": [
    "class sigmoid:\n",
    "    def f(x):\n",
    "        return 1/(1+np.exp(-1*x))\n",
    "    def df(x):\n",
    "        return x*(1-x)\n",
    "#         return sigmoid.f(x)*(1-sigmoid.f(x))\n",
    "    \n",
    "class ReLU:\n",
    "    def f(x):\n",
    "        x_=x.copy()\n",
    "        x_[x_<0]=0\n",
    "        return x_\n",
    "    \n",
    "    def df(x):\n",
    "        x_=x.copy()\n",
    "        x_[x_>0]=1\n",
    "        return x_\n",
    "\n",
    "class MLP:\n",
    "    \n",
    "    def __init__(self, input_size=784, layers=[100,], output_size=26,\\\n",
    "                 batch_size=100, lr=0.1, adaptive_lr=False, activation_fn='sigmoid',\\\n",
    "                 tol=1e-4, n_iter_no_change=10, max_epoch=100, n_iter_avg=1000):\n",
    "        self.input_size=input_size;\n",
    "        self.layers=layers;\n",
    "        self.output_size=output_size;\n",
    "        self.batch_size=batch_size;\n",
    "        self.lr=lr\n",
    "        self.adaptive_lr=adaptive_lr\n",
    "        \n",
    "        self.activation_fn=activation_fn\n",
    "        if activation_fn=='sigmoid':\n",
    "            self.activation_class = sigmoid\n",
    "        elif activation_fn=='relu':\n",
    "            self.activation_class = ReLU\n",
    "        else:\n",
    "            raise Exception(\"Enter valid activation_fn\")\n",
    "        \n",
    "        self.tol=tol\n",
    "        self.n_iter_no_change=n_iter_no_change \n",
    "        self.max_epoch=max_epoch\n",
    "        \n",
    "        self.layers.insert(0, self.input_size); self.layers.append(self.output_size)\n",
    "        self.n_layers = len(self.layers)\n",
    "        self.n_iter_avg = n_iter_avg\n",
    "        \n",
    "    \n",
    "    def __str__(self):\n",
    "        return \"\"\"MLP(input_size=%s, layers=%s, output_size=%s,\n",
    "    batch_size=%s, lr=%s, adaptive_lr=%s, activation_fn=%s,\n",
    "    tol=%s, n_iter_no_change=%s, max_epoch=%s)\"\"\"%\\\n",
    "                (self.input_size, self.layers[1:-1], self.output_size,\\\n",
    "                self.batch_size, self.lr, self.adaptive_lr, self.activation_fn,\\\n",
    "                self.tol, self.n_iter_no_change, self.max_epoch)\n",
    "    \n",
    "    def __repr__(self):\n",
    "        return self.__str__()\n",
    "    \n",
    "    def fit(self, X_train, Y_train):\n",
    "        np.random.seed(0)\n",
    "        f = self.activation_class.f\n",
    "        df = self.activation_class.df\n",
    "        self.loss_lst = []\n",
    "        iter_no_change=0\n",
    "        itr=0\n",
    "        cnt=0\n",
    "        if self.activation_fn=='sigmoid':\n",
    "            self._intialize_weights(type='glorot-normal')\n",
    "        else:\n",
    "            self._intialize_weights(type='he-normal')\n",
    "        for epoch in tqdm(range(self.max_epoch)):\n",
    "#             itrs_in_one_epoch=math.ceil(X_train.shape[0]/self.batch_size)\n",
    "#             if(epoch%20==0):\n",
    "#                 output = self._forward_prop(X_train)\n",
    "#                 epoch_loss = (0.5/X_train.shape[0])*np.sum((output[-1]-Y_train)**2)\n",
    "#                 self.loss_lst.append(epoch_loss)\n",
    "#                 if(len(self.loss_lst)>=2 and abs(self.loss_lst[-1]-self.loss_lst[-2])<self.tol):\n",
    "#                     iter_no_change+=1\n",
    "#                     if(iter_no_change>=self.n_iter_no_change):\n",
    "#                         cnt+=1\n",
    "#                         if cnt==1:\n",
    "#                             print('Converged in %d epochs'%(epoch))\n",
    "#                             return\n",
    "#                         else:\n",
    "#                             iter_no_change=0\n",
    "#                 else:\n",
    "#                     iter_no_change=0\n",
    "            \n",
    "#             if epoch>=2:\n",
    "#                 loss_diff = abs(np.sum(self.loss_lst[-2*itrs_in_one_epoch:-itrs_in_one_epoch])\\\n",
    "#                                 -np.sum(self.loss_lst[-itrs_in_one_epoch:]))/itrs_in_one_epoch\n",
    "#                 if(loss_diff<self.tol):\n",
    "#                     iter_no_change+=1\n",
    "#                     if(iter_no_change>self.n_iter_no_change):\n",
    "#                         print('Converged in %d epochs'%(epoch))\n",
    "#                         return\n",
    "#                 else:\n",
    "#                     iter_no_change=0\n",
    "            indices = np.random.choice(X_train.shape[0], size=X_train.shape[0])\n",
    "            X_train_ = X_train[indices]\n",
    "            Y_train_ = Y_train[indices]\n",
    "            for i in range(0, X_train.shape[0], self.batch_size):\n",
    "                \n",
    "                X=X_train_[i:i+self.batch_size,:]\n",
    "                Y=Y_train_[i:i+self.batch_size,:]  \n",
    "\n",
    "                # Forward-prop\n",
    "                output = self._forward_prop(X)\n",
    "                \n",
    "#                 loss = (0.5/self.batch_size)*np.sum((output[-1]-Y)**2)\n",
    "                #print(loss)\n",
    "#                 self.loss_lst.append(loss)\n",
    "#                 if abs(self.loss_lst[-1]-self.loss_lst[-2])<=self.tol:\n",
    "#                     iter_no_change+=1\n",
    "#                     if(iter_no_change >=self.n_iter_no_change):\n",
    "#                         return\n",
    "#                 else:\n",
    "#                     iter_no_change=0\n",
    "                    \n",
    "\n",
    "                # Back-Prop\n",
    "                memo, updates = self._back_prop(output, Y)\n",
    "                \n",
    "                # Update\n",
    "                for i in range(self.n_layers-1):\n",
    "                    self.intercepts[i]=self.intercepts[i] - self.lr*np.sum(memo[i],axis=0)\n",
    "                    self.weights[i]=self.weights[i] - self.lr * updates[i]\n",
    "                \n",
    "                itr+=1\n",
    "                \n",
    "#                 check_after_iter=self.n_iter_avg\n",
    "#                 if itr>2*check_after_iter and itr%check_after_iter==0:\n",
    "#                     avg_diff = abs(np.sum(self.loss_lst[-check_after_iter:])-np.sum(self.loss_lst[-2*check_after_iter:-check_after_iter]))/check_after_iter\n",
    "# #                     print(avg_diff)\n",
    "#                     if(avg_diff<self.tol):\n",
    "#                         iter_no_change+=1\n",
    "#                         if(iter_no_change>=self.n_iter_no_change):\n",
    "#                             print('Converged in %d epoches'%(epoch))\n",
    "# #                             return\n",
    "#                     else:\n",
    "#                         iter_no_change=0\n",
    "    \n",
    "    def _forward_prop(self,X):\n",
    "        f = self.activation_class.f\n",
    "        output=[X]\n",
    "        for i in range(self.n_layers-2):\n",
    "            output.append(f(np.dot(output[-1],self.weights[i])+self.intercepts[i]))\n",
    "        output.append(sigmoid.f(np.dot(output[-1],self.weights[-1])+self.intercepts[-1]))\n",
    "        return output\n",
    "    \n",
    "    def _back_prop(self, output, Y):\n",
    "        df=self.activation_class.df\n",
    "        \n",
    "        memo = []\n",
    "        updates = []\n",
    "        curr_memo = (-1/self.batch_size)*(np.multiply(Y-output[-1],sigmoid.df(output[-1])))\n",
    "        memo.insert(0,curr_memo)\n",
    "        curr_update = np.dot(output[-2].T, curr_memo)\n",
    "        updates.insert(0,curr_update)\n",
    "        for i in range(self.n_layers-2, 0, -1):\n",
    "            curr_memo = np.multiply(memo[0].dot(self.weights[i].T),df(output[i]))\n",
    "            memo.insert(0,curr_memo)\n",
    "            curr_update = (output[i-1].T).dot(curr_memo)\n",
    "            updates.insert(0,curr_update)\n",
    "        \n",
    "        return memo, updates\n",
    "    def _intialize_weights(self, type='glorot-normal'):\n",
    "        self.weights=[]\n",
    "        self.intercepts=[]\n",
    "        for i in range(self.n_layers-1):\n",
    "            fan_in = self.layers[i]\n",
    "            fan_out = self.layers[i+1]\n",
    "            #Glorot/Xevier Normal initialization\n",
    "            if type=='glorot-normal':\n",
    "                self.weights.append(np.random.randn(fan_in, fan_out)*(2/(fan_in+fan_out)))\n",
    "                self.intercepts.append(np.random.randn(fan_out)*(2/(fan_in+fan_out)))\n",
    "            elif type=='he-normal':\n",
    "                self.weights.append(np.random.randn(fan_in, fan_out)*np.sqrt(2/fan_in))\n",
    "                self.intercepts.append(np.random.randn(fan_out)*np.sqrt(2/fan_in))\n",
    "            \n",
    "    def predict(self, X):\n",
    "        pred_proba=self.predict_proba(X)\n",
    "        pred=np.zeros(pred_proba.shape, dtype=np.int8)\n",
    "        pred[np.arange(pred.shape[0]), np.argmax(pred_proba, axis=1)] = 1\n",
    "        return pred\n",
    "    \n",
    "    def predict_proba(self, X):\n",
    "        f = self.activation_class.f\n",
    "        \n",
    "        pred_proba=X\n",
    "        for i in range(self.n_layers-2):\n",
    "            pred_proba=f(pred_proba@self.weights[i]+self.intercepts[i])\n",
    "        pred_proba=sigmoid.f(pred_proba@self.weights[-1]+self.intercepts[-1])\n",
    "        \n",
    "        return pred_proba\n",
    "    \n",
    "    def predict_log_proba(self, X):\n",
    "        return np.log(self.predict_proba(X))\n",
    "    \n",
    "    def score(self,X,Y):\n",
    "        pred = self.predict(X)\n",
    "        y_true = np.argmax(Y, axis=1)\n",
    "        y_pred = np.argmax(pred, axis=1)\n",
    "        return (np.sum(y_true==y_pred)*100/y_true.shape[0])"
   ]
  }
 ],
 "metadata": {
  "kernelspec": {
   "display_name": "Python 3",
   "language": "python",
   "name": "python3"
  },
  "language_info": {
   "codemirror_mode": {
    "name": "ipython",
    "version": 3
   },
   "file_extension": ".py",
   "mimetype": "text/x-python",
   "name": "python",
   "nbconvert_exporter": "python",
   "pygments_lexer": "ipython3",
   "version": "3.7.7"
  }
 },
 "nbformat": 4,
 "nbformat_minor": 4
}
