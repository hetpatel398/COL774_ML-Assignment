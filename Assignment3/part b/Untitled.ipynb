{
 "cells": [
  {
   "cell_type": "code",
   "execution_count": 1,
   "metadata": {},
   "outputs": [],
   "source": [
    "import numpy as np\n",
    "import pandas as pd\n",
    "import matplotlib.pyplot as plt\n",
    "from tqdm import tqdm\n",
    "\n",
    "from sklearn.neural_network import MLPClassifier\n",
    "np.random.seed(0)"
   ]
  },
  {
   "cell_type": "code",
   "execution_count": 2,
   "metadata": {},
   "outputs": [],
   "source": [
    "train_data = pd.read_csv('data/train.csv', header=None).to_numpy()\n",
    "test_data = pd.read_csv('data/test.csv', header=None).to_numpy()"
   ]
  },
  {
   "cell_type": "code",
   "execution_count": 3,
   "metadata": {},
   "outputs": [
    {
     "name": "stdout",
     "output_type": "stream",
     "text": [
      "(13000, 785)\n",
      "(6500, 785)\n"
     ]
    }
   ],
   "source": [
    "print(train_data.shape)\n",
    "print(test_data.shape)"
   ]
  },
  {
   "cell_type": "code",
   "execution_count": 4,
   "metadata": {},
   "outputs": [],
   "source": [
    "X_train = train_data[:,:-1]\n",
    "Y_train_orig = train_data[:,-1]\n",
    "X_test = test_data[:,:-1]\n",
    "Y_test_orig = test_data[:,-1]"
   ]
  },
  {
   "cell_type": "code",
   "execution_count": 5,
   "metadata": {},
   "outputs": [],
   "source": [
    "from sklearn.preprocessing import StandardScaler\n",
    "std=StandardScaler()\n",
    "X_train_std = std.fit_transform(X_train)\n",
    "X_test_std = std.transform(X_test)"
   ]
  },
  {
   "cell_type": "code",
   "execution_count": 6,
   "metadata": {},
   "outputs": [],
   "source": [
    "def one_hot_encode(Y):\n",
    "    classes_ = np.unique(Y)\n",
    "    n_classes = classes_.shape[0]\n",
    "    Y_oh = np.zeros((Y.shape[0], n_classes), dtype=np.bool)\n",
    "    i=0\n",
    "    for y in Y:\n",
    "        Y_oh[i][y]=1\n",
    "        i+=1\n",
    "    return Y_oh\n",
    "\n",
    "Y_train = one_hot_encode(Y_train_orig)\n",
    "Y_test = one_hot_encode(Y_test_orig)"
   ]
  },
  {
   "cell_type": "code",
   "execution_count": 10,
   "metadata": {},
   "outputs": [
    {
     "name": "stdout",
     "output_type": "stream",
     "text": [
      "Test score : 0.8949230769230769\n",
      "Train score : 1.0\n"
     ]
    }
   ],
   "source": [
    "clf_relu = MLPClassifier(hidden_layer_sizes=(100,), activation='logistic', solver='sgd', learning_rate_init=0.1,\\\n",
    "                         learning_rate='constant')\n",
    "\n",
    "clf_relu.fit(X_train_std, Y_train_orig)\n",
    "print('Test score :',clf_relu.score(X_test_std, Y_test_orig))\n",
    "print('Train score :',clf_relu.score(X_train_std, Y_train_orig))"
   ]
  }
 ],
 "metadata": {
  "kernelspec": {
   "display_name": "Python 3",
   "language": "python",
   "name": "python3"
  },
  "language_info": {
   "codemirror_mode": {
    "name": "ipython",
    "version": 3
   },
   "file_extension": ".py",
   "mimetype": "text/x-python",
   "name": "python",
   "nbconvert_exporter": "python",
   "pygments_lexer": "ipython3",
   "version": "3.7.7"
  }
 },
 "nbformat": 4,
 "nbformat_minor": 4
}
