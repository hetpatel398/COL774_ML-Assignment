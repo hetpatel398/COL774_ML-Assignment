{
 "cells": [
  {
   "cell_type": "markdown",
   "metadata": {},
   "source": [
    "# Aassignment 3 Part A : Decision Tree & Random Forest"
   ]
  },
  {
   "cell_type": "code",
   "execution_count": 1,
   "metadata": {},
   "outputs": [],
   "source": [
    "from xclib.data import data_utils\n",
    "import numpy as np\n",
    "\n",
    "from sklearn.ensemble import RandomForestClassifier\n",
    "from sklearn.model_selection import GridSearchCV\n",
    "\n",
    "import itertools\n",
    "from tqdm import tqdm\n",
    "from time import time\n",
    "\n",
    "from joblib import Parallel, delayed\n",
    "import multiprocessing as mp\n",
    "import matplotlib.pyplot as plt\n",
    "import math"
   ]
  },
  {
   "cell_type": "code",
   "execution_count": 2,
   "metadata": {},
   "outputs": [
    {
     "name": "stdout",
     "output_type": "stream",
     "text": [
      "(64713, 482) (64713,)\n",
      "(21571, 482) (21571,)\n",
      "(21572, 482) (21572,)\n"
     ]
    }
   ],
   "source": [
    "X_train = data_utils.read_sparse_file('./data/train_x.txt', n_features=482).toarray()\n",
    "X_test = data_utils.read_sparse_file('./data/test_x.txt', n_features=482).toarray()\n",
    "X_val = data_utils.read_sparse_file('./data/valid_x.txt', n_features=482).toarray()\n",
    "\n",
    "Y_train = np.array(open('./data/train_y.txt','r').read().strip().split('\\n'), dtype=int)\n",
    "Y_test = np.array(open('./data/test_y.txt','r').read().strip().split('\\n'), dtype=int)\n",
    "Y_val = np.array(open('./data/valid_y.txt','r').read().strip().split('\\n'), dtype=int)\n",
    "\n",
    "print(X_train.shape, Y_train.shape)\n",
    "print(X_test.shape, Y_test.shape)\n",
    "print(X_val.shape, Y_val.shape)"
   ]
  },
  {
   "cell_type": "code",
   "execution_count": 3,
   "metadata": {},
   "outputs": [
    {
     "name": "stdout",
     "output_type": "stream",
     "text": [
      "(array([0, 1]), array([30560, 34153]))\n",
      "(array([0, 1]), array([10151, 11420]))\n",
      "(array([0, 1]), array([10302, 11270]))\n"
     ]
    }
   ],
   "source": [
    "print(np.unique(Y_train, return_counts=True))\n",
    "print(np.unique(Y_test, return_counts=True))\n",
    "print(np.unique(Y_val, return_counts=True))\n",
    "\n",
    "#Almost balanced dataset"
   ]
  },
  {
   "cell_type": "code",
   "execution_count": 4,
   "metadata": {},
   "outputs": [
    {
     "name": "stdout",
     "output_type": "stream",
     "text": [
      "219 columns were having only zero values.\n",
      "Shape of X_train (64713, 263)\n",
      "Shape of X_test (21571, 263)\n",
      "Shape of X_val (21572, 263)\n"
     ]
    }
   ],
   "source": [
    "ind_lst = []\n",
    "for i in range(X_train.shape[1]):\n",
    "    if (X_train[:,i].min() == 0) and (X_train[:,i].max() == 0):\n",
    "        ind_lst.append(i)\n",
    "\n",
    "print('%d columns were having only zero values.'%(len(ind_lst)))\n",
    "\n",
    "#Removing columns with zero values\n",
    "X_train = np.delete(X_train, ind_lst, axis=1)\n",
    "X_test = np.delete(X_test, ind_lst, axis=1)\n",
    "X_val = np.delete(X_val, ind_lst, axis=1)\n",
    "\n",
    "#shape of datasets after Removing columns with zero values\n",
    "print('Shape of X_train',X_train.shape)\n",
    "print('Shape of X_test',X_test.shape)\n",
    "print('Shape of X_val',X_val.shape)"
   ]
  },
  {
   "cell_type": "markdown",
   "metadata": {},
   "source": [
    "## Question (a): Implementing Decision Tree From scratch :"
   ]
  },
  {
   "cell_type": "code",
   "execution_count": 5,
   "metadata": {},
   "outputs": [],
   "source": [
    "class DTNode:\n",
    "    '''\n",
    "        Class representing node of \n",
    "    '''\n",
    "    def __init__(self, splitFeat=None, splitVal=None, majorityClass=None, parent=None, isLeft=True, X=None, Y=None, isLeaf=False):\n",
    "        self.splitFeat = splitFeat\n",
    "        self.splitVal = splitVal\n",
    "        self.majorityClass = majorityClass\n",
    "        self.isLeaf = False\n",
    "        self.left = None\n",
    "        self.right = None\n",
    "        self.X, self.Y = X, Y\n",
    "        self.nodes_subtree = None\n",
    "        \n",
    "    def is_leaf(self):\n",
    "        return self.splitFeat is None or self.isLeaf \n",
    "        \n",
    "    def __str__(self):\n",
    "        return 'SplitFeat : '+str(self.splitFeat)+'\\nSplitVal : '+str(self.splitVal)+'\\nMajorityClass : '+str(self.majorityClass)+'\\n'\n",
    "    \n",
    "    def __repr__(self):\n",
    "        return 'SplitFeat : '+str(self.splitFeat)+'\\nSplitVal : '+str(self.splitVal)+'\\nMajorityClass : '+str(self.majorityClass)+'\\n'"
   ]
  },
  {
   "cell_type": "code",
   "execution_count": 6,
   "metadata": {},
   "outputs": [],
   "source": [
    "class DecisionTreeClassifier:\n",
    "    '''\n",
    "        Implementation of decision tree classifier\n",
    "        \n",
    "        Parameters:\n",
    "        *******************\n",
    "            \n",
    "        get_train_data(Default:False) : [boolean]\n",
    "            If true then train, test and Validation accuracy recorded\n",
    "            after adding record_data_frequency number of nodes\n",
    "\n",
    "        record_data_frequency(Default:100) : [int]\n",
    "            After how many nodes to record accuracy data\n",
    "                \n",
    "        Attributes:\n",
    "        *******************\n",
    "        \n",
    "        cnt : [int]\n",
    "            numer of node in tree\n",
    "        root : [DTNode]\n",
    "            Root of the decision Tree\n",
    "        train_data : [Dictionary]\n",
    "            Dictionary containing accuracies over Train, Test and Validation Datasets\n",
    "            recorded as tree grows (You need to set get_train_data=True to get this)\n",
    "                \n",
    "        Methods: \n",
    "        *******************\n",
    "        fit(self, X, Y[, X_test, Y_test, X_val, Y_val]) : [None]\n",
    "            This method builds decision tree iteratively using \n",
    "            X and Y as training Dataset [and records accuracies].\n",
    "            (If you have set get_train_data=True then pass X_test, Y_test and X_val, Y_val)\n",
    "\n",
    "        predict(self, X) : [list]\n",
    "            Returns list of predicted class labels for datapoints in X\n",
    "\n",
    "        score(self, X, Y_true) : [float]\n",
    "            Returns accuracy over dataset X and ground truth Y_true\n",
    "\n",
    "        plot_training_data(self) : [None]\n",
    "            Plots number of nodes v/s accuracies if get_train_data=True\n",
    "    '''\n",
    "    def __init__(self, get_train_data=False, record_data_frequency=100):\n",
    "        self.root = None\n",
    "        self.cnt = 0\n",
    "        self.leafNodes = 0\n",
    "        self.get_train_data = get_train_data\n",
    "        self.record_data_frequency = record_data_frequency\n",
    "        if self.get_train_data:\n",
    "            self.train_data = {'train_acc':[], 'test_acc':[], 'val_acc':[]}\n",
    "    \n",
    "    def __str__(self):\n",
    "        return 'DecisionTreeClassifier\\n\\nParameters : \\n\\tget_train_data='+str(self.get_train_data)+'\\n\\trecord_data_frequency='+str(self.record_data_frequency)+\\\n",
    "                '\\n\\nAttributes : \\n\\tTotal Number of nodes='+str(self.cnt)+'\\n\\tNumber of leafe nodes='+str(self.leafNodes)\n",
    "    \n",
    "    def __repr__(self):\n",
    "        return 'DecisionTreeClassifier\\n\\nParameters : \\n\\tget_train_data='+str(self.get_train_data)+'\\n\\trecord_data_frequency='+str(self.record_data_frequency)+\\\n",
    "                '\\n\\nAttributes : \\n\\tTotal Number of nodes='+str(self.cnt)+'\\n\\tNumber of leafe nodes='+str(self.leafNodes)\n",
    "        \n",
    "    def fit(self, X, Y, X_test=None, Y_test=None, X_val=None, Y_val=None):\n",
    "        '''\n",
    "            Builds Tree using viven Train Dataset\n",
    "        '''\n",
    "        if self.get_train_data and (X_test is None or Y_test is None or X_val is None or Y_val is None):\n",
    "            raise Exception('Please pass test and validation data to get train_data or pass get_train_data=False')\n",
    "        \n",
    "        queue = []\n",
    "        X_train = X.copy()\n",
    "        Y_train = Y.copy()\n",
    "        self.root = DTNode(X=X, Y=Y)\n",
    "        queue.append(self.root)\n",
    "        \n",
    "        while queue!=[]:\n",
    "            self.cnt+=1\n",
    "\n",
    "            node = queue.pop(0)\n",
    "            X_, Y_ = node.X, node.Y\n",
    "            n_samples_, n_feat_ = X_.shape\n",
    "            nY1_ = (Y_==1).sum()\n",
    "            nY0_ = n_samples_ - nY1_\n",
    "            majClass = 1 if nY1_>nY0_ else 0\n",
    "            node.majorityClass=majClass\n",
    "            if (nY1_ == 0) or (nY0_==0):\n",
    "                self.leafNodes+=1\n",
    "                node.isLeaf=True\n",
    "                if self.get_train_data and (self.cnt-1)%self.record_data_frequency==0:\n",
    "                    self._record_accuracies(X_train, Y_train, X_test, Y_test, X_val, Y_val)\n",
    "                continue\n",
    "            else:\n",
    "                bestSplit_, median_, maxIG_ = self._getBestSplit(X_, Y_)\n",
    "                if(bestSplit_==-np.inf):# or maxIG_==0:\n",
    "                    self.leafNodes+=1\n",
    "                    node.isLeaf=True\n",
    "                    if self.get_train_data and (self.cnt-1)%self.record_data_frequency==0:\n",
    "                        self._record_accuracies(X_train, Y_train, X_test, Y_test, X_val, Y_val)\n",
    "                    continue\n",
    "                node.splitFeat = bestSplit_\n",
    "                node.splitVal = median_\n",
    "                node.left = DTNode(majorityClass=majClass,\\\n",
    "                                   X=X_[X_[:,bestSplit_]<=median_], Y=Y_[X_[:,bestSplit_]<=median_])\n",
    "                node.right = DTNode(majorityClass=majClass,\\\n",
    "                                   X=X_[X_[:,bestSplit_]>median_], Y=Y_[X_[:,bestSplit_]>median_])\n",
    "                queue.append(node.left)\n",
    "                queue.append(node.right)\n",
    "                node.X=None\n",
    "                node.Y=None\n",
    "            if self.get_train_data and (self.cnt-1)%self.record_data_frequency==0:\n",
    "                self._record_accuracies(X_train, Y_train, X_test, Y_test, X_val, Y_val)\n",
    "        if self.get_train_data:\n",
    "                self._record_accuracies(X_train, Y_train, X_test, Y_test, X_val, Y_val)\n",
    "            \n",
    "    \n",
    "        \n",
    "    def _record_accuracies(self, X_train, Y_train, X_test, Y_test, X_val, Y_val):\n",
    "        '''\n",
    "            Records train, test and validation accuracy in train_data dictionary at given state of the tree\n",
    "        '''\n",
    "        self.train_data['train_acc'].append(self.score(X_train, Y_train))\n",
    "        self.train_data['test_acc'].append(self.score(X_test, Y_test))\n",
    "        self.train_data['val_acc'].append(self.score(X_val, Y_val))\n",
    "        \n",
    "    def _getBestSplit(self, X, Y):  \n",
    "        '''\n",
    "            Returns (optimal_split, optimal_median, max_IG)\n",
    "                optimal_split : feature index of dataset X splitting which maximizes Info. gain\n",
    "                optimal_median : median of optimal_split feature\n",
    "                max_IG : maximum Information gain across all features\n",
    "        '''\n",
    "        n_samples, n_feat = X.shape\n",
    "        optimal_split, optimal_median = -np.inf, -np.inf\n",
    "        max_IG = -np.inf\n",
    "        median_arr = np.median(X, axis=0)\n",
    "        for i in range(n_feat):\n",
    "            median = median_arr[i]\n",
    "            ig = self._getInformationGain(X,Y,i,median)\n",
    "            if ig > max_IG:\n",
    "                max_IG = ig\n",
    "                optimal_split = i\n",
    "                optimal_median = median\n",
    "        return (optimal_split, optimal_median, max_IG)\n",
    "        \n",
    "    def _entropy(self, X, Y):\n",
    "        '''\n",
    "            This method computes entropy of given node\n",
    "        '''\n",
    "        n_samples, n_feat = X.shape\n",
    "        nY1 = (Y==1).sum()\n",
    "        nY0 = n_samples-nY1\n",
    "        \n",
    "        if n_samples==0:\n",
    "            return np.inf\n",
    "        elif nY1==0 or nY0==0:\n",
    "            return 0\n",
    "        else:\n",
    "            return (-nY0*math.log(nY0/n_samples)-nY1*math.log(nY1/n_samples))/n_samples\n",
    "    \n",
    "    def _getInformationGain(self, X, Y, i, median):\n",
    "        '''\n",
    "            return information gain if we split with ith Feature\n",
    "        '''\n",
    "        entBefore = self._entropy(X,Y)\n",
    "        \n",
    "        X_lte = X[X[:,i]<=median]\n",
    "        Y_lte = Y[X[:,i]<=median]\n",
    "        X_gt = X[X[:,i]>median]\n",
    "        Y_gt = Y[X[:,i]>median]\n",
    "        \n",
    "        entAfter = ((Y_lte.shape[0])*self._entropy(X_lte, Y_lte) + (Y_gt.shape[0])*self._entropy(X_gt, Y_gt))/(Y.shape[0])\n",
    "        return (entBefore-entAfter)\n",
    "    \n",
    "    def score(self, X, Y_true):\n",
    "        '''\n",
    "            Return accuracy score over dataset X and actual label Y\n",
    "        '''\n",
    "        return (self.predict(X)==Y_true).sum()/Y_true.shape[0]\n",
    "    \n",
    "    def predict(self, X):\n",
    "        '''\n",
    "            Returns prediction for given Dataset X\n",
    "        '''\n",
    "        pred=[]\n",
    "        for row in X:\n",
    "            pred.append(self._predict(row))\n",
    "        return pred\n",
    "    \n",
    "    def _predict(self, row):\n",
    "        '''\n",
    "            Returns predicted class label for one datapoint row\n",
    "        '''\n",
    "        node=self.root\n",
    "        while(not node.is_leaf()):#node.left is not None and not node.isDeleted):\n",
    "            if row[node.splitFeat]<=node.splitVal:# and node.left is not None:\n",
    "                node=node.left\n",
    "            elif row[node.splitFeat]>node.splitVal:# and node.right is not None:\n",
    "                node=node.right\n",
    "        pred = node.majorityClass\n",
    "        return pred\n",
    "    \n",
    "    def plot_training_data(self):\n",
    "        '''\n",
    "            Plots train, test and validation accuracy as number of nodes increases during training\n",
    "        '''\n",
    "        if self.get_train_data:\n",
    "            plt.figure(figsize=(12,8))\n",
    "            n_nodes_lst = list(range(1,(len(self.train_data['train_acc'])-1)*self.record_data_frequency, self.record_data_frequency))\n",
    "            n_nodes_lst.append(self.cnt)\n",
    "            plt.plot(n_nodes_lst, self.train_data['train_acc'], label='Train Accuracy')\n",
    "            plt.plot(n_nodes_lst, self.train_data['test_acc'], label='Test Accuracy')\n",
    "            plt.plot(n_nodes_lst, self.train_data['val_acc'], label='Validation Accuracy')\n",
    "            plt.legend()\n",
    "            plt.xlabel('Number of nodes')\n",
    "            plt.ylabel('Accuracies')\n",
    "            plt.title('Number of nodes v/s Accuracies')\n",
    "            plt.show()\n",
    "        else:\n",
    "            raise Exception('Please pass get_train_data=True to get this plot')"
   ]
  },
  {
   "cell_type": "code",
   "execution_count": 7,
   "metadata": {},
   "outputs": [
    {
     "name": "stdout",
     "output_type": "stream",
     "text": [
      "Generated tree in 3.01 minutes\n",
      "Train Accuracy : 90.808647412421\n",
      "Test Accuracy : 77.96578739974966\n",
      "Validation Accuracy : 77.46615983682551\n",
      "\n",
      "\n",
      "DecisionTreeClassifier\n",
      "\n",
      "Parameters : \n",
      "\tget_train_data=False\n",
      "\trecord_data_frequency=100\n",
      "\n",
      "Attributes : \n",
      "\tTotal Number of nodes=21007\n",
      "\tNumber of leafe nodes=10504\n"
     ]
    }
   ],
   "source": [
    "dt=DecisionTreeClassifier(get_train_data=False)\n",
    "\n",
    "t0=time()\n",
    "dt.fit(X_train, Y_train, X_test, Y_test, X_val, Y_val)\n",
    "print('Generated tree in %.2f minutes'%((time()-t0)/60))\n",
    "\n",
    "train_acc = dt.score(X_train, Y_train)\n",
    "val_acc = dt.score(X_val, Y_val)\n",
    "test_acc = dt.score(X_test, Y_test)\n",
    "\n",
    "print('Train Accuracy :',train_acc*100)\n",
    "print('Test Accuracy :',test_acc*100)\n",
    "print('Validation Accuracy :',val_acc*100)\n",
    "print('\\n\\n'+str(dt))"
   ]
  },
  {
   "cell_type": "code",
   "execution_count": 45,
   "metadata": {},
   "outputs": [
    {
     "name": "stdout",
     "output_type": "stream",
     "text": [
      "Generated tree in 5.22 minutes\n",
      "Train Accuracy : 90.808647412421\n",
      "Test Accuracy : 77.96578739974966\n",
      "Validation Accuracy : 77.46615983682551\n",
      "\n",
      "\n",
      "DecisionTreeClassifier\n",
      "\n",
      "Parameters : \n",
      "\tget_train_data=True\n",
      "\trecord_data_frequency=100\n",
      "\n",
      "Attributes : \n",
      "\tTotal Number of nodes=21007\n",
      "\tNumber of leafe nodes=10504\n"
     ]
    },
    {
     "data": {
      "image/png": "[encoded data removed]",
      "text/plain": [
       "<Figure size 864x576 with 1 Axes>"
      ]
     },
     "metadata": {
      "needs_background": "light"
     },
     "output_type": "display_data"
    }
   ],
   "source": [
    "dt_withData=DecisionTreeClassifier(get_train_data=True)\n",
    "\n",
    "t0=time()\n",
    "dt_withData.fit(X_train, Y_train, X_test, Y_test, X_val, Y_val)\n",
    "print('Generated tree in %.2f minutes'%((time()-t0)/60))\n",
    "\n",
    "train_acc = dt_withData.score(X_train, Y_train)\n",
    "val_acc = dt_withData.score(X_val, Y_val)\n",
    "test_acc = dt_withData.score(X_test, Y_test)\n",
    "\n",
    "print('Train Accuracy :',train_acc*100)\n",
    "print('Test Accuracy :',test_acc*100)\n",
    "print('Validation Accuracy :',val_acc*100)\n",
    "\n",
    "print('\\n\\n'+str(dt_withData))\n",
    "dt_withData.plot_training_data()"
   ]
  },
  {
   "cell_type": "markdown",
   "metadata": {},
   "source": [
    "# Part B : Post prunning the tree"
   ]
  },
  {
   "cell_type": "code",
   "execution_count": 7,
   "metadata": {},
   "outputs": [],
   "source": [
    "# import pickle\n",
    "# with open('./pickles/dt.pkl', 'wb+') as f:\n",
    "#     pickle.dump(dt,f)"
   ]
  },
  {
   "cell_type": "code",
   "execution_count": 7,
   "metadata": {},
   "outputs": [],
   "source": [
    "import pickle\n",
    "with open('pickles/dt.pkl', 'rb') as f:\n",
    "    dt = pickle.load(f)"
   ]
  },
  {
   "cell_type": "code",
   "execution_count": 8,
   "metadata": {},
   "outputs": [
    {
     "name": "stdout",
     "output_type": "stream",
     "text": [
      "21007 21006\n"
     ]
    }
   ],
   "source": [
    "def set_subtree_nodes(node):\n",
    "    if node.is_leaf():\n",
    "        node.nodes_subtree = 1\n",
    "    else:\n",
    "        node.nodes_subtree = 1+set_subtree_nodes(node.left) + set_subtree_nodes(node.right)\n",
    "    return node.nodes_subtree    \n",
    "\n",
    "set_subtree_nodes(dt.root)\n",
    "print(dt.root.nodes_subtree, dt.root.left.nodes_subtree+dt.root.right.nodes_subtree)"
   ]
  },
  {
   "cell_type": "code",
   "execution_count": 9,
   "metadata": {},
   "outputs": [],
   "source": [
    "def set_indices(node, X, indices, ):\n",
    "    if node.is_leaf():\n",
    "        node.val_indices = indices\n",
    "    else:\n",
    "        lt_indices = np.logical_and((X[:,node.splitFeat]<=node.splitVal), indices)\n",
    "        rt_indices = np.logical_and((X[:,node.splitFeat]>node.splitVal), indices)\n",
    "        node.val_indices = np.argwhere(indices).flatten()\n",
    "        set_indices(node.left, X, lt_indices)\n",
    "        set_indices(node.right, X, rt_indices)\n",
    "set_indices(dt.root, X_val, list(range(X_val.shape[0])))"
   ]
  },
  {
   "cell_type": "code",
   "execution_count": 10,
   "metadata": {},
   "outputs": [],
   "source": [
    "def predict_val(root):\n",
    "    pred = np.ones(len(Y_val), dtype=np.bool)\n",
    "    queue = []\n",
    "    queue.append(root)\n",
    "    while queue!=[]:\n",
    "        node=queue.pop(0)\n",
    "        if node.is_leaf():\n",
    "            pred[node.val_indices] = node.majorityClass\n",
    "        else:\n",
    "            queue.append(node.left)\n",
    "            queue.append(node.right)\n",
    "    return pred\n",
    "\n",
    "def val_score(root):\n",
    "    return sum(predict_val(root)==Y_val)*100/Y_val.shape[0]\n",
    "\n",
    "def reset_leaves(node):\n",
    "    if node.splitFeat is None:\n",
    "        node.isLeaf = True\n",
    "    else:\n",
    "        node.isLeaf = False\n",
    "        reset_leaves(node.left)\n",
    "        reset_leaves(node.right)   "
   ]
  },
  {
   "cell_type": "code",
   "execution_count": 11,
   "metadata": {},
   "outputs": [
    {
     "data": {
      "text/plain": [
       "21007"
      ]
     },
     "execution_count": 11,
     "metadata": {},
     "output_type": "execute_result"
    }
   ],
   "source": [
    "lst=[]\n",
    "def post_order_lst(node):\n",
    "    global lst\n",
    "    if node:\n",
    "        post_order_lst(node.left)\n",
    "        post_order_lst(node.right)\n",
    "        lst.append(node)\n",
    "post_order_lst(dt.root)\n",
    "len(lst)"
   ]
  },
  {
   "cell_type": "code",
   "execution_count": 12,
   "metadata": {},
   "outputs": [
    {
     "name": "stderr",
     "output_type": "stream",
     "text": [
      "100%|██████████| 21007/21007 [10:13<00:00, 34.25it/s]\n"
     ]
    }
   ],
   "source": [
    "best_val_acc = val_score(dt.root)\n",
    "nodes = len(lst)\n",
    "record_dict={'train_acc':[], 'test_acc':[], 'val_acc':[], 'nodes':[]}\n",
    "for node in tqdm(lst):\n",
    "    if node.is_leaf():\n",
    "        continue\n",
    "    else:\n",
    "        node.isLeaf=True\n",
    "        val_acc = val_score(dt.root)\n",
    "        if val_acc >= best_val_acc:\n",
    "            nodes = nodes - node.nodes_subtree + 1\n",
    "#             record_dict['nodes'].append(nodes)\n",
    "#             record_dict['val_acc'].append(val_acc)\n",
    "#             record_dict['test_acc'].append(dt.score(X_test, Y_test))\n",
    "#             record_dict['train_acc'].append(dt.score(X_train, Y_train))\n",
    "            best_val_acc = val_acc\n",
    "        else:\n",
    "            node.isLeaf=False"
   ]
  },
  {
   "cell_type": "code",
   "execution_count": 13,
   "metadata": {},
   "outputs": [
    {
     "data": {
      "text/plain": [
       "82.50046356387911"
      ]
     },
     "execution_count": 13,
     "metadata": {},
     "output_type": "execute_result"
    }
   ],
   "source": [
    "best_val_acc"
   ]
  },
  {
   "cell_type": "code",
   "execution_count": 14,
   "metadata": {},
   "outputs": [
    {
     "name": "stdout",
     "output_type": "stream",
     "text": [
      "Train Accuracy : 83.24447947089456\n",
      "Test Accuracy : 79.75522692503824\n",
      "Validation Accuracy : 82.50509920267012\n"
     ]
    }
   ],
   "source": [
    "train_acc = dt.score(X_train, Y_train)\n",
    "val_acc = dt.score(X_val, Y_val)\n",
    "test_acc = dt.score(X_test, Y_test)\n",
    "\n",
    "print('Train Accuracy :',train_acc*100)\n",
    "print('Test Accuracy :',test_acc*100)\n",
    "print('Validation Accuracy :',val_acc*100)"
   ]
  },
  {
   "cell_type": "code",
   "execution_count": 15,
   "metadata": {},
   "outputs": [
    {
     "data": {
      "text/plain": [
       "-56011"
      ]
     },
     "execution_count": 15,
     "metadata": {},
     "output_type": "execute_result"
    }
   ],
   "source": [
    "nodes"
   ]
  },
  {
   "cell_type": "code",
   "execution_count": 25,
   "metadata": {},
   "outputs": [
    {
     "data": {
      "image/png": "[encoded data removed]",
      "text/plain": [
       "<Figure size 864x576 with 1 Axes>"
      ]
     },
     "metadata": {
      "needs_background": "light"
     },
     "output_type": "display_data"
    }
   ],
   "source": [
    "plt.figure(figsize=(12,8))\n",
    "n_nodes_lst = record_dict['nodes']\n",
    "plt.plot(n_nodes_lst, record_dict['train_acc'], label='Train Accuracy')\n",
    "plt.plot(n_nodes_lst, record_dict['test_acc'], label='Test Accuracy')\n",
    "plt.plot(n_nodes_lst,np.array(record_dict['val_acc'])/100, label='Validation Accuracy')\n",
    "plt.legend()\n",
    "plt.xlabel('Number of nodes')\n",
    "plt.ylabel('Accuracies')\n",
    "plt.title('Number of nodes v/s Accuracies as we prune the tree')\n",
    "plt.show()"
   ]
  },
  {
   "cell_type": "code",
   "execution_count": 47,
   "metadata": {},
   "outputs": [],
   "source": [
    "# def get_val_err(node, X, Y):\n",
    "#     if node.is_leaf():\n",
    "#         node.err = sum(dt.predict(X) !=Y)\n",
    "#         node.err_diff = 0\n",
    "#     else:\n",
    "#         node.isLeaf = True\n",
    "#         node.err = sum(dt.predict(X) !=Y)\n",
    "#         node.isLeaf=False\n",
    "#         lt_indices = X[:,node.splitFeat]<=node.splitVal\n",
    "#         rt_indices = X[:,node.splitFeat]>node.splitVal\n",
    "#         get_val_err(node.left, X[lt_indices], Y[lt_indices])\n",
    "#         get_val_err(node.right, X[rt_indices], Y[rt_indices])\n",
    "#         node.err_diff = node.err - node.left.err - node.right.err\n",
    "\n",
    "# def reset_leaves(node):\n",
    "#     if node.splitFeat is None:\n",
    "#         node.isLeaf = True\n",
    "#     else:\n",
    "#         node.isLeaf = False\n",
    "#         reset_leaves(node.left)\n",
    "#         reset_leaves(node.right)        \n",
    "        \n",
    "# cnt=0\n",
    "# nodes = dt.cnt\n",
    "# record_dict={'train_acc':[], 'test_acc':[], 'val_acc':[]}\n",
    "# def prune(node):\n",
    "#     global cnt\n",
    "#     global nodes\n",
    "#     cnt+=1\n",
    "# #     if((cnt-1)%100==0):\n",
    "# #         print(nodes)\n",
    "# #         record_dict['train_acc'].append(dt.score(X_train, Y_train))\n",
    "# #         record_dict['val_acc'].append(dt.score(X_val, Y_val))\n",
    "# #         record_dict['test_acc'].append(dt.score(X_test, Y_test))\n",
    "#     if node.is_leaf() or node.err < node.left.err + node.right.err:\n",
    "#         if not node.is_leaf():\n",
    "# #             print(node.err, node.left.err + node.right.err)\n",
    "#             nodes = nodes - node.left.nodes_subtree - node.right.nodes_subtree\n",
    "#         node.isLeaf=True\n",
    "#     else:\n",
    "#         prune(node.left)\n",
    "#         prune(node.right)\n",
    "\n",
    "\n",
    "# def prune1(node):\n",
    "#     global nodes\n",
    "#     if node.left is not None and node.left.is_leaf():\n",
    "#         if node.err < node.left.err + node.right.err:\n",
    "#             nodes = nodes - node.left.nodes_subtree - node.right.nodes_subtree\n",
    "#             node.isLeaf=True\n",
    "#     elif node.right is not None and node.right.is_leaf():\n",
    "#         if node.err < node.left.err + node.right.err:\n",
    "#             nodes = nodes - node.left.nodes_subtree - node.right.nodes_subtree\n",
    "#             node.isLeaf=True\n",
    "#     else:\n",
    "#         prune1(node.left)\n",
    "#         prune1(node.right)\n",
    "\n",
    "# nodes=dt.cnt\n",
    "\n",
    "# def prune2(node, min_err_diff, min_err_diff_node):\n",
    "#     global nodes\n",
    "#     global cnt\n",
    "#     cnt+=1\n",
    "\n",
    "#     if node.is_leaf():\n",
    "#         if min_err_diff < 0:\n",
    "#             min_err_diff_node.isLeaf=True\n",
    "#             nodes = nodes - min_err_diff_node.nodes_subtree \n",
    "#     else:\n",
    "#         if node.err_diff<=min_err_diff:\n",
    "#             prune2(node.left, node.err_diff, node)\n",
    "#             prune2(node.right, node.err_diff, node)\n",
    "#         else:\n",
    "#             prune2(node.left, min_err_diff, min_err_diff_node)\n",
    "#             prune2(node.right, min_err_diff, min_err_diff_node)\n",
    "    "
   ]
  },
  {
   "cell_type": "code",
   "execution_count": 16,
   "metadata": {},
   "outputs": [
    {
     "name": "stdout",
     "output_type": "stream",
     "text": [
      "max_depth 49\n",
      "Number of nodes 4215\n",
      "Number of leaves 2108\n",
      "Number of leaves with y=1 960\n",
      "Number of leaves with y=0 1148\n"
     ]
    }
   ],
   "source": [
    "# def printInfo():\n",
    "leaves = 0\n",
    "leaves1 = 0\n",
    "leaves0=0\n",
    "nodes = 0\n",
    "def isLeaf(node):\n",
    "    return node.is_leaf()\n",
    "#     if (node.left==None and node.right!=None) or (node.left!=None and node.right==None):\n",
    "#         print('Problem')\n",
    "#     if node.left==None and node.right==None:\n",
    "#         return True\n",
    "#     else:\n",
    "#         return False\n",
    "\n",
    "def dfs(node):\n",
    "    global leaves\n",
    "    global nodes\n",
    "    global leaves1\n",
    "    global leaves0\n",
    "\n",
    "    nodes+=1\n",
    "    if isLeaf(node):\n",
    "        leaves += 1\n",
    "        if(node.majorityClass==1):\n",
    "            leaves1+=1\n",
    "        else:\n",
    "            leaves0+=1\n",
    "        return 1\n",
    "\n",
    "    mx_depth=0\n",
    "\n",
    "    mx_depth = max(mx_depth, dfs(node.left))\n",
    "    mx_depth = max(mx_depth, dfs(node.right))\n",
    "    return mx_depth+1\n",
    "\n",
    "print('max_depth', dfs(dt.root))\n",
    "print('Number of nodes', nodes)\n",
    "print('Number of leaves', leaves)\n",
    "print('Number of leaves with y=1', leaves1)\n",
    "print('Number of leaves with y=0', leaves0)"
   ]
  },
  {
   "cell_type": "code",
   "execution_count": 74,
   "metadata": {},
   "outputs": [
    {
     "name": "stdout",
     "output_type": "stream",
     "text": [
      "Train Accuracy : 80.61749571183533\n",
      "Test Accuracy : 78.03532520513653\n",
      "Validation Accuracy : 79.46412015575747\n"
     ]
    }
   ],
   "source": []
  },
  {
   "cell_type": "code",
   "execution_count": 33,
   "metadata": {},
   "outputs": [
    {
     "data": {
      "text/plain": [
       "7434"
      ]
     },
     "execution_count": 33,
     "metadata": {},
     "output_type": "execute_result"
    }
   ],
   "source": [
    "tree.left.err + tree.right.err"
   ]
  },
  {
   "cell_type": "code",
   "execution_count": 39,
   "metadata": {},
   "outputs": [
    {
     "data": {
      "text/plain": [
       "10302"
      ]
     },
     "execution_count": 39,
     "metadata": {},
     "output_type": "execute_result"
    }
   ],
   "source": [
    "tree.err"
   ]
  },
  {
   "cell_type": "markdown",
   "metadata": {},
   "source": [
    "# Part C : Getting optimal hyperparameters for Random Forest"
   ]
  },
  {
   "cell_type": "code",
   "execution_count": 5,
   "metadata": {},
   "outputs": [],
   "source": [
    "grid = {'n_estimators':list(range(50, 451,100)),\\\n",
    "        'max_features':[x/10 for x in (range(1, 10, 2))],\\\n",
    "        'min_samples_split':list(range(2,11,2))\n",
    "        }"
   ]
  },
  {
   "cell_type": "code",
   "execution_count": 6,
   "metadata": {},
   "outputs": [],
   "source": [
    "def GridSearchUsingOOB(param_grid, n_jobs=1):\n",
    "    \n",
    "    params = list(itertools.product(*(param_grid[key] for key in param_grid.keys())))\n",
    "    optimal_clf, optimal_oob_score = None, 0\n",
    "\n",
    "    for (n_est, max_feat, min_sam_split) in tqdm(params):\n",
    "        clf = RandomForestClassifier(n_estimators=n_est, max_features=max_feat, min_samples_split=min_sam_split, oob_score=True, n_jobs=n_jobs).fit(X_train, Y_train)\n",
    "        oob_score = clf.oob_score_\n",
    "        \n",
    "        if oob_score>optimal_oob_score:\n",
    "            optimal_clf = clf\n",
    "            optimal_oob_score = oob_score    \n",
    "    return optimal_clf"
   ]
  },
  {
   "cell_type": "code",
   "execution_count": 7,
   "metadata": {},
   "outputs": [
    {
     "name": "stderr",
     "output_type": "stream",
     "text": [
      "100%|██████████| 125/125 [1:48:31<00:00, 52.09s/it] "
     ]
    },
    {
     "name": "stdout",
     "output_type": "stream",
     "text": [
      "\n",
      "\n",
      "optimal Classifier :\n",
      "\n",
      "  RandomForestClassifier(bootstrap=True, ccp_alpha=0.0, class_weight=None,\n",
      "                       criterion='gini', max_depth=None, max_features=0.1,\n",
      "                       max_leaf_nodes=None, max_samples=None,\n",
      "                       min_impurity_decrease=0.0, min_impurity_split=None,\n",
      "                       min_samples_leaf=1, min_samples_split=10,\n",
      "                       min_weight_fraction_leaf=0.0, n_estimators=450, n_jobs=6,\n",
      "                       oob_score=True, random_state=None, verbose=0,\n",
      "                       warm_start=False)\n"
     ]
    },
    {
     "name": "stderr",
     "output_type": "stream",
     "text": [
      "\n"
     ]
    }
   ],
   "source": [
    "optimal_clf = GridSearchUsingOOB(grid, n_jobs=mp.cpu_count()//2)\n",
    "print('\\n\\noptimal Classifier :\\n\\n ',optimal_clf)"
   ]
  },
  {
   "cell_type": "code",
   "execution_count": 8,
   "metadata": {},
   "outputs": [
    {
     "name": "stdout",
     "output_type": "stream",
     "text": [
      "These are the hyperparametes for the optimal model \n",
      " n_estimators : 450\n",
      " max_features : 0.1\n",
      " min_samples_split : 10\n"
     ]
    }
   ],
   "source": [
    "optimal_n_estimators = optimal_clf.n_estimators\n",
    "optimal_max_features = optimal_clf.max_features\n",
    "optimal_min_samples_split = optimal_clf.min_samples_split\n",
    "\n",
    "print('These are the hyperparametes for the optimal model \\n n_estimators :',optimal_n_estimators)\n",
    "print(' max_features :',optimal_max_features)\n",
    "print(' min_samples_split :',optimal_min_samples_split)"
   ]
  },
  {
   "cell_type": "code",
   "execution_count": 9,
   "metadata": {},
   "outputs": [
    {
     "name": "stdout",
     "output_type": "stream",
     "text": [
      "Accuracies using Optimal classifier:\n",
      " Train accuracy : 0.8733639299677035\n",
      " Test accuracy : 0.8083538083538083\n",
      " Validation accuracy : 0.8064157240867792\n",
      " OOB accuracy : 0.8105635652805464\n"
     ]
    }
   ],
   "source": [
    "print(\"Accuracies using Optimal classifier:\\n Train accuracy :\",optimal_clf.score(X_train, Y_train))\n",
    "print(\" Test accuracy :\",optimal_clf.score(X_test, Y_test))\n",
    "print(\" Validation accuracy :\",optimal_clf.score(X_val, Y_val))\n",
    "print(\" OOB accuracy :\",optimal_clf.oob_score_)"
   ]
  },
  {
   "cell_type": "markdown",
   "metadata": {},
   "source": [
    "# Part D"
   ]
  },
  {
   "cell_type": "code",
   "execution_count": 20,
   "metadata": {},
   "outputs": [
    {
     "name": "stderr",
     "output_type": "stream",
     "text": [
      "100%|██████████| 5/5 [01:20<00:00, 16.04s/it]\n"
     ]
    },
    {
     "data": {
      "image/png": "[encoded data removed]",
      "text/plain": [
       "<Figure size 432x288 with 1 Axes>"
      ]
     },
     "metadata": {
      "needs_background": "light"
     },
     "output_type": "display_data"
    }
   ],
   "source": [
    "#Changing n_estimators\n",
    "n_est_lst = grid['n_estimators']\n",
    "val_score_lst = []\n",
    "test_score_lst = []\n",
    "oob_score_lst = []\n",
    "for n_est in tqdm(n_est_lst):\n",
    "    clf = RandomForestClassifier(n_estimators=n_est, max_features=optimal_max_features, min_samples_split=optimal_min_samples_split, oob_score=True, n_jobs=mp.cpu_count()//2).fit(X_train, Y_train)\n",
    "    test_score_lst.append(clf.score(X_test, Y_test)*100)\n",
    "    val_score_lst.append(clf.score(X_val, Y_val)*100)\n",
    "    oob_score_lst.append(clf.oob_score_*100)\n",
    "\n",
    "plt.plot(n_est_lst, test_score_lst, label='Test Score')\n",
    "plt.plot(n_est_lst, val_score_lst, label='Validation Score')\n",
    "plt.plot(n_est_lst, oob_score_lst, label='OOB Score')\n",
    "plt.legend()\n",
    "plt.title('n_estimators v/s Accuracy')\n",
    "plt.xlabel('n_estimators')\n",
    "plt.ylabel('Accuracy in %')\n",
    "plt.show()"
   ]
  },
  {
   "cell_type": "code",
   "execution_count": 17,
   "metadata": {},
   "outputs": [
    {
     "name": "stderr",
     "output_type": "stream",
     "text": [
      "100%|██████████| 5/5 [07:26<00:00, 89.30s/it]\n"
     ]
    },
    {
     "data": {
      "image/png": "[encoded data removed]",
      "text/plain": [
       "<Figure size 432x288 with 1 Axes>"
      ]
     },
     "metadata": {
      "needs_background": "light"
     },
     "output_type": "display_data"
    }
   ],
   "source": [
    "#Changing max_features\n",
    "max_feat_lst = grid['max_features']\n",
    "val_score_lst = []\n",
    "test_score_lst = []\n",
    "oob_score_lst = []\n",
    "for max_feat in tqdm(max_feat_lst):\n",
    "    clf = RandomForestClassifier(n_estimators=optimal_n_estimators, max_features=max_feat, min_samples_split=optimal_min_samples_split, oob_score=True, n_jobs=mp.cpu_count()//2).fit(X_train, Y_train)\n",
    "    test_score_lst.append(clf.score(X_test, Y_test)*100)\n",
    "    val_score_lst.append(clf.score(X_val, Y_val)*100)\n",
    "    oob_score_lst.append(clf.oob_score_*100)\n",
    "\n",
    "plt.plot(max_feat_lst, test_score_lst, label='Test Score')\n",
    "plt.plot(max_feat_lst, val_score_lst, label='Validation Score')\n",
    "plt.plot(max_feat_lst, oob_score_lst, label='OOB Score')\n",
    "plt.legend()\n",
    "plt.title('max_features v/s Accuracy')\n",
    "plt.xlabel('max_features')\n",
    "plt.ylabel('Accuracy in %')\n",
    "plt.show()"
   ]
  },
  {
   "cell_type": "code",
   "execution_count": 12,
   "metadata": {},
   "outputs": [
    {
     "name": "stderr",
     "output_type": "stream",
     "text": [
      "100%|██████████| 5/5 [02:41<00:00, 32.39s/it]\n"
     ]
    },
    {
     "data": {
      "image/png": "[encoded data removed]",
      "text/plain": [
       "<Figure size 432x288 with 1 Axes>"
      ]
     },
     "metadata": {
      "needs_background": "light"
     },
     "output_type": "display_data"
    }
   ],
   "source": [
    "#Changing min_samples_split\n",
    "min_sam_lst = grid['min_samples_split']\n",
    "val_score_lst = []\n",
    "test_score_lst = []\n",
    "oob_score_lst = []\n",
    "for min_sam in tqdm(min_sam_lst):\n",
    "    clf = RandomForestClassifier(n_estimators=optimal_n_estimators, max_features=optimal_max_features, min_samples_split=min_sam, oob_score=True, n_jobs=mp.cpu_count()//2).fit(X_train, Y_train)\n",
    "    test_score_lst.append(clf.score(X_test, Y_test)*100)\n",
    "    val_score_lst.append(clf.score(X_val, Y_val)*100)\n",
    "    oob_score_lst.append(clf.oob_score_*100)\n",
    "\n",
    "plt.plot(min_sam_lst, test_score_lst, label='Test Score')\n",
    "plt.plot(min_sam_lst, val_score_lst, label='Validation Score')\n",
    "plt.plot(min_sam_lst, oob_score_lst, label='OOB Score')\n",
    "plt.legend()\n",
    "plt.title('min_samples_split v/s Accuracy')\n",
    "plt.xlabel('min_samples_split')\n",
    "plt.ylabel('Accuracy in %')\n",
    "plt.show()"
   ]
  },
  {
   "cell_type": "code",
   "execution_count": null,
   "metadata": {},
   "outputs": [],
   "source": []
  },
  {
   "cell_type": "code",
   "execution_count": null,
   "metadata": {},
   "outputs": [],
   "source": []
  },
  {
   "cell_type": "code",
   "execution_count": null,
   "metadata": {},
   "outputs": [],
   "source": []
  },
  {
   "cell_type": "code",
   "execution_count": null,
   "metadata": {},
   "outputs": [],
   "source": []
  },
  {
   "cell_type": "code",
   "execution_count": null,
   "metadata": {},
   "outputs": [],
   "source": []
  },
  {
   "cell_type": "code",
   "execution_count": null,
   "metadata": {},
   "outputs": [],
   "source": []
  },
  {
   "cell_type": "code",
   "execution_count": null,
   "metadata": {},
   "outputs": [],
   "source": [
    "    \n",
    "#     def fit1(self, X, Y, X_test=None, Y_test=None, X_val=None, Y_val=None):\n",
    "#         '''\n",
    "#             Builds Tree using viven Train Dataset\n",
    "#         '''\n",
    "#         if self.get_train_data and (X_test is None or Y_test is None or X_val is None or Y_val is None):\n",
    "#             raise Exception('Please pass test and validation data to get train_data or pass get_train_data=False')\n",
    "#         queue = []\n",
    "#         X_train = X.copy()\n",
    "#         Y_train = Y.copy()\n",
    "        \n",
    "#         n_samples, n_feat = X.shape\n",
    "#         nY1 = (Y==1).sum()\n",
    "#         nY0 = n_samples - nY1\n",
    "#         majClass = 1 if nY1>nY0 else 0\n",
    "        \n",
    "#         bestSplit, median, maxIG = self._getBestSplit(X, Y)\n",
    "#         self.cnt+=1\n",
    "#         self.root = DTNode(splitFeat=bestSplit, splitVal=median, majorityClass=majClass)\n",
    "#         self.root.left = DTNode(parent=self.root, isLeft=True, majorityClass=majClass)\n",
    "#         self.root.right = DTNode(parent=self.root, isLeft=False, majorityClass=majClass)\n",
    "#         queue.append(self.root.left)\n",
    "#         queue.append(self.root.right)\n",
    "#         self.root.X=X\n",
    "#         self.root.Y=Y\n",
    "        \n",
    "#         while queue!=[]:\n",
    "#             if self.get_train_data and (self.cnt)%self.record_data_frequency==0:\n",
    "#                 self._record_accuracies(X_train, Y_train, X_test, Y_test, X_val, Y_val)\n",
    "    \n",
    "#             self.cnt+=1\n",
    "#             node = queue.pop(0)\n",
    "#             X = node.parent.X\n",
    "#             Y = node.parent.Y\n",
    "#             if node.isLeft:\n",
    "#                 X_ = X[X[:,node.parent.splitFeat]<=node.parent.splitVal]\n",
    "#                 Y_ = Y[X[:,node.parent.splitFeat]<=node.parent.splitVal]\n",
    "#             else:\n",
    "#                 X_ = X[X[:,node.parent.splitFeat]>node.parent.splitVal]\n",
    "#                 Y_ = Y[X[:,node.parent.splitFeat]>node.parent.splitVal]\n",
    "#             n_samples_, n_feat_ = X_.shape\n",
    "#             nY1_ = (Y_==1).sum()\n",
    "#             nY0_ = n_samples_ - nY1_\n",
    "#             majClass = 1 if nY1_>nY0_ else 0\n",
    "#             node.majorityClass=majClass\n",
    "#             if (nY1_ == 0) or (nY0_==0):\n",
    "#                 self.leafNodes+=1\n",
    "#                 continue\n",
    "#             else:\n",
    "#                 bestSplit_, median_, maxIG_ = self._getBestSplit(X_, Y_)\n",
    "#                 if(bestSplit_==-np.inf) or maxIG_==0:\n",
    "#                     self.leafNodes+=1\n",
    "#                     continue\n",
    "#                 node.splitFeat = bestSplit_\n",
    "#                 node.splitVal = median_\n",
    "#                 node.X = X_\n",
    "#                 node.Y = Y_\n",
    "#                 node.left = DTNode(parent=node, isLeft=True, majorityClass=majClass)\n",
    "#                 node.right = DTNode(parent=node, isLeft=False, majorityClass=majClass)\n",
    "#                 queue.append(node.left)\n",
    "#                 queue.append(node.right)\n",
    "        \n",
    "#         if self.get_train_data:\n",
    "#             self._record_accuracies(X_train, Y_train, X_test, Y_test, X_val, Y_val)\n",
    "# #         print('Generate tree with %d Nodes'%(self.cnt))    "
   ]
  },
  {
   "cell_type": "code",
   "execution_count": 8,
   "metadata": {},
   "outputs": [
    {
     "name": "stdout",
     "output_type": "stream",
     "text": [
      "max_depth 53\n",
      "Number of nodes 21007\n",
      "Number of leaves 10504\n",
      "Number of leaves with y=1 4819\n",
      "Number of leaves with y=0 5685\n"
     ]
    }
   ],
   "source": [
    "leaves = 0\n",
    "leaves1 = 0\n",
    "leaves0=0\n",
    "nodes = 0\n",
    "def isLeaf(node):\n",
    "    if (node.left==None and node.right!=None) or (node.left!=None and node.right==None):\n",
    "        print('Problem')\n",
    "    if node.left==None and node.right==None:\n",
    "        return True\n",
    "    else:\n",
    "        return False\n",
    "    \n",
    "def dfs(node):\n",
    "    global leaves\n",
    "    global nodes\n",
    "    global leaves1\n",
    "    global leaves0\n",
    "    \n",
    "    nodes+=1\n",
    "    if isLeaf(node):\n",
    "        leaves += 1\n",
    "        if(node.majorityClass==1):\n",
    "            leaves1+=1\n",
    "        else:\n",
    "            leaves0+=1\n",
    "        return 1\n",
    "    \n",
    "    mx_depth=0\n",
    "    \n",
    "    mx_depth = max(mx_depth, dfs(node.left))\n",
    "    mx_depth = max(mx_depth, dfs(node.right))\n",
    "    return mx_depth+1\n",
    "\n",
    "print('max_depth', dfs(dt.root))\n",
    "print('Number of nodes', nodes)\n",
    "print('Number of leaves', leaves)\n",
    "print('Number of leaves with y=1', leaves1)\n",
    "print('Number of leaves with y=0', leaves0)\n",
    "\n",
    "\n",
    "\n",
    "\n",
    "################################DT node with option of training with iterative or recursive approach####################\n",
    "# class DTNode:\n",
    "    \n",
    "#     def __init__(self, splitFeat=None, splitVal=None, majorityClass=None, parent=None, isLeft=True):\n",
    "#         self.splitFeat = splitFeat\n",
    "#         self.splitVal = splitVal\n",
    "#         self.majorityClass = majorityClass\n",
    "#         self.parent = parent\n",
    "#         self.isLeft = isLeft\n",
    "#         self.left = None\n",
    "#         self.right = None\n",
    "#         self.X = None\n",
    "#         self.Y = None\n",
    "\n",
    "# class DecisionTree:\n",
    "    \n",
    "#     def __init__(self, get_train_data=False, generate_iteratively=True, min_IG_split = 1e-30, record_data_frequency=100):\n",
    "#         self.root = None\n",
    "#         self.cnt = 1\n",
    "#         self.get_train_data = get_train_data\n",
    "#         self.min_IG_split = min_IG_split\n",
    "#         self.generate_iteratively = generate_iteratively\n",
    "#         self.record_data_frequency = record_data_frequency\n",
    "#         if self.get_train_data:\n",
    "#             self.train_data = {'train_acc':[], 'test_acc':[], 'val_acc':[]}\n",
    "        \n",
    "#     def fit(self, X, Y, X_test=None, Y_test=None, X_val=None, Y_val=None):\n",
    "#         if self.get_train_data and (X_test is None or Y_test is None or X_val is None or Y_val is None):\n",
    "#             raise Exception('Please pass test and validation data to get train_data or pass get_train_data=False')\n",
    "#         if self.generate_iteratively:\n",
    "#             self.fit_iterative(X, Y, X_test, Y_test, X_val, Y_val)\n",
    "#         else:\n",
    "#             self.fit_recursive(X, Y, X_test, Y_test, X_val, Y_val)\n",
    "#     def fit_recursive(self, X, Y, X_test=None, Y_test=None, X_val=None, Y_val=None):\n",
    "        \n",
    "#         X_train = X.copy()\n",
    "#         Y_train = Y.copy()\n",
    "        \n",
    "#         (n_samples, n_feat) = X.shape\n",
    "#         nY1 = (Y==1).sum()\n",
    "#         nY0 = n_samples - nY1\n",
    "#         majClass = 1 if nY1>nY0 else 0\n",
    "\n",
    "#         bestSplit, median, max_IG = self._getBestSplit(X, Y)\n",
    "\n",
    "#         self.root = DTNode(splitFeat=bestSplit, splitVal=median, majorityClass=majClass)\n",
    "#         self.root.left = self._growTree(X[X[:,bestSplit]<=median], Y[X[:,bestSplit]<=median], X_train, Y_train, X_test, Y_test, X_val, Y_val)\n",
    "#         self.root.right = self._growTree(X[X[:,bestSplit]>median], Y[X[:,bestSplit]>median], X_train, Y_train, X_test, Y_test, X_val, Y_val)\n",
    "#         if self.get_train_data:\n",
    "#             self.train_data['train_acc'].append(self.score(X_train, Y_train))\n",
    "#             self.train_data['test_acc'].append(self.score(X_test, Y_test))\n",
    "#             self.train_data['val_acc'].append(self.score(X_val, Y_val))\n",
    "#         print('Generate tree with %d Nodes'%(self.cnt))\n",
    "        \n",
    "    \n",
    "#     def _growTree(self, X, Y, X_train, Y_train, X_test, Y_test, X_val, Y_val):\n",
    "        \n",
    "#         if self.get_train_data and (self.cnt-1)%self.record_data_frequency==0:\n",
    "#                 self.train_data['train_acc'].append(self.score(X_train, Y_train))\n",
    "#                 self.train_data['test_acc'].append(self.score(X_test, Y_test))\n",
    "#                 self.train_data['val_acc'].append(self.score(X_val, Y_val))\n",
    "                \n",
    "#         self.cnt+=1\n",
    "#         (n_samples, n_feat) = X.shape\n",
    "#         nY1 = (Y==1).sum()\n",
    "#         nY0 = n_samples - nY1\n",
    "        \n",
    "#         majClass = 1 if nY1>nY0 else 0\n",
    "        \n",
    "#         if (nY1==0) or (nY0==0):\n",
    "#             return DTNode(majorityClass=majClass)\n",
    "#         else:\n",
    "#             bestSplit, median, max_IG = self._getBestSplit(X, Y)\n",
    "#             if bestSplit==-np.inf or max_IG<self.min_IG_split:\n",
    "#                 return DTNode(majorityClass=majClass)\n",
    "            \n",
    "#             node_ = DTNode(splitFeat=bestSplit, splitVal=median, majorityClass=majClass)\n",
    "#             node_.left = self._growTree(X[X[:,bestSplit]<=median], Y[X[:,bestSplit]<=median], X_train, Y_train, X_test, Y_test, X_val, Y_val)\n",
    "#             node_.right = self._growTree(X[X[:,bestSplit]>median], Y[X[:,bestSplit]>median], X_train, Y_train, X_test, Y_test, X_val, Y_val)\n",
    "#             return node_\n",
    "        \n",
    "        \n",
    "#     def fit_iterative(self, X, Y, X_test=None, Y_test=None, X_val=None, Y_val=None):\n",
    "#         queue = []\n",
    "#         X_train = X.copy()\n",
    "#         Y_train = Y.copy()\n",
    "        \n",
    "#         n_samples, n_feat = X.shape\n",
    "#         nY1 = (Y==1).sum()\n",
    "#         nY0 = n_samples - nY1\n",
    "#         majClass = 1 if nY1>nY0 else 0\n",
    "        \n",
    "#         bestSplit, median, maxIG = self._getBestSplit(X, Y)\n",
    "        \n",
    "#         self.root = DTNode(splitFeat=bestSplit, splitVal=median, majorityClass=majClass)\n",
    "#         self.root.left = DTNode(parent=self.root, isLeft=True, majorityClass=majClass)\n",
    "#         self.root.right = DTNode(parent=self.root, isLeft=False, majorityClass=majClass)\n",
    "#         queue.append(self.root.left)\n",
    "#         queue.append(self.root.right)\n",
    "#         self.root.X=X\n",
    "#         self.root.Y=Y\n",
    "        \n",
    "#         while queue!=[]:\n",
    "# #             print(len(queue))\n",
    "# #             print(self.cnt)\n",
    "#             if self.get_train_data and (self.cnt-1)%self.record_data_frequency==0:\n",
    "#                 self.train_data['train_acc'].append(self.score(X_train, Y_train))\n",
    "#                 self.train_data['test_acc'].append(self.score(X_test, Y_test))\n",
    "#                 self.train_data['val_acc'].append(self.score(X_val, Y_val))\n",
    "    \n",
    "#             self.cnt+=1\n",
    "#             node = queue.pop(0)\n",
    "#             X = node.parent.X\n",
    "#             Y = node.parent.Y\n",
    "#             if node.isLeft:\n",
    "#                 X_ = X[X[:,node.parent.splitFeat]<=node.parent.splitVal]\n",
    "#                 Y_ = Y[X[:,node.parent.splitFeat]<=node.parent.splitVal]\n",
    "#             else:\n",
    "#                 X_ = X[X[:,node.parent.splitFeat]>node.parent.splitVal]\n",
    "#                 Y_ = Y[X[:,node.parent.splitFeat]>node.parent.splitVal]\n",
    "#             n_samples_, n_feat_ = X_.shape\n",
    "#             nY1_ = (Y_==1).sum()\n",
    "#             nY0_ = n_samples_ - nY1_\n",
    "#             majClass = 1 if nY1_>nY0_ else 0\n",
    "#             node.majorityClass=majClass\n",
    "#             if (nY1_ == 0) or (nY0_==0):\n",
    "#                 continue\n",
    "#             else:\n",
    "#                 bestSplit_, median_, maxIG_ = self._getBestSplit(X_, Y_)\n",
    "#                 if(bestSplit_==-np.inf) or maxIG_<self.min_IG_split:\n",
    "#                     continue\n",
    "#                 node.splitFeat = bestSplit_\n",
    "#                 node.splitVal = median_\n",
    "#                 node.X = X_\n",
    "#                 node.Y = Y_\n",
    "#                 node.left = DTNode(parent=node, isLeft=True, majorityClass=majClass)\n",
    "#                 node.right = DTNode(parent=node, isLeft=False, majorityClass=majClass)\n",
    "#                 queue.append(node.left)\n",
    "#                 queue.append(node.right)\n",
    "#         if self.get_train_data:\n",
    "#             self.train_data['train_acc'].append(self.score(X_train, Y_train))\n",
    "#             self.train_data['test_acc'].append(self.score(X_test, Y_test))\n",
    "#             self.train_data['val_acc'].append(self.score(X_val, Y_val))\n",
    "#         print('Generate tree with %d Nodes'%(self.cnt))\n",
    "        \n",
    "        \n",
    "#     def _getBestSplit(self, X, Y):        \n",
    "#         n_samples, n_feat = X.shape\n",
    "#         optimal_split, optimal_median = -np.inf, -np.inf\n",
    "#         max_IG = -np.inf\n",
    "#         median_arr = np.median(X, axis=0)\n",
    "#         for i in range(n_feat):\n",
    "#             median = median_arr[i]\n",
    "# #             median = np.median(X[:,i])\n",
    "#             ig = self._getInformationGain(X,Y,i,median)\n",
    "#             if ig > max_IG:\n",
    "#                 max_IG = ig\n",
    "#                 optimal_split = i\n",
    "#                 optimal_median = median\n",
    "#         return (optimal_split, optimal_median, max_IG)\n",
    "        \n",
    "#     def _entropy(self, X, Y):\n",
    "#         n_samples, n_feat = X.shape\n",
    "#         nY1 = (Y==1).sum()\n",
    "#         nY0 = n_samples-nY1\n",
    "        \n",
    "#         if n_samples==0:\n",
    "#             return np.inf\n",
    "#         elif nY1==0 or nY0==0:\n",
    "#             return 0\n",
    "#         else:\n",
    "#             return (-nY0*math.log(nY0/n_samples)-nY1*math.log(nY1/n_samples))/n_samples\n",
    "    \n",
    "#     def _getInformationGain(self, X, Y, i, median):\n",
    "        \n",
    "#         entBefore = self._entropy(X,Y)\n",
    "        \n",
    "#         X_lte = X[X[:,i]<=median]\n",
    "#         Y_lte = Y[X[:,i]<=median]\n",
    "#         X_gt = X[X[:,i]>median]\n",
    "#         Y_gt = Y[X[:,i]>median]\n",
    "        \n",
    "#         entAfter = ((Y_lte.shape[0])*self._entropy(X_lte, Y_lte) + (Y_gt.shape[0])*self._entropy(X_gt, Y_gt))/(Y.shape[0])\n",
    "#         return (entBefore-entAfter)\n",
    "    \n",
    "#     def score(self, X, Y):\n",
    "#         return (self.predict(X)==Y).sum()/Y.shape[0]\n",
    "    \n",
    "#     def predict(self, X):\n",
    "#         pred=[]\n",
    "#         for row in X:\n",
    "#             pred.append(self._predict(row))\n",
    "#         return pred\n",
    "    \n",
    "#     def _predict(self, row):\n",
    "#         node=self.root\n",
    "#         while(node.left is not None and node.right is not None):\n",
    "#             if row[node.splitFeat]<=node.splitVal:\n",
    "#                 node=node.left\n",
    "#             elif row[node.splitFeat]>node.splitVal:\n",
    "#                 node=node.right\n",
    "#         pred = node.majorityClass\n",
    "#         return pred\n",
    "    \n",
    "#     def plot_training_data(self):\n",
    "#         if self.get_train_data:\n",
    "#             plt.figure(figsize=(12,8))\n",
    "#             n_nodes_lst = list(range(1,(len(self.train_data['train_acc'])-1)*self.record_data_frequency, self.record_data_frequency))\n",
    "#             n_nodes_lst.append(self.cnt)\n",
    "#             plt.plot(n_nodes_lst, self.train_data['train_acc'], label='Train Accuracy')\n",
    "#             plt.plot(n_nodes_lst, self.train_data['test_acc'], label='Test Accuracy')\n",
    "#             plt.plot(n_nodes_lst, self.train_data['val_acc'], label='Validation Accuracy')\n",
    "#             plt.legend()\n",
    "#             plt.xlabel('Number of nodes')\n",
    "#             plt.ylabel('Accuracies')\n",
    "#             plt.title('Number of nodes v/s Accuracies')\n",
    "#             plt.show()\n",
    "#         else:\n",
    "#             raise Exception('Please pass get_train_data=True to get this plot')"
   ]
  },
  {
   "cell_type": "code",
   "execution_count": null,
   "metadata": {},
   "outputs": [],
   "source": []
  },
  {
   "cell_type": "code",
   "execution_count": null,
   "metadata": {},
   "outputs": [],
   "source": []
  }
 ],
 "metadata": {
  "kernelspec": {
   "display_name": "Python 3",
   "language": "python",
   "name": "python3"
  },
  "language_info": {
   "codemirror_mode": {
    "name": "ipython",
    "version": 3
   },
   "file_extension": ".py",
   "mimetype": "text/x-python",
   "name": "python",
   "nbconvert_exporter": "python",
   "pygments_lexer": "ipython3",
   "version": "3.6.5"
  }
 },
 "nbformat": 4,
 "nbformat_minor": 4
}
