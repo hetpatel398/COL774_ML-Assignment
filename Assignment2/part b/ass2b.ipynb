{
 "cells": [
  {
   "cell_type": "markdown",
   "metadata": {},
   "source": [
    "# Assignment 2 (Part b) : SVMs\n",
    "# Qeustion 1 : Binary Classification "
   ]
  },
  {
   "cell_type": "code",
   "execution_count": 7,
   "metadata": {},
   "outputs": [],
   "source": [
    "import pandas as pd\n",
    "import numpy as np\n",
    "import matplotlib.pyplot as plt\n",
    "import seaborn as sns\n",
    "import pickle\n",
    "from tqdm import tqdm\n",
    "from time import time\n",
    "import math\n",
    "from cvxopt import solvers, matrix\n",
    "\n",
    "from scipy.spatial.distance import cdist\n",
    "\n",
    "from sklearn.svm import SVC\n",
    "from sklearn.metrics import accuracy_score\n",
    "\n",
    "from itertools import combinations \n",
    "\n",
    "from joblib import Parallel, delayed\n",
    "import multiprocessing"
   ]
  },
  {
   "cell_type": "code",
   "execution_count": 2,
   "metadata": {},
   "outputs": [],
   "source": [
    "def getData(train, test, val, class1=2, class2=3):\n",
    "    train = train[np.logical_or(train[:,-1]==class1, train[:,-1]==class2)] \n",
    "    val = val[np.logical_or(val[:,-1]==class1, val[:,-1]==class2)] \n",
    "    test = test[np.logical_or(test[:,-1]==class1, test[:,-1]==class2)] \n",
    "\n",
    "    X_train = train[:,:-1]/255\n",
    "    Y_train = train[:,-1]\n",
    "    Y_train = np.array([-1 if i==class1 else 1 for i in Y_train], dtype=int).reshape((Y_train.shape[0],1))\n",
    "\n",
    "    X_val = val[:,:-1]/255\n",
    "    Y_val = val[:,-1]\n",
    "    Y_val = np.array([-1 if i==class1 else 1 for i in Y_val], dtype=int).reshape((Y_val.shape[0],1))\n",
    "\n",
    "    X_test = test[:,:-1]/255\n",
    "    Y_test = test[:,-1]\n",
    "    Y_test = np.array([-1 if i==class1 else 1 for i in Y_test], dtype=int).reshape((Y_test.shape[0],1))\n",
    "    \n",
    "    return (X_train, Y_train, X_val, Y_val, X_test, Y_test)\n",
    "\n",
    "train = pd.read_csv('./data/train.csv', header=None).to_numpy()\n",
    "val = pd.read_csv('./data/val.csv', header=None).to_numpy()\n",
    "test = pd.read_csv('./data/test.csv', header=None).to_numpy()\n",
    "\n",
    "(X_train, Y_train, X_val, Y_val, X_test, Y_test) = getData(train, test, val, class1=2, class2=3)\n",
    "\n",
    "X_train_whole = train[:,:-1]/255\n",
    "Y_train_whole = train[:,-1].ravel()\n",
    "Y_train_whole = Y_train_whole.astype(int)\n",
    "\n",
    "X_val_whole = val[:,:-1]/255\n",
    "Y_val_whole = val[:,-1].ravel()\n",
    "Y_val_whole = Y_val_whole.astype(int)\n",
    "\n",
    "X_test_whole = test[:,:-1]/255\n",
    "Y_test_whole = test[:,-1].ravel()\n",
    "Y_test_whole = Y_test_whole.astype(int)"
   ]
  },
  {
   "cell_type": "code",
   "execution_count": 3,
   "metadata": {},
   "outputs": [
    {
     "data": {
      "image/png": "[encoded data removed]",
      "text/plain": [
       "<Figure size 432x288 with 1 Axes>"
      ]
     },
     "metadata": {
      "needs_background": "light"
     },
     "output_type": "display_data"
    },
    {
     "data": {
      "image/png": "[encoded data removed]",
      "text/plain": [
       "<Figure size 432x288 with 1 Axes>"
      ]
     },
     "metadata": {
      "needs_background": "light"
     },
     "output_type": "display_data"
    }
   ],
   "source": [
    "plt.imshow(X_train[np.where(Y_train.ravel() == -1)][0].reshape((28,28)), cmap='gray')\n",
    "plt.title('Y = 2 (Pullover)')\n",
    "plt.show()\n",
    "plt.imshow(X_train[np.where(Y_train.ravel() == 1)][0].reshape((28,28)), cmap='gray')\n",
    "plt.title('Y = 3 (Dress)')\n",
    "plt.show()"
   ]
  },
  {
   "cell_type": "markdown",
   "metadata": {},
   "source": [
    "## Part (a) : Implementing Linear SVM"
   ]
  },
  {
   "cell_type": "code",
   "execution_count": 4,
   "metadata": {},
   "outputs": [],
   "source": [
    "class SVM:\n",
    "    '''\n",
    "    This class provides implementation of SVM.\n",
    "    \n",
    "    **************\n",
    "    Parameters:\n",
    "    C : Regularization parameter (Defalts 1.0)\n",
    "    threshold : Threshold for alphas i.e. alpha values below this will be treated as 0 (Defalts 1e-5)\n",
    "    kernel : Type of kernel you want to use ('linear' or 'rbf')\n",
    "    gamma : Hyperparameter for rbf kernel\n",
    "    showTime : Boolean to show time taken to fit\n",
    "    **************\n",
    "    '''\n",
    "    __slots__=['C', 'threshold', 'kernel', 'gamma', 'showTime', 'silentCVXOPT', 'alphas', 'nSV', 'SV_indices', 'SV_y', 'SV', 'w', 'b']\n",
    "\n",
    "    def __init__(self, C=1, threshold=1e-5, kernel='linear', gamma=0.05, showTime=True, silentCVXOPT = False):\n",
    "        self.C = C\n",
    "        self.threshold = threshold\n",
    "        self.kernel = kernel\n",
    "        self.gamma = gamma\n",
    "        self.showTime = showTime\n",
    "        self.silentCVXOPT = silentCVXOPT\n",
    "    \n",
    "    def _getRBFKernelMat(self, X, gamma = 0.05):\n",
    "        return np.exp(-gamma*(cdist(X,X,'euclidean')**2))\n",
    "    \n",
    "    def fit(self, X_train, Y_train):\n",
    "        t0 = time()\n",
    "        \n",
    "        if self.kernel=='linear':\n",
    "            P = Y_train.dot(Y_train.T) * (X_train.dot(X_train.T))\n",
    "        elif self.kernel=='rbf':\n",
    "            K = self._getRBFKernelMat(X_train, self.gamma)\n",
    "            P = Y_train.dot(Y_train.T) * (K)\n",
    "        P=matrix(P,tc='d')\n",
    "\n",
    "        q = -np.ones(X_train.shape[0])\n",
    "        q=matrix(q,tc='d')\n",
    "\n",
    "        G = np.vstack((-np.identity(X_train.shape[0]), np.identity(X_train.shape[0])))\n",
    "        G=matrix(G,tc='d')\n",
    "\n",
    "        h = np.hstack((np.zeros(X_train.shape[0]), np.zeros(X_train.shape[0])+self.C))\n",
    "        h=matrix(h,tc='d')\n",
    "\n",
    "        A = Y_train.T\n",
    "        A = matrix(A,tc='d')\n",
    "        b=matrix([0],tc='d')\n",
    "        if self.silentCVXOPT:\n",
    "            solvers.options['show_progress'] = False\n",
    "        opt = solvers.qp(P, q, G, h, A, b)\n",
    "\n",
    "        self.alphas = np.array(opt['x']).ravel()\n",
    "\n",
    "        self.alphas[self.alphas<self.threshold] = 0\n",
    "\n",
    "        self.nSV = np.where(self.alphas > 0)[0].shape[0]\n",
    "        self.SV_indices = np.where(self.alphas > 0)[0]\n",
    "        self.SV_y = Y_train[self.SV_indices].ravel()\n",
    "        self.SV = X_train[self.SV_indices]\n",
    "        \n",
    "        if self.kernel == 'linear':\n",
    "            self.w = (X_train[self.SV_indices]).T.dot((Y_train[self.SV_indices].ravel())*self.alphas[self.SV_indices])\n",
    "            X_pos = X_train[np.where(Y_train.ravel() == 1)]\n",
    "            X_neg = X_train[np.where(Y_train.ravel() == -1)]\n",
    "            self.b = -(1/2)*(min(X_pos.dot(self.w)) + max(X_neg.dot(self.w)))\n",
    "\n",
    "        elif self.kernel == 'rbf':\n",
    "            X_pos_indices = np.where(Y_train.ravel() == 1)[0]\n",
    "            X_neg_indices = np.where(Y_train.ravel() == -1)[0]\n",
    "            alphaiXyi = self.alphas*Y_train.ravel()\n",
    "            Min = math.inf\n",
    "            for i in X_pos_indices:            \n",
    "                Sum = 0\n",
    "                for j in self.SV_indices:\n",
    "                    Sum = Sum + (alphaiXyi[j] * K[i,j])\n",
    "                if(Sum<Min):\n",
    "                    Min=Sum\n",
    "            Max = -math.inf\n",
    "            for i in X_neg_indices:\n",
    "                Sum = 0\n",
    "                for j in self.SV_indices:\n",
    "                    Sum = Sum + (alphaiXyi[j] * K[i,j])\n",
    "                if(Sum>Max):\n",
    "                    Max=Sum\n",
    "            self.b = -(1/2)*(Max+Min)\n",
    "        if self.showTime:\n",
    "            print(\"Training completed in %.2f seconds\"%((time()-t0)))\n",
    "        \n",
    "\n",
    "    def predict(self,X):\n",
    "        pred = list()\n",
    "        if self.kernel=='linear':\n",
    "            for pt in X:\n",
    "                if (self.SV).T.dot(self.SV_y*self.alphas[self.SV_indices]).dot(pt) + self.b > 0:\n",
    "                    pred.append(1)\n",
    "                else:\n",
    "                    pred.append(-1)\n",
    "        elif self.kernel=='rbf':\n",
    "            wTxB = (np.exp(-0.05*cdist(self.SV, X)**2).T)@(self.alphas[self.SV_indices]*self.SV_y).reshape((-1,1)) + self.b\n",
    "            wTxB[wTxB > 0] = 1\n",
    "            wTxB[wTxB < 0] = -1\n",
    "            pred = wTxB\n",
    "        return np.array(pred, dtype='int32')\n",
    "    \n",
    "    def decision_function(self, X):\n",
    "        score = list()\n",
    "        if self.kernel=='linear':\n",
    "            for pt in X:\n",
    "                score.append((self.SV).T.dot(self.SV_y*self.alphas[self.SV_indices]).dot(pt) + self.b)\n",
    "        elif self.kernel=='rbf':\n",
    "            score = (np.exp(-0.05*cdist(self.SV, X)**2).T)@(self.alphas[self.SV_indices]*self.SV_y).reshape((-1,1)) + self.b\n",
    "        return np.array(score)\n",
    "        \n",
    "#     def get_alphas(self):\n",
    "#         return self.alphas\n",
    "#     def get_nSV(self):\n",
    "#         return self.nSV\n",
    "#     def get_SV_indices(self):\n",
    "#         return self.SV_indices\n",
    "#     def get_SV_y(self):\n",
    "#         return self.SV_y\n",
    "#     def get_SV(self):\n",
    "#         return self.SV\n",
    "#     def get_w(self):\n",
    "#         return self.w\n",
    "#     def get_b(self):\n",
    "#         return self.b\n",
    "\n",
    "class metrics:\n",
    "    \n",
    "    def accuracy_score(y_true, y_pred):\n",
    "        true = sum(y_true.ravel() == y_pred.ravel())\n",
    "        return true*100/len(y_true)\n",
    "    \n",
    "    def confusion_matrix(y_true, y_pred, title = 'Confusion Matrix'):\n",
    "        classes = np.unique(y_true)\n",
    "        n_classes=len(classes)\n",
    "        cm=pd.DataFrame(np.zeros((n_classes,n_classes), dtype=int), index=classes, columns=classes)\n",
    "        \n",
    "        for i in range(len(y_true)):\n",
    "            cm[y_pred[i],y_true[i]]+=1\n",
    "        \n",
    "        plt.figure(figsize=(10,10))\n",
    "        sns.heatmap(cm, annot=True, fmt=\"d\", cbar=False, linecolor='black',linewidth='0', \\\n",
    "        cmap='blues', xticklabels=classes, yticklabels=classes)\n",
    "        plt.xlabel('Actual')\n",
    "        plt.ylabel('Predicted')\n",
    "        plt.title(title)\n",
    "        plt.show()"
   ]
  },
  {
   "cell_type": "code",
   "execution_count": 5,
   "metadata": {},
   "outputs": [
    {
     "name": "stdout",
     "output_type": "stream",
     "text": [
      "     pcost       dcost       gap    pres   dres\n",
      " 0: -5.2396e+02 -9.3983e+03  5e+04  3e+00  3e-12\n",
      " 1: -3.3568e+02 -5.4793e+03  1e+04  5e-01  3e-12\n",
      " 2: -2.0714e+02 -1.8273e+03  3e+03  1e-01  2e-12\n",
      " 3: -1.4999e+02 -9.1602e+02  1e+03  5e-02  2e-12\n",
      " 4: -1.1131e+02 -4.9405e+02  6e+02  2e-02  1e-12\n",
      " 5: -9.0544e+01 -3.1115e+02  3e+02  8e-03  1e-12\n",
      " 6: -8.5666e+01 -1.4689e+02  7e+01  6e-04  1e-12\n",
      " 7: -9.2854e+01 -1.1845e+02  3e+01  2e-16  1e-12\n",
      " 8: -9.8193e+01 -1.0801e+02  1e+01  6e-15  1e-12\n",
      " 9: -1.0058e+02 -1.0337e+02  3e+00  8e-15  1e-12\n",
      "10: -1.0167e+02 -1.0194e+02  3e-01  3e-15  1e-12\n",
      "11: -1.0178e+02 -1.0179e+02  5e-03  2e-15  1e-12\n",
      "12: -1.0179e+02 -1.0179e+02  9e-05  1e-14  1e-12\n",
      "Optimal solution found.\n",
      "Training completed in 67.98 seconds\n"
     ]
    }
   ],
   "source": [
    "linearSVM = SVM(C=1.0, threshold=1e-5, kernel='linear')\n",
    "\n",
    "linearSVM.fit(X_train, Y_train)"
   ]
  },
  {
   "cell_type": "code",
   "execution_count": 6,
   "metadata": {},
   "outputs": [
    {
     "name": "stdout",
     "output_type": "stream",
     "text": [
      "Number of support vectors : 370\n"
     ]
    }
   ],
   "source": [
    "print('Number of support vectors :',linearSVM.nSV)"
   ]
  },
  {
   "cell_type": "code",
   "execution_count": 7,
   "metadata": {},
   "outputs": [
    {
     "name": "stdout",
     "output_type": "stream",
     "text": [
      "Accuracy on Train Dataset :  92.77777777777777\n",
      "Accuracy on Validation Dataset :  89.6\n",
      "Accuracy on Test Dataset :  91.3\n"
     ]
    }
   ],
   "source": [
    "pred_train = linearSVM.predict(X_train)\n",
    "accuracy_train = metrics.accuracy_score(Y_train, pred_train)\n",
    "\n",
    "pred_test = linearSVM.predict(X_test)\n",
    "accuracy_test = metrics.accuracy_score(Y_test, pred_test)\n",
    "\n",
    "pred_val = linearSVM.predict(X_val)\n",
    "accuracy_val = metrics.accuracy_score(Y_val, pred_val)\n",
    "\n",
    "print('Accuracy on Train Dataset : ', accuracy_train)\n",
    "print('Accuracy on Validation Dataset : ', accuracy_val)\n",
    "print('Accuracy on Test Dataset : ', accuracy_test)"
   ]
  },
  {
   "cell_type": "markdown",
   "metadata": {},
   "source": [
    "## Part B : Applying SVM with Gaussian Kernel"
   ]
  },
  {
   "cell_type": "code",
   "execution_count": 9,
   "metadata": {},
   "outputs": [
    {
     "name": "stdout",
     "output_type": "stream",
     "text": [
      "     pcost       dcost       gap    pres   dres\n",
      " 0: -3.0404e+02 -8.2833e+03  4e+04  2e+00  1e-15\n",
      " 1: -2.1981e+02 -4.4663e+03  7e+03  3e-01  2e-15\n",
      " 2: -1.8274e+02 -1.0106e+03  1e+03  3e-02  2e-15\n",
      " 3: -2.3561e+02 -4.7608e+02  3e+02  6e-03  2e-15\n",
      " 4: -2.6244e+02 -3.3488e+02  8e+01  1e-03  2e-15\n",
      " 5: -2.7389e+02 -2.9769e+02  2e+01  2e-04  2e-15\n",
      " 6: -2.7877e+02 -2.8539e+02  7e+00  4e-05  2e-15\n",
      " 7: -2.8041e+02 -2.8192e+02  2e+00  3e-06  2e-15\n",
      " 8: -2.8091e+02 -2.8102e+02  1e-01  7e-08  2e-15\n",
      " 9: -2.8095e+02 -2.8095e+02  2e-03  9e-10  2e-15\n",
      "10: -2.8095e+02 -2.8095e+02  4e-05  1e-11  2e-15\n",
      "Optimal solution found.\n",
      "Training completed in 67.55 seconds\n"
     ]
    }
   ],
   "source": [
    "rbfSVM = SVM(C=1.0, threshold=1e-5, kernel='rbf', gamma=0.05)\n",
    "\n",
    "rbfSVM.fit(X_train, Y_train)"
   ]
  },
  {
   "cell_type": "code",
   "execution_count": 10,
   "metadata": {},
   "outputs": [
    {
     "data": {
      "text/plain": [
       "-0.5344522525496851"
      ]
     },
     "execution_count": 10,
     "metadata": {},
     "output_type": "execute_result"
    }
   ],
   "source": [
    "rbfSVM.b"
   ]
  },
  {
   "cell_type": "code",
   "execution_count": 11,
   "metadata": {},
   "outputs": [
    {
     "name": "stdout",
     "output_type": "stream",
     "text": [
      "Number of support vectors in RBF-SVM: 1123\n"
     ]
    }
   ],
   "source": [
    "print('Number of support vectors in RBF-SVM:',rbfSVM.nSV)"
   ]
  },
  {
   "cell_type": "code",
   "execution_count": 12,
   "metadata": {},
   "outputs": [
    {
     "name": "stdout",
     "output_type": "stream",
     "text": [
      "Accuracy on Train Dataset : 99.4\n",
      "Accuracy on Validation Dataset : 97.2\n",
      "Accuracy on Test Dataset : 96.1\n"
     ]
    }
   ],
   "source": [
    "pred_train = rbfSVM.predict(X_train)\n",
    "accuracy_train = metrics.accuracy_score(Y_train, pred_train)\n",
    "\n",
    "pred_test = rbfSVM.predict(X_test)\n",
    "accuracy_test = metrics.accuracy_score(Y_test, pred_test)\n",
    "\n",
    "pred_val = rbfSVM.predict(X_val)\n",
    "accuracy_val = metrics.accuracy_score(Y_val, pred_val)\n",
    "\n",
    "print('Accuracy on Train Dataset :', accuracy_train)\n",
    "print('Accuracy on Validation Dataset :', accuracy_val)\n",
    "print('Accuracy on Test Dataset :', accuracy_test)"
   ]
  },
  {
   "cell_type": "markdown",
   "metadata": {},
   "source": [
    "## Part c : Comparing our implementation with scikit-learn's implementation"
   ]
  },
  {
   "cell_type": "code",
   "execution_count": 5,
   "metadata": {},
   "outputs": [
    {
     "name": "stdout",
     "output_type": "stream",
     "text": [
      "Linear SVM trined in 2.43 sec\n",
      "nSV : [167 196]\n",
      "Total Support vectors : 363\n",
      "Accuracy on train data 99.56 %\n",
      "Accuracy on validation data 97.00 %\n",
      "Accuracy on test data 95.70 %\n"
     ]
    }
   ],
   "source": [
    "svm = SVC(C=1, kernel='linear')\n",
    "t0 = time()\n",
    "svm.fit(X_train, Y_train.ravel())\n",
    "print('Linear SVM trined in %.2f sec'%(time()-t0))\n",
    "\n",
    "# print('W : %s'%(svm.coef_))\n",
    "# print('b : %s'%(svm.intercept_))\n",
    "print('nSV : %s'%(svm.n_support_))\n",
    "print('Total Support vectors : %s'%(svm.n_support_.sum()))\n",
    "\n",
    "pred_train = svm.predict(X_train)\n",
    "pred_val = svm.predict(X_val)\n",
    "pred_test = svm.predict(X_test)\n",
    "\n",
    "print('Accuracy on train data %.2f %c'%(accuracy_score(Y_train, pred_train)*100,'%'))\n",
    "print('Accuracy on validation data %.2f %c'%(accuracy_score(Y_val, pred_val)*100,'%'))\n",
    "print('Accuracy on test data %.2f %c'%(accuracy_score(Y_test, pred_test)*100,'%'))"
   ]
  },
  {
   "cell_type": "code",
   "execution_count": 6,
   "metadata": {},
   "outputs": [
    {
     "name": "stdout",
     "output_type": "stream",
     "text": [
      "RBF SVM trined in 4.91 sec\n",
      "Support vectors : [566 537]\n",
      "Total Support vectors : 1103\n",
      "Accuracy on train data 99.40 %\n",
      "Accuracy on validation data 98.20 %\n",
      "Accuracy on test data 97.20 %\n"
     ]
    }
   ],
   "source": [
    "svm = SVC(C=1, kernel='rbf', gamma=0.05)\n",
    "t0 = time()\n",
    "svm.fit(X_train, Y_train.ravel())\n",
    "print('RBF SVM trined in %.2f sec'%(time()-t0))\n",
    "\n",
    "# print('W : %s'%(svm.coef_))\n",
    "# print('b : %s'%(svm.intercept_))\n",
    "print('Support vectors : %s'%(svm.n_support_))\n",
    "print('Total Support vectors : %s'%(svm.n_support_.sum()))\n",
    "\n",
    "pred_train = svm.predict(X_train)\n",
    "pred_val = svm.predict(X_val)\n",
    "pred_test = svm.predict(X_test)\n",
    "\n",
    "print('Accuracy on train data %.2f %c'%(accuracy_score(Y_train, pred_train)*100,'%'))\n",
    "print('Accuracy on validation data %.2f %c'%(accuracy_score(Y_val, pred_val)*100,'%'))\n",
    "print('Accuracy on test data %.2f %c'%(accuracy_score(Y_test, pred_test)*100,'%'))"
   ]
  },
  {
   "cell_type": "markdown",
   "metadata": {},
   "source": [
    "$$\\begin{eqnarray} \\min_{w}\\frac{1}{2}||w||^{2} \\nonumber \\\\\\ \\textrm{s.t.}\\quad y_{i}(w^{T}x_{i} + b) \\ge 1 \\quad \\forall i \\end{eqnarray}$$"
   ]
  },
  {
   "cell_type": "markdown",
   "metadata": {},
   "source": [
    "$$\\begin{eqnarray} \\min_{\\alpha}\\frac{1}{2} \\alpha^{T}K\\alpha - 1^{T}\\alpha \\nonumber \\\\\\ \\textrm{s.t.}\\quad \\alpha_{i} \\ge 0 \\quad \\forall i \\\\\\ \\textrm{and}\\quad y^{T}\\alpha = 0 \\end{eqnarray}$$"
   ]
  },
  {
   "cell_type": "markdown",
   "metadata": {},
   "source": [
    "$$\\begin{eqnarray} \\min_{x}\\frac{1}{2} x^{T}Px - q^{T}x \\nonumber \\\\\\ \\textrm{s.t.}\\quad Gx \\preceq h \\\\\\ \\textrm{and}\\quad Ax = b \\end{eqnarray}$$"
   ]
  },
  {
   "cell_type": "markdown",
   "metadata": {},
   "source": [
    "# Question 2 : Multi-class Classification"
   ]
  },
  {
   "cell_type": "code",
   "execution_count": 17,
   "metadata": {},
   "outputs": [],
   "source": [
    "class multiclassSVM:\n",
    "    \n",
    "    def __init__(self,C=1.0, gamma=0.05, useSklearn = False, classes = range(10), n_jobs=1):\n",
    "        self.C = C\n",
    "        self.gamma = 0.05\n",
    "        self.useSklearn = useSklearn\n",
    "        self.classes = classes\n",
    "        self.comb = list(combinations(classes,2))\n",
    "        self.n_jobs = n_jobs\n",
    "    \n",
    "    def _getData(self, X, Y, class1, class2):\n",
    "        X = X[np.logical_or(Y==class1, Y==class2)] \n",
    "        Y = Y[np.logical_or(Y==class1, Y==class2)] \n",
    "\n",
    "        X = X\n",
    "        Y = np.array([-1 if i==class1 else 1 for i in Y]).reshape((Y.shape[0],1))\n",
    "\n",
    "        return (X, Y)\n",
    "    \n",
    "    def _getMyModel(self, c1, c2, X, Y):\n",
    "        (X_train, Y_train) = self._getData(X, Y, class1=c1, class2=c2)    \n",
    "        model = SVM(C=self.C, kernel='rbf', gamma=self.gamma)\n",
    "        model.fit(X_train, Y_train)\n",
    "        return model\n",
    "    \n",
    "    def _getSklearnModel(self, c1, c2, X, Y):\n",
    "        (X_train, Y_train) = self._getData(X, Y, class1=c1, class2=c2)    \n",
    "        model = SVC(C=self.C, kernel='rbf', gamma=self.gamma)\n",
    "        model.fit(X_train, Y_train.ravel())\n",
    "        return model\n",
    "    \n",
    "    def fit(self, X_train, Y_train):\n",
    "        self.models = list()\n",
    "        \n",
    "        if self.useSklearn and self.n_jobs!=1:\n",
    "            self.models = Parallel(n_jobs=self.n_jobs)(delayed(self._getSklearnModel)(c1, c2, X_train, Y_train)\\\n",
    "                                                       for (c1,c2) in tqdm(self.comb, desc='OneVsOne Models generation'))\n",
    "        elif self.useSklearn and self.n_jobs==1:\n",
    "            for (c1,c2) in tqdm(self.comb):\n",
    "                self.models.append(self._getSklearnModel(c1,c2, X_train, Y_train))\n",
    "        elif not self.useSklearn and self.n_jobs!=1:\n",
    "            self.models = Parallel(n_jobs=self.n_jobs)(delayed(self._getMyModel)(c1, c2, X_train, Y_train)\\\n",
    "                                                       for (c1,c2) in tqdm(self.comb, desc='OneVsOne Models generation'))\n",
    "        elif not self.useSklearn and self.n_jobs==1:\n",
    "            for (c1,c2) in tqdm(self.comb):\n",
    "                self.models.append(self._getMyModel(c1,c2, X_train, Y_train))\n",
    "    \n",
    "    def _predict_for_one_model(self, X, model, c0, c1):\n",
    "        pred = model.predict(X)\n",
    "        pred_score = model.decision_function(X)\n",
    "        pred[pred == 1] = c1\n",
    "        pred[pred == -1] = c0\n",
    "        return (pred, pred_score)\n",
    "    \n",
    "    def predict_multiclass(self, X):\n",
    "        if self.n_jobs != 1:\n",
    "            results = Parallel(n_jobs=self.n_jobs)(delayed(self._predict_for_one_model)(X, model, c1, c2)\\\n",
    "                                                   for (model, (c1,c2)) in tqdm(list(zip(self.models, self.comb)), desc='Generating Predictions'))\n",
    "        else:\n",
    "            results = [self._predict_for_one_model(X, model, c1, c2)\\\n",
    "                       for (model, (c1,c2)) in tqdm(list(zip(self.models, self.comb)), desc='Generating Predictions')]\n",
    "        \n",
    "        predScoreLst = (list(zip(*results)))\n",
    "        predictions = np.array(list(predScoreLst[0]))\n",
    "        predictions = predictions.reshape((predictions.shape[0], predictions.shape[1]))\n",
    "        scores = np.array(list(predScoreLst[1]))\n",
    "        scores = scores.reshape((scores.shape[0], scores.shape[1]))\n",
    "\n",
    "        counts=list()\n",
    "#         wo_tie = list()\n",
    "        for i in (predictions.T):\n",
    "            lst = np.zeros(10, dtype='int32')\n",
    "            for x in i:\n",
    "                lst[x]+=1\n",
    "#             wo_tie.append(np.argmax(lst))\n",
    "            counts.append(lst)\n",
    "        np.array(counts).shape\n",
    "\n",
    "        scores_lst = list()\n",
    "        for j in (range(len(predictions.T))):\n",
    "            pt_score = list()\n",
    "            for i in range(10):\n",
    "                pt_score.append(sum(np.abs(scores.T[j][predictions.T[j] == i])))\n",
    "            scores_lst.append(pt_score)\n",
    "        np.array(scores_lst).shape\n",
    "\n",
    "        pred = list()\n",
    "        for i in range(len(X)):\n",
    "            scores_i = scores_lst[i]\n",
    "            counts_i = counts[i]\n",
    "            out = 0\n",
    "            maxScore = abs(scores_i[0])\n",
    "            maxCount = counts_i[0]\n",
    "            for j in range(1,10):\n",
    "                if counts_i[j] < maxCount:\n",
    "                    continue\n",
    "                elif counts_i[j] > maxCount:\n",
    "                    out = j\n",
    "                    maxScore = abs(scores_i[j])\n",
    "                    maxCount = counts_i[j]\n",
    "                else:\n",
    "                    if abs(scores_i[j]) > maxScore:\n",
    "                        out = j\n",
    "                        maxScore = abs(scores_i[j])\n",
    "                        maxCount = counts_i[j]\n",
    "                    else:\n",
    "                        continue\n",
    "            pred.append(out)\n",
    "        return np.array(pred, dtype=int)"
   ]
  },
  {
   "cell_type": "markdown",
   "metadata": {},
   "source": [
    "## Part (a) : Implementing OneVsOne Stretergy for multiclass classification using SVM"
   ]
  },
  {
   "cell_type": "code",
   "execution_count": 7,
   "metadata": {},
   "outputs": [],
   "source": [
    "ovo_my_implementation = multiclassSVM(n_jobs=6, useSklearn=True)\n",
    "\n",
    "if not os.path.isfile('./pickle/my_models_multi.pkl'):\n",
    "    ovo_my_implementation.fit(X_train_whole, Y_train_whole)\n",
    "    with open('./pickle/my_models_multi.pkl', 'wb') as f:\n",
    "        pickle.dump(ovo_my_implementation, f)\n",
    "else:\n",
    "    with open('./pickle/my_models_multi.pkl', 'rb') as f:\n",
    "        models = pickle.load(f)\n",
    "    ovo_my_implementation.models = models    "
   ]
  },
  {
   "cell_type": "code",
   "execution_count": 9,
   "metadata": {},
   "outputs": [
    {
     "name": "stderr",
     "output_type": "stream",
     "text": [
      "\n",
      "Generating Predictions:   0%|          | 0/45 [00:00<?, ?it/s]\u001b[A\n",
      "Generating Predictions:  27%|██▋       | 12/45 [00:09<00:26,  1.24it/s]\u001b[A\n",
      "Generating Predictions:  40%|████      | 18/45 [00:23<00:33,  1.23s/it]\u001b[A\n",
      "Generating Predictions:  53%|█████▎    | 24/45 [00:32<00:27,  1.31s/it]\u001b[A\n",
      "Generating Predictions:  67%|██████▋   | 30/45 [00:43<00:22,  1.50s/it]\u001b[A\n",
      "Generating Predictions:  80%|████████  | 36/45 [01:00<00:16,  1.88s/it]\u001b[A\n",
      "Generating Predictions: 100%|██████████| 45/45 [01:12<00:00,  1.60s/it]\u001b[A\n"
     ]
    },
    {
     "name": "stdout",
     "output_type": "stream",
     "text": [
      "Predicted in 1.76 minutes.\n"
     ]
    },
    {
     "data": {
      "text/plain": [
       "88.08"
      ]
     },
     "execution_count": 9,
     "metadata": {},
     "output_type": "execute_result"
    }
   ],
   "source": [
    "t0 = time()\n",
    "pred_test_my = ovo_my_implementation.predict_multiclass(X_test_whole)\n",
    "print('Predicted for test dataset in %.2f minutes. '%((time()-t0)/60))\n",
    "\n",
    "accuracy_test = metrics.accuracy_score(Y_test_whole.ravel(), pred_test_my)\n",
    "print('Accuracy on test dataset : %.2f \\n\\n'%(accuracy_test))\n",
    "\n",
    "t0 = time()\n",
    "pred_val_my = ovo_my_implementation.predict_multiclass(X_val_whole)\n",
    "print('Predicted for validation dataset in in %.2f minutes.'%((time()-t0)/60))\n",
    "\n",
    "accuracy_val = metrics.accuracy_score(Y_val_whole, pred_val_my)\n",
    "print('Accuracy on validation dataset : %.2f \\n\\n'%(accuracy_val))\n",
    "\n",
    "t0 = time()\n",
    "pred_train_my = ovo_my_implementation.predict_multiclass(X_test_whole)\n",
    "print('Predicted for train dataset in %.2f minutes.'%((time()-t0)/60))\n",
    "\n",
    "accuracy_train = metrics.accuracy_score(Y_train_whole, pred_train_my)\n",
    "print('Accuracy on train dataset : %.2f \\n\\n'%(accuracy_train))\n"
   ]
  },
  {
   "cell_type": "markdown",
   "metadata": {},
   "source": [
    "## Part (b) : Implementing OneVsOne Stretergy for multiclass classification using sklearn's implementation of SVM i.e. SVC"
   ]
  },
  {
   "cell_type": "code",
   "execution_count": null,
   "metadata": {},
   "outputs": [],
   "source": [
    "ovo_sklearn = multiclassSVM(n_jobs=6, useSklearn=True)\n",
    "\n",
    "if not os.path.isfile('./pickle/sklearn_models_multi.pkl'):\n",
    "    ovo_sklearn.fit(X_train_whole, Y_train_whole)\n",
    "    with open('./pickle/sklearn_models_multi.pkl', 'wb') as f:\n",
    "        pickle.dump(ovo_sklearn, f)\n",
    "else:\n",
    "    with open('./pickle/sklearn_models_multi.pkl', 'rb') as f:\n",
    "        models = pickle.load(f)\n",
    "    ovo_sklearn.models = models"
   ]
  },
  {
   "cell_type": "code",
   "execution_count": null,
   "metadata": {},
   "outputs": [],
   "source": [
    "t0 = time()\n",
    "pred_test_sk = ovo_sklearn.predict_multiclass(X_test_whole)\n",
    "print('Predicted for test dataset in %.2f minutes. '%((time()-t0)/60))\n",
    "\n",
    "accuracy_test_sk = metrics.accuracy_score(Y_test_whole.ravel(), pred_test_sk)\n",
    "print('Accuracy on test dataset : %.2f \\n\\n'%(accuracy_test_sk))\n",
    "\n",
    "t0 = time()\n",
    "pred_val_sk = ovo_sklearn.predict_multiclass(X_val_whole)\n",
    "print('Predicted for validation dataset in in %.2f minutes.'%((time()-t0)/60))\n",
    "\n",
    "accuracy_val_sk = metrics.accuracy_score(Y_val_whole, pred_val_sk)\n",
    "print('Accuracy on validation dataset : %.2f \\n\\n'%(accuracy_val_sk))\n",
    "\n",
    "t0 = time()\n",
    "pred_train_sk = ovo_sklearn.predict_multiclass(X_test_whole)\n",
    "print('Predicted for train dataset in %.2f minutes.'%((time()-t0)/60))\n",
    "\n",
    "accuracy_train_sk = metrics.accuracy_score(Y_train_whole, pred_train_sk)\n",
    "print('Accuracy on train dataset : %.2f \\n\\n'%(accuracy_train_sk))\n"
   ]
  },
  {
   "cell_type": "markdown",
   "metadata": {},
   "source": [
    "## Part (c): Confusion Matrix"
   ]
  },
  {
   "cell_type": "code",
   "execution_count": null,
   "metadata": {},
   "outputs": [],
   "source": [
    "metrics.confusion_matrix(Y_test_whole, pred_test_my, title='Confsion matrix of my implementation of oVo for Test Dataset')"
   ]
  },
  {
   "cell_type": "code",
   "execution_count": null,
   "metadata": {},
   "outputs": [],
   "source": [
    "metrics.confusion_matrix(Y_train_whole, pred_train_my, title='Confsion matrix of my implementation of oVo for Train Dataset')"
   ]
  },
  {
   "cell_type": "code",
   "execution_count": null,
   "metadata": {},
   "outputs": [],
   "source": [
    "metrics.confusion_matrix(Y_test_whole, pred_test_sk, title='Confsion matrix of sklearn\\'s implementation of oVo for Test Dataset')"
   ]
  },
  {
   "cell_type": "code",
   "execution_count": null,
   "metadata": {},
   "outputs": [],
   "source": [
    "metrics.confusion_matrix(Y_train_whole, pred_val_sk, title='Confsion matrix of sklearn\\'s implementation of oVo for Train Dataset')"
   ]
  },
  {
   "cell_type": "markdown",
   "metadata": {},
   "source": [
    "## Part (d): k-fold Cross Validation"
   ]
  },
  {
   "cell_type": "code",
   "execution_count": 55,
   "metadata": {},
   "outputs": [],
   "source": [
    "from sklearn.model_selection import GridSearchCV\n",
    "\n",
    "t0=time()\n",
    "C_lst = [10**-5,10**-3,1,5,10]\n",
    "gscv = GridSearchCV(SVC(kernel='rbf', gamma=0.05, decision_function_shape='ovo'), {'C':C_lst}, cv=5, return_train_score=True, n_jobs=-1)\n",
    "\n",
    "gscv.fit(train[:,:-1]/255, train[:,-1].ravel())\n",
    "\n",
    "print('Cross Validation completed in %d minutes'%((time()-t0)/60))"
   ]
  },
  {
   "cell_type": "code",
   "execution_count": null,
   "metadata": {},
   "outputs": [],
   "source": [
    "def get_test_accuracy(c, X_train, Y_train, X_test, Y_test):\n",
    "    clf = SVC(C=c,kernel='rbf', gamma=0.05, decision_function_shape='ovo')\n",
    "    clf.fit(X_train, Y_train)\n",
    "    return clf.score(X_test, Y_test)\n",
    "\n",
    "test_score = Parallel(n_jobs=5)(delayed(get_test_accuracy)(c, train[:,:-1]/255, train[:,-1].ravel(), test[:,:-1]/255, test[:,-1].ravel()) for c in C_lst)"
   ]
  },
  {
   "cell_type": "code",
   "execution_count": null,
   "metadata": {},
   "outputs": [],
   "source": [
    "print(gscv.best_estimator_)"
   ]
  },
  {
   "cell_type": "code",
   "execution_count": null,
   "metadata": {},
   "outputs": [],
   "source": [
    "plt.figure(figsize=(16,10))\n",
    "cv_score = gscv.cv_results_['mean_test_score']\n",
    "train_score = gscv.cv_results_['mean_train_score']\n",
    "plt.plot(np.log10(C_lst), cv_score, label='CV Accuracy',  marker='o')\n",
    "plt.plot(np.log10(C_lst), test_scores, label='Test Accuracy', marker='o')\n",
    "plt.plot(np.log10(C_lst), train_score, label='Train Accuracy', marker='o')\n",
    "for i_x, i_y, c in zip(np.log10(C_lst), cv_score,['1e-5', '1e-3', '1', '5', '10']):\n",
    "    plt.text(i_x, i_y, '(%s, %.2f)'%(c, i_y))\n",
    "for i_x, i_y, c in zip(np.log10(C_lst), train_score,['1e-5', '1e-3', '1', '5', '10']):\n",
    "    plt.text(i_x, i_y, '(%s, %.2f)'%(c, i_y))\n",
    "for i_x, i_y, c in zip(np.log10(C_lst), test_scores,['1e-5', '1e-3', '1', '5', '10']):\n",
    "    plt.text(i_x, i_y, '(%s, %.2f)'%(c, i_y))\n",
    "plt.legend()\n",
    "plt.xlabel('Hyperparameter C on log scale')\n",
    "plt.ylabel('Accuracy')\n",
    "plt.plot()"
   ]
  }
 ],
 "metadata": {
  "kernelspec": {
   "display_name": "Python 3",
   "language": "python",
   "name": "python3"
  },
  "language_info": {
   "codemirror_mode": {
    "name": "ipython",
    "version": 3
   },
   "file_extension": ".py",
   "mimetype": "text/x-python",
   "name": "python",
   "nbconvert_exporter": "python",
   "pygments_lexer": "ipython3",
   "version": "3.6.5"
  }
 },
 "nbformat": 4,
 "nbformat_minor": 4
}
