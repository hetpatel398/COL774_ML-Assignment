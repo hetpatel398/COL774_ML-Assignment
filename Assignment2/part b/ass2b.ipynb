{
 "cells": [
  {
   "cell_type": "markdown",
   "metadata": {},
   "source": [
    "# Assignment 2 (Part b) : SVMs\n",
    "# Qeustion 1 : Binary Classification "
   ]
  },
  {
   "cell_type": "code",
   "execution_count": 1,
   "metadata": {},
   "outputs": [],
   "source": [
    "import pandas as pd\n",
    "import numpy as np\n",
    "import matplotlib.pyplot as plt\n",
    "import pickle\n",
    "from tqdm import tqdm\n",
    "from time import time\n",
    "import math\n",
    "from cvxopt import solvers, matrix\n",
    "\n",
    "from scipy.spatial.distance import cdist\n",
    "\n",
    "from sklearn.svm import SVC\n",
    "from sklearn.metrics import accuracy_score\n",
    "\n",
    "from itertools import combinations \n",
    "\n",
    "from joblib import Parallel, delayed\n",
    "import multiprocessing"
   ]
  },
  {
   "cell_type": "code",
   "execution_count": 2,
   "metadata": {},
   "outputs": [],
   "source": [
    "def getData(train, test, val, class1=2, class2=3):\n",
    "    train = train[np.logical_or(train[:,-1]==class1, train[:,-1]==class2)] \n",
    "    val = val[np.logical_or(val[:,-1]==class1, val[:,-1]==class2)] \n",
    "    test = test[np.logical_or(test[:,-1]==class1, test[:,-1]==class2)] \n",
    "\n",
    "    X_train = train[:,:-1]/255\n",
    "    Y_train = train[:,-1]\n",
    "    Y_train = np.array([-1 if i==class1 else 1 for i in Y_train]).reshape((Y_train.shape[0],1))\n",
    "\n",
    "    X_val = val[:,:-1]/255\n",
    "    Y_val = val[:,-1]\n",
    "    Y_val = np.array([-1 if i==class1 else 1 for i in Y_val]).reshape((Y_val.shape[0],1))\n",
    "\n",
    "    X_test = test[:,:-1]/255\n",
    "    Y_test = test[:,-1]\n",
    "    Y_test = np.array([-1 if i==class1 else 1 for i in Y_test]).reshape((Y_test.shape[0],1))\n",
    "    \n",
    "    return (X_train, Y_train, X_val, Y_val, X_test, Y_test)\n",
    "\n",
    "train = pd.read_csv('./data/train.csv', header=None).to_numpy()\n",
    "val = pd.read_csv('./data/val.csv', header=None).to_numpy()\n",
    "test = pd.read_csv('./data/test.csv', header=None).to_numpy()\n",
    "\n",
    "(X_train, Y_train, X_val, Y_val, X_test, Y_test) = getData(train, test, val, class1=6, class2=7)"
   ]
  },
  {
   "cell_type": "code",
   "execution_count": 3,
   "metadata": {},
   "outputs": [
    {
     "data": {
      "image/png": "[encoded data removed]",
      "text/plain": [
       "<Figure size 432x288 with 1 Axes>"
      ]
     },
     "metadata": {
      "needs_background": "light"
     },
     "output_type": "display_data"
    },
    {
     "data": {
      "image/png": "[encoded data removed]",
      "text/plain": [
       "<Figure size 432x288 with 1 Axes>"
      ]
     },
     "metadata": {
      "needs_background": "light"
     },
     "output_type": "display_data"
    }
   ],
   "source": [
    "plt.imshow(X_train[np.where(Y_train.ravel() == -1)][0].reshape((28,28)), cmap='gray')\n",
    "plt.title('Y = 2 (Pullover)')\n",
    "plt.show()\n",
    "plt.imshow(X_train[np.where(Y_train.ravel() == 1)][0].reshape((28,28)), cmap='gray')\n",
    "plt.title('Y = 3 (Dress)')\n",
    "plt.show()"
   ]
  },
  {
   "cell_type": "markdown",
   "metadata": {},
   "source": [
    "## Part (a) : Implementing Linear SVM"
   ]
  },
  {
   "cell_type": "code",
   "execution_count": 4,
   "metadata": {},
   "outputs": [],
   "source": [
    "class SVM:\n",
    "    '''\n",
    "    This class provides implementation of SVM.\n",
    "    \n",
    "    **************\n",
    "    Parameters:\n",
    "    C : Regularization parameter (Defalts 1.0)\n",
    "    threshold : Threshold for alphas i.e. alpha values below this will be treated as 0 (Defalts 1e-5)\n",
    "    kernel : Type of kernel you want to use ('linear' or 'rbf')\n",
    "    gamma : Hyperparameter for rbf kernel\n",
    "    showTime : Boolean to show time taken to fit\n",
    "    **************\n",
    "    '''\n",
    "    \n",
    "    def __init__(self, C=1, threshold=1e-5, kernel='linear', gamma=0.05, showTime=True):\n",
    "        self.C = C\n",
    "        self.threshold = threshold\n",
    "        self.kernel = kernel\n",
    "        self.gamma = gamma\n",
    "        self.showTime = showTime\n",
    "    \n",
    "    def _getRBFKernelMat(self, X, gamma = 0.05):\n",
    "        return np.exp(-gamma*(cdist(X,X)**2))\n",
    "    \n",
    "    def fit(self, X_train, Y_train):\n",
    "        t0 = time()\n",
    "        \n",
    "        if self.kernel=='linear':\n",
    "            self.P = Y_train.dot(Y_train.T) * (X_train.dot(X_train.T))\n",
    "        elif self.kernel=='rbf':\n",
    "            self.K = self._getRBFKernelMat(X_train, self.gamma)\n",
    "            self.P = Y_train.dot(Y_train.T) * (self.K)\n",
    "        self.P=matrix(self.P,tc='d')\n",
    "\n",
    "        self.q = -np.ones(X_train.shape[0])\n",
    "        self.q=matrix(self.q,tc='d')\n",
    "\n",
    "        self.G = np.vstack((-np.identity(X_train.shape[0]), np.identity(X_train.shape[0])))\n",
    "        self.G=matrix(self.G,tc='d')\n",
    "\n",
    "        self.h = np.hstack((np.zeros(X_train.shape[0]), np.zeros(X_train.shape[0])+self.C))\n",
    "        self.h=matrix(self.h,tc='d')\n",
    "\n",
    "        self.A = Y_train.T\n",
    "        self.A = matrix(self.A,tc='d')\n",
    "        self.b=matrix([0],tc='d')\n",
    "\n",
    "        solvers.options['show_progress'] = False\n",
    "        self.opt = solvers.qp(self.P, self.q, self.G, self.h, self.A, self.b)\n",
    "\n",
    "        self.alphas = np.array(self.opt['x']).ravel()\n",
    "\n",
    "        self.alphas[self.alphas<self.threshold] = 0\n",
    "\n",
    "        self.nSV = np.where(self.alphas > 0)[0].shape[0]\n",
    "        self.SV_indices = np.where(self.alphas > 0)[0]\n",
    "        self.SV_y = Y_train[self.SV_indices].ravel()\n",
    "        self.SV = X_train[self.SV_indices]\n",
    "        \n",
    "        if self.kernel == 'linear':\n",
    "            self.w = (X_train[self.SV_indices]).T.dot((Y_train[self.SV_indices].ravel())*self.alphas[self.SV_indices])\n",
    "            X_pos = X_train[np.where(Y_train.ravel() == 1)]\n",
    "            X_neg = X_train[np.where(Y_train.ravel() == -1)]\n",
    "            self.b = -(1/2)*(min(X_pos.dot(self.w)) + max(X_neg.dot(self.w)))\n",
    "\n",
    "        elif self.kernel == 'rbf':\n",
    "            X_pos_indices = np.where(Y_train.ravel() == 1)[0]\n",
    "            X_neg_indices = np.where(Y_train.ravel() == -1)[0]\n",
    "            alphaiXyi = self.alphas*Y_train.ravel()\n",
    "            Min = math.inf\n",
    "            for i in X_pos_indices:            \n",
    "                Sum = 0\n",
    "                for j in self.SV_indices:\n",
    "                    Sum = Sum + (alphaiXyi[j] * self.K[i,j])\n",
    "                if(Sum<Min):\n",
    "                    Min=Sum\n",
    "            Max = -math.inf\n",
    "            for i in X_neg_indices:\n",
    "                Sum = 0\n",
    "                for j in self.SV_indices:\n",
    "                    Sum = Sum + (alphaiXyi[j] * self.K[i,j])\n",
    "                if(Sum>Max):\n",
    "                    Max=Sum\n",
    "            self.b = -(1/2)*(Max+Min)\n",
    "        if self.showTime:\n",
    "            print(\"Training completed in %.2f seconds\"%((time()-t0)))\n",
    "        \n",
    "\n",
    "    def predict(self,X):\n",
    "        pred = list()\n",
    "        if self.kernel=='linear':\n",
    "            for pt in X:\n",
    "                if (self.SV).T.dot(self.SV_y*self.alphas[self.SV_indices]).dot(pt) + self.b > 0:\n",
    "                    pred.append(1)\n",
    "                else:\n",
    "                    pred.append(-1)\n",
    "        elif self.kernel=='rbf':\n",
    "            for pt in tqdm(X):\n",
    "                wTxPlusb = np.sum((self.alphas[self.SV_indices]*self.SV_y).reshape(self.nSV,1) \\\n",
    "                                  * np.exp(-self.gamma * (cdist(self.SV,np.array([pt]), 'minkowski', p=2)**2))) + self.b\n",
    "                if wTxPlusb>0:\n",
    "                    pred.append(1)\n",
    "                else:\n",
    "                    pred.append(-1)\n",
    "        return np.array(pred)\n",
    "\n",
    "class metrics:\n",
    "    \n",
    "    def accuracy_score(y_true, y_pred):\n",
    "        true = sum(y_true.ravel() == y_pred.ravel())\n",
    "        return true*100/len(y_true)"
   ]
  },
  {
   "cell_type": "code",
   "execution_count": 5,
   "metadata": {},
   "outputs": [
    {
     "name": "stdout",
     "output_type": "stream",
     "text": [
      "Training completed in 63.36 seconds\n"
     ]
    }
   ],
   "source": [
    "linearSVM = SVM(C=1.0, threshold=1e-5, kernel='linear')\n",
    "\n",
    "linearSVM.fit(X_train, Y_train)"
   ]
  },
  {
   "cell_type": "code",
   "execution_count": 6,
   "metadata": {},
   "outputs": [
    {
     "name": "stdout",
     "output_type": "stream",
     "text": [
      "Number of support vectors : 370\n"
     ]
    }
   ],
   "source": [
    "print('Number of support vectors :',linearSVM.nSV)"
   ]
  },
  {
   "cell_type": "code",
   "execution_count": 7,
   "metadata": {},
   "outputs": [
    {
     "name": "stdout",
     "output_type": "stream",
     "text": [
      "Accuracy on Train Dataset :  92.77777777777777\n",
      "Accuracy on Validation Dataset :  89.6\n",
      "Accuracy on Test Dataset :  91.3\n"
     ]
    }
   ],
   "source": [
    "pred_train = linearSVM.predict(X_train)\n",
    "accuracy_train = metrics.accuracy_score(Y_train, pred_train)\n",
    "\n",
    "pred_test = linearSVM.predict(X_test)\n",
    "accuracy_test = metrics.accuracy_score(Y_test, pred_test)\n",
    "\n",
    "pred_val = linearSVM.predict(X_val)\n",
    "accuracy_val = metrics.accuracy_score(Y_val, pred_val)\n",
    "\n",
    "print('Accuracy on Train Dataset : ', accuracy_train)\n",
    "print('Accuracy on Validation Dataset : ', accuracy_val)\n",
    "print('Accuracy on Test Dataset : ', accuracy_test)"
   ]
  },
  {
   "cell_type": "markdown",
   "metadata": {},
   "source": [
    "## Part B : Applying SVM with Gaussian Kernel"
   ]
  },
  {
   "cell_type": "code",
   "execution_count": 5,
   "metadata": {},
   "outputs": [
    {
     "name": "stdout",
     "output_type": "stream",
     "text": [
      "Training completed in 66.15 seconds\n"
     ]
    }
   ],
   "source": [
    "rbfSVM = SVM(C=1.0, threshold=1e-5, kernel='rbf', gamma=0.05)\n",
    "\n",
    "rbfSVM.fit(X_train, Y_train)"
   ]
  },
  {
   "cell_type": "code",
   "execution_count": 7,
   "metadata": {},
   "outputs": [
    {
     "data": {
      "text/plain": [
       "-0.6041689242992255"
      ]
     },
     "execution_count": 7,
     "metadata": {},
     "output_type": "execute_result"
    }
   ],
   "source": [
    "rbfSVM.b"
   ]
  },
  {
   "cell_type": "code",
   "execution_count": 6,
   "metadata": {},
   "outputs": [
    {
     "name": "stdout",
     "output_type": "stream",
     "text": [
      "Number of support vectors in RBF-SVM: 678\n"
     ]
    }
   ],
   "source": [
    "print('Number of support vectors in RBF-SVM:',rbfSVM.nSV)"
   ]
  },
  {
   "cell_type": "code",
   "execution_count": 10,
   "metadata": {},
   "outputs": [
    {
     "name": "stderr",
     "output_type": "stream",
     "text": [
      "100%|██████████| 4500/4500 [00:29<00:00, 153.49it/s]\n",
      "100%|██████████| 1000/1000 [00:06<00:00, 157.70it/s]\n",
      "100%|██████████| 500/500 [00:03<00:00, 161.17it/s]"
     ]
    },
    {
     "name": "stdout",
     "output_type": "stream",
     "text": [
      "Accuracy on Train Dataset : 99.4\n",
      "Accuracy on Validation Dataset : 97.2\n",
      "Accuracy on Test Dataset : 96.1\n"
     ]
    },
    {
     "name": "stderr",
     "output_type": "stream",
     "text": [
      "\n"
     ]
    }
   ],
   "source": [
    "pred_train = rbfSVM.predict(X_train)\n",
    "accuracy_train = metrics.accuracy_score(Y_train, pred_train)\n",
    "\n",
    "pred_test = rbfSVM.predict(X_test)\n",
    "accuracy_test = metrics.accuracy_score(Y_test, pred_test)\n",
    "\n",
    "pred_val = rbfSVM.predict(X_val)\n",
    "accuracy_val = metrics.accuracy_score(Y_val, pred_val)\n",
    "\n",
    "print('Accuracy on Train Dataset :', accuracy_train)\n",
    "print('Accuracy on Validation Dataset :', accuracy_val)\n",
    "print('Accuracy on Test Dataset :', accuracy_test)"
   ]
  },
  {
   "cell_type": "code",
   "execution_count": 66,
   "metadata": {},
   "outputs": [
    {
     "name": "stderr",
     "output_type": "stream",
     "text": [
      "100%|██████████| 4500/4500 [00:35<00:00, 127.09it/s]\n"
     ]
    },
    {
     "name": "stdout",
     "output_type": "stream",
     "text": [
      "Shape of P : (4500, 4500)\n",
      "Shape of q : (4500, 1)\n",
      "Shape of G : (9000, 4500)\n",
      "Shape of h : (9000, 1)\n",
      "Shape of A : (1, 4500)\n",
      "     pcost       dcost       gap    pres   dres\n",
      " 0: -1.5598e+02 -6.9927e+03  3e+04  2e+00  1e-15\n",
      " 1: -8.8657e+01 -3.4857e+03  6e+03  2e-01  2e-15\n",
      " 2: -5.9446e+01 -7.3609e+02  8e+02  2e-02  2e-15\n",
      " 3: -1.0523e+02 -2.6151e+02  2e+02  4e-03  2e-15\n",
      " 4: -1.2171e+02 -1.8069e+02  6e+01  1e-03  1e-15\n",
      " 5: -1.2850e+02 -1.5673e+02  3e+01  1e-14  1e-15\n",
      " 6: -1.3314e+02 -1.4204e+02  9e+00  8e-16  1e-15\n",
      " 7: -1.3446e+02 -1.3849e+02  4e+00  1e-14  1e-15\n",
      " 8: -1.3538e+02 -1.3651e+02  1e+00  2e-14  1e-15\n",
      " 9: -1.3573e+02 -1.3581e+02  8e-02  3e-14  1e-15\n",
      "10: -1.3576e+02 -1.3576e+02  2e-03  4e-14  1e-15\n",
      "11: -1.3576e+02 -1.3576e+02  6e-05  4e-15  1e-15\n",
      "Optimal solution found.\n"
     ]
    }
   ],
   "source": [
    "P = Y_train.dot(Y_train.T) * (getRBFKernelMat(X_train))\n",
    "P=matrix(P,tc='d')\n",
    "print('Shape of P :',P.size)\n",
    "\n",
    "q = -np.ones(X_train.shape[0])\n",
    "q=matrix(q,tc='d')\n",
    "print('Shape of q :',q.size)\n",
    "\n",
    "G = np.vstack((-np.identity(X_train.shape[0]), np.identity(X_train.shape[0])))\n",
    "G=matrix(G,tc='d')\n",
    "print('Shape of G :',G.size)\n",
    "C=1.0\n",
    "h = np.hstack((np.zeros(X_train.shape[0]), np.zeros(X_train.shape[0])+C))\n",
    "h=matrix(h,tc='d')\n",
    "print('Shape of h :',h.size)\n",
    "\n",
    "A = Y_train.T\n",
    "A = matrix(A,tc='d')\n",
    "b=matrix([0],tc='d')\n",
    "print('Shape of A :',A.size)\n",
    "\n",
    "opt = solvers.qp(P, q, G, h, A, b)\n",
    "\n",
    "alphas = np.array(opt['x']).ravel()\n",
    "\n",
    "# alphas[alphas<threshold] = 0\n",
    "\n",
    "# nSV = np.where(alphas > 1e-5)[0].shape[0]\n",
    "# SV_indices = np.where(alphas > 1e-5)[0]\n",
    "# SV_y = Y_train[SV_indices].ravel()\n",
    "# SV = X_train[SV_indices]\n",
    "\n",
    "# w = (X_train[SV_indices]).T.dot((Y_train[SV_indices].ravel())*alphas[SV_indices])\n",
    "\n",
    "# X_pos = X_train[np.where(Y_train.ravel() == 1)]\n",
    "# X_neg = X_train[np.where(Y_train.ravel() == -1)]\n",
    "# b = -(1/2)*(min(X_pos.dot(w)) + max(X_neg.dot(w)))"
   ]
  },
  {
   "cell_type": "markdown",
   "metadata": {},
   "source": [
    "## Part c : Comparing our implementation with scikit-learn's implementation"
   ]
  },
  {
   "cell_type": "code",
   "execution_count": 5,
   "metadata": {},
   "outputs": [
    {
     "name": "stdout",
     "output_type": "stream",
     "text": [
      "Linear SVM trined in 0.24 sec\n",
      "nSV : [33 24]\n",
      "Total Support vectors : 57\n",
      "Accuracy on train data 100.00 %\n",
      "Accuracy on validation data 99.80 %\n",
      "Accuracy on test data 100.00 %\n"
     ]
    }
   ],
   "source": [
    "svm = SVC(C=1, kernel='linear')\n",
    "t0 = time()\n",
    "svm.fit(X_train, Y_train.ravel())\n",
    "print('Linear SVM trined in %.2f sec'%(time()-t0))\n",
    "\n",
    "# print('W : %s'%(svm.coef_))\n",
    "# print('b : %s'%(svm.intercept_))\n",
    "print('nSV : %s'%(svm.n_support_))\n",
    "print('Total Support vectors : %s'%(svm.n_support_.sum()))\n",
    "\n",
    "pred_train = svm.predict(X_train)\n",
    "pred_val = svm.predict(X_val)\n",
    "pred_test = svm.predict(X_test)\n",
    "\n",
    "print('Accuracy on train data %.2f %c'%(accuracy_score(Y_train, pred_train)*100,'%'))\n",
    "print('Accuracy on validation data %.2f %c'%(accuracy_score(Y_val, pred_val)*100,'%'))\n",
    "print('Accuracy on test data %.2f %c'%(accuracy_score(Y_test, pred_test)*100,'%'))"
   ]
  },
  {
   "cell_type": "code",
   "execution_count": 4,
   "metadata": {},
   "outputs": [
    {
     "name": "stdout",
     "output_type": "stream",
     "text": [
      "RBF SVM trined in 3.13 sec\n",
      "Support vectors : [409 417]\n",
      "Total Support vectors : 826\n",
      "Accuracy on train data 100.00 %\n",
      "Accuracy on validation data 100.00 %\n",
      "Accuracy on test data 99.80 %\n"
     ]
    }
   ],
   "source": [
    "svm = SVC(C=1, kernel='rbf', gamma=0.05)\n",
    "t0 = time()\n",
    "svm.fit(X_train, Y_train.ravel())\n",
    "print('RBF SVM trined in %.2f sec'%(time()-t0))\n",
    "\n",
    "# print('W : %s'%(svm.coef_))\n",
    "# print('b : %s'%(svm.intercept_))\n",
    "print('Support vectors : %s'%(svm.n_support_))\n",
    "print('Total Support vectors : %s'%(svm.n_support_.sum()))\n",
    "\n",
    "pred_train = svm.predict(X_train)\n",
    "pred_val = svm.predict(X_val)\n",
    "pred_test = svm.predict(X_test)\n",
    "\n",
    "print('Accuracy on train data %.2f %c'%(accuracy_score(Y_train, pred_train)*100,'%'))\n",
    "print('Accuracy on validation data %.2f %c'%(accuracy_score(Y_val, pred_val)*100,'%'))\n",
    "print('Accuracy on test data %.2f %c'%(accuracy_score(Y_test, pred_test)*100,'%'))"
   ]
  },
  {
   "cell_type": "markdown",
   "metadata": {},
   "source": [
    "$$\\begin{eqnarray} \\min_{w}\\frac{1}{2}||w||^{2} \\nonumber \\\\\\ \\textrm{s.t.}\\quad y_{i}(w^{T}x_{i} + b) \\ge 1 \\quad \\forall i \\end{eqnarray}$$"
   ]
  },
  {
   "cell_type": "markdown",
   "metadata": {},
   "source": [
    "$$\\begin{eqnarray} \\min_{\\alpha}\\frac{1}{2} \\alpha^{T}K\\alpha - 1^{T}\\alpha \\nonumber \\\\\\ \\textrm{s.t.}\\quad \\alpha_{i} \\ge 0 \\quad \\forall i \\\\\\ \\textrm{and}\\quad y^{T}\\alpha = 0 \\end{eqnarray}$$"
   ]
  },
  {
   "cell_type": "markdown",
   "metadata": {},
   "source": [
    "$$\\begin{eqnarray} \\min_{x}\\frac{1}{2} x^{T}Px - q^{T}x \\nonumber \\\\\\ \\textrm{s.t.}\\quad Gx \\preceq h \\\\\\ \\textrm{and}\\quad Ax = b \\end{eqnarray}$$"
   ]
  },
  {
   "cell_type": "markdown",
   "metadata": {},
   "source": [
    "# Question 2 : Multi-class Classification"
   ]
  },
  {
   "cell_type": "code",
   "execution_count": 5,
   "metadata": {},
   "outputs": [],
   "source": [
    "comb = list(combinations(range(10), 2))"
   ]
  },
  {
   "cell_type": "code",
   "execution_count": null,
   "metadata": {},
   "outputs": [
    {
     "name": "stderr",
     "output_type": "stream",
     "text": [
      "OneVsOne Models generation:  27%|██▋       | 12/45 [10:15<27:29, 49.99s/it]"
     ]
    }
   ],
   "source": [
    "models = list()\n",
    "\n",
    "def getModel(c1,c2):\n",
    "    (X_train, Y_train, X_val, Y_val, X_test, Y_test) = getData(train, test, val, class1=c1, class2=c2)    \n",
    "    model = SVM(C=1, threshold=1e-5, kernel='rbf', gamma=0.05, )\n",
    "    model.fit(X_train, Y_train)\n",
    "    return model\n",
    "\n",
    "results = Parallel(n_jobs=4)(delayed(getModel)(c1, c2) for (c1,c2) in tqdm(comb, desc='OneVsOne Models generation'))\n",
    "\n",
    "# for (c1,c2) in tqdm(comb):\n",
    "#     models.append(getModel(c1,c2))"
   ]
  },
  {
   "cell_type": "code",
   "execution_count": 5,
   "metadata": {},
   "outputs": [],
   "source": [
    "X_train_whole = train[:,:-1]\n",
    "Y_train_whole = train[:,-1]"
   ]
  },
  {
   "cell_type": "code",
   "execution_count": 6,
   "metadata": {},
   "outputs": [
    {
     "data": {
      "text/plain": [
       "(22500, 784)"
      ]
     },
     "execution_count": 6,
     "metadata": {},
     "output_type": "execute_result"
    }
   ],
   "source": [
    "X_train_whole.shape"
   ]
  },
  {
   "cell_type": "code",
   "execution_count": null,
   "metadata": {},
   "outputs": [],
   "source": [
    "svc_multi = SVC(C=1.0, kernel='rbf', gamma=0.05)\n",
    "svc_multi.fit(X_train_whole, Y_train_whole)"
   ]
  },
  {
   "cell_type": "code",
   "execution_count": 27,
   "metadata": {},
   "outputs": [
    {
     "name": "stderr",
     "output_type": "stream",
     "text": [
      "OneVsOne Models generation: 100%|██████████| 45/45 [02:33<00:00,  3.42s/it]\n"
     ]
    }
   ],
   "source": [
    "sklearnModels = list()\n",
    "\n",
    "def getSklearnModel(c1, c2):\n",
    "    (X_train, Y_train, X_val, Y_val, X_test, Y_test) = getData(train, test, val, class1=c1, class2=c2)    \n",
    "    model = SVC(C=1, kernel='rbf', gamma=0.05, probability=True)\n",
    "    model.fit(X_train, Y_train.ravel())\n",
    "    return model\n",
    "\n",
    "results = Parallel(n_jobs=-2)(delayed(getSklearnModel)(c1, c2) for (c1,c2) in tqdm(combinations, desc='OneVsOne Models generation'))\n",
    "# for (c1,c2) in tqdm(combinations):\n",
    "#     sklearnModels.append(getSklearnModel(c1,c2))"
   ]
  }
 ],
 "metadata": {
  "kernelspec": {
   "display_name": "Python 3",
   "language": "python",
   "name": "python3"
  },
  "language_info": {
   "codemirror_mode": {
    "name": "ipython",
    "version": 3
   },
   "file_extension": ".py",
   "mimetype": "text/x-python",
   "name": "python",
   "nbconvert_exporter": "python",
   "pygments_lexer": "ipython3",
   "version": "3.6.5"
  }
 },
 "nbformat": 4,
 "nbformat_minor": 4
}
