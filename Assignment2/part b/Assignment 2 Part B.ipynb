{
 "cells": [
  {
   "cell_type": "markdown",
   "metadata": {
    "colab_type": "text",
    "id": "4Xmv9cw9kD3o"
   },
   "source": [
    "# Assignment 2 (Part b) : SVMs\n",
    "## Qeustion 1 : Binary Classification \n",
    "\n",
    "* In this Part I have implmented SVM using CVXOPT module and used qp solvers of that modules which solves following optimization problem\n",
    "$$\\min_{x}\\frac{1}{2} x^{T}Px + q^{T}x  \\\\\\ \\textrm{s.t.} Gx \\preceq h \\\\\\ \\textrm{and}\\quad Ax = b $$\n",
    "\n",
    "* Here in soft margin SVM our optimization problem is:\n",
    "\n",
    "$$ \\max_{\\alpha_i} \\sum_{m} \\alpha_i - \\frac{1}{2} \\sum_{i,j = 1}^{m} \\alpha_i \\alpha_j y_i y_j\\  K\\lt x_i,x_j\\gt \\\\\\ = \\min_{\\alpha_i} \\frac{1}{2} \\sum_{i,j = 1}^{m} \\alpha_i \\alpha_j y_i y_j\\  K\\lt x_i,x_j\\gt - \\sum_{m} \\alpha_i \n",
    "$$\n",
    "\n",
    "* Here in $K\\lt x_i, x_j \\gt$ is kernel value between $x_i$ and $x_j$. I have create kernel matrix of size mxm for training dataset in whihc $(i,j)^{th}$ entry will represent kernel value between $i^{th}$ and $j^{th}$ datapoint. Therefore for linear kernel $K=XX^T$ and for gaussain kernel we need to find $K<x_i, x_j> = \\exp({-\\gamma*||x_i-x_j||^2})$\n",
    "\n",
    "* Now finding P,q,G,h,A and b for our optimization problem that we can pass in the qp solver of CVXOPT. \n",
    "\n",
    "$$  x^T=[\\alpha_1,\\alpha_2,...,\\alpha_m]_{m}$$\n",
    "\\\n",
    "$$P=YY^T K, \\textrm{where} K=XX^T \\textrm{in case of linear kernel}$$ \n",
    "\n",
    "\n",
    "$$  q^T=[-1,-1,-1...-1]_{1\\times m}$$\n",
    "\n",
    "$$G = \\begin{bmatrix}\n",
    "-1& & & & &   \\\\\n",
    " & -1 & &  &        &  \\\\\n",
    " &  & \\ddots &  &  &    \\\\\n",
    "   &  &  & \\ddots &  &  \\\\\n",
    "  &        & & & \\ddots & \\\\\n",
    " &       &        &      &       & -1\\\\\n",
    " 1& & & & &   \\\\\n",
    " & 1 & &  &        &  \\\\\n",
    " &  & \\ddots &  &  &    \\\\\n",
    "   &  &  & \\ddots &  &  \\\\\n",
    "  &        & & & \\ddots & \\\\\n",
    " &       &        &      &       & 1\n",
    "\\end{bmatrix}_{2m\\times m}$$\n",
    "\n",
    "$$h = \\begin{bmatrix}\n",
    "0\\\\\n",
    "0\\\\\n",
    "\\vdots\\\\\n",
    "0\\\\\n",
    "C\\\\\n",
    "C\\\\\n",
    "\\vdots\\\\\n",
    "C\n",
    "\\end{bmatrix}_{2m \\times 1}$$\\\n",
    "$$A = Y^T$$\n",
    "$$b = [0]$$\n",
    "\n",
    "<hr>\n",
    "\n",
    "* So now using this optimization problem solvers we have implemnted binary classification model in Question 1 and multiclass classification model using one-vs-one stretergy in next question. \n",
    "\n",
    "\n",
    "* All the experiments in this assignment were ran in google colab with 35 GB Ram and 40 core machine."
   ]
  },
  {
   "cell_type": "code",
   "execution_count": 0,
   "metadata": {
    "colab": {},
    "colab_type": "code",
    "id": "B75dTFPVkD3t"
   },
   "outputs": [],
   "source": [
    "import pandas as pd\n",
    "import numpy as np\n",
    "import matplotlib.pyplot as plt\n",
    "import seaborn as sns\n",
    "import pickle\n",
    "from tqdm import tqdm\n",
    "from time import time\n",
    "import math\n",
    "from cvxopt import solvers, matrix\n",
    "\n",
    "from scipy.spatial.distance import cdist\n",
    "\n",
    "from sklearn.svm import SVC\n",
    "from sklearn.metrics import accuracy_score\n",
    "\n",
    "from itertools import combinations \n",
    "\n",
    "from joblib import Parallel, delayed\n",
    "import multiprocessing"
   ]
  },
  {
   "cell_type": "markdown",
   "metadata": {
    "colab_type": "text",
    "id": "as4qWzbP2x-u"
   },
   "source": [
    "* Loading the data for class 2 and 3 as my entry number is 2019mcs2562"
   ]
  },
  {
   "cell_type": "code",
   "execution_count": 0,
   "metadata": {
    "colab": {},
    "colab_type": "code",
    "id": "cVXeL0fZkD34"
   },
   "outputs": [],
   "source": [
    "def getData(train, test, val, class1=2, class2=3):\n",
    "    '''\n",
    "    This method returns X and Y of Train, Test and validation dataset having output labels= class1 or class2\n",
    "    '''\n",
    "    #Slicing data where y=class1 or class2\n",
    "    train = train[np.logical_or(train[:,-1]==class1, train[:,-1]==class2)] \n",
    "    val = val[np.logical_or(val[:,-1]==class1, val[:,-1]==class2)] \n",
    "    test = test[np.logical_or(test[:,-1]==class1, test[:,-1]==class2)] \n",
    "\n",
    "    #Scaling X and mapping class1 to -1 and class2 to 1 to return Yi\n",
    "    X_train = train[:,:-1]/255\n",
    "    Y_train = train[:,-1]\n",
    "    Y_train = np.array([-1 if i==class1 else 1 for i in Y_train], dtype=int).reshape((Y_train.shape[0],1))\n",
    "\n",
    "    X_val = val[:,:-1]/255\n",
    "    Y_val = val[:,-1]\n",
    "    Y_val = np.array([-1 if i==class1 else 1 for i in Y_val], dtype=int).reshape((Y_val.shape[0],1))\n",
    "\n",
    "    X_test = test[:,:-1]/255\n",
    "    Y_test = test[:,-1]\n",
    "    Y_test = np.array([-1 if i==class1 else 1 for i in Y_test], dtype=int).reshape((Y_test.shape[0],1))\n",
    "    \n",
    "    return (X_train, Y_train, X_val, Y_val, X_test, Y_test)\n",
    "\n",
    "#Loading Data-sets\n",
    "# train = pd.read_csv('/content/drive/My Drive/ML/Assignment2Data/train.csv', header=None).to_numpy()\n",
    "# val = pd.read_csv('/content/drive/My Drive/ML/Assignment2Data/val.csv', header=None).to_numpy()\n",
    "# test = pd.read_csv('/content/drive/My Drive/ML/Assignment2Data/test.csv', header=None).to_numpy()\n",
    "train = pd.read_csv('./data/train.csv', header=None).to_numpy()\n",
    "val = pd.read_csv('./data/val.csv', header=None).to_numpy()\n",
    "test = pd.read_csv('./data/test.csv', header=None).to_numpy()\n",
    "\n",
    "\n",
    "\n",
    "#Getting train, validation and test dataset for class labels 2 and 3\n",
    "(X_train, Y_train, X_val, Y_val, X_test, Y_test) = getData(train, test, val, class1=2, class2=3)\n",
    "\n",
    "#Getting whole dataset that will be used in question 2(X's are scaled here)\n",
    "X_train_whole = train[:,:-1]/255\n",
    "Y_train_whole = train[:,-1].ravel()\n",
    "Y_train_whole = Y_train_whole.astype(int)\n",
    "\n",
    "X_val_whole = val[:,:-1]/255\n",
    "Y_val_whole = val[:,-1].ravel()\n",
    "Y_val_whole = Y_val_whole.astype(int)\n",
    "\n",
    "X_test_whole = test[:,:-1]/255\n",
    "Y_test_whole = test[:,-1].ravel()\n",
    "Y_test_whole = Y_test_whole.astype(int)"
   ]
  },
  {
   "cell_type": "code",
   "execution_count": 4,
   "metadata": {
    "colab": {
     "base_uri": "https://localhost:8080/",
     "height": 545
    },
    "colab_type": "code",
    "id": "sIzK8_efkD3_",
    "outputId": "fcbb92db-2968-4cf3-bddf-5e03b08aa248"
   },
   "outputs": [
    {
     "data": {
      "image/png": "[encoded data removed]",
      "text/plain": [
       "<Figure size 432x288 with 1 Axes>"
      ]
     },
     "metadata": {
      "tags": []
     },
     "output_type": "display_data"
    },
    {
     "data": {
      "image/png": "[encoded data removed]",
      "text/plain": [
       "<Figure size 432x288 with 1 Axes>"
      ]
     },
     "metadata": {
      "tags": []
     },
     "output_type": "display_data"
    }
   ],
   "source": [
    "#Showing class = 2(Pullover) and class = 3(Dress) images \n",
    "plt.imshow(X_train[np.where(Y_train.ravel() == -1)][0].reshape((28,28)), cmap='gray')\n",
    "plt.title('Y = 2 (Pullover)')\n",
    "plt.show()\n",
    "plt.imshow(X_train[np.where(Y_train.ravel() == 1)][0].reshape((28,28)), cmap='gray')\n",
    "plt.title('Y = 3 (Dress)')\n",
    "plt.show()"
   ]
  },
  {
   "cell_type": "markdown",
   "metadata": {
    "colab_type": "text",
    "id": "PBJa8PrJkD4H"
   },
   "source": [
    "## Question 1(a) : Implementing Linear SVM"
   ]
  },
  {
   "cell_type": "code",
   "execution_count": 0,
   "metadata": {
    "colab": {},
    "colab_type": "code",
    "id": "GMYVs5NekD4K"
   },
   "outputs": [],
   "source": [
    "class SVM:\n",
    "    '''\n",
    "    This class provides implementation of SVM.\n",
    "    \n",
    "    **************\n",
    "    Parameters:\n",
    "    C=1 : Regularization parameter (Defalts 1.0)\n",
    "    threshold=1e-5 : Threshold for alphas i.e. alpha values below this will be treated as 0 (Defalts 1e-5)\n",
    "    kernel='kernel' : Type of kernel you want to use ('linear' or 'rbf')\n",
    "    gamma=0.05 : Hyperparameter for rbf kernel\n",
    "    showTime=True : Boolean to show time taken to fit\n",
    "    silentCVXOPT=False : Supress the output that CVXopt generates while solving optimization problem \n",
    "    **************\n",
    "    \n",
    "    **************\n",
    "    Attributes:\n",
    "    \n",
    "    alphas : array of size m\n",
    "    nSV : Number of support vectors\n",
    "    SV_indices : indices of support vectors in alphas and in X_train(size=nSV)\n",
    "    SV : support vectors (size=(m,n))\n",
    "    SV_y : output label corrosponding to every support vectors (size=m)\n",
    "    \n",
    "    \n",
    "    **************\n",
    "    '''\n",
    "    __slots__=['C', 'threshold', 'kernel', 'gamma', 'showTime', 'silentCVXOPT', 'alphas', 'nSV', 'SV_indices', 'SV_y', 'SV', 'w', 'b']\n",
    "\n",
    "    def __init__(self, C=1, threshold=1e-5, kernel='linear', gamma=0.05, showTime=True, silentCVXOPT = False):\n",
    "        self.C = C\n",
    "        self.threshold = threshold\n",
    "        self.kernel = kernel\n",
    "        self.gamma = gamma\n",
    "        self.showTime = showTime\n",
    "        self.silentCVXOPT = silentCVXOPT\n",
    "    \n",
    "    def _getRBFKernelMat(self, X, gamma = 0.05):\n",
    "        '''Returns rbf kernel matrix for the given data X'''\n",
    "        return np.exp(-gamma*(cdist(X,X,'euclidean')**2))\n",
    "    \n",
    "    def fit(self, X_train, Y_train):\n",
    "        '''\n",
    "        This method trains SVM model and stores corrosponding parameters\n",
    "        \n",
    "        Important : Y should be mapped to -1 aand 1 only\n",
    "        '''\n",
    "        t0 = time()\n",
    "        \n",
    "        if self.kernel=='linear':\n",
    "            P = Y_train.dot(Y_train.T) * (X_train.dot(X_train.T))\n",
    "        elif self.kernel=='rbf':\n",
    "            K = self._getRBFKernelMat(X_train, self.gamma)\n",
    "            P = Y_train.dot(Y_train.T) * (K)\n",
    "        P=matrix(P,tc='d')\n",
    "\n",
    "        q = -np.ones(X_train.shape[0])\n",
    "        q=matrix(q,tc='d')\n",
    "\n",
    "        G = np.vstack((-np.identity(X_train.shape[0]), np.identity(X_train.shape[0])))\n",
    "        G=matrix(G,tc='d')\n",
    "\n",
    "        h = np.hstack((np.zeros(X_train.shape[0]), np.zeros(X_train.shape[0])+self.C))\n",
    "        h=matrix(h,tc='d')\n",
    "\n",
    "        A = Y_train.T\n",
    "        A = matrix(A,tc='d')\n",
    "        b=matrix([0],tc='d')\n",
    "        if self.silentCVXOPT:\n",
    "            solvers.options['show_progress'] = False\n",
    "        opt = solvers.qp(P, q, G, h, A, b)\n",
    "\n",
    "        self.alphas = np.array(opt['x']).ravel()\n",
    "\n",
    "        self.alphas[self.alphas<self.threshold] = 0\n",
    "\n",
    "        self.nSV = np.where(self.alphas > 0)[0].shape[0]\n",
    "        self.SV_indices = np.where(self.alphas > 0)[0]\n",
    "        self.SV_y = Y_train[self.SV_indices].ravel()\n",
    "        self.SV = X_train[self.SV_indices]\n",
    "        \n",
    "        if self.kernel == 'linear':\n",
    "            self.w = (X_train[self.SV_indices]).T.dot((Y_train[self.SV_indices].ravel())*self.alphas[self.SV_indices])\n",
    "            X_pos = X_train[np.where(Y_train.ravel() == 1)]\n",
    "            X_neg = X_train[np.where(Y_train.ravel() == -1)]\n",
    "            self.b = -(1/2)*(min(X_pos.dot(self.w)) + max(X_neg.dot(self.w)))\n",
    "\n",
    "        elif self.kernel == 'rbf':\n",
    "            X_pos_indices = np.where(Y_train.ravel() == 1)[0]\n",
    "            X_neg_indices = np.where(Y_train.ravel() == -1)[0]\n",
    "            alphaiXyi = self.alphas*Y_train.ravel()\n",
    "            Min = math.inf\n",
    "            for i in X_pos_indices:            \n",
    "                Sum = 0\n",
    "                for j in self.SV_indices:\n",
    "                    Sum = Sum + (alphaiXyi[j] * K[i,j])\n",
    "                if(Sum<Min):\n",
    "                    Min=Sum\n",
    "            Max = -math.inf\n",
    "            for i in X_neg_indices:\n",
    "                Sum = 0\n",
    "                for j in self.SV_indices:\n",
    "                    Sum = Sum + (alphaiXyi[j] * K[i,j])\n",
    "                if(Sum>Max):\n",
    "                    Max=Sum\n",
    "            self.b = -(1/2)*(Max+Min)\n",
    "        if self.showTime:\n",
    "            print(\"Training completed in %.2f seconds\"%((time()-t0)))\n",
    "        \n",
    "\n",
    "    def predict(self,X):\n",
    "        '''\n",
    "        This method returns predictions generated by our model for the given dataset\n",
    "        '''\n",
    "        pred = list()\n",
    "        if self.kernel=='linear':\n",
    "            for pt in X:\n",
    "                if (self.SV).T.dot(self.SV_y*self.alphas[self.SV_indices]).dot(pt) + self.b > 0:\n",
    "                    pred.append(1)\n",
    "                else:\n",
    "                    pred.append(-1)\n",
    "        elif self.kernel=='rbf':\n",
    "            wTxB = (np.exp(-0.05*cdist(self.SV, X)**2).T)@(self.alphas[self.SV_indices]*self.SV_y).reshape((-1,1)) + self.b\n",
    "            wTxB[wTxB > 0] = 1\n",
    "            wTxB[wTxB < 0] = -1\n",
    "            pred = wTxB\n",
    "        return np.array(pred, dtype='int32')\n",
    "    \n",
    "    def decision_function(self, X):\n",
    "        '''\n",
    "        returns wTx + b for every points in X\n",
    "        '''\n",
    "        score = list()\n",
    "        if self.kernel=='linear':\n",
    "            for pt in X:\n",
    "                score.append((self.SV).T.dot(self.SV_y*self.alphas[self.SV_indices]).dot(pt) + self.b)\n",
    "        elif self.kernel=='rbf':\n",
    "            score = (np.exp(-0.05*cdist(self.SV, X)**2).T)@(self.alphas[self.SV_indices]*self.SV_y).reshape((-1,1)) + self.b\n",
    "        return np.array(score)\n",
    "\n",
    "class metrics:\n",
    "    '''\n",
    "    This class contains various methods that will be useful in finding various performance metrics for our model\n",
    "    '''\n",
    "    def accuracy_score(y_true, y_pred):\n",
    "        '''\n",
    "        Returs accuracy for the given predicted and true values\n",
    "        '''\n",
    "        true = sum(y_true.ravel() == y_pred.ravel())\n",
    "        return true*100/len(y_true)\n",
    "    \n",
    "    def confusion_matrix(y_true, y_pred, title = 'Confusion Matrix'):\n",
    "        '''\n",
    "        plots confusion matrix for given predicted and truue values\n",
    "        '''\n",
    "        classes = np.unique(y_true)\n",
    "        n_classes=len(classes)\n",
    "        cm=np.zeros((n_classes,n_classes), dtype=int)\n",
    "        \n",
    "        for i in range(len(y_true)):\n",
    "            cm[y_pred[i],y_true[i]]+=1\n",
    "        \n",
    "        plt.figure(figsize=(10,10))\n",
    "        sns.heatmap(cm, annot=True, fmt=\"d\", cbar=False, linecolor='black',linewidth='0', \\\n",
    "        cmap='Blues', xticklabels=classes, yticklabels=classes)\n",
    "        plt.xlabel('Actual')\n",
    "        plt.ylabel('Predicted')\n",
    "        plt.title(title)\n",
    "        plt.show()"
   ]
  },
  {
   "cell_type": "code",
   "execution_count": 6,
   "metadata": {
    "colab": {
     "base_uri": "https://localhost:8080/",
     "height": 311
    },
    "colab_type": "code",
    "id": "rqNQFoQskD4P",
    "outputId": "1abc5e24-8684-48c9-e142-d437da6cec79"
   },
   "outputs": [
    {
     "name": "stdout",
     "output_type": "stream",
     "text": [
      "     pcost       dcost       gap    pres   dres\n",
      " 0: -5.2396e+02 -9.3983e+03  5e+04  3e+00  3e-12\n",
      " 1: -3.3568e+02 -5.4793e+03  1e+04  5e-01  2e-12\n",
      " 2: -2.0714e+02 -1.8273e+03  3e+03  1e-01  2e-12\n",
      " 3: -1.4999e+02 -9.1602e+02  1e+03  5e-02  1e-12\n",
      " 4: -1.1131e+02 -4.9405e+02  6e+02  2e-02  9e-13\n",
      " 5: -9.0544e+01 -3.1115e+02  3e+02  8e-03  9e-13\n",
      " 6: -8.5666e+01 -1.4689e+02  7e+01  6e-04  9e-13\n",
      " 7: -9.2854e+01 -1.1845e+02  3e+01  6e-15  1e-12\n",
      " 8: -9.8193e+01 -1.0801e+02  1e+01  3e-15  9e-13\n",
      " 9: -1.0058e+02 -1.0337e+02  3e+00  4e-15  1e-12\n",
      "10: -1.0167e+02 -1.0194e+02  3e-01  7e-16  1e-12\n",
      "11: -1.0178e+02 -1.0179e+02  5e-03  4e-15  1e-12\n",
      "12: -1.0179e+02 -1.0179e+02  9e-05  2e-15  1e-12\n",
      "Optimal solution found.\n",
      "Training completed in 14.43 seconds\n"
     ]
    }
   ],
   "source": [
    "#Training linear SVM model with C=1\n",
    "\n",
    "linearSVM = SVM(C=1.0, kernel='linear')\n",
    "\n",
    "linearSVM.fit(X_train, Y_train)"
   ]
  },
  {
   "cell_type": "code",
   "execution_count": 10,
   "metadata": {
    "colab": {
     "base_uri": "https://localhost:8080/",
     "height": 35
    },
    "colab_type": "code",
    "id": "kyCvT0lHq1Mc",
    "outputId": "931404a1-84e2-4209-d086-01809888f037"
   },
   "outputs": [
    {
     "name": "stdout",
     "output_type": "stream",
     "text": [
      "b:  -1.235384679744142\n"
     ]
    }
   ],
   "source": [
    "print('b: ', linearSVM.b)"
   ]
  },
  {
   "cell_type": "code",
   "execution_count": 0,
   "metadata": {
    "colab": {},
    "colab_type": "code",
    "id": "IWxeU9Ka3TxD"
   },
   "outputs": [],
   "source": [
    "w = linearSVM.w"
   ]
  },
  {
   "cell_type": "code",
   "execution_count": 12,
   "metadata": {
    "colab": {
     "base_uri": "https://localhost:8080/",
     "height": 35
    },
    "colab_type": "code",
    "id": "9nGKsGsJkD4V",
    "outputId": "dbe111d4-9303-49e8-83a0-cf135b616f6c"
   },
   "outputs": [
    {
     "name": "stdout",
     "output_type": "stream",
     "text": [
      "Number of support vectors : 370\n"
     ]
    }
   ],
   "source": [
    "print('Number of support vectors :',linearSVM.nSV)"
   ]
  },
  {
   "cell_type": "code",
   "execution_count": 13,
   "metadata": {
    "colab": {
     "base_uri": "https://localhost:8080/",
     "height": 72
    },
    "colab_type": "code",
    "id": "KCTuuefakD4a",
    "outputId": "824cd151-dc55-4736-a41e-9aa94c593948"
   },
   "outputs": [
    {
     "name": "stdout",
     "output_type": "stream",
     "text": [
      "Accuracy on Train Dataset using linear kernel :  92.77777777777777\n",
      "Accuracy on Validation Dataset using linear kernel :  89.6\n",
      "Accuracy on Test Dataset using linear kernel :  91.3\n"
     ]
    }
   ],
   "source": [
    "#Generating accuracies figures for train, test and validation datasets\n",
    "\n",
    "pred_train = linearSVM.predict(X_train)\n",
    "accuracy_train = metrics.accuracy_score(Y_train, pred_train)\n",
    "\n",
    "pred_test = linearSVM.predict(X_test)\n",
    "accuracy_test = metrics.accuracy_score(Y_test, pred_test)\n",
    "\n",
    "pred_val = linearSVM.predict(X_val)\n",
    "accuracy_val = metrics.accuracy_score(Y_val, pred_val)\n",
    "\n",
    "print('Accuracy on Train Dataset using linear kernel : ', accuracy_train)\n",
    "print('Accuracy on Validation Dataset using linear kernel : ', accuracy_val)\n",
    "print('Accuracy on Test Dataset using linear kernel : ', accuracy_test)"
   ]
  },
  {
   "cell_type": "code",
   "execution_count": 0,
   "metadata": {
    "colab": {},
    "colab_type": "code",
    "id": "2N5hzljqsc1f"
   },
   "outputs": [],
   "source": [
    "#Changing b to b that we get using sklearn as we know our formula of b is wrong\n",
    "#(As sir mentioned in piazza to use formula of b as discussed in hard margin SVM)\n",
    "linearSVM.b=0.3995427"
   ]
  },
  {
   "cell_type": "code",
   "execution_count": 15,
   "metadata": {
    "colab": {
     "base_uri": "https://localhost:8080/",
     "height": 90
    },
    "colab_type": "code",
    "id": "lfMMzzpRstmi",
    "outputId": "6aadf2ef-3b78-409c-b132-f8f2fa027423"
   },
   "outputs": [
    {
     "name": "stdout",
     "output_type": "stream",
     "text": [
      "****Accuracies after changing b*****\n",
      "Accuracy on Train Dataset using linear kernel :  99.55555555555556\n",
      "Accuracy on Validation Dataset using linear kernel :  97.0\n",
      "Accuracy on Test Dataset using linear kernel :  95.7\n"
     ]
    }
   ],
   "source": [
    "#Getting updated accuracies after changing b in our class\n",
    "#As we will later see that this values are very much close to accuracies reported by sklearn's model\n",
    "#Hence formula that we used to calculate b as sir told us is giving wrong b\n",
    "\n",
    "pred_train = linearSVM.predict(X_train)\n",
    "accuracy_train = metrics.accuracy_score(Y_train, pred_train)\n",
    "\n",
    "pred_test = linearSVM.predict(X_test)\n",
    "accuracy_test = metrics.accuracy_score(Y_test, pred_test)\n",
    "\n",
    "pred_val = linearSVM.predict(X_val)\n",
    "accuracy_val = metrics.accuracy_score(Y_val, pred_val)\n",
    "print('****Accuracies after changing b*****')\n",
    "print('Accuracy on Train Dataset using linear kernel : ', accuracy_train)\n",
    "print('Accuracy on Validation Dataset using linear kernel : ', accuracy_val)\n",
    "print('Accuracy on Test Dataset using linear kernel : ', accuracy_test)"
   ]
  },
  {
   "cell_type": "markdown",
   "metadata": {
    "colab_type": "text",
    "id": "WjPaB16GkD4f"
   },
   "source": [
    "## Question 1(b) : Applying SVM with Gaussian Kernel"
   ]
  },
  {
   "cell_type": "code",
   "execution_count": 16,
   "metadata": {
    "colab": {
     "base_uri": "https://localhost:8080/",
     "height": 274
    },
    "colab_type": "code",
    "id": "QuHgtM9hkD4g",
    "outputId": "37f4350d-18fb-4275-8dae-6a9ac246e459"
   },
   "outputs": [
    {
     "name": "stdout",
     "output_type": "stream",
     "text": [
      "     pcost       dcost       gap    pres   dres\n",
      " 0: -3.0404e+02 -8.2833e+03  4e+04  2e+00  1e-15\n",
      " 1: -2.1981e+02 -4.4663e+03  7e+03  3e-01  1e-15\n",
      " 2: -1.8274e+02 -1.0106e+03  1e+03  3e-02  2e-15\n",
      " 3: -2.3561e+02 -4.7608e+02  3e+02  6e-03  1e-15\n",
      " 4: -2.6244e+02 -3.3488e+02  8e+01  1e-03  1e-15\n",
      " 5: -2.7389e+02 -2.9769e+02  2e+01  2e-04  1e-15\n",
      " 6: -2.7877e+02 -2.8539e+02  7e+00  4e-05  1e-15\n",
      " 7: -2.8041e+02 -2.8192e+02  2e+00  3e-06  1e-15\n",
      " 8: -2.8091e+02 -2.8102e+02  1e-01  7e-08  1e-15\n",
      " 9: -2.8095e+02 -2.8095e+02  2e-03  9e-10  1e-15\n",
      "10: -2.8095e+02 -2.8095e+02  4e-05  1e-11  1e-15\n",
      "Optimal solution found.\n",
      "Training completed in 32.37 seconds\n"
     ]
    }
   ],
   "source": [
    "#Training linear SVM model with C=1\n",
    "\n",
    "rbfSVM = SVM(C=1.0, threshold=1e-5, kernel='rbf', gamma=0.05)\n",
    "\n",
    "rbfSVM.fit(X_train, Y_train)"
   ]
  },
  {
   "cell_type": "code",
   "execution_count": 17,
   "metadata": {
    "colab": {
     "base_uri": "https://localhost:8080/",
     "height": 35
    },
    "colab_type": "code",
    "id": "D9LZjDderAQS",
    "outputId": "b43c42d7-c4da-4a6c-8ad4-0825e8bf8e21"
   },
   "outputs": [
    {
     "name": "stdout",
     "output_type": "stream",
     "text": [
      "b : -0.534452252549684\n"
     ]
    }
   ],
   "source": [
    "print('b :', rbfSVM.b)"
   ]
  },
  {
   "cell_type": "code",
   "execution_count": 18,
   "metadata": {
    "colab": {
     "base_uri": "https://localhost:8080/",
     "height": 35
    },
    "colab_type": "code",
    "id": "B1_q8SiskD4r",
    "outputId": "7f2a7f15-0bba-43bb-f3b0-4f58d803e5c5"
   },
   "outputs": [
    {
     "name": "stdout",
     "output_type": "stream",
     "text": [
      "Number of support vectors in RBF-SVM: 1123\n"
     ]
    }
   ],
   "source": [
    "print('Number of support vectors in RBF-SVM:',rbfSVM.nSV)"
   ]
  },
  {
   "cell_type": "code",
   "execution_count": 19,
   "metadata": {
    "colab": {
     "base_uri": "https://localhost:8080/",
     "height": 72
    },
    "colab_type": "code",
    "id": "lb8A7gOMkD4y",
    "outputId": "0e54b3ad-ce61-420c-f903-b51f6b2c5b75"
   },
   "outputs": [
    {
     "name": "stdout",
     "output_type": "stream",
     "text": [
      "Accuracy on Train Dataset using gaussian kernel : 99.4\n",
      "Accuracy on Validation Dataset using gaussian kernel : 97.2\n",
      "Accuracy on Test Dataset using gaussian kernel : 96.1\n"
     ]
    }
   ],
   "source": [
    "#Generating accuracies figures for train, test and validation datasets\n",
    "\n",
    "pred_train = rbfSVM.predict(X_train)\n",
    "accuracy_train = metrics.accuracy_score(Y_train, pred_train)\n",
    "\n",
    "pred_test = rbfSVM.predict(X_test)\n",
    "accuracy_test = metrics.accuracy_score(Y_test, pred_test)\n",
    "\n",
    "pred_val = rbfSVM.predict(X_val)\n",
    "accuracy_val = metrics.accuracy_score(Y_val, pred_val)\n",
    "\n",
    "print('Accuracy on Train Dataset using gaussian kernel :', accuracy_train)\n",
    "print('Accuracy on Validation Dataset using gaussian kernel :', accuracy_val)\n",
    "print('Accuracy on Test Dataset using gaussian kernel :', accuracy_test)"
   ]
  },
  {
   "cell_type": "code",
   "execution_count": 0,
   "metadata": {
    "colab": {},
    "colab_type": "code",
    "id": "5zEnvvAxtBME"
   },
   "outputs": [],
   "source": [
    "#Changing b to b that we get using sklearn as we know our formula of b is wrong\n",
    "#(As sir mentioned in piazza to use formula of b as discussed in hard margin SVM)\n",
    "rbfSVM.b=-0.19803938"
   ]
  },
  {
   "cell_type": "code",
   "execution_count": 21,
   "metadata": {
    "colab": {
     "base_uri": "https://localhost:8080/",
     "height": 90
    },
    "colab_type": "code",
    "id": "jwUsAnHutHdI",
    "outputId": "11ac743e-57de-49e2-ae8e-45b4d9e8924d"
   },
   "outputs": [
    {
     "name": "stdout",
     "output_type": "stream",
     "text": [
      "****Accuracies after changing b*****\n",
      "Accuracy on Train Dataset using gaussian kernel : 99.4\n",
      "Accuracy on Validation Dataset using gaussian kernel : 98.2\n",
      "Accuracy on Test Dataset using gaussian kernel : 97.2\n"
     ]
    }
   ],
   "source": [
    "#Getting updated accuracies after changing b in our class\n",
    "#As we will later see that this values are very much close to accuracies reported by sklearn's model\n",
    "#Hence formula that we used to calculate b as sir told us is giving wrong b\n",
    "\n",
    "pred_train = rbfSVM.predict(X_train)\n",
    "accuracy_train = metrics.accuracy_score(Y_train, pred_train)\n",
    "\n",
    "pred_test = rbfSVM.predict(X_test)\n",
    "accuracy_test = metrics.accuracy_score(Y_test, pred_test)\n",
    "\n",
    "pred_val = rbfSVM.predict(X_val)\n",
    "accuracy_val = metrics.accuracy_score(Y_val, pred_val)\n",
    "print('****Accuracies after changing b*****')\n",
    "print('Accuracy on Train Dataset using gaussian kernel :', accuracy_train)\n",
    "print('Accuracy on Validation Dataset using gaussian kernel :', accuracy_val)\n",
    "print('Accuracy on Test Dataset using gaussian kernel :', accuracy_test)"
   ]
  },
  {
   "cell_type": "markdown",
   "metadata": {
    "colab_type": "text",
    "id": "OeRSt5YMkD42"
   },
   "source": [
    "## Question 1(c) : Comparing our implementation with scikit-learn's implementation"
   ]
  },
  {
   "cell_type": "code",
   "execution_count": 24,
   "metadata": {
    "colab": {
     "base_uri": "https://localhost:8080/",
     "height": 146
    },
    "colab_type": "code",
    "id": "4EwkpZpYkD44",
    "outputId": "14b078f7-72e6-4873-b627-2e0def9f6391"
   },
   "outputs": [
    {
     "name": "stdout",
     "output_type": "stream",
     "text": [
      "Linear SVM trined in 2.92 sec\n",
      "b : [0.3995427]\n",
      "nSV : [167 196]\n",
      "Total Support vectors : 363\n",
      "Accuracy on train data 99.56 %\n",
      "Accuracy on validation data 97.00 %\n",
      "Accuracy on test data 95.70 %\n"
     ]
    }
   ],
   "source": [
    "svm = SVC(C=1, kernel='linear')\n",
    "t0 = time()\n",
    "svm.fit(X_train, Y_train.ravel())\n",
    "print('Linear SVM trined in %.2f sec'%(time()-t0))\n",
    "\n",
    "w_sklearn = svm.coef_\n",
    "# print('W : %s'%(svm.coef_))\n",
    "print('b : %s'%(svm.intercept_))\n",
    "print('nSV : %s'%(svm.n_support_))\n",
    "print('Total Support vectors : %s'%(svm.n_support_.sum()))\n",
    "\n",
    "pred_train = svm.predict(X_train)\n",
    "pred_val = svm.predict(X_val)\n",
    "pred_test = svm.predict(X_test)\n",
    "\n",
    "print('Accuracy on train data %.2f %c'%(accuracy_score(Y_train, pred_train)*100,'%'))\n",
    "print('Accuracy on validation data %.2f %c'%(accuracy_score(Y_val, pred_val)*100,'%'))\n",
    "print('Accuracy on test data %.2f %c'%(accuracy_score(Y_test, pred_test)*100,'%'))"
   ]
  },
  {
   "cell_type": "code",
   "execution_count": 28,
   "metadata": {
    "colab": {
     "base_uri": "https://localhost:8080/",
     "height": 35
    },
    "colab_type": "code",
    "id": "X4f3dasp4D3v",
    "outputId": "18626c46-22a7-4237-8e6b-543acf8882c6"
   },
   "outputs": [
    {
     "name": "stdout",
     "output_type": "stream",
     "text": [
      "2-norm of difference between w found by our solution vs sklearn's solution :  0.005978963328436608\n"
     ]
    }
   ],
   "source": [
    "diff_norm = np.linalg.norm(w-w_sklearn, ord=2)\n",
    "print('2-norm of difference between w found by our solution vs sklearn\\'s solution : ', diff_norm)"
   ]
  },
  {
   "cell_type": "code",
   "execution_count": 29,
   "metadata": {
    "colab": {
     "base_uri": "https://localhost:8080/",
     "height": 146
    },
    "colab_type": "code",
    "id": "O2ZywkxZkD48",
    "outputId": "a57065d2-d199-49b9-a503-8f211f4d4617"
   },
   "outputs": [
    {
     "name": "stdout",
     "output_type": "stream",
     "text": [
      "RBF SVM trined in 6.59 sec\n",
      "b : [-0.19803938]\n",
      "Support vectors : [565 537]\n",
      "Total Support vectors : 1102\n",
      "Accuracy on train data 99.40 %\n",
      "Accuracy on validation data 98.20 %\n",
      "Accuracy on test data 97.20 %\n"
     ]
    }
   ],
   "source": [
    "svm = SVC(C=1, kernel='rbf', gamma=0.05)\n",
    "t0 = time()\n",
    "svm.fit(X_train, Y_train.ravel())\n",
    "print('RBF SVM trined in %.2f sec'%(time()-t0))\n",
    "\n",
    "# print('W : %s'%(svm.coef_))\n",
    "print('b : %s'%(svm.intercept_))\n",
    "print('Support vectors : %s'%(svm.n_support_))\n",
    "print('Total Support vectors : %s'%(svm.n_support_.sum()))\n",
    "\n",
    "pred_train = svm.predict(X_train)\n",
    "pred_val = svm.predict(X_val)\n",
    "pred_test = svm.predict(X_test)\n",
    "\n",
    "print('Accuracy on train data %.2f %c'%(accuracy_score(Y_train, pred_train)*100,'%'))\n",
    "print('Accuracy on validation data %.2f %c'%(accuracy_score(Y_val, pred_val)*100,'%'))\n",
    "print('Accuracy on test data %.2f %c'%(accuracy_score(Y_test, pred_test)*100,'%'))"
   ]
  },
  {
   "cell_type": "markdown",
   "metadata": {
    "colab_type": "text",
    "id": "swjT9NWe2yAG"
   },
   "source": [
    "### Observations : \n",
    "| Kernel   | Implementation               | nSV | b        | Accuracy (Train)| Accuracy (Validation) | Accuracy(Test)|  Time (In seconds) |\n",
    "|----------|------------------------------|---------------------------|----------|---------------------------|--------------------------------|--------------------------|-------|\n",
    "| Linear   | My                           | 370                       | -1.23538 | 92.78                     | 89.6                           | 91.3                     |14.43       |\n",
    "| Linear   | Sklearn                      | 363                       | 0.399 | 99.56                     | 97                             | 95.70                    |2.92       |\n",
    "| Linear   | My(After b=0.399542) | 370                       | 0.399 | 99.55555556               | 97                             | 95.70                    |       |\n",
    "| Gaussian | My                           | 1123                      | -0.53445 | 99.4                      | 97.2                           | 96.1                     |32.37       |\n",
    "| Gaussian | Sklearn                      | 1102                      | -0.19803 | 99.4                      | 98.2                           | 97.2                     |6.59       |\n",
    "| Gaussian | My(After b=-0.19803) | 1123                      | -0.19803 | 99.4                      | 98.2                           | 97.2                     |       |\n",
    "\n",
    "* We can clearly see that **accuracies in rbf kernel SVM increases** as compared to linear SVM.\n",
    "\n",
    "\n",
    "\n",
    "* Now we can see here that **time taken to train using CVXOPT is more** that sklearn's implemntation as sklearn uses solver that is optimized for svm only whereas CVXOPT is a general optimization problem solver.\n",
    "\n",
    "\n",
    "* **Number of support vectors** in my and sklaern's implementation **are similar**.\n",
    "\n",
    "\n",
    "* b and accuracy figures differes in both the implementations, but when we set b in our class to b that sklearn gives then my implementation gives identical accuracies to that we get in sklearn's implementation.\n",
    "\n",
    "* Now comparing w of our implementation and sklearn's implementation for the case of linear SVM we got **2-norm of difference between two w = 0.00597896**"
   ]
  },
  {
   "cell_type": "markdown",
   "metadata": {
    "colab_type": "text",
    "id": "41WpLCf-kD5E"
   },
   "source": [
    "# Question 2 : Multi-class Classification\n",
    "\n",
    "## Question 2(a) : Implemeting Multiclass classification using binary model class (svm) that I created in question 1 using one-vs-one stretergy.\n",
    "\n",
    "* In this Part I have implemented one-vs-one stretergy for classyfying 10 classes of fashion MNIST dataset"
   ]
  },
  {
   "cell_type": "code",
   "execution_count": 0,
   "metadata": {
    "colab": {},
    "colab_type": "code",
    "id": "insmQn3KkD5G"
   },
   "outputs": [],
   "source": [
    "class multiclassSVM:\n",
    "    '''\n",
    "    This class provides implementation of oneVsOne stretergy using rbfSVM with gamma=0.05\n",
    "    \n",
    "    **************\n",
    "    Parameters:\n",
    "    C=1 : Regularization parameter for base learners (Defalts 1.0)\n",
    "    gamma=0.05 : Hyperparameter for rbf kernel\n",
    "    useSklearn=False : Flag that represents that you want to use SVM(My class) or SVC\n",
    "    classes=range(10) : list/iterable of possible output labels\n",
    "    n_jobs=1 : parallelization parameter. Signifies number of worker threads. \n",
    "               (-1: all cores -2: All except one core)\n",
    "    showTime=True : Boolean to show time taken to fit\n",
    "    **************\n",
    "    \n",
    "    **************\n",
    "    Attributes:\n",
    "    models : (n_classes*(n_classes-1)/2) base models list\n",
    "\n",
    "    **************\n",
    "    '''\n",
    "    \n",
    "    def __init__(self,C=1.0, gamma=0.05, useSklearn = False, classes = range(10), n_jobs=1, showTime=True):\n",
    "        self.C = C\n",
    "        self.gamma = 0.05\n",
    "        self.useSklearn = useSklearn\n",
    "        self.classes = classes\n",
    "        self.comb = list(combinations(classes,2))\n",
    "        self.n_jobs = n_jobs\n",
    "        self.showTime = showTime\n",
    "\n",
    "    def _getData(self, X, Y, class1, class2):\n",
    "        '''\n",
    "        Return X and Y's corrosponding to class labesl class1 and class2\n",
    "        '''\n",
    "        X = X[np.logical_or(Y==class1, Y==class2)] \n",
    "        Y = Y[np.logical_or(Y==class1, Y==class2)] \n",
    "\n",
    "        X = X\n",
    "        Y = np.array([-1 if i==class1 else 1 for i in Y]).reshape((Y.shape[0],1))\n",
    "\n",
    "        return (X, Y)\n",
    "    \n",
    "    def _getMyModel(self, c1, c2, X, Y):\n",
    "        '''\n",
    "        Helper method that will return one my SVM(kernel='rbf') class object trined on X and Y \n",
    "        \n",
    "        Will be used to parallelize the training\n",
    "        '''\n",
    "        (X_train, Y_train) = self._getData(X, Y, class1=c1, class2=c2)    \n",
    "        model = SVM(C=self.C, kernel='rbf', gamma=self.gamma)\n",
    "        model.fit(X_train, Y_train)\n",
    "        return model\n",
    "    \n",
    "    def _getSklearnModel(self, c1, c2, X, Y):\n",
    "        '''\n",
    "        Helper method that will return one sklearn's SVC(kernel='rbf') class object trined on X and Y \n",
    "        \n",
    "        Will be used to parallelize the training\n",
    "        '''\n",
    "        (X_train, Y_train) = self._getData(X, Y, class1=c1, class2=c2)    \n",
    "        model = SVC(C=self.C, kernel='rbf', gamma=self.gamma)\n",
    "        model.fit(X_train, Y_train.ravel())\n",
    "        return model\n",
    "    \n",
    "    def fit(self, X_train, Y_train):\n",
    "        '''\n",
    "        This method parallaly trains (n_classes*(n_classes-1)/2) base models\n",
    "        '''\n",
    "        self.models = list()\n",
    "        t0=time()\n",
    "        if self.useSklearn and self.n_jobs!=1:\n",
    "            self.models = Parallel(n_jobs=self.n_jobs)(delayed(self._getSklearnModel)(c1, c2, X_train, Y_train)\\\n",
    "                                                       for (c1,c2) in tqdm(self.comb, desc='OneVsOne Models generation'))\n",
    "        elif self.useSklearn and self.n_jobs==1:\n",
    "            for (c1,c2) in tqdm(self.comb):\n",
    "                self.models.append(self._getSklearnModel(c1,c2, X_train, Y_train))\n",
    "        elif not self.useSklearn and self.n_jobs!=1:\n",
    "            self.models = Parallel(n_jobs=self.n_jobs)(delayed(self._getMyModel)(c1, c2, X_train, Y_train)\\\n",
    "                                                       for (c1,c2) in tqdm(self.comb, desc='OneVsOne Models generation'))\n",
    "        elif not self.useSklearn and self.n_jobs==1:\n",
    "            for (c1,c2) in tqdm(self.comb):\n",
    "                self.models.append(self._getMyModel(c1,c2, X_train, Y_train))\n",
    "        if self.showTime:\n",
    "            print('Completed training in %.2f minutes.'%((time()-t0)/60))\n",
    "    \n",
    "    def _predict_for_one_model(self, X, model, c0, c1):\n",
    "        '''\n",
    "        Helper method that will return prediction on one base model given X and a model\n",
    "        \n",
    "        This same method will work for both types of base models\n",
    "        Will be used to parallelize the prediction\n",
    "        '''\n",
    "        pred = model.predict(X)\n",
    "        pred_score = model.decision_function(X)\n",
    "        pred[pred == 1] = c1\n",
    "        pred[pred == -1] = c0\n",
    "        return (pred, pred_score)\n",
    "    \n",
    "    def predict_multiclass(self, X):\n",
    "        '''\n",
    "        This method parallaly predicts the class labels for the given dataset\n",
    "        '''\n",
    "        if self.n_jobs != 1:\n",
    "            results = Parallel(n_jobs=self.n_jobs)(delayed(self._predict_for_one_model)(X, model, c1, c2)\\\n",
    "                                                   for (model, (c1,c2)) in tqdm(list(zip(self.models, self.comb)), desc='Generating Predictions'))\n",
    "        else:\n",
    "            results = [self._predict_for_one_model(X, model, c1, c2)\\\n",
    "                       for (model, (c1,c2)) in tqdm(list(zip(self.models, self.comb)), desc='Generating Predictions')]\n",
    "        \n",
    "        predScoreLst = (list(zip(*results)))\n",
    "        predictions = np.array(list(predScoreLst[0]))\n",
    "        predictions = predictions.reshape((predictions.shape[0], predictions.shape[1]))\n",
    "        scores = np.array(list(predScoreLst[1]))\n",
    "        scores = scores.reshape((scores.shape[0], scores.shape[1]))\n",
    "\n",
    "        counts=list()\n",
    "#       wo_tie = list() #Predctions without tie breaking\n",
    "        for i in (predictions.T):\n",
    "            lst = np.zeros(10, dtype='int32')\n",
    "            for x in i:\n",
    "                lst[x]+=1\n",
    "#           wo_tie.append(np.argmax(lst)) #Predctions without tie breaking\n",
    "            counts.append(lst)\n",
    "        np.array(counts).shape\n",
    "\n",
    "        scores_lst = list()\n",
    "        for j in (range(len(predictions.T))):\n",
    "            pt_score = list()\n",
    "            for i in range(10):\n",
    "                pt_score.append(sum(np.abs(scores.T[j][predictions.T[j] == i])))\n",
    "            scores_lst.append(pt_score)\n",
    "        np.array(scores_lst).shape\n",
    "\n",
    "        pred = list()\n",
    "        for i in range(len(X)):\n",
    "            scores_i = scores_lst[i]\n",
    "            counts_i = counts[i]\n",
    "            out = 0\n",
    "            maxScore = abs(scores_i[0])\n",
    "            maxCount = counts_i[0]\n",
    "            for j in range(1,10):\n",
    "                if counts_i[j] < maxCount:\n",
    "                    continue\n",
    "                elif counts_i[j] > maxCount:\n",
    "                    out = j\n",
    "                    maxScore = abs(scores_i[j])\n",
    "                    maxCount = counts_i[j]\n",
    "                else:\n",
    "                    if abs(scores_i[j]) > maxScore:\n",
    "                        out = j\n",
    "                        maxScore = abs(scores_i[j])\n",
    "                        maxCount = counts_i[j]\n",
    "                    else:\n",
    "                        continue\n",
    "            pred.append(out)\n",
    "        return np.array(pred, dtype=int)"
   ]
  },
  {
   "cell_type": "markdown",
   "metadata": {
    "colab_type": "text",
    "id": "0Spr3SI7kD5K"
   },
   "source": [
    "## Part (a) : Implementing OneVsOne Stretergy for multiclass classification using SVM"
   ]
  },
  {
   "cell_type": "code",
   "execution_count": 0,
   "metadata": {
    "colab": {},
    "colab_type": "code",
    "id": "-bNGShoIkD5K"
   },
   "outputs": [],
   "source": [
    "'''\n",
    "Training Multiclass SVM model with my SVM class as base learner \n",
    "'''\n",
    "\n",
    "import os\n",
    "ovo_my_implementation = multiclassSVM(n_jobs=-2, useSklearn=False)\n",
    "\n",
    "if not os.path.isfile('./pickle/my_models_multi.pkl'):\n",
    "    ovo_my_implementation.fit(X_train_whole, Y_train_whole)\n",
    "    with open('./pickle/my_models_multi.pkl', 'wb') as f:\n",
    "        pickle.dump(ovo_my_implementation, f)\n",
    "else:\n",
    "    with open('./pickle/my_models_multi.pkl', 'rb') as f:\n",
    "        pickled_class = pickle.load(f)\n",
    "    ovo_my_implementation.models = pickled_class.models    \n",
    "\n",
    "#output while trained\n",
    "\n",
    "# OneVsOne Models generation: 100%|██████████| 45/45 [04:22<00:00,  5.84s/it]\n",
    "# Completed training in 7.10 minutes."
   ]
  },
  {
   "cell_type": "code",
   "execution_count": 0,
   "metadata": {
    "colab": {
     "base_uri": "https://localhost:8080/",
     "height": 293
    },
    "colab_type": "code",
    "id": "xL6yY_-_kD5O",
    "outputId": "65c7d19b-2438-4676-d776-c207c9a2614b"
   },
   "outputs": [
    {
     "name": "stderr",
     "output_type": "stream",
     "text": [
      "Generating Predictions: 100%|██████████| 45/45 [06:52<00:00,  9.53s/it]\n",
      "Generating Predictions:   0%|          | 0/45 [00:00<?, ?it/s]"
     ]
    },
    {
     "name": "stdout",
     "output_type": "stream",
     "text": [
      "Predicted for test dataset in 6.89 minutes. \n",
      "Accuracy on test dataset : 85.08 \n",
      "\n",
      "\n"
     ]
    },
    {
     "name": "stderr",
     "output_type": "stream",
     "text": [
      "Generating Predictions: 100%|██████████| 45/45 [02:55<00:00,  4.09s/it]\n",
      "Generating Predictions:   0%|          | 0/45 [00:00<?, ?it/s]"
     ]
    },
    {
     "name": "stdout",
     "output_type": "stream",
     "text": [
      "Predicted for validation dataset in in 2.94 minutes.\n",
      "Accuracy on validation dataset : 84.96 \n",
      "\n",
      "\n"
     ]
    },
    {
     "name": "stderr",
     "output_type": "stream",
     "text": [
      "Generating Predictions: 100%|██████████| 45/45 [32:05<00:00, 44.00s/it]\n"
     ]
    },
    {
     "name": "stdout",
     "output_type": "stream",
     "text": [
      "Predicted for train dataset in 32.17 minutes.\n",
      "Accuracy on train dataset : 96.52 \n",
      "\n",
      "\n"
     ]
    }
   ],
   "source": [
    "'''\n",
    "Getting accuracies for Multiclass SVM model with my SVM class as base learner \n",
    "'''\n",
    "\n",
    "t0 = time()\n",
    "pred_test_my = ovo_my_implementation.predict_multiclass(X_test_whole)\n",
    "print('Predicted for test dataset in %.2f minutes. '%((time()-t0)/60))\n",
    "\n",
    "accuracy_test = metrics.accuracy_score(Y_test_whole.ravel(), pred_test_my)\n",
    "print('Accuracy on test dataset : %.2f \\n\\n'%(accuracy_test))\n",
    "\n",
    "t0 = time()\n",
    "pred_val_my = ovo_my_implementation.predict_multiclass(X_val_whole)\n",
    "print('Predicted for validation dataset in in %.2f minutes.'%((time()-t0)/60))\n",
    "\n",
    "accuracy_val = metrics.accuracy_score(Y_val_whole, pred_val_my)\n",
    "print('Accuracy on validation dataset : %.2f \\n\\n'%(accuracy_val))\n",
    "\n",
    "t0 = time()\n",
    "pred_train_my = ovo_my_implementation.predict_multiclass(X_train_whole)\n",
    "print('Predicted for train dataset in %.2f minutes.'%((time()-t0)/60))\n",
    "\n",
    "accuracy_train = metrics.accuracy_score(Y_train_whole, pred_train_my)\n",
    "print('Accuracy on train dataset : %.2f \\n\\n'%(accuracy_train))\n"
   ]
  },
  {
   "cell_type": "markdown",
   "metadata": {
    "colab_type": "text",
    "id": "fgJ4GgtrkD5S"
   },
   "source": [
    "## Part (b) : Implementing OneVsOne Stretergy for multiclass classification using sklearn's implementation of SVM i.e. SVC"
   ]
  },
  {
   "cell_type": "code",
   "execution_count": 0,
   "metadata": {
    "colab": {
     "base_uri": "https://localhost:8080/",
     "height": 54
    },
    "colab_type": "code",
    "id": "Y6cp-_ipkD5T",
    "outputId": "3ef95cf1-e9e5-4525-ff4b-eb33385f4c99"
   },
   "outputs": [
    {
     "name": "stderr",
     "output_type": "stream",
     "text": [
      "OneVsOne Models generation: 100%|██████████| 45/45 [00:00<00:00, 64.28it/s]\n"
     ]
    },
    {
     "name": "stdout",
     "output_type": "stream",
     "text": [
      "Completed training in 0.46 minutes.\n"
     ]
    }
   ],
   "source": [
    "'''\n",
    "Training Multiclass SVM model with sklearn's SVM class as base learner \n",
    "'''\n",
    "\n",
    "ovo_sklearn = multiclassSVM(n_jobs=-2, useSklearn=True)\n",
    "\n",
    "if not os.path.isfile('./pickle/sklearn_models_multi.pkl'):\n",
    "    ovo_sklearn.fit(X_train_whole, Y_train_whole)\n",
    "    with open('./pickle/sklearn_models_multi.pkl', 'wb') as f:\n",
    "        pickle.dump(ovo_sklearn, f)\n",
    "else:\n",
    "    with open('./pickle/sklearn_models_multi.pkl', 'rb') as f:\n",
    "        models = pickle.load(f)\n",
    "    ovo_sklearn.models = models"
   ]
  },
  {
   "cell_type": "code",
   "execution_count": 0,
   "metadata": {
    "colab": {
     "base_uri": "https://localhost:8080/",
     "height": 349
    },
    "colab_type": "code",
    "id": "9qDaX8gKkD5X",
    "outputId": "d8658f98-1eb4-46a1-9067-92eb9fc3a6fe"
   },
   "outputs": [
    {
     "name": "stderr",
     "output_type": "stream",
     "text": [
      "Generating Predictions: 100%|██████████| 45/45 [00:00<00:00, 13822.31it/s]\n",
      "Generating Predictions: 100%|██████████| 45/45 [00:00<00:00, 2283.04it/s]"
     ]
    },
    {
     "name": "stdout",
     "output_type": "stream",
     "text": [
      "Predicted for test dataset in 0.88 minutes. \n",
      "Accuracy on test dataset : 88.08 \n",
      "\n",
      "\n"
     ]
    },
    {
     "name": "stderr",
     "output_type": "stream",
     "text": [
      "\n",
      "Generating Predictions: 100%|██████████| 45/45 [00:00<00:00, 1713.69it/s]"
     ]
    },
    {
     "name": "stdout",
     "output_type": "stream",
     "text": [
      "Predicted for validation dataset in in 0.42 minutes.\n",
      "Accuracy on validation dataset : 87.88 \n",
      "\n",
      "\n",
      "Predicted for train dataset in 3.84 minutes.\n",
      "Accuracy on train dataset : 96.91 \n",
      "\n",
      "\n"
     ]
    }
   ],
   "source": [
    "'''\n",
    "Getting Acuuracies Multiclass SVM model with sklearn's SVM class as base learner \n",
    "'''\n",
    "\n",
    "t0 = time()\n",
    "pred_test_sk = ovo_sklearn.predict_multiclass(X_test_whole)\n",
    "print('Predicted for test dataset in %.2f minutes. '%((time()-t0)/60))\n",
    "\n",
    "accuracy_test_sk = metrics.accuracy_score(Y_test_whole.ravel(), pred_test_sk)\n",
    "print('Accuracy on test dataset : %.2f \\n\\n'%(accuracy_test_sk))\n",
    "\n",
    "t0 = time()\n",
    "pred_val_sk = ovo_sklearn.predict_multiclass(X_val_whole)\n",
    "print('Predicted for validation dataset in in %.2f minutes.'%((time()-t0)/60))\n",
    "\n",
    "accuracy_val_sk = metrics.accuracy_score(Y_val_whole, pred_val_sk)\n",
    "print('Accuracy on validation dataset : %.2f \\n\\n'%(accuracy_val_sk))\n",
    "\n",
    "t0 = time()\n",
    "pred_train_sk = ovo_sklearn.predict_multiclass(X_train_whole)\n",
    "print('Predicted for train dataset in %.2f minutes.'%((time()-t0)/60))\n",
    "\n",
    "accuracy_train_sk = metrics.accuracy_score(Y_train_whole, pred_train_sk)\n",
    "print('Accuracy on train dataset : %.2f \\n\\n'%(accuracy_train_sk))\n"
   ]
  },
  {
   "cell_type": "markdown",
   "metadata": {
    "colab_type": "text",
    "id": "PBrgNa6Q2yAc"
   },
   "source": [
    "### Comparing oVo with base models as SVM and SVC\n",
    "\n",
    "| Implementation                    | Accuracy On Train dataset | Accuracy On Validation dataset | Accuracy On Test dataseq | Training Time(Minutes) |\n",
    "|-----------------------------------|---------------------------|--------------------------------|--------------------------|------------------------|\n",
    "| OneVsOne with SVM as base learner | 96.52                     | 84.96                          | 85.08                    | 7.10                   |\n",
    "| OneVsOne with SVC as base learner | 96.91                     | 87.88                          | 88.08                    | 0.46                   |\n",
    "\n",
    "* Here we can see that accuracies when we take SVM as base models are lower. But as we found in last part that formula of b is wrong in our computation. So this was expected.\n",
    "\n",
    "\n",
    "* This model was trained with parallelization on google colab server and we can see that sklearn's implementation trained faster. **Without parallelization** this code used to run for **more than an hour** but after using 20 cores on colab we gained sigificant speedup."
   ]
  },
  {
   "cell_type": "markdown",
   "metadata": {
    "colab_type": "text",
    "id": "spjrJfYKkD5c"
   },
   "source": [
    "## Part (c): Confusion Matrix"
   ]
  },
  {
   "cell_type": "code",
   "execution_count": 0,
   "metadata": {
    "colab": {
     "base_uri": "https://localhost:8080/",
     "height": 621
    },
    "colab_type": "code",
    "id": "XVK9YFsDkD5d",
    "outputId": "05a55ddd-b4b9-47bf-ff9c-3da7a9112afe"
   },
   "outputs": [
    {
     "data": {
      "image/png": "[encoded data removed]",
      "text/plain": [
       "<Figure size 720x720 with 1 Axes>"
      ]
     },
     "metadata": {
      "tags": []
     },
     "output_type": "display_data"
    }
   ],
   "source": [
    "metrics.confusion_matrix(Y_test_whole, pred_test_my, title='Confusion matrix of my implementation of oVo for Test Dataset')"
   ]
  },
  {
   "cell_type": "code",
   "execution_count": 0,
   "metadata": {
    "colab": {
     "base_uri": "https://localhost:8080/",
     "height": 621
    },
    "colab_type": "code",
    "id": "SFwS2akLkD5i",
    "outputId": "2b38aeaa-9403-4949-de6c-377ed30128ce"
   },
   "outputs": [
    {
     "data": {
      "image/png": "[encoded data removed]",
      "text/plain": [
       "<Figure size 720x720 with 1 Axes>"
      ]
     },
     "metadata": {
      "tags": []
     },
     "output_type": "display_data"
    }
   ],
   "source": [
    "metrics.confusion_matrix(Y_train_whole, pred_train_my, title='Confusion matrix of my implementation of oVo for Train Dataset')"
   ]
  },
  {
   "cell_type": "code",
   "execution_count": 0,
   "metadata": {
    "colab": {
     "base_uri": "https://localhost:8080/",
     "height": 621
    },
    "colab_type": "code",
    "id": "2CF4Xj5xkD5l",
    "outputId": "b7124ef8-aa2c-4d23-c1d2-eb2bd141e8af"
   },
   "outputs": [
    {
     "data": {
      "image/png": "[encoded data removed]",
      "text/plain": [
       "<Figure size 720x720 with 1 Axes>"
      ]
     },
     "metadata": {
      "tags": []
     },
     "output_type": "display_data"
    }
   ],
   "source": [
    "metrics.confusion_matrix(Y_test_whole, pred_test_sk, title='Confusion matrix of sklearn\\'s implementation of oVo for Test Dataset')"
   ]
  },
  {
   "cell_type": "code",
   "execution_count": 0,
   "metadata": {
    "colab": {
     "base_uri": "https://localhost:8080/",
     "height": 621
    },
    "colab_type": "code",
    "id": "YoPBHA2gkD5p",
    "outputId": "1d1d95b9-cdfc-44d3-e74a-b26970db3c2c"
   },
   "outputs": [
    {
     "data": {
      "image/png": "[encoded data removed]",
      "text/plain": [
       "<Figure size 720x720 with 1 Axes>"
      ]
     },
     "metadata": {
      "tags": []
     },
     "output_type": "display_data"
    }
   ],
   "source": [
    "metrics.confusion_matrix(Y_train_whole, pred_train_sk, title='Confusion matrix of sklearn\\'s implementation of oVo for Train Dataset')"
   ]
  },
  {
   "cell_type": "markdown",
   "metadata": {
    "colab_type": "text",
    "id": "pjY9rEVl2yAr"
   },
   "source": [
    "* **Observations :**\n",
    "\n",
    "    * Here we can see that all diagonal enries are large hence we can say that our model performed well as true poitives are large for all the classes.\n",
    "\n",
    "    * 1. Here we can see that (6,0) has the large value and that is expected as class 0 is T-shirt/top and 6 is shirt.\n",
    "  2. (6,2) also has large value and 2=pullover and 6=shirt hance justified.\n",
    "  3. (6,4) also has large value and 4=coat and 6=shirt hance justified.\n",
    "  4. (2,4) also has large value and 2=pullover and 4=coat hance justified.\n",
    "  5. (7,8) also has large value and 7=sneaker and 9=Ankle boot justified.\n",
    "  \n",
    "      Hence we can see that those classes which are similar are mostly misclassified between each other."
   ]
  },
  {
   "cell_type": "markdown",
   "metadata": {
    "colab_type": "text",
    "id": "sZM1XUdYkD5r"
   },
   "source": [
    "## Part (d): k-fold Cross Validation\n",
    "\n",
    "* In this part I have performed GridSearchCV to perform 5-fold cross validation on C=[1e-5, 1e-3, 1, 5, 10]. And then plotted average validation and average train accuracies along with test accuracy for each C. "
   ]
  },
  {
   "cell_type": "code",
   "execution_count": 0,
   "metadata": {
    "colab": {
     "base_uri": "https://localhost:8080/",
     "height": 35
    },
    "colab_type": "code",
    "id": "JrMyRcI2kD5t",
    "outputId": "900ae74e-3fef-466a-ccd4-ab04d0460259"
   },
   "outputs": [
    {
     "name": "stdout",
     "output_type": "stream",
     "text": [
      "Cross Validation completed in 37 minutes\n"
     ]
    }
   ],
   "source": [
    "from sklearn.model_selection import GridSearchCV\n",
    "\n",
    "#Performing 5-fold Cross validation\n",
    "t0=time()\n",
    "C_lst = [10**-5,10**-3,1,5,10]\n",
    "gscv = GridSearchCV(SVC(kernel='rbf', gamma=0.05, decision_function_shape='ovo'), {'C':C_lst}, cv=5, return_train_score=True, n_jobs=-1)\n",
    "\n",
    "gscv.fit(train[:,:-1]/255, train[:,-1].ravel())\n",
    "\n",
    "print('Cross Validation completed in %d minutes'%((time()-t0)/60))"
   ]
  },
  {
   "cell_type": "code",
   "execution_count": 0,
   "metadata": {
    "colab": {},
    "colab_type": "code",
    "id": "c_z94E9CkD5v"
   },
   "outputs": [],
   "source": [
    "def get_test_accuracy(c, X_train, Y_train, X_test, Y_test):\n",
    "    '''\n",
    "        Helper method that will be used in parallelization to find test accuracy on 5 models corrosponding to each C\n",
    "    '''\n",
    "    clf = SVC(C=c,kernel='rbf', gamma=0.05, decision_function_shape='ovo')\n",
    "    clf.fit(X_train, Y_train)\n",
    "    return clf.score(X_test, Y_test)\n",
    "\n",
    "#Getting test accuracies\n",
    "test_score = Parallel(n_jobs=5)(delayed(get_test_accuracy)(c, train[:,:-1]/255, train[:,-1].ravel(), test[:,:-1]/255, test[:,-1].ravel()) for c in C_lst)"
   ]
  },
  {
   "cell_type": "code",
   "execution_count": 0,
   "metadata": {
    "colab": {
     "base_uri": "https://localhost:8080/",
     "height": 90
    },
    "colab_type": "code",
    "id": "lCgJ9geMkD5y",
    "outputId": "67842c17-386e-4ae5-aadb-430f00845059"
   },
   "outputs": [
    {
     "name": "stdout",
     "output_type": "stream",
     "text": [
      "SVC(C=5, break_ties=False, cache_size=200, class_weight=None, coef0=0.0,\n",
      "    decision_function_shape='ovo', degree=3, gamma=0.05, kernel='rbf',\n",
      "    max_iter=-1, probability=False, random_state=None, shrinking=True,\n",
      "    tol=0.001, verbose=False)\n"
     ]
    }
   ],
   "source": [
    "#Printing the best estimator\n",
    "print(gscv.best_estimator_)"
   ]
  },
  {
   "cell_type": "code",
   "execution_count": 0,
   "metadata": {
    "colab": {
     "base_uri": "https://localhost:8080/",
     "height": 624
    },
    "colab_type": "code",
    "id": "4E_kwrTBkD52",
    "outputId": "8aced05b-cc44-4b03-8cde-667f32bdde80"
   },
   "outputs": [
    {
     "data": {
      "image/png": "[encoded data removed]",
      "text/plain": [
       "<Figure size 1008x576 with 1 Axes>"
      ]
     },
     "metadata": {
      "needs_background": "light",
      "tags": []
     },
     "output_type": "display_data"
    }
   ],
   "source": [
    "#plotting train, validation and test accuracies\n",
    "\n",
    "plt.figure(figsize=(14,8))\n",
    "cv_score = gscv.cv_results_['mean_test_score']\n",
    "train_score = gscv.cv_results_['mean_train_score']\n",
    "plt.plot(np.log10(C_lst), cv_score, label='CV Accuracy',  marker='o')\n",
    "plt.plot(np.log10(C_lst), test_score, label='Test Accuracy', marker='o')\n",
    "plt.plot(np.log10(C_lst), train_score, label='Train Accuracy', marker='o')\n",
    "for i_x, i_y, c in zip(np.log10(C_lst), cv_score,['1e-5', '1e-3', '1', '5', '10']):\n",
    "    plt.text(i_x, i_y, '(%s, %.2f)'%(c, i_y))\n",
    "for i_x, i_y, c in zip(np.log10(C_lst), train_score,['1e-5', '1e-3', '1', '5', '10']):\n",
    "    plt.text(i_x, i_y, '(%s, %.2f)'%(c, i_y))\n",
    "for i_x, i_y, c in zip(np.log10(C_lst), test_score,['1e-5', '1e-3', '1', '5', '10']):\n",
    "    plt.text(i_x, i_y, '(%s, %.2f)'%(c, i_y))\n",
    "plt.legend()\n",
    "plt.title('log(C) v/s accuracy for Train, Validation and Test dataset')\n",
    "plt.xlabel('Hyperparameter C on log scale')\n",
    "plt.ylabel('Accuracy')\n",
    "plt.show()"
   ]
  },
  {
   "cell_type": "code",
   "execution_count": 0,
   "metadata": {
    "colab": {
     "base_uri": "https://localhost:8080/",
     "height": 90
    },
    "colab_type": "code",
    "id": "ds2AuMPyZkuH",
    "outputId": "d54cf1a7-ac59-4e94-e8d8-a65a89a7de60"
   },
   "outputs": [
    {
     "name": "stdout",
     "output_type": "stream",
     "text": [
      "Hyperparameter C :  [1e-05, 0.001, 1, 5, 10]\n",
      "Train Score :  [0.5708222222222222, 0.5708222222222222, 0.9696555555555557, 0.9997555555555555, 1.0]\n",
      "Validation Score :  [0.5664444444444444, 0.5664444444444444, 0.8787111111111111, 0.8844, 0.8842666666666666]\n",
      "Test Score :  [0.5736, 0.5736, 0.8808, 0.8828, 0.8824]\n"
     ]
    }
   ],
   "source": [
    "print('Hyperparameter C : ', C_lst)\n",
    "print('Train Score : ', train_score.tolist())\n",
    "print('Test Score : ', test_score)\n",
    "print('Validation Score : ', cv_score.tolist())"
   ]
  },
  {
   "cell_type": "markdown",
   "metadata": {
    "colab_type": "text",
    "id": "_o47SR2y2yA8"
   },
   "source": [
    "* **Observations :**\n",
    "    * Here we got C=5 as best C as we got validation accuracy for C=5 of 88.44%\n",
    "    * In below table I have summarized train, validation and test accuracies for all 5 values of C. And these are some observations from that table\n",
    "        * Here We can see that we get the best test accuracy for C=5\n",
    "        * Here we can also see ine interesting trend that as C increases accuracies tend to increase and for C=10 we have train accuracy of 100%. Hence we might be overfitting. This is in line with our intuition that as C increases chances of overfitting increases and as C decreases chances of underfitting increases\n",
    "\n",
    "|                            | C=1e-5  | C=1e-3  | C=1     | C=5     | C=10    |\n",
    "|----------------------------|---------|---------|---------|---------|---------|\n",
    "| Train Accuracy (in %)      | 57.0822 | 57.0822 | 96.9656 | 99.9756 | 100     |\n",
    "| Validation Accuracy (in %) | 56.6444 | 56.6444 | 87.8711 | 88.44   | 88.4267 |\n",
    "| Test Accuracy (in %)       | 57.36   | 57.36   | 88.08   | 88.28   | 88.24   |\n",
    "    "
   ]
  }
 ],
 "metadata": {
  "accelerator": "TPU",
  "colab": {
   "collapsed_sections": [],
   "machine_shape": "hm",
   "name": "ass2b_final.ipynb",
   "provenance": [],
   "toc_visible": true
  },
  "kernelspec": {
   "display_name": "Python 3",
   "language": "python",
   "name": "python3"
  },
  "language_info": {
   "codemirror_mode": {
    "name": "ipython",
    "version": 3
   },
   "file_extension": ".py",
   "mimetype": "text/x-python",
   "name": "python",
   "nbconvert_exporter": "python",
   "pygments_lexer": "ipython3",
   "version": "3.6.5"
  }
 },
 "nbformat": 4,
 "nbformat_minor": 1
}
