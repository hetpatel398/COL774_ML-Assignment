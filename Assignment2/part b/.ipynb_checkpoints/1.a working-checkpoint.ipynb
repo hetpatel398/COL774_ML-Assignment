{
 "cells": [
  {
   "cell_type": "code",
   "execution_count": 1,
   "metadata": {},
   "outputs": [],
   "source": [
    "import numpy as np\n",
    "import pandas as pd\n",
    "from cvxopt import matrix, solvers\n",
    "from sklearn.svm import SVC\n",
    "import math"
   ]
  },
  {
   "cell_type": "code",
   "execution_count": 3,
   "metadata": {},
   "outputs": [],
   "source": [
    "train_data = pd.read_csv(\"./data/train.csv\", header=None).to_numpy()\n",
    "train_whole_X = train_data[:, :-1]\n",
    "train_whole_Y = train_data[:, -1:].astype(int)"
   ]
  },
  {
   "cell_type": "markdown",
   "metadata": {},
   "source": [
    "#### Scaling train data"
   ]
  },
  {
   "cell_type": "code",
   "execution_count": 4,
   "metadata": {},
   "outputs": [],
   "source": [
    "train_whole_X = train_whole_X/255"
   ]
  },
  {
   "cell_type": "markdown",
   "metadata": {},
   "source": [
    "#### Choosing data points"
   ]
  },
  {
   "cell_type": "code",
   "execution_count": 5,
   "metadata": {},
   "outputs": [],
   "source": [
    "train_X = train_whole_X[(train_whole_Y[:, 0]==6) | (train_whole_Y[:, 0]==7)]\n",
    "\n",
    "train_Y = train_whole_Y[(train_whole_Y[:, 0]==6) | (train_whole_Y[:, 0]==7)]\n",
    "\n",
    "m = len(train_X)\n",
    "\n",
    "train_Y_c = np.array([1 if i[0]==6 else -1 for i in train_Y]).reshape((m, 1))"
   ]
  },
  {
   "cell_type": "markdown",
   "metadata": {},
   "source": [
    "# Part 1"
   ]
  },
  {
   "cell_type": "markdown",
   "metadata": {},
   "source": [
    "## Part 1.a"
   ]
  },
  {
   "cell_type": "markdown",
   "metadata": {},
   "source": [
    "#### calculating values of $\\alpha$"
   ]
  },
  {
   "cell_type": "code",
   "execution_count": 5,
   "metadata": {},
   "outputs": [],
   "source": [
    "LP = matrix((train_Y_c @ train_Y_c.T)*(train_X @ train_X.T), tc = 'd')\n",
    "\n",
    "LQ = matrix(np.ones(m).reshape((m, 1))* -1, tc = 'd')\n",
    "\n",
    "LG = np.zeros((2*m, m))\n",
    "for i in range(m):\n",
    "    LG[2*i][i] = 1\n",
    "    LG[2*i+1][i] = -1\n",
    "LG = matrix(LG, tc = 'd')\n",
    "\n",
    "LH = np.ones(2*m)\n",
    "for i in range(m):\n",
    "    LH[2*i+1] = 0\n",
    "LH = matrix(LH, tc = 'd')\n",
    "\n",
    "LA = matrix(train_Y_c.T, tc = 'd')\n",
    "\n",
    "LB = matrix(np.array([0]).reshape((1,1)), tc = 'd')"
   ]
  },
  {
   "cell_type": "code",
   "execution_count": 6,
   "metadata": {},
   "outputs": [
    {
     "name": "stdout",
     "output_type": "stream",
     "text": [
      "     pcost       dcost       gap    pres   dres\n",
      " 0: -1.8559e+02 -7.3411e+03  4e+04  2e+00  1e-12\n",
      " 1: -1.0512e+02 -3.6276e+03  7e+03  3e-01  9e-13\n",
      " 2: -3.0675e+01 -8.9272e+02  1e+03  6e-02  6e-13\n",
      " 3: -5.5085e+00 -2.2083e+02  3e+02  1e-02  2e-13\n",
      " 4: -1.4249e+00 -4.5788e+01  7e+01  2e-03  4e-14\n",
      " 5: -2.9569e-01 -1.3553e+01  2e+01  5e-04  2e-14\n",
      " 6: -2.0996e-01 -3.9259e+00  5e+00  1e-04  1e-14\n",
      " 7: -1.0278e-01 -3.5936e+00  4e+00  8e-05  9e-15\n",
      " 8: -2.5356e-01 -2.0088e+00  2e+00  3e-05  8e-15\n",
      " 9: -2.0734e-01 -1.6993e+00  2e+00  1e-05  8e-15\n",
      "10: -4.0852e-01 -1.0189e+00  6e-01  3e-06  8e-15\n",
      "11: -4.8680e-01 -7.8876e-01  3e-01  2e-16  8e-15\n",
      "12: -5.3127e-01 -7.1798e-01  2e-01  2e-16  7e-15\n",
      "13: -5.9184e-01 -6.2963e-01  4e-02  2e-16  8e-15\n",
      "14: -6.0475e-01 -6.1102e-01  6e-03  2e-16  8e-15\n",
      "15: -6.0763e-01 -6.0779e-01  2e-04  2e-16  8e-15\n",
      "16: -6.0771e-01 -6.0771e-01  2e-06  2e-16  8e-15\n",
      "17: -6.0771e-01 -6.0771e-01  3e-08  2e-16  8e-15\n",
      "Optimal solution found.\n"
     ]
    }
   ],
   "source": [
    "l_sol = solvers.qp(LP, LQ, LG, LH, LA, LB)"
   ]
  },
  {
   "cell_type": "code",
   "execution_count": 7,
   "metadata": {},
   "outputs": [],
   "source": [
    "l_sol = np.array(l_sol['x'])"
   ]
  },
  {
   "cell_type": "code",
   "execution_count": 8,
   "metadata": {},
   "outputs": [],
   "source": [
    "l_alpha = l_sol[l_sol>1e-5].reshape((-1, 1))\n",
    "l_sv_y = train_Y_c[l_sol>1e-5].reshape((-1, 1))\n",
    "l_sv_x = train_X[(l_sol>1e-5).reshape((-1,))]"
   ]
  },
  {
   "cell_type": "markdown",
   "metadata": {},
   "source": [
    "#### calculating weights"
   ]
  },
  {
   "cell_type": "code",
   "execution_count": 9,
   "metadata": {},
   "outputs": [],
   "source": [
    "l_w = (l_alpha * l_sv_y * l_sv_x).sum(axis=0).reshape((-1, 1))"
   ]
  },
  {
   "cell_type": "code",
   "execution_count": 10,
   "metadata": {
    "scrolled": true
   },
   "outputs": [
    {
     "data": {
      "text/plain": [
       "(784, 1)"
      ]
     },
     "execution_count": 10,
     "metadata": {},
     "output_type": "execute_result"
    }
   ],
   "source": [
    "l_w.shape"
   ]
  },
  {
   "cell_type": "markdown",
   "metadata": {},
   "source": [
    "#### calculating intercept"
   ]
  },
  {
   "cell_type": "code",
   "execution_count": 11,
   "metadata": {},
   "outputs": [],
   "source": [
    "a1 = []\n",
    "a2 = []\n",
    "for i in range(len(l_sv_y)):\n",
    "    if l_sv_y[i]==1:\n",
    "        a1.append((l_sv_x[i]@l_w))\n",
    "    else:\n",
    "        a2.append((l_sv_x[i]@l_w))\n",
    "l_b = 0.5*(min(a1) + max(a2))"
   ]
  },
  {
   "cell_type": "code",
   "execution_count": 12,
   "metadata": {},
   "outputs": [
    {
     "data": {
      "text/plain": [
       "array([0.01026643])"
      ]
     },
     "execution_count": 12,
     "metadata": {},
     "output_type": "execute_result"
    }
   ],
   "source": [
    "l_b"
   ]
  },
  {
   "cell_type": "code",
   "execution_count": 13,
   "metadata": {},
   "outputs": [],
   "source": [
    "def predict(X, w, b):\n",
    "    return np.array([1 if (i@w + b) >= 0 else -1 for i in X])"
   ]
  },
  {
   "cell_type": "code",
   "execution_count": 14,
   "metadata": {},
   "outputs": [],
   "source": [
    "def getAccuracy(original, predicted):\n",
    "    return (sum([1 if original[i]==predicted[i] else 0 for i in range(len(original))])/len(original))*100"
   ]
  },
  {
   "cell_type": "markdown",
   "metadata": {},
   "source": [
    "#### Predicting on training data"
   ]
  },
  {
   "cell_type": "code",
   "execution_count": 15,
   "metadata": {},
   "outputs": [],
   "source": [
    "train_linear_pred = predict(train_X, l_w, l_b)"
   ]
  },
  {
   "cell_type": "code",
   "execution_count": 16,
   "metadata": {},
   "outputs": [
    {
     "data": {
      "text/plain": [
       "100.0"
      ]
     },
     "execution_count": 16,
     "metadata": {},
     "output_type": "execute_result"
    }
   ],
   "source": [
    "getAccuracy(train_Y_c, train_linear_pred)"
   ]
  },
  {
   "cell_type": "markdown",
   "metadata": {},
   "source": [
    "### read validation data"
   ]
  },
  {
   "cell_type": "code",
   "execution_count": 6,
   "metadata": {},
   "outputs": [],
   "source": [
    "val_data = pd.read_csv(\"./data/val.csv\", header=None).to_numpy()\n",
    "val_whole_X = val_data[:, :-1]\n",
    "val_whole_Y = val_data[:, -1:].astype(int)"
   ]
  },
  {
   "cell_type": "markdown",
   "metadata": {},
   "source": [
    "#### scaling validation data"
   ]
  },
  {
   "cell_type": "code",
   "execution_count": 7,
   "metadata": {},
   "outputs": [],
   "source": [
    "val_whole_X = val_whole_X/255.0"
   ]
  },
  {
   "cell_type": "markdown",
   "metadata": {},
   "source": [
    "#### Choosing data points"
   ]
  },
  {
   "cell_type": "code",
   "execution_count": 8,
   "metadata": {},
   "outputs": [],
   "source": [
    "val_X = val_whole_X[(val_whole_Y[:, 0]==6) | (val_whole_Y[:, 0]==7)]\n",
    "\n",
    "val_Y = val_whole_Y[(val_whole_Y[:, 0]==6) | (val_whole_Y[:, 0]==7)]\n",
    "\n",
    "val_Y_c = np.array([1 if i[0]==6 else -1 for i in val_Y]).reshape((-1,1))"
   ]
  },
  {
   "cell_type": "markdown",
   "metadata": {},
   "source": [
    "#### Predicting on validation data"
   ]
  },
  {
   "cell_type": "code",
   "execution_count": 20,
   "metadata": {},
   "outputs": [],
   "source": [
    "val_linear_pred = predict(val_X, l_w, l_b)"
   ]
  },
  {
   "cell_type": "code",
   "execution_count": 21,
   "metadata": {},
   "outputs": [
    {
     "data": {
      "text/plain": [
       "100.0"
      ]
     },
     "execution_count": 21,
     "metadata": {},
     "output_type": "execute_result"
    }
   ],
   "source": [
    "getAccuracy(val_Y_c, val_linear_pred)"
   ]
  },
  {
   "cell_type": "markdown",
   "metadata": {},
   "source": [
    "### read testing data"
   ]
  },
  {
   "cell_type": "code",
   "execution_count": 9,
   "metadata": {},
   "outputs": [],
   "source": [
    "test_data = pd.read_csv(\"./data/test.csv\", header=None).to_numpy()\n",
    "test_whole_X = test_data[:, :-1]\n",
    "test_whole_Y = test_data[:, -1:].astype(int)"
   ]
  },
  {
   "cell_type": "markdown",
   "metadata": {},
   "source": [
    "#### scaling test data"
   ]
  },
  {
   "cell_type": "code",
   "execution_count": 10,
   "metadata": {},
   "outputs": [],
   "source": [
    "test_whole_X = test_whole_X/255.0"
   ]
  },
  {
   "cell_type": "markdown",
   "metadata": {},
   "source": [
    "#### choosing data points"
   ]
  },
  {
   "cell_type": "code",
   "execution_count": 11,
   "metadata": {},
   "outputs": [],
   "source": [
    "test_X = test_whole_X[(test_whole_Y[:, 0]==6) | (test_whole_Y[:, 0]==7)]\n",
    "\n",
    "test_Y = test_whole_Y[(test_whole_Y[:, 0]==6) | (test_whole_Y[:, 0]==7)]\n",
    "\n",
    "test_Y_c = np.array([1 if i[0]==6 else -1 for i in test_Y]).reshape((-1, 1))"
   ]
  },
  {
   "cell_type": "markdown",
   "metadata": {},
   "source": [
    "#### Predicting on testing data"
   ]
  },
  {
   "cell_type": "code",
   "execution_count": 25,
   "metadata": {},
   "outputs": [],
   "source": [
    "test_linear_pred = predict(test_X, l_w, l_b)"
   ]
  },
  {
   "cell_type": "code",
   "execution_count": 26,
   "metadata": {},
   "outputs": [
    {
     "data": {
      "text/plain": [
       "100.0"
      ]
     },
     "execution_count": 26,
     "metadata": {},
     "output_type": "execute_result"
    }
   ],
   "source": [
    "getAccuracy(test_Y_c, test_linear_pred)"
   ]
  },
  {
   "cell_type": "markdown",
   "metadata": {},
   "source": [
    "## Part 1.b"
   ]
  },
  {
   "cell_type": "code",
   "execution_count": 12,
   "metadata": {},
   "outputs": [],
   "source": [
    "from tqdm import tqdm"
   ]
  },
  {
   "cell_type": "code",
   "execution_count": 13,
   "metadata": {},
   "outputs": [],
   "source": [
    "def kernel(x, z):\n",
    "    return math.exp(-0.05 * (((x - z)**2).sum()))"
   ]
  },
  {
   "cell_type": "code",
   "execution_count": 34,
   "metadata": {
    "scrolled": true
   },
   "outputs": [
    {
     "name": "stderr",
     "output_type": "stream",
     "text": [
      "100%|██████████| 4500/4500 [01:12<00:00, 61.80it/s] \n"
     ]
    }
   ],
   "source": [
    "Pt = np.diag(np.ones(m))\n",
    "for i in tqdm(range(m)):\n",
    "    for j in range(i+1, m):\n",
    "        Pt[i][j] = Pt[j][i] = kernel(train_X[i], train_X[j])"
   ]
  },
  {
   "cell_type": "code",
   "execution_count": 14,
   "metadata": {},
   "outputs": [],
   "source": [
    "from scipy.spatial.distance import cdist\n",
    "\n",
    "Pt = np.exp(-0.05*(cdist(train_X, train_X, 'euclidean')**2))"
   ]
  },
  {
   "cell_type": "code",
   "execution_count": 30,
   "metadata": {},
   "outputs": [
    {
     "ename": "NameError",
     "evalue": "name 'pickle' is not defined",
     "output_type": "error",
     "traceback": [
      "\u001b[0;31m---------------------------------------------------------------------------\u001b[0m",
      "\u001b[0;31mNameError\u001b[0m                                 Traceback (most recent call last)",
      "\u001b[0;32m<ipython-input-30-8ebb079331e6>\u001b[0m in \u001b[0;36m<module>\u001b[0;34m\u001b[0m\n\u001b[1;32m      1\u001b[0m \u001b[0mfilename\u001b[0m \u001b[0;34m=\u001b[0m \u001b[0;34m\"P.pkl\"\u001b[0m\u001b[0;34m\u001b[0m\u001b[0;34m\u001b[0m\u001b[0m\n\u001b[1;32m      2\u001b[0m \u001b[0mfile\u001b[0m \u001b[0;34m=\u001b[0m \u001b[0mopen\u001b[0m\u001b[0;34m(\u001b[0m\u001b[0mfilename\u001b[0m\u001b[0;34m,\u001b[0m \u001b[0;34m\"wb\"\u001b[0m\u001b[0;34m)\u001b[0m\u001b[0;34m\u001b[0m\u001b[0;34m\u001b[0m\u001b[0m\n\u001b[0;32m----> 3\u001b[0;31m \u001b[0mpickle\u001b[0m\u001b[0;34m.\u001b[0m\u001b[0mdump\u001b[0m\u001b[0;34m(\u001b[0m\u001b[0mPt\u001b[0m\u001b[0;34m,\u001b[0m \u001b[0mfile\u001b[0m\u001b[0;34m)\u001b[0m\u001b[0;34m\u001b[0m\u001b[0;34m\u001b[0m\u001b[0m\n\u001b[0m\u001b[1;32m      4\u001b[0m \u001b[0mfile\u001b[0m\u001b[0;34m.\u001b[0m\u001b[0mclose\u001b[0m\u001b[0;34m(\u001b[0m\u001b[0;34m)\u001b[0m\u001b[0;34m\u001b[0m\u001b[0;34m\u001b[0m\u001b[0m\n",
      "\u001b[0;31mNameError\u001b[0m: name 'pickle' is not defined"
     ]
    }
   ],
   "source": [
    "filename = \"P.pkl\"\n",
    "file = open(filename, \"wb\")\n",
    "pickle.dump(Pt, file)\n",
    "file.close()"
   ]
  },
  {
   "cell_type": "code",
   "execution_count": null,
   "metadata": {},
   "outputs": [],
   "source": [
    "from scipy.spatial.distance import cdist"
   ]
  },
  {
   "cell_type": "code",
   "execution_count": null,
   "metadata": {},
   "outputs": [],
   "source": [
    "Pt1 = cdist(train_X, train_X)"
   ]
  },
  {
   "cell_type": "code",
   "execution_count": null,
   "metadata": {},
   "outputs": [],
   "source": [
    "Pt1 = np.exp(-0.05*np.square(Pt1))"
   ]
  },
  {
   "cell_type": "code",
   "execution_count": null,
   "metadata": {},
   "outputs": [],
   "source": [
    "Pt == Pt1"
   ]
  },
  {
   "cell_type": "code",
   "execution_count": 20,
   "metadata": {},
   "outputs": [
    {
     "data": {
      "text/plain": [
       "(4500, 4500)"
      ]
     },
     "execution_count": 20,
     "metadata": {},
     "output_type": "execute_result"
    }
   ],
   "source": [
    "(train_Y_c @ train_Y_c.T).shape"
   ]
  },
  {
   "cell_type": "code",
   "execution_count": null,
   "metadata": {},
   "outputs": [],
   "source": []
  },
  {
   "cell_type": "code",
   "execution_count": 15,
   "metadata": {},
   "outputs": [],
   "source": [
    "yyT = (train_Y_c @ train_Y_c.T)\n",
    "LP = matrix(yyT * Pt, tc = 'd')\n",
    "\n",
    "LQ = matrix(np.zeros(m).reshape((m, 1))-1, tc = 'd')\n",
    "\n",
    "LG = np.zeros((2*m, m))\n",
    "for i in range(m):\n",
    "    LG[2*i][i] = 1\n",
    "    LG[2*i+1][i] = -1\n",
    "LG = matrix(LG, tc = 'd')\n",
    "\n",
    "LH = np.ones(2*m)\n",
    "for i in range(m):\n",
    "    LH[2*i+1] = 0\n",
    "LH = matrix(LH, tc = 'd')\n",
    "\n",
    "LA = matrix(train_Y_c.T, tc = 'd')\n",
    "\n",
    "LB = matrix(np.array([0]).reshape((1,1)), tc = 'd')"
   ]
  },
  {
   "cell_type": "code",
   "execution_count": 16,
   "metadata": {},
   "outputs": [
    {
     "name": "stdout",
     "output_type": "stream",
     "text": [
      "     pcost       dcost       gap    pres   dres\n",
      " 0: -1.1028e+02 -7.5103e+03  4e+04  2e+00  2e-15\n",
      " 1: -5.6897e+01 -3.8143e+03  7e+03  3e-01  2e-15\n",
      " 2: -1.3830e+01 -9.2363e+02  1e+03  4e-02  3e-15\n",
      " 3: -3.9528e+01 -1.9616e+02  2e+02  4e-03  2e-15\n",
      " 4: -5.5680e+01 -1.2195e+02  7e+01  2e-03  2e-15\n",
      " 5: -6.4887e+01 -8.8241e+01  2e+01  1e-04  1e-15\n",
      " 6: -6.9418e+01 -7.6829e+01  7e+00  2e-05  1e-15\n",
      " 7: -7.1201e+01 -7.3118e+01  2e+00  2e-06  1e-15\n",
      " 8: -7.1797e+01 -7.2062e+01  3e-01  1e-07  1e-15\n",
      " 9: -7.1900e+01 -7.1908e+01  8e-03  2e-09  1e-15\n",
      "10: -7.1903e+01 -7.1903e+01  1e-04  3e-11  1e-15\n",
      "11: -7.1903e+01 -7.1903e+01  2e-06  3e-13  1e-15\n",
      "Optimal solution found.\n"
     ]
    }
   ],
   "source": [
    "l_sol = solvers.qp(LP, LQ, LG, LH, LA, LB)"
   ]
  },
  {
   "cell_type": "code",
   "execution_count": 17,
   "metadata": {},
   "outputs": [],
   "source": [
    "l_alpha = np.array(l_sol['x'])"
   ]
  },
  {
   "cell_type": "code",
   "execution_count": null,
   "metadata": {},
   "outputs": [],
   "source": [
    "import pickle\n",
    "filename = \"alphas.pkl\"\n",
    "file = open(filename, \"wb\")\n",
    "pickle.dump(l_sol, file)\n",
    "file.close()"
   ]
  },
  {
   "cell_type": "code",
   "execution_count": 18,
   "metadata": {},
   "outputs": [
    {
     "data": {
      "text/plain": [
       "array([678])"
      ]
     },
     "execution_count": 18,
     "metadata": {},
     "output_type": "execute_result"
    }
   ],
   "source": [
    "sum(l_alpha > 1e-5)"
   ]
  },
  {
   "cell_type": "code",
   "execution_count": 19,
   "metadata": {},
   "outputs": [],
   "source": [
    "indices = np.where(l_alpha >1e-5)[0]"
   ]
  },
  {
   "cell_type": "code",
   "execution_count": 21,
   "metadata": {
    "scrolled": true
   },
   "outputs": [
    {
     "data": {
      "text/plain": [
       "(678,)"
      ]
     },
     "execution_count": 21,
     "metadata": {},
     "output_type": "execute_result"
    }
   ],
   "source": [
    "indices.shape"
   ]
  },
  {
   "cell_type": "code",
   "execution_count": 22,
   "metadata": {},
   "outputs": [],
   "source": [
    "l_alpha = l_alpha[indices]\n",
    "l_sv_x = train_X[indices]\n",
    "l_sv_y = train_Y_c[indices]"
   ]
  },
  {
   "cell_type": "code",
   "execution_count": 23,
   "metadata": {},
   "outputs": [
    {
     "data": {
      "text/plain": [
       "(678, 1)"
      ]
     },
     "execution_count": 23,
     "metadata": {},
     "output_type": "execute_result"
    }
   ],
   "source": [
    "l_alpha.shape"
   ]
  },
  {
   "cell_type": "code",
   "execution_count": 41,
   "metadata": {},
   "outputs": [],
   "source": [
    "# l_alpha = []\n",
    "# l_sv_x = []\n",
    "# l_sv_y = []\n",
    "# for i in indices:\n",
    "#     l_alpha.append(l_sol[i])\n",
    "#     l_sv_x.append(train_X[i])\n",
    "#     l_sv_y.append(train_Y_c[i])"
   ]
  },
  {
   "cell_type": "code",
   "execution_count": 24,
   "metadata": {},
   "outputs": [
    {
     "data": {
      "text/plain": [
       "678"
      ]
     },
     "execution_count": 24,
     "metadata": {},
     "output_type": "execute_result"
    }
   ],
   "source": [
    "len(l_alpha)"
   ]
  },
  {
   "cell_type": "code",
   "execution_count": 42,
   "metadata": {},
   "outputs": [
    {
     "data": {
      "text/plain": [
       "678"
      ]
     },
     "execution_count": 42,
     "metadata": {},
     "output_type": "execute_result"
    }
   ],
   "source": [
    "# l_alpha = np.array(l_alpha)\n",
    "# l_sv_y = np.array(l_sv_y)\n",
    "# l_sv_x = np.array(l_sv_x)\n",
    "# len(l_alpha)"
   ]
  },
  {
   "cell_type": "code",
   "execution_count": 25,
   "metadata": {},
   "outputs": [],
   "source": [
    "Pt1_sv = cdist(l_sv_x, l_sv_x)\n",
    "Pt1_sv = np.exp(-0.05*(np.square(Pt1_sv)))"
   ]
  },
  {
   "cell_type": "code",
   "execution_count": 44,
   "metadata": {},
   "outputs": [
    {
     "name": "stderr",
     "output_type": "stream",
     "text": [
      "100%|██████████| 678/678 [00:01<00:00, 429.35it/s]\n"
     ]
    }
   ],
   "source": [
    "Pt_sv = np.diag(np.ones(678))\n",
    "for i in tqdm(range(678)):\n",
    "    for j in range(i+1, 678):\n",
    "        Pt_sv[i][j] = Pt_sv[j][i] = kernel(l_sv_x[i], l_sv_x[j])"
   ]
  },
  {
   "cell_type": "code",
   "execution_count": 26,
   "metadata": {},
   "outputs": [
    {
     "name": "stderr",
     "output_type": "stream",
     "text": [
      "100%|██████████| 678/678 [00:00<00:00, 257818.51it/s]\n"
     ]
    }
   ],
   "source": [
    "a1 = []\n",
    "a2 = []\n",
    "t = l_alpha * l_sv_y\n",
    "for i in tqdm(range(678)):\n",
    "    if l_sv_y[i]==1:\n",
    "        a1.append(Pt1_sv[i]@t)\n",
    "    else:\n",
    "        a2.append(Pt1_sv[i]@t)\n",
    "l_b = 0.5*(min(a1) + max(a2))"
   ]
  },
  {
   "cell_type": "code",
   "execution_count": 27,
   "metadata": {},
   "outputs": [
    {
     "data": {
      "text/plain": [
       "array([-0.60416892])"
      ]
     },
     "execution_count": 27,
     "metadata": {},
     "output_type": "execute_result"
    }
   ],
   "source": [
    "l_b"
   ]
  },
  {
   "cell_type": "code",
   "execution_count": 34,
   "metadata": {},
   "outputs": [],
   "source": [
    "t = l_alpha * l_sv_y\n",
    "# print(t.shape)\n",
    "def _predict(x):\n",
    "    l = np.array([kernel(x, z) for z in l_sv_x]).reshape((-1, 1))\n",
    "    l = t * l\n",
    "    if sum(l) >= 0:\n",
    "        return 1\n",
    "    else:\n",
    "        return -1\n",
    "\n",
    "def predict(X):\n",
    "    return np.array([_predict(x) for x in X])"
   ]
  },
  {
   "cell_type": "markdown",
   "metadata": {},
   "source": [
    "#### predicting on validation data"
   ]
  },
  {
   "cell_type": "code",
   "execution_count": 35,
   "metadata": {},
   "outputs": [
    {
     "data": {
      "text/plain": [
       "99.8"
      ]
     },
     "execution_count": 35,
     "metadata": {},
     "output_type": "execute_result"
    }
   ],
   "source": [
    "sum(predict(val_X) == val_Y_c.ravel())/5"
   ]
  },
  {
   "cell_type": "code",
   "execution_count": 62,
   "metadata": {},
   "outputs": [
    {
     "data": {
      "text/plain": [
       "array([-1, -1,  1, -1, -1, -1,  1, -1, -1, -1, -1,  1, -1, -1,  1,  1, -1,\n",
       "       -1, -1,  1, -1, -1, -1, -1, -1, -1, -1, -1, -1,  1, -1, -1,  1, -1,\n",
       "        1, -1, -1, -1, -1, -1, -1, -1, -1, -1, -1, -1,  1, -1, -1, -1, -1,\n",
       "       -1, -1,  1,  1, -1,  1,  1, -1, -1, -1, -1, -1, -1, -1, -1, -1, -1,\n",
       "       -1,  1, -1,  1, -1, -1, -1,  1, -1, -1, -1, -1, -1, -1, -1,  1, -1,\n",
       "       -1, -1, -1,  1, -1, -1,  1, -1, -1,  1, -1, -1, -1, -1, -1, -1, -1,\n",
       "        1,  1,  1, -1, -1, -1, -1,  1,  1, -1, -1, -1, -1, -1, -1, -1, -1,\n",
       "       -1, -1,  1, -1, -1, -1, -1,  1,  1,  1, -1, -1, -1,  1, -1, -1,  1,\n",
       "       -1, -1, -1, -1, -1,  1, -1, -1,  1, -1,  1, -1, -1, -1, -1, -1,  1,\n",
       "        1, -1, -1, -1, -1, -1, -1, -1, -1,  1, -1, -1, -1, -1, -1, -1, -1,\n",
       "        1, -1,  1, -1, -1, -1,  1, -1, -1,  1, -1, -1, -1, -1, -1, -1, -1,\n",
       "        1, -1, -1, -1, -1,  1, -1, -1, -1, -1,  1, -1, -1, -1, -1, -1, -1,\n",
       "       -1, -1, -1,  1,  1, -1, -1, -1, -1,  1, -1, -1, -1,  1,  1,  1, -1,\n",
       "       -1, -1, -1,  1, -1, -1, -1, -1,  1, -1, -1, -1, -1,  1, -1, -1, -1,\n",
       "        1,  1, -1, -1, -1, -1,  1, -1, -1, -1,  1, -1, -1,  1, -1,  1, -1,\n",
       "        1,  1,  1,  1,  1,  1, -1, -1, -1,  1, -1, -1, -1, -1,  1, -1, -1,\n",
       "       -1,  1, -1, -1,  1, -1,  1,  1, -1,  1,  1,  1, -1, -1,  1, -1, -1,\n",
       "        1,  1, -1,  1, -1,  1,  1,  1, -1, -1,  1, -1,  1, -1, -1, -1, -1,\n",
       "       -1,  1, -1, -1, -1, -1,  1, -1,  1, -1, -1,  1, -1, -1,  1,  1, -1,\n",
       "       -1,  1,  1, -1, -1, -1,  1, -1, -1, -1, -1,  1,  1, -1,  1, -1,  1,\n",
       "       -1, -1, -1, -1,  1, -1,  1, -1, -1, -1, -1, -1,  1, -1,  1, -1, -1,\n",
       "       -1, -1, -1,  1, -1,  1, -1, -1, -1, -1, -1,  1, -1, -1, -1, -1, -1,\n",
       "       -1,  1, -1, -1, -1,  1, -1,  1,  1,  1, -1,  1, -1,  1, -1, -1, -1,\n",
       "        1,  1, -1,  1, -1,  1, -1, -1,  1, -1, -1, -1,  1,  1, -1, -1, -1,\n",
       "       -1, -1,  1,  1, -1,  1, -1, -1,  1,  1, -1, -1, -1, -1, -1, -1, -1,\n",
       "        1, -1, -1, -1, -1,  1, -1, -1, -1,  1,  1, -1,  1, -1, -1, -1, -1,\n",
       "       -1, -1, -1, -1, -1, -1,  1, -1, -1, -1, -1, -1, -1, -1, -1, -1, -1,\n",
       "        1, -1,  1, -1, -1, -1, -1,  1,  1,  1,  1, -1, -1, -1, -1,  1, -1,\n",
       "       -1, -1, -1, -1,  1, -1, -1,  1, -1,  1,  1,  1, -1, -1,  1,  1, -1,\n",
       "       -1, -1, -1, -1,  1, -1, -1])"
      ]
     },
     "execution_count": 62,
     "metadata": {},
     "output_type": "execute_result"
    }
   ],
   "source": [
    "val_gk_pred "
   ]
  },
  {
   "cell_type": "code",
   "execution_count": 63,
   "metadata": {},
   "outputs": [
    {
     "data": {
      "text/plain": [
       "78.8"
      ]
     },
     "execution_count": 63,
     "metadata": {},
     "output_type": "execute_result"
    }
   ],
   "source": [
    "sum(val_gk_pred == val_Y_c.ravel())/5"
   ]
  },
  {
   "cell_type": "code",
   "execution_count": 64,
   "metadata": {
    "scrolled": false
   },
   "outputs": [
    {
     "data": {
      "text/plain": [
       "78.8"
      ]
     },
     "execution_count": 64,
     "metadata": {},
     "output_type": "execute_result"
    }
   ],
   "source": [
    "getAccuracy(val_Y_c, val_gk_pred)"
   ]
  },
  {
   "cell_type": "markdown",
   "metadata": {},
   "source": [
    "#### predicting on test data"
   ]
  },
  {
   "cell_type": "code",
   "execution_count": 123,
   "metadata": {},
   "outputs": [
    {
     "ename": "NameError",
     "evalue": "name 'gk_b' is not defined",
     "output_type": "error",
     "traceback": [
      "\u001b[0;31m---------------------------------------------------------------------------\u001b[0m",
      "\u001b[0;31mNameError\u001b[0m                                 Traceback (most recent call last)",
      "\u001b[0;32m<ipython-input-123-99859a8c44b7>\u001b[0m in \u001b[0;36m<module>\u001b[0;34m\u001b[0m\n\u001b[0;32m----> 1\u001b[0;31m \u001b[0mtest_gk_pred\u001b[0m \u001b[0;34m=\u001b[0m \u001b[0mpredict\u001b[0m\u001b[0;34m(\u001b[0m\u001b[0mtest_X\u001b[0m\u001b[0;34m,\u001b[0m \u001b[0mtrain_X\u001b[0m\u001b[0;34m,\u001b[0m \u001b[0mtrain_Y_c\u001b[0m\u001b[0;34m,\u001b[0m \u001b[0mgk_b\u001b[0m\u001b[0;34m)\u001b[0m\u001b[0;34m\u001b[0m\u001b[0;34m\u001b[0m\u001b[0m\n\u001b[0m",
      "\u001b[0;31mNameError\u001b[0m: name 'gk_b' is not defined"
     ]
    }
   ],
   "source": [
    "test_gk_pred = predict(test_X, train_X, train_Y_c, gk_b)"
   ]
  },
  {
   "cell_type": "code",
   "execution_count": 64,
   "metadata": {},
   "outputs": [
    {
     "data": {
      "text/plain": [
       "50.0"
      ]
     },
     "execution_count": 64,
     "metadata": {},
     "output_type": "execute_result"
    }
   ],
   "source": [
    "getAccuracy(test_Y_c, test_gk_pred)"
   ]
  },
  {
   "cell_type": "markdown",
   "metadata": {},
   "source": [
    "## Part 1.c"
   ]
  },
  {
   "cell_type": "code",
   "execution_count": null,
   "metadata": {},
   "outputs": [],
   "source": []
  },
  {
   "cell_type": "markdown",
   "metadata": {},
   "source": [
    "### Sklearn Linear SVM"
   ]
  },
  {
   "cell_type": "code",
   "execution_count": 116,
   "metadata": {},
   "outputs": [],
   "source": [
    "linearModel = SVC(kernel='linear')"
   ]
  },
  {
   "cell_type": "code",
   "execution_count": 117,
   "metadata": {},
   "outputs": [
    {
     "name": "stderr",
     "output_type": "stream",
     "text": [
      "/home/mcs20192566/.local/lib/python3.6/site-packages/sklearn/utils/validation.py:760: DataConversionWarning: A column-vector y was passed when a 1d array was expected. Please change the shape of y to (n_samples, ), for example using ravel().\n",
      "  y = column_or_1d(y, warn=True)\n"
     ]
    },
    {
     "data": {
      "text/plain": [
       "SVC(C=1.0, break_ties=False, cache_size=200, class_weight=None, coef0=0.0,\n",
       "    decision_function_shape='ovr', degree=3, gamma='scale', kernel='linear',\n",
       "    max_iter=-1, probability=False, random_state=None, shrinking=True,\n",
       "    tol=0.001, verbose=False)"
      ]
     },
     "execution_count": 117,
     "metadata": {},
     "output_type": "execute_result"
    }
   ],
   "source": [
    "linearModel.fit(train_X, train_Y_c)"
   ]
  },
  {
   "cell_type": "markdown",
   "metadata": {},
   "source": [
    "#### predicting on training data"
   ]
  },
  {
   "cell_type": "code",
   "execution_count": null,
   "metadata": {},
   "outputs": [],
   "source": [
    "train_skl_pred = linearModel.predict(train_X)"
   ]
  },
  {
   "cell_type": "code",
   "execution_count": null,
   "metadata": {
    "scrolled": false
   },
   "outputs": [],
   "source": [
    "getAccuracy(train_Y_c, train_skl_pred)"
   ]
  },
  {
   "cell_type": "markdown",
   "metadata": {},
   "source": [
    "#### predicting on validation data"
   ]
  },
  {
   "cell_type": "code",
   "execution_count": null,
   "metadata": {},
   "outputs": [],
   "source": [
    "val_skl_pred = linearModel.predict(val_X)"
   ]
  },
  {
   "cell_type": "code",
   "execution_count": null,
   "metadata": {
    "scrolled": false
   },
   "outputs": [],
   "source": [
    "getAccuracy(val_Y_c, val_skl_pred)"
   ]
  },
  {
   "cell_type": "markdown",
   "metadata": {},
   "source": [
    "#### predicting on test data"
   ]
  },
  {
   "cell_type": "code",
   "execution_count": null,
   "metadata": {},
   "outputs": [],
   "source": [
    "test_skl_pred = linearModel.predict(test_X)"
   ]
  },
  {
   "cell_type": "code",
   "execution_count": null,
   "metadata": {},
   "outputs": [],
   "source": [
    "getAccuracy(test_Y_c, test_skl_pred)"
   ]
  },
  {
   "cell_type": "markdown",
   "metadata": {},
   "source": [
    "#### comparing number of support vectors"
   ]
  },
  {
   "cell_type": "code",
   "execution_count": 118,
   "metadata": {},
   "outputs": [
    {
     "name": "stdout",
     "output_type": "stream",
     "text": [
      "Number of support vectors in sklearn model =  52\n"
     ]
    }
   ],
   "source": [
    "print('Number of support vectors in sklearn model = ', linearModel.n_support_.sum())"
   ]
  },
  {
   "cell_type": "code",
   "execution_count": null,
   "metadata": {},
   "outputs": [],
   "source": [
    "print('Number of support vectors in cvxopt model = ', sum(linear_alpha > 0))"
   ]
  },
  {
   "cell_type": "markdown",
   "metadata": {},
   "source": [
    "#### comparing weight(w) values"
   ]
  },
  {
   "cell_type": "code",
   "execution_count": null,
   "metadata": {
    "scrolled": false
   },
   "outputs": [],
   "source": [
    "print('Weight values in sklearn model = ', linearModel.coef_[0])"
   ]
  },
  {
   "cell_type": "code",
   "execution_count": null,
   "metadata": {},
   "outputs": [],
   "source": [
    "print('Weight values in cvxopt model = ', linear_w)"
   ]
  },
  {
   "cell_type": "code",
   "execution_count": null,
   "metadata": {},
   "outputs": [],
   "source": [
    "print('difference between cvxopt weights and sklearn weights = ', linear_w - linearModel.coef_[0])"
   ]
  },
  {
   "cell_type": "markdown",
   "metadata": {},
   "source": [
    "#### comparing intercept value"
   ]
  },
  {
   "cell_type": "code",
   "execution_count": null,
   "metadata": {},
   "outputs": [],
   "source": [
    "print('Intercept value in sklearn model = ', linearModel.intercept_[0])"
   ]
  },
  {
   "cell_type": "code",
   "execution_count": null,
   "metadata": {},
   "outputs": [],
   "source": [
    "print('Intercept value in cvxopt model = ', linear_b)"
   ]
  },
  {
   "cell_type": "markdown",
   "metadata": {},
   "source": [
    "### Sklearn Gaussian kernel SVM"
   ]
  },
  {
   "cell_type": "code",
   "execution_count": null,
   "metadata": {},
   "outputs": [],
   "source": [
    "gkmodel = SVC(gamma = 0.05)"
   ]
  },
  {
   "cell_type": "code",
   "execution_count": null,
   "metadata": {
    "scrolled": false
   },
   "outputs": [],
   "source": [
    "gkmodel.fit(mt_X, mt_Y_c)"
   ]
  },
  {
   "cell_type": "markdown",
   "metadata": {},
   "source": [
    "#### predicting on training data"
   ]
  },
  {
   "cell_type": "code",
   "execution_count": null,
   "metadata": {},
   "outputs": [],
   "source": [
    "train_skg_pred = gkModel.predict(train_X)"
   ]
  },
  {
   "cell_type": "code",
   "execution_count": null,
   "metadata": {
    "scrolled": false
   },
   "outputs": [],
   "source": [
    "getAccuracy(train_Y_c, train_skg_pred)"
   ]
  },
  {
   "cell_type": "markdown",
   "metadata": {},
   "source": [
    "#### predicting on validation data"
   ]
  },
  {
   "cell_type": "code",
   "execution_count": null,
   "metadata": {},
   "outputs": [],
   "source": [
    "val_skg_pred = gkModel.predict(val_X)"
   ]
  },
  {
   "cell_type": "code",
   "execution_count": null,
   "metadata": {
    "scrolled": true
   },
   "outputs": [],
   "source": [
    "getAccuracy(val_Y_c, val_skg_pred)"
   ]
  },
  {
   "cell_type": "markdown",
   "metadata": {},
   "source": [
    "#### predicting on test data"
   ]
  },
  {
   "cell_type": "code",
   "execution_count": null,
   "metadata": {},
   "outputs": [],
   "source": [
    "test_skg_pred = linearModel.predict(test_X)"
   ]
  },
  {
   "cell_type": "code",
   "execution_count": null,
   "metadata": {},
   "outputs": [],
   "source": [
    "getAccuracy(test_Y_c, test_skg_pred)"
   ]
  },
  {
   "cell_type": "markdown",
   "metadata": {},
   "source": [
    "#### comparing number of support vectors"
   ]
  },
  {
   "cell_type": "code",
   "execution_count": null,
   "metadata": {},
   "outputs": [],
   "source": [
    "print('Number of support vectors in sklearn model = ', gkModel.n_support_.sum())"
   ]
  },
  {
   "cell_type": "code",
   "execution_count": null,
   "metadata": {},
   "outputs": [],
   "source": [
    "print('Number of support vectors in cvxopt model = ', sum(gk_alpha > 0))"
   ]
  },
  {
   "cell_type": "markdown",
   "metadata": {},
   "source": [
    "#### comparing intercept value"
   ]
  },
  {
   "cell_type": "code",
   "execution_count": null,
   "metadata": {},
   "outputs": [],
   "source": [
    "print('Intercept value in sklearn model = ', gkModel.intercept_[0])"
   ]
  },
  {
   "cell_type": "code",
   "execution_count": null,
   "metadata": {},
   "outputs": [],
   "source": [
    "print('Intercept value in cvxopt model = ', gk_b)"
   ]
  }
 ],
 "metadata": {
  "kernelspec": {
   "display_name": "Python 3",
   "language": "python",
   "name": "python3"
  },
  "language_info": {
   "codemirror_mode": {
    "name": "ipython",
    "version": 3
   },
   "file_extension": ".py",
   "mimetype": "text/x-python",
   "name": "python",
   "nbconvert_exporter": "python",
   "pygments_lexer": "ipython3",
   "version": "3.6.5"
  }
 },
 "nbformat": 4,
 "nbformat_minor": 4
}
