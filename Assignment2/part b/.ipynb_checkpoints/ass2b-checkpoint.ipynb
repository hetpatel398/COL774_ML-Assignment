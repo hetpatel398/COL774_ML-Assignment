{
 "cells": [
  {
   "cell_type": "markdown",
   "metadata": {},
   "source": [
    "# Assignment 2 (Part b) : SVMs\n",
    "# Qeustion 1 : Binary Classification "
   ]
  },
  {
   "cell_type": "code",
   "execution_count": 1,
   "metadata": {},
   "outputs": [],
   "source": [
    "import pandas as pd\n",
    "import numpy as np\n",
    "import matplotlib.pyplot as plt\n",
    "import pickle\n",
    "from tqdm import tqdm\n",
    "from time import time\n",
    "import math\n",
    "from cvxopt import solvers, matrix\n",
    "\n",
    "from scipy.spatial.distance import cdist\n",
    "\n",
    "from sklearn.svm import SVC\n",
    "from sklearn.metrics import accuracy_score\n",
    "\n",
    "from itertools import combinations \n",
    "\n",
    "from joblib import Parallel, delayed\n",
    "import multiprocessing"
   ]
  },
  {
   "cell_type": "code",
   "execution_count": 2,
   "metadata": {},
   "outputs": [],
   "source": [
    "def getData(train, test, val, class1=2, class2=3):\n",
    "    train = train[np.logical_or(train[:,-1]==class1, train[:,-1]==class2)] \n",
    "    val = val[np.logical_or(val[:,-1]==class1, val[:,-1]==class2)] \n",
    "    test = test[np.logical_or(test[:,-1]==class1, test[:,-1]==class2)] \n",
    "\n",
    "    X_train = train[:,:-1]/255\n",
    "    Y_train = train[:,-1]\n",
    "    Y_train = np.array([-1 if i==class1 else 1 for i in Y_train]).reshape((Y_train.shape[0],1))\n",
    "\n",
    "    X_val = val[:,:-1]/255\n",
    "    Y_val = val[:,-1]\n",
    "    Y_val = np.array([-1 if i==class1 else 1 for i in Y_val]).reshape((Y_val.shape[0],1))\n",
    "\n",
    "    X_test = test[:,:-1]/255\n",
    "    Y_test = test[:,-1]\n",
    "    Y_test = np.array([-1 if i==class1 else 1 for i in Y_test]).reshape((Y_test.shape[0],1))\n",
    "    \n",
    "    return (X_train, Y_train, X_val, Y_val, X_test, Y_test)\n",
    "\n",
    "train = pd.read_csv('./data/train.csv', header=None).to_numpy()\n",
    "val = pd.read_csv('./data/val.csv', header=None).to_numpy()\n",
    "test = pd.read_csv('./data/test.csv', header=None).to_numpy()\n",
    "\n",
    "(X_train, Y_train, X_val, Y_val, X_test, Y_test) = getData(train, test, val, class1=2, class2=3)"
   ]
  },
  {
   "cell_type": "code",
   "execution_count": 3,
   "metadata": {},
   "outputs": [
    {
     "data": {
      "image/png": "[encoded data removed]",
      "text/plain": [
       "<Figure size 432x288 with 1 Axes>"
      ]
     },
     "metadata": {
      "needs_background": "light"
     },
     "output_type": "display_data"
    },
    {
     "data": {
      "image/png": "[encoded data removed]",
      "text/plain": [
       "<Figure size 432x288 with 1 Axes>"
      ]
     },
     "metadata": {
      "needs_background": "light"
     },
     "output_type": "display_data"
    }
   ],
   "source": [
    "plt.imshow(X_train[np.where(Y_train.ravel() == -1)][0].reshape((28,28)), cmap='gray')\n",
    "plt.title('Y = 2 (Pullover)')\n",
    "plt.show()\n",
    "plt.imshow(X_train[np.where(Y_train.ravel() == 1)][0].reshape((28,28)), cmap='gray')\n",
    "plt.title('Y = 3 (Dress)')\n",
    "plt.show()"
   ]
  },
  {
   "cell_type": "markdown",
   "metadata": {},
   "source": [
    "## Part (a) : Implementing Linear SVM"
   ]
  },
  {
   "cell_type": "code",
   "execution_count": 4,
   "metadata": {},
   "outputs": [],
   "source": [
    "class SVM:\n",
    "    '''\n",
    "    This class provides implementation of SVM.\n",
    "    \n",
    "    **************\n",
    "    Parameters:\n",
    "    C : Regularization parameter (Defalts 1.0)\n",
    "    threshold : Threshold for alphas i.e. alpha values below this will be treated as 0 (Defalts 1e-5)\n",
    "    kernel : Type of kernel you want to use ('linear' or 'rbf')\n",
    "    gamma : Hyperparameter for rbf kernel\n",
    "    showTime : Boolean to show time taken to fit\n",
    "    **************\n",
    "    '''\n",
    "    __slots__=['C', 'threshold', 'kernel', 'gamma', 'showTime', 'silentCVXOPT', 'alphas', 'nSV', 'SV_indices', 'SV_y', 'SV', 'w', 'b']\n",
    "\n",
    "    def __init__(self, C=1, threshold=1e-5, kernel='linear', gamma=0.05, showTime=True, silentCVXOPT = False):\n",
    "        self.C = C\n",
    "        self.threshold = threshold\n",
    "        self.kernel = kernel\n",
    "        self.gamma = gamma\n",
    "        self.showTime = showTime\n",
    "        self.silentCVXOPT = silentCVXOPT\n",
    "    \n",
    "    def _getRBFKernelMat(self, X, gamma = 0.05):\n",
    "        return np.exp(-gamma*(cdist(X,X,'euclidean')**2))\n",
    "    \n",
    "    def fit(self, X_train, Y_train):\n",
    "        t0 = time()\n",
    "        \n",
    "        if self.kernel=='linear':\n",
    "            P = Y_train.dot(Y_train.T) * (X_train.dot(X_train.T))\n",
    "        elif self.kernel=='rbf':\n",
    "            K = self._getRBFKernelMat(X_train, self.gamma)\n",
    "            P = Y_train.dot(Y_train.T) * (K)\n",
    "        P=matrix(P,tc='d')\n",
    "\n",
    "        q = -np.ones(X_train.shape[0])\n",
    "        q=matrix(q,tc='d')\n",
    "\n",
    "        G = np.vstack((-np.identity(X_train.shape[0]), np.identity(X_train.shape[0])))\n",
    "        G=matrix(G,tc='d')\n",
    "\n",
    "        h = np.hstack((np.zeros(X_train.shape[0]), np.zeros(X_train.shape[0])+self.C))\n",
    "        h=matrix(h,tc='d')\n",
    "\n",
    "        A = Y_train.T\n",
    "        A = matrix(A,tc='d')\n",
    "        b=matrix([0],tc='d')\n",
    "        if self.silentCVXOPT:\n",
    "            solvers.options['show_progress'] = False\n",
    "        opt = solvers.qp(P, q, G, h, A, b)\n",
    "\n",
    "        self.alphas = np.array(opt['x']).ravel()\n",
    "\n",
    "        self.alphas[self.alphas<self.threshold] = 0\n",
    "\n",
    "        self.nSV = np.where(self.alphas > 0)[0].shape[0]\n",
    "        self.SV_indices = np.where(self.alphas > 0)[0]\n",
    "        self.SV_y = Y_train[self.SV_indices].ravel()\n",
    "        self.SV = X_train[self.SV_indices]\n",
    "        \n",
    "        if self.kernel == 'linear':\n",
    "            self.w = (X_train[self.SV_indices]).T.dot((Y_train[self.SV_indices].ravel())*self.alphas[self.SV_indices])\n",
    "            X_pos = X_train[np.where(Y_train.ravel() == 1)]\n",
    "            X_neg = X_train[np.where(Y_train.ravel() == -1)]\n",
    "            self.b = -(1/2)*(min(X_pos.dot(self.w)) + max(X_neg.dot(self.w)))\n",
    "\n",
    "        elif self.kernel == 'rbf':\n",
    "            X_pos_indices = np.where(Y_train.ravel() == 1)[0]\n",
    "            X_neg_indices = np.where(Y_train.ravel() == -1)[0]\n",
    "            alphaiXyi = self.alphas*Y_train.ravel()\n",
    "            Min = math.inf\n",
    "            for i in X_pos_indices:            \n",
    "                Sum = 0\n",
    "                for j in self.SV_indices:\n",
    "                    Sum = Sum + (alphaiXyi[j] * K[i,j])\n",
    "                if(Sum<Min):\n",
    "                    Min=Sum\n",
    "            Max = -math.inf\n",
    "            for i in X_neg_indices:\n",
    "                Sum = 0\n",
    "                for j in self.SV_indices:\n",
    "                    Sum = Sum + (alphaiXyi[j] * K[i,j])\n",
    "                if(Sum>Max):\n",
    "                    Max=Sum\n",
    "            self.b = -(1/2)*(Max+Min)\n",
    "        if self.showTime:\n",
    "            print(\"Training completed in %.2f seconds\"%((time()-t0)))\n",
    "        \n",
    "\n",
    "    def predict(self,X):\n",
    "        pred = list()\n",
    "        if self.kernel=='linear':\n",
    "            for pt in X:\n",
    "                if (self.SV).T.dot(self.SV_y*self.alphas[self.SV_indices]).dot(pt) + self.b > 0:\n",
    "                    pred.append(1)\n",
    "                else:\n",
    "                    pred.append(-1)\n",
    "        elif self.kernel=='rbf':\n",
    "            wTxB = (np.exp(-0.05*cdist(self.SV, X)**2).T)@(self.alphas[self.SV_indices]*self.SV_y).reshape((-1,1)) + self.b\n",
    "            wTxB[wTxB > 0] = 1\n",
    "            wTxB[wTxB < 0] = -1\n",
    "            pred = wTxB\n",
    "        return np.array(pred, dtype='int32')\n",
    "    \n",
    "    def predict_score(self, X):\n",
    "        score = list()\n",
    "        if self.kernel=='linear':\n",
    "            for pt in X:\n",
    "                score.append((self.SV).T.dot(self.SV_y*self.alphas[self.SV_indices]).dot(pt) + self.b)\n",
    "        elif self.kernel=='rbf':\n",
    "            score = (np.exp(-0.05*cdist(self.SV, X)**2).T)@(self.alphas[self.SV_indices]*self.SV_y).reshape((-1,1)) + self.b\n",
    "        return np.array(score)\n",
    "        \n",
    "    def get_alphas(self):\n",
    "        return self.alphas\n",
    "    def get_nSV(self):\n",
    "        return self.nSV\n",
    "    def get_SV_indices(self):\n",
    "        return self.SV_indices\n",
    "    def get_SV_y(self):\n",
    "        return self.SV_y\n",
    "    def get_SV(self):\n",
    "        return self.SV\n",
    "    def get_w(self):\n",
    "        return self.w\n",
    "    def get_b(self):\n",
    "        return self.b\n",
    "\n",
    "class metrics:\n",
    "    \n",
    "    def accuracy_score(y_true, y_pred):\n",
    "        true = sum(y_true.ravel() == y_pred.ravel())\n",
    "        return true*100/len(y_true)"
   ]
  },
  {
   "cell_type": "code",
   "execution_count": 6,
   "metadata": {},
   "outputs": [],
   "source": [
    "linearSVM = SVM(C=1.0, threshold=1e-5, kernel='linear')\n",
    "\n",
    "linearSVM.fit(X_train, Y_train)"
   ]
  },
  {
   "cell_type": "code",
   "execution_count": 6,
   "metadata": {},
   "outputs": [
    {
     "name": "stdout",
     "output_type": "stream",
     "text": [
      "Number of support vectors : 370\n"
     ]
    }
   ],
   "source": [
    "print('Number of support vectors :',linearSVM.nSV)"
   ]
  },
  {
   "cell_type": "code",
   "execution_count": 7,
   "metadata": {},
   "outputs": [
    {
     "name": "stdout",
     "output_type": "stream",
     "text": [
      "Accuracy on Train Dataset :  92.77777777777777\n",
      "Accuracy on Validation Dataset :  89.6\n",
      "Accuracy on Test Dataset :  91.3\n"
     ]
    }
   ],
   "source": [
    "pred_train = linearSVM.predict(X_train)\n",
    "accuracy_train = metrics.accuracy_score(Y_train, pred_train)\n",
    "\n",
    "pred_test = linearSVM.predict(X_test)\n",
    "accuracy_test = metrics.accuracy_score(Y_test, pred_test)\n",
    "\n",
    "pred_val = linearSVM.predict(X_val)\n",
    "accuracy_val = metrics.accuracy_score(Y_val, pred_val)\n",
    "\n",
    "print('Accuracy on Train Dataset : ', accuracy_train)\n",
    "print('Accuracy on Validation Dataset : ', accuracy_val)\n",
    "print('Accuracy on Test Dataset : ', accuracy_test)"
   ]
  },
  {
   "cell_type": "markdown",
   "metadata": {},
   "source": [
    "## Part B : Applying SVM with Gaussian Kernel"
   ]
  },
  {
   "cell_type": "code",
   "execution_count": 8,
   "metadata": {},
   "outputs": [
    {
     "name": "stdout",
     "output_type": "stream",
     "text": [
      "     pcost       dcost       gap    pres   dres\n",
      " 0: -1.6492e+02 -6.6070e+03  3e+04  2e+00  1e-15\n",
      " 1: -1.1407e+02 -3.0686e+03  5e+03  2e-01  2e-15\n",
      " 2: -1.0459e+02 -7.6952e+02  9e+02  3e-02  2e-15\n",
      " 3: -1.2684e+02 -3.0203e+02  2e+02  6e-03  2e-15\n",
      " 4: -1.4133e+02 -2.0101e+02  6e+01  1e-03  2e-15\n",
      " 5: -1.4945e+02 -1.6809e+02  2e+01  2e-04  2e-15\n",
      " 6: -1.5144e+02 -1.6280e+02  1e+01  3e-05  1e-15\n",
      " 7: -1.5364e+02 -1.5728e+02  4e+00  7e-06  1e-15\n",
      " 8: -1.5443e+02 -1.5550e+02  1e+00  6e-16  2e-15\n",
      " 9: -1.5478e+02 -1.5492e+02  1e-01  2e-15  1e-15\n",
      "10: -1.5483e+02 -1.5484e+02  4e-03  3e-15  1e-15\n",
      "11: -1.5483e+02 -1.5483e+02  6e-05  9e-15  2e-15\n",
      "Optimal solution found.\n",
      "Training completed in 122.40 seconds\n"
     ]
    }
   ],
   "source": [
    "rbfSVM = SVM(C=1.0, threshold=1e-5, kernel='rbf', gamma=0.05)\n",
    "\n",
    "rbfSVM.fit(X_train, Y_train)"
   ]
  },
  {
   "cell_type": "code",
   "execution_count": 9,
   "metadata": {},
   "outputs": [
    {
     "data": {
      "text/plain": [
       "0.000956020409180719"
      ]
     },
     "execution_count": 9,
     "metadata": {},
     "output_type": "execute_result"
    }
   ],
   "source": [
    "rbfSVM.b"
   ]
  },
  {
   "cell_type": "code",
   "execution_count": 7,
   "metadata": {},
   "outputs": [
    {
     "name": "stdout",
     "output_type": "stream",
     "text": [
      "Number of support vectors in RBF-SVM: 1123\n"
     ]
    }
   ],
   "source": [
    "print('Number of support vectors in RBF-SVM:',rbfSVM.nSV)"
   ]
  },
  {
   "cell_type": "code",
   "execution_count": 8,
   "metadata": {},
   "outputs": [
    {
     "name": "stderr",
     "output_type": "stream",
     "text": [
      "100%|██████████| 4500/4500 [00:28<00:00, 159.95it/s]\n",
      "100%|██████████| 1000/1000 [00:06<00:00, 160.48it/s]\n",
      "100%|██████████| 500/500 [00:03<00:00, 160.92it/s]"
     ]
    },
    {
     "name": "stdout",
     "output_type": "stream",
     "text": [
      "Accuracy on Train Dataset : 99.4\n",
      "Accuracy on Validation Dataset : 97.2\n",
      "Accuracy on Test Dataset : 96.1\n"
     ]
    },
    {
     "name": "stderr",
     "output_type": "stream",
     "text": [
      "\n"
     ]
    }
   ],
   "source": [
    "pred_train = rbfSVM.predict(X_train)\n",
    "accuracy_train = metrics.accuracy_score(Y_train, pred_train)\n",
    "\n",
    "pred_test = rbfSVM.predict(X_test)\n",
    "accuracy_test = metrics.accuracy_score(Y_test, pred_test)\n",
    "\n",
    "pred_val = rbfSVM.predict(X_val)\n",
    "accuracy_val = metrics.accuracy_score(Y_val, pred_val)\n",
    "\n",
    "print('Accuracy on Train Dataset :', accuracy_train)\n",
    "print('Accuracy on Validation Dataset :', accuracy_val)\n",
    "print('Accuracy on Test Dataset :', accuracy_test)"
   ]
  },
  {
   "cell_type": "code",
   "execution_count": 66,
   "metadata": {},
   "outputs": [
    {
     "name": "stderr",
     "output_type": "stream",
     "text": [
      "100%|██████████| 4500/4500 [00:35<00:00, 127.09it/s]\n"
     ]
    },
    {
     "name": "stdout",
     "output_type": "stream",
     "text": [
      "Shape of P : (4500, 4500)\n",
      "Shape of q : (4500, 1)\n",
      "Shape of G : (9000, 4500)\n",
      "Shape of h : (9000, 1)\n",
      "Shape of A : (1, 4500)\n",
      "     pcost       dcost       gap    pres   dres\n",
      " 0: -1.5598e+02 -6.9927e+03  3e+04  2e+00  1e-15\n",
      " 1: -8.8657e+01 -3.4857e+03  6e+03  2e-01  2e-15\n",
      " 2: -5.9446e+01 -7.3609e+02  8e+02  2e-02  2e-15\n",
      " 3: -1.0523e+02 -2.6151e+02  2e+02  4e-03  2e-15\n",
      " 4: -1.2171e+02 -1.8069e+02  6e+01  1e-03  1e-15\n",
      " 5: -1.2850e+02 -1.5673e+02  3e+01  1e-14  1e-15\n",
      " 6: -1.3314e+02 -1.4204e+02  9e+00  8e-16  1e-15\n",
      " 7: -1.3446e+02 -1.3849e+02  4e+00  1e-14  1e-15\n",
      " 8: -1.3538e+02 -1.3651e+02  1e+00  2e-14  1e-15\n",
      " 9: -1.3573e+02 -1.3581e+02  8e-02  3e-14  1e-15\n",
      "10: -1.3576e+02 -1.3576e+02  2e-03  4e-14  1e-15\n",
      "11: -1.3576e+02 -1.3576e+02  6e-05  4e-15  1e-15\n",
      "Optimal solution found.\n"
     ]
    }
   ],
   "source": [
    "P = Y_train.dot(Y_train.T) * (getRBFKernelMat(X_train))\n",
    "P=matrix(P,tc='d')\n",
    "print('Shape of P :',P.size)\n",
    "\n",
    "q = -np.ones(X_train.shape[0])\n",
    "q=matrix(q,tc='d')\n",
    "print('Shape of q :',q.size)\n",
    "\n",
    "G = np.vstack((-np.identity(X_train.shape[0]), np.identity(X_train.shape[0])))\n",
    "G=matrix(G,tc='d')\n",
    "print('Shape of G :',G.size)\n",
    "C=1.0\n",
    "h = np.hstack((np.zeros(X_train.shape[0]), np.zeros(X_train.shape[0])+C))\n",
    "h=matrix(h,tc='d')\n",
    "print('Shape of h :',h.size)\n",
    "\n",
    "A = Y_train.T\n",
    "A = matrix(A,tc='d')\n",
    "b=matrix([0],tc='d')\n",
    "print('Shape of A :',A.size)\n",
    "\n",
    "opt = solvers.qp(P, q, G, h, A, b)\n",
    "\n",
    "alphas = np.array(opt['x']).ravel()\n",
    "\n",
    "# alphas[alphas<threshold] = 0\n",
    "\n",
    "# nSV = np.where(alphas > 1e-5)[0].shape[0]\n",
    "# SV_indices = np.where(alphas > 1e-5)[0]\n",
    "# SV_y = Y_train[SV_indices].ravel()\n",
    "# SV = X_train[SV_indices]\n",
    "\n",
    "# w = (X_train[SV_indices]).T.dot((Y_train[SV_indices].ravel())*alphas[SV_indices])\n",
    "\n",
    "# X_pos = X_train[np.where(Y_train.ravel() == 1)]\n",
    "# X_neg = X_train[np.where(Y_train.ravel() == -1)]\n",
    "# b = -(1/2)*(min(X_pos.dot(w)) + max(X_neg.dot(w)))"
   ]
  },
  {
   "cell_type": "markdown",
   "metadata": {},
   "source": [
    "## Part c : Comparing our implementation with scikit-learn's implementation"
   ]
  },
  {
   "cell_type": "code",
   "execution_count": 5,
   "metadata": {},
   "outputs": [
    {
     "name": "stdout",
     "output_type": "stream",
     "text": [
      "Linear SVM trined in 0.24 sec\n",
      "nSV : [33 24]\n",
      "Total Support vectors : 57\n",
      "Accuracy on train data 100.00 %\n",
      "Accuracy on validation data 99.80 %\n",
      "Accuracy on test data 100.00 %\n"
     ]
    }
   ],
   "source": [
    "svm = SVC(C=1, kernel='linear')\n",
    "t0 = time()\n",
    "svm.fit(X_train, Y_train.ravel())\n",
    "print('Linear SVM trined in %.2f sec'%(time()-t0))\n",
    "\n",
    "# print('W : %s'%(svm.coef_))\n",
    "# print('b : %s'%(svm.intercept_))\n",
    "print('nSV : %s'%(svm.n_support_))\n",
    "print('Total Support vectors : %s'%(svm.n_support_.sum()))\n",
    "\n",
    "pred_train = svm.predict(X_train)\n",
    "pred_val = svm.predict(X_val)\n",
    "pred_test = svm.predict(X_test)\n",
    "\n",
    "print('Accuracy on train data %.2f %c'%(accuracy_score(Y_train, pred_train)*100,'%'))\n",
    "print('Accuracy on validation data %.2f %c'%(accuracy_score(Y_val, pred_val)*100,'%'))\n",
    "print('Accuracy on test data %.2f %c'%(accuracy_score(Y_test, pred_test)*100,'%'))"
   ]
  },
  {
   "cell_type": "code",
   "execution_count": 4,
   "metadata": {},
   "outputs": [
    {
     "name": "stdout",
     "output_type": "stream",
     "text": [
      "RBF SVM trined in 3.13 sec\n",
      "Support vectors : [409 417]\n",
      "Total Support vectors : 826\n",
      "Accuracy on train data 100.00 %\n",
      "Accuracy on validation data 100.00 %\n",
      "Accuracy on test data 99.80 %\n"
     ]
    }
   ],
   "source": [
    "svm = SVC(C=1, kernel='rbf', gamma=0.05)\n",
    "t0 = time()\n",
    "svm.fit(X_train, Y_train.ravel())\n",
    "print('RBF SVM trined in %.2f sec'%(time()-t0))\n",
    "\n",
    "# print('W : %s'%(svm.coef_))\n",
    "# print('b : %s'%(svm.intercept_))\n",
    "print('Support vectors : %s'%(svm.n_support_))\n",
    "print('Total Support vectors : %s'%(svm.n_support_.sum()))\n",
    "\n",
    "pred_train = svm.predict(X_train)\n",
    "pred_val = svm.predict(X_val)\n",
    "pred_test = svm.predict(X_test)\n",
    "\n",
    "print('Accuracy on train data %.2f %c'%(accuracy_score(Y_train, pred_train)*100,'%'))\n",
    "print('Accuracy on validation data %.2f %c'%(accuracy_score(Y_val, pred_val)*100,'%'))\n",
    "print('Accuracy on test data %.2f %c'%(accuracy_score(Y_test, pred_test)*100,'%'))"
   ]
  },
  {
   "cell_type": "markdown",
   "metadata": {},
   "source": [
    "$$\\begin{eqnarray} \\min_{w}\\frac{1}{2}||w||^{2} \\nonumber \\\\\\ \\textrm{s.t.}\\quad y_{i}(w^{T}x_{i} + b) \\ge 1 \\quad \\forall i \\end{eqnarray}$$"
   ]
  },
  {
   "cell_type": "markdown",
   "metadata": {},
   "source": [
    "$$\\begin{eqnarray} \\min_{\\alpha}\\frac{1}{2} \\alpha^{T}K\\alpha - 1^{T}\\alpha \\nonumber \\\\\\ \\textrm{s.t.}\\quad \\alpha_{i} \\ge 0 \\quad \\forall i \\\\\\ \\textrm{and}\\quad y^{T}\\alpha = 0 \\end{eqnarray}$$"
   ]
  },
  {
   "cell_type": "markdown",
   "metadata": {},
   "source": [
    "$$\\begin{eqnarray} \\min_{x}\\frac{1}{2} x^{T}Px - q^{T}x \\nonumber \\\\\\ \\textrm{s.t.}\\quad Gx \\preceq h \\\\\\ \\textrm{and}\\quad Ax = b \\end{eqnarray}$$"
   ]
  },
  {
   "cell_type": "markdown",
   "metadata": {},
   "source": [
    "# Question 2 : Multi-class Classification"
   ]
  },
  {
   "cell_type": "code",
   "execution_count": 5,
   "metadata": {},
   "outputs": [],
   "source": [
    "class multiclassSVM:\n",
    "    \n",
    "    def __init__(self,C=1.0, gamma=0.05, useSklearn = False, classes = range(10), n_jobs=1):\n",
    "        self.C = C\n",
    "        self.gamma = 0.05\n",
    "        self.useSklearn = useSklearn\n",
    "        self.classes = classes\n",
    "        self.comb = list(combinations(classes,2))\n",
    "        self.n_jobs = n_jobs\n",
    "    \n",
    "    def _getData(self, X, Y, class1, class2):\n",
    "        X = X[np.logical_or(Y==class1, Y==class2)] \n",
    "        Y = Y[np.logical_or(Y==class1, Y==class2)] \n",
    "\n",
    "        X = X/255\n",
    "        Y = np.array([-1 if i==class1 else 1 for i in Y]).reshape((Y.shape[0],1))\n",
    "\n",
    "        return (X, Y)\n",
    "    \n",
    "    def _getMyModel(self, c1, c2, X, Y):\n",
    "        (X_train, Y_train) = self._getData(X, Y, class1=c1, class2=c2)    \n",
    "        model = SVM(C=self.C, kernel='rbf', gamma=self.gamma)\n",
    "        model.fit(X_train, Y_train)\n",
    "        return model\n",
    "    \n",
    "    def _getSklearnModel(self, c1, c2, X, Y):\n",
    "        (X_train, Y_train) = self._getData(X, Y, class1=c1, class2=c2)    \n",
    "        model = SVC(C=self.C, kernel='rbf', gamma=self.gamma)\n",
    "        model.fit(X_train, Y_train.ravel())\n",
    "        return model\n",
    "    \n",
    "    def fit(self, X_train, Y_train):\n",
    "        self.models = list()\n",
    "        \n",
    "        if self.useSklearn and self.n_jobs!=1:\n",
    "            self.models = Parallel(n_jobs=self.n_jobs)(delayed(self._getSklearnModel)(c1, c2, X_train, Y_train) for (c1,c2) in tqdm(self.comb, desc='OneVsOne Models generation'))\n",
    "        elif self.useSklearn and self.n_jobs==1:\n",
    "            for (c1,c2) in tqdm(self.comb):\n",
    "                self.models.append(self._getSklearnModel(c1,c2, X_train, Y_train))\n",
    "        elif not self.useSklearn and self.n_jobs!=1:\n",
    "            self.models = Parallel(n_jobs=self.n_jobs)(delayed(self._getMyModel)(c1, c2, X_train, Y_train) for (c1,c2) in tqdm(self.comb, desc='OneVsOne Models generation'))\n",
    "        elif not self.useSklearn and self.n_jobs==1:\n",
    "            for (c1,c2) in tqdm(self.comb):\n",
    "                self.models.append(self._getMyModel(c1,c2, X_train, Y_train))\n",
    "    \n",
    "    def _predict_for_one_model(self, X, model, c0, c1):\n",
    "        pred = model.predict(X)\n",
    "        if not self.useSklearn:\n",
    "            pred_score = model.predict_score(X)\n",
    "        ######################################################################################\n",
    "        else:\n",
    "            pred_score = model.decision_function(X)\n",
    "        pred[pred == 1] = c1\n",
    "        pred[pred == -1] = c0\n",
    "        return (pred, pred_score)\n",
    "    \n",
    "    def predict_multiclass(self, X):\n",
    "        if self.n_jobs != 1:\n",
    "            results = Parallel(n_jobs=self.n_jobs)(delayed(self._predict_for_one_model)(X, model, c1, c2) for (model, (c1,c2)) in tqdm(list(zip(self.models, self.comb)), desc='Generating Predictions'))\n",
    "        else:\n",
    "            results = [self._predict_for_one_model(X, model, c1, c2) for (model, (c1,c2)) in tqdm(list(zip(self.models, self.comb)), desc='Generating Predictions')]\n",
    "        \n",
    "        predScoreLst = (list(zip(*results)))\n",
    "        predictions = np.array(list(predScoreLst[0]))\n",
    "        predictions = predictions.reshape((predictions.shape[0], predictions.shape[1]))\n",
    "        scores = np.array(list(predScoreLst[1]))\n",
    "        scores = scores.reshape((scores.shape[0], scores.shape[1]))\n",
    "\n",
    "        counts=list()\n",
    "#         wo_tie = list()\n",
    "        for i in (predictions.T):\n",
    "            lst = np.zeros(10, dtype='int32')\n",
    "            for x in i:\n",
    "                lst[x]+=1\n",
    "#             wo_tie.append(np.argmax(lst))\n",
    "            counts.append(lst)\n",
    "        np.array(counts).shape\n",
    "\n",
    "        scores_lst = list()\n",
    "        for j in (range(len(predictions.T))):\n",
    "            pt_score = list()\n",
    "            for i in range(10):\n",
    "                pt_score.append(sum(np.abs(scores.T[j][predictions.T[j] == i])))\n",
    "            scores_lst.append(pt_score)\n",
    "        np.array(scores_lst).shape\n",
    "\n",
    "        pred = list()\n",
    "        for i in range(len(X)):\n",
    "            scores_i = scores_lst[i]\n",
    "            counts_i = counts[i]\n",
    "            out = 0\n",
    "            maxScore = abs(scores_i[0])\n",
    "            maxCount = counts_i[0]\n",
    "            for j in range(1,10):\n",
    "                if counts_i[j] < maxCount:\n",
    "                    continue\n",
    "                elif counts_i[j] > maxCount:\n",
    "                    out = j\n",
    "                    maxScore = abs(scores_i[j])\n",
    "                    maxCount = counts_i[j]\n",
    "                else:\n",
    "                    if abs(scores_i[j]) > maxScore:\n",
    "                        out = j\n",
    "                        maxScore = abs(scores_i[j])\n",
    "                        maxCount = counts_i[j]\n",
    "                    else:\n",
    "                        continue\n",
    "            pred.append(out)\n",
    "        return pred"
   ]
  },
  {
   "cell_type": "code",
   "execution_count": 6,
   "metadata": {},
   "outputs": [],
   "source": [
    "ovo = multiclassSVM(n_jobs=-1, useSklearn=True)\n",
    "\n",
    "# with open('models.pkl', 'rb') as f:\n",
    "#     models = pickle.load(f)\n",
    "\n",
    "# ovo.models = models\n"
   ]
  },
  {
   "cell_type": "code",
   "execution_count": 7,
   "metadata": {},
   "outputs": [
    {
     "name": "stderr",
     "output_type": "stream",
     "text": [
      "OneVsOne Models generation: 100%|██████████| 45/45 [01:46<00:00,  2.37s/it]\n"
     ]
    }
   ],
   "source": [
    "ovo.fit(train[:,:-1]/255, train[:,-1])"
   ]
  },
  {
   "cell_type": "code",
   "execution_count": 8,
   "metadata": {},
   "outputs": [
    {
     "data": {
      "text/plain": [
       "45"
      ]
     },
     "execution_count": 8,
     "metadata": {},
     "output_type": "execute_result"
    }
   ],
   "source": [
    "len(ovo.models)"
   ]
  },
  {
   "cell_type": "code",
   "execution_count": 9,
   "metadata": {},
   "outputs": [
    {
     "name": "stderr",
     "output_type": "stream",
     "text": [
      "Generating Predictions: 100%|██████████| 45/45 [03:41<00:00,  4.93s/it]\n"
     ]
    },
    {
     "name": "stdout",
     "output_type": "stream",
     "text": [
      "Predicted in 6.98 minutes.\n"
     ]
    },
    {
     "data": {
      "text/plain": [
       "15.68"
      ]
     },
     "execution_count": 9,
     "metadata": {},
     "output_type": "execute_result"
    }
   ],
   "source": [
    "t0 = time()\n",
    "pred_test = ovo.predict_multiclass(test[:,:-1]/255)\n",
    "print('Predicted in %.2f minutes.'%((time()-t0)/60))\n",
    "\n",
    "metrics.accuracy_score(test[:,-1].ravel(), np.array(pred_test))"
   ]
  },
  {
   "cell_type": "code",
   "execution_count": null,
   "metadata": {},
   "outputs": [],
   "source": [
    "metrics.accuracy_score(test[:,-1].ravel(), np.array(pred_test))"
   ]
  },
  {
   "cell_type": "code",
   "execution_count": null,
   "metadata": {},
   "outputs": [],
   "source": [
    "t0 = time()\n",
    "pred_val = ovo.predict_multiclass(val[:,:-1]/255)\n",
    "print('Predicted in %.2f minutes.'%((time()-t0)/60))\n",
    "\n",
    "metrics.accuracy_score(val[:,-1].ravel(), np.array(pred_test))"
   ]
  },
  {
   "cell_type": "code",
   "execution_count": null,
   "metadata": {},
   "outputs": [],
   "source": [
    "metrics.accuracy_score(val[:,-1].ravel(), np.array(pred_val))"
   ]
  },
  {
   "cell_type": "code",
   "execution_count": null,
   "metadata": {},
   "outputs": [],
   "source": [
    "t0 = time()\n",
    "pred_train = ovo.predict_multiclass(train[:,:-1]/255)\n",
    "print('Predicted in %.2f minutes.'%((time()-t0)/60))\n",
    "\n",
    "metrics.accuracy_score(train[:,-1].ravel(), np.array(pred_train))"
   ]
  },
  {
   "cell_type": "code",
   "execution_count": null,
   "metadata": {},
   "outputs": [],
   "source": [
    "metrics.accuracy_score(train[:,-1].ravel(), np.array(pred_train))"
   ]
  },
  {
   "cell_type": "code",
   "execution_count": 21,
   "metadata": {},
   "outputs": [],
   "source": [
    "# models = list()\n",
    "\n",
    "# def getModel(c1,c2):\n",
    "#     (X_train, Y_train, X_val, Y_val, X_test, Y_test) = getData(train, test, val, class1=c1, class2=c2)    \n",
    "#     model = SVM(C=1, threshold=1e-5, kernel='rbf', gamma=0.05, )\n",
    "#     model.fit(X_train, Y_train)\n",
    "#     return model\n",
    "\n",
    "# models = Parallel(n_jobs=4)(delayed(getModel)(c1, c2) for (c1,c2) in tqdm(comb, desc='OneVsOne Models generation'))\n",
    "\n",
    "# # Sequntial code\n",
    "# # for (c1,c2) in tqdm(comb):\n",
    "# #     models.append(getModel(c1,c2))\n",
    "\n",
    "# with open('models.pkl', 'rb') as f:\n",
    "#     models = pickle.load(f)\n",
    "\n",
    "# def predict_for_one_model(X, model, c0, c1):\n",
    "#     pred = model.predict(X)\n",
    "#     pred_score = model.predict_score(X)\n",
    "#     pred[pred == 1] = c1\n",
    "#     pred[pred == -1] = c0\n",
    "#     return (pred, pred_score)\n",
    "\n",
    "# def predict_multiclass(models, X, comb):\n",
    "\n",
    "#     results = Parallel(n_jobs=-1)(delayed(predict_for_one_model)(X, model, c1, c2) for (model, (c1,c2)) in tqdm(list(zip(models, comb)), desc='Generating Predictions'))\n",
    "\n",
    "#     predScoreLst = (list(zip(*results)))\n",
    "#     predictions = np.array(list(predScoreLst[0]))\n",
    "#     predictions = predictions.reshape((predictions.shape[0], predictions.shape[1]))\n",
    "#     scores = np.array(list(predScoreLst[1]))\n",
    "#     scores = scores.reshape((scores.shape[0], scores.shape[1]))\n",
    "\n",
    "#     return predictions\n",
    "#     counts=list()\n",
    "#     wo_tie = list()\n",
    "#     for i in tqdm(predictions.T):\n",
    "#         lst = np.zeros(10, dtype='int32')\n",
    "#         for x in i:\n",
    "#             lst[x]+=1\n",
    "#         wo_tie.append(np.argmax(lst))\n",
    "#         counts.append(lst)\n",
    "#     np.array(counts).shape\n",
    "    \n",
    "#     scores_lst = list()\n",
    "#     for j in tqdm(range(len(predictions.T))):\n",
    "#         pt_score = list()\n",
    "#         for i in range(10):\n",
    "#             pt_score.append(sum(np.abs(scores.T[j][predictions.T[j] == i])))\n",
    "#         scores_lst.append(pt_score)\n",
    "#     np.array(scores_lst).shape\n",
    "    \n",
    "#     pred = list()\n",
    "#     for i in range(len(X)):\n",
    "#         scores_i = scores_lst[i]\n",
    "#         counts_i = counts[i]\n",
    "#         out = 0\n",
    "#         maxScore = abs(scores_i[0])\n",
    "#         maxCount = counts_i[0]\n",
    "#         for j in range(1,10):\n",
    "#             if counts_i[j] < maxCount:\n",
    "#                 continue\n",
    "#             elif counts_i[j] > maxCount:\n",
    "#                 out = j\n",
    "#                 maxScore = abs(scores_i[j])\n",
    "#                 maxCount = counts_i[j]\n",
    "#             else:\n",
    "#                 if abs(scores_i[j]) > maxScore:\n",
    "#                     out = j\n",
    "#                     maxScore = abs(scores_i[j])\n",
    "#                     maxCount = counts_i[j]\n",
    "#                 else:\n",
    "#                     continue\n",
    "#         pred.append(out)\n",
    "#     return pred"
   ]
  },
  {
   "cell_type": "code",
   "execution_count": 22,
   "metadata": {},
   "outputs": [
    {
     "ename": "NameError",
     "evalue": "name 'predict_multiclass' is not defined",
     "output_type": "error",
     "traceback": [
      "\u001b[0;31m---------------------------------------------------------------------------\u001b[0m",
      "\u001b[0;31mNameError\u001b[0m                                 Traceback (most recent call last)",
      "\u001b[0;32m<ipython-input-22-5e800bd6bb1d>\u001b[0m in \u001b[0;36m<module>\u001b[0;34m\u001b[0m\n\u001b[1;32m      1\u001b[0m \u001b[0mt0\u001b[0m \u001b[0;34m=\u001b[0m \u001b[0mtime\u001b[0m\u001b[0;34m(\u001b[0m\u001b[0;34m)\u001b[0m\u001b[0;34m\u001b[0m\u001b[0m\n\u001b[0;32m----> 2\u001b[0;31m \u001b[0mpred\u001b[0m \u001b[0;34m=\u001b[0m \u001b[0mpredict_multiclass\u001b[0m\u001b[0;34m(\u001b[0m\u001b[0mmodels\u001b[0m\u001b[0;34m,\u001b[0m \u001b[0mte\u001b[0m\u001b[0;34m[\u001b[0m\u001b[0;34m:\u001b[0m\u001b[0;34m,\u001b[0m\u001b[0;34m:\u001b[0m\u001b[0;34m-\u001b[0m\u001b[0;36m1\u001b[0m\u001b[0;34m]\u001b[0m\u001b[0;34m/\u001b[0m\u001b[0;36m255\u001b[0m\u001b[0;34m,\u001b[0m \u001b[0mcomb\u001b[0m\u001b[0;34m)\u001b[0m\u001b[0;34m\u001b[0m\u001b[0m\n\u001b[0m\u001b[1;32m      3\u001b[0m \u001b[0mprint\u001b[0m\u001b[0;34m(\u001b[0m\u001b[0;34m'Predicted in %.2f minutes.'\u001b[0m\u001b[0;34m%\u001b[0m\u001b[0;34m(\u001b[0m\u001b[0;34m(\u001b[0m\u001b[0mtime\u001b[0m\u001b[0;34m(\u001b[0m\u001b[0;34m)\u001b[0m\u001b[0;34m-\u001b[0m\u001b[0mt0\u001b[0m\u001b[0;34m)\u001b[0m\u001b[0;34m/\u001b[0m\u001b[0;36m60\u001b[0m\u001b[0;34m)\u001b[0m\u001b[0;34m)\u001b[0m\u001b[0;34m\u001b[0m\u001b[0m\n",
      "\u001b[0;31mNameError\u001b[0m: name 'predict_multiclass' is not defined"
     ]
    }
   ],
   "source": [
    "t0 = time()\n",
    "pred = predict_multiclass(models, te[:,:-1]/255, comb)\n",
    "print('Predicted in %.2f minutes.'%((time()-t0)/60))\n",
    "\n",
    "metrics.accuracy_score(te[:,-1].ravel(), np.array(pred))"
   ]
  },
  {
   "cell_type": "code",
   "execution_count": 14,
   "metadata": {},
   "outputs": [],
   "source": [
    "comb = list(combinations(range(10),2))"
   ]
  },
  {
   "cell_type": "code",
   "execution_count": 63,
   "metadata": {},
   "outputs": [
    {
     "name": "stderr",
     "output_type": "stream",
     "text": [
      "\n",
      "Generating Predictions:   0%|          | 0/45 [00:00<?, ?it/s]\u001b[A\n",
      "Generating Predictions:  53%|█████▎    | 24/45 [00:07<00:06,  3.40it/s]\u001b[A\n",
      "Generating Predictions: 100%|██████████| 45/45 [00:17<00:00,  2.59it/s]\u001b[A\n"
     ]
    },
    {
     "name": "stdout",
     "output_type": "stream",
     "text": [
      "Predicted in 0.85 minutes.\n"
     ]
    }
   ],
   "source": [
    "t0 = time()\n",
    "pred_val = predict_multiclass(models, va[:,:-1]/255, comb)\n",
    "print('Predicted in %.2f minutes.'%((time()-t0)/60))"
   ]
  },
  {
   "cell_type": "code",
   "execution_count": 64,
   "metadata": {},
   "outputs": [
    {
     "name": "stderr",
     "output_type": "stream",
     "text": [
      "/home/hetpatel/.local/lib/python3.6/site-packages/ipykernel_launcher.py:133: DeprecationWarning: elementwise comparison failed; this will raise an error in the future.\n"
     ]
    },
    {
     "ename": "TypeError",
     "evalue": "'bool' object is not iterable",
     "output_type": "error",
     "traceback": [
      "\u001b[0;31m---------------------------------------------------------------------------\u001b[0m",
      "\u001b[0;31mTypeError\u001b[0m                                 Traceback (most recent call last)",
      "\u001b[0;32m<ipython-input-64-d3d07b7da228>\u001b[0m in \u001b[0;36m<module>\u001b[0;34m\u001b[0m\n\u001b[0;32m----> 1\u001b[0;31m \u001b[0mmetrics\u001b[0m\u001b[0;34m.\u001b[0m\u001b[0maccuracy_score\u001b[0m\u001b[0;34m(\u001b[0m\u001b[0mva\u001b[0m\u001b[0;34m[\u001b[0m\u001b[0;34m:\u001b[0m\u001b[0;34m,\u001b[0m\u001b[0;34m-\u001b[0m\u001b[0;36m1\u001b[0m\u001b[0;34m]\u001b[0m\u001b[0;34m.\u001b[0m\u001b[0mravel\u001b[0m\u001b[0;34m(\u001b[0m\u001b[0;34m)\u001b[0m\u001b[0;34m,\u001b[0m \u001b[0mnp\u001b[0m\u001b[0;34m.\u001b[0m\u001b[0marray\u001b[0m\u001b[0;34m(\u001b[0m\u001b[0mpred_val\u001b[0m\u001b[0;34m)\u001b[0m\u001b[0;34m)\u001b[0m\u001b[0;34m\u001b[0m\u001b[0m\n\u001b[0m",
      "\u001b[0;32m<ipython-input-3-de8983103a8b>\u001b[0m in \u001b[0;36maccuracy_score\u001b[0;34m(y_true, y_pred)\u001b[0m\n\u001b[1;32m    131\u001b[0m \u001b[0;34m\u001b[0m\u001b[0m\n\u001b[1;32m    132\u001b[0m     \u001b[0;32mdef\u001b[0m \u001b[0maccuracy_score\u001b[0m\u001b[0;34m(\u001b[0m\u001b[0my_true\u001b[0m\u001b[0;34m,\u001b[0m \u001b[0my_pred\u001b[0m\u001b[0;34m)\u001b[0m\u001b[0;34m:\u001b[0m\u001b[0;34m\u001b[0m\u001b[0m\n\u001b[0;32m--> 133\u001b[0;31m         \u001b[0mtrue\u001b[0m \u001b[0;34m=\u001b[0m \u001b[0msum\u001b[0m\u001b[0;34m(\u001b[0m\u001b[0my_true\u001b[0m\u001b[0;34m.\u001b[0m\u001b[0mravel\u001b[0m\u001b[0;34m(\u001b[0m\u001b[0;34m)\u001b[0m \u001b[0;34m==\u001b[0m \u001b[0my_pred\u001b[0m\u001b[0;34m.\u001b[0m\u001b[0mravel\u001b[0m\u001b[0;34m(\u001b[0m\u001b[0;34m)\u001b[0m\u001b[0;34m)\u001b[0m\u001b[0;34m\u001b[0m\u001b[0m\n\u001b[0m\u001b[1;32m    134\u001b[0m         \u001b[0;32mreturn\u001b[0m \u001b[0mtrue\u001b[0m\u001b[0;34m*\u001b[0m\u001b[0;36m100\u001b[0m\u001b[0;34m/\u001b[0m\u001b[0mlen\u001b[0m\u001b[0;34m(\u001b[0m\u001b[0my_true\u001b[0m\u001b[0;34m)\u001b[0m\u001b[0;34m\u001b[0m\u001b[0m\n",
      "\u001b[0;31mTypeError\u001b[0m: 'bool' object is not iterable"
     ]
    }
   ],
   "source": [
    "metrics.accuracy_score(va[:,-1].ravel(), np.array(pred_val))"
   ]
  },
  {
   "cell_type": "code",
   "execution_count": 14,
   "metadata": {},
   "outputs": [
    {
     "name": "stderr",
     "output_type": "stream",
     "text": [
      "Generating Predictions: 100%|██████████| 45/45 [06:14<00:00,  8.33s/it]\n",
      "100%|██████████| 22500/22500 [00:02<00:00, 8971.49it/s]\n",
      "100%|██████████| 22500/22500 [00:01<00:00, 17480.59it/s]\n"
     ]
    },
    {
     "name": "stdout",
     "output_type": "stream",
     "text": [
      "Predicted in 9.37 minutes.\n"
     ]
    }
   ],
   "source": [
    "t0 = time()\n",
    "pred_train = predict_multiclass(models, tr[:,:-1]/255, comb)\n",
    "print('Predicted in %.2f minutes.'%((time()-t0)/60))"
   ]
  },
  {
   "cell_type": "code",
   "execution_count": 16,
   "metadata": {},
   "outputs": [
    {
     "data": {
      "text/plain": [
       "96.52"
      ]
     },
     "execution_count": 16,
     "metadata": {},
     "output_type": "execute_result"
    }
   ],
   "source": [
    "metrics.accuracy_score(tr[:,-1].ravel(), np.array(pred_train))"
   ]
  },
  {
   "cell_type": "code",
   "execution_count": 18,
   "metadata": {},
   "outputs": [
    {
     "name": "stderr",
     "output_type": "stream",
     "text": [
      "\n",
      "\n",
      "\n",
      "OneVsOne Models generation:   0%|          | 0/45 [00:00<?, ?it/s]\u001b[A\u001b[A\u001b[A\n",
      "\n",
      "\n",
      "OneVsOne Models generation:  24%|██▍       | 11/45 [00:00<00:00, 75.91it/s]\u001b[A\u001b[A\u001b[A\n",
      "\n",
      "\n",
      "OneVsOne Models generation:  24%|██▍       | 11/45 [00:14<00:00, 75.91it/s]\u001b[A\u001b[A\u001b[A\n",
      "\n",
      "\n",
      "OneVsOne Models generation:  49%|████▉     | 22/45 [00:34<00:21,  1.06it/s]\u001b[A\u001b[A\u001b[A\n",
      "\n",
      "\n",
      "OneVsOne Models generation:  73%|███████▎  | 33/45 [01:22<00:23,  1.99s/it]\u001b[A\u001b[A\u001b[A\n",
      "\n",
      "\n",
      "OneVsOne Models generation: 100%|██████████| 45/45 [02:35<00:00,  3.45s/it]\u001b[A\u001b[A\u001b[A\n"
     ]
    }
   ],
   "source": [
    "sklearnModels = list()\n",
    "\n",
    "def getSklearnModel(c1, c2):\n",
    "    (X_train, Y_train, X_val, Y_val, X_test, Y_test) = getData(tr, te, va, class1=c1, class2=c2)    \n",
    "    model = SVC(C=1, kernel='rbf', gamma=0.05, probability=True)\n",
    "    model.fit(X_train, Y_train.ravel())\n",
    "    return model\n",
    "\n",
    "results = Parallel(n_jobs=-2)(delayed(getSklearnModel)(c1, c2) for (c1,c2) in tqdm(comb, desc='OneVsOne Models generation'))\n",
    "# for (c1,c2) in tqdm(combinations):\n",
    "#     sklearnModels.append(getSklearnModel(c1,c2))"
   ]
  },
  {
   "cell_type": "code",
   "execution_count": 51,
   "metadata": {},
   "outputs": [],
   "source": [
    "pred_proba = results[0].predict_proba(va[:,:-1]/255)"
   ]
  },
  {
   "cell_type": "code",
   "execution_count": 52,
   "metadata": {},
   "outputs": [
    {
     "data": {
      "text/plain": [
       "(2500, 2)"
      ]
     },
     "execution_count": 52,
     "metadata": {},
     "output_type": "execute_result"
    }
   ],
   "source": [
    "pred_proba.shape"
   ]
  },
  {
   "cell_type": "code",
   "execution_count": 54,
   "metadata": {},
   "outputs": [
    {
     "data": {
      "text/plain": [
       "(2500,)"
      ]
     },
     "execution_count": 54,
     "metadata": {},
     "output_type": "execute_result"
    }
   ],
   "source": [
    "pred_proba.max(axis=1).shape"
   ]
  }
 ],
 "metadata": {
  "kernelspec": {
   "display_name": "Python 3",
   "language": "python",
   "name": "python3"
  },
  "language_info": {
   "codemirror_mode": {
    "name": "ipython",
    "version": 3
   },
   "file_extension": ".py",
   "mimetype": "text/x-python",
   "name": "python",
   "nbconvert_exporter": "python",
   "pygments_lexer": "ipython3",
   "version": "3.6.5"
  }
 },
 "nbformat": 4,
 "nbformat_minor": 4
}
