{
 "cells": [
  {
   "cell_type": "code",
   "execution_count": 8,
   "metadata": {},
   "outputs": [],
   "source": [
    "import pandas as pd\n",
    "from tqdm import tqdm\n",
    "import numpy as np\n",
    "import matplotlib.pyplot as plt\n",
    "import seaborn as sns\n",
    "\n",
    "import math\n",
    "import random\n",
    "import re \n",
    "from time import time\n",
    "import pickle\n",
    "\n",
    "from nltk.corpus import stopwords\n",
    "from nltk.stem import PorterStemmer\n",
    "from nltk.stem.wordnet import WordNetLemmatizer\n",
    "import nltk\n",
    "import re\n",
    "\n",
    "from sklearn.feature_extraction.text import TfidfVectorizer\n",
    "from sklearn.naive_bayes import GaussianNB\n",
    "\n",
    "from joblib import Parallel, delayed\n",
    "import multiprocessing\n",
    "\n",
    "from sklearn.metrics import roc_curve, auc\n",
    "from sklearn.metrics import roc_auc_score\n",
    "\n",
    "from scipy.stats import boxcox\n",
    "from sklearn.preprocessing import  StandardScaler"
   ]
  },
  {
   "cell_type": "markdown",
   "metadata": {},
   "source": [
    "# Part (a) : Implementing Naive Bayes and getting accuracy on Train and Test Datasets."
   ]
  },
  {
   "cell_type": "code",
   "execution_count": 9,
   "metadata": {},
   "outputs": [],
   "source": [
    "class NaiveBayes:\n",
    "    \n",
    "    dict0, dict4 = dict(), dict()\n",
    "    phi0, phi4, = 0, 0\n",
    "    n0, n4, = 0, 0\n",
    "    vocab=list()\n",
    "    v=0\n",
    "    \n",
    "    def __init__(self):\n",
    "        dict0, dict4 = dict(), dict()\n",
    "        \n",
    "    def fit(self, X_train, Y_train):\n",
    "        #----Creating vocabulary-----\n",
    "        st = set()\n",
    "        for doc in tqdm(X_train, desc='Generating Vocabulary'):\n",
    "            for word in re.split(',|\\.|;| ', doc) :\n",
    "                st.add(word)\n",
    "        self.vocab = list(st) # List of vocabulary\n",
    "        self.v=len(self.vocab) #Vocabulary size\n",
    "    \n",
    "        #Splitting Dataset According to label\n",
    "        X_train_0 = np.array(X_train)[np.where(Y_train == 0)]\n",
    "        X_train_4 = np.array(X_train)[np.where(Y_train == 4)]\n",
    "\n",
    "        #Creating empty dictionaries for every class\n",
    "        self.dict0 = dict(zip(self.vocab, np.zeros(len(self.vocab), dtype=int)))\n",
    "        self.dict4 = dict(zip(self.vocab, np.zeros(len(self.vocab), dtype=int)))\n",
    "\n",
    "        #Counting occurance of each word in all three classes and then updating \n",
    "        #corrsponding dictionary\n",
    "        for stat in tqdm(X_train_0, desc='Generating Theta List for Label=0'):\n",
    "            for word in re.split(',|\\.|;| ', stat):\n",
    "                self.dict0[word] = self.dict0[word]+1\n",
    "        for stat in tqdm(X_train_4, desc='Generating Theta List for Label=4'):\n",
    "            for word in re.split(',|\\.|;| ', stat):\n",
    "                self.dict4[word] = self.dict4[word]+1\n",
    "\n",
    "        #----Finding number of words in all these three classes\n",
    "        self.n0 = sum(list(self.dict0.values()))\n",
    "        self.n4 = sum(list(self.dict4.values()))\n",
    "        \n",
    "        #----Finding class priors\n",
    "        self.phi0 = (X_train_0.shape[0]+1) / (X_train.shape[0]+2)\n",
    "        self.phi4 = (X_train_4.shape[0]+1) / (X_train.shape[0]+2)\n",
    "\n",
    "    def pred(self, X):\n",
    "        pred_lst=list()\n",
    "        for x in tqdm(X, desc='Generating Predictions'):\n",
    "            prob0 = math.log(self.phi0) #if self.phi0!=0 else 0\n",
    "            prob4 = math.log(self.phi4) #if self.phi4!=0 else 0\n",
    "            for word in re.split(',|\\.|;| ', x):\n",
    "                prob0 += math.log(((self.dict0.get(word)+1) if self.dict0.get(word)!=None else 1)/(self.n0+self.v))\n",
    "                prob4 += math.log(((self.dict4.get(word)+1) if self.dict4.get(word)!=None else 1)/(self.n4+self.v))\n",
    "            pred_lst.append(4*(np.array([prob0, prob4]).argmax()))\n",
    "        return pred_lst\n",
    "    \n",
    "    def getAccuracy(self, y_true, y_pred):\n",
    "        unique, counts = np.unique(y_true==y_pred, return_counts=True)\n",
    "        return (counts[1] if unique[1] else counts[0])*100/(counts[1]+counts[0])  \n",
    "\n",
    "    \n",
    "    def randomPred(self, size):\n",
    "        choices = [0,4]\n",
    "        pred = list()\n",
    "        for x in range(size):\n",
    "            pred.append(random.choice(choices))\n",
    "        return pred\n",
    "    \n",
    "    def majorityPred(self, size):\n",
    "        choices = [0]\n",
    "        pred = list()\n",
    "        for x in range(size):\n",
    "            pred.append(random.choice(choices))\n",
    "        return pred\n",
    "        \n",
    "    def confusionMatrix(self, y_true, y_pred, title = 'Confusion Matrix'):\n",
    "        cm=np.zeros((2,2), dtype=int)\n",
    "        for (y_hat, y) in zip(y_pred, y_true):\n",
    "            cm[y_hat//4][y//4] += 1\n",
    "        \n",
    "        sns.heatmap(cm, annot=True, fmt=\"d\",linecolor='black',linewidth='0.1', \\\n",
    "        cmap=['lightgray', 'grey', 'grey', 'grey', 'grey', 'grey'],xticklabels=[0,4], yticklabels=[0,4])\n",
    "        plt.xlabel('Actual')\n",
    "        plt.ylabel('Predicted')\n",
    "        plt.title(title)\n",
    "        plt.show()\n",
    "        \n",
    "    def logProba(self, X):\n",
    "        pred_lst=list()\n",
    "        for x in tqdm(X, desc='Generating Log Probabilities'):\n",
    "            prob4 = math.log(self.phi4) #if self.phi0!=0 else 0\n",
    "            for word in re.split(',|\\.|;| ', x):\n",
    "                prob4 += math.log(((self.dict4.get(word)+1) if self.dict4.get(word)!=None else 1)/(self.n4+self.v))\n",
    "            pred_lst.append(prob4)\n",
    "        return pred_lst\n",
    "\n",
    "    def logProba0(self, X):\n",
    "        pred_lst=list()\n",
    "        for x in tqdm(X, desc='Generating Log Probabilities'):\n",
    "            prob0 = math.log(self.phi0) #if self.phi0!=0 else 0\n",
    "            for word in re.split(',|\\.|;| ', x):\n",
    "                prob0 += math.log(((self.dict0.get(word)+1) if self.dict0.get(word)!=None else 1)/(self.n0+self.v))\n",
    "            pred_lst.append(prob0)\n",
    "        return pred_lst"
   ]
  },
  {
   "cell_type": "code",
   "execution_count": 10,
   "metadata": {},
   "outputs": [],
   "source": [
    "train_data = pd.read_csv('./training.1600000.processed.noemoticon.csv', sep=',', encoding='latin-1', names=['polarity', 'id', 'date', 'query', 'user', 'text'])\n",
    "\n",
    "X_train = train_data['text']\n",
    "Y_train = train_data['polarity'] \n",
    "\n",
    "test_data = pd.read_csv('./testdata.manual.2009.06.14.csv', sep=',', encoding='latin-1', names=['polarity', 'id', 'date', 'query', 'user', 'text'])\n",
    "\n",
    "X_test = test_data['text']\n",
    "Y_test = test_data['polarity']\n",
    "\n",
    "X_test_new_0 = np.array(X_test)[np.where(Y_test==0)]# or Y_test==4)]\n",
    "X_test_new_4 = np.array(X_test)[np.where(Y_test==4)]\n",
    "\n",
    "X_test = np.concatenate((X_test_new_0, X_test_new_4))\n",
    "Y_test = pd.Series(np.concatenate((np.zeros(X_test_new_0.shape[0]), np.zeros(X_test_new_4.shape[0])+4)), dtype=int)"
   ]
  },
  {
   "cell_type": "code",
   "execution_count": 27,
   "metadata": {},
   "outputs": [],
   "source": [
    "vc = train_data.drop_duplicates(subset=['id','text'], keep='first')['polarity'].value_counts()"
   ]
  },
  {
   "cell_type": "code",
   "execution_count": 37,
   "metadata": {},
   "outputs": [
    {
     "data": {
      "text/plain": [
       "1685"
      ]
     },
     "execution_count": 37,
     "metadata": {},
     "output_type": "execute_result"
    }
   ],
   "source": [
    "vc[0]-vc[4]"
   ]
  },
  {
   "cell_type": "code",
   "execution_count": 16,
   "metadata": {},
   "outputs": [
    {
     "name": "stderr",
     "output_type": "stream",
     "text": [
      "Generating Vocabulary: 100%|██████████| 1600000/1600000 [00:07<00:00, 201511.47it/s]\n",
      "Generating Theta List for Label=0: 100%|██████████| 800000/800000 [00:07<00:00, 100193.08it/s]\n",
      "Generating Theta List for Label=4: 100%|██████████| 800000/800000 [00:07<00:00, 101345.29it/s]\n",
      "Generating Predictions: 100%|██████████| 1600000/1600000 [01:04<00:00, 24979.05it/s]\n",
      "Generating Log Probabilities: 100%|██████████| 1600000/1600000 [00:31<00:00, 50288.30it/s]\n",
      "Generating Predictions: 100%|██████████| 359/359 [00:00<00:00, 22769.97it/s]\n",
      "Generating Log Probabilities: 100%|██████████| 359/359 [00:00<00:00, 49323.74it/s]"
     ]
    },
    {
     "name": "stdout",
     "output_type": "stream",
     "text": [
      "Accuracy on Train Data :  84.8620625\n",
      "Accuracy on Test Data :  81.05849582172702\n"
     ]
    },
    {
     "name": "stderr",
     "output_type": "stream",
     "text": [
      "\n"
     ]
    }
   ],
   "source": [
    "nb=NaiveBayes()\n",
    "\n",
    "nb.fit(X_train, Y_train)\n",
    "\n",
    "train_pred = nb.pred(X_train)\n",
    "train_proba = nb.logProba(X_train)\n",
    "print('Accuracy on Train Data : ',nb.getAccuracy(Y_train, train_pred))\n",
    "\n",
    "test_pred = nb.pred(X_test)\n",
    "test_proba = nb.logProba(X_test)\n",
    "print('Accuracy on Test Data : ',nb.getAccuracy(Y_test, test_pred))"
   ]
  },
  {
   "cell_type": "markdown",
   "metadata": {},
   "source": [
    "# Part (b) : Getting Lower bound on accuracy by finding accuracy of test data using random prediction and majority vote prediction"
   ]
  },
  {
   "cell_type": "code",
   "execution_count": 12,
   "metadata": {},
   "outputs": [
    {
     "name": "stdout",
     "output_type": "stream",
     "text": [
      "Accuracy of Random predictor on Test Data :  52.36768802228412\n",
      "Accuracy of Majority Vote predictor on Test Data :  49.30362116991643\n"
     ]
    }
   ],
   "source": [
    "random_pred = nb.randomPred(Y_test.shape[0])\n",
    "print('Accuracy of Random predictor on Test Data : ',nb.getAccuracy(Y_test, random_pred))\n",
    "\n",
    "majority_pred = nb.majorityPred(Y_test.shape[0])\n",
    "print('Accuracy of Majority Vote predictor on Test Data : ',nb.getAccuracy(Y_test, majority_pred))"
   ]
  },
  {
   "cell_type": "markdown",
   "metadata": {},
   "source": [
    "# Part (c) : Plotting Confusion matrix for the Train as well as Test Dataset for our Model"
   ]
  },
  {
   "cell_type": "code",
   "execution_count": 13,
   "metadata": {},
   "outputs": [
    {
     "data": {
      "image/png": "[encoded data removed]",
      "text/plain": [
       "<Figure size 432x288 with 2 Axes>"
      ]
     },
     "metadata": {
      "needs_background": "light"
     },
     "output_type": "display_data"
    }
   ],
   "source": [
    "nb.confusionMatrix(Y_train, train_pred, title='Confusion matrix for Train Dataset')"
   ]
  },
  {
   "cell_type": "code",
   "execution_count": 14,
   "metadata": {},
   "outputs": [
    {
     "data": {
      "image/png": "[encoded data removed]",
      "text/plain": [
       "<Figure size 432x288 with 2 Axes>"
      ]
     },
     "metadata": {
      "needs_background": "light"
     },
     "output_type": "display_data"
    }
   ],
   "source": [
    "nb.confusionMatrix(Y_test, test_pred, title='Confusion matrix for Test Dataset')"
   ]
  },
  {
   "cell_type": "markdown",
   "metadata": {},
   "source": [
    "# Part (d) : Stemming, Removing Stopwords and cleaning Data "
   ]
  },
  {
   "cell_type": "code",
   "execution_count": 10,
   "metadata": {},
   "outputs": [],
   "source": [
    "stop = set(stopwords.words('english')) #set of stopwords\n",
    "sno = nltk.stem.SnowballStemmer('english') #initialising the snowball stemmer"
   ]
  },
  {
   "cell_type": "code",
   "execution_count": 11,
   "metadata": {},
   "outputs": [],
   "source": [
    "stop.remove('not')\n",
    "stop.remove('no')\n",
    "\n",
    "new_stop = set()\n",
    "for word in stop:\n",
    "    if word.endswith('n\\'t'):\n",
    "        continue\n",
    "    else:\n",
    "        new_stop.add(word)\n",
    "stop = new_stop"
   ]
  },
  {
   "cell_type": "code",
   "execution_count": 12,
   "metadata": {},
   "outputs": [],
   "source": [
    "def cleanUserName(sentence): #function to clean the word of any html-tags\n",
    "    cleanr = re.compile('@\\S*')\n",
    "    cleantext = re.sub(cleanr, '', sentence)\n",
    "    return cleantext"
   ]
  },
  {
   "cell_type": "code",
   "execution_count": 13,
   "metadata": {},
   "outputs": [],
   "source": [
    "def cleanData(X):\n",
    "    i=0\n",
    "    str1=' '\n",
    "    final_string=[]\n",
    "    s=''\n",
    "    for sent in tqdm(X):\n",
    "        filtered_sentence=[]\n",
    "        sent=cleanUserName(sent) # remove Twitter user Names\n",
    "        for word in re.split(',|\\.|;| ', sent):\n",
    "            if((word.isalpha()) & (len(word)>2)):\n",
    "                if(word.lower() not in stop):\n",
    "                    s=(sno.stem(word.lower())).encode('utf8')\n",
    "                    filtered_sentence.append(s)\n",
    "            else:\n",
    "                continue\n",
    "        str1 = b\" \".join(filtered_sentence) #final string of cleaned words\n",
    "        final_string.append(str1.decode('utf-8'))\n",
    "        i+=1\n",
    "    return np.array(final_string)"
   ]
  },
  {
   "cell_type": "code",
   "execution_count": 14,
   "metadata": {},
   "outputs": [
    {
     "name": "stderr",
     "output_type": "stream",
     "text": [
      "100%|██████████| 1600000/1600000 [02:09<00:00, 12337.15it/s]\n"
     ]
    }
   ],
   "source": [
    "X_train_cleaned = cleanData(X_train)"
   ]
  },
  {
   "cell_type": "code",
   "execution_count": 15,
   "metadata": {},
   "outputs": [
    {
     "name": "stderr",
     "output_type": "stream",
     "text": [
      "100%|██████████| 359/359 [00:00<00:00, 6187.69it/s]\n"
     ]
    }
   ],
   "source": [
    "X_test_cleaned = cleanData(X_test)"
   ]
  },
  {
   "cell_type": "code",
   "execution_count": 16,
   "metadata": {
    "scrolled": true
   },
   "outputs": [
    {
     "name": "stderr",
     "output_type": "stream",
     "text": [
      "Generating Vocabulary: 100%|██████████| 1600000/1600000 [00:05<00:00, 302983.94it/s]\n",
      "Generating Theta List for Label=0: 100%|██████████| 800000/800000 [00:05<00:00, 153974.36it/s]\n",
      "Generating Theta List for Label=4: 100%|██████████| 800000/800000 [00:04<00:00, 160802.29it/s]\n",
      "Generating Predictions: 100%|██████████| 1600000/1600000 [00:33<00:00, 47600.90it/s]\n",
      "Generating Log Probabilities: 100%|██████████| 1600000/1600000 [00:18<00:00, 87892.17it/s] \n",
      "Generating Predictions: 100%|██████████| 359/359 [00:00<00:00, 45887.58it/s]\n",
      "Generating Log Probabilities: 100%|██████████| 359/359 [00:00<00:00, 99534.32it/s]"
     ]
    },
    {
     "name": "stdout",
     "output_type": "stream",
     "text": [
      "Accuracy on Train Data : 77.83 %\n",
      "Accuracy on Test Data : 79.94 %\n"
     ]
    },
    {
     "name": "stderr",
     "output_type": "stream",
     "text": [
      "\n"
     ]
    }
   ],
   "source": [
    "nb_cleaned = NaiveBayes()\n",
    "\n",
    "nb_cleaned.fit(X_train_cleaned, Y_train)\n",
    "\n",
    "train_pred_cleaned = nb_cleaned.pred(X_train_cleaned)\n",
    "train_proba_cleaned = nb_cleaned.logProba(X_train_cleaned)\n",
    "print('Accuracy on Train Data : %.2f %c'%(nb_cleaned.getAccuracy(Y_train, train_pred_cleaned),'%'))\n",
    "\n",
    "test_pred_cleaned = nb_cleaned.pred(X_test_cleaned)\n",
    "test_proba_cleaned = nb_cleaned.logProba(X_test_cleaned)\n",
    "print('Accuracy on Test Data : %.2f %c'%(nb_cleaned.getAccuracy(Y_test, test_pred_cleaned),'%'))"
   ]
  },
  {
   "cell_type": "markdown",
   "metadata": {},
   "source": [
    "# Part (f) : tf-idf"
   ]
  },
  {
   "cell_type": "code",
   "execution_count": 4,
   "metadata": {},
   "outputs": [],
   "source": [
    "with open('X_train_cleaned.pkl', 'rb') as f:\n",
    "    X_train_cleaned = pickle.load(f)\n",
    "with open('X_test_cleaned.pkl', 'rb') as f:\n",
    "    X_test_cleaned = pickle.load(f)"
   ]
  },
  {
   "cell_type": "code",
   "execution_count": 5,
   "metadata": {
    "scrolled": false
   },
   "outputs": [
    {
     "name": "stdout",
     "output_type": "stream",
     "text": [
      "Shape of X_tr :  (1600000, 190769)\n"
     ]
    }
   ],
   "source": [
    "\n",
    "tfidf = TfidfVectorizer()\n",
    "\n",
    "X_tr = tfidf.fit_transform(X_train_cleaned)\n",
    "X_te = tfidf.transform(X_test_cleaned)\n",
    "\n",
    "print('Shape of X_tr : ',X_tr.shape)"
   ]
  },
  {
   "cell_type": "code",
   "execution_count": 8,
   "metadata": {},
   "outputs": [
    {
     "name": "stderr",
     "output_type": "stream",
     "text": [
      "\n",
      "  0%|          | 0/1000 [00:00<?, ?it/s]\u001b[A\n",
      "  0%|          | 1/1000 [00:01<19:23,  1.16s/it]\u001b[A\n",
      "  1%|          | 7/1000 [00:01<13:34,  1.22it/s]\u001b[A\n",
      "  2%|▏         | 15/1000 [00:01<09:30,  1.73it/s]\u001b[A\n",
      "  2%|▏         | 23/1000 [00:01<06:40,  2.44it/s]\u001b[A\n",
      "  3%|▎         | 31/1000 [00:01<04:42,  3.43it/s]\u001b[A\n",
      "  4%|▍         | 39/1000 [00:01<03:20,  4.78it/s]\u001b[A\n",
      "  5%|▍         | 47/1000 [00:01<02:23,  6.62it/s]\u001b[A\n",
      "  6%|▌         | 55/1000 [00:02<01:44,  9.05it/s]\u001b[A\n",
      "  6%|▋         | 63/1000 [00:02<01:16, 12.17it/s]\u001b[A\n",
      "  7%|▋         | 71/1000 [00:02<00:57, 16.03it/s]\u001b[A\n",
      "  8%|▊         | 79/1000 [00:02<00:44, 20.65it/s]\u001b[A\n",
      "  9%|▊         | 87/1000 [00:02<00:35, 25.74it/s]\u001b[A\n",
      "  9%|▉         | 94/1000 [00:02<00:28, 31.77it/s]\u001b[A\n",
      " 10%|█         | 101/1000 [00:02<00:24, 36.96it/s]\u001b[A\n",
      " 11%|█         | 108/1000 [00:02<00:21, 41.88it/s]\u001b[A\n",
      " 12%|█▏        | 115/1000 [00:02<00:19, 46.33it/s]\u001b[A\n",
      " 12%|█▏        | 122/1000 [00:03<00:17, 50.04it/s]\u001b[A\n",
      " 13%|█▎        | 129/1000 [00:03<00:16, 52.97it/s]\u001b[A\n",
      " 14%|█▎        | 136/1000 [00:03<00:15, 55.20it/s]\u001b[A\n",
      " 14%|█▍        | 143/1000 [00:03<00:15, 56.99it/s]\u001b[A\n",
      " 15%|█▌        | 151/1000 [00:03<00:14, 58.70it/s]\u001b[A\n",
      " 16%|█▌        | 159/1000 [00:03<00:14, 59.33it/s]\u001b[A\n",
      " 17%|█▋        | 167/1000 [00:03<00:13, 60.07it/s]\u001b[A\n",
      " 17%|█▋        | 174/1000 [00:03<00:13, 62.43it/s]\u001b[A\n",
      " 18%|█▊        | 181/1000 [00:04<00:13, 61.30it/s]\u001b[A\n",
      " 19%|█▉        | 188/1000 [00:04<00:13, 60.47it/s]\u001b[A\n",
      " 20%|█▉        | 195/1000 [00:04<00:13, 59.89it/s]\u001b[A\n",
      " 20%|██        | 202/1000 [00:04<00:13, 59.52it/s]\u001b[A\n",
      " 21%|██        | 208/1000 [00:04<00:13, 58.78it/s]\u001b[A\n",
      " 22%|██▏       | 215/1000 [00:04<00:13, 58.84it/s]\u001b[A\n",
      " 22%|██▏       | 223/1000 [00:04<00:13, 59.39it/s]\u001b[A\n",
      " 23%|██▎       | 231/1000 [00:04<00:12, 60.19it/s]\u001b[A\n",
      " 24%|██▍       | 238/1000 [00:05<00:12, 62.75it/s]\u001b[A\n",
      " 24%|██▍       | 245/1000 [00:05<00:12, 61.19it/s]\u001b[A\n",
      " 25%|██▌       | 252/1000 [00:05<00:12, 60.18it/s]\u001b[A\n",
      " 26%|██▌       | 259/1000 [00:05<00:12, 59.28it/s]\u001b[A\n",
      " 26%|██▋       | 265/1000 [00:05<00:12, 58.55it/s]\u001b[A\n",
      " 27%|██▋       | 271/1000 [00:05<00:12, 58.28it/s]\u001b[A\n",
      " 28%|██▊       | 279/1000 [00:05<00:12, 59.24it/s]\u001b[A\n",
      " 29%|██▊       | 287/1000 [00:05<00:11, 60.42it/s]\u001b[A\n",
      " 30%|██▉       | 295/1000 [00:05<00:11, 61.14it/s]\u001b[A\n",
      " 30%|███       | 303/1000 [00:06<00:11, 61.29it/s]\u001b[A\n",
      " 31%|███       | 311/1000 [00:06<00:11, 61.85it/s]\u001b[A\n",
      " 32%|███▏      | 319/1000 [00:06<00:10, 62.18it/s]\u001b[A\n",
      " 33%|███▎      | 327/1000 [00:06<00:10, 61.76it/s]\u001b[A\n",
      " 33%|███▎      | 334/1000 [00:06<00:10, 63.88it/s]\u001b[A\n",
      " 34%|███▍      | 341/1000 [00:06<00:10, 62.29it/s]\u001b[A\n",
      " 35%|███▍      | 348/1000 [00:06<00:10, 60.88it/s]\u001b[A\n",
      " 36%|███▌      | 355/1000 [00:06<00:10, 60.25it/s]\u001b[A\n",
      " 36%|███▌      | 362/1000 [00:07<00:10, 59.66it/s]\u001b[A\n",
      " 37%|███▋      | 368/1000 [00:07<00:10, 58.84it/s]\u001b[A\n",
      " 38%|███▊      | 375/1000 [00:07<00:10, 59.07it/s]\u001b[A\n",
      " 38%|███▊      | 383/1000 [00:07<00:10, 60.09it/s]\u001b[A\n",
      " 39%|███▉      | 391/1000 [00:07<00:10, 60.70it/s]\u001b[A\n",
      " 40%|███▉      | 399/1000 [00:07<00:09, 60.69it/s]\u001b[A\n",
      " 41%|████      | 406/1000 [00:07<00:09, 62.95it/s]\u001b[A\n",
      " 41%|████▏     | 413/1000 [00:07<00:09, 61.26it/s]\u001b[A\n",
      " 42%|████▏     | 420/1000 [00:08<00:09, 60.02it/s]\u001b[A\n",
      " 43%|████▎     | 427/1000 [00:08<00:09, 59.90it/s]\u001b[A\n",
      " 43%|████▎     | 434/1000 [00:08<00:09, 60.03it/s]\u001b[A\n",
      " 44%|████▍     | 441/1000 [00:08<00:09, 60.05it/s]\u001b[A\n",
      " 45%|████▍     | 448/1000 [00:08<00:09, 60.05it/s]\u001b[A\n",
      " 46%|████▌     | 455/1000 [00:08<00:09, 60.14it/s]\u001b[A\n",
      " 46%|████▋     | 463/1000 [00:08<00:08, 60.96it/s]\u001b[A\n",
      " 47%|████▋     | 471/1000 [00:08<00:08, 61.62it/s]\u001b[A\n",
      " 48%|████▊     | 479/1000 [00:08<00:08, 61.89it/s]\u001b[A\n",
      " 49%|████▊     | 487/1000 [00:09<00:08, 62.12it/s]\u001b[A\n",
      " 49%|████▉     | 494/1000 [00:09<00:07, 64.17it/s]\u001b[A\n",
      " 50%|█████     | 501/1000 [00:09<00:07, 65.46it/s]\u001b[A\n",
      " 51%|█████     | 508/1000 [00:09<00:07, 66.66it/s]\u001b[A\n",
      " 52%|█████▏    | 515/1000 [00:09<00:07, 67.62it/s]\u001b[A\n",
      " 52%|█████▏    | 523/1000 [00:09<00:06, 68.78it/s]\u001b[A\n",
      " 53%|█████▎    | 531/1000 [00:09<00:06, 69.44it/s]\u001b[A\n",
      " 54%|█████▍    | 539/1000 [00:09<00:06, 69.86it/s]\u001b[A\n",
      " 55%|█████▍    | 546/1000 [00:09<00:06, 69.39it/s]\u001b[A\n",
      " 55%|█████▌    | 553/1000 [00:10<00:06, 69.17it/s]\u001b[A\n",
      " 56%|█████▌    | 561/1000 [00:10<00:06, 69.99it/s]\u001b[A\n",
      " 57%|█████▋    | 569/1000 [00:10<00:06, 70.55it/s]\u001b[A\n",
      " 58%|█████▊    | 577/1000 [00:10<00:06, 70.45it/s]\u001b[A\n",
      " 58%|█████▊    | 585/1000 [00:10<00:05, 70.16it/s]\u001b[A\n",
      " 59%|█████▉    | 593/1000 [00:10<00:05, 70.07it/s]\u001b[A\n",
      " 60%|██████    | 601/1000 [00:10<00:05, 69.73it/s]\u001b[A\n",
      " 61%|██████    | 608/1000 [00:10<00:05, 69.29it/s]\u001b[A\n",
      " 62%|██████▏   | 615/1000 [00:10<00:05, 69.16it/s]\u001b[A\n",
      " 62%|██████▏   | 622/1000 [00:11<00:05, 69.07it/s]\u001b[A\n",
      " 63%|██████▎   | 629/1000 [00:11<00:05, 68.95it/s]\u001b[A\n",
      " 64%|██████▎   | 636/1000 [00:11<00:05, 68.64it/s]\u001b[A\n",
      " 64%|██████▍   | 643/1000 [00:11<00:05, 68.40it/s]\u001b[A\n",
      " 65%|██████▌   | 650/1000 [00:11<00:05, 68.84it/s]\u001b[A\n",
      " 66%|██████▌   | 658/1000 [00:11<00:04, 69.51it/s]\u001b[A\n",
      " 67%|██████▋   | 666/1000 [00:11<00:04, 70.41it/s]\u001b[A\n",
      " 67%|██████▋   | 674/1000 [00:11<00:04, 70.86it/s]\u001b[A\n",
      " 68%|██████▊   | 682/1000 [00:11<00:04, 71.18it/s]\u001b[A\n",
      " 69%|██████▉   | 690/1000 [00:11<00:04, 71.62it/s]\u001b[A\n",
      " 70%|██████▉   | 698/1000 [00:12<00:04, 71.08it/s]\u001b[A\n",
      " 71%|███████   | 706/1000 [00:12<00:04, 69.91it/s]\u001b[A\n",
      " 71%|███████▏  | 713/1000 [00:12<00:04, 69.21it/s]\u001b[A\n",
      " 72%|███████▏  | 720/1000 [00:12<00:04, 69.21it/s]\u001b[A\n",
      " 73%|███████▎  | 727/1000 [00:12<00:03, 69.27it/s]\u001b[A\n",
      " 73%|███████▎  | 734/1000 [00:12<00:03, 69.15it/s]\u001b[A\n",
      " 74%|███████▍  | 741/1000 [00:12<00:03, 69.24it/s]\u001b[A\n",
      " 75%|███████▍  | 748/1000 [00:12<00:03, 69.30it/s]\u001b[A\n",
      " 76%|███████▌  | 756/1000 [00:12<00:03, 69.83it/s]\u001b[A\n",
      " 76%|███████▋  | 764/1000 [00:13<00:03, 70.55it/s]\u001b[A\n",
      " 77%|███████▋  | 772/1000 [00:13<00:03, 70.75it/s]\u001b[A\n",
      " 78%|███████▊  | 780/1000 [00:13<00:03, 70.66it/s]\u001b[A\n",
      " 79%|███████▉  | 788/1000 [00:13<00:03, 69.98it/s]\u001b[A\n",
      " 80%|███████▉  | 796/1000 [00:13<00:02, 69.84it/s]\u001b[A\n",
      " 80%|████████  | 804/1000 [00:13<00:02, 70.28it/s]\u001b[A\n",
      " 81%|████████  | 812/1000 [00:13<00:02, 70.62it/s]\u001b[A\n",
      " 82%|████████▏ | 820/1000 [00:13<00:02, 70.97it/s]\u001b[A\n",
      " 83%|████████▎ | 828/1000 [00:13<00:02, 70.20it/s]\u001b[A\n",
      " 84%|████████▎ | 836/1000 [00:14<00:02, 69.90it/s]\u001b[A\n",
      " 84%|████████▍ | 843/1000 [00:14<00:02, 69.78it/s]\u001b[A\n",
      " 85%|████████▌ | 850/1000 [00:14<00:02, 69.78it/s]\u001b[A\n",
      " 86%|████████▌ | 857/1000 [00:14<00:02, 69.81it/s]\u001b[A\n",
      " 86%|████████▋ | 865/1000 [00:14<00:01, 70.19it/s]\u001b[A\n",
      " 87%|████████▋ | 873/1000 [00:14<00:01, 70.90it/s]\u001b[A\n",
      " 88%|████████▊ | 881/1000 [00:14<00:01, 71.02it/s]\u001b[A\n",
      " 89%|████████▉ | 889/1000 [00:14<00:01, 70.77it/s]\u001b[A\n",
      " 90%|████████▉ | 897/1000 [00:14<00:01, 69.97it/s]\u001b[A\n",
      " 90%|█████████ | 905/1000 [00:15<00:01, 69.61it/s]\u001b[A\n",
      " 91%|█████████ | 912/1000 [00:15<00:01, 69.36it/s]\u001b[A\n",
      " 92%|█████████▏| 919/1000 [00:15<00:01, 69.18it/s]\u001b[A\n",
      " 93%|█████████▎| 927/1000 [00:15<00:01, 69.88it/s]\u001b[A\n",
      " 94%|█████████▎| 935/1000 [00:15<00:00, 70.44it/s]\u001b[A\n",
      " 94%|█████████▍| 943/1000 [00:15<00:00, 69.97it/s]\u001b[A\n",
      " 95%|█████████▌| 951/1000 [00:15<00:00, 69.73it/s]\u001b[A\n",
      " 96%|█████████▌| 958/1000 [00:15<00:00, 69.67it/s]\u001b[A\n",
      " 96%|█████████▋| 965/1000 [00:15<00:00, 69.70it/s]\u001b[A\n",
      " 97%|█████████▋| 973/1000 [00:16<00:00, 69.95it/s]\u001b[A\n",
      " 98%|█████████▊| 981/1000 [00:16<00:00, 70.38it/s]\u001b[A\n",
      " 99%|█████████▉| 989/1000 [00:16<00:00, 71.26it/s]\u001b[A\n",
      "100%|██████████| 1000/1000 [00:16<00:00, 60.90it/s][A\n"
     ]
    }
   ],
   "source": [
    "std_lst = list()\n",
    "X_demo = X_tr[:,:1000].toarray()\n",
    "for i in tqdm(range(X_demo.shape[1])):\n",
    "    col = X_demo[:,i]\n",
    "#     print(col.shape)\n",
    "    N = 16*10**5\n",
    "    s = col**2 \n",
    "\n",
    "    std = math.sqrt(s.sum()/N - col.mean()**2)\n",
    "\n",
    "    std_lst.append(1)"
   ]
  },
  {
   "cell_type": "code",
   "execution_count": 6,
   "metadata": {},
   "outputs": [],
   "source": [
    "std = StandardScaler(with_mean=False)\n",
    "X_tr_std = std.fit_transform(X_tr)\n",
    "X_te_std = std.fit_transform(X_te)"
   ]
  },
  {
   "cell_type": "code",
   "execution_count": 44,
   "metadata": {
    "scrolled": true
   },
   "outputs": [],
   "source": [
    "\n",
    "\n",
    "gnb=GaussianNB()\n",
    "\n",
    "n_cores=multiprocessing.cpu_count()\n",
    "\n",
    "# start_time = time()\n",
    "# batchSize=800\n",
    "# lst = range(16*(10**5) // batchSize)\n",
    "# def fit(gn, i):\n",
    "#     return gn.partial_fit(X_tr[i*batchSize:((i+1)*batchSize)].toarray(), Y_train[i*batchSize:((i+1)*batchSize)], classes=[0,4])\n",
    "# results = Parallel(n_jobs=2)(delayed(fit)(gnb, i) for i in tqdm(lst, desc='Partially fitting data in batches'))\n",
    "\n",
    "# end_time = time()\n",
    "# print('Completed in %.2f minutes'%((end_time-start_time)/60))\n",
    "\n",
    "# pred = results[-1].predict(X_te.todense())"
   ]
  },
  {
   "cell_type": "code",
   "execution_count": 8,
   "metadata": {
    "collapsed": true
   },
   "outputs": [
    {
     "data": {
      "text/plain": [
       "array([4, 4, 4, 4, 4, 4, 4, 4, 4, 4, 4, 4, 4, 4, 4, 4, 4, 4, 4, 4, 4, 4,\n",
       "       4, 4, 4, 4, 4, 4, 4, 4, 4, 4, 4, 4, 4, 4, 4, 4, 4, 4, 4, 4, 4, 4,\n",
       "       4, 4, 4, 4, 4, 4, 4, 4, 4, 4, 4, 4, 4, 4, 4, 4, 4, 4, 4, 4, 4, 4,\n",
       "       4, 4, 4, 4, 4, 4, 4, 4, 4, 4, 4, 4, 4, 4, 4, 4, 4, 4, 4, 4, 4, 4,\n",
       "       4, 4, 4, 4, 4, 4, 4, 4, 4, 4, 4, 4, 4, 4, 4, 4, 4, 4, 4, 4, 4, 4,\n",
       "       4, 4, 4, 4, 4, 4, 4, 4, 4, 4, 4, 4, 4, 4, 4, 4, 4, 4, 4, 4, 4, 4,\n",
       "       4, 4, 4, 4, 4, 4, 4, 4, 4, 4, 4, 4, 4, 4, 4, 4, 4, 4, 4, 4, 4, 4,\n",
       "       4, 4, 4, 4, 4, 4, 4, 4, 4, 4, 4, 4, 4, 4, 4, 4, 4, 4, 4, 4, 4, 4,\n",
       "       4, 4, 4, 4, 4, 4, 4, 4, 4, 4, 4, 4, 4, 4, 4, 4, 4, 4, 4, 4, 4, 4,\n",
       "       4, 4, 4, 4, 4, 4, 4, 4, 4, 4, 4, 4, 4, 4, 4, 4, 4, 4, 4, 4, 4, 4,\n",
       "       4, 4, 4, 4, 4, 4, 4, 4, 4, 4, 4, 4, 4, 4, 4, 4, 4, 4, 4, 4, 4, 4,\n",
       "       4, 4, 4, 4, 4, 4, 4, 4, 4, 4, 4, 4, 4, 4, 4, 4, 4, 4, 4, 4, 4, 4,\n",
       "       4, 4, 4, 4, 4, 4, 4, 4, 4, 4, 4, 4, 4, 4, 4, 4, 4, 4, 4, 4, 4, 4,\n",
       "       4, 4, 4, 4, 4, 4, 4, 4, 4, 4, 4, 4, 4, 4, 4, 4, 4, 4, 4, 4, 4, 4,\n",
       "       4, 4, 4, 4, 4, 4, 4, 4, 4, 4, 4, 4, 4, 4, 4, 4, 4, 4, 4, 4, 4, 4,\n",
       "       4, 4, 4, 4, 4, 4, 4, 4, 4, 4, 4, 4, 4, 4, 4, 4, 4, 4, 4, 4, 4, 4,\n",
       "       4, 4, 4, 4, 4, 4, 4])"
      ]
     },
     "execution_count": 8,
     "metadata": {},
     "output_type": "execute_result"
    }
   ],
   "source": [
    "pred"
   ]
  },
  {
   "cell_type": "code",
   "execution_count": 7,
   "metadata": {},
   "outputs": [
    {
     "data": {
      "text/plain": [
       "(1600000, 190769)"
      ]
     },
     "execution_count": 7,
     "metadata": {},
     "output_type": "execute_result"
    }
   ],
   "source": [
    "X_tr_std.shape"
   ]
  },
  {
   "cell_type": "code",
   "execution_count": 7,
   "metadata": {
    "scrolled": true
   },
   "outputs": [
    {
     "name": "stderr",
     "output_type": "stream",
     "text": [
      "100%|██████████| 800/800 [41:17<00:00,  3.10s/it]\n"
     ]
    }
   ],
   "source": [
    "gnb_wo_pll = GaussianNB()\n",
    "\n",
    "batchSize = 2000\n",
    "for i in tqdm(range(16*(10**5) // batchSize)):\n",
    "    gnb_wo_pll.partial_fit(X_tr_std[i*batchSize:((i+1)*batchSize)].toarray(), Y_train[i*batchSize:((i+1)*batchSize)], classes=[0,4])"
   ]
  },
  {
   "cell_type": "code",
   "execution_count": 9,
   "metadata": {},
   "outputs": [],
   "source": [
    "pred = gnb_wo_pll.predict(X_te.todense())"
   ]
  },
  {
   "cell_type": "code",
   "execution_count": 10,
   "metadata": {},
   "outputs": [],
   "source": [
    "pred_proba = gnb_wo_pll.predict_log_proba(X_te.toarray())"
   ]
  },
  {
   "cell_type": "code",
   "execution_count": 11,
   "metadata": {
    "collapsed": true
   },
   "outputs": [
    {
     "data": {
      "text/plain": [
       "array([0, 0, 0, 0, 0, 0, 0, 4, 0, 0, 0, 0, 0, 4, 0, 4, 0, 0, 0, 0, 0, 4,\n",
       "       4, 4, 0, 0, 0, 4, 0, 0, 0, 0, 0, 0, 0, 0, 0, 0, 0, 0, 4, 0, 0, 0,\n",
       "       0, 0, 0, 0, 0, 0, 0, 0, 0, 0, 0, 0, 0, 0, 0, 0, 0, 0, 0, 0, 0, 0,\n",
       "       0, 0, 0, 4, 0, 0, 0, 0, 0, 0, 0, 0, 0, 0, 0, 0, 0, 0, 0, 0, 0, 0,\n",
       "       0, 0, 0, 0, 0, 0, 0, 0, 0, 0, 0, 0, 4, 0, 0, 0, 0, 0, 0, 0, 4, 0,\n",
       "       0, 0, 4, 0, 0, 0, 4, 4, 4, 0, 0, 0, 4, 0, 0, 0, 0, 0, 4, 0, 0, 0,\n",
       "       0, 0, 0, 0, 0, 4, 0, 0, 0, 0, 0, 0, 0, 0, 0, 0, 0, 0, 0, 0, 0, 0,\n",
       "       0, 0, 0, 0, 0, 0, 4, 0, 0, 4, 0, 0, 0, 0, 0, 0, 4, 0, 0, 0, 0, 0,\n",
       "       0, 0, 0, 0, 0, 0, 0, 0, 0, 0, 0, 0, 0, 0, 0, 0, 0, 0, 0, 0, 0, 0,\n",
       "       4, 0, 0, 0, 0, 0, 0, 0, 0, 0, 0, 0, 0, 0, 0, 0, 0, 0, 0, 0, 0, 0,\n",
       "       0, 0, 0, 0, 0, 0, 0, 0, 0, 0, 0, 0, 0, 0, 4, 0, 0, 0, 0, 0, 0, 0,\n",
       "       0, 0, 0, 0, 0, 0, 0, 0, 4, 0, 0, 0, 0, 0, 0, 0, 0, 0, 0, 0, 0, 0,\n",
       "       0, 0, 0, 0, 0, 0, 4, 0, 0, 0, 0, 0, 0, 0, 0, 0, 0, 0, 0, 0, 0, 0,\n",
       "       0, 0, 0, 0, 0, 0, 0, 0, 0, 4, 0, 0, 4, 0, 0, 0, 0, 4, 0, 4, 0, 0,\n",
       "       0, 0, 0, 0, 4, 0, 0, 0, 0, 0, 0, 0, 0, 0, 0, 0, 0, 0, 4, 0, 0, 0,\n",
       "       0, 0, 0, 0, 0, 0, 0, 0, 0, 0, 0, 0, 0, 0, 0, 0, 0, 0, 0, 0, 0, 4,\n",
       "       4, 0, 4, 0, 0, 0, 0])"
      ]
     },
     "execution_count": 11,
     "metadata": {},
     "output_type": "execute_result"
    }
   ],
   "source": [
    "pred"
   ]
  },
  {
   "cell_type": "code",
   "execution_count": 12,
   "metadata": {},
   "outputs": [],
   "source": [
    "nb=NaiveBayes()"
   ]
  },
  {
   "cell_type": "code",
   "execution_count": 13,
   "metadata": {},
   "outputs": [
    {
     "data": {
      "text/plain": [
       "48.467966573816156"
      ]
     },
     "execution_count": 13,
     "metadata": {},
     "output_type": "execute_result"
    }
   ],
   "source": [
    "nb.getAccuracy(Y_test, pred)"
   ]
  },
  {
   "cell_type": "code",
   "execution_count": 14,
   "metadata": {},
   "outputs": [
    {
     "data": {
      "image/png": "[encoded data removed]",
      "text/plain": [
       "<Figure size 432x288 with 2 Axes>"
      ]
     },
     "metadata": {
      "needs_background": "light"
     },
     "output_type": "display_data"
    }
   ],
   "source": [
    "nb.confusionMatrix(Y_test, pred)"
   ]
  },
  {
   "cell_type": "code",
   "execution_count": 8,
   "metadata": {},
   "outputs": [],
   "source": [
    "with open('gnb_final.pkl', 'wb') as fp:\n",
    "    pickle.dump(gnb_wo_pll, fp)"
   ]
  },
  {
   "cell_type": "markdown",
   "metadata": {},
   "source": [
    "# Part (g): Plotting ROC"
   ]
  },
  {
   "cell_type": "code",
   "execution_count": 17,
   "metadata": {},
   "outputs": [
    {
     "name": "stderr",
     "output_type": "stream",
     "text": [
      "/home/hetpatel/anaconda3/lib/python3.7/site-packages/IPython/core/pylabtools.py:132: UserWarning: Creating legend with loc=\"best\" can be slow with large amounts of data.\n",
      "  fig.canvas.print_figure(bytes_io, **kw)\n"
     ]
    },
    {
     "data": {
      "image/png": "[encoded data removed]",
      "text/plain": [
       "<Figure size 432x288 with 1 Axes>"
      ]
     },
     "metadata": {
      "needs_background": "light"
     },
     "output_type": "display_data"
    }
   ],
   "source": [
    "\n",
    "\n",
    "#Plotting ROC Curve and getting auc\n",
    "\n",
    "fpr, tpr, thresholds = roc_curve(Y_test, test_proba, pos_label=4)\n",
    "auc=roc_auc_score(Y_test, test_proba)\n",
    "plt.plot(fpr, tpr, label='Test ROC, AUC=%.2f'%auc)\n",
    "\n",
    "fpr, tpr, thresholds = roc_curve(Y_train, train_proba, pos_label=4)\n",
    "auc=roc_auc_score(Y_train, train_proba)\n",
    "plt.plot(fpr, tpr, label='Train ROC, AUC=%.2f'%auc)\n",
    "\n",
    "plt.plot([0,1],[0,1], label='Random Model')\n",
    "plt.xlabel('FPR')\n",
    "plt.ylabel('TPR')\n",
    "plt.title('Train & Test ROC Curve')\n",
    "plt.legend()\n",
    "plt.show()"
   ]
  },
  {
   "cell_type": "code",
   "execution_count": 18,
   "metadata": {},
   "outputs": [
    {
     "ename": "NameError",
     "evalue": "name 'test_proba_cleaned' is not defined",
     "output_type": "error",
     "traceback": [
      "\u001b[0;31m---------------------------------------------------------------------------\u001b[0m",
      "\u001b[0;31mNameError\u001b[0m                                 Traceback (most recent call last)",
      "\u001b[0;32m<ipython-input-18-52fecca6fe8b>\u001b[0m in \u001b[0;36m<module>\u001b[0;34m\u001b[0m\n\u001b[1;32m      1\u001b[0m \u001b[0;31m#Plotting ROC Curve and getting auc\u001b[0m\u001b[0;34m\u001b[0m\u001b[0;34m\u001b[0m\u001b[0;34m\u001b[0m\u001b[0m\n\u001b[1;32m      2\u001b[0m \u001b[0;34m\u001b[0m\u001b[0m\n\u001b[0;32m----> 3\u001b[0;31m \u001b[0mfpr\u001b[0m\u001b[0;34m,\u001b[0m \u001b[0mtpr\u001b[0m\u001b[0;34m,\u001b[0m \u001b[0mthresholds\u001b[0m \u001b[0;34m=\u001b[0m \u001b[0mroc_curve\u001b[0m\u001b[0;34m(\u001b[0m\u001b[0mY_test\u001b[0m\u001b[0;34m,\u001b[0m \u001b[0mtest_proba_cleaned\u001b[0m\u001b[0;34m,\u001b[0m \u001b[0mpos_label\u001b[0m\u001b[0;34m=\u001b[0m\u001b[0;36m4\u001b[0m\u001b[0;34m)\u001b[0m\u001b[0;34m\u001b[0m\u001b[0;34m\u001b[0m\u001b[0m\n\u001b[0m\u001b[1;32m      4\u001b[0m \u001b[0mauc\u001b[0m\u001b[0;34m=\u001b[0m\u001b[0mroc_auc_score\u001b[0m\u001b[0;34m(\u001b[0m\u001b[0mY_test\u001b[0m\u001b[0;34m,\u001b[0m \u001b[0mtest_proba\u001b[0m\u001b[0;34m)\u001b[0m\u001b[0;34m\u001b[0m\u001b[0;34m\u001b[0m\u001b[0m\n\u001b[1;32m      5\u001b[0m \u001b[0mplt\u001b[0m\u001b[0;34m.\u001b[0m\u001b[0mplot\u001b[0m\u001b[0;34m(\u001b[0m\u001b[0mfpr\u001b[0m\u001b[0;34m,\u001b[0m \u001b[0mtpr\u001b[0m\u001b[0;34m,\u001b[0m \u001b[0mlabel\u001b[0m\u001b[0;34m=\u001b[0m\u001b[0;34m'Test ROC, AUC=%.2f'\u001b[0m\u001b[0;34m%\u001b[0m\u001b[0mauc\u001b[0m\u001b[0;34m)\u001b[0m\u001b[0;34m\u001b[0m\u001b[0;34m\u001b[0m\u001b[0m\n",
      "\u001b[0;31mNameError\u001b[0m: name 'test_proba_cleaned' is not defined"
     ]
    }
   ],
   "source": [
    "#Plotting ROC Curve and getting auc\n",
    "\n",
    "fpr, tpr, thresholds = roc_curve(Y_test, test_proba_cleaned, pos_label=4)\n",
    "auc=roc_auc_score(Y_test, test_proba)\n",
    "plt.plot(fpr, tpr, label='Test ROC, AUC=%.2f'%auc)\n",
    "\n",
    "fpr, tpr, thresholds = roc_curve(Y_train, train_proba_cleaned, pos_label=4)\n",
    "auc=roc_auc_score(Y_train, train_proba)\n",
    "plt.plot(fpr, tpr, label='Train ROC, AUC=%.2f'%auc)\n",
    "\n",
    "plt.plot([0,1],[0,1], label='Random Model')\n",
    "plt.xlabel('FPR')\n",
    "plt.ylabel('TPR')\n",
    "plt.title('Train & Test ROC Curve')\n",
    "plt.legend()\n",
    "plt.show()"
   ]
  },
  {
   "cell_type": "code",
   "execution_count": 21,
   "metadata": {},
   "outputs": [
    {
     "data": {
      "image/png": "[encoded data removed]",
      "text/plain": [
       "<Figure size 432x288 with 1 Axes>"
      ]
     },
     "metadata": {
      "needs_background": "light"
     },
     "output_type": "display_data"
    }
   ],
   "source": [
    "#Plotting ROC Curve and getting auc\n",
    "\n",
    "fpr, tpr, thresholds = roc_curve(Y_test, pred_proba[:,1], pos_label=4)\n",
    "auc=roc_auc_score(Y_test, pred_proba[:,1])\n",
    "plt.plot(fpr, tpr, label='Test ROC, AUC=%.2f'%auc)\n",
    "\n",
    "# fpr, tpr, thresholds = roc_curve(Y_train, train_proba_cleaned, pos_label=4)\n",
    "# auc=roc_auc_score(Y_train, train_proba)\n",
    "# plt.plot(fpr, tpr, label='Train ROC, AUC=%.2f'%auc)\n",
    "\n",
    "plt.plot([0,1],[0,1], label='Random Model')\n",
    "plt.xlabel('FPR')\n",
    "plt.ylabel('TPR')\n",
    "plt.title('Train & Test ROC Curve')\n",
    "plt.show()"
   ]
  }
 ],
 "metadata": {
  "kernelspec": {
   "display_name": "Python 3",
   "language": "python",
   "name": "python3"
  },
  "language_info": {
   "codemirror_mode": {
    "name": "ipython",
    "version": 3
   },
   "file_extension": ".py",
   "mimetype": "text/x-python",
   "name": "python",
   "nbconvert_exporter": "python",
   "pygments_lexer": "ipython3",
   "version": "3.6.5"
  }
 },
 "nbformat": 4,
 "nbformat_minor": 4
}
