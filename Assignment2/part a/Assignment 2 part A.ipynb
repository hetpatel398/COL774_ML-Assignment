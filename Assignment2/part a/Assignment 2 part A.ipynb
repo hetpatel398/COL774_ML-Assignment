{
 "cells": [
  {
   "cell_type": "markdown",
   "metadata": {
    "colab_type": "text",
    "id": "dXf_jP3jotw0"
   },
   "source": [
    "# Assignment 2 - Part (A) : Naive Bayes\n",
    "\n",
    "<hr>\n",
    "\n",
    "* In this part I have implemented Naive bayes from scratch for sentiment analysis on twitter dataset. \n",
    "\n",
    "\n",
    "* In this part I have worked on the [this](http://help.sentiment140.com/for-students) Dataset."
   ]
  },
  {
   "cell_type": "code",
   "execution_count": 0,
   "metadata": {
    "colab": {},
    "colab_type": "code",
    "id": "zdqMIWSNotw5"
   },
   "outputs": [],
   "source": [
    "import pandas as pd\n",
    "from tqdm import tqdm\n",
    "import numpy as np\n",
    "import matplotlib.pyplot as plt\n",
    "import seaborn as sns\n",
    "\n",
    "import os\n",
    "import math\n",
    "import random\n",
    "import re \n",
    "from time import time\n",
    "import pickle\n",
    "\n",
    "from nltk.corpus import stopwords\n",
    "from nltk.stem import PorterStemmer\n",
    "from nltk.stem.wordnet import WordNetLemmatizer\n",
    "from nltk.tokenize import TweetTokenizer\n",
    "import nltk\n",
    "import re\n",
    "\n",
    "from sklearn.feature_extraction.text import TfidfVectorizer\n",
    "from sklearn.naive_bayes import GaussianNB\n",
    "\n",
    "from joblib import Parallel, delayed\n",
    "import multiprocessing\n",
    "\n",
    "from sklearn.metrics import roc_curve, auc\n",
    "from sklearn.metrics import roc_auc_score\n",
    "\n",
    "from scipy.stats import boxcox\n",
    "from sklearn.preprocessing import  StandardScaler"
   ]
  },
  {
   "cell_type": "markdown",
   "metadata": {
    "colab_type": "text",
    "id": "bV6Hu4KaotxE"
   },
   "source": [
    "## Part (a) : Implementing Naive Bayes and getting accuracy on Train and Test Datasets.\n",
    "\n",
    "* In this part I have implemented Naive Bayes class that will be used in all the consecutive parts of the question.\n",
    "\n",
    "\n",
    "* In this part I have computerd thetas for all the words in the vocabulary for both output classes 0 and 4.\n",
    "\n",
    "\n",
    "* I have also incorporated various flags like addBigrams, addTrigrams and addPOS that will add features as mentioned in part e.\n",
    "\n",
    "\n",
    "* I have also created one metric class that will compute various performence metrics for our model like accuracy score, confusion matrix and ROC curve."
   ]
  },
  {
   "cell_type": "code",
   "execution_count": 0,
   "metadata": {
    "colab": {},
    "colab_type": "code",
    "id": "-N9JKR-CotxG"
   },
   "outputs": [],
   "source": [
    "class NaiveBayes:\n",
    "    \n",
    "    dict0, dict4 = dict(), dict()\n",
    "    phi0, phi4, = 0, 0\n",
    "    n0, n4, = 0, 0\n",
    "    vocab=list()\n",
    "    v=0\n",
    "    splitString = ',|\\.| '\n",
    "    tt=TweetTokenizer(preserve_case=False, strip_handles=True)\n",
    "    simpleTokenizer = lambda self,s : [word for word in re.split(self.splitString, s) if word!='' ]\n",
    "    tokenizer = simpleTokenizer\n",
    "    \n",
    "    tweetTok = lambda self,s : self.tt.tokenize(s)\n",
    "    \n",
    "    def __init__(self, useTweetTokenizer=False, addBigrams=False, addTrigrams=False, addPOS=False):\n",
    "        dict0, dict4 = dict(), dict()\n",
    "        if useTweetTokenizer:\n",
    "            self.tokenizer = self.tweetTok\n",
    "        self.addBigrams = addBigrams\n",
    "        self.addTrigrams = addTrigrams\n",
    "        self.addPOS = addPOS\n",
    "        \n",
    "    def fit(self, X_train, Y_train):\n",
    "        #----Creating vocabulary-----\n",
    "        st = set()\n",
    "        \n",
    "        def getPOS(doc):\n",
    "            words = self.tokenizer(doc)\n",
    "            if words!=[]:\n",
    "                return list((list(zip(*nltk.pos_tag(words))))[0])\n",
    "            else:\n",
    "                return []\n",
    "\n",
    "        if self.addPOS:\n",
    "            pos_lst = Parallel(n_jobs=6)(delayed(getPOS)(doc) for doc in tqdm(X_train, desc='Generating POS List'))\n",
    "        \n",
    "        for (doc,j) in tqdm(list(zip(X_train, range(len(X_train)))), desc='Generating Vocabulary'):\n",
    "            words = self.tokenizer(doc)\n",
    "            for word in words:\n",
    "                st.add(word)\n",
    "            if self.addBigrams:\n",
    "                for i in range(len(words)-1):\n",
    "                    st.add(words[i]+' '+words[i+1])\n",
    "            if self.addTrigrams:\n",
    "                for i in range(len(words)-2):\n",
    "                    st.add(words[i]+' '+words[i+1]+' '+words[i+2])\n",
    "            if self.addPOS:\n",
    "                for pos in pos_lst[j]:\n",
    "                    st.add(pos)\n",
    "        self.vocab = list(st) # List of vocabulary\n",
    "        self.v=len(self.vocab) #Vocabulary size\n",
    "    \n",
    "        #Splitting Dataset According to label\n",
    "        X_train_0 = np.array(X_train)[np.where(Y_train == 0)]\n",
    "        X_train_4 = np.array(X_train)[np.where(Y_train == 4)]\n",
    "\n",
    "        #Creating empty dictionaries for every class\n",
    "        self.dict0 = dict(zip(self.vocab, np.ones(len(self.vocab), dtype=int)))\n",
    "        self.dict4 = dict(zip(self.vocab, np.ones(len(self.vocab), dtype=int)))\n",
    "\n",
    "        #Counting occurance of each word in all three classes and then updating \n",
    "        #corrsponding dictionary\n",
    "        for stat, j in tqdm(list(zip(X_train_0, range(len(X_train_0)))), desc='Generating Theta List for Label=0'):\n",
    "            words = self.tokenizer(stat)\n",
    "            for word in words:\n",
    "                self.dict0[word] = self.dict0[word]+1\n",
    "            if self.addBigrams:\n",
    "                for i in range(len(words)-1):\n",
    "                    bGram = words[i]+' '+words[i+1]\n",
    "                    self.dict0[bGram] += 1\n",
    "            if self.addTrigrams:\n",
    "                for i in range(len(words)-2):\n",
    "                    tGram = words[i]+' '+words[i+1]+' '+words[i+2]\n",
    "                    self.dict0[tGram] += 1\n",
    "            if self.addPOS:\n",
    "                for pos in pos_lst[j]:\n",
    "                    self.dict0[pos] += 1\n",
    "        for stat, j in tqdm(list(zip(X_train_4, range(len(X_train_4)))), desc='Generating Theta List for Label=4'):\n",
    "            words = self.tokenizer(stat)\n",
    "            for word in words:\n",
    "                self.dict4[word] = self.dict4[word]+1\n",
    "            if self.addBigrams:\n",
    "                for i in range(len(words)-1):\n",
    "                    bGram = words[i]+' '+words[i+1]\n",
    "                    self.dict4[bGram] += 1\n",
    "            if self.addTrigrams:\n",
    "                for i in range(len(words)-2):\n",
    "                    tGram = words[i]+' '+words[i+1]+' '+words[i+2]\n",
    "                    self.dict4[tGram] += 1\n",
    "            if self.addPOS:\n",
    "                for pos in pos_lst[j]:\n",
    "                    self.dict4[pos] += 1\n",
    "        \n",
    "        #----Finding number of words in all these three classes\n",
    "        self.n0 = sum(list(self.dict0.values()))\n",
    "        self.n4 = sum(list(self.dict4.values()))\n",
    "        \n",
    "        self.dict0 = dict(zip(self.dict0.keys(), np.log(np.array(list(self.dict0.values()), dtype=int)/(self.n0+self.v))))\n",
    "        self.dict4 = dict(zip(self.dict4.keys(), np.log(np.array(list(self.dict4.values()), dtype=int)/(self.n4+self.v))))\n",
    "        \n",
    "        \n",
    "        #----Finding class priors\n",
    "        self.phi0 = (X_train_0.shape[0]+1) / (X_train.shape[0]+2)\n",
    "        self.phi4 = (X_train_4.shape[0]+1) / (X_train.shape[0]+2)\n",
    "\n",
    "    def predict(self, X):\n",
    "        pred_lst=list()\n",
    "        \n",
    "        for x, j in tqdm(list(zip(X,range(len(X)))), desc='Generating Predictions'):\n",
    "            prob0 = math.log(self.phi0)\n",
    "            prob4 = math.log(self.phi4)\n",
    "            words = self.tokenizer(x)\n",
    "            for word in words:\n",
    "                prob0 += self.dict0.get(word) if self.dict0.get(word)!=None else math.log(1/(self.n0+self.v))\n",
    "                prob4 += self.dict4.get(word) if self.dict4.get(word)!=None else math.log(1/(self.n4+self.v))\n",
    "            if self.addBigrams:\n",
    "                for i in range(len(words)-1):\n",
    "                    bGram = words[i]+' '+words[i+1]\n",
    "                    prob0 += self.dict0.get(bGram) if self.dict0.get(bGram)!=None else math.log(1/(self.n0+self.v))\n",
    "                    prob4 += self.dict4.get(bGram) if self.dict4.get(bGram)!=None else math.log(1/(self.n4+self.v))\n",
    "            if self.addTrigrams:\n",
    "                for i in range(len(words)-2):\n",
    "                    tGram = words[i]+' '+words[i+1]+' '+words[i+2]\n",
    "                    prob0 += self.dict0.get(tGram) if self.dict0.get(tGram)!=None else math.log(1/(self.n0+self.v))\n",
    "                    prob4 += self.dict4.get(tGram) if self.dict4.get(tGram)!=None else math.log(1/(self.n4+self.v))    \n",
    "            if self.addPOS:\n",
    "                for pos in (list(zip(*nltk.pos_tag(words)))[1]):\n",
    "                    prob0 += self.dict0.get(pos) if self.dict0.get(pos)!=None else math.log(1/(self.n0+self.v))\n",
    "                    prob4 += self.dict4.get(pos) if self.dict4.get(pos)!=None else math.log(1/(self.n4+self.v))\n",
    "            pred_lst.append(4*(np.array([prob0, prob4]).argmax()))\n",
    "        return pred_lst\n",
    "    \n",
    "    def predict_log_proba(self, X):\n",
    "        log_proba0=list()\n",
    "        log_proba4=list()\n",
    "        \n",
    "        for x, j in tqdm(list(zip(X,range(len(X)))), desc='Generating Log probabilities'):\n",
    "            prob0 = math.log(self.phi0) #if self.phi0!=0 else 0\n",
    "            prob4 = math.log(self.phi4) #if self.phi0!=0 else 0\n",
    "            words = self.tokenizer(x)\n",
    "            for word in words:\n",
    "                prob0 += self.dict0.get(word) if self.dict0.get(word)!=None else np.log(1/(self.n0+self.v))\n",
    "                prob4 += self.dict4.get(word) if self.dict4.get(word)!=None else np.log(1/(self.n4+self.v))\n",
    "            if self.addBigrams:\n",
    "                for i in range(len(words)-1):\n",
    "                    bGram = words[i]+' '+words[i+1]\n",
    "                    prob0 += self.dict0.get(bGram) if self.dict0.get(bGram)!=None else math.log(1/(self.n0+self.v))\n",
    "                    prob4 += self.dict4.get(bGram) if self.dict4.get(bGram)!=None else math.log(1/(self.n4+self.v))\n",
    "            if self.addTrigrams:\n",
    "                for i in range(len(words)-2):\n",
    "                    tGram = words[i]+' '+words[i+1]+' '+words[i+2]\n",
    "                    prob0 += self.dict0.get(tGram) if self.dict0.get(tGram)!=None else math.log(1/(self.n0+self.v))\n",
    "                    prob4 += self.dict4.get(tGram) if self.dict4.get(tGram)!=None else math.log(1/(self.n4+self.v))    \n",
    "            if self.addPOS:\n",
    "                for pos in (list(zip(*nltk.pos_tag(words)))[1]):\n",
    "                    prob0 += self.dict0.get(pos) if self.dict0.get(pos)!=None else math.log(1/(self.n0+self.v))\n",
    "                    prob4 += self.dict4.get(pos) if self.dict4.get(pos)!=None else math.log(1/(self.n4+self.v))\n",
    "            log_proba0.append(prob0)\n",
    "            log_proba4.append(prob4)\n",
    "        return [log_proba0, log_proba4]\n",
    "    \n",
    "    def randomPred(self, size):\n",
    "        choices = [0,4]\n",
    "        pred = list()\n",
    "        for x in range(size):\n",
    "            pred.append(random.choice(choices))\n",
    "        return pred\n",
    "    \n",
    "    def majorityPred(self, size, out=4):\n",
    "        return [out]*size\n",
    "        \n",
    "    \n",
    "    \n",
    "class metrics:\n",
    "    \n",
    "    def accuracy_score(y_true, y_pred):\n",
    "        true = list(y_true == y_pred).count(True)\n",
    "        false = list(y_true == y_pred).count(False)\n",
    "        return true*100/(true+false)\n",
    "    \n",
    "    def confusion_matrix(y_true, y_pred, title = 'Confusion Matrix'):\n",
    "        cm=np.zeros((2,2), dtype=int)\n",
    "        for (y_hat, y) in zip(y_pred, y_true):\n",
    "            cm[y_hat//4][y//4] += 1\n",
    "        \n",
    "        sns.heatmap(cm, annot=True, fmt=\"d\",linecolor='black',linewidth='0', \\\n",
    "        cmap='Blues',xticklabels=[0,4], yticklabels=[0,4], cbar=False)\n",
    "        plt.xlabel('Actual')\n",
    "        plt.ylabel('Predicted')\n",
    "        plt.title(title)\n",
    "        plt.show()"
   ]
  },
  {
   "cell_type": "markdown",
   "metadata": {
    "colab_type": "text",
    "id": "M7mJ6b1FotxM"
   },
   "source": [
    "* **Loading the Dataset**"
   ]
  },
  {
   "cell_type": "code",
   "execution_count": 0,
   "metadata": {
    "colab": {},
    "colab_type": "code",
    "id": "Wpzj_t4kotxO"
   },
   "outputs": [],
   "source": [
    "train_data = pd.read_csv('/content/drive/My Drive/ML/training.1600000.processed.noemoticon.csv', sep=',', encoding='latin-1', names=['polarity', 'id', 'date', 'query', 'user', 'text'])\n",
    "\n",
    "X_train = train_data['text']\n",
    "Y_train = train_data['polarity'] \n",
    "\n",
    "test_data = pd.read_csv('/content/drive/My Drive/ML/testdata.manual.2009.06.14.csv', sep=',', encoding='latin-1', names=['polarity', 'id', 'date', 'query', 'user', 'text'])\n",
    "\n",
    "X_test = test_data['text']\n",
    "Y_test = test_data['polarity']\n",
    "\n",
    "X_test_new_0 = np.array(X_test)[np.where(Y_test==0)]# or Y_test==4)]\n",
    "X_test_new_4 = np.array(X_test)[np.where(Y_test==4)]\n",
    "\n",
    "X_test = np.concatenate((X_test_new_0, X_test_new_4))\n",
    "Y_test = pd.Series(np.concatenate((np.zeros(X_test_new_0.shape[0]), np.zeros(X_test_new_4.shape[0])+4)), dtype=int)"
   ]
  },
  {
   "cell_type": "markdown",
   "metadata": {
    "colab_type": "text",
    "id": "jdgTv-7DotxU"
   },
   "source": [
    "* **Intererting finding :** Data contains duplicate Entries"
   ]
  },
  {
   "cell_type": "code",
   "execution_count": 4,
   "metadata": {
    "colab": {
     "base_uri": "https://localhost:8080/",
     "height": 381
    },
    "colab_type": "code",
    "id": "LvxquF1BotxW",
    "outputId": "9f2be6d8-af74-416b-b7bd-10d511927dff"
   },
   "outputs": [
    {
     "name": "stdout",
     "output_type": "stream",
     "text": [
      "Number of duplicate entries :  3370\n"
     ]
    },
    {
     "data": {
      "text/html": [
       "<div>\n",
       "<style scoped>\n",
       "    .dataframe tbody tr th:only-of-type {\n",
       "        vertical-align: middle;\n",
       "    }\n",
       "\n",
       "    .dataframe tbody tr th {\n",
       "        vertical-align: top;\n",
       "    }\n",
       "\n",
       "    .dataframe thead th {\n",
       "        text-align: right;\n",
       "    }\n",
       "</style>\n",
       "<table border=\"1\" class=\"dataframe\">\n",
       "  <thead>\n",
       "    <tr style=\"text-align: right;\">\n",
       "      <th></th>\n",
       "      <th>polarity</th>\n",
       "      <th>id</th>\n",
       "      <th>date</th>\n",
       "      <th>query</th>\n",
       "      <th>user</th>\n",
       "      <th>text</th>\n",
       "    </tr>\n",
       "  </thead>\n",
       "  <tbody>\n",
       "    <tr>\n",
       "      <th>213</th>\n",
       "      <td>0</td>\n",
       "      <td>1467863684</td>\n",
       "      <td>Mon Apr 06 22:33:35 PDT 2009</td>\n",
       "      <td>NO_QUERY</td>\n",
       "      <td>DjGundam</td>\n",
       "      <td>Awwh babs... you look so sad underneith that s...</td>\n",
       "    </tr>\n",
       "    <tr>\n",
       "      <th>800261</th>\n",
       "      <td>4</td>\n",
       "      <td>1467863684</td>\n",
       "      <td>Mon Apr 06 22:33:35 PDT 2009</td>\n",
       "      <td>NO_QUERY</td>\n",
       "      <td>DjGundam</td>\n",
       "      <td>Awwh babs... you look so sad underneith that s...</td>\n",
       "    </tr>\n",
       "    <tr>\n",
       "      <th>275</th>\n",
       "      <td>0</td>\n",
       "      <td>1467880442</td>\n",
       "      <td>Mon Apr 06 22:38:04 PDT 2009</td>\n",
       "      <td>NO_QUERY</td>\n",
       "      <td>iCalvin</td>\n",
       "      <td>Haven't tweeted nearly all day  Posted my webs...</td>\n",
       "    </tr>\n",
       "    <tr>\n",
       "      <th>800300</th>\n",
       "      <td>4</td>\n",
       "      <td>1467880442</td>\n",
       "      <td>Mon Apr 06 22:38:04 PDT 2009</td>\n",
       "      <td>NO_QUERY</td>\n",
       "      <td>iCalvin</td>\n",
       "      <td>Haven't tweeted nearly all day  Posted my webs...</td>\n",
       "    </tr>\n",
       "    <tr>\n",
       "      <th>989</th>\n",
       "      <td>0</td>\n",
       "      <td>1468053611</td>\n",
       "      <td>Mon Apr 06 23:28:09 PDT 2009</td>\n",
       "      <td>NO_QUERY</td>\n",
       "      <td>mariejamora</td>\n",
       "      <td>@hellobebe I also send some updates in plurk b...</td>\n",
       "    </tr>\n",
       "    <tr>\n",
       "      <th>801280</th>\n",
       "      <td>4</td>\n",
       "      <td>1468053611</td>\n",
       "      <td>Mon Apr 06 23:28:09 PDT 2009</td>\n",
       "      <td>NO_QUERY</td>\n",
       "      <td>mariejamora</td>\n",
       "      <td>@hellobebe I also send some updates in plurk b...</td>\n",
       "    </tr>\n",
       "    <tr>\n",
       "      <th>1177</th>\n",
       "      <td>0</td>\n",
       "      <td>1468100580</td>\n",
       "      <td>Mon Apr 06 23:42:57 PDT 2009</td>\n",
       "      <td>NO_QUERY</td>\n",
       "      <td>cristygarza</td>\n",
       "      <td>good night swetdreamss to everyonee   and jare...</td>\n",
       "    </tr>\n",
       "    <tr>\n",
       "      <th>801573</th>\n",
       "      <td>4</td>\n",
       "      <td>1468100580</td>\n",
       "      <td>Mon Apr 06 23:42:57 PDT 2009</td>\n",
       "      <td>NO_QUERY</td>\n",
       "      <td>cristygarza</td>\n",
       "      <td>good night swetdreamss to everyonee   and jare...</td>\n",
       "    </tr>\n",
       "    <tr>\n",
       "      <th>1254</th>\n",
       "      <td>0</td>\n",
       "      <td>1468115720</td>\n",
       "      <td>Mon Apr 06 23:48:00 PDT 2009</td>\n",
       "      <td>NO_QUERY</td>\n",
       "      <td>WarholGirl</td>\n",
       "      <td>@ientje89 aw i'm fine too thanks! yeah i miss ...</td>\n",
       "    </tr>\n",
       "    <tr>\n",
       "      <th>801650</th>\n",
       "      <td>4</td>\n",
       "      <td>1468115720</td>\n",
       "      <td>Mon Apr 06 23:48:00 PDT 2009</td>\n",
       "      <td>NO_QUERY</td>\n",
       "      <td>WarholGirl</td>\n",
       "      <td>@ientje89 aw i'm fine too thanks! yeah i miss ...</td>\n",
       "    </tr>\n",
       "  </tbody>\n",
       "</table>\n",
       "</div>"
      ],
      "text/plain": [
       "        polarity  ...                                               text\n",
       "213            0  ...  Awwh babs... you look so sad underneith that s...\n",
       "800261         4  ...  Awwh babs... you look so sad underneith that s...\n",
       "275            0  ...  Haven't tweeted nearly all day  Posted my webs...\n",
       "800300         4  ...  Haven't tweeted nearly all day  Posted my webs...\n",
       "989            0  ...  @hellobebe I also send some updates in plurk b...\n",
       "801280         4  ...  @hellobebe I also send some updates in plurk b...\n",
       "1177           0  ...  good night swetdreamss to everyonee   and jare...\n",
       "801573         4  ...  good night swetdreamss to everyonee   and jare...\n",
       "1254           0  ...  @ientje89 aw i'm fine too thanks! yeah i miss ...\n",
       "801650         4  ...  @ientje89 aw i'm fine too thanks! yeah i miss ...\n",
       "\n",
       "[10 rows x 6 columns]"
      ]
     },
     "execution_count": 4,
     "metadata": {
      "tags": []
     },
     "output_type": "execute_result"
    }
   ],
   "source": [
    "vc = train_data[train_data.duplicated(subset=['id','text'], keep=False)]\n",
    "print('Number of duplicate entries : ', len(vc))\n",
    "vc.sort_values('id').head(10)"
   ]
  },
  {
   "cell_type": "markdown",
   "metadata": {
    "colab_type": "text",
    "id": "HIn_QX-potxd"
   },
   "source": [
    "### Getting Accuracy on train and test data"
   ]
  },
  {
   "cell_type": "code",
   "execution_count": 5,
   "metadata": {
    "colab": {
     "base_uri": "https://localhost:8080/",
     "height": 146
    },
    "colab_type": "code",
    "id": "L0U7hATnotxe",
    "outputId": "45822a1d-ead1-4fc2-d439-e36de986e676"
   },
   "outputs": [
    {
     "name": "stderr",
     "output_type": "stream",
     "text": [
      "Generating Vocabulary: 100%|██████████| 1600000/1600000 [00:11<00:00, 139901.30it/s]\n",
      "Generating Theta List for Label=0: 100%|██████████| 800000/800000 [00:10<00:00, 74279.12it/s]\n",
      "Generating Theta List for Label=4: 100%|██████████| 800000/800000 [00:10<00:00, 76293.41it/s]\n",
      "Generating Predictions: 100%|██████████| 1600000/1600000 [00:46<00:00, 34253.83it/s]\n",
      "Generating Predictions: 100%|██████████| 359/359 [00:00<00:00, 25570.25it/s]"
     ]
    },
    {
     "name": "stdout",
     "output_type": "stream",
     "text": [
      "Accuracy on Train Data : 84.8601\n",
      "Accuracy on Test Data : 81.3370\n"
     ]
    },
    {
     "name": "stderr",
     "output_type": "stream",
     "text": [
      "\n"
     ]
    }
   ],
   "source": [
    "nb_original=NaiveBayes()\n",
    "\n",
    "nb_original.fit(X_train, Y_train)\n",
    "\n",
    "train_pred = nb_original.predict(X_train)\n",
    "print('Accuracy on Train Data : %.4f'%(metrics.accuracy_score(Y_train, train_pred)))\n",
    "\n",
    "test_pred = nb_original.predict(X_test)\n",
    "print('Accuracy on Test Data : %.4f'%(metrics.accuracy_score(Y_test, test_pred)))"
   ]
  },
  {
   "cell_type": "markdown",
   "metadata": {
    "colab_type": "text",
    "id": "Qcq846kHotxk"
   },
   "source": [
    "## Part (b) : Getting base model accuracy by finding accuracy of test data using random prediction and majority vote prediction"
   ]
  },
  {
   "cell_type": "code",
   "execution_count": 6,
   "metadata": {
    "colab": {
     "base_uri": "https://localhost:8080/",
     "height": 109
    },
    "colab_type": "code",
    "id": "nfa13h-fotxm",
    "outputId": "6bbc3527-b835-40c5-84ed-2cf443707149"
   },
   "outputs": [
    {
     "name": "stdout",
     "output_type": "stream",
     "text": [
      "Accuracy of Random predictor on Test Data (Attempt 1):  51.25348189415042\n",
      "Accuracy of Random predictor on Test Data (Attempt 2):  47.910863509749305\n",
      "Accuracy of Random predictor on Test Data (Attempt 3):  50.41782729805014\n",
      "Accuracy of Majority Vote(4) predictor on Test Data :  50.69637883008357\n",
      "Accuracy of Majority Vote(0) predictor on Test Data :  49.30362116991643\n"
     ]
    }
   ],
   "source": [
    "nb=NaiveBayes()\n",
    "random_pred = nb.randomPred(Y_test.shape[0])\n",
    "print('Accuracy of Random predictor on Test Data (Attempt 1): ',metrics.accuracy_score(Y_test, random_pred))\n",
    "random_pred = nb.randomPred(Y_test.shape[0])\n",
    "print('Accuracy of Random predictor on Test Data (Attempt 2): ',metrics.accuracy_score(Y_test, random_pred))\n",
    "random_pred = nb.randomPred(Y_test.shape[0])\n",
    "print('Accuracy of Random predictor on Test Data (Attempt 3): ',metrics.accuracy_score(Y_test, random_pred))\n",
    "\n",
    "majority_pred = nb.majorityPred(Y_test.shape[0], out=4)\n",
    "print('Accuracy of Majority Vote(4) predictor on Test Data : ',metrics.accuracy_score(Y_test, majority_pred))\n",
    "majority_pred = nb.majorityPred(Y_test.shape[0], out=0)\n",
    "print('Accuracy of Majority Vote(0) predictor on Test Data : ',metrics.accuracy_score(Y_test, majority_pred))"
   ]
  },
  {
   "cell_type": "markdown",
   "metadata": {
    "colab_type": "text",
    "id": "zxWr8UQvJbV4"
   },
   "source": [
    "* Here we can see that our model gave test accuracy of 81.3370 and random and Majority vode predictor gave accuracies of around 50% hence our model is performing significantely better.\n"
   ]
  },
  {
   "cell_type": "markdown",
   "metadata": {
    "colab_type": "text",
    "id": "BOPJNe6xotxr"
   },
   "source": [
    "## Part (c) : Plotting Confusion matrix for the Train as well as Test Dataset for our Model"
   ]
  },
  {
   "cell_type": "code",
   "execution_count": 7,
   "metadata": {
    "colab": {
     "base_uri": "https://localhost:8080/",
     "height": 295
    },
    "colab_type": "code",
    "id": "UEJhX-Tdotxt",
    "outputId": "bdf9803b-508f-4b3e-8052-d29e6e5a3515"
   },
   "outputs": [
    {
     "data": {
      "image/png": "[encoded data removed]",
      "text/plain": [
       "<Figure size 432x288 with 1 Axes>"
      ]
     },
     "metadata": {
      "tags": []
     },
     "output_type": "display_data"
    }
   ],
   "source": [
    "metrics.confusion_matrix(Y_test, test_pred, title='Confusion matrix for Test Dataset')"
   ]
  },
  {
   "cell_type": "markdown",
   "metadata": {
    "colab_type": "text",
    "id": "8rl4JBBuotxx"
   },
   "source": [
    "* **Observations from confusion matrix:**\n",
    "\n",
    "    * Here we can see that diagonal entries are large as compared to non diagonal ones, hence our model is performing nice.\n",
    "    * Also note that we have predicted 145 datapoints with y=0 out of total 177 datapoints, whereas we have predicted 147 datapoints with y=4 correctly from total of 182 datapoints, hence although we have less number for class=0 but ratio with total datapoints with particular class label is same, therefore TNR and TPR are 0.8192 and 0.8077(Considering 0 as negative label and 1 as positive label). Hence our model is performing well for both the labels."
   ]
  },
  {
   "cell_type": "markdown",
   "metadata": {
    "colab_type": "text",
    "id": "_RNohY6Uotxz"
   },
   "source": [
    "## Part (d) : Stemming, Removing Stopwords and cleaning Data \n",
    "\n",
    "In this part I have preprocessed the original data and for that I have followed follwing steps.\n",
    "\n",
    "1. Remove usernames\n",
    "2. Remove stopwords\n",
    "3. Stemming\n",
    "\n",
    "This method uses 6 cores of my machine to clean data in parallel. and you can set flags as mentioned in the docstring of the method."
   ]
  },
  {
   "cell_type": "code",
   "execution_count": 0,
   "metadata": {
    "colab": {},
    "colab_type": "code",
    "id": "WvhJkXLZotx0"
   },
   "outputs": [],
   "source": [
    "def cleanData(X, useTweetTokenizer=False, removeNot=False, usePorterStemmer=False):\n",
    "    '''\n",
    "        This method returns list of preprocessed text.\n",
    "        \n",
    "        **********\n",
    "        Arguments:\n",
    "            X : list of strings to clean\n",
    "            useTweetTokenizer=False : Flag that mentiones which tokenizer to use.\n",
    "                                        True : use nltk's TweetTokenizer\n",
    "                                        False : re.split('\\,|,| ',s)\n",
    "            removeNot=False : Remove not and words like aren't isn't from stopwords.\n",
    "            useProterStemmer=False : use Porter or snowball stemmer from nltk\n",
    "        **********\n",
    "    '''\n",
    "    stop = set(stopwords.words('english')) #set of stopwords\n",
    "    porter = nltk.stem.PorterStemmer()\n",
    "    sno = nltk.stem.SnowballStemmer('english') #initialising the snowball stemmer\n",
    "    tt = TweetTokenizer(preserve_case=False, strip_handles=True)\n",
    "    \n",
    "    stemmer=sno\n",
    "    if usePorterStemmer:\n",
    "        stemmer=porter\n",
    "    \n",
    "    if removeNot:\n",
    "        stop.remove('not')\n",
    "        stop.remove('no')\n",
    "        new_stop = set()\n",
    "        for word in stop:\n",
    "            if word.endswith('n\\'t'):\n",
    "                continue\n",
    "            else:\n",
    "                new_stop.add(word)\n",
    "        stop = new_stop\n",
    "    \n",
    "    splitString = ',|\\.| '\n",
    "    \n",
    "    def cleanUserName(sentence): #function to clean the word of any html-tags\n",
    "        cleanr = re.compile('@\\S*')\n",
    "        cleantext = re.sub(cleanr, '', sentence)\n",
    "        return cleantext\n",
    "    \n",
    "    simpleTok = lambda s : [x for x in re.split(splitString, cleanUserName(s)) if x!='']\n",
    "    tweetTok = lambda s : tt.tokenize(s)\n",
    "    \n",
    "    tokenize = simpleTok\n",
    "    if useTweetTokenizer:\n",
    "        tokenize = tweetTok\n",
    "    \n",
    "    def cleanSingleDoc(sent):\n",
    "        filtered_sentence=[]\n",
    "        words = tokenize(sent)\n",
    "        \n",
    "        for word in words:\n",
    "            if((len(word)>1 or word.isalpha()) & (word not in stop)):\n",
    "                s=(stemmer.stem(word)).encode('utf-8')\n",
    "                filtered_sentence.append(s)\n",
    "            else:\n",
    "                continue\n",
    "        str1 = b\" \".join(filtered_sentence) #final string of cleaned words\n",
    "        return (str1.decode('utf-8'))\n",
    "    \n",
    "    final_string = Parallel(n_jobs=10)(delayed(cleanSingleDoc)(sent) for sent in tqdm(X, desc = 'Cleaning'))\n",
    "    \n",
    "    return np.array(final_string)"
   ]
  },
  {
   "cell_type": "code",
   "execution_count": 9,
   "metadata": {
    "colab": {
     "base_uri": "https://localhost:8080/",
     "height": 54
    },
    "colab_type": "code",
    "id": "iRkKCZ3uotx6",
    "outputId": "57cbb477-68ce-44d6-bb51-da1c7fb50383"
   },
   "outputs": [
    {
     "name": "stderr",
     "output_type": "stream",
     "text": [
      "Cleaning: 100%|██████████| 1600000/1600000 [00:52<00:00, 30637.64it/s]\n",
      "Cleaning: 100%|██████████| 359/359 [00:00<00:00, 2237.25it/s]\n"
     ]
    }
   ],
   "source": [
    "#Cleaning our dataset\n",
    "\n",
    "X_train_cleaned = cleanData(X_train, useTweetTokenizer=True, removeNot=True, usePorterStemmer=True)\n",
    "X_test_cleaned = cleanData(X_test, useTweetTokenizer=True, removeNot=True, usePorterStemmer=True)"
   ]
  },
  {
   "cell_type": "code",
   "execution_count": 10,
   "metadata": {
    "colab": {
     "base_uri": "https://localhost:8080/",
     "height": 109
    },
    "colab_type": "code",
    "id": "vG--6N7Kotx_",
    "outputId": "a8f527fc-338b-4333-f197-a603cef85d7f",
    "scrolled": true
   },
   "outputs": [
    {
     "name": "stderr",
     "output_type": "stream",
     "text": [
      "Generating Vocabulary: 100%|██████████| 1600000/1600000 [00:06<00:00, 232238.60it/s]\n",
      "Generating Theta List for Label=0: 100%|██████████| 800000/800000 [00:06<00:00, 131717.72it/s]\n",
      "Generating Theta List for Label=4: 100%|██████████| 800000/800000 [00:05<00:00, 134640.01it/s]\n",
      "Generating Predictions: 100%|██████████| 359/359 [00:00<00:00, 36283.26it/s]"
     ]
    },
    {
     "name": "stdout",
     "output_type": "stream",
     "text": [
      "Accuracy on Cleaned Test Data : 82.7298 %\n"
     ]
    },
    {
     "name": "stderr",
     "output_type": "stream",
     "text": [
      "\n"
     ]
    }
   ],
   "source": [
    "#Getting Test accuracy on cleaned Data\n",
    "\n",
    "nb_cleaned = NaiveBayes()\n",
    "\n",
    "nb_cleaned.fit(X_train_cleaned, Y_train)\n",
    "\n",
    "# train_pred_cleaned = nb_cleaned.predict(X_train_cleaned)\n",
    "# print('Accuracy on Cleaned Train Data : %.4f %c'%(metrics.accuracy_score(Y_train, train_pred_cleaned),'%'))\n",
    "\n",
    "test_pred_cleaned = nb_cleaned.predict(X_test_cleaned)\n",
    "print('Accuracy on Cleaned Test Data : %.4f %c'%(metrics.accuracy_score(Y_test, test_pred_cleaned),'%'))"
   ]
  },
  {
   "cell_type": "markdown",
   "metadata": {
    "colab_type": "text",
    "id": "ubXqneCxotyD"
   },
   "source": [
    "* **Observations :**\n",
    "\n",
    "Here we can see that after cleaning our test accuracy increases from 81.337 to 82.7298 which is significant."
   ]
  },
  {
   "cell_type": "markdown",
   "metadata": {
    "colab_type": "text",
    "id": "uqmWf05cotyF"
   },
   "source": [
    "## Part (e) : Feature Engineering\n",
    "\n",
    "* In this part I have implemented 3 features that are bi-grams, tri-grams and part of speech taggings. They are implemented as flags in main class that I implemented earlier in part (a). We can just pass argument to that class' constructor and accordingly model will be trained. \n",
    "\n",
    "\n",
    "* Now testing model by adding various features."
   ]
  },
  {
   "cell_type": "code",
   "execution_count": 11,
   "metadata": {
    "colab": {
     "base_uri": "https://localhost:8080/",
     "height": 109
    },
    "colab_type": "code",
    "id": "K5WbxpryotyH",
    "outputId": "ab0e5827-36a0-49a3-88d9-25039b9e24c3"
   },
   "outputs": [
    {
     "name": "stderr",
     "output_type": "stream",
     "text": [
      "Generating Vocabulary: 100%|██████████| 1600000/1600000 [00:13<00:00, 117590.02it/s]\n",
      "Generating Theta List for Label=0: 100%|██████████| 800000/800000 [00:13<00:00, 59814.75it/s]\n",
      "Generating Theta List for Label=4: 100%|██████████| 800000/800000 [00:13<00:00, 60814.51it/s]\n",
      "Generating Predictions: 100%|██████████| 359/359 [00:00<00:00, 18135.95it/s]"
     ]
    },
    {
     "name": "stdout",
     "output_type": "stream",
     "text": [
      "Accuracy on Cleaned Test Data : 82.4513 %\n"
     ]
    },
    {
     "name": "stderr",
     "output_type": "stream",
     "text": [
      "\n"
     ]
    }
   ],
   "source": [
    "nb_bi = NaiveBayes(addBigrams=True)\n",
    "\n",
    "nb_bi.fit(X_train_cleaned, Y_train)\n",
    "\n",
    "test_pred_cleaned = nb_bi.predict(X_test_cleaned)\n",
    "print('Accuracy on Cleaned Test Data : %.4f %c'%(metrics.accuracy_score(Y_test, test_pred_cleaned),'%'))"
   ]
  },
  {
   "cell_type": "code",
   "execution_count": 12,
   "metadata": {
    "colab": {
     "base_uri": "https://localhost:8080/",
     "height": 109
    },
    "colab_type": "code",
    "id": "TUMQIzKMotyO",
    "outputId": "b66a699a-1338-436c-c656-9d2194318bf5"
   },
   "outputs": [
    {
     "name": "stderr",
     "output_type": "stream",
     "text": [
      "Generating Vocabulary: 100%|██████████| 1600000/1600000 [00:14<00:00, 110188.15it/s]\n",
      "Generating Theta List for Label=0: 100%|██████████| 800000/800000 [00:13<00:00, 58454.80it/s]\n",
      "Generating Theta List for Label=4: 100%|██████████| 800000/800000 [00:13<00:00, 60073.27it/s]\n",
      "Generating Predictions: 100%|██████████| 359/359 [00:00<00:00, 18361.30it/s]"
     ]
    },
    {
     "name": "stdout",
     "output_type": "stream",
     "text": [
      "Accuracy on Cleaned Test Data : 83.8440 %\n"
     ]
    },
    {
     "name": "stderr",
     "output_type": "stream",
     "text": [
      "\n"
     ]
    }
   ],
   "source": [
    "nb_tri = NaiveBayes(addTrigrams=True)\n",
    "\n",
    "nb_tri.fit(X_train_cleaned, Y_train)\n",
    "\n",
    "test_pred_cleaned = nb_tri.predict(X_test_cleaned)\n",
    "print('Accuracy on Cleaned Test Data : %.4f %c'%(metrics.accuracy_score(Y_test, test_pred_cleaned),'%'))"
   ]
  },
  {
   "cell_type": "code",
   "execution_count": 13,
   "metadata": {
    "colab": {
     "base_uri": "https://localhost:8080/",
     "height": 109
    },
    "colab_type": "code",
    "id": "lE3jqT3jotyS",
    "outputId": "8055adc7-e97f-4e37-c874-0ee2bc3482f4"
   },
   "outputs": [
    {
     "name": "stderr",
     "output_type": "stream",
     "text": [
      "Generating Vocabulary: 100%|██████████| 1600000/1600000 [00:20<00:00, 77910.86it/s]\n",
      "Generating Theta List for Label=0: 100%|██████████| 800000/800000 [00:20<00:00, 38443.96it/s]\n",
      "Generating Theta List for Label=4: 100%|██████████| 800000/800000 [00:19<00:00, 40176.52it/s]\n",
      "Generating Predictions: 100%|██████████| 359/359 [00:00<00:00, 12420.65it/s]"
     ]
    },
    {
     "name": "stdout",
     "output_type": "stream",
     "text": [
      "Accuracy on Cleaned Test Data : 82.4513 %\n"
     ]
    },
    {
     "name": "stderr",
     "output_type": "stream",
     "text": [
      "\n"
     ]
    }
   ],
   "source": [
    "nb_BiTri = NaiveBayes(addBigrams=True, addTrigrams=True)\n",
    "\n",
    "nb_BiTri.fit(X_train_cleaned, Y_train)\n",
    "\n",
    "test_pred_BiTri = nb_BiTri.predict(X_test_cleaned)\n",
    "print('Accuracy on Cleaned Test Data : %.4f %c'%(metrics.accuracy_score(Y_test, test_pred_BiTri),'%'))"
   ]
  },
  {
   "cell_type": "code",
   "execution_count": 14,
   "metadata": {
    "colab": {
     "base_uri": "https://localhost:8080/",
     "height": 127
    },
    "colab_type": "code",
    "id": "_VV2pEK1otyX",
    "outputId": "e4388c48-47c8-45b2-8b1f-f0dcb38687c4"
   },
   "outputs": [
    {
     "name": "stderr",
     "output_type": "stream",
     "text": [
      "Generating POS List: 100%|██████████| 1600000/1600000 [04:20<00:00, 6135.13it/s]\n",
      "Generating Vocabulary: 100%|██████████| 1600000/1600000 [00:09<00:00, 174632.52it/s]\n",
      "Generating Theta List for Label=0: 100%|██████████| 800000/800000 [00:08<00:00, 89014.69it/s]\n",
      "Generating Theta List for Label=4: 100%|██████████| 800000/800000 [00:09<00:00, 85560.08it/s]\n",
      "Generating Predictions: 100%|██████████| 359/359 [00:00<00:00, 1100.48it/s]"
     ]
    },
    {
     "name": "stdout",
     "output_type": "stream",
     "text": [
      "Accuracy on Cleaned Test Data : 76.8802 %\n"
     ]
    },
    {
     "name": "stderr",
     "output_type": "stream",
     "text": [
      "\n"
     ]
    }
   ],
   "source": [
    "nb_POS = NaiveBayes(addPOS=True)\n",
    "\n",
    "nb_POS.fit(X_train_cleaned, Y_train)\n",
    "\n",
    "test_pred_POS = nb_POS.predict(X_test_cleaned)\n",
    "print('Accuracy on Cleaned Test Data : %.4f %c'%(metrics.accuracy_score(Y_test, test_pred_POS),'%'))"
   ]
  },
  {
   "cell_type": "code",
   "execution_count": 15,
   "metadata": {
    "colab": {
     "base_uri": "https://localhost:8080/",
     "height": 127
    },
    "colab_type": "code",
    "id": "tpeLbnMdotya",
    "outputId": "fabbd898-01e7-4501-f095-cb355d4c32c1"
   },
   "outputs": [
    {
     "name": "stderr",
     "output_type": "stream",
     "text": [
      "Generating POS List: 100%|██████████| 1600000/1600000 [04:16<00:00, 6226.81it/s]\n",
      "Generating Vocabulary: 100%|██████████| 1600000/1600000 [00:17<00:00, 91743.44it/s]\n",
      "Generating Theta List for Label=0: 100%|██████████| 800000/800000 [00:17<00:00, 47039.76it/s]\n",
      "Generating Theta List for Label=4: 100%|██████████| 800000/800000 [00:17<00:00, 44733.98it/s]\n",
      "Generating Predictions: 100%|██████████| 359/359 [00:00<00:00, 1366.89it/s]"
     ]
    },
    {
     "name": "stdout",
     "output_type": "stream",
     "text": [
      "Accuracy on Cleaned Test Data : 77.7159 %\n"
     ]
    },
    {
     "name": "stderr",
     "output_type": "stream",
     "text": [
      "\n"
     ]
    }
   ],
   "source": [
    "nb_POS_Tri = NaiveBayes(addPOS=True, addTrigrams=True)\n",
    "\n",
    "nb_POS_Tri.fit(X_train_cleaned, Y_train)\n",
    "\n",
    "test_pred_POS_Tri = nb_POS_Tri.predict(X_test_cleaned)\n",
    "print('Accuracy on Cleaned Test Data : %.4f %c'%(metrics.accuracy_score(Y_test, test_pred_POS_Tri),'%'))"
   ]
  },
  {
   "cell_type": "markdown",
   "metadata": {
    "colab_type": "text",
    "id": "hAxLP7-lotyd"
   },
   "source": [
    "* **Observations :**\n",
    "\n",
    "  * As we can see that adding trigrams gave us best accuracy among all the models.\n",
    "\n",
    "  * All the other model's accuracies are summerized in the table below.\n",
    "\n",
    "\n",
    "| Features         | Test Accuracy |\n",
    "|------------------|---------------|\n",
    "| Bigrams          | 82.4513       |\n",
    "| TriGrams         | 83.8440       |\n",
    "| BiGrams+TriGrams | 82.4513       |\n",
    "| POS              | 76.8802       |\n",
    "| POS+Trigrams     | 77.7159       |"
   ]
  },
  {
   "cell_type": "markdown",
   "metadata": {
    "colab_type": "text",
    "id": "0E2xK3ODotyf"
   },
   "source": [
    "# Part (f) : tf-idf + GaussianNB\n",
    "\n",
    "* In this part I have got tf-idf vectors of the trained data and then applied GaussianNB model on top of that and found accuracies for test dataset. \n",
    "\n",
    "\n",
    "* In this part I was doing it by partial_fitting data on a single model but taht was taking more than 1 hour and 10 minutes to train as it was using only one core of cpu. So I vertically splitted the train Data and trained multiple models in parallel and then predicted on test dataset using predict_log_proba and taking sum of all teh log probabilities as naive bayes assumes that features are independent and subtracting class priors accordingy as in each model we would have multiplied it. This implementation was so much faster and trained model within 10 minutes(Around 8 minutes)."
   ]
  },
  {
   "cell_type": "code",
   "execution_count": 16,
   "metadata": {
    "colab": {
     "base_uri": "https://localhost:8080/",
     "height": 35
    },
    "colab_type": "code",
    "id": "viv3K764otyg",
    "outputId": "a581e74d-2199-4b3a-aaeb-502122b7c8c8",
    "scrolled": false
   },
   "outputs": [
    {
     "name": "stdout",
     "output_type": "stream",
     "text": [
      "Shape of X_train_tfidf :  (1600000, 307449)\n"
     ]
    }
   ],
   "source": [
    "tfidf = TfidfVectorizer(dtype=np.float32)\n",
    "\n",
    "X_train_tfidf = tfidf.fit_transform(X_train_cleaned)\n",
    "X_test_tfidf = tfidf.transform(X_test_cleaned)\n",
    "\n",
    "print('Shape of X_train_tfidf : ',X_train_tfidf.shape)"
   ]
  },
  {
   "cell_type": "code",
   "execution_count": 0,
   "metadata": {
    "colab": {},
    "colab_type": "code",
    "id": "0dMfvPhRotyj",
    "scrolled": true
   },
   "outputs": [],
   "source": [
    "class MyGaussianNB:\n",
    "    '''\n",
    "    This class is implementation to train gaussian naive bayes model on sparse data set on multiple cores.\n",
    "    \n",
    "    *************\n",
    "    Parameters:\n",
    "    \n",
    "    n_jobs=1 : Number of cores\n",
    "    v_split_size=200 : Max number of features in each base models\n",
    "    *************\n",
    "    '''\n",
    "    def __init__(self, n_jobs=1, v_split_size=200):\n",
    "        self.n_jobs = n_jobs\n",
    "        self.v_split_size = v_split_size\n",
    "        \n",
    "    def fit(self, X_tr, Y_tr):\n",
    "        start_time = time()\n",
    "        \n",
    "        def fit_parallel(i):\n",
    "            return GaussianNB().fit(X_tr[:,i:(i+self.v_split_size)].toarray(), Y_tr)\n",
    "        self.models = Parallel(n_jobs=self.n_jobs)(delayed(fit_parallel)(i) for i in tqdm(range(0, X_tr.shape[1], self.v_split_size), desc='Fitting Multiple models based on verticle splits'))\n",
    "        \n",
    "        end_time = time()\n",
    "        print('Completed training in %.2f minutes'%((end_time-start_time)/60))\n",
    "        \n",
    "    def predict(self, X):\n",
    "        \n",
    "        log_proba=np.zeros((X.shape[0],2))\n",
    "        \n",
    "        for model,i in zip(self.models, range(0, X.shape[1], self.v_split_size)):\n",
    "            log_proba += model.predict_log_proba(X[:,i:(i+self.v_split_size)].todense())\n",
    "        \n",
    "        log_proba -= (len(self.models)-1)*self.models[0].class_prior_\n",
    "        return log_proba.argmax(axis=1)*4\n",
    "    \n",
    "    def predict_log_proba(self, X):\n",
    "        \n",
    "        log_proba=np.zeros((X.shape[0],2))\n",
    "        \n",
    "        for model,i in zip(self.models, range(0, X.shape[1], self.v_split_size)):\n",
    "            log_proba += model.predict_log_proba(X[:,i:(i+self.v_split_size)].todense())\n",
    "        \n",
    "        log_proba -= (len(self.models)-1)*self.models[0].class_prior_\n",
    "        return log_proba"
   ]
  },
  {
   "cell_type": "code",
   "execution_count": 18,
   "metadata": {
    "colab": {
     "base_uri": "https://localhost:8080/",
     "height": 129
    },
    "colab_type": "code",
    "id": "6C6IB33Fotyo",
    "outputId": "272196ad-dead-4430-9e09-2b3859315d69"
   },
   "outputs": [
    {
     "name": "stderr",
     "output_type": "stream",
     "text": [
      "Fitting Multiple models based on verticle splits:   2%|▏         | 30/1538 [00:15<10:25,  2.41it/s]/usr/local/lib/python3.6/dist-packages/joblib/externals/loky/process_executor.py:706: UserWarning: A worker stopped while some jobs were given to the executor. This can be caused by a too short worker timeout or by a memory leak.\n",
      "  \"timeout or by a memory leak.\", UserWarning\n",
      "Fitting Multiple models based on verticle splits: 100%|██████████| 1538/1538 [10:18<00:00,  2.49it/s]\n"
     ]
    },
    {
     "name": "stdout",
     "output_type": "stream",
     "text": [
      "Completed training in 10.48 minutes\n",
      "Accuracy on Test Dataset using whole dataset without using min_df : 49.58 %\n"
     ]
    }
   ],
   "source": [
    "myGNB_full = MyGaussianNB(n_jobs=10, v_split_size=200)\n",
    "myGNB_full.fit(X_train_tfidf, Y_train)\n",
    "\n",
    "pred_gnb = myGNB_full.predict(X_test_tfidf)\n",
    "\n",
    "print('Accuracy on Test Dataset using whole dataset without using min_df : %.2f %c'%(sum(pred_gnb == Y_test) * 100 / len(pred_gnb), '%'))"
   ]
  },
  {
   "cell_type": "markdown",
   "metadata": {
    "colab_type": "text",
    "id": "AVxjOht8otyu"
   },
   "source": [
    "* **Doing Select Percentile to select 2% features**"
   ]
  },
  {
   "cell_type": "code",
   "execution_count": 19,
   "metadata": {
    "colab": {
     "base_uri": "https://localhost:8080/",
     "height": 35
    },
    "colab_type": "code",
    "id": "aTDXFErtotyv",
    "outputId": "fdb8f97a-5c3d-483e-f70f-f6354641db77"
   },
   "outputs": [
    {
     "name": "stdout",
     "output_type": "stream",
     "text": [
      "Dimnsions of train dataset after selecting 2 percentile features :  (1600000, 6149)\n"
     ]
    }
   ],
   "source": [
    "from sklearn.feature_selection import SelectPercentile\n",
    "from sklearn.feature_selection import f_classif\n",
    "\n",
    "sel = SelectPercentile(f_classif, percentile=2).fit(X_train_tfidf, Y_train)\n",
    "\n",
    "X_train_2 = sel.transform(X_train_tfidf)\n",
    "X_test_2 = sel.transform(X_test_tfidf)\n",
    "\n",
    "print('Dimnsions of train dataset after selecting 2 percentile features : ', X_train_2.shape)"
   ]
  },
  {
   "cell_type": "code",
   "execution_count": 27,
   "metadata": {
    "colab": {
     "base_uri": "https://localhost:8080/",
     "height": 72
    },
    "colab_type": "code",
    "id": "uD-47uAzotyy",
    "outputId": "a4862859-8860-4786-c5ae-72da8c9a5706"
   },
   "outputs": [
    {
     "name": "stderr",
     "output_type": "stream",
     "text": [
      "Fitting Multiple models based on verticle splits: 100%|██████████| 41/41 [00:11<00:00,  3.50it/s]\n"
     ]
    },
    {
     "name": "stdout",
     "output_type": "stream",
     "text": [
      "Completed training in 0.27 minutes\n",
      "Accuracy on Test Dataset having 10 percentile features without using min_df : 70.19 %\n"
     ]
    }
   ],
   "source": [
    "myGNB_full_2 = MyGaussianNB(n_jobs=6, v_split_size=150)\n",
    "myGNB_full_2.fit(X_train_2, Y_train)\n",
    "\n",
    "pred_gnb_2 = myGNB_full_2.predict(X_test_2)\n",
    "print('Accuracy on Test Dataset having 10 percentile features without using min_df : %.2f %c'%(sum(pred_gnb_2 == Y_test) * 100 / len(pred_gnb_2), '%'))"
   ]
  },
  {
   "cell_type": "markdown",
   "metadata": {
    "colab_type": "text",
    "id": "AVxjOht8otyu"
   },
   "source": [
    "* **Doing Select Percentile to select 1% features**"
   ]
  },
  {
   "cell_type": "code",
   "execution_count": 30,
   "metadata": {
    "colab": {
     "base_uri": "https://localhost:8080/",
     "height": 35
    },
    "colab_type": "code",
    "id": "EP_RRDVdqwwt",
    "outputId": "15b958cd-bf80-4d36-c6c7-7a546ec2b0e3"
   },
   "outputs": [
    {
     "name": "stdout",
     "output_type": "stream",
     "text": [
      "Dimnsions of train dataset after selecting 1 percentile features :  (1600000, 3075)\n"
     ]
    }
   ],
   "source": [
    "sel = SelectPercentile(f_classif, percentile=1).fit(X_train_tfidf, Y_train)\n",
    "\n",
    "X_train_1 = sel.transform(X_train_tfidf)\n",
    "X_test_1 = sel.transform(X_test_tfidf)\n",
    "\n",
    "print('Dimnsions of train dataset after selecting 1 percentile features : ', X_train_1.shape)\n"
   ]
  },
  {
   "cell_type": "code",
   "execution_count": 29,
   "metadata": {
    "colab": {
     "base_uri": "https://localhost:8080/",
     "height": 72
    },
    "colab_type": "code",
    "id": "CMWJsNvSqwxX",
    "outputId": "bbeb637e-6bf8-4c23-8bae-023735a5b45c"
   },
   "outputs": [
    {
     "name": "stderr",
     "output_type": "stream",
     "text": [
      "Fitting Multiple models based on verticle splits: 100%|██████████| 21/21 [00:04<00:00,  4.50it/s]\n"
     ]
    },
    {
     "name": "stdout",
     "output_type": "stream",
     "text": [
      "Completed training in 0.15 minutes\n",
      "Accuracy on Test Dataset having 10 percentile features without using min_df : 73.54 %\n"
     ]
    }
   ],
   "source": [
    "myGNB_full_1 = MyGaussianNB(n_jobs=6, v_split_size=150)\n",
    "myGNB_full_1.fit(X_train_1, Y_train)\n",
    "pred_gnb_1 = myGNB_full_1.predict(X_test_1)\n",
    "print('Accuracy on Test Dataset having 10 percentile features without using min_df : %.2f %c'%(sum(pred_gnb_1 == Y_test) * 100 / len(pred_gnb_1), '%'))"
   ]
  },
  {
   "cell_type": "markdown",
   "metadata": {
    "colab": {},
    "colab_type": "code",
    "id": "3OhBv6cNq1jh"
   },
   "source": [
    "* **Making tf-idf vectors with min_df=100 and max_features=5000**"
   ]
  },
  {
   "cell_type": "code",
   "execution_count": 42,
   "metadata": {
    "colab": {
     "base_uri": "https://localhost:8080/",
     "height": 35
    },
    "colab_type": "code",
    "id": "8ZP_bdzyoty5",
    "outputId": "c495c55e-ac6a-4616-91a6-bb1a7f3b855a"
   },
   "outputs": [
    {
     "name": "stdout",
     "output_type": "stream",
     "text": [
      "Shape of X_train_tfidf :  (1600000, 5000)\n"
     ]
    }
   ],
   "source": [
    "tfidf = TfidfVectorizer(dtype=np.float32, min_df=100, max_features=5000)\n",
    "\n",
    "X_train_tfidf_mindf = tfidf.fit_transform(X_train_cleaned)\n",
    "X_test_tfidf_mindf = tfidf.transform(X_test_cleaned)\n",
    "\n",
    "print('Shape of X_train_tfidf : ',X_train_tfidf_mindf.shape)"
   ]
  },
  {
   "cell_type": "code",
   "execution_count": 43,
   "metadata": {
    "colab": {
     "base_uri": "https://localhost:8080/",
     "height": 72
    },
    "colab_type": "code",
    "id": "tkbejwU9oty8",
    "outputId": "71facf25-5415-42d2-d747-ec89358c0824"
   },
   "outputs": [
    {
     "name": "stderr",
     "output_type": "stream",
     "text": [
      "Fitting Multiple models based on verticle splits: 100%|██████████| 34/34 [00:09<00:00,  3.61it/s]\n"
     ]
    },
    {
     "name": "stdout",
     "output_type": "stream",
     "text": [
      "Completed training in 0.23 minutes\n",
      "Accuracy on Test Dataset using whole dataset with using min_df : 72.42 %\n"
     ]
    }
   ],
   "source": [
    "myGNB_mindf = MyGaussianNB(n_jobs=6, v_split_size=150)\n",
    "myGNB_mindf.fit(X_train_tfidf_mindf, Y_train)\n",
    "pred_mindf = myGNB_mindf.predict(X_test_tfidf_mindf)\n",
    "\n",
    "print('Accuracy on Test Dataset using whole dataset with using min_df : %.2f %c'%(sum(pred_mindf == Y_test) * 100 / len(pred_mindf), '%'))"
   ]
  },
  {
   "cell_type": "markdown",
   "metadata": {},
   "source": [
    "* **Doing Select Percentile to select 10% features**"
   ]
  },
  {
   "cell_type": "code",
   "execution_count": 44,
   "metadata": {
    "colab": {
     "base_uri": "https://localhost:8080/",
     "height": 35
    },
    "colab_type": "code",
    "id": "Wu0bZYFZotzE",
    "outputId": "a6b543b0-3cfc-4927-a8bb-05b20eab389f"
   },
   "outputs": [
    {
     "name": "stdout",
     "output_type": "stream",
     "text": [
      "Dimnsions of train dataset after selecting 10 percentile features :  (1600000, 500)\n"
     ]
    }
   ],
   "source": [
    "sel = SelectPercentile(f_classif, percentile=10).fit(X_train_tfidf_mindf, Y_train)\n",
    "\n",
    "X_train_10_mindf = sel.transform(X_train_tfidf_mindf)\n",
    "X_test_10_mindf = sel.transform(X_test_tfidf_mindf)\n",
    "print('Dimnsions of train dataset after selecting 10 percentile features : ', X_train_10_mindf.shape)\n"
   ]
  },
  {
   "cell_type": "code",
   "execution_count": 45,
   "metadata": {
    "colab": {
     "base_uri": "https://localhost:8080/",
     "height": 72
    },
    "colab_type": "code",
    "id": "5PYaQ3Z4otzH",
    "outputId": "e02d43d4-7704-4391-afb5-33138ba506db"
   },
   "outputs": [
    {
     "name": "stderr",
     "output_type": "stream",
     "text": [
      "Fitting Multiple models based on verticle splits: 100%|██████████| 4/4 [00:00<00:00, 4911.36it/s]\n"
     ]
    },
    {
     "name": "stdout",
     "output_type": "stream",
     "text": [
      "Completed training in 0.04 minutes\n",
      "Accuracy on Test Dataset having 10 percentile features with using min_df : 78.83 %\n"
     ]
    }
   ],
   "source": [
    "myGNB_mindf_10 = MyGaussianNB(n_jobs=6, v_split_size=150)\n",
    "myGNB_mindf_10.fit(X_train_10_mindf, Y_train)\n",
    "pred_10_mindf = myGNB_mindf_10.predict(X_test_10_mindf)\n",
    "\n",
    "print('Accuracy on Test Dataset having 10 percentile features with using min_df : %.2f %c'%(sum(pred_10_mindf == Y_test) * 100 / len(pred_10_mindf), '%'))"
   ]
  },
  {
   "cell_type": "markdown",
   "metadata": {},
   "source": [
    "* **Doing Select Percentile to select 15% features**"
   ]
  },
  {
   "cell_type": "code",
   "execution_count": 46,
   "metadata": {
    "colab": {
     "base_uri": "https://localhost:8080/",
     "height": 35
    },
    "colab_type": "code",
    "id": "00HSq8_Rv8TT",
    "outputId": "60c69c5e-b758-49be-f117-4d4ae026fd60"
   },
   "outputs": [
    {
     "name": "stdout",
     "output_type": "stream",
     "text": [
      "Dimnsions of train dataset after selecting 10 percentile features :  (1600000, 750)\n"
     ]
    }
   ],
   "source": [
    "sel = SelectPercentile(f_classif, percentile=15).fit(X_train_tfidf_mindf, Y_train)\n",
    "\n",
    "X_train_15_mindf = sel.transform(X_train_tfidf_mindf)\n",
    "X_test_15_mindf = sel.transform(X_test_tfidf_mindf)\n",
    "print('Dimnsions of train dataset after selecting 10 percentile features : ', X_train_15_mindf.shape)"
   ]
  },
  {
   "cell_type": "code",
   "execution_count": 47,
   "metadata": {
    "colab": {
     "base_uri": "https://localhost:8080/",
     "height": 72
    },
    "colab_type": "code",
    "id": "qBL_heSiv8T-",
    "outputId": "d15f6a18-25f9-4e8d-e904-b93b1fbcdb32"
   },
   "outputs": [
    {
     "name": "stderr",
     "output_type": "stream",
     "text": [
      "Fitting Multiple models based on verticle splits: 100%|██████████| 5/5 [00:00<00:00, 4974.27it/s]\n"
     ]
    },
    {
     "name": "stdout",
     "output_type": "stream",
     "text": [
      "Completed training in 0.04 minutes\n",
      "Accuracy on Test Dataset having 10 percentile features with using min_df : 75.49 %\n"
     ]
    }
   ],
   "source": [
    "myGNB_mindf_15 = MyGaussianNB(n_jobs=6, v_split_size=150)\n",
    "myGNB_mindf_15.fit(X_train_15_mindf, Y_train)\n",
    "pred_15_mindf = myGNB_mindf_15.predict(X_test_15_mindf)\n",
    "\n",
    "print('Accuracy on Test Dataset having 10 percentile features with using min_df : %.2f %c'%(sum(pred_15_mindf == Y_test) * 100 / len(pred_15_mindf), '%'))"
   ]
  },
  {
   "cell_type": "markdown",
   "metadata": {},
   "source": [
    "* **Doing Select Percentile to select 5% features**"
   ]
  },
  {
   "cell_type": "code",
   "execution_count": 48,
   "metadata": {
    "colab": {
     "base_uri": "https://localhost:8080/",
     "height": 35
    },
    "colab_type": "code",
    "id": "TR138qfHL-3p",
    "outputId": "858e29bb-3436-4e5f-c351-b30840e228d0"
   },
   "outputs": [
    {
     "name": "stdout",
     "output_type": "stream",
     "text": [
      "Dimnsions of train dataset after selecting 10 percentile features :  (1600000, 250)\n"
     ]
    }
   ],
   "source": [
    "sel = SelectPercentile(f_classif, percentile=5).fit(X_train_tfidf_mindf, Y_train)\n",
    "\n",
    "X_train_5_mindf = sel.transform(X_train_tfidf_mindf)\n",
    "X_test_5_mindf = sel.transform(X_test_tfidf_mindf)\n",
    "print('Dimnsions of train dataset after selecting 10 percentile features : ', X_train_5_mindf.shape)"
   ]
  },
  {
   "cell_type": "code",
   "execution_count": 49,
   "metadata": {
    "colab": {
     "base_uri": "https://localhost:8080/",
     "height": 72
    },
    "colab_type": "code",
    "id": "9x47rOmXL-4T",
    "outputId": "5f1a08e8-dd38-489a-f458-d00e61288438"
   },
   "outputs": [
    {
     "name": "stderr",
     "output_type": "stream",
     "text": [
      "Fitting Multiple models based on verticle splits: 100%|██████████| 2/2 [00:00<00:00, 2159.79it/s]\n"
     ]
    },
    {
     "name": "stdout",
     "output_type": "stream",
     "text": [
      "Completed training in 0.04 minutes\n",
      "Accuracy on Test Dataset having 10 percentile features with using min_df : 76.04 %\n"
     ]
    }
   ],
   "source": [
    "myGNB_mindf_5 = MyGaussianNB(n_jobs=6, v_split_size=150)\n",
    "myGNB_mindf_5.fit(X_train_5_mindf, Y_train)\n",
    "pred_5_mindf = myGNB_mindf_5.predict(X_test_5_mindf)\n",
    "\n",
    "print('Accuracy on Test Dataset having 10 percentile features with using min_df : %.2f %c'%(sum(pred_5_mindf == Y_test) * 100 / len(pred_5_mindf), '%'))"
   ]
  },
  {
   "cell_type": "markdown",
   "metadata": {
    "colab_type": "text",
    "id": "rnziKMwsJHRj"
   },
   "source": [
    "* **Observations:**\n",
    "    \n",
    "    * Here we can see that this implementation of GaussianNB took so less time due to parallelization.\n",
    "    * Accuracies on the whole cleaned dataset is much poor.\n",
    "    * But when we reduced dimensions using select_percentile then we got better accuracy.\n",
    "    * Also when we initially reduced dimensions using min_df=100 and max_features=5000 then our model got trained very faster and we also got better accuracy numbers.\n",
    "    * When we select the smaller set of features time required to train model decreases drastically as full tfidf dataset took 8 minutes to train on 10 cores whereas all the reduced dimensions datasets got trained in from a second to 10s of seconds.\n",
    "    * All the accuracy figures are summerized in the figure below.\n",
    "    \n",
    "| Model                          | Test Accuracy | Dimensions |\n",
    "|--------------------------------|---------------|------------|\n",
    "| Whole Dataset                  | 49.58         | 307449     |\n",
    "| Whole Dataset + percentile=1   | 73.54         | 3075       |\n",
    "| Whole Dataset + percentile=2   | 70.19         | 6149       |\n",
    "| min_df Dataset                 | 72.42         | 5000       |\n",
    "| min_df Dataset + percentile=10 | 78.83         | 500        |\n",
    "| min_df Dataset + percentile=15 | 75.49         | 750        |\n",
    "| min_df Dataset + percentile=5  | 76.04         | 250        |"
   ]
  },
  {
   "cell_type": "markdown",
   "metadata": {
    "colab_type": "text",
    "id": "rvLDLM7WotzM"
   },
   "source": [
    "# Part (g): Plotting ROC"
   ]
  },
  {
   "cell_type": "code",
   "execution_count": 50,
   "metadata": {
    "colab": {
     "base_uri": "https://localhost:8080/",
     "height": 639
    },
    "colab_type": "code",
    "id": "u9MvSiYMotzM",
    "outputId": "4bddf3a0-4e69-423c-c774-1ea3cedf674c"
   },
   "outputs": [
    {
     "name": "stderr",
     "output_type": "stream",
     "text": [
      "Generating Log probabilities: 100%|██████████| 359/359 [00:00<00:00, 12945.72it/s]\n"
     ]
    },
    {
     "data": {
      "image/png": "[encoded data removed]",
      "text/plain": [
       "<Figure size 720x720 with 1 Axes>"
      ]
     },
     "metadata": {
      "tags": []
     },
     "output_type": "display_data"
    }
   ],
   "source": [
    "test_proba = nb_original.predict_log_proba(X_test)\n",
    "test_proba0 = np.array(test_proba)[0,:]\n",
    "test_proba4 = np.array(test_proba)[1,:]\n",
    "\n",
    "plt.figure(figsize=(10,10))\n",
    "fpr, tpr, thresholds = roc_curve(Y_test, test_proba0, pos_label=4)\n",
    "auc=roc_auc_score(Y_test==4, test_proba0)\n",
    "plt.plot(fpr, tpr, label='Test ROC for y=0, AUC=%.2f'%auc)\n",
    "\n",
    "fpr, tpr, thresholds = roc_curve(Y_test, test_proba4, pos_label=4)\n",
    "auc=roc_auc_score(Y_test==4, test_proba4)\n",
    "plt.plot(fpr, tpr, label='Test ROC for y=4, AUC=%.2f'%auc)\n",
    "\n",
    "plt.plot([0,1],[0,1], label='Random Model')\n",
    "plt.xlabel('FPR')\n",
    "plt.ylabel('TPR')\n",
    "plt.title('Train & Test ROC Curve For our model on Original Dataset')\n",
    "plt.legend()\n",
    "plt.show()"
   ]
  },
  {
   "cell_type": "code",
   "execution_count": 51,
   "metadata": {
    "colab": {
     "base_uri": "https://localhost:8080/",
     "height": 639
    },
    "colab_type": "code",
    "id": "8ttj56XpotzQ",
    "outputId": "4c5c70a1-82d2-4dce-8390-c094d32e6c16"
   },
   "outputs": [
    {
     "name": "stderr",
     "output_type": "stream",
     "text": [
      "Generating Log probabilities: 100%|██████████| 359/359 [00:00<00:00, 12605.74it/s]\n"
     ]
    },
    {
     "data": {
      "image/png": "[encoded data removed]",
      "text/plain": [
       "<Figure size 720x720 with 1 Axes>"
      ]
     },
     "metadata": {
      "tags": []
     },
     "output_type": "display_data"
    }
   ],
   "source": [
    "test_proba = nb_cleaned.predict_log_proba(X_test)\n",
    "test_proba0 = np.array(test_proba)[0,:]\n",
    "test_proba4 = np.array(test_proba)[1,:]\n",
    "\n",
    "plt.figure(figsize=(10,10))\n",
    "fpr, tpr, thresholds = roc_curve(Y_test, test_proba0, pos_label=4)\n",
    "auc=roc_auc_score(Y_test==4, test_proba0)\n",
    "plt.plot(fpr, tpr, label='Test ROC for y=0, AUC=%.2f'%auc)\n",
    "\n",
    "fpr, tpr, thresholds = roc_curve(Y_test, test_proba4, pos_label=4)\n",
    "auc=roc_auc_score(Y_test==4, test_proba4)\n",
    "plt.plot(fpr, tpr, label='Test ROC for y=4, AUC=%.2f'%auc)\n",
    "\n",
    "plt.plot([0,1],[0,1], label='Random Model')\n",
    "plt.xlabel('FPR')\n",
    "plt.ylabel('TPR')\n",
    "plt.title('Train & Test ROC Curve For our model on Cleaned Dataset')\n",
    "plt.legend()\n",
    "plt.show()"
   ]
  },
  {
   "cell_type": "code",
   "execution_count": 70,
   "metadata": {
    "colab": {
     "base_uri": "https://localhost:8080/",
     "height": 639
    },
    "colab_type": "code",
    "id": "qWyhl2_iMxfG",
    "outputId": "27129fcd-585f-4f95-ad06-f9b32e859e16"
   },
   "outputs": [
    {
     "name": "stderr",
     "output_type": "stream",
     "text": [
      "Generating Log probabilities: 100%|██████████| 359/359 [00:00<00:00, 3992.66it/s]\n"
     ]
    },
    {
     "data": {
      "image/png": "[encoded data removed]",
      "text/plain": [
       "<Figure size 720x720 with 1 Axes>"
      ]
     },
     "metadata": {
      "tags": []
     },
     "output_type": "display_data"
    }
   ],
   "source": [
    "test_proba = nb_tri.predict_log_proba(X_test)\n",
    "test_proba0 = np.array(test_proba)[0,:]\n",
    "test_proba4 = np.array(test_proba)[1,:]\n",
    "\n",
    "plt.figure(figsize=(10,10))\n",
    "fpr, tpr, thresholds = roc_curve(Y_test, test_proba0, pos_label=4)\n",
    "auc=roc_auc_score(Y_test==4, test_proba0)\n",
    "plt.plot(fpr, tpr, label='Test ROC for y=0, AUC=%.2f'%auc)\n",
    "\n",
    "fpr, tpr, thresholds = roc_curve(Y_test, test_proba4, pos_label=4)\n",
    "auc=roc_auc_score(Y_test==4, test_proba4)\n",
    "plt.plot(fpr, tpr, label='Test ROC for y=4, AUC=%.2f'%auc)\n",
    "\n",
    "plt.plot([0,1],[0,1], label='Random Model')\n",
    "plt.xlabel('FPR')\n",
    "plt.ylabel('TPR')\n",
    "plt.title('Train & Test ROC Curve For our model on Cleaned Dataset after adding tri-grams')\n",
    "plt.legend()\n",
    "plt.show()"
   ]
  },
  {
   "cell_type": "code",
   "execution_count": 71,
   "metadata": {
    "colab": {
     "base_uri": "https://localhost:8080/",
     "height": 621
    },
    "colab_type": "code",
    "id": "AIy9FCcFotzT",
    "outputId": "06d571e5-7435-486c-f0e6-6957a3b89293"
   },
   "outputs": [
    {
     "data": {
      "image/png": "[encoded data removed]",
      "text/plain": [
       "<Figure size 720x720 with 1 Axes>"
      ]
     },
     "metadata": {
      "tags": []
     },
     "output_type": "display_data"
    }
   ],
   "source": [
    "test_proba = myGNB_full.predict_log_proba(X_test_tfidf)\n",
    "test_proba0 = np.array(test_proba)[:,0]\n",
    "test_proba4 = np.array(test_proba)[:,1]\n",
    "\n",
    "plt.figure(figsize=(10,10))\n",
    "fpr, tpr, thresholds = roc_curve(Y_test, test_proba0, pos_label=0)\n",
    "auc=roc_auc_score(Y_test==0, test_proba0)\n",
    "plt.plot(fpr, tpr, label='Test ROC for y=0, AUC=%.2f'%auc)\n",
    "\n",
    "fpr, tpr, thresholds = roc_curve(Y_test, test_proba4, pos_label=4)\n",
    "auc=roc_auc_score(Y_test==4, test_proba4)\n",
    "plt.plot(fpr, tpr, label='Test ROC for y=4, AUC=%.2f'%auc)\n",
    "\n",
    "plt.plot([0,1],[0,1], label='Random Model')\n",
    "plt.xlabel('FPR')\n",
    "plt.ylabel('TPR')\n",
    "plt.title('Train & Test ROC Curve For Gaussian Niave bayes on full tfidf')\n",
    "plt.legend()\n",
    "plt.show()"
   ]
  },
  {
   "cell_type": "code",
   "execution_count": 72,
   "metadata": {
    "colab": {
     "base_uri": "https://localhost:8080/",
     "height": 621
    },
    "colab_type": "code",
    "id": "cEZqv4_6NpF-",
    "outputId": "c3f23b2a-7df4-417d-eea6-d3ba81c2bf79"
   },
   "outputs": [
    {
     "data": {
      "image/png": "[encoded data removed]",
      "text/plain": [
       "<Figure size 720x720 with 1 Axes>"
      ]
     },
     "metadata": {
      "tags": []
     },
     "output_type": "display_data"
    }
   ],
   "source": [
    "per = SelectPercentile(f_classif, percentile=1).fit(X_train_tfidf, Y_train)\n",
    "\n",
    "test_proba = myGNB_full_1.predict_log_proba(per.transform(X_test_tfidf))\n",
    "test_proba0 = np.array(test_proba)[:,0]\n",
    "test_proba4 = np.array(test_proba)[:,1]\n",
    "\n",
    "plt.figure(figsize=(10,10))\n",
    "fpr, tpr, thresholds = roc_curve(Y_test, test_proba0, pos_label=0)\n",
    "auc=roc_auc_score(Y_test==0, test_proba0)\n",
    "plt.plot(fpr, tpr, label='Test ROC for y=0, AUC=%.2f'%auc)\n",
    "\n",
    "fpr, tpr, thresholds = roc_curve(Y_test, test_proba4, pos_label=4)\n",
    "auc=roc_auc_score(Y_test==4, test_proba4)\n",
    "plt.plot(fpr, tpr, label='Test ROC for y=4, AUC=%.2f'%auc)\n",
    "\n",
    "plt.plot([0,1],[0,1], label='Random Model')\n",
    "plt.xlabel('FPR')\n",
    "plt.ylabel('TPR')\n",
    "plt.title('Train & Test ROC Curve For Gaussian Niave bayes on 1 percentile of full tfidf')\n",
    "plt.legend()\n",
    "plt.show()"
   ]
  },
  {
   "cell_type": "code",
   "execution_count": 73,
   "metadata": {
    "colab": {
     "base_uri": "https://localhost:8080/",
     "height": 621
    },
    "colab_type": "code",
    "id": "knfUCwS-otzW",
    "outputId": "7c897421-edb2-432e-c574-b402600de315"
   },
   "outputs": [
    {
     "data": {
      "image/png": "[encoded data removed]",
      "text/plain": [
       "<Figure size 720x720 with 1 Axes>"
      ]
     },
     "metadata": {
      "tags": []
     },
     "output_type": "display_data"
    }
   ],
   "source": [
    "test_proba = myGNB_mindf.predict_log_proba(X_test_tfidf_mindf)\n",
    "test_proba0 = np.array(test_proba)[:,0]\n",
    "test_proba4 = np.array(test_proba)[:,1]\n",
    "\n",
    "plt.figure(figsize=(10,10))\n",
    "fpr, tpr, thresholds = roc_curve(Y_test, test_proba0, pos_label=0)\n",
    "auc=roc_auc_score(Y_test==0, test_proba0)\n",
    "plt.plot(fpr, tpr, label='Test ROC for y=0, AUC=%.2f'%auc)\n",
    "\n",
    "fpr, tpr, thresholds = roc_curve(Y_test, test_proba4, pos_label=4)\n",
    "auc=roc_auc_score(Y_test==4, test_proba4)\n",
    "plt.plot(fpr, tpr, label='Test ROC for y=4, AUC=%.2f'%auc)\n",
    "\n",
    "plt.plot([0,1],[0,1], label='Random Model')\n",
    "plt.xlabel('FPR')\n",
    "plt.ylabel('TPR')\n",
    "plt.title('Train & Test ROC Curve For Gaussian Niave bayes on tfidf with min_df and max_features')\n",
    "plt.legend()\n",
    "plt.show()"
   ]
  },
  {
   "cell_type": "code",
   "execution_count": 75,
   "metadata": {
    "colab": {
     "base_uri": "https://localhost:8080/",
     "height": 621
    },
    "colab_type": "code",
    "id": "spv0_12uotzY",
    "outputId": "09e1b71c-1bbd-40e7-c54f-4afc64308f0e"
   },
   "outputs": [
    {
     "data": {
      "image/png": "[encoded data removed]",
      "text/plain": [
       "<Figure size 720x720 with 1 Axes>"
      ]
     },
     "metadata": {
      "tags": []
     },
     "output_type": "display_data"
    }
   ],
   "source": [
    "per = SelectPercentile(f_classif, percentile=10).fit(X_train_tfidf_mindf, Y_train)\n",
    "\n",
    "test_proba = myGNB_mindf_10.predict_log_proba(per.transform(X_test_tfidf_mindf))\n",
    "test_proba0 = np.array(test_proba)[:,0]\n",
    "test_proba4 = np.array(test_proba)[:,1]\n",
    "\n",
    "plt.figure(figsize=(10,10))\n",
    "fpr, tpr, thresholds = roc_curve(Y_test, test_proba0, pos_label=0)\n",
    "auc=roc_auc_score(Y_test==0, test_proba0)\n",
    "plt.plot(fpr, tpr, label='Test ROC for y=0, AUC=%.2f'%auc)\n",
    "\n",
    "fpr, tpr, thresholds = roc_curve(Y_test, test_proba4, pos_label=4)\n",
    "auc=roc_auc_score(Y_test==4, test_proba4)\n",
    "plt.plot(fpr, tpr, label='Test ROC for y=4, AUC=%.2f'%auc)\n",
    "\n",
    "plt.plot([0,1],[0,1], label='Random Model')\n",
    "plt.xlabel('FPR')\n",
    "plt.ylabel('TPR')\n",
    "plt.title('Train & Test ROC Curve For Gaussian Niave bayes on 10 percentile features of tfidf with min_df and max_features')\n",
    "plt.legend()\n",
    "plt.show()"
   ]
  },
  {
   "cell_type": "markdown",
   "metadata": {
    "colab_type": "text",
    "id": "uRc4YD6EO8ag"
   },
   "source": [
    "* **Observations :**\n",
    "\n",
    "    * Here we can see that AUC on our original dataset and cleaned dataset is very close to 0.5 hence we can say that our model did performed well in terms of accuracy but it was not confident in detecting classes.\n",
    "\n",
    "    * We got better ROC curve for GaussianNB on tfidf data. "
   ]
  }
 ],
 "metadata": {
  "accelerator": "TPU",
  "colab": {
   "collapsed_sections": [],
   "machine_shape": "hm",
   "name": "ass2.ipynb",
   "provenance": []
  },
  "kernelspec": {
   "display_name": "Python 3",
   "language": "python",
   "name": "python3"
  },
  "language_info": {
   "codemirror_mode": {
    "name": "ipython",
    "version": 3
   },
   "file_extension": ".py",
   "mimetype": "text/x-python",
   "name": "python",
   "nbconvert_exporter": "python",
   "pygments_lexer": "ipython3",
   "version": "3.7.7"
  }
 },
 "nbformat": 4,
 "nbformat_minor": 1
}
