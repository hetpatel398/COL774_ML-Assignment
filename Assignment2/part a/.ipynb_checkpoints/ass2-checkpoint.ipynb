{
 "cells": [
  {
   "cell_type": "markdown",
   "metadata": {},
   "source": [
    "# Assignment 2 - Part (A) : Naive Bayes\n",
    "\n",
    "<hr>\n",
    "\n",
    "* In this part I have implemented Naive bayes from scratch for sentiment analysis on twitter dataset. \n",
    "\n",
    "\n",
    "* In this part I have worked on the [this](http://help.sentiment140.com/for-students) Dataset."
   ]
  },
  {
   "cell_type": "code",
   "execution_count": 2,
   "metadata": {},
   "outputs": [],
   "source": [
    "import pandas as pd\n",
    "from tqdm import tqdm\n",
    "import numpy as np\n",
    "import matplotlib.pyplot as plt\n",
    "import seaborn as sns\n",
    "\n",
    "import os\n",
    "import math\n",
    "import random\n",
    "import re \n",
    "from time import time\n",
    "import pickle\n",
    "\n",
    "from nltk.corpus import stopwords\n",
    "from nltk.stem import PorterStemmer\n",
    "from nltk.stem.wordnet import WordNetLemmatizer\n",
    "from nltk.tokenize import TweetTokenizer\n",
    "import nltk\n",
    "import re\n",
    "\n",
    "from sklearn.feature_extraction.text import TfidfVectorizer\n",
    "from sklearn.naive_bayes import GaussianNB\n",
    "\n",
    "from joblib import Parallel, delayed\n",
    "import multiprocessing\n",
    "\n",
    "from sklearn.metrics import roc_curve, auc\n",
    "from sklearn.metrics import roc_auc_score\n",
    "\n",
    "from scipy.stats import boxcox\n",
    "from sklearn.preprocessing import  StandardScaler"
   ]
  },
  {
   "cell_type": "markdown",
   "metadata": {},
   "source": [
    "## Part (a) : Implementing Naive Bayes and getting accuracy on Train and Test Datasets.\n",
    "\n",
    "* In this part I have implemented Naive Bayes class that will be used in all the consecutive parts of the question.\n",
    "\n",
    "\n",
    "* In this part I have computerd thetas for all the words in the vocabulary for both output classes 0 and 4.\n",
    "\n",
    "\n",
    "* I have also incorporated various flags like addBigrams, addTrigrams and addPOS that will add features as mentioned in part e.\n",
    "\n",
    "\n",
    "* I have also created one metric class that will compute various performence metrics for our model like accuracy score, confusion matrix and ROC curve."
   ]
  },
  {
   "cell_type": "code",
   "execution_count": 3,
   "metadata": {},
   "outputs": [],
   "source": [
    "class NaiveBayes:\n",
    "    \n",
    "    dict0, dict4 = dict(), dict()\n",
    "    phi0, phi4, = 0, 0\n",
    "    n0, n4, = 0, 0\n",
    "    vocab=list()\n",
    "    v=0\n",
    "    splitString = ',|\\.| '\n",
    "    tt=TweetTokenizer(preserve_case=False, strip_handles=True)\n",
    "    simpleTokenizer = lambda self,s : [word for word in re.split(self.splitString, s) if word!='' ]\n",
    "    tokenizer = simpleTokenizer\n",
    "    \n",
    "    tweetTok = lambda self,s : self.tt.tokenize(s)\n",
    "    \n",
    "    def __init__(self, useTweetTokenizer=False, addBigrams=False, addTrigrams=False, addPOS=False):\n",
    "        dict0, dict4 = dict(), dict()\n",
    "        if useTweetTokenizer:\n",
    "            self.tokenizer = self.tweetTok\n",
    "        self.addBigrams = addBigrams\n",
    "        self.addTrigrams = addTrigrams\n",
    "        self.addPOS = addPOS\n",
    "        \n",
    "    def fit(self, X_train, Y_train):\n",
    "        #----Creating vocabulary-----\n",
    "        st = set()\n",
    "        \n",
    "        def getPOS(doc):\n",
    "            words = self.tokenizer(doc)\n",
    "            if words!=[]:\n",
    "                return list((list(zip(*nltk.pos_tag(words))))[0])\n",
    "            else:\n",
    "                return []\n",
    "\n",
    "        if self.addPOS:\n",
    "            pos_lst = Parallel(n_jobs=6)(delayed(getPOS)(doc) for doc in tqdm(X_train, desc='Generating POS List'))\n",
    "        \n",
    "        for (doc,j) in tqdm(list(zip(X_train, range(len(X_train)))), desc='Generating Vocabulary'):\n",
    "            words = self.tokenizer(doc)\n",
    "            for word in words:\n",
    "                st.add(word)\n",
    "            if self.addBigrams:\n",
    "                for i in range(len(words)-1):\n",
    "                    st.add(words[i]+' '+words[i+1])\n",
    "            if self.addTrigrams:\n",
    "                for i in range(len(words)-2):\n",
    "                    st.add(words[i]+' '+words[i+1]+' '+words[i+2])\n",
    "            if self.addPOS:\n",
    "                for pos in pos_lst[j]:\n",
    "                    st.add(pos)\n",
    "        self.vocab = list(st) # List of vocabulary\n",
    "        self.v=len(self.vocab) #Vocabulary size\n",
    "    \n",
    "        #Splitting Dataset According to label\n",
    "        X_train_0 = np.array(X_train)[np.where(Y_train == 0)]\n",
    "        X_train_4 = np.array(X_train)[np.where(Y_train == 4)]\n",
    "\n",
    "        #Creating empty dictionaries for every class\n",
    "        self.dict0 = dict(zip(self.vocab, np.ones(len(self.vocab), dtype=int)))\n",
    "        self.dict4 = dict(zip(self.vocab, np.ones(len(self.vocab), dtype=int)))\n",
    "\n",
    "        #Counting occurance of each word in all three classes and then updating \n",
    "        #corrsponding dictionary\n",
    "        for stat, j in tqdm(list(zip(X_train_0, range(len(X_train_0)))), desc='Generating Theta List for Label=0'):\n",
    "            words = self.tokenizer(stat)\n",
    "            for word in words:\n",
    "                self.dict0[word] = self.dict0[word]+1\n",
    "            if self.addBigrams:\n",
    "                for i in range(len(words)-1):\n",
    "                    bGram = words[i]+' '+words[i+1]\n",
    "                    self.dict0[bGram] += 1\n",
    "            if self.addTrigrams:\n",
    "                for i in range(len(words)-2):\n",
    "                    tGram = words[i]+' '+words[i+1]+' '+words[i+2]\n",
    "                    self.dict0[tGram] += 1\n",
    "            if self.addPOS:\n",
    "                for pos in pos_lst[j]:\n",
    "                    self.dict0[pos] += 1\n",
    "        for stat, j in tqdm(list(zip(X_train_4, range(len(X_train_4)))), desc='Generating Theta List for Label=4'):\n",
    "            words = self.tokenizer(stat)\n",
    "            for word in words:\n",
    "                self.dict4[word] = self.dict4[word]+1\n",
    "            if self.addBigrams:\n",
    "                for i in range(len(words)-1):\n",
    "                    bGram = words[i]+' '+words[i+1]\n",
    "                    self.dict4[bGram] += 1\n",
    "            if self.addTrigrams:\n",
    "                for i in range(len(words)-2):\n",
    "                    tGram = words[i]+' '+words[i+1]+' '+words[i+2]\n",
    "                    self.dict4[tGram] += 1\n",
    "            if self.addPOS:\n",
    "                for pos in pos_lst[j]:\n",
    "                    self.dict4[pos] += 1\n",
    "        \n",
    "        #----Finding number of words in all these three classes\n",
    "        self.n0 = sum(list(self.dict0.values()))\n",
    "        self.n4 = sum(list(self.dict4.values()))\n",
    "        \n",
    "        self.dict0 = dict(zip(self.dict0.keys(), np.log(np.array(list(self.dict0.values()), dtype=int)/(self.n0+self.v))))\n",
    "        self.dict4 = dict(zip(self.dict4.keys(), np.log(np.array(list(self.dict4.values()), dtype=int)/(self.n4+self.v))))\n",
    "        \n",
    "        \n",
    "        #----Finding class priors\n",
    "        self.phi0 = (X_train_0.shape[0]+1) / (X_train.shape[0]+2)\n",
    "        self.phi4 = (X_train_4.shape[0]+1) / (X_train.shape[0]+2)\n",
    "\n",
    "    def predict(self, X):\n",
    "        pred_lst=list()\n",
    "        \n",
    "        for x, j in tqdm(list(zip(X,range(len(X)))), desc='Generating Predictions'):\n",
    "            prob0 = math.log(self.phi0)\n",
    "            prob4 = math.log(self.phi4)\n",
    "            words = self.tokenizer(x)\n",
    "            for word in words:\n",
    "                prob0 += self.dict0.get(word) if self.dict0.get(word)!=None else math.log(1/(self.n0+self.v))\n",
    "                prob4 += self.dict4.get(word) if self.dict4.get(word)!=None else math.log(1/(self.n4+self.v))\n",
    "            if self.addBigrams:\n",
    "                for i in range(len(words)-1):\n",
    "                    bGram = words[i]+' '+words[i+1]\n",
    "                    prob0 += self.dict0.get(bGram) if self.dict0.get(bGram)!=None else math.log(1/(self.n0+self.v))\n",
    "                    prob4 += self.dict4.get(bGram) if self.dict4.get(bGram)!=None else math.log(1/(self.n4+self.v))\n",
    "            if self.addTrigrams:\n",
    "                for i in range(len(words)-2):\n",
    "                    tGram = words[i]+' '+words[i+1]+' '+words[i+2]\n",
    "                    prob0 += self.dict0.get(tGram) if self.dict0.get(tGram)!=None else math.log(1/(self.n0+self.v))\n",
    "                    prob4 += self.dict4.get(tGram) if self.dict4.get(tGram)!=None else math.log(1/(self.n4+self.v))    \n",
    "            if self.addPOS:\n",
    "                for pos in (list(zip(*nltk.pos_tag(words)))[1]):\n",
    "                    prob0 += self.dict0.get(pos) if self.dict0.get(pos)!=None else math.log(1/(self.n0+self.v))\n",
    "                    prob4 += self.dict4.get(pos) if self.dict4.get(pos)!=None else math.log(1/(self.n4+self.v))\n",
    "            pred_lst.append(4*(np.array([prob0, prob4]).argmax()))\n",
    "        return pred_lst\n",
    "    \n",
    "    def predict_log_proba(self, X):\n",
    "        log_proba0=list()\n",
    "        log_proba4=list()\n",
    "        \n",
    "        for x, j in tqdm(list(zip(X,range(len(X)))), desc='Generating Log probabilities'):\n",
    "            prob0 = math.log(self.phi0) #if self.phi0!=0 else 0\n",
    "            prob4 = math.log(self.phi4) #if self.phi0!=0 else 0\n",
    "            words = self.tokenizer(x)\n",
    "            for word in words:\n",
    "                prob0 += self.dict0.get(word) if self.dict0.get(word)!=None else np.log(1/(self.n0+self.v))\n",
    "                prob4 += self.dict4.get(word) if self.dict4.get(word)!=None else np.log(1/(self.n4+self.v))\n",
    "            if self.addBigrams:\n",
    "                for i in range(len(words)-1):\n",
    "                    bGram = words[i]+' '+words[i+1]\n",
    "                    prob0 += self.dict0.get(bGram) if self.dict0.get(bGram)!=None else math.log(1/(self.n0+self.v))\n",
    "                    prob4 += self.dict4.get(bGram) if self.dict4.get(bGram)!=None else math.log(1/(self.n4+self.v))\n",
    "            if self.addTrigrams:\n",
    "                for i in range(len(words)-2):\n",
    "                    tGram = words[i]+' '+words[i+1]+' '+words[i+2]\n",
    "                    prob0 += self.dict0.get(tGram) if self.dict0.get(tGram)!=None else math.log(1/(self.n0+self.v))\n",
    "                    prob4 += self.dict4.get(tGram) if self.dict4.get(tGram)!=None else math.log(1/(self.n4+self.v))    \n",
    "            if self.addPOS:\n",
    "                for pos in (list(zip(*nltk.pos_tag(words)))[1]):\n",
    "                    prob0 += self.dict0.get(pos) if self.dict0.get(pos)!=None else math.log(1/(self.n0+self.v))\n",
    "                    prob4 += self.dict4.get(pos) if self.dict4.get(pos)!=None else math.log(1/(self.n4+self.v))\n",
    "            log_proba0.append(prob0)\n",
    "            log_proba4.append(prob4)\n",
    "        return [log_proba0, log_proba4]\n",
    "    \n",
    "    def randomPred(self, size):\n",
    "        choices = [0,4]\n",
    "        pred = list()\n",
    "        for x in range(size):\n",
    "            pred.append(random.choice(choices))\n",
    "        return pred\n",
    "    \n",
    "    def majorityPred(self, size, out=4):\n",
    "        return [out]*size\n",
    "        \n",
    "    \n",
    "    \n",
    "class metrics:\n",
    "    \n",
    "    def accuracy_score(y_true, y_pred):\n",
    "        true = list(y_true == y_pred).count(True)\n",
    "        false = list(y_true == y_pred).count(False)\n",
    "        return true*100/(true+false)\n",
    "    \n",
    "    def confusion_matrix(y_true, y_pred, title = 'Confusion Matrix'):\n",
    "        cm=np.zeros((2,2), dtype=int)\n",
    "        for (y_hat, y) in zip(y_pred, y_true):\n",
    "            cm[y_hat//4][y//4] += 1\n",
    "        \n",
    "        sns.heatmap(cm, annot=True, fmt=\"d\",linecolor='black',linewidth='0', \\\n",
    "        cmap='Blues',xticklabels=[0,4], yticklabels=[0,4], cbar=False)\n",
    "        plt.xlabel('Actual')\n",
    "        plt.ylabel('Predicted')\n",
    "        plt.title(title)\n",
    "        plt.show()"
   ]
  },
  {
   "cell_type": "markdown",
   "metadata": {},
   "source": [
    "* **Loading the Dataset**"
   ]
  },
  {
   "cell_type": "code",
   "execution_count": 4,
   "metadata": {},
   "outputs": [],
   "source": [
    "train_data = pd.read_csv('./data/training.1600000.processed.noemoticon.csv', sep=',', encoding='latin-1', names=['polarity', 'id', 'date', 'query', 'user', 'text'])\n",
    "\n",
    "X_train = train_data['text']\n",
    "Y_train = train_data['polarity'] \n",
    "\n",
    "test_data = pd.read_csv('./data/testdata.manual.2009.06.14.csv', sep=',', encoding='latin-1', names=['polarity', 'id', 'date', 'query', 'user', 'text'])\n",
    "\n",
    "X_test = test_data['text']\n",
    "Y_test = test_data['polarity']\n",
    "\n",
    "X_test_new_0 = np.array(X_test)[np.where(Y_test==0)]# or Y_test==4)]\n",
    "X_test_new_4 = np.array(X_test)[np.where(Y_test==4)]\n",
    "\n",
    "X_test = np.concatenate((X_test_new_0, X_test_new_4))\n",
    "Y_test = pd.Series(np.concatenate((np.zeros(X_test_new_0.shape[0]), np.zeros(X_test_new_4.shape[0])+4)), dtype=int)"
   ]
  },
  {
   "cell_type": "markdown",
   "metadata": {},
   "source": [
    "* **Intererting finding :** Data contains duplicate Entries"
   ]
  },
  {
   "cell_type": "code",
   "execution_count": 5,
   "metadata": {},
   "outputs": [
    {
     "name": "stdout",
     "output_type": "stream",
     "text": [
      "Number of duplicate entries :  3370\n"
     ]
    },
    {
     "data": {
      "text/html": [
       "<div>\n",
       "<style scoped>\n",
       "    .dataframe tbody tr th:only-of-type {\n",
       "        vertical-align: middle;\n",
       "    }\n",
       "\n",
       "    .dataframe tbody tr th {\n",
       "        vertical-align: top;\n",
       "    }\n",
       "\n",
       "    .dataframe thead th {\n",
       "        text-align: right;\n",
       "    }\n",
       "</style>\n",
       "<table border=\"1\" class=\"dataframe\">\n",
       "  <thead>\n",
       "    <tr style=\"text-align: right;\">\n",
       "      <th></th>\n",
       "      <th>polarity</th>\n",
       "      <th>id</th>\n",
       "      <th>date</th>\n",
       "      <th>query</th>\n",
       "      <th>user</th>\n",
       "      <th>text</th>\n",
       "    </tr>\n",
       "  </thead>\n",
       "  <tbody>\n",
       "    <tr>\n",
       "      <th>213</th>\n",
       "      <td>0</td>\n",
       "      <td>1467863684</td>\n",
       "      <td>Mon Apr 06 22:33:35 PDT 2009</td>\n",
       "      <td>NO_QUERY</td>\n",
       "      <td>DjGundam</td>\n",
       "      <td>Awwh babs... you look so sad underneith that s...</td>\n",
       "    </tr>\n",
       "    <tr>\n",
       "      <th>800261</th>\n",
       "      <td>4</td>\n",
       "      <td>1467863684</td>\n",
       "      <td>Mon Apr 06 22:33:35 PDT 2009</td>\n",
       "      <td>NO_QUERY</td>\n",
       "      <td>DjGundam</td>\n",
       "      <td>Awwh babs... you look so sad underneith that s...</td>\n",
       "    </tr>\n",
       "    <tr>\n",
       "      <th>275</th>\n",
       "      <td>0</td>\n",
       "      <td>1467880442</td>\n",
       "      <td>Mon Apr 06 22:38:04 PDT 2009</td>\n",
       "      <td>NO_QUERY</td>\n",
       "      <td>iCalvin</td>\n",
       "      <td>Haven't tweeted nearly all day  Posted my webs...</td>\n",
       "    </tr>\n",
       "    <tr>\n",
       "      <th>800300</th>\n",
       "      <td>4</td>\n",
       "      <td>1467880442</td>\n",
       "      <td>Mon Apr 06 22:38:04 PDT 2009</td>\n",
       "      <td>NO_QUERY</td>\n",
       "      <td>iCalvin</td>\n",
       "      <td>Haven't tweeted nearly all day  Posted my webs...</td>\n",
       "    </tr>\n",
       "    <tr>\n",
       "      <th>989</th>\n",
       "      <td>0</td>\n",
       "      <td>1468053611</td>\n",
       "      <td>Mon Apr 06 23:28:09 PDT 2009</td>\n",
       "      <td>NO_QUERY</td>\n",
       "      <td>mariejamora</td>\n",
       "      <td>@hellobebe I also send some updates in plurk b...</td>\n",
       "    </tr>\n",
       "    <tr>\n",
       "      <th>801280</th>\n",
       "      <td>4</td>\n",
       "      <td>1468053611</td>\n",
       "      <td>Mon Apr 06 23:28:09 PDT 2009</td>\n",
       "      <td>NO_QUERY</td>\n",
       "      <td>mariejamora</td>\n",
       "      <td>@hellobebe I also send some updates in plurk b...</td>\n",
       "    </tr>\n",
       "    <tr>\n",
       "      <th>1177</th>\n",
       "      <td>0</td>\n",
       "      <td>1468100580</td>\n",
       "      <td>Mon Apr 06 23:42:57 PDT 2009</td>\n",
       "      <td>NO_QUERY</td>\n",
       "      <td>cristygarza</td>\n",
       "      <td>good night swetdreamss to everyonee   and jare...</td>\n",
       "    </tr>\n",
       "    <tr>\n",
       "      <th>801573</th>\n",
       "      <td>4</td>\n",
       "      <td>1468100580</td>\n",
       "      <td>Mon Apr 06 23:42:57 PDT 2009</td>\n",
       "      <td>NO_QUERY</td>\n",
       "      <td>cristygarza</td>\n",
       "      <td>good night swetdreamss to everyonee   and jare...</td>\n",
       "    </tr>\n",
       "    <tr>\n",
       "      <th>1254</th>\n",
       "      <td>0</td>\n",
       "      <td>1468115720</td>\n",
       "      <td>Mon Apr 06 23:48:00 PDT 2009</td>\n",
       "      <td>NO_QUERY</td>\n",
       "      <td>WarholGirl</td>\n",
       "      <td>@ientje89 aw i'm fine too thanks! yeah i miss ...</td>\n",
       "    </tr>\n",
       "    <tr>\n",
       "      <th>801650</th>\n",
       "      <td>4</td>\n",
       "      <td>1468115720</td>\n",
       "      <td>Mon Apr 06 23:48:00 PDT 2009</td>\n",
       "      <td>NO_QUERY</td>\n",
       "      <td>WarholGirl</td>\n",
       "      <td>@ientje89 aw i'm fine too thanks! yeah i miss ...</td>\n",
       "    </tr>\n",
       "  </tbody>\n",
       "</table>\n",
       "</div>"
      ],
      "text/plain": [
       "        polarity          id                          date     query  \\\n",
       "213            0  1467863684  Mon Apr 06 22:33:35 PDT 2009  NO_QUERY   \n",
       "800261         4  1467863684  Mon Apr 06 22:33:35 PDT 2009  NO_QUERY   \n",
       "275            0  1467880442  Mon Apr 06 22:38:04 PDT 2009  NO_QUERY   \n",
       "800300         4  1467880442  Mon Apr 06 22:38:04 PDT 2009  NO_QUERY   \n",
       "989            0  1468053611  Mon Apr 06 23:28:09 PDT 2009  NO_QUERY   \n",
       "801280         4  1468053611  Mon Apr 06 23:28:09 PDT 2009  NO_QUERY   \n",
       "1177           0  1468100580  Mon Apr 06 23:42:57 PDT 2009  NO_QUERY   \n",
       "801573         4  1468100580  Mon Apr 06 23:42:57 PDT 2009  NO_QUERY   \n",
       "1254           0  1468115720  Mon Apr 06 23:48:00 PDT 2009  NO_QUERY   \n",
       "801650         4  1468115720  Mon Apr 06 23:48:00 PDT 2009  NO_QUERY   \n",
       "\n",
       "               user                                               text  \n",
       "213        DjGundam  Awwh babs... you look so sad underneith that s...  \n",
       "800261     DjGundam  Awwh babs... you look so sad underneith that s...  \n",
       "275         iCalvin  Haven't tweeted nearly all day  Posted my webs...  \n",
       "800300      iCalvin  Haven't tweeted nearly all day  Posted my webs...  \n",
       "989     mariejamora  @hellobebe I also send some updates in plurk b...  \n",
       "801280  mariejamora  @hellobebe I also send some updates in plurk b...  \n",
       "1177    cristygarza  good night swetdreamss to everyonee   and jare...  \n",
       "801573  cristygarza  good night swetdreamss to everyonee   and jare...  \n",
       "1254     WarholGirl  @ientje89 aw i'm fine too thanks! yeah i miss ...  \n",
       "801650   WarholGirl  @ientje89 aw i'm fine too thanks! yeah i miss ...  "
      ]
     },
     "execution_count": 5,
     "metadata": {},
     "output_type": "execute_result"
    }
   ],
   "source": [
    "vc = train_data[train_data.duplicated(subset=['id','text'], keep=False)]\n",
    "print('Number of duplicate entries : ', len(vc))\n",
    "vc.sort_values('id').head(10)"
   ]
  },
  {
   "cell_type": "markdown",
   "metadata": {},
   "source": [
    "### Getting Accuracy on train and test data"
   ]
  },
  {
   "cell_type": "code",
   "execution_count": 6,
   "metadata": {},
   "outputs": [
    {
     "name": "stderr",
     "output_type": "stream",
     "text": [
      "Generating Vocabulary: 100%|██████████| 1600000/1600000 [00:08<00:00, 199854.84it/s]\n",
      "Generating Theta List for Label=0: 100%|██████████| 800000/800000 [00:08<00:00, 96254.10it/s]\n",
      "Generating Theta List for Label=4: 100%|██████████| 800000/800000 [00:08<00:00, 95375.02it/s] \n",
      "Generating Predictions: 100%|██████████| 1600000/1600000 [00:33<00:00, 47115.54it/s]\n",
      "Generating Predictions: 100%|██████████| 359/359 [00:00<00:00, 40974.04it/s]"
     ]
    },
    {
     "name": "stdout",
     "output_type": "stream",
     "text": [
      "Accuracy on Train Data : 84.8601\n",
      "Accuracy on Test Data : 81.3370\n"
     ]
    },
    {
     "name": "stderr",
     "output_type": "stream",
     "text": [
      "\n"
     ]
    }
   ],
   "source": [
    "nb_original=NaiveBayes()\n",
    "\n",
    "nb_original.fit(X_train, Y_train)\n",
    "\n",
    "train_pred = nb_original.predict(X_train)\n",
    "print('Accuracy on Train Data : %.4f'%(metrics.accuracy_score(Y_train, train_pred)))\n",
    "\n",
    "test_pred = nb_original.predict(X_test)\n",
    "print('Accuracy on Test Data : %.4f'%(metrics.accuracy_score(Y_test, test_pred)))"
   ]
  },
  {
   "cell_type": "markdown",
   "metadata": {},
   "source": [
    "## Part (b) : Getting base model accuracy by finding accuracy of test data using random prediction and majority vote prediction"
   ]
  },
  {
   "cell_type": "code",
   "execution_count": 7,
   "metadata": {},
   "outputs": [
    {
     "name": "stdout",
     "output_type": "stream",
     "text": [
      "Accuracy of Random predictor on Test Data (Attempt 1):  48.467966573816156\n",
      "Accuracy of Random predictor on Test Data (Attempt 2):  51.25348189415042\n",
      "Accuracy of Random predictor on Test Data (Attempt 3):  49.58217270194986\n",
      "Accuracy of Majority Vote(4) predictor on Test Data :  50.69637883008357\n",
      "Accuracy of Majority Vote(0) predictor on Test Data :  49.30362116991643\n"
     ]
    }
   ],
   "source": [
    "nb=NaiveBayes()\n",
    "random_pred = nb.randomPred(Y_test.shape[0])\n",
    "print('Accuracy of Random predictor on Test Data (Attempt 1): ',metrics.accuracy_score(Y_test, random_pred))\n",
    "random_pred = nb.randomPred(Y_test.shape[0])\n",
    "print('Accuracy of Random predictor on Test Data (Attempt 2): ',metrics.accuracy_score(Y_test, random_pred))\n",
    "random_pred = nb.randomPred(Y_test.shape[0])\n",
    "print('Accuracy of Random predictor on Test Data (Attempt 3): ',metrics.accuracy_score(Y_test, random_pred))\n",
    "\n",
    "majority_pred = nb.majorityPred(Y_test.shape[0], out=4)\n",
    "print('Accuracy of Majority Vote(4) predictor on Test Data : ',metrics.accuracy_score(Y_test, majority_pred))\n",
    "majority_pred = nb.majorityPred(Y_test.shape[0], out=0)\n",
    "print('Accuracy of Majority Vote(0) predictor on Test Data : ',metrics.accuracy_score(Y_test, majority_pred))"
   ]
  },
  {
   "cell_type": "markdown",
   "metadata": {},
   "source": [
    "## Part (c) : Plotting Confusion matrix for the Train as well as Test Dataset for our Model"
   ]
  },
  {
   "cell_type": "code",
   "execution_count": 8,
   "metadata": {},
   "outputs": [
    {
     "data": {
      "image/png": "[encoded data removed]",
      "text/plain": [
       "<Figure size 432x288 with 1 Axes>"
      ]
     },
     "metadata": {
      "needs_background": "light"
     },
     "output_type": "display_data"
    }
   ],
   "source": [
    "metrics.confusion_matrix(Y_test, test_pred, title='Confusion matrix for Test Dataset')"
   ]
  },
  {
   "cell_type": "markdown",
   "metadata": {},
   "source": [
    "* **Observations from confusion matrix:**\n",
    "\n",
    "    * Here we can see that diagonal entries are large as compared to non diagonal ones, hence our model is performing nice.\n",
    "    * Also note that we have predicted 145 datapoints with y=0 out of total 177 datapoints, whereas we have predicted 147 datapoints with y=4 correctly from total of 182 datapoints, hence although we have less number for class=0 but ratio with total datapoints with particular class label is same, therefore TNR and TPR are 0.8192 and 0.8077(Considering 0 as negative label and 1 as positive label). Hence our model is performing well for both the labels."
   ]
  },
  {
   "cell_type": "markdown",
   "metadata": {},
   "source": [
    "## Part (d) : Stemming, Removing Stopwords and cleaning Data \n",
    "\n",
    "In this part I have preprocessed the original data and for that I have followed follwing steps.\n",
    "\n",
    "1. Remove usernames\n",
    "2. Remove stopwords\n",
    "3. Stemming\n",
    "\n",
    "This method uses 6 cores of my machine to clean data in parallel. and you can set flags as mentioned in the docstring of the method."
   ]
  },
  {
   "cell_type": "code",
   "execution_count": 9,
   "metadata": {},
   "outputs": [],
   "source": [
    "def cleanData(X, useTweetTokenizer=False, removeNot=False, usePorterStemmer=False):\n",
    "    '''\n",
    "        This method returns list of preprocessed text.\n",
    "        \n",
    "        **********\n",
    "        Arguments:\n",
    "            X : list of strings to clean\n",
    "            useTweetTokenizer=False : Flag that mentiones which tokenizer to use.\n",
    "                                        True : use nltk's TweetTokenizer\n",
    "                                        False : re.split('\\,|,| ',s)\n",
    "            removeNot=False : Remove not and words like aren't isn't from stopwords.\n",
    "            useProterStemmer=False : use Porter or snowball stemmer from nltk\n",
    "        **********\n",
    "    '''\n",
    "    stop = set(stopwords.words('english')) #set of stopwords\n",
    "    porter = nltk.stem.PorterStemmer()\n",
    "    sno = nltk.stem.SnowballStemmer('english') #initialising the snowball stemmer\n",
    "    tt = TweetTokenizer(preserve_case=False, strip_handles=True)\n",
    "    \n",
    "    stemmer=sno\n",
    "    if usePorterStemmer:\n",
    "        stemmer=porter\n",
    "    \n",
    "    if removeNot:\n",
    "        stop.remove('not')\n",
    "        stop.remove('no')\n",
    "        new_stop = set()\n",
    "        for word in stop:\n",
    "            if word.endswith('n\\'t'):\n",
    "                continue\n",
    "            else:\n",
    "                new_stop.add(word)\n",
    "        stop = new_stop\n",
    "    \n",
    "    splitString = ',|\\.| '\n",
    "    \n",
    "    def cleanUserName(sentence): #function to clean the word of any html-tags\n",
    "        cleanr = re.compile('@\\S*')\n",
    "        cleantext = re.sub(cleanr, '', sentence)\n",
    "        return cleantext\n",
    "    \n",
    "    simpleTok = lambda s : [x for x in re.split(splitString, cleanUserName(s)) if x!='']\n",
    "    tweetTok = lambda s : tt.tokenize(s)\n",
    "    \n",
    "    tokenize = simpleTok\n",
    "    if useTweetTokenizer:\n",
    "        tokenize = tweetTok\n",
    "    \n",
    "    def cleanSingleDoc(sent):\n",
    "        filtered_sentence=[]\n",
    "        words = tokenize(sent)\n",
    "        \n",
    "        for word in words:\n",
    "            if((len(word)>1 or word.isalpha()) & (word not in stop)):\n",
    "                s=(stemmer.stem(word)).encode('utf-8')\n",
    "                filtered_sentence.append(s)\n",
    "            else:\n",
    "                continue\n",
    "        str1 = b\" \".join(filtered_sentence) #final string of cleaned words\n",
    "        return (str1.decode('utf-8'))\n",
    "    \n",
    "    final_string = Parallel(n_jobs=6)(delayed(cleanSingleDoc)(sent) for sent in tqdm(X, desc = 'Cleaning'))\n",
    "    \n",
    "    return np.array(final_string)"
   ]
  },
  {
   "cell_type": "code",
   "execution_count": 10,
   "metadata": {},
   "outputs": [
    {
     "name": "stderr",
     "output_type": "stream",
     "text": [
      "Cleaning: 100%|██████████| 1600000/1600000 [01:08<00:00, 23236.87it/s]\n",
      "Cleaning: 100%|██████████| 359/359 [00:00<00:00, 5000.70it/s]\n"
     ]
    }
   ],
   "source": [
    "#Cleaning our dataset\n",
    "\n",
    "X_train_cleaned = cleanData(X_train, useTweetTokenizer=True, removeNot=True, usePorterStemmer=True)\n",
    "X_test_cleaned = cleanData(X_test, useTweetTokenizer=True, removeNot=True, usePorterStemmer=True)"
   ]
  },
  {
   "cell_type": "code",
   "execution_count": 11,
   "metadata": {
    "scrolled": true
   },
   "outputs": [
    {
     "name": "stderr",
     "output_type": "stream",
     "text": [
      "Generating Vocabulary: 100%|██████████| 1600000/1600000 [00:05<00:00, 301332.49it/s]\n",
      "Generating Theta List for Label=0: 100%|██████████| 800000/800000 [00:04<00:00, 165625.25it/s]\n",
      "Generating Theta List for Label=4: 100%|██████████| 800000/800000 [00:04<00:00, 172214.45it/s]\n",
      "Generating Predictions: 100%|██████████| 359/359 [00:00<00:00, 56524.46it/s]"
     ]
    },
    {
     "name": "stdout",
     "output_type": "stream",
     "text": [
      "Accuracy on Cleaned Test Data : 82.7298 %\n"
     ]
    },
    {
     "name": "stderr",
     "output_type": "stream",
     "text": [
      "\n"
     ]
    }
   ],
   "source": [
    "#Getting Test accuracy on cleaned Data\n",
    "\n",
    "nb_cleaned = NaiveBayes()\n",
    "\n",
    "nb_cleaned.fit(X_train_cleaned, Y_train)\n",
    "\n",
    "test_pred_cleaned = nb_cleaned.predict(X_test_cleaned)\n",
    "print('Accuracy on Cleaned Test Data : %.4f %c'%(metrics.accuracy_score(Y_test, test_pred_cleaned),'%'))"
   ]
  },
  {
   "cell_type": "markdown",
   "metadata": {},
   "source": [
    "* **Observations :**\n",
    "\n",
    "Here we can see that after cleaning our test accuracy increases from 81.337 to 82.7298 which is significant."
   ]
  },
  {
   "cell_type": "markdown",
   "metadata": {},
   "source": [
    "## Part (e) : Feature Engineering\n",
    "\n",
    "* In this part I have implemented 3 features that are bi-grams, tri-grams and part of speech taggings. They are implemented as flags in main class that I implemented earlier in part (a). We can just pass argument to that class' constructor and accordingly model will be trained. \n",
    "\n",
    "\n",
    "* Now testing model by adding various features."
   ]
  },
  {
   "cell_type": "code",
   "execution_count": 29,
   "metadata": {},
   "outputs": [
    {
     "name": "stderr",
     "output_type": "stream",
     "text": [
      "Generating Vocabulary: 100%|██████████| 1600000/1600000 [00:09<00:00, 170183.25it/s]\n",
      "Generating Theta List for Label=0: 100%|██████████| 800000/800000 [00:09<00:00, 83895.69it/s]\n",
      "Generating Theta List for Label=4: 100%|██████████| 800000/800000 [00:09<00:00, 86351.21it/s]\n",
      "Generating Predictions: 100%|██████████| 1600000/1600000 [00:38<00:00, 41790.58it/s]\n",
      "Generating Predictions: 100%|██████████| 359/359 [00:00<00:00, 30180.90it/s]"
     ]
    },
    {
     "name": "stdout",
     "output_type": "stream",
     "text": [
      "Accuracy on Cleaned Train Data : 90.4664 %\n",
      "Accuracy on Cleaned Test Data : 82.4513 %\n"
     ]
    },
    {
     "name": "stderr",
     "output_type": "stream",
     "text": [
      "\n"
     ]
    }
   ],
   "source": [
    "nb_bi = NaiveBayes(addBigrams=True)\n",
    "\n",
    "nb_bi.fit(X_train_cleaned, Y_train)\n",
    "\n",
    "train_pred_cleaned = nb_bi.predict(X_train_cleaned)\n",
    "print('Accuracy on Cleaned Train Data : %.4f %c'%(metrics.accuracy_score(Y_train, train_pred_cleaned),'%'))\n",
    "\n",
    "test_pred_cleaned = nb_bi.predict(X_test_cleaned)\n",
    "print('Accuracy on Cleaned Test Data : %.4f %c'%(metrics.accuracy_score(Y_test, test_pred_cleaned),'%'))"
   ]
  },
  {
   "cell_type": "code",
   "execution_count": 28,
   "metadata": {},
   "outputs": [
    {
     "name": "stderr",
     "output_type": "stream",
     "text": [
      "Generating Vocabulary: 100%|██████████| 1600000/1600000 [00:09<00:00, 162607.04it/s]\n",
      "Generating Theta List for Label=0: 100%|██████████| 800000/800000 [00:09<00:00, 81691.96it/s]\n",
      "Generating Theta List for Label=4: 100%|██████████| 800000/800000 [00:09<00:00, 84585.42it/s]\n",
      "Generating Predictions: 100%|██████████| 1600000/1600000 [00:38<00:00, 41113.14it/s]\n",
      "Generating Predictions: 100%|██████████| 359/359 [00:00<00:00, 29400.67it/s]"
     ]
    },
    {
     "name": "stdout",
     "output_type": "stream",
     "text": [
      "Accuracy on Cleaned Train Data : 95.6340 %\n",
      "Accuracy on Cleaned Test Data : 83.8440 %\n"
     ]
    },
    {
     "name": "stderr",
     "output_type": "stream",
     "text": [
      "\n"
     ]
    }
   ],
   "source": [
    "nb_tri = NaiveBayes(addTrigrams=True)\n",
    "\n",
    "nb_tri.fit(X_train_cleaned, Y_train)\n",
    "\n",
    "train_pred_cleaned = nb_tri.predict(X_train_cleaned)\n",
    "print('Accuracy on Cleaned Train Data : %.4f %c'%(metrics.accuracy_score(Y_train, train_pred_cleaned),'%'))\n",
    "\n",
    "test_pred_cleaned = nb_tri.predict(X_test_cleaned)\n",
    "print('Accuracy on Cleaned Test Data : %.4f %c'%(metrics.accuracy_score(Y_test, test_pred_cleaned),'%'))"
   ]
  },
  {
   "cell_type": "code",
   "execution_count": 30,
   "metadata": {},
   "outputs": [
    {
     "name": "stderr",
     "output_type": "stream",
     "text": [
      "Generating Vocabulary: 100%|██████████| 1600000/1600000 [00:13<00:00, 115190.23it/s]\n",
      "Generating Theta List for Label=0: 100%|██████████| 800000/800000 [00:14<00:00, 55339.41it/s]\n",
      "Generating Theta List for Label=4: 100%|██████████| 800000/800000 [00:13<00:00, 57143.94it/s]\n",
      "Generating Predictions: 100%|██████████| 1600000/1600000 [00:54<00:00, 29200.15it/s]\n",
      "Generating Predictions: 100%|██████████| 359/359 [00:00<00:00, 21637.52it/s]"
     ]
    },
    {
     "name": "stdout",
     "output_type": "stream",
     "text": [
      "Accuracy on Cleaned Train Data : 95.4439 %\n",
      "Accuracy on Cleaned Test Data : 82.4513 %\n"
     ]
    },
    {
     "name": "stderr",
     "output_type": "stream",
     "text": [
      "\n"
     ]
    }
   ],
   "source": [
    "nb_BiTri = NaiveBayes(addBigrams=True, addTrigrams=True)\n",
    "\n",
    "nb_BiTri.fit(X_train_cleaned, Y_train)\n",
    "\n",
    "# train_pred_cleaned = nb_BiTri.predict(X_train_cleaned)\n",
    "# print('Accuracy on Cleaned Train Data : %.4f %c'%(metrics.accuracy_score(Y_train, train_pred_cleaned),'%'))\n",
    "\n",
    "test_pred_BiTri = nb_BiTri.predict(X_test_cleaned)\n",
    "print('Accuracy on Cleaned Test Data : %.4f %c'%(metrics.accuracy_score(Y_test, test_pred_BiTri),'%'))"
   ]
  },
  {
   "cell_type": "code",
   "execution_count": 33,
   "metadata": {},
   "outputs": [
    {
     "name": "stderr",
     "output_type": "stream",
     "text": [
      "Generating POS List: 100%|██████████| 1600000/1600000 [03:13<00:00, 8269.38it/s] \n",
      "Generating Vocabulary: 100%|██████████| 1600000/1600000 [00:06<00:00, 242973.86it/s]\n",
      "Generating Theta List for Label=0: 100%|██████████| 800000/800000 [00:07<00:00, 111592.56it/s]\n",
      "Generating Theta List for Label=4: 100%|██████████| 800000/800000 [00:07<00:00, 107091.33it/s]\n",
      "Generating Predictions: 100%|██████████| 359/359 [00:00<00:00, 1988.90it/s]"
     ]
    },
    {
     "name": "stdout",
     "output_type": "stream",
     "text": [
      "Accuracy on Cleaned Test Data : 76.8802 %\n"
     ]
    },
    {
     "name": "stderr",
     "output_type": "stream",
     "text": [
      "\n"
     ]
    }
   ],
   "source": [
    "nb_POS = NaiveBayes(addPOS=True)\n",
    "\n",
    "nb_POS.fit(X_train_cleaned, Y_train)\n",
    "\n",
    "test_pred_POS = nb_POS.predict(X_test_cleaned)\n",
    "print('Accuracy on Cleaned Test Data : %.4f %c'%(metrics.accuracy_score(Y_test, test_pred_POS),'%'))"
   ]
  },
  {
   "cell_type": "code",
   "execution_count": 34,
   "metadata": {},
   "outputs": [
    {
     "name": "stderr",
     "output_type": "stream",
     "text": [
      "Generating POS List: 100%|██████████| 1600000/1600000 [03:21<00:00, 7924.69it/s]\n",
      "Generating Vocabulary: 100%|██████████| 1600000/1600000 [00:11<00:00, 143765.49it/s]\n",
      "Generating Theta List for Label=0: 100%|██████████| 800000/800000 [00:11<00:00, 68050.58it/s]\n",
      "Generating Theta List for Label=4: 100%|██████████| 800000/800000 [00:12<00:00, 65711.90it/s]\n",
      "Generating Predictions: 100%|██████████| 359/359 [00:00<00:00, 2116.57it/s]"
     ]
    },
    {
     "name": "stdout",
     "output_type": "stream",
     "text": [
      "Accuracy on Cleaned Test Data : 77.7159 %\n"
     ]
    },
    {
     "name": "stderr",
     "output_type": "stream",
     "text": [
      "\n"
     ]
    }
   ],
   "source": [
    "nb_POS_Tri = NaiveBayes(addPOS=True, addTrigrams=True)\n",
    "\n",
    "nb_POS_Tri.fit(X_train_cleaned, Y_train)\n",
    "\n",
    "test_pred_POS_Tri = nb_POS_Tri.predict(X_test_cleaned)\n",
    "print('Accuracy on Cleaned Test Data : %.4f %c'%(metrics.accuracy_score(Y_test, test_pred_POS_Tri),'%'))"
   ]
  },
  {
   "cell_type": "markdown",
   "metadata": {},
   "source": [
    "* **Observations :**\n",
    "\n",
    "As we can see that adding trigrams gave us best accuracy among all the models.\n",
    "\n",
    "All the other model's accuracies are summerized in the table below.\n",
    "\n",
    "**Add Table**\n"
   ]
  },
  {
   "cell_type": "markdown",
   "metadata": {},
   "source": [
    "# Part (f) : tf-idf + GaussianNB\n",
    "\n",
    "* In this part I have got tf-idf vectors of the trained data and then applied GaussianNB model on top of that and found accuracies for test dataset. \n",
    "\n",
    "\n",
    "* In this part I was doing it by partial_fitting data on a single model but taht was taking more than 1 hour and 10 minutes to train as it was using only one core of cpu. So I vertically splitted the train Data and trained multiple models in parallel and then predicted on test dataset using predict_log_proba and taking sum of all teh log probabilities as naive bayes assumes that features are independent and subtracting class priors accordingy as in each model we would have multiplied it. This implementation was so much faster and trained model within 10 minutes(Around 8 minutes)."
   ]
  },
  {
   "cell_type": "code",
   "execution_count": 5,
   "metadata": {
    "scrolled": false
   },
   "outputs": [
    {
     "name": "stdout",
     "output_type": "stream",
     "text": [
      "Shape of X_train_tfidf :  (1600000, 306510)\n"
     ]
    }
   ],
   "source": [
    "tfidf = TfidfVectorizer(dtype='float32')\n",
    "\n",
    "X_train_tfidf = tfidf.fit_transform(X_train_cleaned)\n",
    "X_test_tfidf = tfidf.transform(X_test_cleaned)\n",
    "\n",
    "print('Shape of X_train_tfidf : ',X_train_tfidf.shape)"
   ]
  },
  {
   "cell_type": "code",
   "execution_count": 10,
   "metadata": {
    "scrolled": true
   },
   "outputs": [],
   "source": [
    "class MyGaussianNB:\n",
    "    '''\n",
    "    This class is implementation to train gaussian naive bayes model on sparse data set on multiple cores.\n",
    "    \n",
    "    *************\n",
    "    Parameters:\n",
    "    \n",
    "    n_jobs=1 : Number of cores\n",
    "    v_split_size=200 : Max number of features in each base models\n",
    "    *************\n",
    "    '''\n",
    "    def __init__(self, n_jobs=1, v_split_size=200):\n",
    "        self.n_jobs = n_jobs\n",
    "        self.v_split_size = v_split_size\n",
    "        \n",
    "    def fit(self, X_tr, Y_tr):\n",
    "        start_time = time()\n",
    "        \n",
    "        def fit_parallel(i):\n",
    "            return GaussianNB().fit(X_tr[:,i:(i+self.v_split_size)].toarray(), Y_tr)\n",
    "        self.models = Parallel(n_jobs=self.n_jobs)(delayed(fit_parallel)(i) for i in tqdm(range(0, X_tr.shape[1], self.v_split_size), desc='Fitting Multiple models based on verticle splits'))\n",
    "        \n",
    "        end_time = time()\n",
    "        print('Completed training in %.2f minutes'%((end_time-start_time)/60))\n",
    "        \n",
    "    def predict(self, X):\n",
    "        \n",
    "        log_proba=np.zeros((X.shape[0],2))\n",
    "        \n",
    "        for model,i in zip(self.models, range(0, X.shape[1], self.v_split_size)):\n",
    "            log_proba += model.predict_log_proba(X[:,i:(i+self.v_split_size)].todense())\n",
    "        \n",
    "        log_proba -= (len(self.models)-1)*self.models[0].class_prior_\n",
    "        return log_proba.argmax(axis=1)*4"
   ]
  },
  {
   "cell_type": "code",
   "execution_count": 11,
   "metadata": {},
   "outputs": [],
   "source": [
    "myGNB = MyGaussianNB(n_jobs=6, v_split_size=150)\n",
    "myGNB.fit(X_train_tfidf, Y_train)\n",
    "\n",
    "# with open('./pickle/myGNB_local.pkl', 'rb') as f:\n",
    "#     myGNB = pickle.load(f)"
   ]
  },
  {
   "cell_type": "code",
   "execution_count": 12,
   "metadata": {},
   "outputs": [],
   "source": [
    "pred = myGNB.predict(X_test_tfidf)\n",
    "\n",
    "print('Accuracy on Test Dataset using whole dataset without using min_df : %.2f %c'%(sum(pred == Y_test) * 100 / len(pred), '%'))"
   ]
  },
  {
   "cell_type": "markdown",
   "metadata": {},
   "source": [
    "* **Doing Select Percentile to select 10% features**"
   ]
  },
  {
   "cell_type": "code",
   "execution_count": 19,
   "metadata": {},
   "outputs": [],
   "source": [
    "from sklearn.feature_selection import SelectPercentile\n",
    "from sklearn.feature_selection import f_classif\n",
    "\n",
    "sel = SelectPercentile(f_classif, percentile=10).fit(X_train_tfidf, Y_train)\n",
    "\n",
    "X_train_10 = sel.transform(X_train_tfidf)\n",
    "X_test_10 = sel.transform(X_test_tfidf)"
   ]
  },
  {
   "cell_type": "code",
   "execution_count": 20,
   "metadata": {},
   "outputs": [
    {
     "name": "stderr",
     "output_type": "stream",
     "text": [
      "Fitting Multiple models based on verticle splits: 100%|██████████| 205/205 [03:57<00:00,  1.16s/it]\n"
     ]
    },
    {
     "name": "stdout",
     "output_type": "stream",
     "text": [
      "Completed training in 4.10 minutes\n"
     ]
    }
   ],
   "source": [
    "myGNB = MyGaussianNB(n_jobs=6, v_split_size=150)\n",
    "myGNB.fit(X_train_10, Y_train)"
   ]
  },
  {
   "cell_type": "code",
   "execution_count": 22,
   "metadata": {},
   "outputs": [
    {
     "name": "stdout",
     "output_type": "stream",
     "text": [
      "Accuracy on Test Dataset having 10 percentile features without using min_df : 54.60 %\n"
     ]
    }
   ],
   "source": [
    "pred = myGNB.predict(X_test_10)\n",
    "print('Accuracy on Test Dataset having 10 percentile features without using min_df : %.2f %c'%(sum(pred == Y_test) * 100 / len(pred), '%'))"
   ]
  },
  {
   "cell_type": "markdown",
   "metadata": {},
   "source": [
    "* **Applying min_df=100 and max_features=5000 as to reduce dimnesions of our training dataet**"
   ]
  },
  {
   "cell_type": "code",
   "execution_count": 23,
   "metadata": {},
   "outputs": [
    {
     "name": "stdout",
     "output_type": "stream",
     "text": [
      "Shape of X_train_tfidf :  (1600000, 5000)\n"
     ]
    }
   ],
   "source": [
    "tfidf = TfidfVectorizer(dtype='float32', min_df=100, max_features=5000)\n",
    "\n",
    "X_train_tfidf = tfidf.fit_transform(X_train_cleaned)\n",
    "X_test_tfidf = tfidf.transform(X_test_cleaned)\n",
    "\n",
    "print('Shape of X_train_tfidf : ',X_train_tfidf.shape)"
   ]
  },
  {
   "cell_type": "code",
   "execution_count": 24,
   "metadata": {},
   "outputs": [
    {
     "name": "stderr",
     "output_type": "stream",
     "text": [
      "Fitting Multiple models based on verticle splits: 100%|██████████| 34/34 [00:36<00:00,  1.07s/it]\n"
     ]
    },
    {
     "name": "stdout",
     "output_type": "stream",
     "text": [
      "Completed training in 0.84 minutes\n"
     ]
    }
   ],
   "source": [
    "myGNB = MyGaussianNB(n_jobs=6, v_split_size=150)\n",
    "myGNB.fit(X_train_tfidf, Y_train)"
   ]
  },
  {
   "cell_type": "code",
   "execution_count": 25,
   "metadata": {},
   "outputs": [
    {
     "name": "stdout",
     "output_type": "stream",
     "text": [
      "Accuracy on Test Dataset using whole dataset without using min_df : 71.59 %\n"
     ]
    }
   ],
   "source": [
    "pred = myGNB.predict(X_test_tfidf)\n",
    "\n",
    "print('Accuracy on Test Dataset using whole dataset without using min_df : %.2f %c'%(sum(pred == Y_test) * 100 / len(pred), '%'))"
   ]
  },
  {
   "cell_type": "markdown",
   "metadata": {},
   "source": [
    "* **Doing Select Percentile to select 10% features**"
   ]
  },
  {
   "cell_type": "code",
   "execution_count": 26,
   "metadata": {},
   "outputs": [],
   "source": [
    "sel = SelectPercentile(f_classif, percentile=10).fit(X_train_tfidf, Y_train)\n",
    "\n",
    "X_train_10 = sel.transform(X_train_tfidf)\n",
    "X_test_10 = sel.transform(X_test_tfidf)"
   ]
  },
  {
   "cell_type": "code",
   "execution_count": 27,
   "metadata": {},
   "outputs": [
    {
     "name": "stderr",
     "output_type": "stream",
     "text": [
      "Fitting Multiple models based on verticle splits: 100%|██████████| 4/4 [00:00<00:00, 297.04it/s]\n"
     ]
    },
    {
     "name": "stdout",
     "output_type": "stream",
     "text": [
      "Completed training in 0.10 minutes\n"
     ]
    }
   ],
   "source": [
    "myGNB = MyGaussianNB(n_jobs=6, v_split_size=150)\n",
    "myGNB.fit(X_train_10, Y_train)"
   ]
  },
  {
   "cell_type": "code",
   "execution_count": 28,
   "metadata": {},
   "outputs": [
    {
     "name": "stdout",
     "output_type": "stream",
     "text": [
      "Accuracy on Test Dataset having 10 percentile features without using min_df : 77.44 %\n"
     ]
    }
   ],
   "source": [
    "pred = myGNB.predict(X_test_10)\n",
    "print('Accuracy on Test Dataset having 10 percentile features without using min_df : %.2f %c'%(sum(pred == Y_test) * 100 / len(pred), '%'))"
   ]
  },
  {
   "cell_type": "markdown",
   "metadata": {},
   "source": [
    "* **Observations:**\n",
    "    \n",
    "    * Here we can see that this implementation of GaussianNB took so less time due to parallelization.\n",
    "    * Accuracies on the whole cleaned dataset is much poor.\n",
    "    * But when we reduced dimensions using select_percentile then we got better accuracy.\n",
    "    * Also when we initially reduced dimensions using min_df=100 and max_features=5000 then our model got trained very faster and we also got better accuracy numbers.\n",
    "    * All the accuracy figures are summerized in teh figure below.\n",
    "    \n"
   ]
  },
  {
   "cell_type": "markdown",
   "metadata": {},
   "source": [
    "# Part (g): Plotting ROC"
   ]
  },
  {
   "cell_type": "code",
   "execution_count": 19,
   "metadata": {},
   "outputs": [
    {
     "data": {
      "text/plain": [
       "(359,)"
      ]
     },
     "execution_count": 19,
     "metadata": {},
     "output_type": "execute_result"
    }
   ],
   "source": [
    "np.array(test_proba)[0,:].shape"
   ]
  },
  {
   "cell_type": "code",
   "execution_count": 34,
   "metadata": {},
   "outputs": [
    {
     "data": {
      "text/plain": [
       "4    182\n",
       "0    177\n",
       "dtype: int64"
      ]
     },
     "execution_count": 34,
     "metadata": {},
     "output_type": "execute_result"
    }
   ],
   "source": [
    "Y_test.value_counts()"
   ]
  },
  {
   "cell_type": "code",
   "execution_count": 48,
   "metadata": {},
   "outputs": [],
   "source": [
    "auc=roc_auc_score(Y_test.to_numpy() == 4, test_proba0)\n",
    "# print(Y_test.to_numpy())"
   ]
  },
  {
   "cell_type": "code",
   "execution_count": 53,
   "metadata": {},
   "outputs": [
    {
     "name": "stderr",
     "output_type": "stream",
     "text": [
      "Generating Log probabilities: 100%|██████████| 359/359 [00:00<00:00, 26201.63it/s]\n"
     ]
    },
    {
     "data": {
      "image/png": "[encoded data removed]",
      "text/plain": [
       "<Figure size 432x288 with 1 Axes>"
      ]
     },
     "metadata": {
      "needs_background": "light"
     },
     "output_type": "display_data"
    }
   ],
   "source": [
    "test_proba = nb_original.predict_log_proba(X_test)\n",
    "test_proba0 = np.array(test_proba)[0,:]\n",
    "test_proba4 = np.array(test_proba)[1,:]\n",
    "\n",
    "fpr, tpr, thresholds = roc_curve(Y_test, test_proba0, pos_label=4)\n",
    "auc=roc_auc_score(Y_test==4, test_proba0)\n",
    "plt.plot(fpr, tpr, label='Test ROC for y=0, AUC=%.2f'%auc)\n",
    "\n",
    "fpr, tpr, thresholds = roc_curve(Y_test, test_proba4, pos_label=4)\n",
    "auc=roc_auc_score(Y_test==4, test_proba4)\n",
    "plt.plot(fpr, tpr, label='Test ROC for y=4, AUC=%.2f'%auc)\n",
    "\n",
    "plt.plot([0,1],[0,1], label='Random Model')\n",
    "plt.xlabel('FPR')\n",
    "plt.ylabel('TPR')\n",
    "plt.title('Train & Test ROC Curve')\n",
    "plt.legend()\n",
    "plt.show()"
   ]
  },
  {
   "cell_type": "code",
   "execution_count": 54,
   "metadata": {},
   "outputs": [
    {
     "name": "stderr",
     "output_type": "stream",
     "text": [
      "Generating Log probabilities: 100%|██████████| 359/359 [00:00<00:00, 17497.79it/s]\n"
     ]
    },
    {
     "data": {
      "image/png": "[encoded data removed]",
      "text/plain": [
       "<Figure size 432x288 with 1 Axes>"
      ]
     },
     "metadata": {
      "needs_background": "light"
     },
     "output_type": "display_data"
    }
   ],
   "source": [
    "test_proba = nb_cleaned.predict_log_proba(X_test)\n",
    "test_proba0 = np.array(test_proba)[0,:]\n",
    "test_proba4 = np.array(test_proba)[1,:]\n",
    "\n",
    "fpr, tpr, thresholds = roc_curve(Y_test, test_proba0, pos_label=4)\n",
    "auc=roc_auc_score(Y_test==4, test_proba0)\n",
    "plt.plot(fpr, tpr, label='Test ROC for y=0, AUC=%.2f'%auc)\n",
    "\n",
    "fpr, tpr, thresholds = roc_curve(Y_test, test_proba4, pos_label=4)\n",
    "auc=roc_auc_score(Y_test==4, test_proba4)\n",
    "plt.plot(fpr, tpr, label='Test ROC for y=4, AUC=%.2f'%auc)\n",
    "\n",
    "plt.plot([0,1],[0,1], label='Random Model')\n",
    "plt.xlabel('FPR')\n",
    "plt.ylabel('TPR')\n",
    "plt.title('Train & Test ROC Curve')\n",
    "plt.legend()\n",
    "plt.show()"
   ]
  },
  {
   "cell_type": "code",
   "execution_count": null,
   "metadata": {},
   "outputs": [],
   "source": [
    "test_proba = nb_original.predict_log_proba(X_test)\n",
    "test_proba0 = np.array(test_proba)[0,:]\n",
    "test_proba4 = np.array(test_proba)[1,:]\n",
    "\n",
    "fpr, tpr, thresholds = roc_curve(Y_test, test_proba0, pos_label=4)\n",
    "auc=roc_auc_score(Y_test==4, test_proba0)\n",
    "plt.plot(fpr, tpr, label='Test ROC for y=0, AUC=%.2f'%auc)\n",
    "\n",
    "fpr, tpr, thresholds = roc_curve(Y_test, test_proba4, pos_label=4)\n",
    "auc=roc_auc_score(Y_test==4, test_proba4)\n",
    "plt.plot(fpr, tpr, label='Test ROC for y=4, AUC=%.2f'%auc)\n",
    "\n",
    "plt.plot([0,1],[0,1], label='Random Model')\n",
    "plt.xlabel('FPR')\n",
    "plt.ylabel('TPR')\n",
    "plt.title('Train & Test ROC Curve')\n",
    "plt.legend()\n",
    "plt.show()"
   ]
  },
  {
   "cell_type": "code",
   "execution_count": 21,
   "metadata": {},
   "outputs": [
    {
     "data": {
      "image/png": "[encoded data removed]",
      "text/plain": [
       "<Figure size 432x288 with 1 Axes>"
      ]
     },
     "metadata": {
      "needs_background": "light"
     },
     "output_type": "display_data"
    }
   ],
   "source": [
    "#Plotting ROC Curve and getting auc\n",
    "\n",
    "fpr, tpr, thresholds = roc_curve(Y_test, pred_proba[:,1], pos_label=4)\n",
    "auc=roc_auc_score(Y_test, pred_proba[:,1])\n",
    "plt.plot(fpr, tpr, label='Test ROC, AUC=%.2f'%auc)\n",
    "\n",
    "# fpr, tpr, thresholds = roc_curve(Y_train, train_proba_cleaned, pos_label=4)\n",
    "# auc=roc_auc_score(Y_train, train_proba)\n",
    "# plt.plot(fpr, tpr, label='Train ROC, AUC=%.2f'%auc)\n",
    "\n",
    "plt.plot([0,1],[0,1], label='Random Model')\n",
    "plt.xlabel('FPR')\n",
    "plt.ylabel('TPR')\n",
    "plt.title('Train & Test ROC Curve')\n",
    "plt.show()"
   ]
  },
  {
   "cell_type": "markdown",
   "metadata": {},
   "source": [
    "* **Observations :**\n",
    "\n",
    "    * Here we can see that AUC on our original dataset and cleaned dataset is very close to 0.5 hence we can say that our model did performed well in terms of accuracy but it was not confident in detecting classes.\n",
    "\n",
    "    * We got better ROC curve for GaussianNB on tfidf data. "
   ]
  },
  {
   "cell_type": "code",
   "execution_count": null,
   "metadata": {},
   "outputs": [],
   "source": []
  },
  {
   "cell_type": "code",
   "execution_count": null,
   "metadata": {},
   "outputs": [],
   "source": []
  },
  {
   "cell_type": "code",
   "execution_count": null,
   "metadata": {},
   "outputs": [],
   "source": []
  },
  {
   "cell_type": "code",
   "execution_count": 2,
   "metadata": {},
   "outputs": [],
   "source": [
    "class NaiveBayes:\n",
    "    \n",
    "    dict0, dict4 = dict(), dict()\n",
    "    phi0, phi4, = 0, 0\n",
    "    n0, n4, = 0, 0\n",
    "    vocab=list()\n",
    "    v=0\n",
    "    splitString = ',|\\.| '\n",
    "    tt=TweetTokenizer(preserve_case=False, strip_handles=True)\n",
    "    simpleTokenizer = lambda self,s : [word for word in re.split(self.splitString, s) if word!='' ]\n",
    "    tokenizer = simpleTokenizer\n",
    "    \n",
    "    tweetTok = lambda self,s : self.tt.tokenize(s)\n",
    "    \n",
    "    def __init__(self, useTweetTokenizer=False, addFeaturization=False):\n",
    "        self.dict0, self.dict4 = dict(), dict()\n",
    "        if useTweetTokenizer:\n",
    "            self.tokenizer = self.tweetTok\n",
    "        self.addFeaturization = addFeaturization\n",
    "        \n",
    "    def fit(self, X_train, Y_train):\n",
    "        #----Creating vocabulary-----\n",
    "        st = set()\n",
    "        for doc in tqdm(X_train, desc='Generating Vocabulary'):\n",
    "            words = self.tokenizer(doc)\n",
    "            for word in words:\n",
    "                st.add(word)\n",
    "            if self.addFeaturization:\n",
    "                for i in range(len(words)-1):\n",
    "                    st.add(words[i]+' '+words[i+1])\n",
    "        self.vocab = list(st) # List of vocabulary\n",
    "        self.v=len(self.vocab) #Vocabulary size\n",
    "    \n",
    "        #Splitting Dataset According to label\n",
    "        X_train_0 = np.array(X_train)[np.where(Y_train == 0)]\n",
    "        X_train_4 = np.array(X_train)[np.where(Y_train == 4)]\n",
    "\n",
    "        #Creating empty dictionaries for every class\n",
    "        self.dict0 = dict(zip(self.vocab, np.ones(len(self.vocab), dtype=int)))\n",
    "        self.dict4 = dict(zip(self.vocab, np.ones(len(self.vocab), dtype=int)))\n",
    "\n",
    "        #Counting occurance of each word in all three classes and then updating \n",
    "        #corrsponding dictionary\n",
    "        for stat in tqdm(X_train_0, desc='Generating Theta List for Label=0'):\n",
    "            words = self.tokenizer(stat)\n",
    "            for word in words:\n",
    "                self.dict0[word] = self.dict0[word]+1\n",
    "            if self.addFeaturization:\n",
    "                for i in range(len(words)-1):\n",
    "                    bGram = words[i]+' '+words[i+1]\n",
    "                    self.dict0[bGram] = self.dict0[bGram]+1\n",
    "                    \n",
    "        for stat in tqdm(X_train_4, desc='Generating Theta List for Label=4'):\n",
    "            words = self.tokenizer(stat)\n",
    "            for word in words:\n",
    "                self.dict4[word] = self.dict4[word]+1\n",
    "            if self.addFeaturization:\n",
    "                for i in range(len(words)-1):\n",
    "                    bGram = words[i]+' '+words[i+1]\n",
    "                    self.dict4[bGram] = self.dict4[bGram]+1\n",
    "        \n",
    "        #----Finding number of words in all these three classes\n",
    "        self.n0 = sum(list(self.dict0.values()))\n",
    "        self.n4 = sum(list(self.dict4.values()))\n",
    "        \n",
    "        self.dict0 = dict(zip(self.dict0.keys(), np.log(np.array(list(self.dict0.values()), dtype=int)/(self.n0+self.v))))\n",
    "        self.dict4 = dict(zip(self.dict4.keys(), np.log(np.array(list(self.dict4.values()), dtype=int)/(self.n4+self.v))))\n",
    "        \n",
    "        \n",
    "        #----Finding class priors\n",
    "        self.phi0 = (X_train_0.shape[0]+1) / (X_train.shape[0]+2)\n",
    "        self.phi4 = (X_train_4.shape[0]+1) / (X_train.shape[0]+2)\n",
    "\n",
    "    def predict(self, X):\n",
    "        pred_lst=list()\n",
    "        for x in tqdm(X, desc='Generating Predictions'):\n",
    "            prob0 = math.log(self.phi0)\n",
    "            prob4 = math.log(self.phi4)\n",
    "            words = self.tokenizer(x)\n",
    "            for word in words:\n",
    "                prob0 += self.dict0.get(word) if self.dict0.get(word)!=None else math.log(1/(self.n0+self.v))\n",
    "                prob4 += self.dict4.get(word) if self.dict4.get(word)!=None else math.log(1/(self.n4+self.v))\n",
    "            if self.addFeaturization:\n",
    "                for i in range(len(words)-1):\n",
    "                    bGram = words[i]+' '+words[i+1]\n",
    "                    prob0 += self.dict0.get(bGram) if self.dict0.get(bGram)!=None else math.log(1/(self.n0+self.v))\n",
    "                    prob4 += self.dict4.get(bGram) if self.dict4.get(bGram)!=None else math.log(1/(self.n4+self.v))\n",
    "            pred_lst.append(4*(np.array([prob0, prob4]).argmax()))\n",
    "        return pred_lst\n",
    "    \n",
    "    def predict_log_proba(self, X):\n",
    "        log_proba0=list()\n",
    "        log_proba4=list()\n",
    "        for x in tqdm(X, desc='Generating Log Probabilities'):\n",
    "            prob0 = math.log(self.phi0) #if self.phi0!=0 else 0\n",
    "            prob4 = math.log(self.phi4) #if self.phi0!=0 else 0\n",
    "            words = self.tokenizer(x)\n",
    "            for word in words:\n",
    "                prob0 += self.dict0.get(word) if self.dict0.get(word)!=None else np.log(1/(self.n0+self.v))\n",
    "                prob4 += self.dict4.get(word) if self.dict4.get(word)!=None else np.log(1/(self.n4+self.v))\n",
    "            if self.addFeaturization:\n",
    "                for i in range(len(words)-1):\n",
    "                    bGram = words[i]+' '+words[i+1]\n",
    "                    prob0 += self.dict0.get(bGram) if self.dict0.get(bGram)!=None else math.log(1/(self.n0+self.v))\n",
    "                    prob4 += self.dict4.get(bGram) if self.dict4.get(bGram)!=None else math.log(1/(self.n4+self.v))\n",
    "            log_proba0.append(prob0)\n",
    "            log_proba4.append(prob4)\n",
    "        return [log_proba0, log_proba4]\n",
    "    \n",
    "    def randomPred(self, size):\n",
    "        choices = [0,4]\n",
    "        pred = list()\n",
    "        for x in range(size):\n",
    "            pred.append(random.choice(choices))\n",
    "        return pred\n",
    "    \n",
    "    def majorityPred(self, size, out=4):\n",
    "        return [out]*size"
   ]
  },
  {
   "cell_type": "code",
   "execution_count": 14,
   "metadata": {},
   "outputs": [
    {
     "name": "stderr",
     "output_type": "stream",
     "text": [
      "Generating Vocabulary: 100%|██████████| 1600000/1600000 [00:46<00:00, 34574.03it/s]\n",
      "Generating Theta List for Label=0: 100%|██████████| 800000/800000 [00:25<00:00, 30824.09it/s]\n",
      "Generating Theta List for Label=4: 100%|██████████| 800000/800000 [00:25<00:00, 30847.51it/s]\n",
      "Generating Predictions: 100%|██████████| 1600000/1600000 [01:10<00:00, 22816.57it/s]\n",
      "Generating Predictions: 100%|██████████| 359/359 [00:00<00:00, 18417.67it/s]"
     ]
    },
    {
     "name": "stdout",
     "output_type": "stream",
     "text": [
      "Accuracy on Cleaned Train Data : 79.2489 %\n",
      "Accuracy on Cleaned Test Data : 81.0585 %\n"
     ]
    },
    {
     "name": "stderr",
     "output_type": "stream",
     "text": [
      "\n"
     ]
    }
   ],
   "source": [
    "nb_cleaned = NaiveBayes(useTweetTokenizer=True)\n",
    "\n",
    "nb_cleaned.fit(X_train_cleaned, Y_train)\n",
    "\n",
    "train_pred_cleaned = nb_cleaned.predict(X_train_cleaned)\n",
    "print('Accuracy on Cleaned Train Data : %.4f %c'%(metrics.accuracy_score(Y_train, train_pred_cleaned),'%'))\n",
    "\n",
    "test_pred_cleaned = nb_cleaned.predict(X_test_cleaned)\n",
    "print('Accuracy on Cleaned Test Data : %.4f %c'%(metrics.accuracy_score(Y_test, test_pred_cleaned),'%'))"
   ]
  },
  {
   "cell_type": "code",
   "execution_count": 15,
   "metadata": {},
   "outputs": [
    {
     "name": "stderr",
     "output_type": "stream",
     "text": [
      "Generating Vocabulary: 100%|██████████| 1600000/1600000 [00:04<00:00, 325698.35it/s]\n",
      "Generating Theta List for Label=0: 100%|██████████| 800000/800000 [00:04<00:00, 176456.02it/s]\n",
      "Generating Theta List for Label=4: 100%|██████████| 800000/800000 [00:04<00:00, 183851.27it/s]\n",
      "Generating Predictions: 100%|██████████| 1600000/1600000 [00:20<00:00, 76230.64it/s]\n",
      "Generating Predictions: 100%|██████████| 359/359 [00:00<00:00, 59821.03it/s]"
     ]
    },
    {
     "name": "stdout",
     "output_type": "stream",
     "text": [
      "Accuracy on Cleaned Train Data : 79.2880 %\n",
      "Accuracy on Cleaned Test Data : 82.7298 %\n"
     ]
    },
    {
     "name": "stderr",
     "output_type": "stream",
     "text": [
      "\n"
     ]
    }
   ],
   "source": [
    "nb_cleaned = NaiveBayes(useTweetTokenizer=False)\n",
    "\n",
    "nb_cleaned.fit(X_train_cleaned_tt, Y_train)\n",
    "\n",
    "train_pred_cleaned = nb_cleaned.predict(X_train_cleaned_tt)\n",
    "print('Accuracy on Cleaned Train Data : %.4f %c'%(metrics.accuracy_score(Y_train, train_pred_cleaned),'%'))\n",
    "\n",
    "test_pred_cleaned = nb_cleaned.predict(X_test_cleaned_tt)\n",
    "print('Accuracy on Cleaned Test Data : %.4f %c'%(metrics.accuracy_score(Y_test, test_pred_cleaned),'%'))"
   ]
  },
  {
   "cell_type": "code",
   "execution_count": 16,
   "metadata": {},
   "outputs": [
    {
     "name": "stderr",
     "output_type": "stream",
     "text": [
      "Generating Vocabulary: 100%|██████████| 1600000/1600000 [00:39<00:00, 40324.91it/s]\n",
      "Generating Theta List for Label=0: 100%|██████████| 800000/800000 [00:23<00:00, 34454.55it/s]\n",
      "Generating Theta List for Label=4: 100%|██████████| 800000/800000 [00:22<00:00, 34839.69it/s]\n",
      "Generating Predictions: 100%|██████████| 1600000/1600000 [01:02<00:00, 25428.11it/s]\n",
      "Generating Predictions: 100%|██████████| 359/359 [00:00<00:00, 21175.01it/s]"
     ]
    },
    {
     "name": "stdout",
     "output_type": "stream",
     "text": [
      "Accuracy on Cleaned Train Data : 79.4876 %\n",
      "Accuracy on Cleaned Test Data : 81.8942 %\n"
     ]
    },
    {
     "name": "stderr",
     "output_type": "stream",
     "text": [
      "\n"
     ]
    }
   ],
   "source": [
    "nb_cleaned = NaiveBayes(useTweetTokenizer=True)\n",
    "\n",
    "nb_cleaned.fit(X_train_cleaned_tt, Y_train)\n",
    "\n",
    "train_pred_cleaned = nb_cleaned.predict(X_train_cleaned_tt)\n",
    "print('Accuracy on Cleaned Train Data : %.4f %c'%(metrics.accuracy_score(Y_train, train_pred_cleaned),'%'))\n",
    "\n",
    "test_pred_cleaned = nb_cleaned.predict(X_test_cleaned_tt)\n",
    "print('Accuracy on Cleaned Test Data : %.4f %c'%(metrics.accuracy_score(Y_test, test_pred_cleaned),'%'))"
   ]
  },
  {
   "cell_type": "code",
   "execution_count": 23,
   "metadata": {},
   "outputs": [
    {
     "name": "stderr",
     "output_type": "stream",
     "text": [
      "Generating Vocabulary: 100%|██████████| 1600000/1600000 [00:05<00:00, 303430.99it/s]\n",
      "Generating Theta List for Label=0: 100%|██████████| 800000/800000 [00:04<00:00, 167676.80it/s]\n",
      "Generating Theta List for Label=4: 100%|██████████| 800000/800000 [00:04<00:00, 173488.94it/s]\n",
      "Generating Predictions: 100%|██████████| 1600000/1600000 [00:22<00:00, 72237.91it/s]\n",
      "Generating Predictions: 100%|██████████| 359/359 [00:00<00:00, 58173.20it/s]"
     ]
    },
    {
     "name": "stdout",
     "output_type": "stream",
     "text": [
      "Accuracy on Cleaned Train Data : 80.0914 %\n",
      "Accuracy on Cleaned Test Data : 82.7298 %\n"
     ]
    },
    {
     "name": "stderr",
     "output_type": "stream",
     "text": [
      "\n"
     ]
    }
   ],
   "source": [
    "nb_cleaned = NaiveBayes(useTweetTokenizer=False)\n",
    "\n",
    "nb_cleaned.fit(X_train_cleaned_tt_porter, Y_train)\n",
    "\n",
    "train_pred_cleaned = nb_cleaned.predict(X_train_cleaned_tt_porter)\n",
    "print('Accuracy on Cleaned Train Data : %.4f %c'%(metrics.accuracy_score(Y_train, train_pred_cleaned),'%'))\n",
    "\n",
    "test_pred_cleaned = nb_cleaned.predict(X_test_cleaned_tt_porter)\n",
    "print('Accuracy on Cleaned Test Data : %.4f %c'%(metrics.accuracy_score(Y_test, test_pred_cleaned),'%'))"
   ]
  },
  {
   "cell_type": "code",
   "execution_count": 18,
   "metadata": {},
   "outputs": [
    {
     "name": "stderr",
     "output_type": "stream",
     "text": [
      "Generating Vocabulary: 100%|██████████| 1600000/1600000 [00:40<00:00, 39433.30it/s]\n",
      "Generating Theta List for Label=0: 100%|██████████| 800000/800000 [00:22<00:00, 35563.94it/s]\n",
      "Generating Theta List for Label=4: 100%|██████████| 800000/800000 [00:21<00:00, 36543.77it/s]\n",
      "Generating Predictions: 100%|██████████| 1600000/1600000 [01:02<00:00, 25465.68it/s]\n",
      "Generating Predictions: 100%|██████████| 359/359 [00:00<00:00, 20510.46it/s]"
     ]
    },
    {
     "name": "stdout",
     "output_type": "stream",
     "text": [
      "Accuracy on Cleaned Train Data : 79.4821 %\n",
      "Accuracy on Cleaned Test Data : 82.4513 %\n"
     ]
    },
    {
     "name": "stderr",
     "output_type": "stream",
     "text": [
      "\n"
     ]
    }
   ],
   "source": [
    "nb_cleaned = NaiveBayes(useTweetTokenizer=True)\n",
    "\n",
    "nb_cleaned.fit(X_train_cleaned_tt_porter, Y_train)\n",
    "\n",
    "train_pred_cleaned = nb_cleaned.predict(X_train_cleaned_tt_porter)\n",
    "print('Accuracy on Cleaned Train Data : %.4f %c'%(metrics.accuracy_score(Y_train, train_pred_cleaned),'%'))\n",
    "\n",
    "test_pred_cleaned = nb_cleaned.predict(X_test_cleaned_tt_porter)\n",
    "print('Accuracy on Cleaned Test Data : %.4f %c'%(metrics.accuracy_score(Y_test, test_pred_cleaned),'%'))"
   ]
  },
  {
   "cell_type": "code",
   "execution_count": 19,
   "metadata": {},
   "outputs": [
    {
     "name": "stderr",
     "output_type": "stream",
     "text": [
      "Generating Vocabulary: 100%|██████████| 1600000/1600000 [00:05<00:00, 311997.65it/s]\n",
      "Generating Theta List for Label=0: 100%|██████████| 800000/800000 [00:04<00:00, 160824.76it/s]\n",
      "Generating Theta List for Label=4: 100%|██████████| 800000/800000 [00:04<00:00, 160031.88it/s]\n",
      "Generating Predictions: 100%|██████████| 1600000/1600000 [00:23<00:00, 69487.58it/s]\n",
      "Generating Predictions: 100%|██████████| 359/359 [00:00<00:00, 53907.89it/s]"
     ]
    },
    {
     "name": "stdout",
     "output_type": "stream",
     "text": [
      "Accuracy on Cleaned Train Data : 81.0916 %\n",
      "Accuracy on Cleaned Test Data : 81.3370 %\n"
     ]
    },
    {
     "name": "stderr",
     "output_type": "stream",
     "text": [
      "\n"
     ]
    }
   ],
   "source": [
    "nb_cleaned = NaiveBayes(useTweetTokenizer=False)\n",
    "\n",
    "nb_cleaned.fit(X_train_cleaned_porter, Y_train)\n",
    "\n",
    "train_pred_cleaned = nb_cleaned.predict(X_train_cleaned_porter)\n",
    "print('Accuracy on Cleaned Train Data : %.4f %c'%(metrics.accuracy_score(Y_train, train_pred_cleaned),'%'))\n",
    "\n",
    "test_pred_cleaned = nb_cleaned.predict(X_test_cleaned_porter)\n",
    "print('Accuracy on Cleaned Test Data : %.4f %c'%(metrics.accuracy_score(Y_test, test_pred_cleaned),'%'))"
   ]
  },
  {
   "cell_type": "code",
   "execution_count": 20,
   "metadata": {},
   "outputs": [
    {
     "name": "stderr",
     "output_type": "stream",
     "text": [
      "Generating Vocabulary: 100%|██████████| 1600000/1600000 [00:46<00:00, 34753.06it/s]\n",
      "Generating Theta List for Label=0: 100%|██████████| 800000/800000 [00:26<00:00, 30352.84it/s]\n",
      "Generating Theta List for Label=4: 100%|██████████| 800000/800000 [00:26<00:00, 30575.63it/s]\n",
      "Generating Predictions: 100%|██████████| 1600000/1600000 [01:10<00:00, 22559.29it/s]\n",
      "Generating Predictions: 100%|██████████| 359/359 [00:00<00:00, 18940.55it/s]"
     ]
    },
    {
     "name": "stdout",
     "output_type": "stream",
     "text": [
      "Accuracy on Cleaned Train Data : 79.2546 %\n",
      "Accuracy on Cleaned Test Data : 81.0585 %\n"
     ]
    },
    {
     "name": "stderr",
     "output_type": "stream",
     "text": [
      "\n"
     ]
    }
   ],
   "source": [
    "nb_cleaned = NaiveBayes(useTweetTokenizer=True)\n",
    "\n",
    "nb_cleaned.fit(X_train_cleaned_porter, Y_train)\n",
    "\n",
    "train_pred_cleaned = nb_cleaned.predict(X_train_cleaned_porter)\n",
    "print('Accuracy on Cleaned Train Data : %.4f %c'%(metrics.accuracy_score(Y_train, train_pred_cleaned),'%'))\n",
    "\n",
    "test_pred_cleaned = nb_cleaned.predict(X_test_cleaned_porter)\n",
    "print('Accuracy on Cleaned Test Data : %.4f %c'%(metrics.accuracy_score(Y_test, test_pred_cleaned),'%'))"
   ]
  },
  {
   "cell_type": "code",
   "execution_count": 8,
   "metadata": {},
   "outputs": [
    {
     "name": "stderr",
     "output_type": "stream",
     "text": [
      "Generating POS List: 100%|██████████| 1600000/1600000 [03:16<00:00, 8162.67it/s] \n",
      "Generating Vocabulary: 100%|██████████| 1600000/1600000 [00:06<00:00, 253146.50it/s]\n",
      "Generating Theta List for Label=0: 100%|██████████| 800000/800000 [00:06<00:00, 116341.15it/s]\n",
      "Generating Theta List for Label=4: 100%|██████████| 800000/800000 [00:07<00:00, 113945.86it/s]\n",
      "Generating Predictions: 100%|██████████| 359/359 [00:00<00:00, 2092.76it/s]"
     ]
    },
    {
     "name": "stdout",
     "output_type": "stream",
     "text": [
      "Accuracy on Cleaned Test Data : 77.4373 %\n"
     ]
    },
    {
     "name": "stderr",
     "output_type": "stream",
     "text": [
      "\n"
     ]
    }
   ],
   "source": [
    "nb_cleaned = NaiveBayes(useTweetTokenizer=False, addPOS=True)\n",
    "\n",
    "nb_cleaned.fit(X_train_cleaned_tt_porter, Y_train)\n",
    "\n",
    "# train_pred_cleaned = nb_cleaned.predict(X_train_cleaned_tt_porter)\n",
    "# print('Accuracy on Cleaned Train Data : %.4f %c'%(metrics.accuracy_score(Y_train, train_pred_cleaned),'%'))\n",
    "\n",
    "test_pred_cleaned = nb_cleaned.predict(X_test_cleaned_tt_porter)\n",
    "print('Accuracy on Cleaned Test Data : %.4f %c'%(metrics.accuracy_score(Y_test, test_pred_cleaned),'%'))"
   ]
  },
  {
   "cell_type": "code",
   "execution_count": 21,
   "metadata": {},
   "outputs": [
    {
     "name": "stderr",
     "output_type": "stream",
     "text": [
      "Generating Vocabulary: 100%|██████████| 1600000/1600000 [00:09<00:00, 162192.05it/s]\n",
      "Generating Theta List for Label=0: 100%|██████████| 800000/800000 [00:09<00:00, 85365.26it/s]\n",
      "Generating Theta List for Label=4: 100%|██████████| 800000/800000 [00:09<00:00, 87760.82it/s]\n",
      "Generating Predictions: 100%|██████████| 359/359 [00:00<00:00, 27902.96it/s]"
     ]
    },
    {
     "name": "stdout",
     "output_type": "stream",
     "text": [
      "Accuracy on Cleaned Test Data : 83.5655 %\n"
     ]
    },
    {
     "name": "stderr",
     "output_type": "stream",
     "text": [
      "\n"
     ]
    }
   ],
   "source": [
    "nb_cleaned = NaiveBayes(useTweetTokenizer=False, addTrigrams=True)\n",
    "\n",
    "nb_cleaned.fit(X_train_cleaned_tt_porter, Y_train)\n",
    "\n",
    "# train_pred_cleaned = nb_cleaned.predict(X_train_cleaned_tt_porter)\n",
    "# print('Accuracy on Cleaned Train Data : %.4f %c'%(metrics.accuracy_score(Y_train, train_pred_cleaned),'%'))\n",
    "\n",
    "test_pred_cleaned = nb_cleaned.predict(X_test_cleaned_tt_porter)\n",
    "print('Accuracy on Cleaned Test Data : %.4f %c'%(metrics.accuracy_score(Y_test, test_pred_cleaned),'%'))"
   ]
  },
  {
   "cell_type": "code",
   "execution_count": 18,
   "metadata": {},
   "outputs": [
    {
     "name": "stderr",
     "output_type": "stream",
     "text": [
      "Generating Vocabulary: 100%|██████████| 1600000/1600000 [00:47<00:00, 33897.43it/s]\n",
      "Generating Theta List for Label=0: 100%|██████████| 800000/800000 [00:28<00:00, 27660.78it/s]\n",
      "Generating Theta List for Label=4: 100%|██████████| 800000/800000 [00:27<00:00, 28719.48it/s]\n",
      "Generating Predictions: 100%|██████████| 359/359 [00:00<00:00, 15344.65it/s]"
     ]
    },
    {
     "name": "stdout",
     "output_type": "stream",
     "text": [
      "Accuracy on Cleaned Test Data : 82.7298 %\n"
     ]
    },
    {
     "name": "stderr",
     "output_type": "stream",
     "text": [
      "\n"
     ]
    }
   ],
   "source": [
    "nb_cleaned = NaiveBayes(useTweetTokenizer=True, addTrigrams=True)\n",
    "\n",
    "nb_cleaned.fit(X_train_cleaned_tt_porter, Y_train)\n",
    "\n",
    "# train_pred_cleaned = nb_cleaned.predict(X_train_cleaned_tt_porter)\n",
    "# print('Accuracy on Cleaned Train Data : %.4f %c'%(metrics.accuracy_score(Y_train, train_pred_cleaned),'%'))\n",
    "\n",
    "test_pred_cleaned = nb_cleaned.predict(X_test_cleaned_tt_porter)\n",
    "print('Accuracy on Cleaned Test Data : %.4f %c'%(metrics.accuracy_score(Y_test, test_pred_cleaned),'%'))"
   ]
  },
  {
   "cell_type": "code",
   "execution_count": 19,
   "metadata": {},
   "outputs": [
    {
     "name": "stderr",
     "output_type": "stream",
     "text": [
      "Generating Vocabulary: 100%|██████████| 1600000/1600000 [00:50<00:00, 31452.22it/s]\n",
      "Generating Theta List for Label=0: 100%|██████████| 800000/800000 [00:33<00:00, 23690.93it/s]\n",
      "Generating Theta List for Label=4: 100%|██████████| 800000/800000 [00:32<00:00, 24430.67it/s]\n",
      "Generating Predictions: 100%|██████████| 359/359 [00:00<00:00, 12664.69it/s]"
     ]
    },
    {
     "name": "stdout",
     "output_type": "stream",
     "text": [
      "Accuracy on Cleaned Test Data : 82.1727 %\n"
     ]
    },
    {
     "name": "stderr",
     "output_type": "stream",
     "text": [
      "\n"
     ]
    }
   ],
   "source": [
    "nb_cleaned = NaiveBayes(useTweetTokenizer=True, addTrigrams=True, addBigrams=True)\n",
    "\n",
    "nb_cleaned.fit(X_train_cleaned_tt_porter, Y_train)\n",
    "\n",
    "# train_pred_cleaned = nb_cleaned.predict(X_train_cleaned_tt_porter)\n",
    "# print('Accuracy on Cleaned Train Data : %.4f %c'%(metrics.accuracy_score(Y_train, train_pred_cleaned),'%'))\n",
    "\n",
    "test_pred_cleaned = nb_cleaned.predict(X_test_cleaned_tt_porter)\n",
    "print('Accuracy on Cleaned Test Data : %.4f %c'%(metrics.accuracy_score(Y_test, test_pred_cleaned),'%'))"
   ]
  },
  {
   "cell_type": "code",
   "execution_count": 24,
   "metadata": {},
   "outputs": [
    {
     "name": "stderr",
     "output_type": "stream",
     "text": [
      "Generating Vocabulary: 100%|██████████| 1600000/1600000 [00:09<00:00, 167556.23it/s]\n",
      "Generating Theta List for Label=0: 100%|██████████| 800000/800000 [00:09<00:00, 82871.22it/s]\n",
      "Generating Theta List for Label=4: 100%|██████████| 800000/800000 [00:09<00:00, 81767.68it/s]\n",
      "Generating Predictions: 100%|██████████| 359/359 [00:00<00:00, 29976.61it/s]"
     ]
    },
    {
     "name": "stdout",
     "output_type": "stream",
     "text": [
      "Accuracy on Cleaned Test Data : 82.4513 %\n"
     ]
    },
    {
     "name": "stderr",
     "output_type": "stream",
     "text": [
      "\n"
     ]
    }
   ],
   "source": [
    "nb_cleaned = NaiveBayes(useTweetTokenizer=False, addBigrams=True)\n",
    "\n",
    "nb_cleaned.fit(X_train_cleaned_tt_porter, Y_train)\n",
    "\n",
    "# train_pred_cleaned = nb_cleaned.predict(X_train_cleaned_tt_porter)\n",
    "# print('Accuracy on Cleaned Train Data : %.4f %c'%(metrics.accuracy_score(Y_train, train_pred_cleaned),'%'))\n",
    "\n",
    "test_pred_cleaned = nb_cleaned.predict(X_test_cleaned_tt_porter)\n",
    "print('Accuracy on Cleaned Test Data : %.4f %c'%(metrics.accuracy_score(Y_test, test_pred_cleaned),'%'))"
   ]
  },
  {
   "cell_type": "code",
   "execution_count": 25,
   "metadata": {},
   "outputs": [
    {
     "name": "stderr",
     "output_type": "stream",
     "text": [
      "Generating Vocabulary: 100%|██████████| 1600000/1600000 [00:09<00:00, 164684.62it/s]\n",
      "Generating Theta List for Label=0: 100%|██████████| 800000/800000 [00:09<00:00, 81300.76it/s]\n",
      "Generating Theta List for Label=4: 100%|██████████| 800000/800000 [00:09<00:00, 82014.84it/s]\n",
      "Generating Predictions: 100%|██████████| 359/359 [00:00<00:00, 30644.02it/s]"
     ]
    },
    {
     "name": "stdout",
     "output_type": "stream",
     "text": [
      "Accuracy on Cleaned Test Data : 83.8440 %\n"
     ]
    },
    {
     "name": "stderr",
     "output_type": "stream",
     "text": [
      "\n"
     ]
    }
   ],
   "source": [
    "nb_cleaned = NaiveBayes(useTweetTokenizer=False, addTrigrams=True)\n",
    "\n",
    "nb_cleaned.fit(X_train_cleaned_tt_porter, Y_train)\n",
    "\n",
    "# train_pred_cleaned = nb_cleaned.predict(X_train_cleaned_tt_porter)\n",
    "# print('Accuracy on Cleaned Train Data : %.4f %c'%(metrics.accuracy_score(Y_train, train_pred_cleaned),'%'))\n",
    "\n",
    "test_pred_cleaned = nb_cleaned.predict(X_test_cleaned_tt_porter)\n",
    "print('Accuracy on Cleaned Test Data : %.4f %c'%(metrics.accuracy_score(Y_test, test_pred_cleaned),'%'))"
   ]
  }
 ],
 "metadata": {
  "kernelspec": {
   "display_name": "Python 3",
   "language": "python",
   "name": "python3"
  },
  "language_info": {
   "codemirror_mode": {
    "name": "ipython",
    "version": 3
   },
   "file_extension": ".py",
   "mimetype": "text/x-python",
   "name": "python",
   "nbconvert_exporter": "python",
   "pygments_lexer": "ipython3",
   "version": "3.6.5"
  }
 },
 "nbformat": 4,
 "nbformat_minor": 4
}
