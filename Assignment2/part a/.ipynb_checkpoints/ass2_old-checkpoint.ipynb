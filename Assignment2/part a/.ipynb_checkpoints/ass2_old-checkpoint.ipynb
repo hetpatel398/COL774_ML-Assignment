{
 "cells": [
  {
   "cell_type": "code",
   "execution_count": 3,
   "metadata": {},
   "outputs": [],
   "source": [
    "import pandas as pd\n",
    "from tqdm import tqdm\n",
    "import numpy as np\n",
    "import matplotlib.pyplot as plt\n",
    "import seaborn as sns\n",
    "import math\n",
    "import random"
   ]
  },
  {
   "cell_type": "markdown",
   "metadata": {},
   "source": [
    "# Part (a) : Implementing Naive Bayes and getting accuracy on Train and Test Datasets."
   ]
  },
  {
   "cell_type": "code",
   "execution_count": 4,
   "metadata": {},
   "outputs": [],
   "source": [
    "class NaiveBayes:\n",
    "    \n",
    "    dict0, dict2, dict4 = dict(), dict(), dict()\n",
    "    phi0, phi2, phi4, = 0, 0, 0\n",
    "    n0, n2, n4, = 0, 0, 0\n",
    "    vocab=list()\n",
    "    v=0\n",
    "    \n",
    "    def __init__(self):\n",
    "        dict0, dict2, dict4 = dict(), dict(), dict()\n",
    "        \n",
    "    def fit(self, X_train, Y_train):\n",
    "        #----Creating vocabulary-----\n",
    "        global dict0, dict2, dict4, phi0, phi2, phi4\n",
    "        st = set()\n",
    "        for doc in tqdm(X_train, desc='Generating Vocabulary'):\n",
    "            for word in doc.split():\n",
    "                st.add(word)\n",
    "        self.vocab = list(st) # List of vocabulary\n",
    "        self.v=len(self.vocab) #Vocabulary size\n",
    "    \n",
    "        #Splitting Dataset According to label\n",
    "        X_train_0 = np.array(X_train)[np.where(Y_train == 0)]\n",
    "        X_train_2 = np.array(X_train)[np.where(Y_train == 2)]\n",
    "        X_train_4 = np.array(X_train)[np.where(Y_train == 4)]\n",
    "\n",
    "        #Creating empty dictionaries for every class\n",
    "        self.dict0 = dict(zip(self.vocab, np.zeros(len(self.vocab), dtype=int)))\n",
    "        self.dict2 = dict(zip(self.vocab, np.zeros(len(self.vocab), dtype=int)))\n",
    "        self.dict4 = dict(zip(self.vocab, np.zeros(len(self.vocab), dtype=int)))\n",
    "\n",
    "        #Counting occurance of each word in all three classes and then updating \n",
    "        #corrsponding dictionary\n",
    "        for stat in tqdm(X_train_0, desc='Generating Theta List for Label=0'):\n",
    "            for word in stat.split():\n",
    "                self.dict0[word] = self.dict0[word]+1\n",
    "        for stat in tqdm(X_train_2, desc='Generating Theta List for Label=2'):\n",
    "            for word in stat.split():\n",
    "                self.dict2[word] = self.dict2[word]+1\n",
    "        for stat in tqdm(X_train_4, desc='Generating Theta List for Label=4'):\n",
    "            for word in stat.split():\n",
    "                self.dict4[word] = self.dict4[word]+1\n",
    "\n",
    "        #----Finding number of words in all these three classes\n",
    "        self.n0 = sum(list(self.dict0.values()))\n",
    "        self.n2 = sum(list(self.dict2.values()))\n",
    "        self.n4 = sum(list(self.dict4.values()))\n",
    "        \n",
    "        #----Finding class priors\n",
    "        self.phi0 = (X_train_0.shape[0]+1) / (X_train.shape[0]+3)\n",
    "        self.phi2 = (X_train_2.shape[0]+1) / (X_train.shape[0]+3)\n",
    "        self.phi4 = (X_train_4.shape[0]+1) / (X_train.shape[0]+3)\n",
    "\n",
    "    def pred(self, X):\n",
    "        pred_lst=list()\n",
    "        for x in tqdm(X, desc='Generating Predictions'):\n",
    "            prob0 = math.log(self.phi0) #if self.phi0!=0 else 0\n",
    "            prob2 = math.log(self.phi2) #if self.phi2!=0 else 0\n",
    "            prob4 = math.log(self.phi4) #if self.phi4!=0 else 0\n",
    "            for word in x.split(' '):\n",
    "                prob0 += math.log(((self.dict0.get(word)+1) if self.dict0.get(word)!=None else 1)/(self.n0+self.v))\n",
    "                prob2 += math.log(((self.dict2.get(word)+1) if self.dict2.get(word)!=None else 1)/(self.n2+self.v))\n",
    "                prob4 += math.log(((self.dict4.get(word)+1) if self.dict4.get(word)!=None else 1)/(self.n4+self.v))\n",
    "            pred_lst.append(2*(np.array([prob0, prob2, prob4]).argmax()))\n",
    "        return pred_lst\n",
    "    \n",
    "    def getAccuracy(self, y_true, y_pred):\n",
    "        unique, counts = np.unique(y_true==y_pred, return_counts=True)\n",
    "        return (counts[1] if unique[1]==True else counts[0])*100/(counts[1]+counts[0])  \n",
    "\n",
    "    \n",
    "    def randomPred(self, size):\n",
    "        choices = [0,2,4]\n",
    "        pred = list()\n",
    "        for x in range(size):\n",
    "            pred.append(random.choice(choices))\n",
    "        return pred\n",
    "    \n",
    "    def majorityPred(self, size):\n",
    "        choices = [0, 4]\n",
    "        pred = list()\n",
    "        for x in range(size):\n",
    "            pred.append(random.choice(choices))\n",
    "        return pred\n",
    "        \n",
    "    def confusionMatrix(self, y_true, y_pred, title = 'Confusion Matrix'):\n",
    "        cm=np.zeros((3,3), dtype=int)\n",
    "        for (y_hat, y) in zip(y_pred, y_true):\n",
    "            cm[y_hat//2][y//2] += 1\n",
    "        \n",
    "        sns.heatmap(cm, annot=True, fmt=\"d\",linecolor='black',linewidth='0.1', \\\n",
    "        cmap=['lightgray', 'grey', 'grey', 'grey', 'grey', 'grey'],xticklabels=[0,2,4], yticklabels=[0,2,4])\n",
    "        plt.xlabel('Actual')\n",
    "        plt.ylabel('Predicted')\n",
    "        plt.title(title)\n",
    "        plt.show()\n",
    "        "
   ]
  },
  {
   "cell_type": "code",
   "execution_count": 42,
   "metadata": {},
   "outputs": [],
   "source": [
    "train_data = pd.read_csv('./training.1600000.processed.noemoticon.csv', sep=',', encoding='latin-1', names=['polarity', 'id', 'date', 'query', 'user', 'text'])\n",
    "\n",
    "X_train = train_data['text']\n",
    "Y_train = train_data['polarity'] \n",
    "\n",
    "test_data = pd.read_csv('./testdata.manual.2009.06.14.csv', sep=',', encoding='latin-1', names=['polarity', 'id', 'date', 'query', 'user', 'text'])\n",
    "\n",
    "X_test = test_data['text']\n",
    "Y_test = test_data['polarity']\n",
    "\n",
    "X_test_new_0 = np.array(X_test)[np.where(Y_test==0)]# or Y_test==4)]\n",
    "X_test_new_4 = np.array(X_test)[np.where(Y_test==4)]\n",
    "\n",
    "X_test = np.concatenate((X_test_new_0, X_test_new_4))\n",
    "Y_test = np.concatenate((np.zeros(X_test_new_0.shape[0]), np.zeros(X_test_new_4.shape[0])+4))"
   ]
  },
  {
   "cell_type": "code",
   "execution_count": 4,
   "metadata": {},
   "outputs": [
    {
     "name": "stderr",
     "output_type": "stream",
     "text": [
      "Generating Vocabulary: 100%|██████████| 1600000/1600000 [00:03<00:00, 469318.19it/s]\n",
      "Generating Theta List for Label=0: 100%|██████████| 800000/800000 [00:05<00:00, 155255.46it/s]\n",
      "Generating Theta List for Label=2: 0it [00:00, ?it/s]\n",
      "Generating Theta List for Label=4: 100%|██████████| 800000/800000 [00:05<00:00, 154908.04it/s]\n",
      "Generating Predictions: 100%|██████████| 1600000/1600000 [01:14<00:00, 21379.78it/s]\n",
      "Generating Predictions: 100%|██████████| 498/498 [00:00<00:00, 20706.66it/s]"
     ]
    },
    {
     "name": "stdout",
     "output_type": "stream",
     "text": [
      "Accuracy on Train Data :  86.3225625\n",
      "Accuracy on Test Data :  59.036144578313255\n"
     ]
    },
    {
     "name": "stderr",
     "output_type": "stream",
     "text": [
      "\n"
     ]
    }
   ],
   "source": [
    "nb=NaiveBayes()\n",
    "\n",
    "nb.fit(X_train, Y_train)\n",
    "\n",
    "train_pred = nb.pred(X_train)\n",
    "print('Accuracy on Train Data : ',nb.getAccuracy(Y_train, train_pred))\n",
    "\n",
    "test_pred = nb.pred(X_test)\n",
    "print('Accuracy on Test Data : ',nb.getAccuracy(Y_test, test_pred))"
   ]
  },
  {
   "cell_type": "markdown",
   "metadata": {},
   "source": [
    "# Part (b) : Getting Lower bound on accuracy by finding accuracy of test data using random prediction and majority vote prediction"
   ]
  },
  {
   "cell_type": "code",
   "execution_count": 5,
   "metadata": {},
   "outputs": [
    {
     "name": "stdout",
     "output_type": "stream",
     "text": [
      "Accuracy of Random predictor on Test Data :  34.53815261044177\n",
      "Accuracy of Mah=jority Vote predictor on Test Data :  38.15261044176707\n"
     ]
    }
   ],
   "source": [
    "random_pred = nb.randomPred(Y_test.shape[0])\n",
    "print('Accuracy of Random predictor on Test Data : ',nb.getAccuracy(Y_test, random_pred))\n",
    "\n",
    "majority_pred = nb.majorityPred(Y_test.shape[0])\n",
    "print('Accuracy of Mah=jority Vote predictor on Test Data : ',nb.getAccuracy(Y_test, majority_pred))"
   ]
  },
  {
   "cell_type": "markdown",
   "metadata": {},
   "source": [
    "# Part (c) : Plotting Confusion matrix for the Train as well as Test Dataset for our Model"
   ]
  },
  {
   "cell_type": "code",
   "execution_count": 6,
   "metadata": {},
   "outputs": [
    {
     "data": {
      "image/png": "[encoded data removed]",
      "text/plain": [
       "<Figure size 432x288 with 2 Axes>"
      ]
     },
     "metadata": {
      "needs_background": "light"
     },
     "output_type": "display_data"
    }
   ],
   "source": [
    "nb.confusionMatrix(Y_train, train_pred, title='Confusion matrix for Train Dataset')"
   ]
  },
  {
   "cell_type": "code",
   "execution_count": 7,
   "metadata": {},
   "outputs": [
    {
     "data": {
      "image/png": "[encoded data removed]",
      "text/plain": [
       "<Figure size 432x288 with 2 Axes>"
      ]
     },
     "metadata": {
      "needs_background": "light"
     },
     "output_type": "display_data"
    }
   ],
   "source": [
    "nb.confusionMatrix(Y_test, test_pred, title='Confusion matrix for Test Dataset')"
   ]
  },
  {
   "cell_type": "markdown",
   "metadata": {},
   "source": [
    "# Part (d) : Stemming, Removing Stopwords and cleaning Data "
   ]
  },
  {
   "cell_type": "code",
   "execution_count": 8,
   "metadata": {},
   "outputs": [],
   "source": [
    "from nltk.corpus import stopwords\n",
    "from nltk.stem import PorterStemmer\n",
    "from nltk.stem.wordnet import WordNetLemmatizer\n",
    "import nltk\n",
    "import re"
   ]
  },
  {
   "cell_type": "code",
   "execution_count": 9,
   "metadata": {},
   "outputs": [],
   "source": [
    "stop = set(stopwords.words('english')) #set of stopwords\n",
    "sno = nltk.stem.SnowballStemmer('english') #initialising the snowball stemmer"
   ]
  },
  {
   "cell_type": "code",
   "execution_count": 10,
   "metadata": {},
   "outputs": [],
   "source": [
    "def cleanUserName(sentence): #function to clean the word of any html-tags\n",
    "    cleanr = re.compile('@.*')\n",
    "    cleantext = re.sub(cleanr, '', sentence)\n",
    "    return cleantext"
   ]
  },
  {
   "cell_type": "code",
   "execution_count": 11,
   "metadata": {},
   "outputs": [
    {
     "data": {
      "text/plain": [
       "'Hello I am '"
      ]
     },
     "execution_count": 11,
     "metadata": {},
     "output_type": "execute_result"
    }
   ],
   "source": [
    "cleanUserName('Hello I am @hetpatel_398, @abc')"
   ]
  },
  {
   "cell_type": "code",
   "execution_count": 12,
   "metadata": {},
   "outputs": [
    {
     "name": "stderr",
     "output_type": "stream",
     "text": [
      "100%|██████████| 1600000/1600000 [00:51<00:00, 31051.53it/s]\n"
     ]
    }
   ],
   "source": [
    "i=0\n",
    "str1=' '\n",
    "final_string=[]\n",
    "s=''\n",
    "for sent in tqdm(X_train.values):\n",
    "    filtered_sentence=[]\n",
    "    sent=cleanUserName(sent) # remove HTMl tags\n",
    "    for word in sent.split():\n",
    "        if((word.isalpha()) & (len(word)>2)):\n",
    "            if(word.lower() not in stop):\n",
    "                s=(sno.stem(word.lower())).encode('utf8')\n",
    "                filtered_sentence.append(s)\n",
    "        else:\n",
    "            continue\n",
    "    #print(filtered_sentence)\n",
    "    str1 = b\" \".join(filtered_sentence) #final string of cleaned words\n",
    "    #print(\"***********************************************************************\")\n",
    "    final_string.append(str1)\n",
    "    i+=1"
   ]
  },
  {
   "cell_type": "code",
   "execution_count": 13,
   "metadata": {},
   "outputs": [],
   "source": [
    "X_train_cleaned = np.array(final_string)"
   ]
  },
  {
   "cell_type": "code",
   "execution_count": 14,
   "metadata": {
    "scrolled": true
   },
   "outputs": [
    {
     "name": "stderr",
     "output_type": "stream",
     "text": [
      "Generating Vocabulary: 100%|██████████| 1600000/1600000 [00:01<00:00, 1451698.65it/s]\n",
      "Generating Theta List for Label=0: 100%|██████████| 800000/800000 [00:01<00:00, 590819.54it/s]\n",
      "Generating Theta List for Label=2: 0it [00:00, ?it/s]\n",
      "Generating Theta List for Label=4: 100%|██████████| 800000/800000 [00:01<00:00, 749429.34it/s]\n",
      "Generating Predictions: 100%|██████████| 1600000/1600000 [00:52<00:00, 30619.26it/s]\n",
      "Generating Predictions: 100%|██████████| 498/498 [00:00<00:00, 29907.41it/s]"
     ]
    },
    {
     "name": "stdout",
     "output_type": "stream",
     "text": [
      "Accuracy on Train Data :  2.802625\n",
      "Accuracy on Test Data :  26.907630522088354\n"
     ]
    },
    {
     "name": "stderr",
     "output_type": "stream",
     "text": [
      "\n"
     ]
    }
   ],
   "source": [
    "nb_cleaned = NaiveBayes()\n",
    "\n",
    "nb_cleaned.fit(X_train_cleaned, Y_train)\n",
    "\n",
    "train_pred = nb_cleaned.pred(X_train)\n",
    "print('Accuracy on Train Data : ',nb.getAccuracy(Y_train, train_pred))\n",
    "\n",
    "test_pred = nb_cleaned.pred(X_test)\n",
    "print('Accuracy on Test Data : ',nb.getAccuracy(Y_test, test_pred))"
   ]
  },
  {
   "cell_type": "markdown",
   "metadata": {},
   "source": [
    "# Part (f) : tf-idf"
   ]
  },
  {
   "cell_type": "code",
   "execution_count": 34,
   "metadata": {},
   "outputs": [],
   "source": [
    "from sklearn.feature_extraction.text import TfidfVectorizer\n",
    "\n",
    "tfidf = TfidfVectorizer(lowercase=False)"
   ]
  },
  {
   "cell_type": "code",
   "execution_count": 35,
   "metadata": {},
   "outputs": [],
   "source": [
    "X = tfidf.fit_transform(X_train)"
   ]
  },
  {
   "cell_type": "code",
   "execution_count": 35,
   "metadata": {},
   "outputs": [
    {
     "data": {
      "text/plain": [
       "(1600000, 790498)"
      ]
     },
     "execution_count": 35,
     "metadata": {},
     "output_type": "execute_result"
    }
   ],
   "source": [
    "X.shape"
   ]
  },
  {
   "cell_type": "code",
   "execution_count": 31,
   "metadata": {},
   "outputs": [],
   "source": [
    "from sklearn.naive_bayes import GaussianNB"
   ]
  },
  {
   "cell_type": "code",
   "execution_count": 40,
   "metadata": {},
   "outputs": [],
   "source": [
    "gnb=GaussianNB()"
   ]
  },
  {
   "cell_type": "code",
   "execution_count": 51,
   "metadata": {},
   "outputs": [
    {
     "name": "stderr",
     "output_type": "stream",
     "text": [
      "100%|██████████| 1600/1600 [2:51:40<00:00,  6.44s/it]  \n"
     ]
    }
   ],
   "source": [
    "batchSize = 1000\n",
    "for i in tqdm(range(16*(10**5) // batchSize)):\n",
    "    gnb.fit(X[i*batchSize:((i+1)*batchSize)].toarray(), Y_train[i*batchSize:((i+1)*batchSize)])"
   ]
  },
  {
   "cell_type": "code",
   "execution_count": 52,
   "metadata": {},
   "outputs": [],
   "source": [
    "import pickle\n",
    "with open('gnb.pkl', 'wb') as fp:\n",
    "    pickle.dump(gnb, fp)"
   ]
  },
  {
   "cell_type": "code",
   "execution_count": 29,
   "metadata": {},
   "outputs": [],
   "source": []
  },
  {
   "cell_type": "code",
   "execution_count": 2,
   "metadata": {},
   "outputs": [],
   "source": [
    "import pickle\n",
    "with open('gnb.pkl', 'rb') as fp:\n",
    "    gnb = pickle.load(fp)"
   ]
  },
  {
   "cell_type": "code",
   "execution_count": 36,
   "metadata": {},
   "outputs": [],
   "source": [
    "X=tfidf.transform(X_test_new)"
   ]
  },
  {
   "cell_type": "code",
   "execution_count": 38,
   "metadata": {},
   "outputs": [],
   "source": [
    "pred = gnb.predict(X.toarray())"
   ]
  },
  {
   "cell_type": "code",
   "execution_count": 39,
   "metadata": {},
   "outputs": [],
   "source": [
    "nb=NaiveBayes()"
   ]
  },
  {
   "cell_type": "code",
   "execution_count": 41,
   "metadata": {},
   "outputs": [
    {
     "data": {
      "text/plain": [
       "50.69637883008357"
      ]
     },
     "execution_count": 41,
     "metadata": {},
     "output_type": "execute_result"
    }
   ],
   "source": [
    "nb.getAccuracy(Y_test, pred)"
   ]
  },
  {
   "cell_type": "code",
   "execution_count": 40,
   "metadata": {},
   "outputs": [],
   "source": [
    "from sklearn.feature_extraction.text import CountVectorizer\n",
    "cnt=CountVectorizer()"
   ]
  },
  {
   "cell_type": "code",
   "execution_count": 30,
   "metadata": {},
   "outputs": [],
   "source": [
    "X=cnt.fit_transform(X_train)"
   ]
  },
  {
   "cell_type": "code",
   "execution_count": 32,
   "metadata": {},
   "outputs": [
    {
     "data": {
      "text/plain": [
       "(1600000, 684358)"
      ]
     },
     "execution_count": 32,
     "metadata": {},
     "output_type": "execute_result"
    }
   ],
   "source": [
    "X.shape"
   ]
  },
  {
   "cell_type": "code",
   "execution_count": null,
   "metadata": {},
   "outputs": [],
   "source": []
  }
 ],
 "metadata": {
  "kernelspec": {
   "display_name": "Python 3",
   "language": "python",
   "name": "python3"
  },
  "language_info": {
   "codemirror_mode": {
    "name": "ipython",
    "version": 3
   },
   "file_extension": ".py",
   "mimetype": "text/x-python",
   "name": "python",
   "nbconvert_exporter": "python",
   "pygments_lexer": "ipython3",
   "version": "3.6.5"
  }
 },
 "nbformat": 4,
 "nbformat_minor": 4
}
